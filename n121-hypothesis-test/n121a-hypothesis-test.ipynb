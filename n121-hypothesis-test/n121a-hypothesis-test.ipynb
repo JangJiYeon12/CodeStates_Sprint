{
 "cells": [
  {
   "cell_type": "markdown",
   "metadata": {
    "colab_type": "text",
    "id": "Sa5KWMO1ngPN"
   },
   "source": [
    "<img src='https://i.imgur.com/RDAD11M.png' width = '200' align = 'right'>\n",
    "\n",
    "## *DATA SCIENCE / SECTION 1 / SPRINT 2 / NOTE 1*\n",
    "\n",
    "# 📝 Assignment\n",
    "\n",
    "# 실제 데이터에 t-test 적용하기"
   ]
  },
  {
   "cell_type": "markdown",
   "metadata": {
    "colab_type": "text",
    "id": "gZDO3KBZOJNp"
   },
   "source": [
    "## One-Sample T-tests 연습\n",
    "\n",
    "One Sample t-tests는, 표본의 평균이 모집단의 평균**값**과 일치하는지를 확인하는 방법입니다.\n",
    "\n",
    "### 1) 데이터 불러오기\n",
    "- [서울시 가로수 데이터셋](https://data.seoul.go.kr/dataList/367/S/2/datasetView.do)을 사용합니다."
   ]
  },
  {
   "cell_type": "code",
   "execution_count": null,
   "metadata": {
    "colab": {},
    "colab_type": "code",
    "id": "cj-d0_8wWJjj"
   },
   "outputs": [],
   "source": [
    "### 코드를 작성하세요"
   ]
  },
  {
   "cell_type": "markdown",
   "metadata": {
    "colab_type": "text",
    "id": "FD-Pk07-Z-xk"
   },
   "source": [
    "### 2) 위 데이터에서 임의의 10개 구를 선택하세요. \n",
    "\n",
    "- df.sample()를 사용하여 랜덤한 10개의 구를 선택하세요. 단, 과제의 동일한 결과를 위해 `random_state`라는 파라미터(시드)의 값은 30을 사용해야합니다. \n",
    "\n",
    "전체 데이터 (서울시, 공원녹지사업소, 시설관리공단 제외) 의 평균 `양버즘나무` 값과, 샘플링된 데이터의 `양버즘나무`의 값을 비교하여 1-sample t-test를 시행하세요. 어떠한 결론이 나오나요?"
   ]
  },
  {
   "cell_type": "code",
   "execution_count": null,
   "metadata": {
    "colab": {},
    "colab_type": "code",
    "id": "6qXiJGTwdG2N"
   },
   "outputs": [],
   "source": [
    "### 코드를 작성하세요"
   ]
  },
  {
   "cell_type": "markdown",
   "metadata": {
    "colab_type": "text",
    "id": "oxsx9cN7dUPp"
   },
   "source": [
    "서울시 공무원 A씨는 서울시에는 구별로 평균적으로 약 400 그루 정도의 `이팝나무`가 있다고 했습니다. 해당 주장을 앞에서 뽑은 샘플데이터를 바탕으로 확인해보세요."
   ]
  },
  {
   "cell_type": "code",
   "execution_count": null,
   "metadata": {
    "colab": {},
    "colab_type": "code",
    "id": "6pXyclB9ZXCn"
   },
   "outputs": [],
   "source": [
    "### 코드를 작성하세요"
   ]
  },
  {
   "cell_type": "markdown",
   "metadata": {
    "colab_type": "text",
    "id": "yAkyHaEnbNYa"
   },
   "source": [
    "이번에는 20개의 구를 샘플링하여, 서울시 공무원 A씨의 주장을 다시 한번 확인해보세요. 이전과 동일한 결과를 얻었나요?"
   ]
  },
  {
   "cell_type": "code",
   "execution_count": null,
   "metadata": {
    "colab": {},
    "colab_type": "code",
    "id": "Y3H81uMubpLh"
   },
   "outputs": [],
   "source": [
    "### 코드를 작성하세요"
   ]
  },
  {
   "cell_type": "markdown",
   "metadata": {
    "colab_type": "text",
    "id": "sDO-ufMDfpVA"
   },
   "source": [
    "왜 두 t-test의 결론이 동일한 데이터셋임에도 불구하고 다른 결론이 나왔나요?"
   ]
  },
  {
   "cell_type": "markdown",
   "metadata": {
    "colab_type": "text",
    "id": "TPT-ZTt0PuIk"
   },
   "source": [
    "## 2-Sample T-tests 연습\n",
    "\n",
    "2 sample t-test는 2개의 샘플의 평균이 통계적으로 유의미하게 다른지를 검증합니다.\n",
    "\n",
    "이번에는 [서울시 생필품 농수축산물 가격정보](https://data.seoul.go.kr/dataList/OA-1170/S/1/datasetView.do) 데이터셋을 사용하겠습니다."
   ]
  },
  {
   "cell_type": "markdown",
   "metadata": {
    "colab_type": "text",
    "id": "PvFVLwekQxLH"
   },
   "source": [
    "### 1) 데이터 불러오기\n",
    "\n",
    "이 데이터는 여러 기간을 포함 하고 있으며, 다른 시장(전통시장, 대형마트)에 대해서 생필품에 대한 가격 정보를 포함 하고 있습니다.\n",
    "\n",
    "데이터의 수가 너무 많기 때문에, 필터를 통해서 필드명을 `자치구 이름`, 그리고 검색명을 원하는 구 ex) `송파구` 로 선택하여 다운로드 받으세요.\n",
    "\n",
    "1) 생필품의 항목에는 \n",
    "\n",
    "- 사과, 배, 배추, 무, 양파, 상추, 오이, 호박, 쇠고기, 돼지고기, 닭고기, 달걀 (30개), 조기, 명태, 오징어, 고등어가 있지만\n",
    "- 금액 계산의 편의를 위하여 쇠고기, 돼지고기를 제외한 항목을 사용합니다.\n",
    "\n",
    "2) 시장 유형 구분을 통해, 전통시장과 대형마트에 대한 가격만을 비교합니다.\n",
    "\n",
    "즉, \n",
    "\n",
    "| 대형마트 | 전통시장 |\n",
    "| :--- | :--- |\n",
    "| 마트1(사과) | 시장1(사과) |\n",
    "| 마트1(...) | 시장1(...) |\n",
    "| 마트1(고등어) | 시장1(고등어) |\n",
    "| 마트2(사과) | 시장2(사과) |\n",
    "| 마트2(...) | 시장2(...) |\n",
    "| 마트2(고등어) | 시장2(고등어) |\n",
    "|...|...|\n",
    "| 마트n(사과) | 시장n(사과) |\n",
    "| 마트n(...) | 시장n(...) |\n",
    "| 마트n(고등어) | 시장n(고등어) |\n",
    "\n",
    "에 대한 데이터를 비교 하는것이 이번 과제의 목표입니다.\n"
   ]
  },
  {
   "cell_type": "code",
   "execution_count": null,
   "metadata": {
    "colab": {},
    "colab_type": "code",
    "id": "__qLGHt5fXvU"
   },
   "outputs": [],
   "source": [
    "### 코드를 작성하세요"
   ]
  },
  {
   "cell_type": "markdown",
   "metadata": {
    "colab_type": "text",
    "id": "f20v73e3RLAV"
   },
   "source": [
    "### 2) 2 sample t-test를 시행하세요.\n",
    "\n",
    "- 전통시장에서 더 가격이 싼 생필품을 확인하세요.\n",
    "- 그 반대의 경우, 대형마트에서 더 많이 발견 되는 항목 또한 확인하세요.\n",
    "- 두 경우에 대해서 크게 차이가 나지 않는 (p value > 0.1)인 항목을 확인하세요.\n",
    "\n",
    "각 경우에 대해서, 귀무가설과 대립가설을 정한 뒤 t-test를 시행하고, 가설에 대한 결론을 작성하세요.\n",
    "\n",
    "주의 할 점으로, 2-sample t-test는 단지 2 그룹간에 평균이 *다르다* 는 것만 확인 할 수 있습니다. 크다 작다의 부분은 t-통계치의 부호를 가지고 판단 할 수 있으며 추후에 배우게 될 것입니다."
   ]
  },
  {
   "cell_type": "code",
   "execution_count": null,
   "metadata": {
    "colab": {},
    "colab_type": "code",
    "id": "bCE3UgpbP69p"
   },
   "outputs": [],
   "source": [
    "### 코드를 작성하세요"
   ]
  },
  {
   "cell_type": "markdown",
   "metadata": {
    "colab_type": "text",
    "id": "C5pkmOuKgK9Y"
   },
   "source": [
    "## 🔥 도전 과제:\n",
    "\n",
    "### 1) 함수와 반복문을 사용하여 (for loop, .apply(), list 등등) 생필품 데이터셋의 모든 자치구에 대해서 two-sample t-test를 시행하세요."
   ]
  },
  {
   "cell_type": "code",
   "execution_count": null,
   "metadata": {
    "colab": {},
    "colab_type": "code",
    "id": "z7c7K322gLeN"
   },
   "outputs": [],
   "source": [
    "### 코드를 작성하세요"
   ]
  },
  {
   "cell_type": "markdown",
   "metadata": {
    "colab_type": "text",
    "id": "wcA_AvvRAqW_"
   },
   "source": [
    "### 2) Scipy 를 사용하지 않고 t-test를 시행하여보세요\n",
    "\n",
    "### 1-sample t-test\n",
    " - 테스트를 위한 컨디션 설정\n",
    " - [T 통계치 계산](https://blog.minitab.com/hs-fs/hubfs/Imported_Blog_Media/701f9c0efa98a38fb397f3c3ec459b66.png?width=247&height=172&name=701f9c0efa98a38fb397f3c3ec459b66.png) (이 경우 NaN 값들을 생략해야합니다).\n",
    " - T-통계치를 P-value로 변환하세요. 다음 [테이블](https://www.google.com/search?q=t+statistic+table)을 참조하거나 [University of Iowa Applet](https://homepage.divms.uiowa.edu/~mbognar/applets/t.html)을 사용하면 좋습니다.\n",
    "\n",
    "### Scipy의 결과물과 비교하여 보세요"
   ]
  },
  {
   "cell_type": "code",
   "execution_count": null,
   "metadata": {
    "colab": {},
    "colab_type": "code",
    "id": "3pdMy-KoPjoM"
   },
   "outputs": [],
   "source": [
    "### 코드를 작성하세요"
   ]
  },
  {
   "cell_type": "markdown",
   "metadata": {
    "colab_type": "text",
    "id": "3114xDdlPjFx"
   },
   "source": [
    "### 3) 2-sample t-test\n",
    " - 테스트를 위한 컨디션을 설정하세요.\n",
    " - [T 통계치 계산](https://lh3.googleusercontent.com/proxy/rJJ5ZOL9ZDvKOOeBihXoZDgfk7uv1YsRzSQ1Tc10RX-r2HrRpRLVqlE9CWX23csYQXcTniFwlBg3H-qR8MKJPBGnjwndqlhDX3JxoDE5Yg) (이 경우 NaN 값들을 생략해야합니다).\n",
    " - T-통계치를 P-value로 변환하세요. 다음 [테이블](https://www.google.com/search?q=t+statistic+table)을 참조하거나 [University of Iowa Applet](https://homepage.divms.uiowa.edu/~mbognar/applets/t.html)을 사용하면 좋습니다.\n",
    "\n",
    "### Scipy의 결과물과 비교하여 보세요"
   ]
  },
  {
   "cell_type": "code",
   "execution_count": null,
   "metadata": {
    "colab": {},
    "colab_type": "code",
    "id": "dPmXOHh1Cfea"
   },
   "outputs": [],
   "source": [
    "### 코드를 작성하세요"
   ]
  }
 ],
 "metadata": {
  "colab": {
   "include_colab_link": true,
   "name": "n121a-hypothesis-test.ipynb",
   "provenance": []
  },
  "kernelspec": {
   "display_name": "Python 3",
   "language": "python",
   "name": "python3"
  },
  "language_info": {
   "codemirror_mode": {
    "name": "ipython",
    "version": 3
   },
   "file_extension": ".py",
   "mimetype": "text/x-python",
   "name": "python",
   "nbconvert_exporter": "python",
   "pygments_lexer": "ipython3",
   "version": "3.8.5"
  }
 },
 "nbformat": 4,
 "nbformat_minor": 4
}
