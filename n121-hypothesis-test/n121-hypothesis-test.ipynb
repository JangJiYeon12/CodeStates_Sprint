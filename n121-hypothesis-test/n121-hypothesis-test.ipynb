{
  "nbformat": 4,
  "nbformat_minor": 0,
  "metadata": {
    "colab": {
      "name": "n121-hypothesis-test.ipynb",
      "provenance": [],
      "toc_visible": true,
      "include_colab_link": true
    },
    "kernelspec": {
      "display_name": "Python 3",
      "language": "python",
      "name": "python3"
    },
    "language_info": {
      "codemirror_mode": {
        "name": "ipython",
        "version": 3
      },
      "file_extension": ".py",
      "mimetype": "text/x-python",
      "name": "python",
      "nbconvert_exporter": "python",
      "pygments_lexer": "ipython3",
      "version": "3.8.5"
    }
  },
  "cells": [
    {
      "cell_type": "markdown",
      "metadata": {
        "id": "view-in-github",
        "colab_type": "text"
      },
      "source": [
        "<a href=\"https://colab.research.google.com/github/codestates/ds-cs-section1-sprint2/blob/master/n121-hypothesis-test/n121_hypothesis_test.ipynb\" target=\"_parent\"><img src=\"https://colab.research.google.com/assets/colab-badge.svg\" alt=\"Open In Colab\"/></a>"
      ]
    },
    {
      "cell_type": "markdown",
      "metadata": {
        "id": "eJGtmni-DezY"
      },
      "source": [
        "<img src='https://i.imgur.com/RDAD11M.png' width = '200' align = 'right'>\n",
        "\n",
        "## *DATA SCIENCE / SECTION 1 / SPRINT 2 / NOTE 1*\n",
        "\n",
        "---\n",
        "\n",
        "# Hypothesis Test\n",
        "\n",
        "## 🏆 학습 목표 \n",
        "\n",
        "- Estimation / Sampling의 목적과 방법에 대해서 이해한다.\n",
        "- 가설검정에 대해서 이해한다.\n",
        "- T-test의 목적과 사용예시를 설명할 수 있다.\n",
        "\n",
        "\n",
        "---"
      ]
    },
    {
      "cell_type": "markdown",
      "metadata": {
        "id": "WOXkk77hbeP5"
      },
      "source": [
        "## 기술 통계치(Descriptive Statistics)란?\n",
        "\n",
        "<https://drhongdatanote.tistory.com/25>\n",
        "\n",
        "- count, mean, standard dev, min, 1Q, median, 3Q, max 등의\n",
        "- 데이터를 **설명** 하는 값(혹은 통계치)들\n",
        "\n"
      ]
    },
    {
      "cell_type": "markdown",
      "metadata": {
        "id": "WYzyRzxCqJcn"
      },
      "source": [
        "### 기술 통계치의 시각화 \n",
        "\n",
        "- boxplot으로 표기 할 수 있음.\n",
        "\n",
        "<img src='https://www.simplypsychology.org/boxplot.jpg?ezimgfmt=rs:382x196/rscb24/ng:webp/ngcb24' width = 500>\n",
        "\n",
        "- bagplot\n",
        "\n",
        "<img src='https://upload.wikimedia.org/wikipedia/commons/thumb/9/9f/Bagplot.png/300px-Bagplot.png' width = 500>\n",
        "\n",
        "- violin plot\n",
        "\n",
        "<img src='https://miro.medium.com/max/1040/1*TTMOaNG1o4PgQd-e8LurMg.png' >"
      ]
    },
    {
      "cell_type": "code",
      "metadata": {
        "id": "aGsGGy4Mb9IG"
      },
      "source": [
        "import pandas as pd\n",
        "df = pd.DataFrame({'a': [1,2,3,4,5], 'b': [2,4,6,8,10]})\n",
        "df.describe()"
      ],
      "execution_count": null,
      "outputs": []
    },
    {
      "cell_type": "markdown",
      "metadata": {
        "id": "OCFcGfYRowzR"
      },
      "source": [
        "- Mean / Median / Mode\n",
        "- Range\n",
        "- Var / SD\n",
        "- Kurtosis \n",
        "- Skewness"
      ]
    },
    {
      "cell_type": "markdown",
      "metadata": {
        "id": "wtobOQescQU6"
      },
      "source": [
        "## 추리 통계치(Inferetial Statistics)란?\n",
        "\n",
        "<img src='https://i.imgur.com/YZWGI8e.png' width = '500'>\n",
        "\n",
        "- Population\n",
        "- Parameter\n",
        "- Statistic\n",
        "- Estimator\n",
        "- Standard Deviation\n",
        "- Standard Error\n"
      ]
    },
    {
      "cell_type": "code",
      "metadata": {
        "id": "bLyQWSNaGRLS"
      },
      "source": [
        "import numpy as np\n",
        "v = np.random.randint(0, 100, 20)\n",
        "\n",
        "pd.DataFrame(v).describe()"
      ],
      "execution_count": null,
      "outputs": []
    },
    {
      "cell_type": "code",
      "metadata": {
        "id": "CBl_eCVNN3ZY"
      },
      "source": [
        "np.arange(0,100, 1).mean()"
      ],
      "execution_count": null,
      "outputs": []
    },
    {
      "cell_type": "markdown",
      "metadata": {
        "id": "990-Z47ol6Ar"
      },
      "source": [
        "### Effective Sampling\n",
        "\n",
        "sampling 기법에는 여러가지 방법들이 있습니다.\n",
        "\n",
        "<img src='https://i.imgur.com/6ryy4RF.png'>\n",
        "\n",
        "1. Simple random sampling\n",
        "\n",
        "모집단에서 sampling을 무작위로 하는 방법입니다.\n",
        "\n",
        "<img src='https://i.imgur.com/Katg3eS.png'>\n",
        "\n",
        "2. Systematic sampling\n",
        "\n",
        "모집단에서 sampling을 할 때 규칙을 가지고 추출하는 방법입니다.\n",
        "ex) 1, 6, 11, 16, ... 번째의 데이터를 선택\n",
        "\n",
        "<img src='https://i.imgur.com/G0n76HL.png'>\n",
        "\n",
        "3. Stratified random sampling\n",
        "\n",
        "모집단을 미리 여러 그룹으로 나누고, 그 그룹별로 무작위 추출을 수행하는 방법입니다.\n",
        "ex) 여론 조사를 위해 사람을 나이대 별로 나누고, 해당 그룹안에서 무작위 추출.\n",
        "\n",
        "<img src='https://i.imgur.com/zN8jXow.png'>\n",
        "\n",
        "4. Cluster sampling\n",
        "모집단을 미리 여러 그룹으로 나누고, 이후 특정 그룹을 무작위로 선택하는 방법입니다.\n"
      ]
    },
    {
      "cell_type": "markdown",
      "metadata": {
        "id": "zsb1KMUSc2xe"
      },
      "source": [
        "## 가설 검정\n",
        "\n",
        "<https://en.wikipedia.org/wiki/Statistical_hypothesis_testing>\n",
        "\n",
        "- 주어진 상황에 대해서, 하고자 하는 주장이 맞는지 아닌지를 판정하는 과정.\n",
        "- 모집단의 실제 값에 대한 sample의 통계치를 사용해서 통계적으로 유의한지 아닌지 여부를 판정함.\n"
      ]
    },
    {
      "cell_type": "markdown",
      "metadata": {
        "id": "u0ztQ-zMGRLV"
      },
      "source": [
        "<img src='https://i.imgur.com/dQvsm36.png' width = '400'>\n",
        "\n",
        "---\n",
        "\n",
        "<img src='https://i.imgur.com/c4chdg0.png' width = '250'>\n"
      ]
    },
    {
      "cell_type": "code",
      "metadata": {
        "id": "cPn_nCwv2g8u"
      },
      "source": [
        "np.random.seed(1111) \n",
        "\n",
        "df = pd.DataFrame({'coinflips': np.random.binomial(n = 1, p = 0.5, size = 10)})\n",
        "\n",
        "df.hist();"
      ],
      "execution_count": null,
      "outputs": []
    },
    {
      "cell_type": "markdown",
      "metadata": {
        "id": "uckTDVzW2mI9"
      },
      "source": [
        "`np.random.seed`가 어떤 의미를 가지고 있을까요?"
      ]
    },
    {
      "cell_type": "code",
      "metadata": {
        "id": "MruqBL-V2lmk"
      },
      "source": [
        "# 우연성에 따른 다른 결과\n",
        "\n",
        "anotherCoin = np.random.binomial(n = 1, p = 0.5, size = 10)\n",
        "anotherCoin2 = np.random.binomial(n = 1, p = 0.5, size = 10)\n",
        "\n",
        "pd.DataFrame(anotherCoin).hist();\n",
        "pd.DataFrame(anotherCoin2).hist();"
      ],
      "execution_count": null,
      "outputs": []
    },
    {
      "cell_type": "markdown",
      "metadata": {
        "id": "xg-71rfp23Pn"
      },
      "source": [
        "❓샘플의 사이즈가 결과에 미치는 영향"
      ]
    },
    {
      "cell_type": "code",
      "metadata": {
        "id": "C9SjxA0z3FdT"
      },
      "source": [
        "# 더 많은 정보 -> 무작위성을 고려하더라도 더 높은 신뢰성\n",
        "\n",
        "pd.DataFrame(np.random.binomial(n = 1, p = 0.5, size = 100)).hist();\n",
        "pd.DataFrame(np.random.binomial(n = 1, p = 0.5, size = 1000)).hist();\n"
      ],
      "execution_count": null,
      "outputs": []
    },
    {
      "cell_type": "markdown",
      "metadata": {
        "id": "bohfYwWc624k"
      },
      "source": [
        "### 표본 평균의 표준 오차 ( Standard Error of the Sample Mean )\n",
        "\n",
        "<img src='https://i.imgur.com/WuJp6ks.png' width = '400'>\n",
        "\n",
        "![Standard Error of the Sample Mean](https://jungminded.weebly.com/uploads/1/3/5/8/13582285/7285766_orig.jpeg?160)\n",
        "\n",
        "s (우측) = 표본의 표준편차 (sample standard deviation)\n",
        "\n",
        "n = 표본의 수 (sample size)"
      ]
    },
    {
      "cell_type": "markdown",
      "metadata": {
        "id": "7f7Rw9fF3V3k"
      },
      "source": [
        "**결론: 표본의 수가 더욱 많아질수록, 추측은 더 정확해지고 (평균) 높은 신뢰도를 바탕으로 모집단에 대해 예측 할 수 있도록 함**\n"
      ]
    },
    {
      "cell_type": "markdown",
      "metadata": {
        "id": "czxY7YFLqSnF"
      },
      "source": [
        "## Student T-test"
      ]
    },
    {
      "cell_type": "markdown",
      "metadata": {
        "id": "BoAazT-O3-Wm"
      },
      "source": [
        "### One Sample t-test\n",
        "\n",
        "1개의 sample 값들의 **평균**이 **특정값**과 동일한지 비교.\n",
        "\n",
        "예) 동전이 공정한지 확인하려고 할때 : $p(x = H)$ = 0.5 \n",
        "\n",
        "- 모집단에 대한 정보와 표본의 데이터를 비교 \n",
        "\n",
        "![One Sample T Statistic](https://www.statisticshowto.com/wp-content/uploads/2015/09/t-score.jpg)\n",
        "\n",
        "\n",
        "- 위 통계치는, 평균을 빼고, 표준편차로 나눠줬는데 이러한 과정을 정규화라고 하며, 이 과정을 하게 되면\n",
        "\n",
        "- 주어진 데이터가 평균은 0, 표준편차가 1인 데이터로 scaling이 된다.\n",
        "\n",
        "\n",
        "<img src='https://i.imgur.com/c4chdg0.png' width = '250'>"
      ]
    },
    {
      "cell_type": "code",
      "metadata": {
        "id": "JgYS4hD_GRLg"
      },
      "source": [
        "coinflips = np.random.binomial(n = 1, p = 0.55, size = 10)\n",
        "coinflips"
      ],
      "execution_count": null,
      "outputs": []
    },
    {
      "cell_type": "markdown",
      "metadata": {
        "id": "J_229CQ-4Wx6"
      },
      "source": [
        "### T-test Process\n",
        "\n",
        "1) 귀무 가설 (Null Hypothesis) 를 설정 (fair coin, **p = 0.5**)\n",
        "\n",
        "$H_0: \\mu = \\bar{x}$\n",
        "\n",
        "$\\mu =$ 모집단의 평균\n",
        "\n",
        "$\\bar{x} =$ 표본의 평균\n",
        "\n",
        "2) 대안 가설 (Alternative Hypothesis) 를 설정 (not fair coin, **p != 0.5**)\n",
        "\n",
        "$H_1: \\mu \\neq \\bar{x}$\n",
        "\n",
        "3) 신뢰도를 설정 (Confidence Level) : 모수가 신뢰구간 안에 포함될 확률 (보통 95, 99% 등을 사용)\n",
        "\n",
        "> 신뢰도 95%의 의미 \n",
        "> \n",
        "> = 모수가 신뢰 구간 안에 포함될 확률이 95%\n",
        ">\n",
        "> = 귀무가설이 틀렸지만 우연히 성립할 확률이 5%\n",
        "\n",
        "<img src='https://s3-us-west-2.amazonaws.com/courses-images/wp-content/uploads/sites/1888/2017/05/11170654/3168.png' width = '400'>\n",
        "\n",
        "4) P-value를 확인 \n",
        "\n",
        "> P-value 는, 주어진 가설에 대해서 \"얼마나 근거가 있는지\"에 대한 값을\n",
        "> \n",
        "> 0과 1사이의 값으로 scale한 **지표** 이며 \n",
        "> \n",
        "> p-value가 낮다는 것은, 귀무가설이 틀렸을 확률이 높다.\n",
        "\n",
        "예를 들어서 p-value가 0.05다. -> 우리가 뽑은 샘플 데이터로 낼 수 있는 결론이\n",
        "\n",
        "귀무 가설이 (틀렸지만 우연히 맞을 확률) 확률이 0.05다 \n",
        "\n",
        ": 귀무가설은 틀렸다\n",
        "\n",
        "5) 이후 p-value를 바탕으로 가설에 대해 결론을 내림 "
      ]
    },
    {
      "cell_type": "markdown",
      "metadata": {
        "id": "towlNvHgUsMC"
      },
      "source": [
        "#### T-test with Scipy \n",
        "\n",
        "<https://docs.scipy.org/doc/scipy/reference/generated/scipy.stats.ttest_1samp.html>"
      ]
    },
    {
      "cell_type": "markdown",
      "metadata": {
        "id": "9atzv3K4VRsv"
      },
      "source": [
        "### P-value의 기준\n",
        "\n",
        "<https://en.wikipedia.org/wiki/P-value>\n",
        "\n",
        "1) pvalue < 0.01 : 귀무가설이 옳을 확률이 1%이하 -> 틀렸다 (깐깐한 기준)\n",
        "2) pvalue < 0.05 (5%) : 귀무가설이 옳을 확률이 5%이하 -> 틀렸다 (일반적인 기준)\n",
        "\n",
        "2.5) 0.05 ~ pvalue ~ 0.1 사이인 경우: (애매함)\n",
        "\n",
        "- 실험을 다시한다.\n",
        "- 데이터를 다시 뽑는다.\n",
        "- 샘플링을 다시한다\n",
        "- 기존의 경험 / 인사이트를 바탕으로 가설에 대한 결론을 내린다.\n",
        "\n",
        "3) pvalue > 0.1 (10%) : 귀무가설이 옳을 확률이 10%이상인데 -> 귀무가설이 맞다 ~ 틀리지 않았을것이다 \n",
        "\n",
        "ex) `p-value : 0.85` --> 귀무가설은 **틀리지 않았다.** (귀무가설이 옳다와 톤이 약간 다름)\n"
      ]
    },
    {
      "cell_type": "code",
      "metadata": {
        "id": "2gDTFUH14mtN"
      },
      "source": [
        "\n",
        "np.random.seed(1111)\n",
        "\n",
        "coinflips = np.random.binomial(n = 1, p = 0.5, size = 1000)\n",
        "\n",
        "print(np.mean(coinflips))"
      ],
      "execution_count": null,
      "outputs": []
    },
    {
      "cell_type": "markdown",
      "metadata": {
        "id": "bxK2WQ2KV9Fd"
      },
      "source": [
        "이 데이터를 바탕으로 p = 0.5인지 에 대해서 가설 검정을 하고 싶다 ??"
      ]
    },
    {
      "cell_type": "code",
      "metadata": {
        "id": "Wtm4l5MHVwWW"
      },
      "source": [
        "from scipy import stats\n",
        "\n",
        "# ttest_1samp 함수의 파라미터 1) Sample 데이터, 2) 비교하려는 값\n",
        "\n",
        "stats.ttest_1samp(coinflips, .5)"
      ],
      "execution_count": null,
      "outputs": []
    },
    {
      "cell_type": "code",
      "metadata": {
        "id": "_KcMjtNCWB-u"
      },
      "source": [
        "print(stats.ttest_1samp(np.random.binomial(n = 1, p = 0.6, size = 10), .5))\n",
        "print(stats.ttest_1samp(np.random.binomial(n = 1, p = 0.6, size = 100), .5))\n",
        "print(stats.ttest_1samp(np.random.binomial(n = 1, p = 0.6, size = 1000), .5))"
      ],
      "execution_count": null,
      "outputs": []
    },
    {
      "cell_type": "markdown",
      "metadata": {
        "id": "8bYicU50UkbV"
      },
      "source": [
        "**p-value가 (1-Confidence)보다 낮은 경우, 귀무가설을 기각하고 대안 가설을 채택함**"
      ]
    },
    {
      "cell_type": "markdown",
      "metadata": {
        "id": "5coUBPtVGRLm"
      },
      "source": [
        "### One-side test vs Two-side test\n",
        "\n",
        "Two side (tail / direction) test : 샘플 데이터의 평균이 \"X\"와 같다 / 같지 않다. 를 검정하는 내용\n",
        "\n",
        "One side test : 샘플 데이터의 평균이 \"X\"보다 크다 혹은 작다 / 크지 않다 작지 않다. 를 검정하는 내용"
      ]
    },
    {
      "cell_type": "markdown",
      "metadata": {
        "id": "Mo5NFEDr5JiI"
      },
      "source": [
        "### Two Sample T-test\n",
        "\n",
        "2개의 sample 값들의 **평균**이 **서로** 동일한지 비교.\n",
        "\n",
        "2개의 동전 (500원짜리 vs 100원짜리)을 여러번 던져서 p(H)의 평균이 유사한 지 \n",
        "\n",
        "1) 귀무가설 : 두 확률은 같다 (차이가 없다).\n",
        "\n",
        "$H_0: \\bar{x}_1 = \\bar{x}_2$\n",
        "\n",
        "2) 대안가설 : 같지 않다\n",
        "\n",
        "$H_1: \\bar{x}_1 \\neq \\bar{x}_2$\n",
        "\n",
        "3) 신뢰도 : 95%\n",
        "\n"
      ]
    },
    {
      "cell_type": "code",
      "metadata": {
        "id": "wyROciT7GRLn"
      },
      "source": [
        "np.random.seed(111)\n",
        "\n",
        "coin1 = np.random.binomial(n = 1, p = 0.5, size = 500)\n",
        "coin2 = np.random.binomial(n = 1, p = 0.5, size = 200)\n",
        "\n",
        "print(np.mean(coin1))\n",
        "print(np.mean(coin2))\n",
        "\n",
        "stats.ttest_ind(coin1, coin2) "
      ],
      "execution_count": null,
      "outputs": []
    },
    {
      "cell_type": "code",
      "metadata": {
        "id": "Agwe-XPYZDO0"
      },
      "source": [
        "np.random.seed(111)\n",
        "\n",
        "coin1 = np.random.binomial(n = 1, p = 0.6, size = 500)\n",
        "coin2 = np.random.binomial(n = 1, p = 0.5, size = 200)\n",
        "\n",
        "print(np.mean(coin1))\n",
        "print(np.mean(coin2))\n",
        "\n",
        "stats.ttest_ind(coin1, coin2) "
      ],
      "execution_count": null,
      "outputs": []
    },
    {
      "cell_type": "markdown",
      "metadata": {
        "id": "nqPkBMiN5T4z"
      },
      "source": [
        "### T-test 연습.\n",
        "\n",
        "🌳 **서울시 가로수 현황 통계** 데이터셋을 사용합니다.\n",
        "\n",
        "<https://data.seoul.go.kr/dataList/367/S/2/datasetView.do> 참조\n",
        "\n",
        "<img src='https://user-images.githubusercontent.com/6457691/89749067-3e022680-db01-11ea-80e6-9ed0b644dc3b.png' width='600'>"
      ]
    },
    {
      "cell_type": "code",
      "metadata": {
        "id": "LSJAoKtm5pQO"
      },
      "source": [
        "import pandas as pd\n",
        "\n",
        "trees = pd.read_csv('https://ds-lecture-data.s3.ap-northeast-2.amazonaws.com/seoul_tree/seoul_tree.txt', sep = '\\t', skiprows = 1)\n",
        "\n",
        "trees = trees.replace({'-':0})\n",
        "\n",
        "print(trees.head())"
      ],
      "execution_count": null,
      "outputs": []
    },
    {
      "cell_type": "code",
      "metadata": {
        "id": "WPLZmTWTGRLt"
      },
      "source": [
        "tree1 = pd.to_numeric(trees['은행나무'].str.replace(',','')) # 은행나무 데이터\n",
        "tree2 = pd.to_numeric(trees['느티나무'].str.replace(',','')) # 느티나무 데이터\n",
        "\n",
        "print(tree1.head())\n",
        "print(tree2.head())"
      ],
      "execution_count": null,
      "outputs": []
    },
    {
      "cell_type": "markdown",
      "metadata": {
        "id": "bhSw-lIKGRLv"
      },
      "source": [
        "#### 1-sample t-test : 은행나무의 평균\n",
        "\n",
        "1) 같다\n",
        "\n",
        "2) 같지 않다\n",
        "\n",
        "3) 95%\n",
        "\n",
        "4), 5) 생략\n"
      ]
    },
    {
      "cell_type": "code",
      "metadata": {
        "id": "ANqESFkRGRLv"
      },
      "source": [
        "print(np.mean(tree1))\n",
        "\n",
        "# P-value가 높다 라는 건 귀무가설이 옳을 가능성이 높다.\n",
        "\n",
        "# 1-0.95 = 0.05 보다 작을때 귀무가설을 무시한다 라는 결론을 낼수 있다.\n",
        "\n",
        "# 신뢰도를 99.999% 1-0.99999 ~ 0.000001 95% 혹은 99% 를 사용할거다 -> 귀무가설 판단의 기준이 p value 0.05 / 0.01이 기준이 될 것이다.\n",
        "\n",
        "print(stats.ttest_1samp(tree1, 20000))\n",
        "print(stats.ttest_1samp(tree1, 8000))\n",
        "print(stats.ttest_1samp(tree1, 7800))\n",
        "print(stats.ttest_1samp(tree1, 5000))\n",
        "print(stats.ttest_1samp(tree1, 4000))"
      ],
      "execution_count": null,
      "outputs": []
    },
    {
      "cell_type": "markdown",
      "metadata": {
        "id": "Yr4_DfuGGRLy"
      },
      "source": [
        "#### 2-sample t-test : 은행나무 VS 느티나무"
      ]
    },
    {
      "cell_type": "code",
      "metadata": {
        "id": "6d8Ht1w6gpxb"
      },
      "source": [
        "np.mean(tree2)"
      ],
      "execution_count": null,
      "outputs": []
    },
    {
      "cell_type": "markdown",
      "metadata": {
        "id": "BaCgPaoukJ6k"
      },
      "source": [
        "결과가 어떠한 형태가 나올지 예상이 되시나요?? \n",
        "\n",
        "pvalue는 어디쯤에 있을 것 같다 : \n",
        "- 0 ~ 0.05 \n",
        "- 0.05 ~ 0.1\n",
        "- 0.1이상"
      ]
    },
    {
      "cell_type": "code",
      "metadata": {
        "id": "7bl2PrcQGRLz"
      },
      "source": [
        "stats.ttest_ind(tree1,tree2) "
      ],
      "execution_count": null,
      "outputs": []
    }
  ]
}