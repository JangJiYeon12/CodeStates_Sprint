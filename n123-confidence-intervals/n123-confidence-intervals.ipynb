{
 "cells": [
  {
   "cell_type": "markdown",
   "metadata": {
    "colab_type": "text",
    "id": "838Dmw1kM2LK"
   },
   "source": [
    "<img src='https://i.imgur.com/RDAD11M.png' width = '200' align = 'right'>\n",
    "\n",
    "## *DATA SCIENCE / SECTION 1 / SPRINT 2 / NOTE 3*\n",
    "\n",
    "---\n",
    "\n",
    "# Confidence Intervals\n",
    "\n",
    "## 🏆 학습 목표 \n",
    "\n",
    "- 통계적 추론, 예측, 그리고 표준 오차에 대해서 설명 할 수 있다.\n",
    "- CLT의 의미에 대해서 설명 할 수 있다.\n",
    "- 신뢰구간의 목적과 사용 예시에 대해 설명 할 수 있다.\n",
    "- 추정된 통계치에 대해서 신뢰구간을 계산 할 수 있다.\n",
    "- 신뢰구간에 대한 표본 오차를 설명하고 이를 시각화 할 수 있다. \n",
    "\n",
    "## ❓ 시작하기전에\n",
    "\n",
    "- 분석에 많은 데이터를 사용 하는 것은 어떤 장단점이 있을까요?\n",
    "- 아래와 같이 여론조사에서 **자주 사용되는** 문구는 실제로 어떠한 뜻을 담고 있을까요?\n",
    "\n",
    "> 이번 여론조사는 TBS 의뢰로 리얼미터가 7일 하루 동안 전국 18세 이상 성인 6706명을 접촉해 500명의 응답을 받아 이뤄졌다. 신뢰 수준 95%에 표본 오차는 ±4.4%포인트다.\n",
    "\n",
    "\n",
    "---\n",
    "\n"
   ]
  },
  {
   "cell_type": "markdown",
   "metadata": {
    "colab_type": "text",
    "id": "tACjTN94igL8"
   },
   "source": [
    "## 추론, 예측, 표준 오차"
   ]
  },
  {
   "cell_type": "markdown",
   "metadata": {
    "colab_type": "text",
    "id": "bvvPV-RJN2vA"
   },
   "source": [
    "## 중심극한정리 ( Central Limit Theorem, CLT )\n"
   ]
  },
  {
   "cell_type": "code",
   "execution_count": null,
   "metadata": {
    "colab": {},
    "colab_type": "code",
    "id": "FBLoOF8qOJeJ"
   },
   "outputs": [],
   "source": [
    "import numpy as np\n",
    "import matplotlib.pyplot as plt\n",
    "import pandas as pd\n",
    "\n",
    "sample_means = []\n",
    "\n",
    "for x in range(0,3000):\n",
    "  coinflips = np.random.binomial(n=1, p=.5, size=12) # Binomial 분포 데이터\n",
    "  one_sample = coinflips\n",
    "  sample_means.append(coinflips.mean())\n",
    "\n",
    "print(len(sample_means))\n",
    "print(pd.DataFrame(sample_means).describe())"
   ]
  },
  {
   "cell_type": "code",
   "execution_count": null,
   "metadata": {
    "colab": {},
    "colab_type": "code",
    "id": "rfeA06evOT2K"
   },
   "outputs": [],
   "source": [
    "df = pd.DataFrame({'single_sample': one_sample})\n",
    "\n",
    "print(len(df))\n",
    "\n",
    "print(df)\n",
    "\n",
    "df.head()"
   ]
  },
  {
   "cell_type": "code",
   "execution_count": null,
   "metadata": {
    "colab": {},
    "colab_type": "code",
    "id": "GlMSNFX6OmBV"
   },
   "outputs": [],
   "source": [
    "df.single_sample.hist();"
   ]
  },
  {
   "cell_type": "code",
   "execution_count": null,
   "metadata": {
    "colab": {},
    "colab_type": "code",
    "id": "Jie4ypgLOs5M"
   },
   "outputs": [],
   "source": [
    "ax = plt.hist(sample_means)\n",
    "plt.title('Distribution of 3000 sample means \\n (of 12 coinflips each)');"
   ]
  },
  {
   "cell_type": "markdown",
   "metadata": {
    "colab_type": "text",
    "id": "LsEAjc4rOylm"
   },
   "source": [
    "## ℹ️ CLT가 의미 하는 바는 다음과 같습니다. \n",
    "\n",
    "> 모집단 데이터의 분포가 어떠하던지에 관계 없이, \n",
    "**표본 데이터의 평균**은 표본의 수가 많아짐에 ($n \\rightarrow \\infty$) 에 따라 \n",
    "정규 분포에 가까워진다.\n",
    "\n",
    "- 위 예시의 경우 모집단은 binomial 분포입니다\n",
    "\n",
    "\n",
    "이는 가설 검증에 있어서 매우 중요한 의미를 가지며, 표본 데이터의 수가 증가함에 따라서 t-분포가 정규 분포에 근사 되는 이유입니다. \n"
   ]
  },
  {
   "cell_type": "code",
   "execution_count": null,
   "metadata": {
    "colab": {},
    "colab_type": "code",
    "id": "F15l-J788ApQ"
   },
   "outputs": [],
   "source": [
    "sample_means_small = []\n",
    "sample_means_large = []\n",
    "\n",
    "for x in range(0,3000):\n",
    "  coinflips_small = np.random.binomial(n=1, p=.5, size=20)\n",
    "  coinflips_large = np.random.binomial(n=1, p=.5, size=100)\n",
    "  one_small_sample = coinflips_small\n",
    "  one_small_large = coinflips_large\n",
    "  sample_means_small.append(coinflips_small.mean())\n",
    "  sample_means_large.append(coinflips_large.mean())\n",
    "\n",
    "print(len(sample_means_small))\n",
    "print(sample_means_small[0:10])"
   ]
  },
  {
   "cell_type": "code",
   "execution_count": null,
   "metadata": {
    "colab": {},
    "colab_type": "code",
    "id": "JdES8jXz8kAG"
   },
   "outputs": [],
   "source": [
    "import seaborn as sns\n",
    "fix, ax = plt.subplots()\n",
    "for sample in [sample_means_small, sample_means_large]:\n",
    "  sns.distplot(sample)"
   ]
  },
  {
   "cell_type": "markdown",
   "metadata": {
    "colab_type": "text",
    "id": "EYqo5vZZSFUr"
   },
   "source": [
    "## 평균의 표준 오차\n",
    "\n",
    "평균의 표준 오차란, 표본 평균의 **가상의** 분포에 대한 표준 편차 입니다. "
   ]
  },
  {
   "cell_type": "markdown",
   "metadata": {
    "colab_type": "text",
    "id": "nfdQf8QYUUmw"
   },
   "source": [
    "## 신뢰 구간의 설정 및 해석\n",
    "\n",
    "<img src='https://user-images.githubusercontent.com/6457691/89850359-2be9bc00-dbc5-11ea-9956-83fce6a2ca4c.png' width = 600> \n",
    "\n",
    "<img src=\"https://user-images.githubusercontent.com/6457691/89851000-71f34f80-dbc6-11ea-93d0-c875c39bed32.png\" width=500>"
   ]
  },
  {
   "cell_type": "code",
   "execution_count": null,
   "metadata": {
    "colab": {},
    "colab_type": "code",
    "id": "VhDub0YX--Uw"
   },
   "outputs": [],
   "source": [
    "from scipy import stats\n",
    "\n",
    "def confidence_interval(data, confidence=0.95):\n",
    "  \"\"\"\n",
    "  주어진 데이터의 표본 **평균**에 대한 신뢰구간을 계산.\n",
    "  기본 값으로 t-분포와 양방향 (two-tailed), 95%의 신뢰도를 사용합니다. \n",
    "  \n",
    "  입력 값 : \n",
    "    data - 여러 개로 이루어진 (list 혹은 numpy 배열) 표본 관측치\n",
    "    confidence - 신뢰구간을 위한 신뢰도 \n",
    "  \n",
    "  반환 되는 값:\n",
    "    (평균, 하한, 상한구간)으로 이루어진 tuple\n",
    "  \"\"\"\n",
    "  data = np.array(data)\n",
    "  mean = np.mean(data)\n",
    "  n = len(data)\n",
    "  stderr = stats.sem(data)\n",
    "  interval = stderr * stats.t.ppf((1 + confidence) / 2.0, n - 1)\n",
    "  return (mean, mean - interval, mean + interval)\n",
    "\n",
    "\n",
    "confidence_interval([1,2,3,1,2,3,1,2,3])\n",
    "\n",
    "# 표본 집단의 평균은 2.0이며, 모집단의 평균은 신뢰도 95%로 1.33 ~ 2.66사이에 존재"
   ]
  },
  {
   "cell_type": "markdown",
   "metadata": {
    "colab_type": "text",
    "id": "C4rtc8luVUAK"
   },
   "source": [
    "## 신뢰구간의 시각화\n"
   ]
  },
  {
   "cell_type": "code",
   "execution_count": null,
   "metadata": {
    "colab": {},
    "colab_type": "code",
    "id": "pz6F9_3_VmKr"
   },
   "outputs": [],
   "source": [
    "x = np.linspace(0,4,101)\n",
    "\n",
    "y = stats.norm(2, 0.75).pdf(x)\n",
    "\n",
    "plt.plot(x,y)\n",
    "plt.plot([2,2], [0,0.7], 'k-', lw = 2, color = 'red')\n",
    "plt.plot([1.334,1.334], [0,0.7], 'k-', lw = 2, color = 'green')\n",
    "plt.plot([2.666,2.666], [0,0.7], 'k-', lw = 2, color = 'green')\n"
   ]
  },
  {
   "cell_type": "markdown",
   "metadata": {},
   "source": [
    "## 🔥 위의 코드를 조금 변형해봅시다\n",
    "\n",
    "- 녹색, 적색 실선을 점선으로\n",
    "- 녹색, 적색 실선의 색상을 변경해보세요.\n"
   ]
  },
  {
   "cell_type": "markdown",
   "metadata": {
    "colab_type": "text",
    "id": "_oy0uoBGeoEb"
   },
   "source": [
    "### 신뢰구간과 T-test의 관계\n",
    "\n",
    "신뢰구간 == 시행한 T-test의 통계적 의미를 갖는 범위\n",
    "\n",
    "표본 평균이 신뢰구간 안에 들어가는 경우, 귀무가설을 **기각하지 않습니다**.\n",
    "\n",
    "반대로, 표본 평균이 신뢰구간 밖으로 나가는 경우 귀무가설을 **기각합니다**."
   ]
  },
  {
   "cell_type": "code",
   "execution_count": null,
   "metadata": {
    "colab": {},
    "colab_type": "code",
    "id": "izIyVavzfCXS"
   },
   "outputs": [],
   "source": [
    "from scipy.stats import t, ttest_1samp"
   ]
  },
  {
   "cell_type": "code",
   "execution_count": null,
   "metadata": {
    "colab": {},
    "colab_type": "code",
    "id": "Y7HwdMwDfL1N"
   },
   "outputs": [],
   "source": [
    "import numpy as np\n",
    "\n",
    "coinflip_means = []\n",
    "for x in range(0,100):\n",
    "  coinflips = np.random.binomial(n=1, p=.5, size=30)\n",
    "  coinflip_means.append(coinflips.mean())\n"
   ]
  },
  {
   "cell_type": "code",
   "execution_count": null,
   "metadata": {
    "colab": {},
    "colab_type": "code",
    "id": "nQDo-ZXlfOvR"
   },
   "outputs": [],
   "source": [
    "# 표본의 크기\n",
    "n = len(coinflip_means)\n",
    "# 자유도\n",
    "dof = n-1\n",
    "# 평균의 평균\n",
    "mean = np.mean(coinflip_means)\n",
    "# 표본의 표준편차\n",
    "sample_std = np.std(coinflip_means, ddof=1)\n",
    "# 표준 오차\n",
    "std_err = sample_std/n**.5\n",
    "\n",
    "CI = t.interval(.95, dof, loc=mean, scale=std_err)\n",
    "print(\"95% 신뢰구간: \", CI)"
   ]
  },
  {
   "cell_type": "code",
   "execution_count": null,
   "metadata": {
    "colab": {},
    "colab_type": "code",
    "id": "PiaALHSNfWou"
   },
   "outputs": [],
   "source": [
    "'''앞에서 만들었던 신뢰구간 계산은 쉽게 사용 할 수 있습니다. \n",
    "한가지 추가로 해야 할 일은 보여지는 t 통계치에 대한 이해 입니다.'''\n",
    "\n",
    "# 95% 신뢰 구간\n",
    "t_stat = t.ppf(.975, dof)\n",
    "print(\"t 통계치:\", t_stat)\n",
    "\n",
    "CI = (mean-(t_stat*std_err), mean+(t_stat*std_err))\n",
    "print(\"신뢰구간\", CI)"
   ]
  },
  {
   "cell_type": "markdown",
   "metadata": {
    "colab_type": "text",
    "id": "EamZNJhAf-fY"
   },
   "source": [
    "예시에 쓰인 .49라는 값은 신뢰구간 안에 (0.48~0.51) 들어 왔기 때문에 == 귀무가설은 기각 되지 않습니다. "
   ]
  },
  {
   "cell_type": "markdown",
   "metadata": {
    "colab_type": "text",
    "id": "hO34mbL9gHn1"
   },
   "source": [
    "다른 예시 값 .4818은 신뢰구간 밖에 있으므로 == 귀무가설을 기각합니다."
   ]
  }
 ],
 "metadata": {
  "colab": {
   "collapsed_sections": [],
   "include_colab_link": true,
   "name": "n123-confidence-intervals.ipynb",
   "provenance": []
  },
  "kernelspec": {
   "display_name": "Python 3",
   "language": "python",
   "name": "python3"
  },
  "language_info": {
   "codemirror_mode": {
    "name": "ipython",
    "version": 3
   },
   "file_extension": ".py",
   "mimetype": "text/x-python",
   "name": "python",
   "nbconvert_exporter": "python",
   "pygments_lexer": "ipython3",
   "version": "3.8.5"
  }
 },
 "nbformat": 4,
 "nbformat_minor": 4
}
