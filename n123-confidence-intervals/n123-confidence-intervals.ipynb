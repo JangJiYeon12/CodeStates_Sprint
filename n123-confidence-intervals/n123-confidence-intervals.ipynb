{
  "nbformat": 4,
  "nbformat_minor": 0,
  "metadata": {
    "colab": {
      "name": "n123-confidence-intervals.ipynb",
      "provenance": [],
      "collapsed_sections": [],
      "toc_visible": true,
      "include_colab_link": true
    },
    "kernelspec": {
      "display_name": "Python 3",
      "language": "python",
      "name": "python3"
    },
    "language_info": {
      "codemirror_mode": {
        "name": "ipython",
        "version": 3
      },
      "file_extension": ".py",
      "mimetype": "text/x-python",
      "name": "python",
      "nbconvert_exporter": "python",
      "pygments_lexer": "ipython3",
      "version": "3.8.5"
    }
  },
  "cells": [
    {
      "cell_type": "markdown",
      "metadata": {
        "id": "view-in-github",
        "colab_type": "text"
      },
      "source": [
        "<a href=\"https://colab.research.google.com/github/codestates/ds-cs-section1-sprint2/blob/master/n123-confidence-intervals/n123-confidence-intervals.ipynb\" target=\"_parent\"><img src=\"https://colab.research.google.com/assets/colab-badge.svg\" alt=\"Open In Colab\"/></a>"
      ]
    },
    {
      "cell_type": "markdown",
      "metadata": {
        "id": "838Dmw1kM2LK"
      },
      "source": [
        "<img src='https://i.imgur.com/RDAD11M.png' width = '200' align = 'right'>\n",
        "\n",
        "## *DATA SCIENCE / SECTION 1 / SPRINT 2 / NOTE 3*\n",
        "\n",
        "---\n",
        "\n",
        "# Confidence Intervals\n",
        "\n",
        "## 🏆 학습 목표 \n",
        "\n",
        "- CLT의 의미에 대해서 설명 할 수 있다.\n",
        "- 신뢰구간의 목적과 사용 예시에 대해 설명 할 수 있다.\n",
        "- 추정된 통계치에 대해서 신뢰구간을 계산 할 수 있다.\n",
        "- 신뢰구간에 대한 표본 오차를 설명하고 이를 시각화 할 수 있다. \n",
        "\n",
        "---\n",
        "\n"
      ]
    },
    {
      "cell_type": "markdown",
      "metadata": {
        "id": "bvvPV-RJN2vA"
      },
      "source": [
        "## Many Samples\n",
        "\n"
      ]
    },
    {
      "cell_type": "markdown",
      "metadata": {
        "id": "D4Kb8Ld7xc2q"
      },
      "source": [
        "### 큰 수의 법칙 ( Law of large numbers )\n",
        "\n",
        "sample 데이터의 수가 커질 수록, sample의 통계치는 점점 모집단의 모수와 같아진다. "
      ]
    },
    {
      "cell_type": "code",
      "metadata": {
        "id": "tVLDuJMDxera",
        "outputId": "3514e203-c5af-45d6-a6ff-0240ba69c17c",
        "colab": {
          "base_uri": "https://localhost:8080/"
        }
      },
      "source": [
        "import numpy as np\n",
        "import matplotlib.pyplot as plt\n",
        "import pandas as pd\n",
        "\n",
        "population = np.random.normal(50, 10, 1000) # mu = 50, sd = 10, \n",
        "population.var()"
      ],
      "execution_count": 10,
      "outputs": [
        {
          "output_type": "execute_result",
          "data": {
            "text/plain": [
              "99.23849868055098"
            ]
          },
          "metadata": {
            "tags": []
          },
          "execution_count": 10
        }
      ]
    },
    {
      "cell_type": "code",
      "metadata": {
        "id": "1j8pRPGp0d_I",
        "outputId": "05e2357f-58c3-4887-e8f7-627a52e616bd",
        "colab": {
          "base_uri": "https://localhost:8080/"
        }
      },
      "source": [
        "np.random.choice(population, 5).var()"
      ],
      "execution_count": 11,
      "outputs": [
        {
          "output_type": "execute_result",
          "data": {
            "text/plain": [
              "22.83484693452305"
            ]
          },
          "metadata": {
            "tags": []
          },
          "execution_count": 11
        }
      ]
    },
    {
      "cell_type": "code",
      "metadata": {
        "id": "SGCZsVNG0oIR",
        "outputId": "0eb30022-57c3-48a7-e9d2-582003ebb9e3",
        "colab": {
          "base_uri": "https://localhost:8080/"
        }
      },
      "source": [
        "np.random.choice(population, 15).var()"
      ],
      "execution_count": 12,
      "outputs": [
        {
          "output_type": "execute_result",
          "data": {
            "text/plain": [
              "70.05663658358472"
            ]
          },
          "metadata": {
            "tags": []
          },
          "execution_count": 12
        }
      ]
    },
    {
      "cell_type": "code",
      "metadata": {
        "id": "jnyeu51p1CVu",
        "outputId": "fe26c7c9-500b-43be-e89b-fbbb72fdee3c",
        "colab": {
          "base_uri": "https://localhost:8080/"
        }
      },
      "source": [
        "np.random.choice(population, 50).var()"
      ],
      "execution_count": 13,
      "outputs": [
        {
          "output_type": "execute_result",
          "data": {
            "text/plain": [
              "64.33330032251185"
            ]
          },
          "metadata": {
            "tags": []
          },
          "execution_count": 13
        }
      ]
    },
    {
      "cell_type": "code",
      "metadata": {
        "id": "_FcN_Qg21HRq",
        "outputId": "09080499-575f-45c7-e097-62d2ccff9d15",
        "colab": {
          "base_uri": "https://localhost:8080/"
        }
      },
      "source": [
        "np.random.choice(population, 100).var()"
      ],
      "execution_count": 14,
      "outputs": [
        {
          "output_type": "execute_result",
          "data": {
            "text/plain": [
              "99.72290312454719"
            ]
          },
          "metadata": {
            "tags": []
          },
          "execution_count": 14
        }
      ]
    },
    {
      "cell_type": "code",
      "metadata": {
        "id": "E4O88zOi1KtM",
        "outputId": "bfca77b9-7c4e-46bb-ddd3-887c20809ffa",
        "colab": {
          "base_uri": "https://localhost:8080/"
        }
      },
      "source": [
        "np.random.choice(population, 200).var()\n"
      ],
      "execution_count": 15,
      "outputs": [
        {
          "output_type": "execute_result",
          "data": {
            "text/plain": [
              "98.15707986626687"
            ]
          },
          "metadata": {
            "tags": []
          },
          "execution_count": 15
        }
      ]
    },
    {
      "cell_type": "code",
      "metadata": {
        "id": "w4fgmMMh1Pvn",
        "outputId": "82089fa7-0390-4913-c83a-2dd2ecbc79e7",
        "colab": {
          "base_uri": "https://localhost:8080/",
          "height": 265
        }
      },
      "source": [
        "dat = []\n",
        "\n",
        "for i in np.arange(start = 5, stop = 995, step = 5) :\n",
        "  s = np.random.choice(population, i)\n",
        "  dat.append(s.var())\n",
        "dat\n",
        "\n",
        "(pd\n",
        " .DataFrame(dat)\n",
        " .plot\n",
        " .line(color = '#4000c7')\n",
        " .axhline(y = 100, color = '#00da75')\n",
        " );"
      ],
      "execution_count": 28,
      "outputs": [
        {
          "output_type": "display_data",
          "data": {
            "image/png": "[encoded data removed]",
            "text/plain": [
              "<Figure size 432x288 with 1 Axes>"
            ]
          },
          "metadata": {
            "tags": [],
            "needs_background": "light"
          }
        }
      ]
    },
    {
      "cell_type": "markdown",
      "metadata": {
        "id": "z06o9u0s2pL-"
      },
      "source": [
        "- method chaining 에 대해서 공부해보세요."
      ]
    },
    {
      "cell_type": "markdown",
      "metadata": {
        "id": "6zGqHH3Uxd-d"
      },
      "source": [
        "### 중심극한정리 ( Central Limit Theorem, CLT )\n",
        "\n",
        "Sample 데이터의 수가 많아질 수록, **sample의 평균**은 정규분포에 근사한 형태로 나타난다."
      ]
    },
    {
      "cell_type": "code",
      "metadata": {
        "id": "FBLoOF8qOJeJ",
        "colab": {
          "base_uri": "https://localhost:8080/",
          "height": 265
        },
        "outputId": "88f2a204-668f-47ec-863a-ec96c44e0296"
      },
      "source": [
        "sample_means = []\n",
        "\n",
        "for x in range(0, 1000):\n",
        "  coinflips = np.random.binomial(n = 1, p = 0.5, size = 100) # binomial distribution\n",
        "  sample_means.append(coinflips.mean())\n",
        "\n",
        "pd.DataFrame(sample_means).plot(color = '#4000c7');"
      ],
      "execution_count": 34,
      "outputs": [
        {
          "output_type": "display_data",
          "data": {
            "image/png": "[encoded data removed]",
            "text/plain": [
              "<Figure size 432x288 with 1 Axes>"
            ]
          },
          "metadata": {
            "tags": [],
            "needs_background": "light"
          }
        }
      ]
    },
    {
      "cell_type": "code",
      "metadata": {
        "id": "clLPqYrb3CoW",
        "outputId": "c0957db2-a504-48aa-db73-22da13432f72",
        "colab": {
          "base_uri": "https://localhost:8080/",
          "height": 281
        }
      },
      "source": [
        "pd.DataFrame(sample_means).hist(color = '#4000c7');"
      ],
      "execution_count": 35,
      "outputs": [
        {
          "output_type": "display_data",
          "data": {
            "image/png": "[encoded data removed]",
            "text/plain": [
              "<Figure size 432x288 with 1 Axes>"
            ]
          },
          "metadata": {
            "tags": [],
            "needs_background": "light"
          }
        }
      ]
    },
    {
      "cell_type": "code",
      "metadata": {
        "id": "pEDqMEPLJEO7",
        "colab": {
          "base_uri": "https://localhost:8080/",
          "height": 281
        },
        "outputId": "fa12a289-3c65-4624-c854-02611e85529b"
      },
      "source": [
        "sample_means2 = []\n",
        "\n",
        "for x in range(0,1000):\n",
        "  one_poiss = np.random.poisson(5, 20) # Poisson 분포 데이터\n",
        "  sample_means2.append(one_poiss.mean())\n",
        "\n",
        "pd.DataFrame(sample_means2).hist(color = '#4000c7');"
      ],
      "execution_count": 36,
      "outputs": [
        {
          "output_type": "display_data",
          "data": {
            "image/png": "[encoded data removed]",
            "text/plain": [
              "<Figure size 432x288 with 1 Axes>"
            ]
          },
          "metadata": {
            "tags": [],
            "needs_background": "light"
          }
        }
      ]
    },
    {
      "cell_type": "code",
      "metadata": {
        "id": "hzZQcX2m4BKk"
      },
      "source": [
        "# normal distribution에 대해서도 실행해보세요."
      ],
      "execution_count": null,
      "outputs": []
    },
    {
      "cell_type": "markdown",
      "metadata": {
        "id": "21Xv5a9g4PQ-"
      },
      "source": [
        "sampling을 몇번 하느냐도 중요하지만, sampling을 얼마나 하느냐도 다릅니다.\n"
      ]
    },
    {
      "cell_type": "code",
      "metadata": {
        "id": "F15l-J788ApQ"
      },
      "source": [
        "sample_means_small = []\n",
        "sample_means_medium = []\n",
        "sample_means_large = []\n",
        "\n",
        "# b(n, p)\n",
        "# N(0,1) ~ N(u, sd)\n",
        "\n",
        "for x in range(0, 3000):\n",
        "  coinflips_small = np.random.binomial(n = 1, p = .5, size = 10)\n",
        "  coinflips_medium = np.random.binomial(n = 1, p = .5, size = 50)\n",
        "  coinflips_large = np.random.binomial(n = 1, p = .5, size = 200)\n",
        "  sample_means_small.append(coinflips_small.mean())\n",
        "  sample_means_medium.append(coinflips_medium.mean())\n",
        "  sample_means_large.append(coinflips_large.mean())"
      ],
      "execution_count": null,
      "outputs": []
    },
    {
      "cell_type": "code",
      "metadata": {
        "id": "JdES8jXz8kAG",
        "colab": {
          "base_uri": "https://localhost:8080/",
          "height": 265
        },
        "outputId": "b41cad19-9af9-4823-fa82-72ff0018ec70"
      },
      "source": [
        "import seaborn as sns\n",
        "ax = plt.subplots()\n",
        "for sample in [sample_means_small, sample_means_medium, sample_means_large]: \n",
        "  sns.distplot(sample)\n",
        "\n",
        "# sample_means_small -> blue line \n",
        "# sample_means_medium -> orange line\n",
        "# sample_means_large -> green line"
      ],
      "execution_count": null,
      "outputs": [
        {
          "output_type": "display_data",
          "data": {
            "image/png": "[encoded data removed]",
            "text/plain": [
              "<Figure size 432x288 with 1 Axes>"
            ]
          },
          "metadata": {
            "tags": [],
            "needs_background": "light"
          }
        }
      ]
    },
    {
      "cell_type": "markdown",
      "metadata": {
        "id": "EYqo5vZZSFUr"
      },
      "source": [
        "## 평균의 표준 오차\n",
        "\n",
        "평균의 표준 오차란, 표본 평균의 분포에 대한 표준 편차입니다. \n",
        "\n",
        "<img src='https://i.imgur.com/WuJp6ks.png'>\n",
        "\n",
        "sample 을 어떻게 뽑느냐에 따라서 sample의 평균의 분포는 다를겁니다."
      ]
    },
    {
      "cell_type": "markdown",
      "metadata": {
        "id": "Ix9QHUelSuYN"
      },
      "source": [
        "## Point estimate VS Interval estimate\n",
        "\n",
        "ex) 1000명의 회사원의 평균 연봉.\n",
        "\n",
        "3000만원일 것이다.\n",
        "\n",
        "2500 ~ 3500만원 정도 할 것이다.\n",
        "\n",
        "1000 ~ 5000만원 정도 할 것이다.\n",
        "\n",
        "0 ~ 100000만원 정도 할 것이다. \n",
        "\n",
        "--- \n",
        "\n",
        "예측 하는 구간이 **넓어질 수록** 맞을 확률(`신뢰도`)은 올라감. \n",
        "\n",
        "\n"
      ]
    },
    {
      "cell_type": "markdown",
      "metadata": {
        "id": "857bkDvMTr8W"
      },
      "source": [
        "## 신뢰도 \n",
        "\n",
        "신뢰도가 95% 라는 의미는 표본을 100번 뽑았을때 95번은 신뢰구간 내에 모집단의 평균이 포함된다.\n",
        "\n",
        "앞에 예시를 다시 한번 읽어보고 윗 문장의 의미를 생각해보시길 바랍니다.\n",
        "\n"
      ]
    },
    {
      "cell_type": "markdown",
      "metadata": {
        "id": "nfdQf8QYUUmw"
      },
      "source": [
        "## 신뢰 구간의 설정 및 해석\n",
        "\n",
        "<img src='https://i.imgur.com/dbhRomh.png' width = 550> \n",
        "\n",
        "이 구간을 수학적으로 표현한 내용이 아래의 식과 같으며\n",
        "\n",
        "$ \\bar {x} \\pm {t \\cdot {s \\over \\sqrt{n} } }$\n",
        "\n",
        "<br>\n",
        "\n",
        "$ \\bar {x} $ 를 `estimated mean`.\n",
        "\n",
        "$ {t \\cdot {s \\over \\sqrt{n} } }$ 를 `error`라 부릅니다.\n",
        "\n"
      ]
    },
    {
      "cell_type": "code",
      "metadata": {
        "id": "VhDub0YX--Uw",
        "colab": {
          "base_uri": "https://localhost:8080/"
        },
        "outputId": "3fc788b1-e4c1-415f-add4-e046eb2635f3"
      },
      "source": [
        "from scipy import stats\n",
        "\n",
        "def confidence_interval(data, confidence = 0.95):\n",
        "  \n",
        "  \"\"\"\n",
        "  주어진 데이터의 표본 **평균**에 대한 신뢰구간을 계산.\n",
        "  기본 값으로 t-분포와 양방향 (two-tailed), 95%의 신뢰도를 사용합니다. \n",
        "  \n",
        "  입력 값 : \n",
        "    data - 여러 개로 이루어진 (list 혹은 numpy 배열) 표본 관측치\n",
        "    confidence - 신뢰구간을 위한 신뢰도 \n",
        "  \n",
        "  반환 되는 값:\n",
        "    (평균, 하한, 상한구간)으로 이루어진 tuple\n",
        "  \"\"\"\n",
        "\n",
        "  data = np.array(data)\n",
        "  mean = np.mean(data)\n",
        "  n = len(data)\n",
        "  \n",
        "  # std / sqrt(n)\n",
        "  stderr = stats.sem(data) \n",
        "  # Standard Error of Mean (https://docs.scipy.org/doc/scipy/reference/generated/scipy.stats.sem.html)\n",
        "  # s / sqrt(n)\n",
        "\n",
        "  # length_of_one_interval\n",
        "  interval = stderr * stats.t.ppf( (1 + confidence) / 2 , n - 1) # ppf : inverse of cdf\n",
        "  return (mean, mean - interval, mean + interval)\n",
        "\n",
        "# cdf -> t 를 넣으면 %\n",
        "# ppf -> % 를 넣으면 t\n",
        "\n",
        "# 1 + 0.95 / 2 -> 0.975\n",
        "# (1 - 0.95) / 2 -> 0.025\n",
        "\n",
        "confidence_interval([1,2,3,1,2,3,1,2,3])\n",
        "\n",
        "# 표본 집단의 평균은 2.0이며, 모집단의 평균은 신뢰도 95%로 1.33 ~ 2.66사이에 존재"
      ],
      "execution_count": 38,
      "outputs": [
        {
          "output_type": "execute_result",
          "data": {
            "text/plain": [
              "(2.0, 1.3343139459430469, 2.665686054056953)"
            ]
          },
          "metadata": {
            "tags": []
          },
          "execution_count": 38
        }
      ]
    },
    {
      "cell_type": "markdown",
      "metadata": {
        "id": "C4rtc8luVUAK"
      },
      "source": [
        "## 신뢰구간의 시각화\n"
      ]
    },
    {
      "cell_type": "code",
      "metadata": {
        "id": "pz6F9_3_VmKr",
        "colab": {
          "base_uri": "https://localhost:8080/",
          "height": 265
        },
        "outputId": "2c96e7a7-cb10-4e55-da54-7902de9f5dce"
      },
      "source": [
        "x = np.linspace(0, 4, 101) # 0 ~ 4 by 100 \n",
        "\n",
        "y = stats.norm(2, 0.75).pdf(x) # probability density function with N(2, 0.75)\n",
        "\n",
        "# https://matplotlib.org/3.3.1/api/_as_gen/matplotlib.pyplot.plot.html 참조\n",
        "\n",
        "# (2.666, 0) ----> (2.666, 0.7) 까지의 Line\n",
        "\n",
        "plt.plot(x, y) # blue line\n",
        "\n",
        "plt.plot([2, 2], [0, 0.7], 'k-', lw = 2, color = '#ff6f15') \n",
        "\n",
        "plt.plot([1.334,1.334], [0,0.7], 'k-', lw = 2, color = '#4000c7')\n",
        "plt.plot([2.666,2.666], [0,0.7], 'k-', lw = 2, color = '#4000c7');\n",
        "\n",
        "# '--' : dashed"
      ],
      "execution_count": 42,
      "outputs": [
        {
          "output_type": "display_data",
          "data": {
            "image/png": "[encoded data removed]",
            "text/plain": [
              "<Figure size 432x288 with 1 Axes>"
            ]
          },
          "metadata": {
            "tags": [],
            "needs_background": "light"
          }
        }
      ]
    },
    {
      "cell_type": "markdown",
      "metadata": {
        "id": "_oy0uoBGeoEb"
      },
      "source": [
        "## 신뢰구간과 T-test의 관계\n",
        "\n",
        "신뢰구간 = 시행한 가설검정이 통계적 의미를 갖는 범위\n",
        "\n",
        "모집단의 평균이 표본평균으로 부터 계산된 신뢰구간 안에 들어가는 경우, 귀무가설을 **기각하지 않습니다**.\n",
        "\n",
        "반대로, 모집단의 평균이 표본평균으로 부터 계산된  신뢰구간 밖으로 나가는 경우 귀무가설을 **기각합니다**.\n",
        "\n",
        "귀무가설 : 모집단의 평균값은 표본 평균값일 것이다. (2 tail t-test 기준)"
      ]
    },
    {
      "cell_type": "code",
      "metadata": {
        "id": "Y7HwdMwDfL1N"
      },
      "source": [
        "from scipy.stats import t, ttest_1samp\n",
        "import numpy as np\n",
        "np.random.seed(123)\n",
        "coinflip_means = []\n",
        "for x in range(0, 100):\n",
        "  coinflips = np.random.binomial(n = 1, p = .5, size = 30)\n",
        "  coinflip_means.append(coinflips.mean())"
      ],
      "execution_count": 47,
      "outputs": []
    },
    {
      "cell_type": "code",
      "metadata": {
        "id": "nQDo-ZXlfOvR",
        "colab": {
          "base_uri": "https://localhost:8080/"
        },
        "outputId": "e546b303-c11a-4382-9446-7c5730072761"
      },
      "source": [
        "# 표본의 크기\n",
        "n = len(coinflip_means)\n",
        "# 자유도\n",
        "dof = n-1\n",
        "# 평균의 평균\n",
        "mean = np.mean(coinflip_means)\n",
        "# 표본의 표준편차\n",
        "sample_std = np.std(coinflip_means, ddof = 1)\n",
        "# 표준 오차\n",
        "std_err = sample_std / n ** 0.5 # sample_std / sqrt(n)\n",
        "\n",
        "CI = t.interval(.95, dof, loc = mean, scale = std_err) # https://docs.scipy.org/doc/scipy/reference/generated/scipy.stats.t.html\n",
        "print(\"95% 신뢰구간: \", CI)"
      ],
      "execution_count": 48,
      "outputs": [
        {
          "output_type": "stream",
          "text": [
            "95% 신뢰구간:  (0.4808121037102203, 0.5158545629564464)\n"
          ],
          "name": "stdout"
        }
      ]
    },
    {
      "cell_type": "code",
      "metadata": {
        "id": "PiaALHSNfWou",
        "colab": {
          "base_uri": "https://localhost:8080/"
        },
        "outputId": "c3cc8c28-343d-4e8a-feb2-ca9e50634834"
      },
      "source": [
        "# 95% 신뢰 구간\n",
        "t_stat = t.ppf(.975, dof) # (1 + 0.95) / 2\n",
        "print(\"t 통계치:\", t_stat)\n",
        "\n",
        "CI = (mean-(t_stat*std_err), mean+(t_stat*std_err))\n",
        "print(\"신뢰구간\", CI)"
      ],
      "execution_count": 50,
      "outputs": [
        {
          "output_type": "stream",
          "text": [
            "t 통계치: 1.9842169515086827\n",
            "신뢰구간 (0.4808121037102203, 0.5158545629564464)\n"
          ],
          "name": "stdout"
        }
      ]
    },
    {
      "cell_type": "markdown",
      "metadata": {
        "id": "EamZNJhAf-fY"
      },
      "source": [
        "예시로 평균은 \".49\" 일 것이다 / \"0.5\"일 것이다 라는 가설은 신뢰구간 안에 (0.4808 ~ 0.5158) 들어 왔기 때문에 == 귀무가설은 기각 되지 않습니다. "
      ]
    },
    {
      "cell_type": "code",
      "metadata": {
        "id": "JUtXm1LkWhyn",
        "colab": {
          "base_uri": "https://localhost:8080/"
        },
        "outputId": "39a0ee69-b768-4fd2-f5a1-eb15619db986"
      },
      "source": [
        "ttest_1samp(coinflip_means, .49)"
      ],
      "execution_count": 51,
      "outputs": [
        {
          "output_type": "execute_result",
          "data": {
            "text/plain": [
              "Ttest_1sampResult(statistic=0.9437203677052541, pvalue=0.3476099840487076)"
            ]
          },
          "metadata": {
            "tags": []
          },
          "execution_count": 51
        }
      ]
    },
    {
      "cell_type": "markdown",
      "metadata": {
        "id": "hO34mbL9gHn1"
      },
      "source": [
        "다른 예시 값 (.54)은 신뢰구간 밖에 있으므로 == 귀무가설을 기각합니다."
      ]
    },
    {
      "cell_type": "code",
      "metadata": {
        "id": "tCcHLxf2WlOg",
        "colab": {
          "base_uri": "https://localhost:8080/"
        },
        "outputId": "35c73c1b-0f33-435c-fdd0-5e476aae0550"
      },
      "source": [
        "ttest_1samp(coinflip_means, 0.54)"
      ],
      "execution_count": 52,
      "outputs": [
        {
          "output_type": "execute_result",
          "data": {
            "text/plain": [
              "Ttest_1sampResult(statistic=-4.718601838526259, pvalue=7.810566540024661e-06)"
            ]
          },
          "metadata": {
            "tags": []
          },
          "execution_count": 52
        }
      ]
    }
  ]
}