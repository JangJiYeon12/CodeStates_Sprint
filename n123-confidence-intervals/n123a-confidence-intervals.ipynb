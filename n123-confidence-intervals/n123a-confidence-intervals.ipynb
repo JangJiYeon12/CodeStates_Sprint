{
 "cells": [
  {
   "cell_type": "markdown",
   "metadata": {
    "colab_type": "text",
    "id": "g_c3L9CeANiJ"
   },
   "source": [
    "<img src='https://i.imgur.com/RDAD11M.png' width = '200' align = 'right'>\n",
    "\n",
    "## *DATA SCIENCE / SECTION 1 / SPRINT 2 / NOTE 3*\n",
    "\n",
    "# 📝 Assignment\n",
    "\n",
    "# 신뢰구간\n",
    "\n",
    "서울시 기간별 시간평균 대기환경 정보 데이터셋을 이용합니다.\n",
    "\n",
    "<img src='https://user-images.githubusercontent.com/6457691/89852263-740add80-dbc9-11ea-9e6b-8059b3f7e479.png'>\n",
    "\n",
    "<https://data.seoul.go.kr/dataList/OA-2221/S/1/datasetView.do>\n",
    "\n",
    "## 사이즈가 너무 크기 때문에 모든 데이터셋을 사용하지 않으며, 특정 한달동안의, 특정 지역만의 데이터만을 사용하세요.\n",
    "\n",
    "## 1단계 - 준비\n",
    "\n",
    "**1) 데이터셋 불러오기**"
   ]
  },
  {
   "cell_type": "code",
   "execution_count": null,
   "metadata": {
    "colab": {},
    "colab_type": "code",
    "id": "yXwMJQGrAIbO"
   },
   "outputs": [],
   "source": []
  },
  {
   "cell_type": "markdown",
   "metadata": {
    "colab_type": "text",
    "id": "wOQ-9E8uYcni"
   },
   "source": [
    "**2) 데이터셋에서 임의의 2 샘플을 선택하세요, 1개는 20개의 데이터, 다른 1개는 200개의 데이터이며, 매 시행마다 동일한 결과물을 위해 `42`를 `random_state`로 사용합니다.**"
   ]
  },
  {
   "cell_type": "code",
   "execution_count": null,
   "metadata": {
    "colab": {},
    "colab_type": "code",
    "id": "m1vuFGxVQo64"
   },
   "outputs": [],
   "source": []
  },
  {
   "cell_type": "markdown",
   "metadata": {
    "colab_type": "text",
    "id": "y2Rz-8O-YmF9"
   },
   "source": [
    "**3) 두 샘플데이터에 대해서 `오존(ppm)`항목의 표본 평균을 계산하세요.**"
   ]
  },
  {
   "cell_type": "code",
   "execution_count": null,
   "metadata": {
    "colab": {},
    "colab_type": "code",
    "id": "ti9x37XSQ_yL"
   },
   "outputs": [],
   "source": []
  },
  {
   "cell_type": "markdown",
   "metadata": {
    "colab_type": "text",
    "id": "AtGASqgxYp5t"
   },
   "source": [
    "**4) 모든 샘플 평균은 각각 데이터로 부터 나온 추정값입니다. 모집단의 평균을 추정할때의 어느 샘플 평균 값을 더 신뢰하게 될까요?**"
   ]
  },
  {
   "cell_type": "code",
   "execution_count": null,
   "metadata": {},
   "outputs": [],
   "source": []
  },
  {
   "cell_type": "markdown",
   "metadata": {
    "colab_type": "text",
    "id": "-2ulIAGmYudp"
   },
   "source": [
    "**5) 모집단의 평균에 대한 추정을 하세요.**"
   ]
  },
  {
   "cell_type": "code",
   "execution_count": null,
   "metadata": {},
   "outputs": [],
   "source": []
  },
  {
   "cell_type": "markdown",
   "metadata": {
    "colab_type": "text",
    "id": "SpqgKQfTYvF0"
   },
   "source": [
    "**6) 추정치에 대한 오차에 대해서 설명해보세요.**"
   ]
  },
  {
   "cell_type": "code",
   "execution_count": null,
   "metadata": {},
   "outputs": [],
   "source": []
  },
  {
   "cell_type": "markdown",
   "metadata": {
    "colab_type": "text",
    "id": "9tIHBlM_SyGR"
   },
   "source": [
    "## 2단계 - 신뢰구간과, 표본 오차를 추정된 값과 같이 설명.\n",
    "\n",
    "**1) 1단계에서 추정한 값들을 바탕으로, 95%에 해당하는 신뢰구간을 계산하세요.**"
   ]
  },
  {
   "cell_type": "code",
   "execution_count": null,
   "metadata": {
    "colab": {},
    "colab_type": "code",
    "id": "hfCO0gHEUOrE"
   },
   "outputs": [],
   "source": []
  },
  {
   "cell_type": "markdown",
   "metadata": {
    "colab_type": "text",
    "id": "vdiW7DHRZwK-"
   },
   "source": [
    "**2) 두 샘플에 대한 신뢰구간중 어느것이 더 넓으며, 왜 그렇습니까?**"
   ]
  },
  {
   "cell_type": "markdown",
   "metadata": {
    "colab_type": "text",
    "id": "p5KGlyvYZ1Qq"
   },
   "source": [
    "(첫번째 (샘플수 20)의 신뢰구간이 더 넓으며, 이는 error 의 값이 훨씬 더 크기 때문입니다.) "
   ]
  },
  {
   "cell_type": "markdown",
   "metadata": {
    "colab_type": "text",
    "id": "6N33K4NvZ13H"
   },
   "source": [
    "**3) 두 샘플에 대해, 추정된 평균과, 표본 오차의 값을 설명하세요. 표본 오차가 의미 하는 바는 무엇인가요?**"
   ]
  },
  {
   "cell_type": "code",
   "execution_count": null,
   "metadata": {
    "colab": {},
    "colab_type": "code",
    "id": "DOJ41W1tVWa6"
   },
   "outputs": [],
   "source": []
  },
  {
   "cell_type": "markdown",
   "metadata": {
    "colab_type": "text",
    "id": "_7NuYtHfaQav"
   },
   "source": [
    "표본 오차는, 추정된 값이 실제 값과 얼마나 멀리 떨어져 있을 수 있는지 (95%의 확률로)를 의미합니다. "
   ]
  },
  {
   "cell_type": "markdown",
   "metadata": {
    "colab_type": "text",
    "id": "zkg9EW9KTgGv"
   },
   "source": [
    "## 3단계 - 시각화하기\n",
    "\n",
    "**1) `plt.errorbar` 를 사용하여 계산된 신뢰구간을 시각화하세요.** "
   ]
  },
  {
   "cell_type": "code",
   "execution_count": null,
   "metadata": {
    "colab": {},
    "colab_type": "code",
    "id": "2QOQGVfsVfFZ"
   },
   "outputs": [],
   "source": []
  },
  {
   "cell_type": "markdown",
   "metadata": {
    "colab_type": "text",
    "id": "HsTtONTNawFi"
   },
   "source": [
    "**2) `plt.bar`를 사용하여 신뢰구간을 비교하세요.**"
   ]
  },
  {
   "cell_type": "code",
   "execution_count": null,
   "metadata": {
    "colab": {},
    "colab_type": "code",
    "id": "UE1fxaoKW1Xg"
   },
   "outputs": [],
   "source": []
  },
  {
   "cell_type": "markdown",
   "metadata": {
    "colab_type": "text",
    "id": "ZGCzS-BFctob"
   },
   "source": [
    "## 4단계 - 실제와의 비교"
   ]
  },
  {
   "cell_type": "markdown",
   "metadata": {
    "colab_type": "text",
    "id": "E181afPXezJ9"
   },
   "source": [
    "**200, 20개의 샘플 데이터가 아닌 전체 데이터에 대해서 평균을 계산하고 추측된 평균값과의 비교를 해보세요.**"
   ]
  },
  {
   "cell_type": "code",
   "execution_count": null,
   "metadata": {
    "colab": {},
    "colab_type": "code",
    "id": "3puy99D6esLn"
   },
   "outputs": [],
   "source": []
  },
  {
   "cell_type": "markdown",
   "metadata": {
    "colab_type": "text",
    "id": "cvtnsGLJa4bW"
   },
   "source": [
    "# 🔥 도전과제:\n",
    "\n",
    "matplotlib는 좋은 시각화 라이브러리이지만, 유일한 시각화 라이브러리는 아닙니다.\n",
    "\n",
    "[plotly](https://plotly.com/) 나 [seaborn](http://seaborn.pydata.org/index.html), [bokeh](https://docs.bokeh.org/en/latest/index.html) 등 다른 시각화 라이브러리를 선택하여 앞에서 그렸던 신뢰구간을 해당 라이브러리를 선택하여 그려보세요."
   ]
  },
  {
   "cell_type": "code",
   "execution_count": null,
   "metadata": {},
   "outputs": [],
   "source": []
  }
 ],
 "metadata": {
  "colab": {
   "authorship_tag": "ABX9TyPOhMGlfSAW8A+obNnJJS8F",
   "collapsed_sections": [],
   "include_colab_link": true,
   "name": "n123a-confidence-intervals.ipynb",
   "provenance": []
  },
  "kernelspec": {
   "display_name": "Python 3",
   "language": "python",
   "name": "python3"
  },
  "language_info": {
   "codemirror_mode": {
    "name": "ipython",
    "version": 3
   },
   "file_extension": ".py",
   "mimetype": "text/x-python",
   "name": "python",
   "nbconvert_exporter": "python",
   "pygments_lexer": "ipython3",
   "version": "3.8.5"
  }
 },
 "nbformat": 4,
 "nbformat_minor": 4
}
