{
 "cells": [
  {
   "cell_type": "markdown",
   "metadata": {
    "id": "pBQsZEJmubLs"
   },
   "source": [
    "<img src='https://user-images.githubusercontent.com/6457691/90080969-0f758d00-dd47-11ea-8191-fa12fd2054a7.png' width = '200' align = 'right'>\n",
    "\n",
    "## *DATA SCIENCE / SECTION 4 / SPRINT 1 / Assingment 3*\n",
    "\n",
    "---\n",
    "# Neural Network Framework (Keras)\n",
    "\n"
   ]
  },
  {
   "cell_type": "markdown",
   "metadata": {
    "id": "nN5Wzlub62DZ"
   },
   "source": [
    "\n",
    "## 기본과제\n",
    "### 케라스 라이브러리를 사용하여 Multi-Layer Perceptron 모델을 CIFAR100 데이터에 적용해보세요.\n",
    "\n",
    "- 시드를 고정하십시오.\n",
    "- 데이터를 Noramlized 해줍니다. \n",
    "- 케라스에서 모델은 다음과 같이 고정합니다. \n",
    "- 은닉층의 활성함수는 ReLU를 사용합니다.\n",
    "- 단계별로 오늘 배운 규제방법을 적용해봅니다. "
   ]
  },
  {
   "cell_type": "code",
   "execution_count": null,
   "metadata": {
    "id": "SBPLbaggP52G"
   },
   "outputs": [],
   "source": [
    "import keras\n",
    "import tensorflow as tf\n",
    "import numpy as np\n",
    "from tensorflow.keras.datasets import cifar100\n",
    "from tensorflow.keras.models import Sequential\n",
    "from tensorflow.keras.layers import Dense, Flatten, Dropout\n",
    "from tensorflow.keras.optimizers import Adam\n",
    "from tensorflow.keras import regularizers"
   ]
  },
  {
   "cell_type": "markdown",
   "metadata": {
    "id": "I7nHEuYmd-p6"
   },
   "source": [
    "### 1) Base model을 제작합니다."
   ]
  },
  {
   "cell_type": "code",
   "execution_count": null,
   "metadata": {
    "id": "_T_3XkVRY2xw"
   },
   "outputs": [],
   "source": [
    "# seed를 고정합니다.\n",
    "random.seed(1)\n",
    "np.random.seed(1)\n",
    "os.environ[\"PYTHONHASHSEED\"] = str(1)\n",
    "os.environ['TF_DETERMINISTIC_OPS'] = str(1)\n",
    "tf.random.set_seed(1)\n",
    "\n",
    "# 데이터 불러오기\n",
    "(X_train, y_train), (X_test, y_test) = cifar100.load_data()\n",
    "\n",
    "# 정규화(전처리)\n",
    "### Your Code Here ###\n",
    "\n",
    "# 변수 설정을 따로 하는 방법을 적용하기 위한 코드입니다. \n",
    "batch_size = 100\n",
    "epochs_max = 20\n",
    "\n",
    "# model\n",
    "model = Sequential()\n",
    "model.add(Flatten(input_shape=(### Your Code Here ###)))\n",
    "model.add(Dense(128, activation='relu'))\n",
    "model.add(Dense(128, activation='relu'))\n",
    "model.add(Dense(100, activation='softmax'))\n",
    "\n",
    "# 컴파일 단계, 옵티마이저와 손실함수, 측정지표를 연결해서 계산 그래프를 구성함\n",
    "model.compile(optimizer='adam', loss='### Your Code Here###', metrics=['accuracy'])\n",
    "\n",
    "results = model.fit(X_train, y_train, epochs=epochs_max, batch_size=batch_size, verbose=1, validation_data=(X_test,y_test))"
   ]
  },
  {
   "cell_type": "code",
   "execution_count": 2,
   "metadata": {
    "colab": {
     "base_uri": "https://localhost:8080/"
    },
    "id": "PdxJ5AnieUxI",
    "outputId": "9e3d8543-ea61-4e98-f368-765ed3dcf958"
   },
   "outputs": [],
   "source": [
    "test_loss, test_acc = model.evaluate(X_test,  y_test, verbose=1)"
   ]
  },
  {
   "cell_type": "markdown",
   "metadata": {},
   "source": [
    "### 2) + Weight Decay"
   ]
  },
  {
   "cell_type": "code",
   "execution_count": null,
   "metadata": {
    "id": "XBQks0_rZWa9"
   },
   "outputs": [],
   "source": [
    "# seed를 고정합니다.\n",
    "random.seed(1)\n",
    "np.random.seed(1)\n",
    "os.environ[\"PYTHONHASHSEED\"] = str(1)\n",
    "os.environ['TF_DETERMINISTIC_OPS'] = str(1)\n",
    "tf.random.set_seed(1)\n",
    "\n",
    "# 데이터 불러오기\n",
    "(X_train, y_train), (X_test, y_test) = cifar100.load_data()\n",
    "\n",
    "# 정규화(전처리)\n",
    "### Your Code Here ###\n",
    "\n",
    "# 변수 설정을 따로 하는 방법을 적용하기 위한 코드입니다. \n",
    "batch_size = 100\n",
    "epochs_max = 20\n",
    "\n",
    "# model\n",
    "model = Sequential()\n",
    "model.add(Flatten(input_shape=### Your Code Here###))\n",
    "model.add(Dense(128, activation='relu', \n",
    "                kernel_regularizer=###L2 regularization / param = 0.00001###,   \n",
    "                activity_regularizer=###L1 regularization / param = 0.00001###))\n",
    "model.add(Dense(128, activation='relu'))\n",
    "model.add(Dense(100, activation='softmax'))\n",
    "\n",
    "# 컴파일 단계, 옵티마이저와 손실함수, 측정지표를 연결해서 계산 그래프를 구성함\n",
    "model.compile(optimizer='adam', loss='### Your Code Here###', metrics=['accuracy'])\n",
    "\n",
    "results = model.fit(X_train, y_train, epochs=epochs_max, batch_size=batch_size, verbose=1, validation_data=(X_test,y_test))"
   ]
  },
  {
   "cell_type": "code",
   "execution_count": null,
   "metadata": {},
   "outputs": [],
   "source": [
    "test_loss, test_acc = model.evaluate(X_test,  y_test, verbose=1)"
   ]
  },
  {
   "cell_type": "markdown",
   "metadata": {
    "id": "5yQeUcY8fp4x"
   },
   "source": [
    "### 3) + Dropout"
   ]
  },
  {
   "cell_type": "code",
   "execution_count": null,
   "metadata": {
    "id": "e_B_mosCZ_Ds"
   },
   "outputs": [],
   "source": [
    "# seed를 고정합니다.\n",
    "random.seed(1)\n",
    "np.random.seed(1)\n",
    "os.environ[\"PYTHONHASHSEED\"] = str(1)\n",
    "os.environ['TF_DETERMINISTIC_OPS'] = str(1)\n",
    "tf.random.set_seed(1)\n",
    "\n",
    "# 데이터 불러오기\n",
    "(X_train, y_train), (X_test, y_test) = cifar100.load_data()\n",
    "\n",
    "# 정규화(전처리)\n",
    "### Your Code Here ###\n",
    "\n",
    "# 변수 설정을 따로 하는 방법을 적용하기 위한 코드입니다. \n",
    "batch_size = 100\n",
    "epochs_max = 20\n",
    "\n",
    "# model\n",
    "model = Sequential()\n",
    "model.add(Flatten(input_shape=(### Your Code Here ###)))\n",
    "model.add(Dense(128*1.1, activation='relu'))\n",
    "### Your Code Here - DROPOUT ###\n",
    "model.add(Dense(128, activation='relu'))\n",
    "model.add(Dense(100, activation='softmax'))\n",
    "\n",
    "# 컴파일 단계, 옵티마이저와 손실함수, 측정지표를 연결해서 계산 그래프를 구성함\n",
    "model.compile(optimizer='adam', loss='### Your Code Here###', metrics=['accuracy'])\n",
    "\n",
    "results = model.fit(X_train, y_train, epochs=epochs_max, batch_size=batch_size, verbose=1, validation_data=(X_test,y_test))\n"
   ]
  },
  {
   "cell_type": "markdown",
   "metadata": {
    "id": "Q3RoevKkC27v"
   },
   "source": [
    "### 문항 4) + Early Stopping\n",
    "\n",
    "1. Early Stopping을 적용해봅시다. 멈추는 기준을 `val_loss(검증 데이터셋의 loss 값)`로 하고 loss가 Best 값보다 5번 높아질 때 Stop 하도록 설정합니다.\n",
    "\n",
    "2. Best 모델을 저장해봅시다. Best 모델 역시 멈추는 기준을 `val_loss(검증 데이터셋의 loss 값)`로 하고 `save_best_only=True, save_weights_only=True` 로 설정합니다."
   ]
  },
  {
   "cell_type": "code",
   "execution_count": null,
   "metadata": {
    "id": "jjj4th3oLjgu"
   },
   "outputs": [],
   "source": [
    "# seed를 고정합니다.\n",
    "random.seed(1)\n",
    "np.random.seed(1)\n",
    "os.environ[\"PYTHONHASHSEED\"] = str(1)\n",
    "os.environ['TF_DETERMINISTIC_OPS'] = str(1)\n",
    "tf.random.set_seed(1)\n",
    "\n",
    "\n",
    "# 데이터 불러오기\n",
    "(X_train, y_train), (X_test, y_test) = cifar100.load_data()\n",
    "\n",
    "\n",
    "# 정규화(전처리)\n",
    "### Your Code Here ###\n",
    "\n",
    "\n",
    "# 학습시킨 데이터를 저장시키기 위한 코드입니다. \n",
    "checkpoint_filepath = \"FMbest.hdf5\"\n",
    "\n",
    "\n",
    "# 변수 설정을 따로 하는 방법을 적용하기 위한 코드입니다. \n",
    "batch_size = 100\n",
    "epochs_max = ### Your Code Here ###\n",
    "\n",
    "\n",
    "model = Sequential()\n",
    "model.add(Flatten(input_shape=### input_shape ###))\n",
    "model.add(Dense(128, activation='relu'))\n",
    "model.add(Dense(128, activation='relu'))\n",
    "model.add(Dense(100, activation='softmax'))\n",
    "\n",
    "# 컴파일 단계, 옵티마이저와 손실함수, 측정지표를 연결해서 계산 그래프를 구성함\n",
    "model.compile(optimizer='adam', loss='### loss_function ###', metrics=['accuracy'])\n",
    "\n",
    "                  \n",
    "# early stopping\n",
    "early_stop = ##### Your Code Here #####\n",
    "\n",
    "# Validation Set을 기준으로 가장 최적의 모델을 찾기\n",
    "save_best = keras.callbacks.ModelCheckpoint(##### Your Code Here #####)\n",
    "\n",
    "results = model.fit(##### Your Code Here #####)"
   ]
  },
  {
   "cell_type": "code",
   "execution_count": 1,
   "metadata": {
    "colab": {
     "base_uri": "https://localhost:8080/"
    },
    "id": "Bk3GSXbfUI91",
    "outputId": "c83a26c3-cbfd-46f6-895d-3d9b48140c18"
   },
   "outputs": [],
   "source": [
    "# 학습된 모델을 이용하여 테스트하는 코드\n",
    "test_loss, test_acc = model.evaluate(X_test,  y_test, verbose=1)"
   ]
  },
  {
   "cell_type": "code",
   "execution_count": null,
   "metadata": {
    "id": "Nyz7CrMIUNJX"
   },
   "outputs": [],
   "source": [
    "model.load_weights(checkpoint_filepath)\n",
    "\n",
    "# best model을 이용한 테스트 데이터 예측 정확도 재확인 코드\n",
    "test_loss, test_acc = model.evaluate(X_test, y_test, verbose=1)"
   ]
  }
 ],
 "metadata": {
  "accelerator": "GPU",
  "colab": {
   "machine_shape": "hm",
   "name": "ds-cs-N423a.ipynb",
   "provenance": []
  },
  "kernelspec": {
   "display_name": "Python 3",
   "language": "python",
   "name": "python3"
  },
  "language_info": {
   "codemirror_mode": {
    "name": "ipython",
    "version": 3
   },
   "file_extension": ".py",
   "mimetype": "text/x-python",
   "name": "python",
   "nbconvert_exporter": "python",
   "pygments_lexer": "ipython3",
   "version": "3.9.4"
  }
 },
 "nbformat": 4,
 "nbformat_minor": 1
}
