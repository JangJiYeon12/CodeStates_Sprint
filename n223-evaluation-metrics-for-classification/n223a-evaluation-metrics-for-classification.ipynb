{
  "cells": [
    {
      "cell_type": "markdown",
      "source": [
        "<img align=\"right\" src=\"https://ds-cs-images.s3.ap-northeast-2.amazonaws.com/Codestates_Fulllogo_Color.png\" width=100>\n",
        "\n",
        "## *AIB / SECTION 2 / SPRINT 2 / NOTE 3*\n",
        "\n",
        "# 📝 Assignment\n",
        "---"
      ],
      "metadata": {
        "id": "YPrFlgjkWK91"
      }
    },
    {
      "cell_type": "markdown",
      "source": [
        "# Evaluation Metrics for Classification\n",
        "\n",
        "### 1) Kaggle 챌린지를 이어서 진행합니다.\n",
        "- **(Urclass Quiz) 다음 조건에서 F beta score를 구하고 제출하세요.**\n",
        "    - TP = 4442, TN = 6165, FP = 1515, FN = 1930, 재현율에 정밀도의 2배 가중치를 부여합니다."
      ],
      "metadata": {
        "id": "nCc3XZEyG3XV"
      }
    },
    {
      "cell_type": "markdown",
      "source": [
        "일단 다운받기"
      ],
      "metadata": {
        "id": "-5lT2W1AWo_S"
      }
    },
    {
      "cell_type": "code",
      "execution_count": null,
      "source": [
        "!pip install kaggle\n",
        "from google.colab import files\n",
        "files.upload()"
      ],
      "outputs": [],
      "metadata": {
        "id": "qi7v7mZwWK94"
      }
    },
    {
      "cell_type": "code",
      "source": [
        "!mkdir -p ~/.kaggle\n",
        "!cp kaggle.json ~/.kaggle/\n",
        "\n",
        "# Permission Warning 방지\n",
        "!chmod 600 ~/.kaggle/kaggle.json"
      ],
      "metadata": {
        "id": "hJf4krWjWL1m"
      },
      "execution_count": null,
      "outputs": []
    },
    {
      "cell_type": "code",
      "source": [
        "!kaggle competitions download -c prediction-of-h1n1-vaccination"
      ],
      "metadata": {
        "id": "Woj_ScsTWO1_"
      },
      "execution_count": null,
      "outputs": []
    },
    {
      "cell_type": "code",
      "source": [
        "from sklearn.model_selection import train_test_split\n",
        "import pandas as pd\n",
        "\n",
        "target = 'vacc_h1n1_f'\n",
        "\n",
        "train = pd.merge(pd.read_csv('/content/train.csv.zip'), \n",
        "                 pd.read_csv('/content/train_labels.csv')[target], left_index=True, right_index=True)\n",
        "test = pd.read_csv('/content/test.csv.zip')"
      ],
      "metadata": {
        "id": "mQeZ6WDkWRlW"
      },
      "execution_count": 5,
      "outputs": []
    },
    {
      "cell_type": "code",
      "source": [
        "train, val = train_test_split(train, train_size=0.80, test_size=0.20, \n",
        "                              stratify=train[target], random_state=2)\n",
        "\n",
        "\n",
        "train.shape, val.shape, test.shape"
      ],
      "metadata": {
        "id": "8PvaAClBWcBg",
        "outputId": "17924b69-0629-429a-bc47-4d5fa478286d",
        "colab": {
          "base_uri": "https://localhost:8080/"
        }
      },
      "execution_count": 6,
      "outputs": [
        {
          "output_type": "execute_result",
          "data": {
            "text/plain": [
              "((33723, 39), (8431, 39), (28104, 38))"
            ]
          },
          "metadata": {},
          "execution_count": 6
        }
      ]
    },
    {
      "cell_type": "markdown",
      "source": [
        "F beta score"
      ],
      "metadata": {
        "id": "LJ3UyhARWqp2"
      }
    },
    {
      "cell_type": "code",
      "source": [
        "TP = 4442\n",
        "TN = 6165\n",
        "FP = 1515\n",
        "FN = 1930\n",
        "\n",
        "def fbeta_score(precision, recall, beta = 1.0):\n",
        "  return (1.0 + (beta ** 2)) * (precision * recall) / (((beta **2) * precision) + recall)\n",
        "\n",
        "precision = TP / (TP + FN)\n",
        "recall = TP / (TP + FP)\n",
        "beta = 2.0\n",
        "\n",
        "print('f beta score:', fbeta_score(precision, recall, beta))"
      ],
      "metadata": {
        "id": "JwI2Vv1_Wb9j",
        "outputId": "197ae357-53f8-49f9-e964-b666063e482b",
        "colab": {
          "base_uri": "https://localhost:8080/"
        }
      },
      "execution_count": 7,
      "outputs": [
        {
          "output_type": "stream",
          "name": "stdout",
          "text": [
            "f beta score: 0.7354304635761588\n"
          ]
        }
      ]
    },
    {
      "cell_type": "markdown",
      "source": [
        "### 2) 모델을 학습한 후 Confusion matrix를 그리고 해석하세요\n",
        "- 임계값을 조정한 후 confusion matrix를 그려보세요\n",
        "- **(Urclass Quiz) 임계값을 증가시킬때 positive 범주의 재현율 변화 중 올바른 설명을 고르세요.**\n",
        "    1. 증가\n",
        "    2. 감소\n",
        "    3. 변화가 없다\n"
      ],
      "metadata": {
        "id": "lyH1UuDsWK95"
      }
    },
    {
      "cell_type": "code",
      "execution_count": 8,
      "source": [
        "def engeneer(df):\n",
        "    # 높은 카디널리티를 가지는 특성을 제거\n",
        "    selected_cols = df.select_dtypes(include = ['number', 'object'])\n",
        "    labels = selected_cols.nunique()\n",
        "    selected_feature = labels[labels <= 25].index.tolist()\n",
        "    df = df[selected_feature]\n",
        "\n",
        "    dels = [col for col in df.columns if ('seas' in col or 'seasonal' in col)] # seas 포함하는 컬럼 제거\n",
        "    df.drop(columns = dels, inplace = True)\n",
        "\n",
        "    return df"
      ],
      "outputs": [],
      "metadata": {
        "id": "K1XHodcFWK95"
      }
    },
    {
      "cell_type": "code",
      "source": [
        "train = engeneer(train)\n",
        "val = engeneer(val)\n",
        "test = engeneer(test)"
      ],
      "metadata": {
        "id": "Js3WhBRyXEfK"
      },
      "execution_count": 11,
      "outputs": []
    },
    {
      "cell_type": "code",
      "source": [
        "features = train.drop(columns = [target]).columns\n",
        "\n",
        "X_train = train[features]\n",
        "y_train = train[target]\n",
        "X_val = val[features]\n",
        "y_val = val[target]\n",
        "X_test = test[features]"
      ],
      "metadata": {
        "id": "1TPKVHm0XGv1"
      },
      "execution_count": 12,
      "outputs": []
    },
    {
      "cell_type": "code",
      "source": [
        "!pip install category_encoders"
      ],
      "metadata": {
        "id": "CVPfDSlKXJUC"
      },
      "execution_count": null,
      "outputs": []
    },
    {
      "cell_type": "code",
      "source": [
        "from category_encoders import OrdinalEncoder\n",
        "from sklearn.ensemble import RandomForestClassifier\n",
        "from sklearn.impute import SimpleImputer \n",
        "from sklearn.pipeline import make_pipeline\n",
        "import matplotlib.pyplot as plt"
      ],
      "metadata": {
        "id": "7uSD0dIGXMbK"
      },
      "execution_count": null,
      "outputs": []
    },
    {
      "cell_type": "code",
      "source": [
        "pipe = make_pipeline(\n",
        "    OrdinalEncoder(), \n",
        "    SimpleImputer(), \n",
        "    RandomForestClassifier(random_state=10, n_jobs=-1, n_estimators = 100, oob_score=True))\n",
        "\n",
        "pipe.fit(X_train, y_train)\n",
        "print('검증 정확도', pipe.score(X_val, y_val))"
      ],
      "metadata": {
        "id": "23X1z6_IXP45",
        "outputId": "629fe926-f28f-498e-80b9-d938943af824",
        "colab": {
          "base_uri": "https://localhost:8080/"
        }
      },
      "execution_count": 15,
      "outputs": [
        {
          "output_type": "stream",
          "name": "stdout",
          "text": [
            "검증 정확도 0.8193571343850077\n"
          ]
        }
      ]
    },
    {
      "cell_type": "code",
      "source": [
        "from sklearn.metrics import plot_confusion_matrix\n",
        "import matplotlib.pyplot as plt\n",
        "\n",
        "fig, ax = plt.subplots()\n",
        "pcm = plot_confusion_matrix(pipe, X_val, y_val,\n",
        "                            cmap=plt.cm.Blues,\n",
        "                            ax=ax);\n",
        "plt.title(f'Confusion matrix, n = {len(y_val)}', fontsize=15)\n",
        "plt.show()"
      ],
      "metadata": {
        "id": "S4HkqrGiXSU-",
        "outputId": "bf6160d9-4884-41ce-d8c3-f6b20304a296",
        "colab": {
          "base_uri": "https://localhost:8080/",
          "height": 354
        }
      },
      "execution_count": 16,
      "outputs": [
        {
          "output_type": "stream",
          "name": "stderr",
          "text": [
            "/usr/local/lib/python3.7/dist-packages/sklearn/utils/deprecation.py:87: FutureWarning: Function plot_confusion_matrix is deprecated; Function `plot_confusion_matrix` is deprecated in 1.0 and will be removed in 1.2. Use one of the class methods: ConfusionMatrixDisplay.from_predictions or ConfusionMatrixDisplay.from_estimator.\n",
            "  warnings.warn(msg, category=FutureWarning)\n"
          ]
        },
        {
          "output_type": "display_data",
          "data": {
            "image/png": "[encoded data removed]",
            "text/plain": [
              "<Figure size 432x288 with 2 Axes>"
            ]
          },
          "metadata": {
            "needs_background": "light"
          }
        }
      ]
    },
    {
      "cell_type": "code",
      "source": [
        "from sklearn.metrics import confusion_matrix\n",
        "cm = pcm.confusion_matrix\n",
        "cm"
      ],
      "metadata": {
        "id": "UhdeCW6tXUmH",
        "outputId": "7d187af5-30df-4c87-dc5d-584430a7f511",
        "colab": {
          "base_uri": "https://localhost:8080/"
        }
      },
      "execution_count": 17,
      "outputs": [
        {
          "output_type": "execute_result",
          "data": {
            "text/plain": [
              "array([[6023,  393],\n",
              "       [1131,  884]])"
            ]
          },
          "metadata": {},
          "execution_count": 17
        }
      ]
    },
    {
      "cell_type": "code",
      "source": [
        "y_pred = pipe.predict(X_val)\n",
        "confusion_matrix(y_val, y_pred)"
      ],
      "metadata": {
        "id": "eulsv-arlZBB",
        "outputId": "45fd6b87-49bb-475e-bea1-64d0e67f3cdf",
        "colab": {
          "base_uri": "https://localhost:8080/"
        }
      },
      "execution_count": 18,
      "outputs": [
        {
          "output_type": "execute_result",
          "data": {
            "text/plain": [
              "array([[6023,  393],\n",
              "       [1130,  885]])"
            ]
          },
          "metadata": {},
          "execution_count": 18
        }
      ]
    },
    {
      "cell_type": "code",
      "source": [
        "from sklearn.metrics import classification_report\n",
        "print(classification_report(y_val, y_pred))"
      ],
      "metadata": {
        "id": "zlgKKYN8lmFv",
        "outputId": "5238b959-d448-4987-c63c-ee851da56cbe",
        "colab": {
          "base_uri": "https://localhost:8080/"
        }
      },
      "execution_count": 19,
      "outputs": [
        {
          "output_type": "stream",
          "name": "stdout",
          "text": [
            "              precision    recall  f1-score   support\n",
            "\n",
            "           0       0.84      0.94      0.89      6416\n",
            "           1       0.69      0.44      0.54      2015\n",
            "\n",
            "    accuracy                           0.82      8431\n",
            "   macro avg       0.77      0.69      0.71      8431\n",
            "weighted avg       0.81      0.82      0.80      8431\n",
            "\n"
          ]
        }
      ]
    },
    {
      "cell_type": "code",
      "source": [
        "y_pred_proba = pipe.predict_proba(X_val)[:,1]\n",
        "y_pred_proba"
      ],
      "metadata": {
        "id": "TKfcuKoxlovA",
        "outputId": "6088865b-79c2-40e3-ef92-f7240614de26",
        "colab": {
          "base_uri": "https://localhost:8080/"
        }
      },
      "execution_count": 20,
      "outputs": [
        {
          "output_type": "execute_result",
          "data": {
            "text/plain": [
              "array([0.08716667, 0.08      , 0.56      , ..., 0.22      , 0.1       ,\n",
              "       0.37      ])"
            ]
          },
          "metadata": {},
          "execution_count": 20
        }
      ]
    },
    {
      "cell_type": "code",
      "source": [
        "from ipywidgets import interact, fixed\n",
        "import seaborn as sns\n",
        "from sklearn.metrics import classification_report\n",
        "\n",
        "def explore_threshold(y_true, y_pred_proba, threshold=0.5):\n",
        "    y_pred = y_pred_proba >= threshold\n",
        "    vc = pd.Series(y_pred).value_counts()\n",
        "    ax = sns.histplot(y_pred_proba, kde=True)\n",
        "    ax.axvline(threshold, color='red')\n",
        "    ax.set_title(f'# of target, 1={vc[1]}, 0={vc[0]}')\n",
        "    plt.show()\n",
        "    print(classification_report(y_true, y_pred))\n",
        "\n",
        "    \n",
        "interact(explore_threshold, \n",
        "    y_true=fixed(y_val), \n",
        "    y_pred_proba=fixed(y_pred_proba), \n",
        "    threshold=(0, 1, 0.01));"
      ],
      "metadata": {
        "id": "HMIEPlmkl6YL",
        "outputId": "922570e1-d83c-4cc4-f57d-eff3c8beab4f",
        "colab": {
          "base_uri": "https://localhost:8080/",
          "height": 726,
          "referenced_widgets": [
            "21180e308dc042b3b6bcdaeee8a3fa1a",
            "9c301c7f544d422ba9c06908eb084305",
            "412c9655be194cb390418b118d5a1a72",
            "dee3a838b8aa4602a3feb6b047312854",
            "964f8cf8c5f845299c12ac81af35bae0",
            "55d115c5d722440a8692767f1b7172c6",
            "349d2d7334f941b5a04f7a607e1da87c"
          ]
        }
      },
      "execution_count": 21,
      "outputs": [
        {
          "output_type": "display_data",
          "data": {
            "application/vnd.jupyter.widget-view+json": {
              "model_id": "21180e308dc042b3b6bcdaeee8a3fa1a",
              "version_minor": 0,
              "version_major": 2
            },
            "text/plain": [
              "interactive(children=(FloatSlider(value=0.5, description='threshold', max=1.0, step=0.01), Output()), _dom_cla…"
            ]
          },
          "metadata": {}
        },
        {
          "output_type": "display_data",
          "data": {
            "image/png": "[encoded data removed]",
            "text/plain": [
              "<Figure size 432x288 with 1 Axes>"
            ]
          },
          "metadata": {
            "needs_background": "light"
          }
        }
      ]
    },
    {
      "cell_type": "code",
      "source": [
        "threshold = 0.7\n",
        "y_pred = (pipe.predict_proba(X_val)[:, 1] > threshold).astype('float')\n",
        "\n",
        "fig, ax = plt.subplots()\n",
        "pcm = plot_confusion_matrix(pipe, X_val, y_pred,\n",
        "                            cmap=plt.cm.Blues,\n",
        "                            ax=ax);\n",
        "plt.title(f'Confusion matrix, n = {len(y_pred)}', fontsize=15)\n",
        "plt.show()"
      ],
      "metadata": {
        "id": "qpj2C1HRmDwU",
        "outputId": "a8c17418-62fb-4fff-e869-c7a2db2b1ddf",
        "colab": {
          "base_uri": "https://localhost:8080/",
          "height": 354
        }
      },
      "execution_count": 24,
      "outputs": [
        {
          "output_type": "stream",
          "name": "stderr",
          "text": [
            "/usr/local/lib/python3.7/dist-packages/sklearn/utils/deprecation.py:87: FutureWarning: Function plot_confusion_matrix is deprecated; Function `plot_confusion_matrix` is deprecated in 1.0 and will be removed in 1.2. Use one of the class methods: ConfusionMatrixDisplay.from_predictions or ConfusionMatrixDisplay.from_estimator.\n",
            "  warnings.warn(msg, category=FutureWarning)\n"
          ]
        },
        {
          "output_type": "display_data",
          "data": {
            "image/png": "[encoded data removed]",
            "text/plain": [
              "<Figure size 432x288 with 2 Axes>"
            ]
          },
          "metadata": {
            "needs_background": "light"
          }
        }
      ]
    },
    {
      "cell_type": "code",
      "source": [
        "print(classification_report(y_val, y_pred))"
      ],
      "metadata": {
        "id": "SAsxc3QBmpnz",
        "outputId": "d1ab8282-b55b-46db-f898-f6835777baa9",
        "colab": {
          "base_uri": "https://localhost:8080/"
        }
      },
      "execution_count": 25,
      "outputs": [
        {
          "output_type": "stream",
          "name": "stdout",
          "text": [
            "              precision    recall  f1-score   support\n",
            "\n",
            "           0       0.80      0.98      0.88      6416\n",
            "           1       0.81      0.21      0.34      2015\n",
            "\n",
            "    accuracy                           0.80      8431\n",
            "   macro avg       0.81      0.60      0.61      8431\n",
            "weighted avg       0.80      0.80      0.75      8431\n",
            "\n"
          ]
        }
      ]
    },
    {
      "cell_type": "markdown",
      "source": [
        "### 3) 랜덤포레스트의 n_estimator를 1, 10, 100, 1000으로 바꾸어 가며 positive 범주의 predict_proba를 비교해 보세요\n",
        "- 하이퍼파라미터는 다음과 같이 설정합니다.\n",
        "    - n_jobs=-1, random_state=10, max_depth=None, oob_score=True\n",
        "- **(Urclass Quiz) 확률값들의 분포의 변화를 아래 보기 중에서 고르세요**\n",
        "    1. 다양해진다\n",
        "    2. 변화가없다\n"
      ],
      "metadata": {
        "id": "27ipEKqeWK96"
      }
    },
    {
      "cell_type": "code",
      "execution_count": null,
      "source": [
        "### 이곳에서 과제를 진행해 주세요 ###"
      ],
      "outputs": [],
      "metadata": {
        "id": "pV7r-_fYWK96"
      }
    },
    {
      "cell_type": "markdown",
      "source": [
        "### 4) 두개 이상의 다른 분류 모델을 학습시켜 ROC curve, AUC 점수를 비교하고 설명합니다.\n",
        "- 더 좋은 결과가 나오는 모델을 사용해서 캐글에 제출하세요\n",
        "- **(Urclass Quiz) 캐글 Leaderboard의 본인 Score를 제출하세요.**"
      ],
      "metadata": {
        "id": "NzIFRUUrWK97"
      }
    },
    {
      "cell_type": "code",
      "execution_count": null,
      "source": [
        "### 이곳에서 과제를 진행해 주세요 ### "
      ],
      "outputs": [],
      "metadata": {
        "id": "V0zDLvyIWK97"
      }
    },
    {
      "cell_type": "markdown",
      "source": [
        "## 🔥 도전과제(Github - Discussion)"
      ],
      "metadata": {
        "id": "azgINxZtWK98"
      }
    },
    {
      "cell_type": "markdown",
      "source": [
        "### 5) confusion matrix, classification report 등을 그려 보시고, 각 평가지표들에 대해 최대한 분석하고 precision과 recall 중 어느 것을 높이는 방향으로 모델링 해야할지 논의해 보세요. "
      ],
      "metadata": {
        "id": "VlNHPXmBWK98"
      }
    },
    {
      "cell_type": "code",
      "execution_count": null,
      "source": [
        "### 이곳에서 과제를 진행해 주세요 ### "
      ],
      "outputs": [],
      "metadata": {
        "id": "flk0X6NqWK98"
      }
    }
  ],
  "metadata": {
    "kernelspec": {
      "display_name": "Python 3",
      "language": "python",
      "name": "python3"
    },
    "language_info": {
      "codemirror_mode": {
        "name": "ipython",
        "version": 3
      },
      "file_extension": ".py",
      "mimetype": "text/x-python",
      "name": "python",
      "nbconvert_exporter": "python",
      "pygments_lexer": "ipython3",
      "version": "3.7.7"
    },
    "colab": {
      "name": "n223a-evaluation-metrics-for-classification.ipynb",
      "provenance": []
    },
    "widgets": {
      "application/vnd.jupyter.widget-state+json": {
        "21180e308dc042b3b6bcdaeee8a3fa1a": {
          "model_module": "@jupyter-widgets/controls",
          "model_name": "VBoxModel",
          "model_module_version": "1.5.0",
          "state": {
            "_view_name": "VBoxView",
            "_dom_classes": [
              "widget-interact"
            ],
            "_model_name": "VBoxModel",
            "_view_module": "@jupyter-widgets/controls",
            "_model_module_version": "1.5.0",
            "_view_count": null,
            "_view_module_version": "1.5.0",
            "box_style": "",
            "layout": "IPY_MODEL_9c301c7f544d422ba9c06908eb084305",
            "_model_module": "@jupyter-widgets/controls",
            "children": [
              "IPY_MODEL_412c9655be194cb390418b118d5a1a72",
              "IPY_MODEL_dee3a838b8aa4602a3feb6b047312854"
            ]
          }
        },
        "9c301c7f544d422ba9c06908eb084305": {
          "model_module": "@jupyter-widgets/base",
          "model_name": "LayoutModel",
          "model_module_version": "1.2.0",
          "state": {
            "_view_name": "LayoutView",
            "grid_template_rows": null,
            "right": null,
            "justify_content": null,
            "_view_module": "@jupyter-widgets/base",
            "overflow": null,
            "_model_module_version": "1.2.0",
            "_view_count": null,
            "flex_flow": null,
            "width": null,
            "min_width": null,
            "border": null,
            "align_items": null,
            "bottom": null,
            "_model_module": "@jupyter-widgets/base",
            "top": null,
            "grid_column": null,
            "overflow_y": null,
            "overflow_x": null,
            "grid_auto_flow": null,
            "grid_area": null,
            "grid_template_columns": null,
            "flex": null,
            "_model_name": "LayoutModel",
            "justify_items": null,
            "grid_row": null,
            "max_height": null,
            "align_content": null,
            "visibility": null,
            "align_self": null,
            "height": null,
            "min_height": null,
            "padding": null,
            "grid_auto_rows": null,
            "grid_gap": null,
            "max_width": null,
            "order": null,
            "_view_module_version": "1.2.0",
            "grid_template_areas": null,
            "object_position": null,
            "object_fit": null,
            "grid_auto_columns": null,
            "margin": null,
            "display": null,
            "left": null
          }
        },
        "412c9655be194cb390418b118d5a1a72": {
          "model_module": "@jupyter-widgets/controls",
          "model_name": "FloatSliderModel",
          "model_module_version": "1.5.0",
          "state": {
            "_view_name": "FloatSliderView",
            "style": "IPY_MODEL_964f8cf8c5f845299c12ac81af35bae0",
            "_dom_classes": [],
            "description": "threshold",
            "step": 0.01,
            "_model_name": "FloatSliderModel",
            "orientation": "horizontal",
            "max": 1,
            "_view_module": "@jupyter-widgets/controls",
            "_model_module_version": "1.5.0",
            "value": 0.4,
            "_view_count": null,
            "disabled": false,
            "_view_module_version": "1.5.0",
            "min": 0,
            "continuous_update": true,
            "readout_format": ".2f",
            "description_tooltip": null,
            "readout": true,
            "_model_module": "@jupyter-widgets/controls",
            "layout": "IPY_MODEL_55d115c5d722440a8692767f1b7172c6"
          }
        },
        "dee3a838b8aa4602a3feb6b047312854": {
          "model_module": "@jupyter-widgets/output",
          "model_name": "OutputModel",
          "model_module_version": "1.0.0",
          "state": {
            "_view_name": "OutputView",
            "msg_id": "",
            "_dom_classes": [],
            "_model_name": "OutputModel",
            "outputs": [
              {
                "output_type": "display_data",
                "data": {
                  "image/png": "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\n",
                  "text/plain": "<Figure size 432x288 with 1 Axes>"
                },
                "metadata": {
                  "needs_background": "light"
                }
              },
              {
                "output_type": "stream",
                "name": "stdout",
                "text": [
                  "              precision    recall  f1-score   support\n",
                  "\n",
                  "           0       0.87      0.88      0.88      6416\n",
                  "           1       0.61      0.58      0.59      2015\n",
                  "\n",
                  "    accuracy                           0.81      8431\n",
                  "   macro avg       0.74      0.73      0.73      8431\n",
                  "weighted avg       0.81      0.81      0.81      8431\n",
                  "\n"
                ]
              }
            ],
            "_view_module": "@jupyter-widgets/output",
            "_model_module_version": "1.0.0",
            "_view_count": null,
            "_view_module_version": "1.0.0",
            "layout": "IPY_MODEL_349d2d7334f941b5a04f7a607e1da87c",
            "_model_module": "@jupyter-widgets/output"
          }
        },
        "964f8cf8c5f845299c12ac81af35bae0": {
          "model_module": "@jupyter-widgets/controls",
          "model_name": "SliderStyleModel",
          "model_module_version": "1.5.0",
          "state": {
            "_view_name": "StyleView",
            "handle_color": null,
            "_model_name": "SliderStyleModel",
            "description_width": "",
            "_view_module": "@jupyter-widgets/base",
            "_model_module_version": "1.5.0",
            "_view_count": null,
            "_view_module_version": "1.2.0",
            "_model_module": "@jupyter-widgets/controls"
          }
        },
        "55d115c5d722440a8692767f1b7172c6": {
          "model_module": "@jupyter-widgets/base",
          "model_name": "LayoutModel",
          "model_module_version": "1.2.0",
          "state": {
            "_view_name": "LayoutView",
            "grid_template_rows": null,
            "right": null,
            "justify_content": null,
            "_view_module": "@jupyter-widgets/base",
            "overflow": null,
            "_model_module_version": "1.2.0",
            "_view_count": null,
            "flex_flow": null,
            "width": null,
            "min_width": null,
            "border": null,
            "align_items": null,
            "bottom": null,
            "_model_module": "@jupyter-widgets/base",
            "top": null,
            "grid_column": null,
            "overflow_y": null,
            "overflow_x": null,
            "grid_auto_flow": null,
            "grid_area": null,
            "grid_template_columns": null,
            "flex": null,
            "_model_name": "LayoutModel",
            "justify_items": null,
            "grid_row": null,
            "max_height": null,
            "align_content": null,
            "visibility": null,
            "align_self": null,
            "height": null,
            "min_height": null,
            "padding": null,
            "grid_auto_rows": null,
            "grid_gap": null,
            "max_width": null,
            "order": null,
            "_view_module_version": "1.2.0",
            "grid_template_areas": null,
            "object_position": null,
            "object_fit": null,
            "grid_auto_columns": null,
            "margin": null,
            "display": null,
            "left": null
          }
        },
        "349d2d7334f941b5a04f7a607e1da87c": {
          "model_module": "@jupyter-widgets/base",
          "model_name": "LayoutModel",
          "model_module_version": "1.2.0",
          "state": {
            "_view_name": "LayoutView",
            "grid_template_rows": null,
            "right": null,
            "justify_content": null,
            "_view_module": "@jupyter-widgets/base",
            "overflow": null,
            "_model_module_version": "1.2.0",
            "_view_count": null,
            "flex_flow": null,
            "width": null,
            "min_width": null,
            "border": null,
            "align_items": null,
            "bottom": null,
            "_model_module": "@jupyter-widgets/base",
            "top": null,
            "grid_column": null,
            "overflow_y": null,
            "overflow_x": null,
            "grid_auto_flow": null,
            "grid_area": null,
            "grid_template_columns": null,
            "flex": null,
            "_model_name": "LayoutModel",
            "justify_items": null,
            "grid_row": null,
            "max_height": null,
            "align_content": null,
            "visibility": null,
            "align_self": null,
            "height": null,
            "min_height": null,
            "padding": null,
            "grid_auto_rows": null,
            "grid_gap": null,
            "max_width": null,
            "order": null,
            "_view_module_version": "1.2.0",
            "grid_template_areas": null,
            "object_position": null,
            "object_fit": null,
            "grid_auto_columns": null,
            "margin": null,
            "display": null,
            "left": null
          }
        }
      }
    }
  },
  "nbformat": 4,
  "nbformat_minor": 0
}