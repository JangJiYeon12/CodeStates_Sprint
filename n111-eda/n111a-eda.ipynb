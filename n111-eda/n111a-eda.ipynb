{
  "nbformat": 4,
  "nbformat_minor": 0,
  "metadata": {
    "colab": {
      "name": "n111a-eda.ipynb",
      "provenance": []
    },
    "kernelspec": {
      "name": "python3",
      "display_name": "Python 3"
    }
  },
  "cells": [
    {
      "cell_type": "markdown",
      "metadata": {
        "id": "MSnsTgZLKO72"
      },
      "source": [
        "<img src='https://i.imgur.com/RDAD11M.png' width = '200' align = 'right'>\n",
        "\n",
        "## *DATA SCIENCE / SECTION 1 / SPRINT 1 / NOTE 1*\n",
        "\n",
        "---\n",
        "\n",
        "# 📝 Assignment\n",
        "\n"
      ]
    },
    {
      "cell_type": "markdown",
      "metadata": {
        "id": "qoR8E-T2TYPd"
      },
      "source": [
        "## 1.데이터셋 불러오기 연습\n",
        "\n",
        "다음 url에서 엑셀 파일을 불러오세요. (pandas excel)\n",
        "\n",
        "<https://ds-lecture-data.s3.ap-northeast-2.amazonaws.com/stocks/Travel.xlsx>\n",
        "\n",
        "  - 데이터셋 변수의 이름은 `df1`, `df2`로 저장하세요.\n",
        "  - row가 아닌 column에 '매출액', '영업이익' 이 가도록 데이터를 transpose 하세요.\n",
        "  - 이후 아래 링크를 참조하여 첫번째 row를 column name으로 설정하세요.\n",
        "\n",
        "<https://stackoverflow.com/questions/31328861/python-pandas-replacing-header-with-top-row>\n",
        "\n",
        "- 파일은 2개의 시트로 구성되어 있으며 각각 이름은 `008770`, `035250` 입니다.\n",
        "\n"
      ]
    },
    {
      "cell_type": "code",
      "metadata": {
        "id": "wMxnu2SmTS8Z"
      },
      "source": [
        ""
      ],
      "execution_count": null,
      "outputs": []
    },
    {
      "cell_type": "markdown",
      "metadata": {
        "id": "156P6ndeKojO"
      },
      "source": [
        "## 2. 데이터 확인\n",
        "\n",
        "- 데이터의 dimension을 확인하세요.\n",
        "- 데이터의 결측치가 어디에 있는지 확인 후 0으로 대체하세요.\n",
        "- 각 데이터 별로 **FCF**의 값을 barplot으로 시각화하세요.\n",
        "  - 0보다 큰값, 작은값의 수의 총합을 `num1`, `num2`에 저장하세요\n"
      ]
    },
    {
      "cell_type": "code",
      "metadata": {
        "id": "s_ld2YJujRSb"
      },
      "source": [
        "num1 = '~'\n",
        "num2 = '~'"
      ],
      "execution_count": null,
      "outputs": []
    },
    {
      "cell_type": "markdown",
      "metadata": {
        "id": "OGMOBwEBTqKS"
      },
      "source": [
        "## 3. File export\n",
        "\n",
        "- 읽었던 엑셀 파일의 내용을 2개의 csv로 각각 출력하세요. (python export csv)\n",
        "\n",
        "  - 이름은 각각 `df1.csv`, `df2.csv` 입니다.\n"
      ]
    },
    {
      "cell_type": "code",
      "metadata": {
        "id": "xe47NX7qk53H"
      },
      "source": [
        ""
      ],
      "execution_count": null,
      "outputs": []
    },
    {
      "cell_type": "markdown",
      "metadata": {
        "id": "DCZ01w4Ps-jO"
      },
      "source": [
        "## 4. Error Handling\n",
        "\n",
        "- 다음의 에러를 고치세요. 결과값은 6912가 나와야합니다.\n"
      ]
    },
    {
      "cell_type": "code",
      "metadata": {
        "colab": {
          "base_uri": "https://localhost:8080/",
          "height": 198
        },
        "id": "NJdISe69ZT7E",
        "outputId": "904545d9-2ed2-4ea8-b8ea-1c95614beba4"
      },
      "source": [
        "a = '1234'\n",
        "b = 5678\n",
        "\n",
        "a+b"
      ],
      "execution_count": 1,
      "outputs": [
        {
          "output_type": "error",
          "ename": "TypeError",
          "evalue": "ignored",
          "traceback": [
            "\u001b[0;31m---------------------------------------------------------------------------\u001b[0m",
            "\u001b[0;31mTypeError\u001b[0m                                 Traceback (most recent call last)",
            "\u001b[0;32m<ipython-input-1-ff2b9b4199e0>\u001b[0m in \u001b[0;36m<module>\u001b[0;34m()\u001b[0m\n\u001b[1;32m      2\u001b[0m \u001b[0mb\u001b[0m \u001b[0;34m=\u001b[0m \u001b[0;36m5678\u001b[0m\u001b[0;34m\u001b[0m\u001b[0;34m\u001b[0m\u001b[0m\n\u001b[1;32m      3\u001b[0m \u001b[0;34m\u001b[0m\u001b[0m\n\u001b[0;32m----> 4\u001b[0;31m \u001b[0ma\u001b[0m\u001b[0;34m+\u001b[0m\u001b[0mb\u001b[0m\u001b[0;34m\u001b[0m\u001b[0;34m\u001b[0m\u001b[0m\n\u001b[0m",
            "\u001b[0;31mTypeError\u001b[0m: must be str, not int"
          ]
        }
      ]
    },
    {
      "cell_type": "markdown",
      "metadata": {
        "id": "en0Q_b5L4fxA"
      },
      "source": [
        "## Grading\n",
        "\n",
        "이전 과제를 완료했다면, 아래의 코드를 실행하세요. "
      ]
    },
    {
      "cell_type": "code",
      "metadata": {
        "id": "1k3zn-YV4fdg"
      },
      "source": [
        "import os\n",
        "\n",
        "def grade(df1, df2, num1, num2):\n",
        "  score = 0\n",
        "  \n",
        "  score += (df1['매출액'][0] == 14753)\n",
        "  score += (df2['매출액'][1] == 3728)\n",
        "\n",
        "  score += (df1.shape == (7, 32))\n",
        "  score += (df2.isnull().sum().sum() == 0)\n",
        "  score += (num1 == 4 and num2 == 6)\n",
        "\n",
        "  score += (os.listdir() == ['.config', 'df2.csv', 'df1.csv', 'sample_data'])\n",
        "\n",
        "  score += (a+b == 6912)\n",
        "\n",
        "  return(score)"
      ],
      "execution_count": null,
      "outputs": []
    },
    {
      "cell_type": "code",
      "metadata": {
        "id": "nj_RslFn4lCM"
      },
      "source": [
        "grade(df1, df2, num1, num2)"
      ],
      "execution_count": null,
      "outputs": []
    },
    {
      "cell_type": "markdown",
      "metadata": {
        "id": "axPHh5t5s124"
      },
      "source": [
        "## 🔥 도전과제 \n",
        "\n",
        "- 다음 데이터를 사용하여 아래와 동일한 그래프를 그리세요.\n",
        "\n",
        "<https://ds-lecture-data.s3.ap-northeast-2.amazonaws.com/stocks/TSLA.csv>\n",
        "\n",
        "<img src='https://i.imgur.com/UsS5JcZ.png'>\n",
        "\n"
      ]
    },
    {
      "cell_type": "code",
      "metadata": {
        "id": "eNGiylrhwm2D"
      },
      "source": [
        ""
      ],
      "execution_count": null,
      "outputs": []
    }
  ]
}