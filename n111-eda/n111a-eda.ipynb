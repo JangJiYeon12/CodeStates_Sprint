{
 "cells": [
  {
   "cell_type": "markdown",
   "metadata": {
    "colab_type": "text",
    "id": "MSnsTgZLKO72"
   },
   "source": [
    "<img src='https://i.imgur.com/RDAD11M.png' width = '200' align = 'right'>\n",
    "\n",
    "## *DATA SCIENCE / SECTION 1 / SPRINT 1 / NOTE 1*\n",
    "\n",
    "---\n",
    "\n",
    "# 📝 Assignment\n",
    "\n",
    "# 데이터셋 불러오기, 탐색 연습\n",
    "\n",
    "이번 과제의 결과물은 특별히 정해져 있지 않습니다. 대신 [UC-Irvine 머신 러닝 저장소](https://archive.ics.uci.edu/ml/index.php)로 부터 데이터셋을 불러오는 것이 목적입니다.\n",
    "\n",
    "여러분이 다른 코스 수강생들과 다른 데이터셋을 사용 한다고 해도, 가능하면 서로 보고 배울 수 있기를 기대합니다. \n",
    "\n",
    "대부분의 UCI의 데이터셋들은 데이터 셋을 불러오는 과정에서 유사한 문제가 발생하기 때문입니다.\n",
    "\n",
    "사용하는 데이터셋이 반드시 `.csv` 일 필요는 없습니다. \n",
    "\n",
    "가능한 경우, 여러분의 로컬 PC에 있는 텍스트 파일이나 온라인 상의 다른 데이터 셋을 쉘의 `!curl` 명령어 등을 이용해서 데이터프레임의 형태로 읽어보시길 바랍니다. \n",
    "\n",
    "이 노트북 파일에 추가 markdown 혹은 code 셀, 주석이나 그래프 등 여러분이 가지고 있는 질문에 답하는 것에 도움이 될 내용들을 추가하는 것도 연습해보시길 바랍니다."
   ]
  },
  {
   "cell_type": "markdown",
   "metadata": {
    "colab_type": "text",
    "id": "156P6ndeKojO"
   },
   "source": [
    "## 1) UCI 데이터셋 불러오기 (URL을 통해)\n",
    "\n",
    "홈페이지에 있는 여러 데이터셋 중 (`Adult`처럼 강의때 했던 내용을 제외하고) \n",
    "\n",
    "우측에 있는 \"Most Popular\" 섹션 가운데에서 한 데이터셋을 선택한 뒤, 해당 데이터셋을 URL로 부터 바로 읽어보세요. (작업 코드를 작성하며, 아래의 질문에 대해 대답할 수 있어야합니다.) \n",
    "\n",
    "- 헤더가 정상적으로 보여지나요?\n",
    "- 첫 5줄 혹은 마지막 5줄을 확인하고 각각 순서를 가지고 정렬이 되어있나요?\n",
    "- UCI 홈페이지에서 설명한 것과 동일한 행과 열을 가지고 있나요?\n",
    "- 주의 할 점으로, UCI는 y 변수 ( 나중에 머신러닝 모델링에서 쓰기 위한 값으로 지금 당장은 중요 하지 않습니다)를 \"속성\"이 아니라, \"클래스 속성\"으로 취급하기 때문에 행이 1개 더 많은 경우도 있습니다. \n",
    "- 데이터셋에 결측치가 존재 하나요? (UCI의 설명과 일치 하는지)\n",
    "- `NaN` 혹은 다른 결측치를 다루는 작업을 `df.isnull().sum()`외의 방법으로 할 수 있나요? (예를 들면, `np.NaN`으로 표기된 값을 결측치로 처리해야 합니다) \n",
    "- `.describe()` 함수를 사용하여, 여러 통계치를 확인할 수 있나요?"
   ]
  },
  {
   "cell_type": "code",
   "execution_count": null,
   "metadata": {
    "colab": {},
    "colab_type": "code",
    "id": "NJdISe69ZT7E"
   },
   "outputs": [],
   "source": [
    "# 코드를 작성하세요"
   ]
  },
  {
   "cell_type": "markdown",
   "metadata": {
    "colab_type": "text",
    "id": "-gFnZR6iLLPY"
   },
   "source": [
    "## 2) 로컬 머신에서 데이터셋 불러오기 \n",
    "마찬가지로, UCI의 \"Popular Datasets\"에서 2번째 데이터 셋을 선택합니다. \n",
    "\n",
    "그러나 이번에는 해당 데이터셋을 먼저 다운로드 한 다음, 코랩에 업로드하세요. 필요하다면 다음 링크를 참조하는 것도 좋습니다: \n",
    "\n",
    "- [How to colab upload](https://tykimos.github.io/2019/01/22/colab_getting_started/)\n",
    "\n",
    "- 1)번에서 했던 내용을 다시 한번 해보세요\n"
   ]
  },
  {
   "cell_type": "code",
   "execution_count": null,
   "metadata": {
    "colab": {},
    "colab_type": "code",
    "id": "qUmwX-ZoM9cq"
   },
   "outputs": [],
   "source": [
    "# 코드를 작성하세요"
   ]
  },
  {
   "cell_type": "markdown",
   "metadata": {
    "colab_type": "text",
    "id": "mq_aQjxlM-u5"
   },
   "source": [
    "## 3) 범주형 값 (Categorical Variables)에 대해서 분할표 (Crosstab)를 만드세요.\n",
    "\n",
    "데이터셋 중에서 숫자형 값(Numerical Variables)이 아닌 범주형 값(Categorical Variables)을 가진 데이터 셋을 사용하여야 합니다. \n"
   ]
  },
  {
   "cell_type": "code",
   "execution_count": null,
   "metadata": {
    "colab": {},
    "colab_type": "code",
    "id": "9-n9-LTM-18p"
   },
   "outputs": [],
   "source": [
    "# 코드를 작성하세요"
   ]
  },
  {
   "cell_type": "markdown",
   "metadata": {
    "colab_type": "text",
    "id": "OJ4t2IAk-6Vg"
   },
   "source": [
    "## 4) 다음을 이용하여 데이터셋의 분포를 확인하세요: \n",
    "- Histograms\n",
    "- Scatterplots\n",
    "- Density Plots"
   ]
  },
  {
   "cell_type": "code",
   "execution_count": null,
   "metadata": {
    "colab": {},
    "colab_type": "code",
    "id": "DhES5WmH_NFt"
   },
   "outputs": [],
   "source": [
    "# 코드를 작성하세요"
   ]
  },
  {
   "cell_type": "markdown",
   "metadata": {
    "colab_type": "text",
    "id": "MZCxTwKuReV9"
   },
   "source": [
    "## 🔥 도전과제 \n",
    "\n",
    "아래의 과제는 선택이며, 주된 목적은 과제의 최소 기대치 보다 한걸음 더 나아갈 수 있게 디자인 되었습니다. 원하는 만큼 선택하여 풀면 되고, 문제를 풀때 주어진 순서대로 풀어야 할 필요는 없습니다.\n",
    "\n",
    "### - Seaborn의 \"Pairplot\"을 사용하여, 주어진 데이터셋에 대해서 histogram과 scatterplot을 한번에 시각화 해보세요.\n",
    "\n",
    "[Seaborn Pairplot 참조 링크](https://seaborn.pydata.org/generated/seaborn.pairplot.html)\n",
    "\n",
    "### - Binning을 사용해서 연속형 변수 (Continuous variables) 를 범주형 변수 (Categorical variables)로 치환하여 보세요:\n",
    "- [pd.cut()](https://pandas.pydata.org/pandas-docs/version/0.23.4/generated/pandas.cut.html)\n",
    "- [pd.qcut()](https://pandas.pydata.org/pandas-docs/stable/reference/api/pandas.qcut.html)\n",
    "- <https://stackoverflow.com/questions/30211923/what-is-the-difference-between-pandas-qcut-and-pandas-cut>\n",
    "\n",
    "이후 분할표를 사용하여, 제대로 작업이 이루어졌는지 확인 해야 합니다. \n",
    "\n",
    "### - 다른 타입의 데이터\n",
    "\n",
    "#### 개요\n",
    "\n",
    "모든 데이터를 단일 파일에서 얻을 수 있지는 않습니다 \n",
    "\n",
    "예를 들어, 이미지 분류의 경우 수많은 이미지 파일의 데이터를 사용합니다. \n",
    "\n",
    "이 경우에도 여전히 이미지에 대해서 라벨링을 해야하는데, csv의 형태로 다루기 위해서 많은 부분을 줄이거나 혹은 blob 형태의 데이터를 사용 해야 할 수도 있습니다.\n",
    "\n",
    "NLP (Natural language processing, 자연어 처리)에 관심이 있는 경우에도 접하게 될 문제이며, 매우 큰 원본 데이터를 바탕으로 특성들을 데이터로부터 생성하여 \"일반적인\" csv의 형태로 작업해야 할 수 있습니다. \n",
    "\n",
    "데이터사이언스를 코스를 따라가는 동안, 다양한 데이터를 접하게 될텐데요, 또 다른 방법은 데이터베이스로 부터 데이터를 활용 하는 것입니다. (- DB로 부터 쿼리를 통해 작업 하는 것으로, 나중에 엔지니어링 유닛에서 다룰 것입니다)\n",
    "\n",
    "데이터베이스에 데이터를 저장하는 것은, 어플리케이션으로 부터 생성된 로그(log)라는 텍스트 형태의 기록들을 바탕으로 이루어집니다. \n",
    "\n",
    "일반적으로 데이터베이스는 이들로 부터 생성 되지만, 어떤 상황에서는 로그 파일을 직접 분석해야 할 수도 있습니다. 이는 보통 커맨드라인 작업을 바탕으로 이루어지며 (Unix 계열) 앞으로 점차 다룰 기회가 있을 것입니다. \n",
    "\n",
    "---\n",
    "\n",
    "데이터를 얻는 마지막 방법은 API입니다: https://github.com/toddmotto/public-apis\n",
    "\n",
    "API란, Application Programming Interface를 의미하는 것으로, 어플리케이션이 GUI나 다른 시스템과 상호작용을 하기 위해 디자인 되었지만, 이제는 점차 데이터를 쿼리하고 얻을 수 있는 온라인 서비스에 대한 의미도 포함하고 있습니다. 이에 대해서는 접근에 제한이 있는 \"다른 사람의 데이터베이스\"라고 생각하셔도 충분합니다. \n",
    "\n",
    "*도전과제* - 위에서 서술된 방법들 중 한가지를 선택해서 (이미지, 텍스트, 혹은 API를 사용, 데이터베이스도 가능은 하지만 지금 당장은 설치 작업부터가 복잡하니 권장되진 않습니다. ) 노트북에 데이터셋을 불러와보세요"
   ]
  },
  {
   "cell_type": "code",
   "execution_count": null,
   "metadata": {
    "colab": {},
    "colab_type": "code",
    "id": "f4QP6--JBXNK"
   },
   "outputs": [],
   "source": [
    "# 코드를 작성하세요"
   ]
  }
 ],
 "metadata": {
  "colab": {
   "collapsed_sections": [],
   "name": "n111a-eda.ipynb",
   "provenance": []
  },
  "kernelspec": {
   "display_name": "Python 3",
   "language": "python",
   "name": "python3"
  },
  "language_info": {
   "codemirror_mode": {
    "name": "ipython",
    "version": 3
   },
   "file_extension": ".py",
   "mimetype": "text/x-python",
   "name": "python",
   "nbconvert_exporter": "python",
   "pygments_lexer": "ipython3",
   "version": "3.8.5"
  }
 },
 "nbformat": 4,
 "nbformat_minor": 4
}
