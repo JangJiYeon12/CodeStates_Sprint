{
  "cells": [
    {
      "cell_type": "markdown",
      "source": [
        "<img align=\"right\" src=\"https://ds-cs-images.s3.ap-northeast-2.amazonaws.com/Codestates_Fulllogo_Color.png\" width=100>\n",
        "\n",
        "## *AIB / SECTION 2 / SPRINT 2 / NOTE 4*\n",
        "\n",
        "# 📝 Assignment\n",
        "---"
      ],
      "metadata": {
        "id": "_SbqeNgeCNGF"
      }
    },
    {
      "cell_type": "markdown",
      "source": [
        "# 모델선택(Model Selection)\n",
        "\n",
        "### 1) 캐글 대회를 이어서 진행합니다. RandomizedSearchCV 를 사용하여 하이퍼파라미터 튜닝을 진행합니다.\n",
        "\n",
        "- [RandomForestClassifier](https://scikit-learn.org/stable/modules/generated/sklearn.ensemble.RandomForestClassifier.html)를 사용하세요.\n",
        "- 분류문제에서 맞는 [scoring parameter](https://scikit-learn.org/stable/modules/model_evaluation.html#common-cases-predefined-values) metric을 사용하세요.\n",
        "- [OrdinalEncoder](https://contrib.scikit-learn.org/categorical-encoding/ordinal.html) 사용을 권합니다.\n",
        "- RandomizedSearchCV 를 사용해서 하이퍼파라미터 튜닝을 진행하고 최고 성능을 보이는 모델로 예측을 진행한 후 캐글에 제출합니다.\n",
        "- **(Urclass Quiz) 캐글 Leaderboard에서 개선된 본인 Score를 과제 제출폼에 제출하세요.**"
      ],
      "metadata": {
        "id": "o9rGAV07CNGI"
      }
    },
    {
      "cell_type": "code",
      "execution_count": null,
      "source": [
        "!pip install kaggle\n",
        "from google.colab import files\n",
        "files.upload()"
      ],
      "outputs": [],
      "metadata": {
        "id": "L1eF08B8CNGJ"
      }
    },
    {
      "cell_type": "code",
      "source": [
        "!mkdir -p ~/.kaggle\n",
        "!cp kaggle.json ~/.kaggle/\n",
        "\n",
        "# Permission Warning 방지\n",
        "!chmod 600 ~/.kaggle/kaggle.json"
      ],
      "metadata": {
        "id": "2tMFP2okCZlj"
      },
      "execution_count": 4,
      "outputs": []
    },
    {
      "cell_type": "code",
      "source": [
        "!kaggle competitions download -c prediction-of-h1n1-vaccination"
      ],
      "metadata": {
        "id": "pOfG2XzSCbON"
      },
      "execution_count": null,
      "outputs": []
    },
    {
      "cell_type": "code",
      "source": [
        "from sklearn.model_selection import train_test_split\n",
        "import pandas as pd\n",
        "\n",
        "target = 'vacc_h1n1_f'\n",
        "\n",
        "train = pd.merge(pd.read_csv('/content/train.csv.zip'), \n",
        "                 pd.read_csv('/content/train_labels.csv')[target], left_index=True, right_index=True)\n",
        "test = pd.read_csv('/content/test.csv.zip')"
      ],
      "metadata": {
        "id": "E6ovkq16CfO7"
      },
      "execution_count": 6,
      "outputs": []
    },
    {
      "cell_type": "code",
      "source": [
        "def engeneer(df):\n",
        "    # 높은 카디널리티를 가지는 특성을 제거\n",
        "    selected_cols = df.select_dtypes(include = ['number', 'object'])\n",
        "    labels = selected_cols.nunique()\n",
        "    selected_feature = labels[labels <= 25].index.tolist()\n",
        "    df = df[selected_feature]\n",
        "\n",
        "    dels = [col for col in df.columns if ('seas' in col or 'seasonal' in col)] # seas 포함하는 컬럼 제거\n",
        "    df.drop(columns = dels, inplace = True)\n",
        "\n",
        "    return df"
      ],
      "metadata": {
        "id": "OfS04O0iCnam"
      },
      "execution_count": 7,
      "outputs": []
    },
    {
      "cell_type": "code",
      "source": [
        "train, val = train_test_split(train, train_size=0.80, test_size=0.20, \n",
        "                              stratify=train[target], random_state=2)\n",
        "\n",
        "\n",
        "train.shape, val.shape, test.shape"
      ],
      "metadata": {
        "id": "jMUbguRDCuqS",
        "outputId": "90188956-b246-4484-8430-6bc15bb32fda",
        "colab": {
          "base_uri": "https://localhost:8080/"
        }
      },
      "execution_count": 10,
      "outputs": [
        {
          "output_type": "execute_result",
          "data": {
            "text/plain": [
              "((33723, 34), (8431, 34), (28104, 38))"
            ]
          },
          "metadata": {},
          "execution_count": 10
        }
      ]
    },
    {
      "cell_type": "code",
      "source": [
        "train = engeneer(train)\n",
        "val = engeneer(val)\n",
        "test = engeneer(test)"
      ],
      "metadata": {
        "id": "d1yttiZRCoCe"
      },
      "execution_count": 12,
      "outputs": []
    },
    {
      "cell_type": "code",
      "source": [
        "features = train.drop(columns = [target]).columns\n",
        "\n",
        "X_train = train[features]\n",
        "y_train = train[target]\n",
        "X_val = val[features]\n",
        "y_val = val[target]\n",
        "X_test = test[features]"
      ],
      "metadata": {
        "id": "43b-ZP8SC1Ah"
      },
      "execution_count": 13,
      "outputs": []
    },
    {
      "cell_type": "code",
      "source": [
        "!pip install category_encoders"
      ],
      "metadata": {
        "id": "pw6oAUvEC4Jh"
      },
      "execution_count": null,
      "outputs": []
    },
    {
      "cell_type": "code",
      "source": [
        "from category_encoders import OrdinalEncoder\n",
        "from sklearn.ensemble import RandomForestClassifier\n",
        "from sklearn.impute import SimpleImputer \n",
        "from sklearn.pipeline import make_pipeline\n",
        "import matplotlib.pyplot as plt"
      ],
      "metadata": {
        "id": "br_3RbFcC6Hc",
        "outputId": "bbd021bb-e9d2-4e12-9c2d-9a7f085fcca1",
        "colab": {
          "base_uri": "https://localhost:8080/"
        }
      },
      "execution_count": 15,
      "outputs": [
        {
          "output_type": "stream",
          "name": "stderr",
          "text": [
            "/usr/local/lib/python3.7/dist-packages/statsmodels/tools/_testing.py:19: FutureWarning: pandas.util.testing is deprecated. Use the functions in the public API at pandas.testing instead.\n",
            "  import pandas.util.testing as tm\n"
          ]
        }
      ]
    },
    {
      "cell_type": "code",
      "source": [
        "pipe = make_pipeline(\n",
        "    OrdinalEncoder(), \n",
        "    SimpleImputer(), \n",
        "    RandomForestClassifier(random_state=10, n_jobs=-1, n_estimators = 100, oob_score=True))\n",
        "\n",
        "pipe.fit(X_train, y_train)\n",
        "print('검증 정확도', pipe.score(X_val, y_val))"
      ],
      "metadata": {
        "id": "lF1IZPx0C78n",
        "outputId": "4f800293-d04a-4b69-eae4-2175de1dc9f7",
        "colab": {
          "base_uri": "https://localhost:8080/"
        }
      },
      "execution_count": 16,
      "outputs": [
        {
          "output_type": "stream",
          "name": "stdout",
          "text": [
            "검증 정확도 0.8193571343850077\n"
          ]
        }
      ]
    },
    {
      "cell_type": "markdown",
      "source": [
        "## 🔥 도전과제(Github - Discussion)"
      ],
      "metadata": {
        "id": "j6r6XPxcCNGK"
      }
    },
    {
      "cell_type": "markdown",
      "source": [
        "\n",
        "### 2) [`GridSearchCV`](https://scikit-learn.org/stable/modules/generated/sklearn.model_selection.GridSearchCV.html) 를 사용하여 하이퍼파라미터 튜닝을 진행합니다.\n",
        "- 모델 성능을 높이기 위해 가능한 시도를 다 해보세요.\n",
        "- 모델 성능 개선에 가장 큰 영향을 준 특성공학이나 하이퍼파라미터 튜닝에 대해서 왜 성능 개선에 큰 영향을 주었는지 설명해 보시고 서로의 결과에 대해 공유하고 토론해 보세요. \n",
        "\n"
      ],
      "metadata": {
        "id": "yXSSPv5bCNGK"
      }
    },
    {
      "cell_type": "code",
      "execution_count": null,
      "source": [
        "### 이곳에서 과제를 진행해 주세요 ### "
      ],
      "outputs": [],
      "metadata": {
        "id": "h6jZ7NWkCNGK"
      }
    }
  ],
  "metadata": {
    "kernelspec": {
      "display_name": "Python 3",
      "language": "python",
      "name": "python3"
    },
    "language_info": {
      "codemirror_mode": {
        "name": "ipython",
        "version": 3
      },
      "file_extension": ".py",
      "mimetype": "text/x-python",
      "name": "python",
      "nbconvert_exporter": "python",
      "pygments_lexer": "ipython3",
      "version": "3.7.7"
    },
    "colab": {
      "name": "n224a-model-selection.ipynb",
      "provenance": []
    }
  },
  "nbformat": 4,
  "nbformat_minor": 0
}