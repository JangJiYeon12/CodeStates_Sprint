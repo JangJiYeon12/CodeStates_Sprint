{
 "cells": [
  {
   "cell_type": "markdown",
   "source": [
    "<img align=\"right\" src=\"https://ds-cs-images.s3.ap-northeast-2.amazonaws.com/Codestates_Fulllogo_Color.png\" width=100>\n",
    "\n",
    "## *AIB / SECTION 2 / SPRINT 1 / NOTE 3*\n",
    "\n",
    "# 📝 Assignment\n",
    "---"
   ],
   "metadata": {}
  },
  {
   "cell_type": "markdown",
   "source": [
    "# Ridge Regression\n",
    "\n",
    "이번 모듈에서 배운 내용을 조금 다른 데이터를 통해 복습해 봅시다. 데이터에 대한 정보는 다음 링크를 참조해 주세요.\n",
    "\n",
    "- [Melbourne Housing Market]('https://www.kaggle.com/anthonypino/melbourne-housing-market')\n",
    "\n",
    "이번에도 Price 변수를 target으로 정하고 모델을 구성해 봅시다."
   ],
   "metadata": {
    "colab_type": "text",
    "id": "7IXUfiQ2UKj6"
   }
  },
  {
   "cell_type": "code",
   "execution_count": null,
   "source": [
    "import pandas as pd\n",
    "from pandas_profiling import ProfileReport\n",
    "from sklearn.model_selection import train_test_split\n",
    "\n",
    "# get data\n",
    "df = pd.read_csv('https://ds-lecture-data.s3.ap-northeast-2.amazonaws.com/melbourne_house_prices/MELBOURNE_HOUSE_PRICES_LESS.csv')\n",
    "\n",
    "# drop high cardinality cols\n",
    "df.drop(columns=['Suburb','Address','SellerG','Date'], inplace=True)\n",
    "\n",
    "# drop na values in Price\n",
    "df.dropna(subset=['Price'], inplace=True)\n",
    "\n",
    "# drop duplicated rows\n",
    "df.drop_duplicates(inplace=True)\n",
    "\n"
   ],
   "outputs": [],
   "metadata": {
    "colab": {},
    "colab_type": "code",
    "id": "QJBD4ruICm1m"
   }
  },
  {
   "cell_type": "markdown",
   "source": [
    "### 1) 데이터의 특성을 파악하기 위해 pandas_profiling을 사용해 보세요.\n",
    "- **(Urclass Quiz) 범주형 특성으로 원핫인코딩을 할 수 있는 특성의 전체 개수를 제출하세요.**"
   ],
   "metadata": {}
  },
  {
   "cell_type": "code",
   "execution_count": null,
   "source": [
    "### 이곳에서 과제를 진행해 주세요 ###"
   ],
   "outputs": [],
   "metadata": {}
  },
  {
   "cell_type": "markdown",
   "source": [
    "### 2) 범주형 변수들에 대해 one-hot encoding(category_encoders)을 수행하고 데이터를 train/test 셋으로 무작위로 나누어 주세요.(train/test = 80%/20%)\n",
    "- [category_encoders.one_hot.OneHotEncoder](https://contrib.scikit-learn.org/category_encoders/onehot.html#one-hot), 파라미터는 use_cat_names = True 사용\n",
    "- 데이터 분리는 [sklearn.model_selection.train_test_split](https://scikit-learn.org/stable/modules/generated/sklearn.model_selection.train_test_split.html?highlight=train%20test%20split#sklearn-model-selection-train-test-split) 을 사용해 주세요. 사용해야 하는 파라미터는 test_size, train_size, random_state=2 입니다. 나머지는 default 사용합니다.\n",
    "- **(Urclass Quiz) 분리된 학습데이터의 첫번째 샘플의 인덱스 값를 제출하세요.**\n"
   ],
   "metadata": {}
  },
  {
   "cell_type": "code",
   "execution_count": null,
   "source": [
    "### 이곳에서 과제를 진행해 주세요 ###"
   ],
   "outputs": [],
   "metadata": {}
  },
  {
   "cell_type": "markdown",
   "source": [
    "### 3) SelectKBest를 사용해서 20개의 특성만 selection 하세요\n",
    "- score_func 에는 f_regression을 사용합니다\n",
    "- **(Urclass Quiz) 가장 스코어(Attributes: scores_ 사용)가 높게 나온 특성의 이름을 제출하세요.**"
   ],
   "metadata": {}
  },
  {
   "cell_type": "code",
   "execution_count": null,
   "source": [
    "### 이곳에서 과제를 진행해 주세요 ###"
   ],
   "outputs": [],
   "metadata": {}
  },
  {
   "cell_type": "markdown",
   "source": [
    "### 4) RidgeCV를 사용해서 회귀모델을 만들어 보세요\n",
    "- attribute는 normalize=True, cv=5를 사용하세요. 나머지는 default\n",
    "- **(Urclass Quiz) alphas = [0, 0.001, 0.01, 0.1, 1] 을 시도해보고 가장 좋은 점수가 나온 alpha 값을 제출하세요.**"
   ],
   "metadata": {}
  },
  {
   "cell_type": "code",
   "execution_count": null,
   "source": [
    "# 코랩에서 아래와 같은 에러 발생시, sklearn 재설치 진행합니다.\n",
    "# 에러메시지: 'RidgeCV' object has no attribute 'best_score_' (ver.0.23부터 적용됨. 공식문서에서 확인 가능.)\n",
    "# 해결: sklearn 재설치 필요. 버전 0.23 이상\n",
    "# 재설치 방법⇣: \n",
    "\n",
    "# sklearn 버전 확인 -> 0.23보다 낮다면 재설치 진행.\n",
    "import sklearn\n",
    "sklearn.__version__\n",
    "\n",
    "# sklearn 재설치\n",
    "!pip uninstall scikit-learn -y\n",
    "!pip install -U scikit-learn\n",
    "\n",
    "# sklearn 버전 재확인 -> 0.23 이상으로 설치되었는지 확인\n",
    "import sklearn\n",
    "sklearn.__version__"
   ],
   "outputs": [],
   "metadata": {}
  },
  {
   "cell_type": "code",
   "execution_count": null,
   "source": [
    "### 이곳에서 과제를 진행해 주세요 ###"
   ],
   "outputs": [],
   "metadata": {}
  },
  {
   "cell_type": "markdown",
   "source": [
    "### 5) 테스트셋에 대한 MAE 값을 계산하고 모델이 잘 만들어졌는지 확인해 보세요.\n",
    "- **(Urclass Quiz) 테스트셋에 대한 MAE 값을 제출하세요.(소수점 이하 반올림)**"
   ],
   "metadata": {}
  },
  {
   "cell_type": "code",
   "execution_count": null,
   "source": [
    "### 이곳에서 과제를 진행해 주세요 ###"
   ],
   "outputs": [],
   "metadata": {}
  },
  {
   "cell_type": "markdown",
   "source": [
    "## 🔥 도전과제(Github - Discussion)\n",
    "\n",
    "### 공지로 안내드리는 Github - Discussion 페이지에 올려보세요:)"
   ],
   "metadata": {}
  },
  {
   "cell_type": "markdown",
   "source": [
    "### 6) 본인만의 아이디어로 best ridge regression model을 만들어 서로 공유하시고 토론해 보세요. \n",
    "    - 어떤 특성공학을 사용했고, 그 이유와 기대효과는 무엇이었나요? \n",
    "    - 모델 성능 평가 지표는 무엇으로 선정했고, 선정한 이유는 무엇인가요? \n",
    "    - 어떠한 머신러닝 라이브러리를 사용했고, 어떤 튜닝을 진행했나요? 테스트셋의 성능 변화는 어떠한가요? \n",
    "    - 과제 수행 중 부딪혔던 어려움이나 모르는 점이 있었나요? 있었다면 어떻게 해결해 볼 수 있을까요? "
   ],
   "metadata": {}
  },
  {
   "cell_type": "code",
   "execution_count": null,
   "source": [],
   "outputs": [],
   "metadata": {}
  }
 ],
 "metadata": {
  "kernelspec": {
   "display_name": "Python 3",
   "language": "python",
   "name": "python3"
  },
  "language_info": {
   "codemirror_mode": {
    "name": "ipython",
    "version": 3
   },
   "file_extension": ".py",
   "mimetype": "text/x-python",
   "name": "python",
   "nbconvert_exporter": "python",
   "pygments_lexer": "ipython3",
   "version": "3.8.8"
  }
 },
 "nbformat": 4,
 "nbformat_minor": 4
}
