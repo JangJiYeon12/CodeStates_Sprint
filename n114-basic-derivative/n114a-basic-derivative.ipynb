{
 "cells": [
  {
   "cell_type": "markdown",
   "metadata": {
    "id": "G5hwlPlsGega"
   },
   "source": [
    "<img src='https://i.imgur.com/RDAD11M.png' width = '200' align = 'right'>\n",
    "\n",
    "## *DATA SCIENCE / SECTION 1 / SPRINT 1 / NOTE 4*\n",
    "\n",
    "---\n",
    "\n",
    "# 📝 Assignment\n",
    "\n"
   ]
  },
  {
   "cell_type": "markdown",
   "metadata": {},
   "source": [
    "## 1. Dataset 불러오기\n",
    "> seaborn 라이브러리의 load_dataset()을 활용해서 iris 데이터셋을 데이터프레임으로 불러옵니다. 데이터프레임의 이름은 df_iris로 합니다. <br>\n",
    "> df_iris의 shape의 **첫번째 값을 두번째 값으로 나눈 값**을 `res1`에 저장하세요"
   ]
  },
  {
   "cell_type": "code",
   "execution_count": 68,
   "metadata": {},
   "outputs": [],
   "source": [
    "import seaborn as sns\n",
    "import numpy as np\n",
    "np.random.seed(42)\n",
    "\n",
    "# 이곳에 답안을 작성합니다."
   ]
  },
  {
   "cell_type": "markdown",
   "metadata": {},
   "source": [
    "## 2. X 구하기\n",
    "> df_iris에서 sepal_length만 남겨주세요. 그리고 sepal_length 칼럼의 이름은 x로 바꿉니다"
   ]
  },
  {
   "cell_type": "code",
   "execution_count": 50,
   "metadata": {},
   "outputs": [],
   "source": [
    "# 이곳에 답안을 작성합니다."
   ]
  },
  {
   "cell_type": "markdown",
   "metadata": {
    "id": "az0kx_sxHYri"
   },
   "source": [
    "## 3. 기초 미분\n",
    "\n",
    "다음 함수를 미분한 도함수를 구한 후에 num_one 함수를 완성하세요. \n",
    "$f(x) = 4x^5 + 9x^3 + ex^2 - 7$\n",
    "\n",
    "- num_one 함수를 x에 적용한 후에 **derivative_one**이라는 칼럼으로 df_iris에 저장합니다. (Hint : df.apply)\n",
    "- derivative_one 칼럼의 합을 `res2`에 저장합니다 (소수점 세자리까지)"
   ]
  },
  {
   "cell_type": "code",
   "execution_count": 51,
   "metadata": {
    "id": "J5ha7GquLbCo"
   },
   "outputs": [],
   "source": [
    "def num_one(x):\n",
    "    return None # 이곳에 답안을 작성해주시기 바랍니다"
   ]
  },
  {
   "cell_type": "markdown",
   "metadata": {},
   "source": [
    "- 이번에는 scipy의 [derivative](https://docs.scipy.org/doc/scipy/reference/generated/scipy.misc.derivative.html)를 활용하여 **derivative_two** 칼럼으로 저장하세요.\n",
    "  - dx는 1e-7로 설정합니다.\n",
    "- derivative_two 칼럼의 합을 `res3`에 저장합니다 (소수점 세자리까지)"
   ]
  },
  {
   "cell_type": "code",
   "execution_count": 55,
   "metadata": {},
   "outputs": [],
   "source": [
    "def f(x):\n",
    "    return None\n",
    "\n",
    "# 이곳에 답안을 작성해주시기 바랍니다"
   ]
  },
  {
   "cell_type": "markdown",
   "metadata": {
    "id": "U9KQrjt3I66h"
   },
   "source": [
    "## 4. 미분 연습\n",
    "\n",
    ">아래 함수들의 도함수를 작성해주세요."
   ]
  },
  {
   "cell_type": "markdown",
   "metadata": {},
   "source": [
    " $f(x) = e^x$ "
   ]
  },
  {
   "cell_type": "code",
   "execution_count": 57,
   "metadata": {},
   "outputs": [],
   "source": [
    "def e_prime(x):\n",
    "    return None  # 이 곳에 답안을 작성하세요"
   ]
  },
  {
   "cell_type": "markdown",
   "metadata": {},
   "source": [
    "$f(x) = lnx$"
   ]
  },
  {
   "cell_type": "code",
   "execution_count": 60,
   "metadata": {},
   "outputs": [],
   "source": [
    "def ln_prime(x):\n",
    "    return None  # 이 곳에 답안을 작성하세요"
   ]
  },
  {
   "cell_type": "markdown",
   "metadata": {},
   "source": [
    "$f(x) = Sin(2x)$"
   ]
  },
  {
   "cell_type": "code",
   "execution_count": 61,
   "metadata": {},
   "outputs": [],
   "source": [
    "def sine_prime(x):\n",
    "    return None  # 이 곳에 답안을 작성하세요"
   ]
  },
  {
   "cell_type": "markdown",
   "metadata": {},
   "source": [
    "$f(x) = (2x^2 + 8x)^2$"
   ]
  },
  {
   "cell_type": "code",
   "execution_count": 62,
   "metadata": {},
   "outputs": [],
   "source": [
    "def f_prime(x):\n",
    "    return None"
   ]
  },
  {
   "cell_type": "markdown",
   "metadata": {
    "id": "yKehJVDsJQNg"
   },
   "source": [
    "## 5. 편미분\n",
    "\n",
    "주어진 `machine learning model`의 `error function` ($\\varepsilon$)이 다음과 같을 때 `error function`을 **최소화** 하는 최적의 `parameter`들을  구하세요. 그 후 결과를 각각 `p1`, `p2`에 저장하세요.\n",
    "\n",
    "$\\varepsilon(p_1, p_2) = (e \\cdot p_1 - p_2)^2 + {{k_2} \\over { 2 }} \\cdot p_2 $ \n",
    "\n",
    "$k_2 = 100$\n",
    "\n",
    "- 단 최적의 $p_1$은 $p_2$가 $3$일때, 최적의 $p_2$는 $p_1$이 $10$일때를 기준으로 합니다."
   ]
  },
  {
   "cell_type": "code",
   "execution_count": 63,
   "metadata": {
    "id": "TlA7rqlnK2V8"
   },
   "outputs": [],
   "source": [
    "# 이 곳에 답안을 작성하세요"
   ]
  },
  {
   "cell_type": "markdown",
   "metadata": {
    "id": "ksW7uwOzL-eY"
   },
   "source": [
    "## 🔥 도전과제 "
   ]
  },
  {
   "cell_type": "markdown",
   "metadata": {
    "id": "MltjgTsvMZmv"
   },
   "source": [
    "### 다음 함수를 미분하세요. 이후에 x = 3일 때의 결과를 `challenge`에 저장하세요.  \n",
    "$\\sigma(x) = {{1} \\over {1 + e^-x}}$. "
   ]
  },
  {
   "cell_type": "code",
   "execution_count": 70,
   "metadata": {},
   "outputs": [],
   "source": [
    "def sig_prime(x):\n",
    "    return None # 이곳에 답안을 작성하세요."
   ]
  }
 ],
 "metadata": {
  "colab": {
   "name": "n114a-Basic Derivative.ipynb",
   "provenance": []
  },
  "kernelspec": {
   "display_name": "Python 3",
   "language": "python",
   "name": "python3"
  },
  "language_info": {
   "codemirror_mode": {
    "name": "ipython",
    "version": 3
   },
   "file_extension": ".py",
   "mimetype": "text/x-python",
   "name": "python",
   "nbconvert_exporter": "python",
   "pygments_lexer": "ipython3",
   "version": "3.9.4"
  }
 },
 "nbformat": 4,
 "nbformat_minor": 4
}
