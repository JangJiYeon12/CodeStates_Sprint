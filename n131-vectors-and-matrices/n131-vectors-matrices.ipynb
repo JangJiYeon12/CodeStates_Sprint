{
  "nbformat": 4,
  "nbformat_minor": 0,
  "metadata": {
    "colab": {
      "name": "n131-vectors-matrices.ipynb",
      "provenance": [],
      "toc_visible": true,
      "authorship_tag": "ABX9TyMjMWKhx42toQMfzbjXXBIH",
      "include_colab_link": true
    },
    "kernelspec": {
      "name": "python3",
      "display_name": "Python 3"
    }
  },
  "cells": [
    {
      "cell_type": "markdown",
      "metadata": {
        "id": "view-in-github",
        "colab_type": "text"
      },
      "source": [
        "<a href=\"https://colab.research.google.com/github/codestates/ds-cs-section1-sprint3/blob/master/n131_vectors_matrices.ipynb\" target=\"_parent\"><img src=\"https://colab.research.google.com/assets/colab-badge.svg\" alt=\"Open In Colab\"/></a>"
      ]
    },
    {
      "cell_type": "markdown",
      "metadata": {
        "id": "8XRzC5P9s48F"
      },
      "source": [
        "<img src='https://i.imgur.com/RDAD11M.png' width = '200' align = 'right'>\n",
        "\n",
        "## *DATA SCIENCE / SECTION 1 / SPRINT 3 / NOTE 1*\n",
        "\n",
        "---\n",
        "\n",
        "# 벡터와 매트릭스 ( Vectors and Matrices )\n",
        "\n",
        "## 🏆 학습 목표 \n",
        "\n",
        "- 데이터사이언스와 선형대수의 관계를 알 수 있다.\n",
        "- 벡터에 대한 기본 계산을 할 수 있다.\n",
        "- 매트릭스에 대한 기본 계산을 할 수 있다.\n",
        "- 단위행렬 (Identity matrix)와 같은 특별한 매트릭스를 이해하고, 행렬식 (determinant)이나, 역행렬을 (inverse)계산 할 수 있다.\n",
        "- NumPy를 사용하여 기본 선형대수 계산을 할 수 있다.\n",
        "\n",
        "---\n"
      ]
    },
    {
      "cell_type": "markdown",
      "metadata": {
        "id": "M6Bw-os-tETt"
      },
      "source": [
        "# 개요\n",
        "\n",
        "<img src='https://i.imgur.com/knDqkR5.png' width = 500>\n",
        "\n",
        "> 학생들의 시험 점수 데이터를 통해서 새로운 기말고사의 점수를 예측해본다\n",
        "\n",
        "라는 문제를 푼다고 상상해보겠습니다.\n",
        "\n",
        "이는 여러분들이 앞으로 배우게 될 개념 중 하나인 **regression**을 통해서 충분히 풀 수 있습니다.\n",
        "\n",
        "\n",
        "<img src='https://www.researchgate.net/profile/Hieu_Tran33/publication/333457161/figure/fig3/AS:763959762247682@1559153609649/Linear-Regression-model-sample-illustration.ppm' width = 500>\n",
        "\n",
        "당연히 해당 내용은 `numpy`, `pandas`, `scikitlearn`과 같은 라이브러리들을 통해 계산할 수 있을 겁니다.\n",
        "\n",
        "그러나 우리는 먼저 본질적인 질문을 해야합니다.\n",
        "\n",
        "과연 이러한 데이터를 어떻게 python에서 \n",
        "\n",
        "- 표현하고, \n",
        "\n",
        "- 저장하고, \n",
        "\n",
        "- 계산 할 수 있을 것인가. \n",
        "\n",
        "라는 거죠.\n",
        "\n",
        "\n",
        "\n",
        "\n"
      ]
    },
    {
      "cell_type": "markdown",
      "metadata": {
        "id": "FDMQNlBdagcg"
      },
      "source": [
        "## Data Structure\n"
      ]
    },
    {
      "cell_type": "markdown",
      "metadata": {
        "id": "KDyJndgMY0Gl"
      },
      "source": [
        "### 1D\n",
        "\n",
        "여기서 중요한 것은 데이터의 순서는 (order) 유지 되어야 한다는 것 입니다.\n",
        "\n",
        "가령 예측하고자 하는 기말고사의 점수인 87.5와 90.3 이 바뀐다면 아예 다른 문제가 되어버리겠죠.\n",
        "\n",
        "사실 너무나도 익숙합니다만 우리는 일단 1차원 데이터를 표현하기 위해서 \n",
        "\n",
        "아래와 같이 `list`라는 `data structure`를 사용하고 있습니다."
      ]
    },
    {
      "cell_type": "code",
      "metadata": {
        "id": "Q2kILYlzY8d-"
      },
      "source": [
        "studentA = [89.9, 90.3, 85.1, 87.5]\n",
        "studentB = [80.1, 84.0, 85.9, 85]"
      ],
      "execution_count": null,
      "outputs": []
    },
    {
      "cell_type": "markdown",
      "metadata": {
        "id": "lFF9yOifa-n_"
      },
      "source": [
        "### 2D\n",
        "\n",
        "만약, 우리가 조금 더 기억을 해본다면 위의 데이터를 `pandas`의 `dataframe`을 사용해서 조금 더 효율적으로 표현 할 수 있다는 것도 알 것입니다.\n",
        "\n"
      ]
    },
    {
      "cell_type": "code",
      "metadata": {
        "colab": {
          "base_uri": "https://localhost:8080/",
          "height": 111
        },
        "id": "7LFWLSSDbszE",
        "outputId": "c1cd164d-5c9a-4f31-9ce3-506d7f851ffd"
      },
      "source": [
        "import pandas as pd\n",
        "df = pd.DataFrame([\n",
        "              [89.9, 90.3, 85.1, 87.5],\n",
        "              [80.1, 84.0, 85.9, 85]\n",
        "], index = ['studentA', 'studentB'], columns = ['mid1', 'mid2', 'mid3', 'final'])\n",
        "df"
      ],
      "execution_count": 6,
      "outputs": [
        {
          "output_type": "execute_result",
          "data": {
            "text/html": [
              "<div>\n",
              "<style scoped>\n",
              "    .dataframe tbody tr th:only-of-type {\n",
              "        vertical-align: middle;\n",
              "    }\n",
              "\n",
              "    .dataframe tbody tr th {\n",
              "        vertical-align: top;\n",
              "    }\n",
              "\n",
              "    .dataframe thead th {\n",
              "        text-align: right;\n",
              "    }\n",
              "</style>\n",
              "<table border=\"1\" class=\"dataframe\">\n",
              "  <thead>\n",
              "    <tr style=\"text-align: right;\">\n",
              "      <th></th>\n",
              "      <th>mid1</th>\n",
              "      <th>mid2</th>\n",
              "      <th>mid3</th>\n",
              "      <th>final</th>\n",
              "    </tr>\n",
              "  </thead>\n",
              "  <tbody>\n",
              "    <tr>\n",
              "      <th>studentA</th>\n",
              "      <td>89.9</td>\n",
              "      <td>90.3</td>\n",
              "      <td>85.1</td>\n",
              "      <td>87.5</td>\n",
              "    </tr>\n",
              "    <tr>\n",
              "      <th>studentB</th>\n",
              "      <td>80.1</td>\n",
              "      <td>84.0</td>\n",
              "      <td>85.9</td>\n",
              "      <td>85.0</td>\n",
              "    </tr>\n",
              "  </tbody>\n",
              "</table>\n",
              "</div>"
            ],
            "text/plain": [
              "          mid1  mid2  mid3  final\n",
              "studentA  89.9  90.3  85.1   87.5\n",
              "studentB  80.1  84.0  85.9   85.0"
            ]
          },
          "metadata": {
            "tags": []
          },
          "execution_count": 6
        }
      ]
    },
    {
      "cell_type": "markdown",
      "metadata": {
        "id": "8zhbVqXUbmys"
      },
      "source": [
        "(불) 여기서 더 효율적이라는 것의 의미는 무엇일까요?"
      ]
    },
    {
      "cell_type": "markdown",
      "metadata": {
        "id": "jPt65UPEbqB0"
      },
      "source": [
        "이는 **list 안에 list를 담는** `list`와는 또 다른 데이터 구조이며 `2차원 list`, `2차원 array`, `2차원 matrix` 등으로 표현 되기도 합니다. "
      ]
    },
    {
      "cell_type": "markdown",
      "metadata": {
        "id": "DNrRODXFcds7"
      },
      "source": [
        "## Matrix Calculation\n",
        "\n",
        "아마 거의 대부분의 데이터는 2차원 이상으로 표현 되기 때문에, 이러한 `matrix` 계산을 더 효율적이고, 쉽게 할 수 있는 방법들을 사용할 필요가 있습니다."
      ]
    },
    {
      "cell_type": "markdown",
      "metadata": {
        "id": "Qx4kuaV29eXE"
      },
      "source": [
        "### Matrix multiplication\n",
        "\n",
        "<img src=\"https://www.mathsisfun.com/algebra/images/matrix-multiply-ex1b.gif\" width=\"400\">\n"
      ]
    },
    {
      "cell_type": "markdown",
      "metadata": {
        "id": "MDNxCePNnT_6"
      },
      "source": [
        "### Determinant \n",
        "\n",
        "#### 2x2\n",
        "\n",
        "<img src=\"http://cdn.virtualnerd.com/tutorials/Alg2_04_01_0017/assets/Alg2_04_01_0017_D_01_16.png\" width=\"400\">\n",
        "\n",
        "#### 3x3\n",
        "\n",
        "<img src=\"https://www.thecalculator.co/includes/forms/assets/img/Matrix%20determinant%203x3%20formula.jpg\" width='400'>\n",
        "\n",
        "2차원 매트릭스에 대한 값을 계산 후 수를 곱하여 더함\n",
        "\n",
        "#### 4x4 \n",
        "\n",
        "<img src=\"https://semath.info/img/inverse_cofactor_ex4_02.jpg\" width='400'>\n",
        "\n",
        "3차원 매트릭스에 대한 값을 계산 후 수를 곱하여 더함 \n",
        "\n",
        "#### 5x5 매트릭스\n",
        "\n",
        "4차원 매트릭스에 대한 값을 계산 후 수를 곱하여 더함\n",
        "\n",
        "...\n",
        "\n",
        "\n",
        "...\n",
        "\n"
      ]
    },
    {
      "cell_type": "markdown",
      "metadata": {
        "id": "vKQG-YvM9ihY"
      },
      "source": [
        "## Regression (Section 2 에서 배움)\n",
        "\n",
        "<https://en.wikipedia.org/wiki/Linear_regression>\n",
        "\n",
        "<img src='https://wikimedia.org/api/rest_v1/media/math/render/svg/704b31aa61dfc93d672f15bf02aa6d168be49643'>\n",
        "\n",
        "<br>\n",
        "\n",
        "\n",
        "<img src= \"https://wikimedia.org/api/rest_v1/media/math/render/svg/917759911692e98ba477c3d669356525a84aace6\" width=\"400\">\n",
        "\n",
        "**의미는 지금 당장은 몰라도 됩니다**\n",
        "\n",
        "**의미는 지금 당장은 몰라도 됩니다**\n",
        "\n",
        "**의미는 지금 당장은 몰라도 됩니다. 제발** (중요해서 3번 강조)"
      ]
    },
    {
      "cell_type": "code",
      "metadata": {
        "id": "-MaY3bJj9mgj",
        "colab": {
          "base_uri": "https://localhost:8080/",
          "height": 204
        },
        "outputId": "72c6e675-2b54-4e4f-c129-c7fad4040d34"
      },
      "source": [
        "import matplotlib.pyplot as plt\n",
        "import numpy as np\n",
        "import pandas as pd\n",
        "\n",
        "df = pd.DataFrame([\n",
        "    [1,3,5,7,9],\n",
        "    [2,8,14,20,26]],\n",
        "    index = ['mid','final']\n",
        ").T\n",
        "\n",
        "df['ones'] = np.ones(5)\n",
        "\n",
        "df"
      ],
      "execution_count": 18,
      "outputs": [
        {
          "output_type": "execute_result",
          "data": {
            "text/html": [
              "<div>\n",
              "<style scoped>\n",
              "    .dataframe tbody tr th:only-of-type {\n",
              "        vertical-align: middle;\n",
              "    }\n",
              "\n",
              "    .dataframe tbody tr th {\n",
              "        vertical-align: top;\n",
              "    }\n",
              "\n",
              "    .dataframe thead th {\n",
              "        text-align: right;\n",
              "    }\n",
              "</style>\n",
              "<table border=\"1\" class=\"dataframe\">\n",
              "  <thead>\n",
              "    <tr style=\"text-align: right;\">\n",
              "      <th></th>\n",
              "      <th>mid</th>\n",
              "      <th>final</th>\n",
              "      <th>ones</th>\n",
              "    </tr>\n",
              "  </thead>\n",
              "  <tbody>\n",
              "    <tr>\n",
              "      <th>0</th>\n",
              "      <td>1</td>\n",
              "      <td>2</td>\n",
              "      <td>1.0</td>\n",
              "    </tr>\n",
              "    <tr>\n",
              "      <th>1</th>\n",
              "      <td>3</td>\n",
              "      <td>8</td>\n",
              "      <td>1.0</td>\n",
              "    </tr>\n",
              "    <tr>\n",
              "      <th>2</th>\n",
              "      <td>5</td>\n",
              "      <td>14</td>\n",
              "      <td>1.0</td>\n",
              "    </tr>\n",
              "    <tr>\n",
              "      <th>3</th>\n",
              "      <td>7</td>\n",
              "      <td>20</td>\n",
              "      <td>1.0</td>\n",
              "    </tr>\n",
              "    <tr>\n",
              "      <th>4</th>\n",
              "      <td>9</td>\n",
              "      <td>26</td>\n",
              "      <td>1.0</td>\n",
              "    </tr>\n",
              "  </tbody>\n",
              "</table>\n",
              "</div>"
            ],
            "text/plain": [
              "   mid  final  ones\n",
              "0    1      2   1.0\n",
              "1    3      8   1.0\n",
              "2    5     14   1.0\n",
              "3    7     20   1.0\n",
              "4    9     26   1.0"
            ]
          },
          "metadata": {
            "tags": []
          },
          "execution_count": 18
        }
      ]
    },
    {
      "cell_type": "code",
      "metadata": {
        "colab": {
          "base_uri": "https://localhost:8080/"
        },
        "id": "31UlSMocorbN",
        "outputId": "795e998d-2592-46ee-cc66-47011677908a"
      },
      "source": [
        "X = df[['ones', 'mid']].values\n",
        "Y = df['final'].values.reshape(-1, 1) # Transpose\n",
        "\n",
        "# 위의 공식 계산\n",
        "beta = np.matmul(np.linalg.inv(np.matmul(np.transpose(X), X)), np.matmul(np.transpose(X), Y))\n",
        "\n",
        "beta"
      ],
      "execution_count": 19,
      "outputs": [
        {
          "output_type": "execute_result",
          "data": {
            "text/plain": [
              "array([[-1.],\n",
              "       [ 3.]])"
            ]
          },
          "metadata": {
            "tags": []
          },
          "execution_count": 19
        }
      ]
    },
    {
      "cell_type": "code",
      "metadata": {
        "colab": {
          "base_uri": "https://localhost:8080/"
        },
        "id": "DMNv8JxBpm3N",
        "outputId": "6b5a28c1-60bc-4497-fcb9-b06fc873c4b9"
      },
      "source": [
        "Y"
      ],
      "execution_count": 20,
      "outputs": [
        {
          "output_type": "execute_result",
          "data": {
            "text/plain": [
              "array([[ 2],\n",
              "       [ 8],\n",
              "       [14],\n",
              "       [20],\n",
              "       [26]])"
            ]
          },
          "metadata": {
            "tags": []
          },
          "execution_count": 20
        }
      ]
    },
    {
      "cell_type": "code",
      "metadata": {
        "colab": {
          "base_uri": "https://localhost:8080/"
        },
        "id": "PsJzElwLpMQD",
        "outputId": "f6ae5705-25d3-41b6-e838-dc1543a0318b"
      },
      "source": [
        "X"
      ],
      "execution_count": 21,
      "outputs": [
        {
          "output_type": "execute_result",
          "data": {
            "text/plain": [
              "array([[1., 1.],\n",
              "       [1., 3.],\n",
              "       [1., 5.],\n",
              "       [1., 7.],\n",
              "       [1., 9.]])"
            ]
          },
          "metadata": {
            "tags": []
          },
          "execution_count": 21
        }
      ]
    },
    {
      "cell_type": "markdown",
      "metadata": {
        "id": "5cBkL3E-q-nz"
      },
      "source": [
        "이를 통해서, \n",
        "Y = X * beta (+ error) 라는 결과에 대입해보면\n",
        "\n",
        "2 = (1 * -1) + (3 * 1)\n",
        "8 = (1 * -1) + (3 * 3)\n",
        "..."
      ]
    },
    {
      "cell_type": "markdown",
      "metadata": {
        "id": "-6XvBPKJr9WQ"
      },
      "source": [
        "### Visualize Linear Regression"
      ]
    },
    {
      "cell_type": "code",
      "metadata": {
        "id": "mLvWT6lj9yhn",
        "colab": {
          "base_uri": "https://localhost:8080/",
          "height": 295
        },
        "outputId": "08c2073a-6576-45fb-9ecb-a21f6e587945"
      },
      "source": [
        "# Beta 를 변수로 저장\n",
        "beta_0 = beta[0, 0]\n",
        "beta_1 = beta[1, 0]\n",
        "\n",
        "# 선으로 그림\n",
        "plt.scatter(df['mid'], df['final'])\n",
        "axes = plt.gca()\n",
        "x_vals = np.array(axes.get_xlim())\n",
        "y_vals = beta_0 + beta_1 * x_vals\n",
        "plt.plot(x_vals, y_vals, '-', color='b')\n",
        "plt.title('Grade')\n",
        "plt.xlabel('Mid')\n",
        "plt.ylabel('Final')\n",
        "plt.show()"
      ],
      "execution_count": 27,
      "outputs": [
        {
          "output_type": "display_data",
          "data": {
            "image/png": "[encoded data removed]",
            "text/plain": [
              "<Figure size 432x288 with 1 Axes>"
            ]
          },
          "metadata": {
            "tags": [],
            "needs_background": "light"
          }
        }
      ]
    },
    {
      "cell_type": "markdown",
      "metadata": {
        "id": "p-bwMRlkrr0Q"
      },
      "source": [
        "### Linear regression with Scipy "
      ]
    },
    {
      "cell_type": "code",
      "metadata": {
        "colab": {
          "base_uri": "https://localhost:8080/"
        },
        "id": "8mH64mNzqEbr",
        "outputId": "8cfb5f16-90e6-44e7-d231-75e3f39e326e"
      },
      "source": [
        "from scipy import stats\n",
        "stats.linregress([1, 3, 5, 7, 9], [2, 8, 14, 20, 26])"
      ],
      "execution_count": 26,
      "outputs": [
        {
          "output_type": "execute_result",
          "data": {
            "text/plain": [
              "LinregressResult(slope=3.0, intercept=-1.0, rvalue=1.0, pvalue=1.2004217548761408e-30, stderr=0.0)"
            ]
          },
          "metadata": {
            "tags": []
          },
          "execution_count": 26
        }
      ]
    },
    {
      "cell_type": "markdown",
      "metadata": {
        "id": "OyqXaRSRr8JC"
      },
      "source": [
        "최신 기술, 라이브러리, 패키지등에 대해서 계속 연구해야 하는 이유입니다."
      ]
    },
    {
      "cell_type": "markdown",
      "metadata": {
        "id": "YQPzGmQ292_k"
      },
      "source": [
        "## Dimensionality Reduction : PCA, SVD \n",
        "\n",
        "사이즈가 큰 데이터셋을 사이즈가 작은 부분으로 나누는 작업 ( 일반적으로 시각화나 다른 모델링을 위해서 사용 )\n",
        "\n",
        "<img src=\"https://upload.wikimedia.org/wikipedia/commons/thumb/c/c8/Singular_value_decomposition_visualisation.svg/220px-Singular_value_decomposition_visualisation.svg.png\" width=\"400\">"
      ]
    },
    {
      "cell_type": "markdown",
      "metadata": {
        "id": "LNys1ivi-KKJ"
      },
      "source": [
        "## 딥러닝 : CNN (Section 4 에서 배움)\n",
        "\n",
        "\"Convolving\" 은 필터, 커널을 (작은 매트릭스) 통해 이미지를 축소화 하여 그 결과물을 분석에 사용 하는 방법입니다. 필터를 통해서 수정된 이미지는 특수한 부분이 \"강조\"되어 이미지 분석에 사용 될 수 있습니다. 이는 완전히 선형대수를 기반으로한 단계입니다. \n",
        "\n",
        "\n",
        "**의미는 지금 당장은 몰라도 됩니다**\n",
        "\n",
        "**의미는 지금 당장은 몰라도 됩니다**\n",
        "\n",
        "**의미는 지금 당장은 몰라도 됩니다. 제발** (중요해서 3번 강조)\n",
        "\n",
        "<img src=\"https://thumbs.gfycat.com/SmoggyLittleFlickertailsquirrel-size_restricted.gif\">"
      ]
    },
    {
      "cell_type": "code",
      "metadata": {
        "id": "3WVBNlbp-lc7"
      },
      "source": [
        "import imageio\n",
        "import matplotlib.pyplot as plt\n",
        "import numpy as np\n",
        "import scipy.ndimage as nd\n",
        "from skimage.exposure import rescale_intensity\n",
        "from skimage import color\n",
        "\n",
        "img = imageio.imread('https://i.imgur.com/nItPxZp.png')\n",
        "plt.axis('off')\n",
        "plt.imshow(img);"
      ],
      "execution_count": null,
      "outputs": []
    },
    {
      "cell_type": "markdown",
      "metadata": {
        "id": "DmL7HpaDsmNp"
      },
      "source": [
        "### colab에 library 설치하기\n",
        "\n",
        "아래와 같이 `!pip3 install ~~~`을 이용하면 됩니다. (이건 알아야합니다.)"
      ]
    },
    {
      "cell_type": "code",
      "metadata": {
        "id": "Z7jkvntP-h5P"
      },
      "source": [
        "!pip3 install imageio\n",
        "!pip3 install skimage\n",
        "!pip3 install scikit-image"
      ],
      "execution_count": null,
      "outputs": []
    },
    {
      "cell_type": "code",
      "metadata": {
        "id": "eqJTWxqo-oE6"
      },
      "source": [
        "# 이미지를 흑백으로 치환, ( M*N*4 에서 M*N*1로 축소)\n",
        "grayscale = color.rgb2gray(img)\n",
        "plt.axis('off')\n",
        "plt.imshow(grayscale, cmap=plt.cm.gray);"
      ],
      "execution_count": null,
      "outputs": []
    },
    {
      "cell_type": "code",
      "metadata": {
        "id": "RoIS6JGD-qap"
      },
      "source": [
        "# 라플라시안 필터\n",
        "laplacian = np.array([[0,0,1,0,0],\n",
        "              [0,0,2,0,0],\n",
        "              [1,2,-16,2,1],\n",
        "              [0,0,2,0,0],\n",
        "              [0,0,1,0,0]])\n",
        "\n",
        "laplacian_image = nd.convolve(grayscale, laplacian)\n",
        "plt.axis('off')\n",
        "plt.imshow(laplacian_image, cmap=plt.cm.gray);"
      ],
      "execution_count": null,
      "outputs": []
    },
    {
      "cell_type": "code",
      "metadata": {
        "id": "jLun623Y-sWC"
      },
      "source": [
        "# sobel filter (y axis)\n",
        "sobel_x = np.array([\n",
        "    [-1,0,1],\n",
        "    [-2,0,2],\n",
        "    [-1,0,1]\n",
        "])\n",
        "\n",
        "sobel_x_image = nd.convolve(grayscale, sobel_x)\n",
        "plt.axis('off')\n",
        "plt.imshow(sobel_x_image, cmap=plt.cm.gray);"
      ],
      "execution_count": null,
      "outputs": []
    },
    {
      "cell_type": "code",
      "metadata": {
        "id": "G_viT0Bv-wzd"
      },
      "source": [
        "# sobel filter (y axis)\n",
        "sobel_y = np.array([\n",
        "    [1,2,1],\n",
        "    [0,0,0],\n",
        "    [-1,-2,-1]\n",
        "])\n",
        "\n",
        "sobel_y_image = nd.convolve(grayscale, sobel_y)\n",
        "plt.axis('off')\n",
        "plt.imshow(sobel_y_image, cmap=plt.cm.gray);"
      ],
      "execution_count": null,
      "outputs": []
    },
    {
      "cell_type": "markdown",
      "metadata": {
        "id": "-utHeu0B8LMr"
      },
      "source": [
        "# 스칼라, 벡터 \n",
        "\n",
        "- 스칼라와 벡터는 선형 대수를 구성하는 기본 단위입니다. \n",
        "- 스칼라는 단순히 변수로 저장되어 있는 숫자이며 벡터 혹은 매트릭스에 곱해지는 경우 해당 값에 곱한 값으로 결정됩니다.\n",
        "- 한편 벡터는 파이썬에서는 주로 `list`로 사용 되며, 이전에 다뤘던 것처럼 데이터셋을 구성하고 있는 데이터프레임의 행/열로써 사용되기도 합니다. \n",
        "- 매트릭스는 벡터의 모음으로 간주 될 수도 있기 때문에 벡터를 이해하는 것은 매우 중요합니다."
      ]
    },
    {
      "cell_type": "markdown",
      "metadata": {
        "id": "ENo5DQOUB3MV"
      },
      "source": [
        "### 스칼라\n",
        "\n",
        "단일 숫자이며, 변수에 저장 할때는 일반적으로 소문자를 이용하여 표기합니다. \n",
        "\n",
        "스칼라는 실수와 정수 모두 가능합니다.\n",
        "\n",
        "\\begin{align}\n",
        "a = 5\n",
        "\\qquad\n",
        "b = 1.81\n",
        "\\qquad\n",
        "c = -3.12\\mathrm{e}{+23}\n",
        "\\qquad\n",
        "d = \\pi\n",
        "\\end{align}"
      ]
    },
    {
      "cell_type": "code",
      "metadata": {
        "id": "PNTsHRWXB8n8",
        "colab": {
          "base_uri": "https://localhost:8080/",
          "height": 281
        },
        "outputId": "82a7fc5f-df4a-4e5a-b39e-561ab79da993"
      },
      "source": [
        "import math\n",
        "import matplotlib.pyplot as plt\n",
        "import numpy as np\n",
        "\n",
        "# 시작 벡터 (0,0) 기준\n",
        "blue = [.5, .3] \n",
        "\n",
        "# 스칼라를 곱함\n",
        "green = np.multiply(5, blue)\n",
        "red = np.multiply(math.pi, blue)\n",
        "orange = np.multiply(-3.12, blue)\n",
        "\n",
        "# 스케일이 바뀐 벡터를 그림\n",
        "plt.arrow(0, 0, red[0], red[1], head_width = .1, head_length = .1, color = '#d63031')\n",
        "plt.arrow(0, 0, green[0], green[1], head_width = .1, head_length = .1, color = '#00b894')\n",
        "plt.arrow(0, 0, blue[0], blue[1], head_width = .1, head_length = .1, color = '#0984e3')\n",
        "plt.arrow(0, 0, orange[0], orange[1], head_width = .1, head_length = .1, color = '#e17055')\n",
        "plt.xlim(-2, 3)          \n",
        "plt.ylim(-2, 2)\n",
        "plt.title(\"Vector example 1\")\n",
        "plt.show()"
      ],
      "execution_count": 30,
      "outputs": [
        {
          "output_type": "display_data",
          "data": {
            "image/png": "[encoded data removed]",
            "text/plain": [
              "<Figure size 432x288 with 1 Axes>"
            ]
          },
          "metadata": {
            "tags": [],
            "needs_background": "light"
          }
        }
      ]
    },
    {
      "cell_type": "markdown",
      "metadata": {
        "id": "9XDUsS1kB-i0"
      },
      "source": [
        "### 벡터\u001f\n",
        "\n",
        "- *n* 차원의 벡터는 **컴포넌트**라 불리는 *n*개의 원소를 가지는 **순서를 갖는** 모음입니다. (컴포넌트는 스칼라로 간주 되지 않습니다.) \n",
        "- 벡터는 일반적으로 위의 화살표 (→) 를 갖는 소문자의 형태로 표현 됩니다. \n",
        "\n",
        "예시: $\\vec{v}$ \n",
        "\n",
        "\\begin{align}\n",
        "   \\vec{a} = \n",
        "   \\begin{bmatrix}\n",
        "           8\\\\\n",
        "           9\n",
        "    \\end{bmatrix}\n",
        "    \\qquad\n",
        "    \\vec{b} =\n",
        "    \\begin{bmatrix}\n",
        "          -4\\\\\n",
        "           7\\\\\n",
        "           1\n",
        "    \\end{bmatrix}\n",
        "    \\qquad\n",
        "    \\vec{c} =\n",
        "    \\begin{bmatrix}\n",
        "           5.5332\n",
        "    \\end{bmatrix}\n",
        "    \\qquad\n",
        "    \\vec{d} =\n",
        "    \\begin{bmatrix}\n",
        "           Pl\\\\\n",
        "           x\\\\\n",
        "           y\\\\\n",
        "           \\frac{2}{3}\n",
        "    \\end{bmatrix}\n",
        "\\end{align}\n",
        "\n",
        "위의 벡터들은 각각 2, 3, 1, 4차원을 가지고 있습니다."
      ]
    },
    {
      "cell_type": "code",
      "metadata": {
        "id": "COePyv9DCFgB"
      },
      "source": [
        "# 벡터 예시\n",
        "yellow = [.4, .6]\n",
        "red = [.11, .12]\n",
        "blue = [.1, .7]\n",
        "\n",
        "plt.arrow(0, 0, .4, .6, head_width = .01, head_length = .01, color = '#fdcb6e')\n",
        "plt.arrow(0, 0, .11, .12, head_width = .01, head_length = .01, color = '#d63031')\n",
        "plt.arrow(0, 0, .1, .7,  head_width = .01, head_length = .01, color = '#00b894')\n",
        "plt.title('Vector example 2')\n",
        "plt.show()"
      ],
      "execution_count": null,
      "outputs": []
    },
    {
      "cell_type": "markdown",
      "metadata": {
        "id": "DNj5IvzrCHnX"
      },
      "source": [
        "- 물리학의 관점에서, 벡터는 방향과 크기라는 2가지 속성을 갖고 있습니다. \n",
        "\n",
        "- 데이터 사이언스에서 이러한 물리적인 내용을 다루는 일은 거의 없지만, 지금은 벡터의 길이(length)는 벡터의 차원수와 동일하다는 정도만 이해하시면 좋습니다. \n"
      ]
    },
    {
      "cell_type": "markdown",
      "metadata": {
        "id": "Mrc1IN5yvRGC"
      },
      "source": [
        "#### 3D Vector"
      ]
    },
    {
      "cell_type": "code",
      "metadata": {
        "id": "hF1kRxu6CKtG"
      },
      "source": [
        "from mpl_toolkits.mplot3d import Axes3D\n",
        "import numpy as np\n",
        "\n",
        "# 3번째 요소 추가 \n",
        "yellow = [.4, .6, .5]\n",
        "red = [.11, .12, .3]\n",
        "blue = [.1, .7, .4]\n",
        "\n",
        "vectors = np.array([[0, 0, 0, .5, .5, .5], \n",
        "                    [0, 0, 0, .2, .1, .0],\n",
        "                    [0, 0, 0, .1, .3, .3]])\n",
        "\n",
        "X, Y, Z, U, V, W = zip(*vectors) # 몰라도 됩니다. \n",
        "fig = plt.figure()\n",
        "ax = fig.add_subplot(111, projection='3d')\n",
        "ax.quiver(X, Y, Z, U, V, W, length=1)\n",
        "ax.set_xlim([0, 1])\n",
        "ax.set_ylim([0, 1])\n",
        "ax.set_zlim([0, 1])\n",
        "ax.set_xlabel('X')\n",
        "ax.set_ylabel('Y')\n",
        "ax.set_zlabel('Z')\n",
        "plt.show()"
      ],
      "execution_count": null,
      "outputs": []
    },
    {
      "cell_type": "markdown",
      "metadata": {
        "id": "Xra4GxduCNXE"
      },
      "source": [
        "#### 벡터의 크기 (Magnitude, Norm, Length)\n",
        "\n",
        "- 벡터의 *Norm* 혹은 *Magnitude*는 단순히 **길이**에 지나지 않습니다. \n",
        "- 벡터는 선이기 때문에 피타고라스를 기억하는 것으로 길이를 구할 수 있죠. \n",
        "- 벡터의 길이를 구하는 방법을 일반화 하면 다음과 같습니다.\n",
        "\n",
        "벡터의 크기를 표현 할때는 || 를 사용합니다.\n",
        "\n",
        "> v = [1,2,3,4]\n",
        ">\n",
        "> |v| = $\\sqrt{ 1^2 + 2^2 + 3^2 + 4^2 }$\n",
        ">\n",
        "> |v| = 30\n",
        "\n",
        "즉, 벡터의 크기는 모든 원소의 제곱을 더한 후 루트를 씌운 값입니다.\n",
        "\n",
        "벡터 크기의 특징은 다음과 같습니다\n",
        "\n",
        "> $||x|| \\geq 0$ \n",
        ">\n",
        "> $||x|| = 0$ (모든 원소가 0)\n",
        ">\n",
        "> 삼각 부등식: $|| x + y ||\\leq ||x|| + ||y||$\n"
      ]
    },
    {
      "cell_type": "markdown",
      "metadata": {
        "id": "-INEoYRRCJep"
      },
      "source": [
        "#### 벡터의 내적 ( Dot Product )\n",
        "\n",
        "두 벡터 $\\vec{a}$ 와 $\\vec{b}$ 의 내적은, 각 구성요소를 곱한 뒤 합한 값과 같습니다. \n",
        "\n",
        "> v = [1, 2, 3, 4]\n",
        ">\n",
        "> x = [5, 6, 7, 8]\n",
        ">\n",
        "> v $\\cdot$ x = 1 * 5 + 2 * 6 + 3 * 7 + 4 * 8 \n",
        "> \n",
        "> = 70 \n",
        "\n",
        "- 내적은 교환법칙이 적용 됩니다: $ a \\cdot b = b \\cdot a$\n",
        "- 내적은 분배법칙이 적용 됩니다: $a \\cdot (b + c) = a \\cdot b + a \\cdot c$\n",
        "- 벡터의 내적을 위해서는 두 벡터의 길이가 반드시 동일해야 합니다. "
      ]
    },
    {
      "cell_type": "markdown",
      "metadata": {
        "id": "LiAs3-Mh8Lw5"
      },
      "source": [
        "### 매트릭스\n",
        "\n",
        "매트릭스란, 행과 열을 통해 배치되어있는 숫자들입니다. 매트릭스를 표현하는 변수는 일반적으로 대문자를 사용하여 표기합니다.\n",
        "\n",
        "\\begin{align}\n",
        "X = \n",
        "    \\begin{bmatrix}\n",
        "           1 & 2 & 3\\\\\n",
        "           4 & 5 & 6\\\\\n",
        "           7 & 8 & 9\n",
        "    \\end{bmatrix}\n",
        "    \\qquad\n",
        "    Y = \\begin{bmatrix}\n",
        "           1 & 2 & 3\\\\\n",
        "           4 & 5 & 6\n",
        "    \\end{bmatrix}\n",
        " \\end{align}\n",
        "\n",
        "우리가 pandas를 통해 많이 다뤘던 데이터프레임이 매트릭스와 유사한 형태를 가지고 있습니다."
      ]
    },
    {
      "cell_type": "markdown",
      "metadata": {
        "id": "edqRmcp3Diqd"
      },
      "source": [
        "#### Dimensionality\n",
        "\n",
        "- 매트릭스의 행과 열의 숫자를 **차원** (dimension, 차원수등.)이라 표현합니다. \n",
        "- 추가로, 차원을 표기 할때는 행을 먼저, 열을 나중에 표기합니다. (행-열)\n",
        "\n",
        "앞서 본 X의 차원은 3x3입니다. (3 by 3)\n",
        "\n",
        "Y의 차원은 어떻게 될까요?"
      ]
    },
    {
      "cell_type": "markdown",
      "metadata": {
        "id": "_nFQuzwpDkgi"
      },
      "source": [
        "#### 매트릭스의 일치\n",
        "\n",
        "2개의 매트릭스가 일치하기 위해서는, 다음 조건을 만족해야 합니다:\n",
        "\n",
        "1) 동일한 차원을 보유.\n",
        "\n",
        "2) 각 해당하는 구성요소들이 동일.\n",
        "\n",
        "\\begin{align}\n",
        "    \\begin{bmatrix}\n",
        "           1 & 4\\\\\n",
        "           2 & 5\\\\\n",
        "           3 & 6 \n",
        "    \\end{bmatrix} \n",
        "    \\neq\n",
        "    \\begin{bmatrix}\n",
        "           1 & 2 & 3\\\\\n",
        "           4 & 5 & 6\n",
        "    \\end{bmatrix}\n",
        "\\end{align}"
      ]
    },
    {
      "cell_type": "markdown",
      "metadata": {
        "id": "EpmtZFFTDoqh"
      },
      "source": [
        "#### Matrix multiplication\n",
        "\n",
        "위에 있음"
      ]
    },
    {
      "cell_type": "markdown",
      "metadata": {
        "id": "zUHeGSPGDsR8"
      },
      "source": [
        "#### Transpose\n",
        "\n",
        "<https://en.wikipedia.org/wiki/Transpose>\n",
        "\n",
        "매트릭스의 전치는, 행과 열을 바꾸는 것을 의미합니다. 이는 일반적으로 매트릭스 우측 상단에 $T$ 혹은 tick 마크를 통해 표기 됩니다:\n",
        "\n",
        "\\begin{align}\n",
        "B^{T}\n",
        "\\qquad\n",
        "B^{\\prime}\n",
        "\\end{align}\n",
        "\n",
        "이를 읽는 방법은 B transpose 혹은 B prime 입니다.\n",
        "\n",
        "실제 계산은, 대각선 부분의 구성요소를 고정시키고 이를 기준으로 나머지 구성요소들을 **뒤집는다** 라고 생각하면 됩니다.\n",
        " \n",
        "![Matrix Transpose](https://upload.wikimedia.org/wikipedia/commons/e/e4/Matrix_transpose.gif)"
      ]
    },
    {
      "cell_type": "code",
      "metadata": {
        "id": "jLTfBIRqDxtS"
      },
      "source": [
        "df"
      ],
      "execution_count": null,
      "outputs": []
    },
    {
      "cell_type": "code",
      "metadata": {
        "id": "v31YheDkDyPC"
      },
      "source": [
        "df.T"
      ],
      "execution_count": null,
      "outputs": []
    },
    {
      "cell_type": "markdown",
      "metadata": {
        "id": "gRXqzzUE8L87"
      },
      "source": [
        "### 정사각 매트릭스(square matrix)\n",
        "\n",
        "- 정사각 매트릭스는, 정방 매트릭스 라고도 불리며, 보통 선형대수 강의에서 처음 몇 주간 배우게 되는 아주 기초적인 매트릭스입니다.\n",
        "\n",
        "- 이름에서 내포 하고 있듯, 이들은 행과 열의 수가 동일한 매트릭스 입니다:\n",
        "\n",
        "\\begin{align}\n",
        "A =\n",
        "\\begin{bmatrix}\n",
        "  a_{1,1}\n",
        "\\end{bmatrix}\n",
        "\\qquad\n",
        "B =\n",
        "\\begin{bmatrix}\n",
        "b_{1,1} & b_{1,2} \\\\\n",
        "b_{2,1} & b_{2,2}\n",
        "\\end{bmatrix}\n",
        "\\qquad\n",
        "C =\n",
        "\\begin{bmatrix}\n",
        "c_{1,1} & c_{1,2} & c_{1,3} \\\\\n",
        "c_{2,1} & c_{2,2} & c_{2,3} \\\\\n",
        "c_{3,1} & c_{3,2} & c_{3,3} \n",
        "\\end{bmatrix}\n",
        "\\end{align}"
      ]
    },
    {
      "cell_type": "markdown",
      "metadata": {
        "id": "RcB6ruT3AYUt"
      },
      "source": [
        "#### 정사각 매트릭스의 특별한 케이스\n",
        "\n",
        "**Diagonal (대각):** 대각선 부분에만 값이 있고, 나머지는 전부 0입니다.\n",
        "\n",
        "\\begin{align}\n",
        "D =\n",
        "\\begin{bmatrix}\n",
        "a_{1,1} & 0 & 0 \\\\\n",
        "0 & a_{2,2} & 0 \\\\\n",
        "0 & 0 & a_{3,3} \n",
        "\\end{bmatrix}\n",
        "\\end{align}\n",
        "\n",
        "**Upper Triangular (상삼각):** 대각선 위쪽 부분에만 값이 있고, 나머지는 전부 0입니다.\n",
        "\n",
        "\\begin{align}\n",
        "U =\n",
        "\\begin{bmatrix}\n",
        "b_{1,1} & b_{1,2} & b_{1,3} \\\\\n",
        "0 & b_{2,2} & b_{2,3} \\\\\n",
        "0 & 0 & b_{3,3} \n",
        "\\end{bmatrix}\n",
        "\\end{align}\n",
        "\n",
        "**Lower Triangular (하삼각):** upper triangular 와 반대로, 대각선 아래에만 값이 있습니다.\n",
        "\n",
        "\\begin{align}\n",
        "L =\n",
        "\\begin{bmatrix}\n",
        "c_{1,1} & 0 & 0 \\\\\n",
        "c_{2,1} & c_{2,2} & 0 \\\\\n",
        "c_{3,1} & c_{3,2} & c_{3,3} \n",
        "\\end{bmatrix}\n",
        "\\end{align}\n",
        "\n",
        "**Identity (단위 매트릭스):** \n",
        "\n",
        "- Diagonal 매트릭스 중에서, 모든 값이 1인 경우입니다. 임의의 정사각 매트릭스에 단위 행렬을 곱하면, 그 결과값은 원본 정사각 매트릭스로 나오며, \n",
        "- 반대로 임의의 매트릭스에 대해서 곱했을때 단위 매트릭스가 나오게 하는 매트릭스를 역행렬 (Inverse)라고 부릅니다.\n",
        "\n",
        "$AI == A$, $AA^{-1} = I$\n",
        "\n",
        "\\begin{align}\n",
        "I_1 =\n",
        "\\begin{bmatrix}\n",
        "  1\n",
        "\\end{bmatrix}\n",
        "\\qquad\n",
        "I_2 =\n",
        "\\begin{bmatrix}\n",
        "1 & 0 \\\\\n",
        "0 & 1\n",
        "\\end{bmatrix}\n",
        "\\qquad\n",
        "I_3 =\n",
        "\\begin{bmatrix}\n",
        "1 & 0 & 0 \\\\\n",
        "0 & 1 & 0 \\\\\n",
        "0 & 0 & 1 \n",
        "\\end{bmatrix}\n",
        "\\end{align}\n",
        "\n",
        "**Symmetric (대칭):** 대각선을 기준으로 위 아래의 값이 대칭인 경우 입니다.\n",
        "\n",
        "\\begin{align}\n",
        "S =\n",
        "\\begin{bmatrix}\n",
        "1 & 2 & 3 \\\\\n",
        "2 & 4 & 5 \\\\\n",
        "3 & 5 & 6 \n",
        "\\end{bmatrix}\n",
        "\\end{align}\n"
      ]
    },
    {
      "cell_type": "markdown",
      "metadata": {
        "id": "yXN3mVFdFNpL"
      },
      "source": [
        "### Determinant\n",
        "\n",
        "행렬식은 모든 정사각 매트릭스가 갖는 속성으로, $det(A)$ 혹은 $|A|$로 표기 됩니다.\n",
        "\n",
        "2x2 매트릭스를 기준으로, 행렬식은 다음과 같이 (**AD-BC**) 계산 할 수 있습니다:\n",
        "\n",
        "\\begin{align}\n",
        "\\qquad\n",
        "\\begin{bmatrix}\n",
        "8 & 12 \\\\\n",
        "9 & 16\n",
        "\\end{bmatrix}\n",
        "\\end{align}\n",
        "\n",
        "> 8 * 16 - 12 * 9 = 20\n",
        "> \n",
        "> |x| = det(x) = 20\n",
        "\n",
        "더 큰 차원의 매트릭스 행렬식은, 재귀적으로 (recursively) 부분을 이루는 행렬식을 구하는 것으로 계산 할 수 있습니다.\n",
        "\n",
        "ex)\n",
        "\n",
        "<center><img src=\"https://wikimedia.org/api/rest_v1/media/math/render/svg/14f2f2a449d6d152ee71261e47551aa0a31c801e\" width=500></center>\n",
        "\n",
        "- ❓numpy를 이용해서 matrix의 determinant를 계산하는 방법을 찾아보세요"
      ]
    },
    {
      "cell_type": "markdown",
      "metadata": {
        "id": "c6DsBxGmFOvA"
      },
      "source": [
        "### Inverse\n",
        "\n",
        " - 역행렬을 계산하는 방법은 여러가지가 있으며, 행렬의 *역수* 와 같이 표현 할 수 있습니다. \n",
        " - 즉 행렬과 그 역행렬의 값은 항상 1 (단위 매트릭스) 입니다. 2x2 매트릭스를 기준으로, 역행렬을 계산하는 방식중 하나는 아래와 같습니다:\n",
        " \n",
        " \\begin{align}\n",
        "A = \\begin{bmatrix}\n",
        "a & b \\\\\n",
        "c & d\n",
        "\\end{bmatrix}\n",
        "\\qquad\n",
        "A^{-1} = \\frac{1}{ad-bc}\\begin{bmatrix}\n",
        "d & -b\\\\\n",
        "-c & a\n",
        "\\end{bmatrix}\n",
        "\\end{align}\n",
        "\n",
        "\n"
      ]
    },
    {
      "cell_type": "markdown",
      "metadata": {
        "id": "ByOCfNwyFTN7"
      },
      "source": [
        "#### 매트릭스에 역행렬을 곱하면\n",
        "\n",
        "앞서 말했듯, 매트릭스에 그 역행렬을 곱하면, 단위 매트릭스가 됩니다.\n",
        "\n",
        "이것이 중요한 이유는 매트릭스의 **곱**은 있지만 **나눗셈**은 선형대수에 존재하지 않기 때문에 \n",
        "\n",
        "대신 그 행렬의 역행렬을 **곱**하기 때문입니다.\n",
        "\n",
        "\\begin{align}\n",
        "A^{-1}A = I \n",
        "\\end{align}"
      ]
    },
    {
      "cell_type": "markdown",
      "metadata": {
        "id": "uSZ3D9y2JWSu"
      },
      "source": [
        "#### 🔥 다음 매트릭스의 역행렬을 구해보세요 :\n",
        "\n",
        "\\begin{bmatrix}\n",
        "1 & 2 \\\\\n",
        "3 & 6\n",
        "\\end{bmatrix}\n",
        "\n",
        "모든 매트릭스가 역행렬을 가지고 있는 것은 아닙니다. \n",
        "\n",
        "❓어느 조건에서 역행렬이 존재 하지 않을까요?\n"
      ]
    },
    {
      "cell_type": "markdown",
      "metadata": {
        "id": "CpZ-2b5HFYpM"
      },
      "source": [
        "#### 행렬식이 0인 경우\n",
        " \n",
        "- 행렬식이 0인 정사각 매트릭스는 \"특이\" (singular) 매트릭스라고 불리기도 합니다. 이들은 2개의 행 혹은 열이 선형의 관계를 (M[,i]= M[,j] * N) 이루고 있을때 발생합니다. \n",
        "\n",
        "- 이를 표현하는 다른 방법은, **매트릭스의 행과 열이 선형의 의존 관계가 있는 경우 매트릭스의 행렬식은 0이다.** 라고 표현 할 수 있습니다. \n",
        "\n",
        "\\begin{align}\n",
        "S =\n",
        "\\begin{bmatrix}\n",
        "10 & 33 & 2 \\\\\n",
        "25 & 66 & 5 \\\\\n",
        "30 & 99 & 6 \n",
        "\\end{bmatrix}\n",
        "\\end{align}\n",
        "\n",
        "- Urclass의 **Determinant 0 & Data Redundancy** 참조.\n"
      ]
    },
    {
      "cell_type": "markdown",
      "metadata": {
        "id": "z_fYkKbT8MGj"
      },
      "source": [
        "# NumPy를 이용한 선형대수\n"
      ]
    },
    {
      "cell_type": "markdown",
      "metadata": {
        "id": "VL30GAl-tcpl"
      },
      "source": [
        "## 개요\n",
        "\n",
        "<https://numpy.org/>\n",
        "\n",
        "NumPy 는 파이썬에서 선형대수를 포함한 많은 종류의 계산에 쓰일 수 있는 라이브러리 입니다.\n",
        "\n",
        "벡터에 대해서는 파이썬의 리스트를 통해 다뤄봤지만, 앞으로는 NumPy의 Array를 통해 더 많이 다루게 될 것입니다. 파이썬의 리스트와 NumPy의 Array의 차이를 몇가지 배워보도록 하겠습니다."
      ]
    },
    {
      "cell_type": "markdown",
      "metadata": {
        "id": "Y14ENsTu5q80"
      },
      "source": [
        "## 2개의 List를 더하기 "
      ]
    },
    {
      "cell_type": "code",
      "metadata": {
        "id": "3FJDPjwytDfZ"
      },
      "source": [
        "a = [1, 2, 3]\n",
        "b = [4, 5, 6]\n",
        "\n",
        "a + b"
      ],
      "execution_count": null,
      "outputs": []
    },
    {
      "cell_type": "markdown",
      "metadata": {
        "id": "l7rUXd6M5s35"
      },
      "source": [
        "## 2개의 numpy Array를 더하기"
      ]
    },
    {
      "cell_type": "code",
      "metadata": {
        "id": "SFtJF1symxuY"
      },
      "source": [
        "import numpy as np\n",
        "\n",
        "a_np = np.array(a)\n",
        "b_np = np.array(b)\n",
        "\n",
        "a_np + b_np"
      ],
      "execution_count": null,
      "outputs": []
    },
    {
      "cell_type": "markdown",
      "metadata": {
        "id": "wVuKmynAm5qF"
      },
      "source": [
        "리스트와 Array의 가장 큰 차이는 내용물을 **각각 더하는지**의 여부 입니다."
      ]
    },
    {
      "cell_type": "code",
      "metadata": {
        "id": "dIOBi3uznKnx"
      },
      "source": [
        "a_np * b_np"
      ],
      "execution_count": null,
      "outputs": []
    },
    {
      "cell_type": "code",
      "metadata": {
        "id": "Qd5bsOXUnNL2"
      },
      "source": [
        "a_np - b_np"
      ],
      "execution_count": null,
      "outputs": []
    },
    {
      "cell_type": "code",
      "metadata": {
        "id": "vLSUyDEYnPMo"
      },
      "source": [
        "a_np / b_np"
      ],
      "execution_count": null,
      "outputs": []
    },
    {
      "cell_type": "markdown",
      "metadata": {
        "id": "iqjRIRFItg3X"
      },
      "source": [
        "내적을 계산해보도록 하겠습니다. \n",
        "\n",
        "이를 위해서 해야 할 것은 2개의 벡터를 각각 곱하여 더하는 것입니다."
      ]
    },
    {
      "cell_type": "code",
      "metadata": {
        "id": "ZcGlUN55qoGt"
      },
      "source": [
        "(a_np * b_np).sum() # a 와 b 벡터의 내적 계산"
      ],
      "execution_count": null,
      "outputs": []
    },
    {
      "cell_type": "markdown",
      "metadata": {
        "id": "p1BE4P3lnr1-"
      },
      "source": [
        "이미 numpy에 구현 되어 있는 함수를 사용해도 좋습니다. \n",
        "\n",
        "<https://docs.scipy.org/doc/numpy-1.15.1/reference/routines.linalg.html>"
      ]
    },
    {
      "cell_type": "code",
      "metadata": {
        "id": "cqDPG2GCoFFR"
      },
      "source": [
        "np.dot(a_np, b_np)"
      ],
      "execution_count": null,
      "outputs": []
    },
    {
      "cell_type": "markdown",
      "metadata": {
        "id": "yh5x6DXVouPW"
      },
      "source": [
        "## 1D vs 2D NumPy Arrays\n",
        "\n",
        "1 차원 Numpy array는 벡터를 표기하기 위해 사용 할 수 있지만, 행 벡터와 열 벡터를 구분 할 수는 없습니다.\n",
        "\n",
        "\\begin{align}\n",
        "\\text{column vector} = \\begin{bmatrix}1 \\\\ 2 \\\\ 3\\end{bmatrix}\n",
        "\\end{align}\n",
        "\n",
        "\\begin{align}\n",
        "\\text{row vector} = \\begin{bmatrix} 1 & 2 & 3\\end{bmatrix}\n",
        "\\end{align}\n"
      ]
    },
    {
      "cell_type": "code",
      "metadata": {
        "id": "clrA_q4PpXgk"
      },
      "source": [
        "a_np"
      ],
      "execution_count": null,
      "outputs": []
    },
    {
      "cell_type": "code",
      "metadata": {
        "id": "RrmCLJXlqZLb"
      },
      "source": [
        "a_np.shape"
      ],
      "execution_count": null,
      "outputs": []
    },
    {
      "cell_type": "code",
      "metadata": {
        "id": "Dt6h6fMQqy6N"
      },
      "source": [
        "a_np.T.shape # Transpose 이후에도 구분 되지 않음"
      ],
      "execution_count": null,
      "outputs": []
    },
    {
      "cell_type": "markdown",
      "metadata": {
        "id": "LXOIB20Lq2j0"
      },
      "source": [
        "## 행과 열의 명확한 구분을 하기 위해서는 2D array를 사용해야합니다."
      ]
    },
    {
      "cell_type": "code",
      "metadata": {
        "id": "CAMZw2Eqq6e5"
      },
      "source": [
        "c = np.array([[1,2,3]])\n",
        "\n",
        "c.shape"
      ],
      "execution_count": null,
      "outputs": []
    },
    {
      "cell_type": "code",
      "metadata": {
        "id": "d92yfF0E7nPE"
      },
      "source": [
        "d = np.array([[4],\n",
        "              [5],\n",
        "              [6]])\n",
        "\n",
        "d.shape"
      ],
      "execution_count": null,
      "outputs": []
    },
    {
      "cell_type": "markdown",
      "metadata": {
        "id": "-CaNxeTao4ZQ"
      },
      "source": [
        "## NumPy Array와 Matrix는 다릅니다.\n",
        "\n",
        "NumPy에는 martrix라는 클래스 또한 있습니다만, 이후에 제거될 것으로 고려 중인 항목이니 사용하길 권장하지 않습니다. \n",
        "\n",
        "<https://numpy.org/doc/stable/reference/generated/numpy.matrix.html>\n",
        "\n",
        "그냥 matrix라는게 있구나 정도만 아시고, 다른 문서나 튜토리얼에서 사용하는 경우 array의 사용법과 헷갈리지 않도록 주의하세요. (대부분의 경우 matrix로 할 수 있는 것은 array로도 할 수 있습니다)"
      ]
    },
    {
      "cell_type": "code",
      "metadata": {
        "id": "omwR_dinrAzW"
      },
      "source": [
        "matrix = np.mat('1 2 ; 4 5')\n",
        "matrix"
      ],
      "execution_count": null,
      "outputs": []
    },
    {
      "cell_type": "code",
      "metadata": {
        "id": "Jc0AVYysrCnu"
      },
      "source": [
        "matrix.T"
      ],
      "execution_count": null,
      "outputs": []
    },
    {
      "cell_type": "code",
      "metadata": {
        "id": "mJuJLkWBrEae"
      },
      "source": [
        "matrix.I"
      ],
      "execution_count": null,
      "outputs": []
    },
    {
      "cell_type": "code",
      "metadata": {
        "id": "82IobIitrGVD"
      },
      "source": [
        "# ndarrays\n",
        "A = np.array([[1,2], [4,5]])\n",
        "A"
      ],
      "execution_count": null,
      "outputs": []
    },
    {
      "cell_type": "code",
      "metadata": {
        "id": "irmsHsjOrJM4"
      },
      "source": [
        "A.T"
      ],
      "execution_count": null,
      "outputs": []
    },
    {
      "cell_type": "code",
      "metadata": {
        "id": "SaEc-xYyrNLi"
      },
      "source": [
        "A.I # Error"
      ],
      "execution_count": null,
      "outputs": []
    },
    {
      "cell_type": "code",
      "metadata": {
        "id": "uXEg00GGs4hA"
      },
      "source": [
        "np.linalg.inv(A)"
      ],
      "execution_count": null,
      "outputs": []
    }
  ]
}