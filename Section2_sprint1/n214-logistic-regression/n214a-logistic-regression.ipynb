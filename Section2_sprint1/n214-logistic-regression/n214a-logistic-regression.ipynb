{
  "cells": [
    {
      "cell_type": "markdown",
      "source": [
        "<img align=\"right\" src=\"https://ds-cs-images.s3.ap-northeast-2.amazonaws.com/Codestates_Fulllogo_Color.png\" width=100>\n",
        "\n",
        "## *AIB / SECTION 2 / SPRINT 1 / NOTE 4*\n",
        "\n",
        "# 📝 Assignment\n",
        "---"
      ],
      "metadata": {
        "id": "OeroAMyOgDAJ"
      }
    },
    {
      "cell_type": "markdown",
      "source": [
        "# Logistic Regression\n",
        "\n",
        "이번에는 [**Cardiovascular Disease dataset**](https://www.kaggle.com/sulianova/cardiovascular-disease-dataset) 데이터셋을 사용해 봅시다. 데이터에 대한 설명을 캐글 페이지에서 잘 살펴보시고 과제를 진행해 주세요!"
      ],
      "metadata": {
        "id": "7IXUfiQ2UKj6"
      }
    },
    {
      "cell_type": "markdown",
      "source": [
        "### 1) 데이터를 전처리 하겠습니다.\n",
        "- 데이터를 불러오세요.(read_csv 사용)\n",
        "- id 칼럼은 drop하세요.\n",
        "- missing value를 확인하세요.\n",
        "- 중복된 샘플이 있는지 확인하세요.\n",
        "- **중복된 샘플을 제거하고 남은 샘플의 수를 제출하세요.**"
      ],
      "metadata": {
        "id": "M4jPeXtKgDAM"
      }
    },
    {
      "cell_type": "code",
      "execution_count": 23,
      "source": [
        "import pandas as pd\n",
        "df = pd.read_csv('https://ds-lecture-data.s3.ap-northeast-2.amazonaws.com/cardio/cardio_train.csv', sep=';')"
      ],
      "outputs": [],
      "metadata": {
        "id": "pDqnMpHQgDAN"
      }
    },
    {
      "cell_type": "code",
      "execution_count": 24,
      "source": [
        "df1 = df.drop(['id'], axis = 1)"
      ],
      "outputs": [],
      "metadata": {
        "id": "L_vb004_gDAO"
      }
    },
    {
      "cell_type": "code",
      "source": [
        "df1.isnull().sum()"
      ],
      "metadata": {
        "id": "3FveAnLurkbH",
        "outputId": "f0531ccf-307e-4328-fe9c-b9d9df4a6438",
        "colab": {
          "base_uri": "https://localhost:8080/"
        }
      },
      "execution_count": 25,
      "outputs": [
        {
          "output_type": "execute_result",
          "data": {
            "text/plain": [
              "age            0\n",
              "gender         0\n",
              "height         0\n",
              "weight         0\n",
              "ap_hi          0\n",
              "ap_lo          0\n",
              "cholesterol    0\n",
              "gluc           0\n",
              "smoke          0\n",
              "alco           0\n",
              "active         0\n",
              "cardio         0\n",
              "dtype: int64"
            ]
          },
          "metadata": {},
          "execution_count": 25
        }
      ]
    },
    {
      "cell_type": "code",
      "source": [
        "df1.duplicated().sum()"
      ],
      "metadata": {
        "id": "9711Wliasenm",
        "outputId": "3cea60e7-bdb3-42d6-8782-5f96b263a1c4",
        "colab": {
          "base_uri": "https://localhost:8080/"
        }
      },
      "execution_count": 26,
      "outputs": [
        {
          "output_type": "execute_result",
          "data": {
            "text/plain": [
              "24"
            ]
          },
          "metadata": {},
          "execution_count": 26
        }
      ]
    },
    {
      "cell_type": "code",
      "source": [
        "df1.drop_duplicates()"
      ],
      "metadata": {
        "id": "6vn0W2cysjx3",
        "outputId": "262e105c-03ec-4743-b08a-086cd87afb17",
        "colab": {
          "base_uri": "https://localhost:8080/",
          "height": 424
        }
      },
      "execution_count": 27,
      "outputs": [
        {
          "output_type": "execute_result",
          "data": {
            "text/html": [
              "\n",
              "  <div id=\"df-b4fda9f5-5e77-4035-8600-3427f83ae44f\">\n",
              "    <div class=\"colab-df-container\">\n",
              "      <div>\n",
              "<style scoped>\n",
              "    .dataframe tbody tr th:only-of-type {\n",
              "        vertical-align: middle;\n",
              "    }\n",
              "\n",
              "    .dataframe tbody tr th {\n",
              "        vertical-align: top;\n",
              "    }\n",
              "\n",
              "    .dataframe thead th {\n",
              "        text-align: right;\n",
              "    }\n",
              "</style>\n",
              "<table border=\"1\" class=\"dataframe\">\n",
              "  <thead>\n",
              "    <tr style=\"text-align: right;\">\n",
              "      <th></th>\n",
              "      <th>age</th>\n",
              "      <th>gender</th>\n",
              "      <th>height</th>\n",
              "      <th>weight</th>\n",
              "      <th>ap_hi</th>\n",
              "      <th>ap_lo</th>\n",
              "      <th>cholesterol</th>\n",
              "      <th>gluc</th>\n",
              "      <th>smoke</th>\n",
              "      <th>alco</th>\n",
              "      <th>active</th>\n",
              "      <th>cardio</th>\n",
              "    </tr>\n",
              "  </thead>\n",
              "  <tbody>\n",
              "    <tr>\n",
              "      <th>0</th>\n",
              "      <td>18393</td>\n",
              "      <td>2</td>\n",
              "      <td>168</td>\n",
              "      <td>62.0</td>\n",
              "      <td>110</td>\n",
              "      <td>80</td>\n",
              "      <td>1</td>\n",
              "      <td>1</td>\n",
              "      <td>0</td>\n",
              "      <td>0</td>\n",
              "      <td>1</td>\n",
              "      <td>0</td>\n",
              "    </tr>\n",
              "    <tr>\n",
              "      <th>1</th>\n",
              "      <td>20228</td>\n",
              "      <td>1</td>\n",
              "      <td>156</td>\n",
              "      <td>85.0</td>\n",
              "      <td>140</td>\n",
              "      <td>90</td>\n",
              "      <td>3</td>\n",
              "      <td>1</td>\n",
              "      <td>0</td>\n",
              "      <td>0</td>\n",
              "      <td>1</td>\n",
              "      <td>1</td>\n",
              "    </tr>\n",
              "    <tr>\n",
              "      <th>2</th>\n",
              "      <td>18857</td>\n",
              "      <td>1</td>\n",
              "      <td>165</td>\n",
              "      <td>64.0</td>\n",
              "      <td>130</td>\n",
              "      <td>70</td>\n",
              "      <td>3</td>\n",
              "      <td>1</td>\n",
              "      <td>0</td>\n",
              "      <td>0</td>\n",
              "      <td>0</td>\n",
              "      <td>1</td>\n",
              "    </tr>\n",
              "    <tr>\n",
              "      <th>3</th>\n",
              "      <td>17623</td>\n",
              "      <td>2</td>\n",
              "      <td>169</td>\n",
              "      <td>82.0</td>\n",
              "      <td>150</td>\n",
              "      <td>100</td>\n",
              "      <td>1</td>\n",
              "      <td>1</td>\n",
              "      <td>0</td>\n",
              "      <td>0</td>\n",
              "      <td>1</td>\n",
              "      <td>1</td>\n",
              "    </tr>\n",
              "    <tr>\n",
              "      <th>4</th>\n",
              "      <td>17474</td>\n",
              "      <td>1</td>\n",
              "      <td>156</td>\n",
              "      <td>56.0</td>\n",
              "      <td>100</td>\n",
              "      <td>60</td>\n",
              "      <td>1</td>\n",
              "      <td>1</td>\n",
              "      <td>0</td>\n",
              "      <td>0</td>\n",
              "      <td>0</td>\n",
              "      <td>0</td>\n",
              "    </tr>\n",
              "    <tr>\n",
              "      <th>...</th>\n",
              "      <td>...</td>\n",
              "      <td>...</td>\n",
              "      <td>...</td>\n",
              "      <td>...</td>\n",
              "      <td>...</td>\n",
              "      <td>...</td>\n",
              "      <td>...</td>\n",
              "      <td>...</td>\n",
              "      <td>...</td>\n",
              "      <td>...</td>\n",
              "      <td>...</td>\n",
              "      <td>...</td>\n",
              "    </tr>\n",
              "    <tr>\n",
              "      <th>69995</th>\n",
              "      <td>19240</td>\n",
              "      <td>2</td>\n",
              "      <td>168</td>\n",
              "      <td>76.0</td>\n",
              "      <td>120</td>\n",
              "      <td>80</td>\n",
              "      <td>1</td>\n",
              "      <td>1</td>\n",
              "      <td>1</td>\n",
              "      <td>0</td>\n",
              "      <td>1</td>\n",
              "      <td>0</td>\n",
              "    </tr>\n",
              "    <tr>\n",
              "      <th>69996</th>\n",
              "      <td>22601</td>\n",
              "      <td>1</td>\n",
              "      <td>158</td>\n",
              "      <td>126.0</td>\n",
              "      <td>140</td>\n",
              "      <td>90</td>\n",
              "      <td>2</td>\n",
              "      <td>2</td>\n",
              "      <td>0</td>\n",
              "      <td>0</td>\n",
              "      <td>1</td>\n",
              "      <td>1</td>\n",
              "    </tr>\n",
              "    <tr>\n",
              "      <th>69997</th>\n",
              "      <td>19066</td>\n",
              "      <td>2</td>\n",
              "      <td>183</td>\n",
              "      <td>105.0</td>\n",
              "      <td>180</td>\n",
              "      <td>90</td>\n",
              "      <td>3</td>\n",
              "      <td>1</td>\n",
              "      <td>0</td>\n",
              "      <td>1</td>\n",
              "      <td>0</td>\n",
              "      <td>1</td>\n",
              "    </tr>\n",
              "    <tr>\n",
              "      <th>69998</th>\n",
              "      <td>22431</td>\n",
              "      <td>1</td>\n",
              "      <td>163</td>\n",
              "      <td>72.0</td>\n",
              "      <td>135</td>\n",
              "      <td>80</td>\n",
              "      <td>1</td>\n",
              "      <td>2</td>\n",
              "      <td>0</td>\n",
              "      <td>0</td>\n",
              "      <td>0</td>\n",
              "      <td>1</td>\n",
              "    </tr>\n",
              "    <tr>\n",
              "      <th>69999</th>\n",
              "      <td>20540</td>\n",
              "      <td>1</td>\n",
              "      <td>170</td>\n",
              "      <td>72.0</td>\n",
              "      <td>120</td>\n",
              "      <td>80</td>\n",
              "      <td>2</td>\n",
              "      <td>1</td>\n",
              "      <td>0</td>\n",
              "      <td>0</td>\n",
              "      <td>1</td>\n",
              "      <td>0</td>\n",
              "    </tr>\n",
              "  </tbody>\n",
              "</table>\n",
              "<p>69976 rows × 12 columns</p>\n",
              "</div>\n",
              "      <button class=\"colab-df-convert\" onclick=\"convertToInteractive('df-b4fda9f5-5e77-4035-8600-3427f83ae44f')\"\n",
              "              title=\"Convert this dataframe to an interactive table.\"\n",
              "              style=\"display:none;\">\n",
              "        \n",
              "  <svg xmlns=\"http://www.w3.org/2000/svg\" height=\"24px\"viewBox=\"0 0 24 24\"\n",
              "       width=\"24px\">\n",
              "    <path d=\"M0 0h24v24H0V0z\" fill=\"none\"/>\n",
              "    <path d=\"M18.56 5.44l.94 2.06.94-2.06 2.06-.94-2.06-.94-.94-2.06-.94 2.06-2.06.94zm-11 1L8.5 8.5l.94-2.06 2.06-.94-2.06-.94L8.5 2.5l-.94 2.06-2.06.94zm10 10l.94 2.06.94-2.06 2.06-.94-2.06-.94-.94-2.06-.94 2.06-2.06.94z\"/><path d=\"M17.41 7.96l-1.37-1.37c-.4-.4-.92-.59-1.43-.59-.52 0-1.04.2-1.43.59L10.3 9.45l-7.72 7.72c-.78.78-.78 2.05 0 2.83L4 21.41c.39.39.9.59 1.41.59.51 0 1.02-.2 1.41-.59l7.78-7.78 2.81-2.81c.8-.78.8-2.07 0-2.86zM5.41 20L4 18.59l7.72-7.72 1.47 1.35L5.41 20z\"/>\n",
              "  </svg>\n",
              "      </button>\n",
              "      \n",
              "  <style>\n",
              "    .colab-df-container {\n",
              "      display:flex;\n",
              "      flex-wrap:wrap;\n",
              "      gap: 12px;\n",
              "    }\n",
              "\n",
              "    .colab-df-convert {\n",
              "      background-color: #E8F0FE;\n",
              "      border: none;\n",
              "      border-radius: 50%;\n",
              "      cursor: pointer;\n",
              "      display: none;\n",
              "      fill: #1967D2;\n",
              "      height: 32px;\n",
              "      padding: 0 0 0 0;\n",
              "      width: 32px;\n",
              "    }\n",
              "\n",
              "    .colab-df-convert:hover {\n",
              "      background-color: #E2EBFA;\n",
              "      box-shadow: 0px 1px 2px rgba(60, 64, 67, 0.3), 0px 1px 3px 1px rgba(60, 64, 67, 0.15);\n",
              "      fill: #174EA6;\n",
              "    }\n",
              "\n",
              "    [theme=dark] .colab-df-convert {\n",
              "      background-color: #3B4455;\n",
              "      fill: #D2E3FC;\n",
              "    }\n",
              "\n",
              "    [theme=dark] .colab-df-convert:hover {\n",
              "      background-color: #434B5C;\n",
              "      box-shadow: 0px 1px 3px 1px rgba(0, 0, 0, 0.15);\n",
              "      filter: drop-shadow(0px 1px 2px rgba(0, 0, 0, 0.3));\n",
              "      fill: #FFFFFF;\n",
              "    }\n",
              "  </style>\n",
              "\n",
              "      <script>\n",
              "        const buttonEl =\n",
              "          document.querySelector('#df-b4fda9f5-5e77-4035-8600-3427f83ae44f button.colab-df-convert');\n",
              "        buttonEl.style.display =\n",
              "          google.colab.kernel.accessAllowed ? 'block' : 'none';\n",
              "\n",
              "        async function convertToInteractive(key) {\n",
              "          const element = document.querySelector('#df-b4fda9f5-5e77-4035-8600-3427f83ae44f');\n",
              "          const dataTable =\n",
              "            await google.colab.kernel.invokeFunction('convertToInteractive',\n",
              "                                                     [key], {});\n",
              "          if (!dataTable) return;\n",
              "\n",
              "          const docLinkHtml = 'Like what you see? Visit the ' +\n",
              "            '<a target=\"_blank\" href=https://colab.research.google.com/notebooks/data_table.ipynb>data table notebook</a>'\n",
              "            + ' to learn more about interactive tables.';\n",
              "          element.innerHTML = '';\n",
              "          dataTable['output_type'] = 'display_data';\n",
              "          await google.colab.output.renderOutput(dataTable, element);\n",
              "          const docLink = document.createElement('div');\n",
              "          docLink.innerHTML = docLinkHtml;\n",
              "          element.appendChild(docLink);\n",
              "        }\n",
              "      </script>\n",
              "    </div>\n",
              "  </div>\n",
              "  "
            ],
            "text/plain": [
              "         age  gender  height  weight  ap_hi  ...  gluc  smoke  alco  active  cardio\n",
              "0      18393       2     168    62.0    110  ...     1      0     0       1       0\n",
              "1      20228       1     156    85.0    140  ...     1      0     0       1       1\n",
              "2      18857       1     165    64.0    130  ...     1      0     0       0       1\n",
              "3      17623       2     169    82.0    150  ...     1      0     0       1       1\n",
              "4      17474       1     156    56.0    100  ...     1      0     0       0       0\n",
              "...      ...     ...     ...     ...    ...  ...   ...    ...   ...     ...     ...\n",
              "69995  19240       2     168    76.0    120  ...     1      1     0       1       0\n",
              "69996  22601       1     158   126.0    140  ...     2      0     0       1       1\n",
              "69997  19066       2     183   105.0    180  ...     1      0     1       0       1\n",
              "69998  22431       1     163    72.0    135  ...     2      0     0       0       1\n",
              "69999  20540       1     170    72.0    120  ...     1      0     0       1       0\n",
              "\n",
              "[69976 rows x 12 columns]"
            ]
          },
          "metadata": {},
          "execution_count": 27
        }
      ]
    },
    {
      "cell_type": "markdown",
      "source": [
        "### 2) 다운로드 한 훈련 데이터를 훈련/검증/테스트 세트로 나누어 주세요.\n",
        "- 타겟 특성을 확인하고 타겟 변수를 나누어 줍니다.\n",
        "- 먼저, 훈련 세트와 테스트 세트로 나누어 줍니다(train_test_split 사용, train/test = 80/20, random_state=2)\n",
        "- 다시, 훈련 세트를 훈련 세트와 검증 세트로 나누어 줍니다(train_test_split 사용, train/validation = 80/20, random_state=2)\n",
        "- **(Urclass Quiz) 검증 세트(X_val)의 개수를 제출하세요.**"
      ],
      "metadata": {
        "id": "f0IduGs5gDAO"
      }
    },
    {
      "cell_type": "code",
      "execution_count": 29,
      "source": [
        "target = 'cardio'\n",
        "\n",
        "from sklearn.model_selection import train_test_split\n",
        "\n",
        "train, test = train_test_split(df1, train_size=0.8, test_size=0.2, random_state=2)\n",
        "print(\"train shape: \", train.shape)\n",
        "print(\"val shape: \", test.shape)"
      ],
      "outputs": [
        {
          "output_type": "stream",
          "name": "stdout",
          "text": [
            "train shape:  (56000, 12)\n",
            "val shape:  (14000, 12)\n"
          ]
        }
      ],
      "metadata": {
        "id": "cCOB1PrbgDAO",
        "outputId": "cad9c937-3448-435e-c539-04f6b0227f80",
        "colab": {
          "base_uri": "https://localhost:8080/"
        }
      }
    },
    {
      "cell_type": "code",
      "source": [
        "train, val = train_test_split(train, train_size=0.8, test_size=0.2, random_state=2)\n",
        "print(\"train shape: \", train.shape)\n",
        "print(\"val shape: \", val.shape)"
      ],
      "metadata": {
        "id": "EQBn_O6ut1va",
        "outputId": "6d5a0604-f526-4947-a39a-44ab8f870fae",
        "colab": {
          "base_uri": "https://localhost:8080/"
        }
      },
      "execution_count": 30,
      "outputs": [
        {
          "output_type": "stream",
          "name": "stdout",
          "text": [
            "train shape:  (44800, 12)\n",
            "val shape:  (11200, 12)\n"
          ]
        }
      ]
    },
    {
      "cell_type": "markdown",
      "source": [
        "### 3) 사이킷런의 LogisticRegression을 사용해 아래 기준에 맞춰 모델을 만들어 보세요.\n",
        "- 모델을 만들기 전에 기준모델을 설정합니다.\n",
        "- 하이퍼파라미터 max_iter=1000을 사용합니다.\n",
        "- **(Urclass Quiz) LogisticRegression 모델을 학습하고 검증세트 정확도를 제출하세요.**\n"
      ],
      "metadata": {
        "id": "uy7j512ogDAP"
      }
    },
    {
      "cell_type": "code",
      "execution_count": null,
      "source": [
        "### 이곳에서 과제를 진행해 주세요 ###"
      ],
      "outputs": [],
      "metadata": {
        "id": "oQpVtx45gDAQ"
      }
    },
    {
      "cell_type": "markdown",
      "source": [
        "### 4) 데이터에서 범주형 성질을 지닌 특성을 찾아 원핫인코딩 하세요.\n",
        "- category_encoders를 사용해서 'gender' 특성만 원핫인코딩 하세요.\n",
        "- LogisticRegression 모델을 인코딩된 데이터로 다시 학습합니다. (하이퍼파라미터 max_iter=1000 동일하게 적용)\n",
        "- **(Urclass Quiz) 검증세트 정확도를 제출하세요.**"
      ],
      "metadata": {
        "id": "8xPRSd7VgDAQ"
      }
    },
    {
      "cell_type": "code",
      "execution_count": null,
      "source": [
        "### 이곳에서 과제를 진행해 주세요 ###"
      ],
      "outputs": [],
      "metadata": {
        "id": "79DVXpzFgDAQ"
      }
    },
    {
      "cell_type": "markdown",
      "source": [
        ""
      ],
      "metadata": {
        "id": "1ovof4sigDAR"
      }
    },
    {
      "cell_type": "markdown",
      "source": [
        "### 5) 학습한 모델을 검증세트에서 최적화 시킨 후, 테스트세트에서 딱 한 번 정확도를 확인해 보세요.\n",
        "- **(Urclass Quiz) 테스트 세트 정확도를 제출하세요.(0.712 이상)**"
      ],
      "metadata": {
        "id": "WyvifctIgDAR"
      }
    },
    {
      "cell_type": "code",
      "execution_count": null,
      "source": [
        "### 이곳에서 과제를 진행해 주세요 ###"
      ],
      "outputs": [],
      "metadata": {
        "id": "kz-DobBDgDAR"
      }
    },
    {
      "cell_type": "markdown",
      "source": [
        "## 🔥 도전과제:(Github - Discussion)\n",
        "\n",
        "### 공지로 안내드리는 Github - Discussion 페이지에 올려보세요:)"
      ],
      "metadata": {
        "id": "w9lvphxagDAR"
      }
    },
    {
      "cell_type": "markdown",
      "source": [
        "### 6) EDA를 추가적으로 수행하고 아래 질문에 대한 본인만의 근거와 수행결과를 리포트해 보시고 서로 논해 보세요. \n",
        "- 새로운 특성을 만들 수 있다면, 어떤 특성공학을 해 볼 수 있을까요? \n",
        "- 아웃라이어가 있는 특성이 있다면, 어떤 기준으로 제거할 수 있을까요? \n",
        "- [feature scaling](https://scikit-learn.org/stable/modules/preprocessing.html) 문서를 보면 여러가지 종류의 Scalar가 있는데, 각 Scalar는 각각 어떤 상황에 적용하면 좋을까요? 본 데이터에서는 어떤 scalar를 적용해볼 수 있을까요? \n",
        "- 모델 성능을 높이기 위해 어떤 튜닝을 추가해 볼 수 있을까요? \n"
      ],
      "metadata": {
        "id": "mk--zvNAgDAS"
      }
    }
  ],
  "metadata": {
    "kernelspec": {
      "display_name": "Python 3",
      "language": "python",
      "name": "python3"
    },
    "language_info": {
      "codemirror_mode": {
        "name": "ipython",
        "version": 3
      },
      "file_extension": ".py",
      "mimetype": "text/x-python",
      "name": "python",
      "nbconvert_exporter": "python",
      "pygments_lexer": "ipython3",
      "version": "3.7.7"
    },
    "colab": {
      "name": "n214a-logistic-regression.ipynb",
      "provenance": []
    }
  },
  "nbformat": 4,
  "nbformat_minor": 0
}