{
 "cells": [
  {
   "cell_type": "markdown",
   "metadata": {
    "colab_type": "text",
    "id": "NMEswXWh9mqw"
   },
   "source": [
    "<img src='https://i.imgur.com/RDAD11M.png' width = '200' align = 'right'>\n",
    "\n",
    "## *DATA SCIENCE / SECTION 1 / SPRINT 1 / NOTE 4*\n",
    "\n",
    "# 📝 Assignment\n",
    "\n",
    "# Data visualization\n",
    "\n",
    "## seaborn의 데이터셋중 하나를 선택해서 차트를 그립니다.\n",
    "\n",
    "- facet 사용\n",
    "\n",
    "- 4개 이상의 feature를 동시에 시각화\n",
    "\n",
    "- 데이터로 부터 예상되는 인사이트를, 시각화를 통해서 확인하거나, 실제로는 어떤지에 대해서 간단히 정리하는 리포트를 만들어보세요."
   ]
  },
  {
   "cell_type": "code",
   "execution_count": null,
   "metadata": {
    "colab": {},
    "colab_type": "code",
    "id": "7SY1ZHawyZvz"
   },
   "outputs": [],
   "source": [
    "# 코드가 작성되는 공간입니다."
   ]
  }
 ],
 "metadata": {
  "colab": {
   "collapsed_sections": [],
   "name": "n114a-data-visualization.ipynb",
   "provenance": []
  },
  "kernelspec": {
   "display_name": "Python 3",
   "language": "python",
   "name": "python3"
  },
  "language_info": {
   "codemirror_mode": {
    "name": "ipython",
    "version": 3
   },
   "file_extension": ".py",
   "mimetype": "text/x-python",
   "name": "python",
   "nbconvert_exporter": "python",
   "pygments_lexer": "ipython3",
   "version": "3.8.5"
  }
 },
 "nbformat": 4,
 "nbformat_minor": 4
}
