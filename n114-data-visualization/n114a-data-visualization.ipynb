{
  "nbformat": 4,
  "nbformat_minor": 0,
  "metadata": {
    "colab": {
      "name": "n114a-data-visualization.ipynb",
      "provenance": [],
      "collapsed_sections": [],
      "include_colab_link": true
    },
    "kernelspec": {
      "display_name": "Python 3",
      "language": "python",
      "name": "python3"
    },
    "language_info": {
      "codemirror_mode": {
        "name": "ipython",
        "version": 3
      },
      "file_extension": ".py",
      "mimetype": "text/x-python",
      "name": "python",
      "nbconvert_exporter": "python",
      "pygments_lexer": "ipython3",
      "version": "3.8.5"
    }
  },
  "cells": [
    {
      "cell_type": "markdown",
      "metadata": {
        "id": "view-in-github",
        "colab_type": "text"
      },
      "source": [
        "<a href=\"https://colab.research.google.com/github/codestates/ds-cs-section1-sprint1/blob/master/n114-data-visualization/n114a-data-visualization.ipynb\" target=\"_parent\"><img src=\"https://colab.research.google.com/assets/colab-badge.svg\" alt=\"Open In Colab\"/></a>"
      ]
    },
    {
      "cell_type": "markdown",
      "metadata": {
        "id": "NMEswXWh9mqw"
      },
      "source": [
        "<img src='https://i.imgur.com/RDAD11M.png' width = '200' align = 'right'>\n",
        "\n",
        "## *DATA SCIENCE / SECTION 1 / SPRINT 1 / NOTE 4*\n",
        "\n",
        "# 📝 Assignment\n",
        "\n",
        "\n",
        "\n"
      ]
    },
    {
      "cell_type": "markdown",
      "metadata": {
        "id": "up83Hyc87uU_"
      },
      "source": [
        "## 1. 아래 링크를 참조하여 차트를 그리세요 ( matplotlib 사용 )\n",
        "\n",
        "<https://github.com/mwaskom/seaborn-data>\n",
        "\n",
        "- 차트는 총 4가지 이상을 그려야 합니다.\n",
        "\n",
        "- 데이터로 부터 예상되는 인사이트를, 시각화를 통해서 확인하거나, 실제로는 어떤지에 대해서 서술하는 리포트를 만드세요."
      ]
    },
    {
      "cell_type": "code",
      "metadata": {
        "id": "7SY1ZHawyZvz"
      },
      "source": [
        ""
      ],
      "execution_count": null,
      "outputs": []
    },
    {
      "cell_type": "markdown",
      "metadata": {
        "id": "EwihH7eb8cNn"
      },
      "source": [
        "## 2. seaborn을 사용하여 차트를 그리세요. \n",
        "\n",
        "- annotation, facet을 포함해야합니다.\n",
        "\n",
        "- 기본 색상이 아닌 다른 palette를 사용해야 합니다.\n"
      ]
    },
    {
      "cell_type": "code",
      "metadata": {
        "id": "u8L_MyLW9J8-"
      },
      "source": [
        ""
      ],
      "execution_count": null,
      "outputs": []
    },
    {
      "cell_type": "markdown",
      "metadata": {
        "id": "7tdF5S5k9Jfv"
      },
      "source": [
        "## 3. 다른 사람이 제출한 2번 과제를 참조하여 해당 차트의 의미를 설명하는 글을 작성하세요. \n",
        "\n",
        "- 해당 차트를 설명하기 위해서, 코드 혹은 차트 결과물 그리고 원 데이터 셋에 대한 간단한 description을 작성해야합니다."
      ]
    },
    {
      "cell_type": "code",
      "metadata": {
        "id": "xc6KujQb9fYv"
      },
      "source": [
        ""
      ],
      "execution_count": null,
      "outputs": []
    },
    {
      "cell_type": "markdown",
      "metadata": {
        "id": "D2LozcQ776I7"
      },
      "source": [
        "## 🔥 도전과제\n",
        "\n",
        "plotly를 이용하여, 위의 내용과 동일하게 interactive한 시각화를 작성하세요."
      ]
    },
    {
      "cell_type": "code",
      "metadata": {
        "id": "Ri34dCwf8N3_"
      },
      "source": [
        ""
      ],
      "execution_count": null,
      "outputs": []
    }
  ]
}