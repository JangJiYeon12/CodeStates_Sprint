{
  "nbformat": 4,
  "nbformat_minor": 0,
  "metadata": {
    "colab": {
      "name": "n114a-data-visualization.ipynb",
      "provenance": [],
      "collapsed_sections": []
    },
    "kernelspec": {
      "display_name": "Python 3",
      "language": "python",
      "name": "python3"
    },
    "language_info": {
      "codemirror_mode": {
        "name": "ipython",
        "version": 3
      },
      "file_extension": ".py",
      "mimetype": "text/x-python",
      "name": "python",
      "nbconvert_exporter": "python",
      "pygments_lexer": "ipython3",
      "version": "3.8.5"
    }
  },
  "cells": [
    {
      "cell_type": "markdown",
      "metadata": {
        "id": "NMEswXWh9mqw"
      },
      "source": [
        "<img src='https://i.imgur.com/RDAD11M.png' width = '200' align = 'right'>\n",
        "\n",
        "## *DATA SCIENCE / SECTION 1 / SPRINT 1 / NOTE 4*\n",
        "\n",
        "# 📝 Assignment\n",
        "\n",
        "\n",
        "\n"
      ]
    },
    {
      "cell_type": "markdown",
      "metadata": {
        "id": "up83Hyc87uU_"
      },
      "source": [
        "## 1. 아래 링크와 이미지를 참조하여 차트를 그리세요 ( `seaborn` 사용 )\n",
        "\n",
        "<https://github.com/mwaskom/seaborn-data/blob/master/penguins.csv>\n",
        "\n",
        "- 차트는 총 4가지를 그리게 됩니다.\n",
        "\n"
      ]
    },
    {
      "cell_type": "code",
      "metadata": {
        "id": "7SY1ZHawyZvz"
      },
      "source": [
        "import pandas as pd\n",
        "\n",
        "df = pd.read_csv('https://github.com/mwaskom/seaborn-data/raw/master/penguins.csv')"
      ],
      "execution_count": 1,
      "outputs": []
    },
    {
      "cell_type": "markdown",
      "metadata": {
        "id": "s5_LeAsdcscR"
      },
      "source": [
        "## A. \n",
        "\n",
        "색상을 지정할때 쓰이는 값을 `color`라는 변수에 지정하세요.\n",
        "\n",
        "<img src='https://i.imgur.com/ul32uGv.png'>"
      ]
    },
    {
      "cell_type": "code",
      "metadata": {
        "id": "7GsRia_VRZ1z"
      },
      "source": [
        ""
      ],
      "execution_count": 1,
      "outputs": []
    },
    {
      "cell_type": "markdown",
      "metadata": {
        "id": "UIUMCtptctS7"
      },
      "source": [
        "## B. \n",
        "\n",
        "order에 쓰이는 값을 `ord`에 저장하세요.\n",
        "\n",
        "<img src='https://i.imgur.com/NNeUsoX.png'>"
      ]
    },
    {
      "cell_type": "code",
      "metadata": {
        "id": "wxPT-v4sRlaz"
      },
      "source": [
        ""
      ],
      "execution_count": 1,
      "outputs": []
    },
    {
      "cell_type": "markdown",
      "metadata": {
        "id": "2v5Ov0j7cvu1"
      },
      "source": [
        "## C. \n",
        "\n",
        "- 다음 그래프를 그리기 위한 함수를 `plot`에 저장하세요. \n",
        "\n",
        "> sns.scatterplot()\n",
        "> \n",
        "> sns.`~~~~`()\n",
        "\n",
        "<img src='https://i.imgur.com/K5cNBfJ.png'>"
      ]
    },
    {
      "cell_type": "code",
      "metadata": {
        "id": "cqMs0jz_WvJt"
      },
      "source": [
        ""
      ],
      "execution_count": 1,
      "outputs": []
    },
    {
      "cell_type": "markdown",
      "metadata": {
        "id": "4nltEEryc2sF"
      },
      "source": [
        "## D.\n",
        "\n",
        "<img src='https://i.imgur.com/i0izXcC.png'>\n",
        "\n",
        "- 색상은 `#ff9ff3`, `#4000c7`, `#1dd1a1` 입니다.\n",
        "- 코드에서 사용하는 `palette`의 값을 `pal`이라는 변수에 저장하세요."
      ]
    },
    {
      "cell_type": "code",
      "metadata": {
        "id": "ciQagk5mPZ0y"
      },
      "source": [
        ""
      ],
      "execution_count": 1,
      "outputs": []
    },
    {
      "cell_type": "markdown",
      "metadata": {
        "id": "en0Q_b5L4fxA"
      },
      "source": [
        "## Grading\n",
        "\n",
        "이전 과제를 완료했다면, 아래의 코드를 실행하세요. "
      ]
    },
    {
      "cell_type": "code",
      "metadata": {
        "id": "nj_RslFn4lCM"
      },
      "source": [
        "import numpy as np\n",
        "\n",
        "def grade():\n",
        "  score = 0\n",
        "  score += (color == 'sex') # A\n",
        "  score += (ord == ['Dream', 'Biscoe', 'Torgersen']) # B\n",
        "  score += (plot == 'rugplot') # C\n",
        "  score += (pal == {\"Adelie\":'#ff9ff3', \"Gentoo\":\"#4000c7\", \"Chinstrap\":'#1dd1a1'}) # D \n",
        "  return(score)"
      ],
      "execution_count": 2,
      "outputs": []
    },
    {
      "cell_type": "code",
      "metadata": {
        "id": "5Wph6vyM2RwY"
      },
      "source": [
        "grade(color, ord, plot, pal)"
      ],
      "execution_count": null,
      "outputs": []
    },
    {
      "cell_type": "markdown",
      "metadata": {
        "id": "D2LozcQ776I7"
      },
      "source": [
        "## 🔥 도전과제\n",
        "\n"
      ]
    },
    {
      "cell_type": "markdown",
      "metadata": {
        "id": "7tdF5S5k9Jfv"
      },
      "source": [
        "## 여러분은 핏빗 밴드를 설계하는 팀원입니다. 다음 차트를 기반으로, 앞으로 취해야할 전략을 간단하게 설명해보세요.\n",
        "<https://public.tableau.com/ko-kr/gallery/year-watch-bands?tab=viz-of-the-day&type=viz-of-the-day>\n",
        "\n",
        "<img src='https://i.imgur.com/bFWFNJF.png'>"
      ]
    },
    {
      "cell_type": "markdown",
      "metadata": {
        "id": "9H3JhEK2bsGi"
      },
      "source": [
        ""
      ]
    }
  ]
}