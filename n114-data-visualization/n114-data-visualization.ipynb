{
 "cells": [
  {
   "cell_type": "markdown",
   "metadata": {},
   "source": [
    "<img src='https://i.imgur.com/RDAD11M.png' width = '200' align = 'right'>\n",
    "\n",
    "## *DATA SCIENCE / SECTION 1 / SPRINT 1 / NOTE 4*\n",
    "\n",
    "---\n",
    "\n",
    "# 데이터 시각화\n",
    "\n",
    "## 🏆 학습 목표 \n",
    "\n",
    "- 시각화의 목적, 종류, 방법에 대해 이해 할 수 있다.\n",
    "\n",
    "- 시각화를 할때에 주의해야 할 이슈들에 대해 알 수 있다.\n",
    "\n",
    "---"
   ]
  },
  {
   "cell_type": "markdown",
   "metadata": {},
   "source": [
    "## 시각화를 하는 이유\n",
    "\n",
    "### Anscombe's quartet\n",
    "\n",
    "<https://en.wikipedia.org/wiki/Anscombe%27s_quartet>\n",
    "\n",
    "<img src='https://i.imgur.com/I0tzziJ.png' width = '500'>\n",
    "\n",
    "위 데이터의 그룹별 기술 통계치 \n",
    "\n",
    "- mean(x) : 9\n",
    "- var(x) : 11\n",
    "- mean(y) : 7.5\n",
    "- var(y) : 4.125\n",
    "- cor(x,y) : 0.816\n",
    "- Regression : y = 3 + 0.5 x\n",
    "- R2 : 0.67\n",
    "\n",
    "<img src='https://i.imgur.com/XGVJIeY.png'>\n",
    "\n",
    "---\n",
    "\n",
    "데이터는 전부 다른 내용을 의미함.\n",
    "\n",
    "<img src='https://upload.wikimedia.org/wikipedia/commons/thumb/e/ec/Anscombe%27s_quartet_3.svg/850px-Anscombe%27s_quartet_3.svg.png' width = '600'>\n",
    "\n",
    "테이블 / 기술 통계치 만으로는 모든 것을 알 수 없음.\n",
    "\n",
    "## 시각화의 목적\n",
    "\n",
    "1) 데이터의 **trend** 확인 및 탐색 (EDA)\n",
    "\n",
    "2) **Insight**를 얻기 위해서 \n",
    "\n",
    "3) **Insight**를 강조 하기 위해서 ( 제일 중요 )\n",
    "\n",
    "<img src='https://i.imgur.com/xctcyjP.png' width = '500'>"
   ]
  },
  {
   "cell_type": "markdown",
   "metadata": {},
   "source": [
    "## 시각화에 쓰이는 요소 (aesthetic)\n",
    "\n",
    "- 방향\n",
    "- 길이 / 너비 / 크기\n",
    "- 모양\n",
    "- 표시 (강조, annotation / legend)\n",
    "- 색상\n",
    "- 위치\n",
    "- 구분 (Group / Facet / Small multiple)\n",
    "- Interactive\n",
    "- Dashboard\n",
    "\n",
    "<img src='https://i.imgur.com/HLXnJDh.png' width = '500'>\n",
    "\n",
    "\n"
   ]
  },
  {
   "cell_type": "markdown",
   "metadata": {},
   "source": [
    "## 🎨 색상\n",
    "\n",
    "<https://colorhunt.co/>\n",
    "\n",
    "<img src='https://i.imgur.com/AVpOIlC.png'>\n",
    "<img src='https://i.imgur.com/5uquocn.png'>\n",
    "<img src='https://i.imgur.com/xqNXMOr.png'>"
   ]
  },
  {
   "cell_type": "markdown",
   "metadata": {},
   "source": [
    "## CVD \n",
    "\n",
    "<https://www.color-blindness.com/coblis-color-blindness-simulator/>\n",
    "\n",
    "- Color Vision Deficiency\n",
    "- Color Blind\n",
    "\n",
    "<img src='https://i.imgur.com/oWUlZbt.png' width = 450>\n",
    "<img src='https://i.imgur.com/Zfacdzq.png' width = 450>\n",
    "\n",
    "## Optical Illusion\n",
    "\n",
    "<img src='https://upload.wikimedia.org/wikipedia/commons/thumb/a/a6/Grey_square_optical_illusion.svg/1280px-Grey_square_optical_illusion.svg.png' width = 500>\n"
   ]
  },
  {
   "cell_type": "markdown",
   "metadata": {},
   "source": [
    "## Chart Junk\n",
    "\n",
    "<https://infogram.com/blog/do-this-not-that-pie-charts/>\n",
    "<https://thenextweb.com/dd/2015/05/15/7-most-common-data-visualization-mistakes/>\n",
    "\n",
    "<img src='https://flowingdata.com/wp-content/uploads/2013/07/Speaking-the-world-620x617.jpg'>\n",
    "\n",
    "<img src='https://about.infogr.am/wp-content/uploads/2018/08/dtntpie1-1024x486.png'>"
   ]
  },
  {
   "cell_type": "markdown",
   "metadata": {},
   "source": [
    "## 시각화 예시\n",
    "\n",
    "<img src='https://pbpython.com/images/Python-plot-tools.png' width = 500>"
   ]
  },
  {
   "cell_type": "markdown",
   "metadata": {},
   "source": [
    "## 시각화의 단계\n",
    "\n",
    "1) 어떤 내용을 말하고 싶은지 고민\n",
    "\n",
    "2) 그걸 위해서 어떤 차트를 사용해야 하는지 탐색\n",
    "\n",
    "3) 데이터 형태 변환 (선택)\n",
    "\n",
    "4) 그리기\n",
    "\n",
    "## visual-vocabulary\n",
    "\n",
    "<https://github.com/ft-interactive/chart-doctor/tree/master/visual-vocabulary>\n",
    "\n",
    "<img src='https://github.com/ft-interactive/chart-doctor/raw/master/visual-vocabulary/poster.png' width = '1000'>\n",
    "\n",
    "\n",
    "\n",
    "\n",
    "## 💰 TIPS 데이터셋 (seaborn에 포함)\n",
    "\n",
    "<https://github.com/mwaskom/seaborn-data/blob/master/tips.csv>\n"
   ]
  },
  {
   "cell_type": "code",
   "execution_count": null,
   "metadata": {},
   "outputs": [],
   "source": [
    "import seaborn as sns\n",
    "import pandas as pd\n",
    "import numpy as np\n",
    "\n",
    "tips = sns.load_dataset('tips')\n",
    "tips.head"
   ]
  },
  {
   "cell_type": "markdown",
   "metadata": {},
   "source": [
    "## Violin plot \n",
    "\n",
    "<https://seaborn.pydata.org/generated/seaborn.violinplot.html#seaborn.violinplot>\n",
    "\n",
    "<img src='https://i.imgur.com/CtsUJC0.png'>\n",
    "\n",
    "<img src='https://i.imgur.com/KgObSBf.png' width = 500>\n",
    "\n",
    "\n"
   ]
  },
  {
   "cell_type": "code",
   "execution_count": null,
   "metadata": {},
   "outputs": [],
   "source": [
    "# Time / Tip의 관계\n",
    "\n",
    "sns.violinplot(\n",
    "    x = 'time', \n",
    "    y = 'tip',\n",
    "    data = tips\n",
    ")"
   ]
  },
  {
   "cell_type": "code",
   "execution_count": null,
   "metadata": {},
   "outputs": [],
   "source": [
    "# 날짜별 데이터 분포\n",
    "\n",
    "sns.countplot(data = tips, x = 'day')"
   ]
  },
  {
   "cell_type": "code",
   "execution_count": null,
   "metadata": {},
   "outputs": [],
   "source": [
    "# facet\n",
    "\n",
    "g = sns.FacetGrid(data = tips, row = 'sex', col = 'time')\n",
    "\n",
    "g.map(\n",
    "    sns.scatterplot,\n",
    "    x = 'total_bill',\n",
    "    y = 'tip',\n",
    "    hue = 'day',\n",
    "    alpha = 0.7,\n",
    "    data = tips\n",
    ")\n",
    "g.add_legend()"
   ]
  },
  {
   "cell_type": "markdown",
   "metadata": {},
   "source": [
    "<https://matplotlib.org/gallery/index.html>\n",
    "\n",
    "<https://danbi-ncsoft.github.io/study/2018/10/01/visualization-pitfalls.html>"
   ]
  },
  {
   "cell_type": "code",
   "execution_count": null,
   "metadata": {},
   "outputs": [],
   "source": []
  }
 ],
 "metadata": {
  "kernelspec": {
   "display_name": "Python 3",
   "language": "python",
   "name": "python3"
  },
  "language_info": {
   "codemirror_mode": {
    "name": "ipython",
    "version": 3
   },
   "file_extension": ".py",
   "mimetype": "text/x-python",
   "name": "python",
   "nbconvert_exporter": "python",
   "pygments_lexer": "ipython3",
   "version": "3.8.5"
  }
 },
 "nbformat": 4,
 "nbformat_minor": 4
}
