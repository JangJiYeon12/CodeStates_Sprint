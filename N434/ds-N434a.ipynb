{
  "nbformat": 4,
  "nbformat_minor": 0,
  "metadata": {
    "colab": {
      "name": "ds-cs-N434a.ipynb",
      "provenance": [],
      "authorship_tag": "ABX9TyOgJcAkNV2eqr9rG7amkmLW"
    },
    "kernelspec": {
      "name": "python3",
      "display_name": "Python 3"
    }
  },
  "cells": [
    {
      "cell_type": "markdown",
      "metadata": {
        "id": "gfB7UWj1k3aw"
      },
      "source": [
        "<img src='https://user-images.githubusercontent.com/6457691/90080969-0f758d00-dd47-11ea-8191-fa12fd2054a7.png' width = '200' align = 'right'>\n",
        "\n",
        "## *DATA SCIENCE / SECTION 4 / SPRINT 3 / Assignment 4*\n",
        "\n",
        "--- \n",
        "#   GAN"
      ]
    },
    {
      "cell_type": "markdown",
      "metadata": {
        "id": "N3q3j8KDlB2V"
      },
      "source": [
        "- [ ] DCGAN에서 MNIST대신에 다른 이미지를 입력으로하여 Generation을 수행해본다. \n",
        "- [ ] CycleGAN에서 예제와는 다른 데이터를 이용하여 수행해본다. "
      ]
    },
    {
      "cell_type": "markdown",
      "metadata": {
        "id": "YrcDhb3pPB_8"
      },
      "source": [
        "# 도전과제\n",
        "- (택 1) 온라인에서 GAN의 업그레이드 버전들에 대해서 조사해보고 가능하면 코드를 동작시켜보세요. \n",
        "- 실무에서는 내가 직접 개발할 수도 있겠지만, 온라인에 공개된 좋은 데이터와 학습된 구조를 잘 이용하는 것도 능력입니다. 따라서 마지막 과제는 온라인에 무차별적으로 검증되지 않은 데이터들을 탐색해보고 따라서 구현해보는 과제를 내도록 하겠습니다.  C.f. 즐겨쓰는 방법은 Kaggle에서 잘 된 notebook을 찾아보는 것입니다. git을 잘 서칭하는 것도 좋습니다 :)\n",
        "- [ ] StarGAN\n",
        "- [ ] StyleGAN\n",
        "- [ ] DiscoGAN\n",
        "- [ ] AdaIN - Style Transfer (Note 확인 필요)\n",
        "- [ ] etc"
      ]
    },
    {
      "cell_type": "markdown",
      "metadata": {
        "id": "RwIQV5UxsRZB"
      },
      "source": [
        "# 프로젝트 준비\n",
        "- 과제를 진행하면서 많은 데이터들을 사용해보았습니다. \n",
        "- 이제는 정말 내가 무엇을 하고 싶은지, 어떤 회사에 들어가서 어떤 종류의 딥러닝 과제를 하고 싶은지 찾고, 발전하는 과정이 필요합니다. T자형 인재가 되기위한 과정으로 과제를 진행하며 내가 꼭 해보고 싶은 데이터를 찾아봅시다."
      ]
    },
    {
      "cell_type": "code",
      "metadata": {
        "id": "pWaHARPXsWlB"
      },
      "source": [
        ""
      ],
      "execution_count": null,
      "outputs": []
    }
  ]
}