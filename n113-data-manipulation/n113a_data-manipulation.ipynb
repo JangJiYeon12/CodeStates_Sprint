{
 "cells": [
  {
   "cell_type": "markdown",
   "metadata": {
    "colab_type": "text",
    "id": "pmU5YUal1eTZ"
   },
   "source": [
    "<img src='https://user-images.githubusercontent.com/6457691/89746244-a6e2a200-daf3-11ea-9314-7863d544d73c.png' width = '200' align = 'right'>\n",
    "\n",
    "## *DATA SCIENCE / SECTION 1 / SPRINT 1 / NOTE 3*\n",
    "\n",
    "# 📝 Assignment\n",
    "\n",
    "---\n",
    "\n",
    "# 데이터셋 조작 (Join and Reshape)\n",
    "\n",
    "목표 \n",
    "- pandas로 데이터를 합치거나, 병합함 \n",
    "- tidy 데이터를 이해함\n",
    "- pandas를 사용하여 데이터를 tidy <-> wide 형태로 변환\n",
    "\n",
    "참고 자료:\n",
    "- [Pandas Cheat Sheet](https://github.com/pandas-dev/pandas/blob/master/doc/cheatsheet/Pandas_Cheat_Sheet.pdf)\n",
    "- [Tidy Data](https://en.wikipedia.org/wiki/Tidy_data)\n",
    "  - 데이터셋 합치기 : 표준 조인 (Standard Joins)\n",
    "  - Tidy 데이터\n",
    "  - 데이터 형태 변환\n",
    "- Python Data Science Handbook\n",
    "  - [Chapter 3.6](https://jakevdp.github.io/PythonDataScienceHandbook/03.06-concat-and-append.html), Combining Datasets: Concat 과 Append\n",
    "  - [Chapter 3.7](https://jakevdp.github.io/PythonDataScienceHandbook/03.07-merge-and-join.html), Combining Datasets: Merge 와 Join\n",
    "  - [Chapter 3.8](https://jakevdp.github.io/PythonDataScienceHandbook/03.08-aggregation-and-grouping.html), Aggregation 과 Grouping\n",
    "  - [Chapter 3.9](https://jakevdp.github.io/PythonDataScienceHandbook/03.09-pivot-tables.html), Pivot Tables\n",
    "  \n",
    "Reference\n",
    "- Pandas Documentation: [Reshaping and Pivot Tables](https://pandas.pydata.org/pandas-docs/stable/reshaping.html)\n",
    "- Modern Pandas, Part 5: [Tidy Data](https://tomaugspurger.github.io/modern-5-tidy.html)"
   ]
  },
  {
   "cell_type": "code",
   "execution_count": null,
   "metadata": {
    "colab": {
     "base_uri": "https://localhost:8080/",
     "height": 207
    },
    "colab_type": "code",
    "id": "5MsWLLW4Xg_i",
    "outputId": "00f1e793-0ef5-49f4-b76f-c085bba4ff2e"
   },
   "outputs": [],
   "source": [
    "!wget https://s3.amazonaws.com/instacart-datasets/instacart_online_grocery_shopping_2017_05_01.tar.gz"
   ]
  },
  {
   "cell_type": "code",
   "execution_count": null,
   "metadata": {
    "colab": {
     "base_uri": "https://localhost:8080/",
     "height": 242
    },
    "colab_type": "code",
    "id": "gfr4_Ya0XkLI",
    "outputId": "b666e7a1-ddc9-4c3b-8ebf-0ce52f83c1f1"
   },
   "outputs": [],
   "source": [
    "!tar --gunzip --extract --verbose --file=instacart_online_grocery_shopping_2017_05_01.tar.gz"
   ]
  },
  {
   "cell_type": "code",
   "execution_count": null,
   "metadata": {
    "colab": {
     "base_uri": "https://localhost:8080/",
     "height": 35
    },
    "colab_type": "code",
    "id": "N4YyGPNdXrT0",
    "outputId": "854868ef-38a9-413d-d5d2-d1b0c454d437"
   },
   "outputs": [],
   "source": [
    "%cd instacart_2017_05_01"
   ]
  },
  {
   "cell_type": "code",
   "execution_count": null,
   "metadata": {
    "colab": {
     "base_uri": "https://localhost:8080/",
     "height": 121
    },
    "colab_type": "code",
    "id": "b26wmLUiXtlM",
    "outputId": "8e089fc5-2469-4c15-e25c-ba4c3b3275fa"
   },
   "outputs": [],
   "source": [
    "!ls -lh *.csv"
   ]
  },
  {
   "cell_type": "markdown",
   "metadata": {
    "colab_type": "text",
    "id": "kAMtvSQWPUcj"
   },
   "source": [
    "# 과제\n",
    "\n",
    "## 데이터 조인 (Join) 연습 \n",
    "\n",
    "다음은 가장 자주 구매된 상위 10개의 제품입니다. 각 제품이 구매된 수를 구하세요.\n",
    "\n",
    "1. Banana\n",
    "2. Bag of Organic Bananas\n",
    "3. Organic Strawberries\n",
    "4. Organic Baby Spinach \n",
    "5. Organic Hass Avocado\n",
    "6. Organic Avocado\n",
    "7. Large Lemon \n",
    "8. Strawberries\n",
    "9. Limes \n",
    "10. Organic Whole Milk\n",
    "\n",
    "1. 사용해야할 데이터프레임과 열을 선택하세요.\n",
    "\n",
    "2. 앞의 데이터들을 1개의 데이터프레임으로 병합하세요.\n",
    "\n",
    "3. pandas를 사용하여 결과를 구하세요."
   ]
  },
  {
   "cell_type": "code",
   "execution_count": null,
   "metadata": {
    "colab": {},
    "colab_type": "code",
    "id": "vvE0EVHgXMFO"
   },
   "outputs": [],
   "source": [
    "##### 코드가 작성되는 부분입니다. #####"
   ]
  },
  {
   "cell_type": "markdown",
   "metadata": {
    "colab_type": "text",
    "id": "RsiWi4DuXPLP"
   },
   "source": [
    "## 데이터 형태변환 (Reshape) 연습\n",
    "\n",
    "- 강의에서 쓰였던 코드를 재실행합니다. 단순히 따라가는 것 뿐 아니라 코드의 내용을 이해 할 수 있도록 연습하세요.\n",
    "- Table 2 를 선택하여 Tidy 와 Wide 형태로 변환해보세요. 단 Transpose를 사용하여 Table 1처럼 변환하는 것은 허용되지 않습니다:\n",
    " - Table 2 --> Tidy\n",
    " - Tidy --> Table 2\n",
    "- Seaborn의 `flights` 데이터셋을 사용하여 연,월별로 승객수를 나타내는 pivot table을 생성하세요. year를 인덱스로 month를 column으로 사용하여야하며, 정상적으로 진행 되었을경우 1960년 12월에 432명의 승객, 1949년 1월에 112명의 승객을 확인 할 수 있습니다."
   ]
  },
  {
   "cell_type": "code",
   "execution_count": null,
   "metadata": {
    "colab": {
     "base_uri": "https://localhost:8080/",
     "height": 110
    },
    "colab_type": "code",
    "id": "4qRj4tyxm8t0",
    "outputId": "a98f1cd4-8079-4b40-d4eb-e6f26c8f0562"
   },
   "outputs": [],
   "source": [
    "import pandas as pd\n",
    "import numpy as np\n",
    "\n",
    "table1 = pd.DataFrame(\n",
    "    [[np.nan, 2],\n",
    "     [16,    11], \n",
    "     [3,      1]],\n",
    "    index=['John Smith', 'Jane Doe', 'Mary Johnson'], \n",
    "    columns=['treatmenta', 'treatmentb'])\n",
    "\n",
    "table2 = table1.T\n",
    "\n",
    "table2"
   ]
  },
  {
   "cell_type": "code",
   "execution_count": null,
   "metadata": {
    "colab": {},
    "colab_type": "code",
    "id": "OflVpkPym40q"
   },
   "outputs": [],
   "source": [
    "# table2 -> tidy"
   ]
  },
  {
   "cell_type": "code",
   "execution_count": null,
   "metadata": {
    "colab": {},
    "colab_type": "code",
    "id": "VCuVG7wVm6r5"
   },
   "outputs": [],
   "source": [
    "# tidy -> table2"
   ]
  },
  {
   "cell_type": "code",
   "execution_count": null,
   "metadata": {
    "colab": {},
    "colab_type": "code",
    "id": "fgxulJQq0uLw"
   },
   "outputs": [],
   "source": [
    "flights = sns.load_dataset('flights')"
   ]
  },
  {
   "cell_type": "code",
   "execution_count": null,
   "metadata": {
    "colab": {},
    "colab_type": "code",
    "id": "1qKc88WI0up-"
   },
   "outputs": [],
   "source": [
    "# Flights Pivot Table"
   ]
  },
  {
   "cell_type": "markdown",
   "metadata": {
    "colab_type": "text",
    "id": "mnOuqL9K0dqh"
   },
   "source": [
    "## 데이터 Join 추가연습\n",
    "\n",
    "[Instacart blog post](https://tech.instacart.com/3-million-instacart-orders-open-sourced-d40d29ead6f2) 에는 하루 시간에 따라서 (일찍 : 녹색, 늦게 : 적색) **자주 구매된 제품** 을 시각화 하는 내용의 글이 있습니다. \n",
    "\n",
    "글에서는 다음과 같은 내용을 말하고 있습니다:\n",
    "\n",
    "> \"We can also see the time of day that users purchase specific products.\n",
    "\n",
    "> Healthier snacks and staples tend to be purchased earlier in the day, whereas ice cream (especially Half Baked and The Tonight Dough) are far more popular when customers are ordering in the evening.\n",
    "\n",
    "> **In fact, of the top 25 latest ordered products, the first 24 are ice cream! The last one, of course, is a frozen pizza.**\"\n",
    "\n",
    "여러분이 해야 할 일은 가장 최근에 자주 주문된 25개의 제품의 목록을 다시 확인하는 것입니다. 단 여기서 자주 주문되었다는 2,900번 이상의 주문을 기준으로 합니다.\n"
   ]
  },
  {
   "cell_type": "code",
   "execution_count": null,
   "metadata": {
    "colab": {},
    "colab_type": "code",
    "id": "B-QNMrVkYap4"
   },
   "outputs": [],
   "source": [
    "##### 코드가 작성되는 부분입니다. #####"
   ]
  },
  {
   "cell_type": "markdown",
   "metadata": {
    "colab_type": "text",
    "id": "Ij8S60q0YXxo"
   },
   "source": [
    "## 데이터 Reshape 추가연습\n",
    "\n",
    "_가장 마음에 드는 것을 하면 됩니다_\n",
    "\n",
    "- Instacart의 \"Hour of Day Ordered\" vs \"Percent of Orders by Product\" 그림을 더 많은 제품에 대해서 다시 시각화 해보세요.\n",
    "- [Instacart's blog post](https://tech.instacart.com/3-million-instacart-orders-open-sourced-d40d29ead6f2)의 \"Number of Purchases\" vs \"Percent Reorder Purchases\" 에 해당하는 내용을 시각화 해보세요.\n",
    "- Instacart 데이터셋에서 가장 최근 주문 데이터에 대해서 작업하여 보세요. 이는 구매자의 [다음 주문을 예측](https://www.kaggle.com/c/instacart-market-basket-analysis)하는 데에 쓰입니다.\n",
    "- 다음 노트북의 초반 부분을 따라해보세요 : [Modern Pandas, Part 5: Tidy Data](https://tomaugspurger.github.io/modern-5-tidy.html)"
   ]
  },
  {
   "cell_type": "code",
   "execution_count": null,
   "metadata": {
    "colab": {},
    "colab_type": "code",
    "id": "_d6IA2R0YXFY"
   },
   "outputs": [],
   "source": [
    "##### 코드가 작성되는 부분입니다. #####"
   ]
  },
  {
   "cell_type": "markdown",
   "metadata": {},
   "source": [
    "## 읽기 과제 : 2017년도 stackoverflow survey results.\n",
    "\n",
    "<https://stackoverflow.blog/2018/01/22/remote-work-2017-developer-survey/>"
   ]
  },
  {
   "cell_type": "code",
   "execution_count": null,
   "metadata": {},
   "outputs": [],
   "source": []
  }
 ],
 "metadata": {
  "colab": {
   "collapsed_sections": [],
   "name": "n113a_data-manipulation.ipynb",
   "provenance": []
  },
  "kernelspec": {
   "display_name": "Python 3",
   "language": "python",
   "name": "python3"
  },
  "language_info": {
   "codemirror_mode": {
    "name": "ipython",
    "version": 3
   },
   "file_extension": ".py",
   "mimetype": "text/x-python",
   "name": "python",
   "nbconvert_exporter": "python",
   "pygments_lexer": "ipython3",
   "version": "3.8.5"
  }
 },
 "nbformat": 4,
 "nbformat_minor": 4
}
