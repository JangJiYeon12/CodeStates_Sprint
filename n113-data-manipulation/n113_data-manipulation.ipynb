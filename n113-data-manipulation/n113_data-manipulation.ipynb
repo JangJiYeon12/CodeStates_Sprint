{
 "cells": [
  {
   "cell_type": "markdown",
   "metadata": {
    "colab_type": "text",
    "id": "UQqT5ie4vdDS"
   },
   "source": [
    "<img src='https://user-images.githubusercontent.com/6457691/90080969-0f758d00-dd47-11ea-8191-fa12fd2054a7.png' width = '200' align = 'right'>\n",
    "\n",
    "## *DATA SCIENCE / SECTION 1 / SPRINT 1 / NOTE 3*\n",
    "\n",
    "---\n",
    "\n",
    "# Join and Reshape\n",
    "\n",
    "## 🏆 학습 목표 \n",
    "\n",
    "- pandas를 통해 데이터를 concat / merge 할 수 있다.\n",
    "- Tidy 데이터 에 대한 개념을 이해한다\n",
    "- `.melt()`와 `.pivot()` 함수를 사용하여 wide와 tidy 형태의 데이터를 서로 변환 할 수 있다.\n",
    "\n",
    "---"
   ]
  },
  {
   "cell_type": "markdown",
   "metadata": {
    "colab_type": "text",
    "id": "b_gXHprXvqVx"
   },
   "source": [
    "# pandas를 사용하여 데이터프레임 더하기 (concat)"
   ]
  },
  {
   "cell_type": "markdown",
   "metadata": {
    "colab_type": "text",
    "id": "mPVHZevR04pV"
   },
   "source": [
    "## 개요\n",
    "\n",
    "더하기(\"Concatenate\") 란 2개의 물체를 하나로 합친다는 의미의 단어입니다. 예를 들어, 2개의 문자열을 `+` 연산자를 이용해 \"더할\" 수 있습니다."
   ]
  },
  {
   "cell_type": "code",
   "execution_count": null,
   "metadata": {
    "colab": {
     "base_uri": "https://localhost:8080/",
     "height": 35
    },
    "colab_type": "code",
    "id": "NeAeYKwN08q3",
    "outputId": "96096b9e-db61-41e5-fe96-21f3a7bb5593"
   },
   "outputs": [],
   "source": [
    "'We can join/concatenate two strings together ' + 'using the \"+\" operator.'"
   ]
  },
  {
   "cell_type": "markdown",
   "metadata": {
    "colab_type": "text",
    "id": "QIgxXomn7iHC"
   },
   "source": [
    "2개의 데이터프레임을 \"더하는 것\"은 열이나 행을 기준으로 붙이는 것을 의미합니다. 간단한 예시를 통해 알아봅시다:"
   ]
  },
  {
   "cell_type": "code",
   "execution_count": null,
   "metadata": {
    "colab": {},
    "colab_type": "code",
    "id": "O6MbummV9kgH"
   },
   "outputs": [],
   "source": [
    "import pandas as pd"
   ]
  },
  {
   "cell_type": "markdown",
   "metadata": {
    "colab": {},
    "colab_type": "code",
    "id": "q1aKHYuH8BTX"
   },
   "source": [
    "<img src='https://user-images.githubusercontent.com/6457691/90111677-f5a96980-dd89-11ea-81f6-9891494883f6.png' width = 600>"
   ]
  },
  {
   "cell_type": "markdown",
   "metadata": {
    "colab": {},
    "colab_type": "code",
    "id": "QCw6DJxR8m6T"
   },
   "source": [
    "## concate_by_row = pd.concat([x, y])\n",
    "\n",
    "## concate_by_col = pd.concat([x, y], axis = 1)"
   ]
  },
  {
   "cell_type": "markdown",
   "metadata": {
    "colab_type": "text",
    "id": "2-NxpMCr9WOS"
   },
   "source": [
    "데이터프레임을 더할 때, 일반적으로는 더해지는 행, 열의 이름이나 인덱스 값이 일치해야 합니다. 만약 그렇지 않은 경우, 비어있는 부분에 대해서는 `NaN` 값으로 채워질 것입니다."
   ]
  },
  {
   "cell_type": "markdown",
   "metadata": {
    "colab": {},
    "colab_type": "code",
    "id": "luR-nvD99tBa"
   },
   "source": [
    "<img src='https://user-images.githubusercontent.com/6457691/90112606-2e960e00-dd8b-11ea-8aab-32fcf3d5f5fa.png' width = 500>\n",
    "\n",
    "<img src='https://user-images.githubusercontent.com/6457691/90112625-35248580-dd8b-11ea-97c6-f70c1691c084.png' width = 500>"
   ]
  },
  {
   "cell_type": "markdown",
   "metadata": {
    "colab_type": "text",
    "id": "k8YGJ8Wm1AG3"
   },
   "source": [
    "## 따라하세요."
   ]
  },
  {
   "cell_type": "markdown",
   "metadata": {
    "colab_type": "text",
    "id": "hbH8CcozBcyI"
   },
   "source": [
    "이번에는 [3 Million Instacart Orders, Open Sourced](https://tech.instacart.com/3-million-instacart-orders-open-sourced-d40d29ead6f2) 데이터셋을 사용하도록 하겠습니다.\n",
    "\n",
    "파일들은 여러개로 구성되어 있기 때문에, 각각의 CSV가 잘 로드 되었는지 확인하는 것 뿐만 아니라 데이터프레임을 하나로 합치는 것 또한 필요합니다.\n",
    "\n",
    "이번의 목표는 아래 그림처럼 사용자 id 1에 해당하는 데이터를 합치는 것입니다.\n",
    "\n",
    "<img src='https://cdn-images-1.medium.com/max/1600/1*vYGFQCafJtGBBX5mbl0xyw.png' width = 600>"
   ]
  },
  {
   "cell_type": "code",
   "execution_count": null,
   "metadata": {
    "colab": {
     "base_uri": "https://localhost:8080/",
     "height": 242
    },
    "colab_type": "code",
    "id": "dkxqMNGrDJrM",
    "outputId": "5aa9b169-0f21-4b82-895d-262d7bea41f6"
   },
   "outputs": [],
   "source": [
    "# !wget https://s3.amazonaws.com/instacart-datasets/instacart_online_grocery_shopping_2017_05_01.tar.gz\n",
    "# !tar --gunzip --extract --verbose --file=instacart_online_grocery_shopping_2017_05_01.tar.gz\n",
    "%cd instacart_2017_05_01\n",
    "!ls -lh *.csv"
   ]
  },
  {
   "cell_type": "code",
   "execution_count": null,
   "metadata": {
    "colab": {},
    "colab_type": "code",
    "id": "pLmGMr_rCoi-"
   },
   "outputs": [],
   "source": [
    "aisles = pd.read_csv('aisles.csv')\n",
    "print(aisles.shape)\n",
    "aisles.head()"
   ]
  },
  {
   "cell_type": "markdown",
   "metadata": {
    "colab_type": "text",
    "id": "MxwByNLoEG9p"
   },
   "source": [
    "### aisles\n",
    "\n",
    "aisles.csv 파일은 사용하지 않습니다."
   ]
  },
  {
   "cell_type": "code",
   "execution_count": null,
   "metadata": {
    "colab": {},
    "colab_type": "code",
    "id": "fRVjREe8D6yj"
   },
   "outputs": [],
   "source": [
    "departments = pd.read_csv('departments.csv')\n",
    "print(departments.shape)\n",
    "departments.head()"
   ]
  },
  {
   "cell_type": "markdown",
   "metadata": {
    "colab_type": "text",
    "id": "oTPRZsLvENgJ"
   },
   "source": [
    "### departments\n",
    "\n",
    "departments.csv 파일은 사용하지 않습니다."
   ]
  },
  {
   "cell_type": "code",
   "execution_count": null,
   "metadata": {
    "colab": {},
    "colab_type": "code",
    "id": "-CMWcWSiD8aW"
   },
   "outputs": [],
   "source": [
    "order_products__prior = pd.read_csv('order_products__prior.csv')\n",
    "print(order_products__prior.shape)\n",
    "order_products__prior.head()"
   ]
  },
  {
   "cell_type": "markdown",
   "metadata": {
    "colab_type": "text",
    "id": "U38aOM6nEWOe"
   },
   "source": [
    "### order_products__prior\n",
    "\n",
    "다음의 데이터가 필요합니다:\n",
    "- order id\n",
    "- product id\n",
    "- add to cart order\n",
    "\n",
    "('reordered'를 제외한 나머지)"
   ]
  },
  {
   "cell_type": "code",
   "execution_count": null,
   "metadata": {},
   "outputs": [],
   "source": [
    "order_products__train = pd.read_csv('order_products__train.csv')\n",
    "print(order_products__train.shape)\n",
    "order_products__train.head()"
   ]
  },
  {
   "cell_type": "markdown",
   "metadata": {
    "colab_type": "text",
    "id": "_KRCdSl5E63N"
   },
   "source": [
    "### order_products__train\n",
    "\n",
    "다음의 데이터가 필요합니다:\n",
    "- order id\n",
    "- proudct id\n",
    "- add to cart order\n",
    "\n",
    "('reordered'를 제외한 나머지)\n",
    "\n",
    "order_products__train와 order_products__prior의 유사점을 확인 할 수 있나요?\n"
   ]
  },
  {
   "cell_type": "code",
   "execution_count": null,
   "metadata": {
    "colab": {},
    "colab_type": "code",
    "id": "t9PyqoneEBPd"
   },
   "outputs": [],
   "source": [
    "orders = pd.read_csv('orders.csv')\n",
    "print(orders.shape)\n",
    "orders.head()"
   ]
  },
  {
   "cell_type": "markdown",
   "metadata": {
    "colab_type": "text",
    "id": "V2cdftjYFj1k"
   },
   "source": [
    "### orders\n",
    "\n",
    "다음의 데이터가 필요합니다:\n",
    "- order id\n",
    "- user id\n",
    "- order number\n",
    "- order dow\n",
    "- order hour of day"
   ]
  },
  {
   "cell_type": "code",
   "execution_count": null,
   "metadata": {
    "colab": {},
    "colab_type": "code",
    "id": "3J917C0NEDhG"
   },
   "outputs": [],
   "source": [
    "products = pd.read_csv('products.csv')\n",
    "print(products.shape)\n",
    "products.head()"
   ]
  },
  {
   "cell_type": "markdown",
   "metadata": {
    "colab_type": "text",
    "id": "yXyRiuIdFmGU"
   },
   "source": [
    "### products\n",
    "\n",
    "다음의 데이터가 필요합니다:\n",
    "- product id\n",
    "- product name"
   ]
  },
  {
   "cell_type": "markdown",
   "metadata": {
    "colab_type": "text",
    "id": "ALhA76X1GkgY"
   },
   "source": [
    "## order_products__prior 와 order_products__train 를 더하기\n",
    "\n"
   ]
  },
  {
   "cell_type": "code",
   "execution_count": null,
   "metadata": {
    "colab": {},
    "colab_type": "code",
    "id": "QU4nkwnPGz4A"
   },
   "outputs": [],
   "source": [
    "order_products__prior.shape"
   ]
  },
  {
   "cell_type": "code",
   "execution_count": null,
   "metadata": {
    "colab": {},
    "colab_type": "code",
    "id": "XrBZ0y8TG09_"
   },
   "outputs": [],
   "source": [
    "order_products__train.shape"
   ]
  },
  {
   "cell_type": "code",
   "execution_count": null,
   "metadata": {
    "colab": {},
    "colab_type": "code",
    "id": "gZk8V7yxG2Qg"
   },
   "outputs": [],
   "source": [
    "order_products = pd.concat([order_products__prior, order_products__train])\n",
    "\n",
    "print(order_products.shape)\n",
    "order_products.head()"
   ]
  },
  {
   "cell_type": "markdown",
   "metadata": {
    "colab_type": "text",
    "id": "17PV3bEtz449"
   },
   "source": [
    "# pandas를 이용하여 데이터 프레임 합치기 (Merge)\n",
    "\n"
   ]
  },
  {
   "cell_type": "markdown",
   "metadata": {
    "colab_type": "text",
    "id": "p1o6R29VLwwu"
   },
   "source": [
    "<img src='https://cdn-images-1.medium.com/max/1600/1*vYGFQCafJtGBBX5mbl0xyw.png' width = 600>\n",
    "\n",
    "계속 진행하기 이전에, 위 목표 데이터를 위해 어느 데이터의 부분들이 필요한지 먼저 확인하는 작업이 필요합니다.\n",
    "\n",
    "### Orders \n",
    "\n",
    "누가 어떤 주문을 했는지와 같은 특정 주문에 대한 정보를 포함하고 있습니다. \n",
    "\n",
    "- user_id\n",
    "- order_id\n",
    "- order_number\n",
    "- order_dow\n",
    "- order_hour_of_day\n",
    "\n",
    "### Products \n",
    "\n",
    "특정 상품에 대한 정보를 포함하고 있습니다.\n",
    "\n",
    "- product_id\n",
    "- product_name\n",
    "\n",
    "### Order_Products\n",
    "\n",
    "어느 제품이 어떤 주문에 포함되어 있는지에 대한 정보를 포함하고 있습니다.\n",
    "\n",
    "- order_id\n",
    "- product_id\n",
    "- add_to_cart_order\n",
    "\n",
    "새롭게 만드려는 테이블을 자세히보면, 특정 제품의 주문 보다는 특정 **구매자**에 집중하고 있는 것을 알 수 있습니다. 처음 두개의 주문을 기준으로 구매자와 주문을 연관 짓는 데이터프레임을 각각 선택하여, 하나의 테이블로 만들어야 합니다. \n",
    "\n",
    "**데이터프레임 병합에 있어서 핵심 요소는 두 데이터셋에 모두 존재하는 데이터만을 선택하여 데이터프레임으로 합쳐야 하는 것입니다.**"
   ]
  },
  {
   "cell_type": "markdown",
   "metadata": {
    "colab_type": "text",
    "id": "g38DqtNj1BnI"
   },
   "source": [
    "데이터프레임을 2개 가지고 있기 때문에, 데이터를 두번 합칠 것입니다. 이를 위해서 아래와 같은 단계로 진행하겠습니다.\n",
    "\n",
    "1) 데이터프레임의 어느 부분을 합칠 것인지를 설정하기\n",
    "\n",
    "2) 두 데이터프레임에서 공통으로 포함되어 있는 열을 찾기\n",
    "\n",
    "3) 데이터프레임을 각각 필요한 부분만 선택하기\n",
    "\n",
    "4) 데이터프레임들을 합치기"
   ]
  },
  {
   "cell_type": "markdown",
   "metadata": {
    "colab_type": "text",
    "id": "259BJMJ43Ka5"
   },
   "source": [
    "### 첫 병합\n",
    "\n",
    "1) `orders` 와 `order_products`를 합칩니다.\n",
    "\n",
    "2) 두 데이터셋에서 `order_id` 열을 선택합니다.\n",
    "\n",
    "3) 두 데이터셋에 포함되어 있는 수많은 행 중에서 우리가 필요로 하는 것은 단 11개의 행입니다. 즉 필요하지 않은 다른 부분은 선택하지 않습니다.\n",
    "\n",
    "이를 위해서 어떠한 방법으로 `orders` 데이터프레임의 부분을 \"선택\"해야할까요? (Filter)\n",
    "\n",
    "`user_id == 1` 과 `order_id <=2` 또는\n",
    "`order_id == 2539329` 과 `order_id == 2398795` 에 해당하는 데이터셋을 선택해야 합니다."
   ]
  },
  {
   "cell_type": "code",
   "execution_count": null,
   "metadata": {
    "colab": {},
    "colab_type": "code",
    "id": "I6r8i8tN1H1S"
   },
   "outputs": [],
   "source": [
    "# 데이터프레임 필터링 예시\n",
    "\n",
    "# 필터링 조건 (Condition) 설정\n",
    "condition = (orders['order_id'] <= 5)\n",
    "\n",
    "# [ ] 안에 컨디션을 설정하는 것으로, 컨디션의 값이 *TRUE*로 해당하는 부분의 데이터만 선택 할 수 있습니다.\n",
    "orders_subset = orders[condition]\n",
    "\n",
    "# 결과물을 확인\n",
    "orders_subset.head()"
   ]
  },
  {
   "cell_type": "code",
   "execution_count": null,
   "metadata": {
    "colab": {},
    "colab_type": "code",
    "id": "J6X4OQNG5L_4"
   },
   "outputs": [],
   "source": [
    "condition = ( (orders['user_id']==1) & (orders['order_id']<=2))\n",
    "orders_subset = orders[condition]\n",
    "\n",
    "print(orders_subset.shape)\n",
    "orders_subset.head()"
   ]
  },
  {
   "cell_type": "code",
   "execution_count": null,
   "metadata": {
    "colab": {},
    "colab_type": "code",
    "id": "cWUCmgx66Td3"
   },
   "outputs": [],
   "source": [
    "# 컨디션을 \"condition\"이라는 변수에 매번 설정할 필요는 없으며,\n",
    "# 바로 사용 하는 것도 가능합니다."
   ]
  },
  {
   "cell_type": "markdown",
   "metadata": {
    "colab_type": "text",
    "id": "1kQG4sxP6lod"
   },
   "source": [
    "데이터 필터링을 위한 조건이 한가지 더 있었으니, 해당 하는 컨디션에 대해서도 필터링을 사용해보세요.(`order_id`를 사용하는 방법)"
   ]
  },
  {
   "cell_type": "code",
   "execution_count": null,
   "metadata": {
    "colab": {},
    "colab_type": "code",
    "id": "8IA4Kwyw6vk6"
   },
   "outputs": [],
   "source": [
    "orders_subset = orders[((orders['order_id'] == 2539329) | (orders['order_id'] == 2398795))]\n",
    "\n",
    "print(orders_subset.shape)\n",
    "orders_subset.head(15)"
   ]
  },
  {
   "cell_type": "markdown",
   "metadata": {
    "colab_type": "text",
    "id": "Nt8qiPCl7Lh8"
   },
   "source": [
    "이번에는 order_products 데이터프레임을 필터링 할 시간입니다.\n",
    "\n",
    "해당 테이블을 위해서는 어떤 컨디션을 사용해야 할까요?\n",
    "\n",
    "order_id를 다시 사용해야 합니다."
   ]
  },
  {
   "cell_type": "code",
   "execution_count": null,
   "metadata": {
    "colab": {},
    "colab_type": "code",
    "id": "DHE_-PKs7e4s"
   },
   "outputs": [],
   "source": [
    "order_products_subset = order_products[((order_products['order_id'] == 2539329) | (order_products['order_id'] == 2398795))]\n",
    "\n",
    "print(order_products_subset.shape)\n",
    "order_products_subset.head(11)"
   ]
  },
  {
   "cell_type": "markdown",
   "metadata": {
    "colab_type": "text",
    "id": "yfi9zxpR7ugQ"
   },
   "source": [
    "4) 이제 2개의 테이블을 합칠 준비가 되었습니다."
   ]
  },
  {
   "cell_type": "code",
   "execution_count": null,
   "metadata": {
    "colab": {},
    "colab_type": "code",
    "id": "gnhC5A2m7yQz"
   },
   "outputs": [],
   "source": [
    "orders_and_products = pd.merge(orders_subset, order_products_subset, on='order_id', how='inner')\n",
    "\n",
    "orders_and_products.head(11)"
   ]
  },
  {
   "cell_type": "markdown",
   "metadata": {
    "colab": {
     "base_uri": "https://localhost:8080/",
     "height": 313
    },
    "colab_type": "code",
    "id": "RHGqFlPJ80-k",
    "outputId": "0927e663-beea-4176-f0ce-851e3b0086e4"
   },
   "source": [
    "<img src='https://cdn-images-1.medium.com/max/1600/1*vYGFQCafJtGBBX5mbl0xyw.png' width = 600>"
   ]
  },
  {
   "cell_type": "code",
   "execution_count": null,
   "metadata": {
    "colab": {},
    "colab_type": "code",
    "id": "DVdIEQsQ8D6x"
   },
   "outputs": [],
   "source": [
    "### 필요하지 않은 열에 대해서 삭제\n",
    "\n",
    "orders_and_products = orders_and_products.drop(['eval_set', 'reordered', 'days_since_prior_order'], axis='columns')\n",
    "orders_and_products.head(11)"
   ]
  },
  {
   "cell_type": "markdown",
   "metadata": {
    "colab_type": "text",
    "id": "gLDN1ueb8_pY"
   },
   "source": [
    "원했던 결과에 거의 도달하였습니다, 그러나 한가지 `product_name` 열에 대해서 추가로 작업해야 합니다.\n",
    "\n",
    "1) `orders_and_products` 와 `products`를 병합합니다.\n",
    "\n",
    "2) 두 테이블 모두에서 `product_id`를 사용합니다.\n",
    "\n",
    "3) 추가로, `products` 데이터프레임에서 필요 없는 부분을 제거 한 뒤 사용합니다."
   ]
  },
  {
   "cell_type": "code",
   "execution_count": null,
   "metadata": {
    "colab": {},
    "colab_type": "code",
    "id": "Hy0fJFKn8--C"
   },
   "outputs": [],
   "source": [
    "orders_and_products['product_id']"
   ]
  },
  {
   "cell_type": "code",
   "execution_count": null,
   "metadata": {
    "colab": {},
    "colab_type": "code",
    "id": "7yz6FwtG9bhd"
   },
   "outputs": [],
   "source": [
    "orders_and_products['product_id'].isin([196, 26088])"
   ]
  },
  {
   "cell_type": "code",
   "execution_count": null,
   "metadata": {
    "colab": {},
    "colab_type": "code",
    "id": "xd_hwRyC9s1a"
   },
   "outputs": [],
   "source": [
    "condition = products['product_id'].isin(orders_and_products['product_id'])\n",
    "\n",
    "products_subset = products[condition]\n",
    "\n",
    "products_subset"
   ]
  },
  {
   "cell_type": "code",
   "execution_count": null,
   "metadata": {
    "colab": {},
    "colab_type": "code",
    "id": "LjdgAOtb96LF"
   },
   "outputs": [],
   "source": [
    "final = pd.merge(orders_and_products, products_subset, on='product_id', how='inner')\n",
    "\n",
    "final"
   ]
  },
  {
   "cell_type": "code",
   "execution_count": null,
   "metadata": {
    "colab": {},
    "colab_type": "code",
    "id": "y0ZjUIm4-LkR"
   },
   "outputs": [],
   "source": [
    "final = final.drop(['aisle_id', 'department_id'], axis=1)\n",
    "final"
   ]
  },
  {
   "cell_type": "markdown",
   "metadata": {
    "colab": {},
    "colab_type": "code",
    "id": "ZgASyjYM-WvX"
   },
   "source": [
    "<img src='https://cdn-images-1.medium.com/max/1600/1*vYGFQCafJtGBBX5mbl0xyw.png' width = 600>"
   ]
  },
  {
   "cell_type": "markdown",
   "metadata": {
    "colab_type": "text",
    "id": "75lbOTf3-csq"
   },
   "source": [
    "### 추가적인 데이터 정리"
   ]
  },
  {
   "cell_type": "code",
   "execution_count": null,
   "metadata": {
    "colab": {},
    "colab_type": "code",
    "id": "_dL8nGeN-eiH"
   },
   "outputs": [],
   "source": [
    "# 행에 대해서 정렬\n",
    "final = final.sort_values(by=['order_number', 'add_to_cart_order'])\n",
    "final"
   ]
  },
  {
   "cell_type": "code",
   "execution_count": null,
   "metadata": {
    "colab": {},
    "colab_type": "code",
    "id": "2NODYWri_CYp"
   },
   "outputs": [],
   "source": [
    "# 열을 재배치\n",
    "final = final[['user_id', 'order_id', 'order_number', 'order_dow', 'order_hour_of_day', 'add_to_cart_order', 'product_id', 'product_name']]"
   ]
  },
  {
   "cell_type": "code",
   "execution_count": null,
   "metadata": {
    "colab": {},
    "colab_type": "code",
    "id": "RSdatcjM-r2B"
   },
   "outputs": [],
   "source": [
    "# 헤더에서 밑줄 (_) 제거\n",
    "final.columns = [column.replace('_', ' ') for column in final]\n",
    "final"
   ]
  },
  {
   "cell_type": "markdown",
   "metadata": {
    "colab": {
     "base_uri": "https://localhost:8080/",
     "height": 313
    },
    "colab_type": "code",
    "id": "a0blpL6O-99U",
    "outputId": "87a1f297-a0f1-44c3-cb60-ca9579e6b494"
   },
   "source": [
    "<img src='https://cdn-images-1.medium.com/max/1600/1*vYGFQCafJtGBBX5mbl0xyw.png' width = 600>"
   ]
  },
  {
   "cell_type": "markdown",
   "metadata": {
    "colab_type": "text",
    "id": "xTz5WPngz5BA"
   },
   "source": [
    "# Tidy 데이터"
   ]
  },
  {
   "cell_type": "markdown",
   "metadata": {
    "colab_type": "text",
    "id": "rUL61OCE06Dd"
   },
   "source": [
    "## 개요\n",
    "\n",
    "### 데이터 형태 변환의 필요성\n",
    "\n",
    "#### 라이브러리에 따라서 다른 형태의 데이터를 필요로 합니다.\n",
    "\n",
    "예를 들어, 데이터시각화에 쓰이는 Seaborn 라이브러리는 \"Tidy\"한 데이터를 필요로 합니다 (항상 그런것은 아닙니다).\n",
    "\n",
    "## Tidy Data 란?\n",
    "\n",
    "<img src='https://user-images.githubusercontent.com/6457691/90115082-913cd900-dd8e-11ea-99d4-006576439dc6.png' width = 600>"
   ]
  },
  {
   "cell_type": "code",
   "execution_count": null,
   "metadata": {
    "colab": {},
    "colab_type": "code",
    "id": "S_b6SOZz091T"
   },
   "outputs": [],
   "source": [
    "%matplotlib inline\n",
    "import pandas as pd\n",
    "import numpy as np\n",
    "import seaborn as sns\n",
    "\n",
    "table1 = pd.DataFrame(\n",
    "    [[np.nan, 2],\n",
    "     [16,    11], \n",
    "     [3,      1]],\n",
    "    index=['John Smith', 'Jane Doe', 'Mary Johnson'], \n",
    "    columns=['treatmenta', 'treatmentb'])\n",
    "\n",
    "table1"
   ]
  },
  {
   "cell_type": "markdown",
   "metadata": {
    "colab_type": "text",
    "id": "gjEInTFNA54j"
   },
   "source": [
    "\"Table 1 은 가상의 실험에 대한 데이터를 야생에서 볼 수 있는 `Wide` 한 형태로 제공합니다.\n",
    "\n",
    "테이블은 2개의 열과 3개의 행으로 구성되어 있으며 각각 라벨링 되어 있습니다.\""
   ]
  },
  {
   "cell_type": "code",
   "execution_count": null,
   "metadata": {
    "colab": {
     "base_uri": "https://localhost:8080/",
     "height": 138
    },
    "colab_type": "code",
    "id": "fzoZDHtAA30k",
    "outputId": "e8e545a6-4508-4bda-8f62-f1b13baf7c69"
   },
   "outputs": [],
   "source": [
    "table1"
   ]
  },
  {
   "cell_type": "markdown",
   "metadata": {
    "colab_type": "text",
    "id": "Q7lDPNIwA9t5"
   },
   "source": [
    "\"이 데이터를 구조화하는 방법으로 많은 방법 들이 있습니다.\n",
    "\n",
    "Table 2는 Table 1과 동일한 결과를 보여주지만, 행과 열이 `전치` (transpose) 되어 있어 보이는 레이아웃이 다릅니다.\""
   ]
  },
  {
   "cell_type": "code",
   "execution_count": null,
   "metadata": {
    "colab": {
     "base_uri": "https://localhost:8080/",
     "height": 108
    },
    "colab_type": "code",
    "id": "kQTFbHJWA_X2",
    "outputId": "377ba19c-f87f-4c46-9505-ce34e575ff00"
   },
   "outputs": [],
   "source": [
    "table2 = table1.T\n",
    "table2"
   ]
  },
  {
   "cell_type": "markdown",
   "metadata": {
    "colab_type": "text",
    "id": "OfCVyRL3BI5h"
   },
   "source": [
    "\"Table 3 은 Table 1을 값과 변수 그리고 관측을 더 명확하게 하기 위해서 다른 방식으로 재정리하였습니다.\n",
    "\n",
    "Table 3 은 Table 1의 \"tidy\" 버전입니다. 각 열은 하나의 관측을 의미하며, 한 사람에 대해서 작업물 (treatment)과 그 결과 값이 포함되어있습니다.\"\n",
    "\n",
    "| name         | trt | result |\n",
    "|--------------|-----|--------|\n",
    "| John Smith   | a   | -      |\n",
    "| Jane Doe     | a   | 16     |\n",
    "| Mary Johnson | a   | 3      |\n",
    "| John Smith   | b   | 2      |\n",
    "| Jane Doe     | b   | 11     |\n",
    "| Mary Johnson | b   | 1      |"
   ]
  },
  {
   "cell_type": "markdown",
   "metadata": {
    "colab_type": "text",
    "id": "9s42XuCqBN86"
   },
   "source": [
    "### Table 1 --> Tidy\n",
    "\n",
    "pandas 의 `melt` 함수를 사용하여 Table 1을 Tidy 형태로 바꿀 수 있습니다."
   ]
  },
  {
   "cell_type": "code",
   "execution_count": null,
   "metadata": {
    "colab": {},
    "colab_type": "code",
    "id": "91Pw2zgkBHlg"
   },
   "outputs": [],
   "source": [
    "### 행의 인덱스를 선택하고, 이를 행으로 새로 추가합니다.\n",
    "table1 = table1.reset_index()\n",
    "table1"
   ]
  },
  {
   "cell_type": "code",
   "execution_count": null,
   "metadata": {
    "colab": {},
    "colab_type": "code",
    "id": "UOlvjeBwBTNo"
   },
   "outputs": [],
   "source": [
    "### 각 행에 대해서 중복되지 않은 인자 (unique identifier)를 확인합니다.\n",
    "### 한개의 \"tidy\" 한 열에 대해서 포함되어야 할 (기준이 되는) 데이터를 선택합니다.\n",
    "tidy1 = table1.melt(id_vars='index', value_vars=['treatmenta', 'treatmentb'])\n",
    "tidy1"
   ]
  },
  {
   "cell_type": "code",
   "execution_count": null,
   "metadata": {
    "colab": {},
    "colab_type": "code",
    "id": "hkXdIKDjBZC4"
   },
   "outputs": [],
   "source": [
    "# 열의 이름을 수정합니다.\n",
    "tidy1 = tidy1.rename(columns={\n",
    "    'index': 'name', \n",
    "    'variable': 'trt', \n",
    "    'value': 'result'\n",
    "})\n",
    "tidy1"
   ]
  },
  {
   "cell_type": "code",
   "execution_count": null,
   "metadata": {
    "colab": {},
    "colab_type": "code",
    "id": "-BnEq18qBbBK"
   },
   "outputs": [],
   "source": [
    "# treatmenta 와 treatmentb라는 값에서 treatment라는 문자열을 제거합니다.\n",
    "\n",
    "tidy1.trt = tidy1.trt.str.replace('treatment', '')\n",
    "\n",
    "tidy1"
   ]
  },
  {
   "cell_type": "markdown",
   "metadata": {
    "colab_type": "text",
    "id": "UuFviZYbBebc"
   },
   "source": [
    "### Tidy --> Table 1\n",
    "\n",
    "`pivot_table` 함수는 `melt`의 반대 역할을 하는 함수입니다."
   ]
  },
  {
   "cell_type": "code",
   "execution_count": null,
   "metadata": {
    "colab": {},
    "colab_type": "code",
    "id": "LdfbFRI5Bgnh"
   },
   "outputs": [],
   "source": [
    "# 파라미터에 대한 설명\n",
    "# index: unique identifier\n",
    "# columns: \"wide\" 데이터에서 column별로 다르게 하고자 하는 값.\n",
    "# values: 결과값이 들어가는 곳 (wide 데이터프레임의 내용에 들어갈 값)\n",
    "wide = tidy1.pivot_table(index='name', columns='trt', values='result')\n",
    "wide"
   ]
  },
  {
   "cell_type": "markdown",
   "metadata": {
    "colab_type": "text",
    "id": "9H9XAmbTz5D6"
   },
   "source": [
    "# `.melt()`와 `.pivot()`를 사용하여 tidy - wide 형태를 변환하기."
   ]
  },
  {
   "cell_type": "markdown",
   "metadata": {
    "colab_type": "text",
    "id": "346ZYlh7vsbx"
   },
   "source": [
    "Tidy 데이터는 Seaborn과 같은 시각화 라이브러리에서 유용하게 쓰일수 있습니다. \n",
    "\n",
    "Tidy 데이터라는 것을 다음을 의미합니다: \n",
    "\n",
    "- 각 변수는 열에 해당되고\n",
    "- 각 관측은 행에 해당됩니다."
   ]
  },
  {
   "cell_type": "code",
   "execution_count": null,
   "metadata": {
    "colab": {},
    "colab_type": "code",
    "id": "oc3h1LK6ulP-"
   },
   "outputs": [],
   "source": [
    "### Seaborn의 기능 중 한가지 예시입니다.\n",
    "\n",
    "sns.catplot(x = 'trt', y = 'result', col = 'name', kind = 'bar', data = tidy1, height = 2);"
   ]
  },
  {
   "cell_type": "markdown",
   "metadata": {
    "colab_type": "text",
    "id": "RDs7HSDtvwp7"
   },
   "source": [
    "## 따라하세요.\n",
    "\n",
    "Instacart 데이터셋을 사용하여 아래 그림의 부분을 따라 만들어보도록 하겠습니다."
   ]
  },
  {
   "cell_type": "markdown",
   "metadata": {
    "colab": {
     "base_uri": "https://localhost:8080/",
     "height": 384
    },
    "colab_type": "code",
    "id": "UYaAh9i2Cth8",
    "outputId": "96aeb05a-fa4c-4c27-f04d-7c26c9831b73"
   },
   "source": [
    "<img src='https://cdn-images-1.medium.com/max/1600/1*wKfV6OV-_1Ipwrl7AjjSuw.png' width = 600>"
   ]
  },
  {
   "cell_type": "markdown",
   "metadata": {
    "colab_type": "text",
    "id": "cWA17E72Csb8"
   },
   "source": [
    "50개의 제품을 전부 그리는 대신, 각 리스트에서 1개 씩: \n",
    "- Half And Half Ultra Pasteurized\n",
    "- Half Baked Frozen Yogurt\n",
    "만을 그리도록 하겠습니다\n",
    "\n",
    "이제 주어진 `product_name`에 대해서, `order_hour_of_day` 패턴을 계산해야 합니다."
   ]
  },
  {
   "cell_type": "code",
   "execution_count": null,
   "metadata": {
    "colab": {},
    "colab_type": "code",
    "id": "Afch5TnbvzYH"
   },
   "outputs": [],
   "source": [
    "products = pd.read_csv('products.csv')\n",
    "\n",
    "order_products = pd.concat([pd.read_csv('order_products__prior.csv'), \n",
    "                            pd.read_csv('order_products__train.csv')])\n",
    "\n",
    "orders = pd.read_csv('orders.csv')"
   ]
  },
  {
   "cell_type": "markdown",
   "metadata": {
    "colab_type": "text",
    "id": "a-wZZuvJC9XR"
   },
   "source": [
    "### 부분선택 및 병합 (Subset and Merge)\n",
    "\n",
    "`products`와 `orders` 데이터셋 처럼, 공통의 열이 없는 경우의 합병은 중요한 문제 입니다. 이를 위해서 `order_products`라는 데이터 셋을 사용해야합니다. \n",
    "\n",
    "다음은 앞서 말한 2개의 제품입니다."
   ]
  },
  {
   "cell_type": "code",
   "execution_count": null,
   "metadata": {
    "colab": {},
    "colab_type": "code",
    "id": "8kiwQevWC-ky"
   },
   "outputs": [],
   "source": [
    "product_names = ['Half Baked Frozen Yogurt', 'Half And Half Ultra Pasteurized']"
   ]
  },
  {
   "cell_type": "markdown",
   "metadata": {
    "colab_type": "text",
    "id": "qQS97tQ4DMcU"
   },
   "source": [
    "작업을 하기 위해 열의 확인을 다시 하도록 하겠습니다."
   ]
  },
  {
   "cell_type": "code",
   "execution_count": null,
   "metadata": {
    "colab": {},
    "colab_type": "code",
    "id": "ObLpUAJdDDKs"
   },
   "outputs": [],
   "source": [
    "products.columns.to_list()"
   ]
  },
  {
   "cell_type": "code",
   "execution_count": null,
   "metadata": {
    "colab": {},
    "colab_type": "code",
    "id": "YJSAiUrqDEpP"
   },
   "outputs": [],
   "source": [
    "orders.columns.to_list()"
   ]
  },
  {
   "cell_type": "code",
   "execution_count": null,
   "metadata": {
    "colab": {},
    "colab_type": "code",
    "id": "3bMVJbGMDGeY"
   },
   "outputs": [],
   "source": [
    "order_products.columns.to_list()"
   ]
  },
  {
   "cell_type": "markdown",
   "metadata": {
    "colab_type": "text",
    "id": "NWeDbbc4DSQ9"
   },
   "source": [
    "이번에는 데이터프레임의 부분을 선택후 다른 부분들과 **한꺼번에** 병합하도록 하겠습니다."
   ]
  },
  {
   "cell_type": "code",
   "execution_count": null,
   "metadata": {
    "colab": {},
    "colab_type": "code",
    "id": "jYG576viDYTY"
   },
   "outputs": [],
   "source": [
    "merged = (products[['product_id', 'product_name']]\n",
    "          .merge(order_products[['order_id', 'product_id']])\n",
    "          .merge(orders[['order_id', 'order_hour_of_day']]))\n",
    "\n",
    "merged.head()"
   ]
  },
  {
   "cell_type": "markdown",
   "metadata": {
    "colab_type": "text",
    "id": "nyCeGkhyDlR0"
   },
   "source": [
    "사실 위에서 한 작업은 모든 제품에 대해서 이뤄진 것으로 우리가 필요로 하는 2개의 제품에 대해서는 선택후, 병합이라는 단계를 거쳐야합니다. \n",
    "- 병합 후 선택 \n",
    "- 선택 후 병합 \n",
    "두가지 방법 모두 결과물은 같지만 차이는 분명히 존재합니다. 다만 지금은 그 차이에 집중하는 것보단, 결과물을 확인하는것을 우선으로 하도록 하겠습니다."
   ]
  },
  {
   "cell_type": "code",
   "execution_count": null,
   "metadata": {
    "colab": {},
    "colab_type": "code",
    "id": "GRaUjNYQDqlv"
   },
   "outputs": [],
   "source": [
    "condition = ((merged['product_name']=='Half Baked Frozen Yogurt') | \n",
    "             (merged['product_name']=='Half And Half Ultra Pasteurized'))\n",
    "\n",
    "merged = merged[condition]\n",
    "\n",
    "print(merged.shape)\n",
    "merged.head()"
   ]
  },
  {
   "cell_type": "markdown",
   "metadata": {
    "colab_type": "text",
    "id": "PsCbAF1aD6mI"
   },
   "source": [
    "앞에서처럼, 컨디션을 설정하는데에 있어서는 여러가지 방법이 있습니다. "
   ]
  },
  {
   "cell_type": "code",
   "execution_count": null,
   "metadata": {
    "colab": {},
    "colab_type": "code",
    "id": "3Q3-vSjFD5r2"
   },
   "outputs": [],
   "source": [
    "product_names = ['Half Baked Frozen Yogurt', 'Half And Half Ultra Pasteurized']\n",
    "\n",
    "condition = merged['product_name'].isin(product_names)\n",
    "\n",
    "subset = merged[condition]\n",
    "\n",
    "print(subset.shape)\n",
    "subset.head()"
   ]
  },
  {
   "cell_type": "code",
   "execution_count": null,
   "metadata": {
    "colab": {},
    "colab_type": "code",
    "id": "J4IxDetIELzM"
   },
   "outputs": [],
   "source": [
    "froyo = subset[subset['product_name']=='Half Baked Frozen Yogurt']\n",
    "cream = subset[subset['product_name']=='Half And Half Ultra Pasteurized']"
   ]
  },
  {
   "cell_type": "markdown",
   "metadata": {
    "colab_type": "text",
    "id": "cuGmrZ52ECOS"
   },
   "source": [
    "### 형태변환과 그림을 위한 4가지 방법\n"
   ]
  },
  {
   "cell_type": "markdown",
   "metadata": {
    "colab": {
     "base_uri": "https://localhost:8080/",
     "height": 384
    },
    "colab_type": "code",
    "id": "0FKFamTREFiw",
    "outputId": "bc5c8b56-7196-42b0-a004-23a5e072d957"
   },
   "source": [
    "<img src='https://cdn-images-1.medium.com/max/1600/1*wKfV6OV-_1Ipwrl7AjjSuw.png' width = 600>"
   ]
  },
  {
   "cell_type": "markdown",
   "metadata": {
    "colab_type": "text",
    "id": "-5udAYCYEQK5"
   },
   "source": [
    "1) `.value_counts()` 방법.\n",
    "\n",
    "한개의 열에 구성되어있는 주요 변수 (값)이 목적임을 유의하십시오."
   ]
  },
  {
   "cell_type": "code",
   "execution_count": null,
   "metadata": {
    "colab": {},
    "colab_type": "code",
    "id": "mZih8j2QEIb9"
   },
   "outputs": [],
   "source": [
    "cream['order_hour_of_day'].value_counts(normalize=True).sort_index()"
   ]
  },
  {
   "cell_type": "code",
   "execution_count": null,
   "metadata": {
    "colab": {},
    "colab_type": "code",
    "id": "RVvLVPgeEZXK"
   },
   "outputs": [],
   "source": [
    "(cream['order_hour_of_day']\n",
    " .value_counts(normalize=True)\n",
    " .sort_index()\n",
    " .plot())\n",
    "\n",
    "(froyo['order_hour_of_day']\n",
    " .value_counts(normalize=True)\n",
    " .sort_index()\n",
    " .plot());"
   ]
  },
  {
   "cell_type": "markdown",
   "metadata": {
    "colab_type": "text",
    "id": "35cWYAYJEdNU"
   },
   "source": [
    "2) Crosstab"
   ]
  },
  {
   "cell_type": "code",
   "execution_count": null,
   "metadata": {
    "colab": {},
    "colab_type": "code",
    "id": "q5LgBIUSEjCt"
   },
   "outputs": [],
   "source": [
    "pd.crosstab(subset['order_hour_of_day'], \n",
    "            subset['product_name'], \n",
    "            normalize='columns').plot();"
   ]
  },
  {
   "cell_type": "markdown",
   "metadata": {
    "colab_type": "text",
    "id": "AtzievA2El7W"
   },
   "source": [
    "3) Pivot Table"
   ]
  },
  {
   "cell_type": "code",
   "execution_count": null,
   "metadata": {
    "colab": {},
    "colab_type": "code",
    "id": "u1zTNxRWEndk"
   },
   "outputs": [],
   "source": [
    "subset.pivot_table(index='order_hour_of_day', \n",
    "                   columns='product_name', \n",
    "                   values='order_id', \n",
    "                   aggfunc=len).plot();"
   ]
  },
  {
   "cell_type": "markdown",
   "metadata": {
    "colab_type": "text",
    "id": "Q-uexEZoErje"
   },
   "source": [
    "4) Melt \n",
    "\n",
    "우선 데이터를 wide 한 형태로 바꾸어야 합니다. crosstab 또한 pivot_table의 일종이니 이를 사용합니다."
   ]
  },
  {
   "cell_type": "code",
   "execution_count": null,
   "metadata": {
    "colab": {},
    "colab_type": "code",
    "id": "l2YFirZPE2DL"
   },
   "outputs": [],
   "source": [
    "table = pd.crosstab(subset['order_hour_of_day'], \n",
    "                    subset['product_name'], \n",
    "                    normalize=True)\n",
    "\n",
    "table"
   ]
  },
  {
   "cell_type": "code",
   "execution_count": null,
   "metadata": {
    "colab": {},
    "colab_type": "code",
    "id": "tGsUDMq8E6TP"
   },
   "outputs": [],
   "source": [
    "melted = table.reset_index().melt(id_vars='order_hour_of_day').rename(columns={\n",
    "     'order_hour_of_day': 'Hour of Day Ordered', \n",
    "     'product_name': 'Product', \n",
    "     'value': 'Percent of Orders by Product'\n",
    " })\n",
    "\n",
    "melted"
   ]
  },
  {
   "cell_type": "markdown",
   "metadata": {
    "colab_type": "text",
    "id": "blu1emcSE95R"
   },
   "source": [
    "이후 아래처럼 Seaborn을 사용하여 그림을 그릴 수 있습니다:"
   ]
  },
  {
   "cell_type": "code",
   "execution_count": null,
   "metadata": {
    "colab": {},
    "colab_type": "code",
    "id": "gTusUe1WE-57"
   },
   "outputs": [],
   "source": [
    "sns.relplot(x='Hour of Day Ordered', \n",
    "            y='Percent of Orders by Product', \n",
    "            hue='Product', \n",
    "            data=melted, \n",
    "            kind='line');"
   ]
  },
  {
   "cell_type": "code",
   "execution_count": null,
   "metadata": {},
   "outputs": [],
   "source": []
  }
 ],
 "metadata": {
  "colab": {
   "collapsed_sections": [],
   "include_colab_link": true,
   "name": "n113_data-manipulation.ipynb",
   "provenance": []
  },
  "kernelspec": {
   "display_name": "Python 3",
   "language": "python",
   "name": "python3"
  },
  "language_info": {
   "codemirror_mode": {
    "name": "ipython",
    "version": 3
   },
   "file_extension": ".py",
   "mimetype": "text/x-python",
   "name": "python",
   "nbconvert_exporter": "python",
   "pygments_lexer": "ipython3",
   "version": "3.8.5"
  }
 },
 "nbformat": 4,
 "nbformat_minor": 4
}
