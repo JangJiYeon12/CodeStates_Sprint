{
  "nbformat": 4,
  "nbformat_minor": 0,
  "metadata": {
    "colab": {
      "name": "N411_Artificial_Neural_Networks.ipynb",
      "provenance": [],
      "collapsed_sections": []
    },
    "kernelspec": {
      "name": "python3",
      "display_name": "Python 3"
    },
    "language_info": {
      "name": "python"
    }
  },
  "cells": [
    {
      "cell_type": "markdown",
      "metadata": {
        "id": "6jub-GSrlhpo"
      },
      "source": [
        "<img src='https://user-images.githubusercontent.com/6457691/90080969-0f758d00-dd47-11ea-8191-fa12fd2054a7.png' width = '200' align = 'right'>\n",
        "\n",
        "## *DATA SCIENCE / SECTION 4 / SPRINT 1 / NOTE 1*\n",
        "\n",
        "---"
      ]
    },
    {
      "cell_type": "markdown",
      "metadata": {
        "id": "Floqm6KJlkZw"
      },
      "source": [
        "# N411. 퍼셉트론(Perceptron)과 인공신경망(Artificial Neural Networks)"
      ]
    },
    {
      "cell_type": "markdown",
      "metadata": {
        "id": "OquvkJh3lpZ4"
      },
      "source": [
        "가장 먼저, 이번 섹션에서 공부할 목차와 키워드에 대해서 알아보겠습니다."
      ]
    },
    {
      "cell_type": "markdown",
      "metadata": {
        "id": "--Rk6aHzlseU"
      },
      "source": [
        "## 🚀 Section 4 : Deep Learning 의 목차와 키워드"
      ]
    },
    {
      "cell_type": "markdown",
      "metadata": {
        "id": "koxvK5hz7_yR"
      },
      "source": [
        "- N411. 퍼셉트론(Perceptron)과 인공신경망(Artificial Neural Networks) - **퍼셉트론(Perceptron), 가중치(Weight), 입력(Input)과 출력(Output)**\n",
        "- N412. 역전파(Backpropagation) - **경사 하강법(Gradient Descent), 학습률(Learning rate)**\n",
        "- N413. 과적합(Overfitting)을 막기 위한 방법 - **가중치 감소/제한(Weight Decay/Constraint), Dropout, 조기 종료(Early Stopping)**\n",
        "- N414. 신경망 하이퍼파라미터(Hyperparameter) 튜닝, 실험 추적 시스템 - **Keras tuner, wandb**\n",
        "---\n",
        "- N421. 텍스트 전처리(Text Preprocessing)와 횟수 기반의 벡터화 - **불용어, 어간 추출(Stemming)과 표제어 추출(Lemmatization), BoW, TF-IDF**\n",
        "- N422. 분산 기반의 벡터화와 임베딩(Embedding) - **임베딩(Embedding), Word2Vec, OOV, fastText**\n",
        "- N423. 언어 모델과 순환 신경망(RNN) - **언어 모델(Language Model), RNN, LSTM, GRU, Attention**\n",
        "- N424. 트랜스포머(Transformer)와 그 이후 - **Transformer, Self-Attention, 사전 학습된 언어 모델, GPT, BERT**\n",
        "---\n",
        "- N431. 합성곱 신경망(CNN)과 이미지 처리 - **Convolution, Pooling, Transfer Learning**\n",
        "- N432. 구분(Segmenatation)과 객체 탐지(Object Detection) - **FCN, Unet, RCNN, YOLO** \n",
        "- N433. 오토인코더(AutoEncoder) - **Latent Vector, 이상치 탐지(Anomaly Detection)**\n",
        "- N434. GAN(Generative Adversarial Network) - **Generator vs Discriminator, DCGAN, CycleGAN**"
      ]
    },
    {
      "cell_type": "markdown",
      "metadata": {
        "id": "zHuK4icenz1Y"
      },
      "source": [
        "## 🛫 Warm Up"
      ]
    },
    {
      "cell_type": "markdown",
      "metadata": {
        "id": "0BGQL0kT8C5y"
      },
      "source": [
        "- [전문용어 없이 듣는 딥러닝의 모든 것 (Feat. 인공신경망, 퍼셉트론)](https://www.youtube.com/watch?v=C2sqt9pG6K0)\n",
        "    - **\"신경망의 원리를 일반인에게 설명할 수 있다\"**를 학습 목표로 하면서 이번 챕터를 공부해봅시다. \n",
        "\n",
        "- 🤔 이번 Section을 잘 학습하려면?\n",
        "    - **<font color='#ff6f61'>메타 인지(Meta-cognition)</font>**가 중요합니다.<br/>\n",
        "    메타 인지란 쉽게 말해 **여러분이 무엇을 알고 무엇을 모르는 지 아는 것**을 뜻합니다.<br/>\n",
        "    새롭게 등장하는 개념을 **여러분의 언어로 정리하고 설명**해보면서 **아는 것과 모르는 것을 정확하게 구분하는 연습을 해봅시다.**\n",
        "\n",
        "    - 메타 인지에 대해\n",
        "        - [읽어볼 거리 1](https://m.blog.naver.com/PostView.nhn?blogId=hems97&logNo=220557131351&proxyReferer=https:%2F%2Fwww.google.com%2F)\n",
        "        - [읽어볼 거리 2](https://brunch.co.kr/@kamohaeng/53)\n",
        "  \n",
        "    - 이번 Section 에서는 상대적으로 덜 중요한 부분을 간단히 짚고 넘어가는 것도 중요합니다.<br/>\n",
        "    ❗️❓ 등으로 표시되어 있는 부분은 **모두 이해하지 않아도 좋습니다.**<br/>\n",
        "    필요한 부분에 집중하면서 이번 Section 을 공부해봅시다."
      ]
    },
    {
      "cell_type": "markdown",
      "metadata": {
        "id": "Ej3QaZFHn1QL"
      },
      "source": [
        "## 👋 시작하기 전에 - 인공지능(AI)의 역사\n"
      ]
    },
    {
      "cell_type": "markdown",
      "metadata": {
        "id": "K2-zj9ir7-YX"
      },
      "source": [
        "인공지능(Artificial Intelligence) 분야는 오래 전부터 시작되었습니다.<br/>\n",
        "아래 그림을 통해 어떤 주제를 거쳐 인공지능이 발전해 왔는 지에 대해 알아봅시다."
      ]
    },
    {
      "cell_type": "markdown",
      "metadata": {
        "id": "tz-djlhl9FKj"
      },
      "source": [
        "<img src=\"https://originalstatic.aminer.cn/misc/shaozhou/AI-history-tiny.jpg\" />"
      ]
    },
    {
      "cell_type": "markdown",
      "metadata": {
        "id": "EWPzjZ9l9LzD"
      },
      "source": [
        "위 그림에서 아래와 같은 키워드를 발견할 수 있습니다.\n",
        "\n",
        "- 패턴 인식(Pattern Recognition)\n",
        "    - 신경망(Neural Networks)\n",
        "        - 머신러닝(Machine Learning)\n",
        "        - 딥러닝(Deep Learning)\n",
        "    - 이미지 인식(Image Recogition)\n",
        "        - 컴퓨터 비전(Computer Vision) → 딥러닝 기반 컴퓨터 비전\n",
        "    - 자연어 처리(Natural Language Processing) → 딥러닝 기반 자연어처리\n",
        "        - 자연어 이해(Natural Language Understanding)\n",
        "        - 자연어 생성(Natural Language Generation)\n",
        "- 휴리스틱 프로그램(Heuristic Programs)\n",
        "    - 게임 기술(Game Playing)\n",
        "        - 강화학습(Reinforcement Learning) → 딥러닝 기반 강화학습\n",
        "- 로보틱스(Robotics)"
      ]
    },
    {
      "cell_type": "markdown",
      "metadata": {
        "id": "2aAzuWKh-pJ7"
      },
      "source": [
        "위에 등장한 모든 분야를 다 잘해야 할까요? <br/>\n",
        "**정답부터 말씀드리자면 아닙니다.**<br/>\n",
        "각 분야의 전문가들이 있는 만큼 여러분도 언젠가는 선택과 집중을 하셔야겠죠?"
      ]
    },
    {
      "cell_type": "markdown",
      "metadata": {
        "id": "CkTTaAxy4nUH"
      },
      "source": [
        "하지만 앞으로 3주간 진행될 노트의 내용은 **모든 분야에 골고루 등장**합니다. 그러니 어떤 노트도 게을리 해서는 안되겠죠?<br/>\n",
        "**4주 간의 학습을 충실히 수행하신다면 어떤 딥러닝 분야를 선택하시더라도 기반이 탄탄한 연구자 혹은 엔지니어**가 될 수 있을 겁니다.<br/>\n",
        "그럼 모두 출발해보시죠!"
      ]
    },
    {
      "cell_type": "markdown",
      "metadata": {
        "id": "qsACsOF74-h1"
      },
      "source": [
        "---"
      ]
    },
    {
      "cell_type": "markdown",
      "metadata": {
        "id": "HA-tU3WT_xd9"
      },
      "source": [
        "## 🏆 학습 목표"
      ]
    },
    {
      "cell_type": "markdown",
      "metadata": {
        "id": "PoJr02c1APmj"
      },
      "source": [
        "- **퍼셉트론(Perceptron)을 이해**하고 python으로 구현할 수 있다.\n",
        "- **신경망(Neural Network)의 원리를 이해**하고 기본적인 구조 그림을 바탕으로 신경망을 설명할 수 있다.\n",
        "- **신경망이 학습된다는 개념을 이해**하고 **프레임워크(`keras`)를 활용하여 아주 기본적인 신경망을 만들 수 있다.**"
      ]
    },
    {
      "cell_type": "markdown",
      "metadata": {
        "id": "WY0-LtZXlmWS"
      },
      "source": [
        "---"
      ]
    },
    {
      "cell_type": "markdown",
      "metadata": {
        "id": "76TcjYMXALK_"
      },
      "source": [
        "## Why Deep Learning?"
      ]
    },
    {
      "cell_type": "markdown",
      "metadata": {
        "id": "fwSvJH6fAGR1"
      },
      "source": [
        "- **딥러닝을 왜 배워야 할까요?** <br/>\n",
        "\n",
        "    - 1950년대에 처음 제시된 신경망 아이디어는 당시에는 그다지 많은 주목을 받지 못했습니다.<br/>\n",
        "    하지만 다층 신경망(MLP, Multi-Layer Perceptron)의 발전 등으로 인해 매우 강력한 기술이 되었습니다.\n",
        "  \n",
        "    - 현재는 **객체 인식(Object Detection), 분할(Segmentation), 자연어 처리(Natural Language Processing)** 등,<br/> 기존 머신러닝 알고리즘이 잘 못 풀던 영역에서 사람보다도 뛰어난 성과를 보이고 있습니다.\n",
        "\n",
        "\n"
      ]
    },
    {
      "cell_type": "markdown",
      "metadata": {
        "id": "go-yvNe51-U9"
      },
      "source": [
        "- **딥러닝이 발전하게 된 이유는 무엇인가요?**\n",
        "\n",
        "    - 핵심 알고리즘의 발전\n",
        "    - 딥러닝 프레임워크(Framework)의 발전 : `Tensorflow, Keras, PyTorch` 등\n",
        "    - GPU의 발전으로 인한 계산 속도 증가 : CUDA 와 같은 라이브러리 등장\n",
        "    - 벤치마크 데이터셋(Dataset) 등 기반이 되는 데이터셋 마련 : ImageNet, GLUE"
      ]
    },
    {
      "cell_type": "markdown",
      "metadata": {
        "id": "QiSoREGL5Bbx"
      },
      "source": [
        "위와 같은 여러 가지 상황들이 결합되면서, 딥러닝은 중흥기를 맞았습니다.<br/>\n",
        "한국에서도 2016년 알파고를 기점으로 사람들을 놀라게 하며 여러 분야에서 사용되고 있는데요.<br/>\n",
        "물론 사람들의 과도한 기대와 포장으로 인해 그 진실이 가려지는 부작용도 나타나곤 합니다."
      ]
    },
    {
      "cell_type": "markdown",
      "metadata": {
        "id": "M-KlcE1PoI0u"
      },
      "source": [
        "\n",
        "\n",
        "\n",
        "[<img src='https://i.kym-cdn.com/photos/images/original/001/449/433/3cb.jpg' width = '400'>](https://knowyourmeme.com/memes/cutting-food-with-a-sword)\n"
      ]
    },
    {
      "cell_type": "markdown",
      "metadata": {
        "id": "nYovwiyh23Q2"
      },
      "source": [
        "- **그렇다면 앞으로 딥러닝을 어떻게 공부하면 좋을까요?**\n",
        "\n",
        "    - 일단 신경망에 대한 거부감을 없애야 합니다.<br/>\n",
        "    어디선가 **신경망/인공지능** 이야기만 나온다면 여러분도 이야기 하고 싶을 정도로 관심을 가져봅시다.\n",
        "\n",
        "    - 이번 Section 에는 새로운 개념이 굉장히 많이 등장합니다.<br/>\n",
        "    새로운 개념을 **글로 적거나, 말해보면서 제대로 알고 있는지 확인**해봅시다. 앞으로도 좋은 공부 습관이 될 것입니다.<br/>\n",
        "\n",
        "    그렇기 때문에 Q&A시간에 **3명 정도를 지명**하여 오늘 배운 내용을 말해보게 하겠습니다!<br/>\n",
        "    배운 내용을 정리하여 말해본다면 메타 인지로 넘어갈 수 있습니다. \n",
        "\n",
        "    - 딥러닝의 장점을 아는 것도 좋지만 단점도 알고 깔 수도 있어야 합니다.<br/>\n",
        "    \"데이터가 많을 때에만 좋고, 가장 조악한 방법론임에도 여러 기법과 빅데이터를 만나 **운좋게 엄청난 성능을 보인다**\"고<br/>\n",
        "    츤데레처럼 말할 수 있어야 합니다.\n",
        "\n",
        "    - 위 사진은 **\"단순한 문제를 풀 때 딥러닝이 굳이 쓸모가 없을 수 있음\"**을 풍자하고 있는데요.<br/>\n",
        "    \n",
        "    게임에서나 볼법한 검(Sword)을 스테이크를 자를 때 사용하는 것처럼 단순한 문제에는 딥러닝이 필요없지만<br/>\n",
        "    최종 Boss와도 같은 \"복잡한 데이터를 만났을 때(사물 인식, 음성 인식 등)에는 유용해질 수 있다\"는 것입니다.<br/>\n",
        "    \n",
        "    그렇기 때문에 내가 풀어야 하는 문제가 어디에 속하는지를 잘 인식하는 것이 중요합니다."
      ]
    },
    {
      "cell_type": "markdown",
      "metadata": {
        "id": "7NXa_iVwrT2p"
      },
      "source": [
        "- **이번 Sprint 에서는?**\n",
        "\n",
        "    신경망은 긴 역사를 가지고 있을 뿐 아니라 현재 머신러닝에서 가장 많은 연구 결과가 쏟아져 나오는 분야입니다.<br/>\n",
        "    이번 Sprint에서 모든 것을 다룰 수는 없겠지만, **<font color=\"ff6f61\">신경망에 대한 가장 기본적인 이론과 용어 및 필수 라이브러리의 사용법 등</font>**을 공부하게 됩니다.\n",
        "    \n",
        "    그러니 앞으로를 위해 이번 스프린트를 잘 학습해두면 좋겠죠?"
      ]
    },
    {
      "cell_type": "markdown",
      "metadata": {
        "id": "llrI13kKPPDS"
      },
      "source": [
        "## 퍼셉트론(Perceptron)이란?\n"
      ]
    },
    {
      "cell_type": "markdown",
      "metadata": {
        "id": "KGhmizgYCgeI"
      },
      "source": [
        "### 먼저 **신경망을 구성하는 가장 기본 단위인 <font color='#ff6f61'>퍼셉트론(Perceptron)</font>**에 대해서 배워봅시다."
      ]
    },
    {
      "cell_type": "markdown",
      "metadata": {
        "id": "IrpwNhIrod3d"
      },
      "source": [
        "> ❗️ ***아래부터 종종 신경에 대한 생물학 용어가 등장할 것입니다.<br/>\n",
        "하지만 우리는 신경과학을 공부하고자 하는 것이 아니니 생물학 용어를 이해하지 못해도 넘어갑시다.***\n",
        "\n",
        "사람의 뇌는 치밀하게 연결어 있는 약 100억개의 뉴런으로 구성되어 있습니다.<br/>\n",
        "뉴런 사이에는 시냅스라는 연결이 뉴런마다 1000개에서 10000개까지 인터넷처럼 망으로 되어있죠.<br/>\n",
        "이러한 구조를 바탕으로 우리의 뇌가 \"생각\"이라는 것을 할 수 있게 되었습니다.<br/>\n",
        "그렇다면 우리도 이런 망을 따라한다면 \"생각\"하는 것 같은 무엇인가를 만들 수 있지 않을까요?\n",
        "\n",
        "퍼셉트론은 이런 뉴런을 모사하여 만들어진 <font color='#ff6f61'>**신경망의 기본 단위**</font>입니다.<br/>\n",
        "먼저 퍼셉트론을 모사한 그림을 보고 본격적인 설명으로 넘어갑시다."
      ]
    },
    {
      "cell_type": "markdown",
      "metadata": {
        "id": "C-aBrkBkPVzh"
      },
      "source": [
        "<img src=\"https://ds-lecture-data.s3.ap-northeast-2.amazonaws.com/etc/note_image/%E1%84%91%E1%85%A5%E1%84%89%E1%85%A6%E1%86%B8%E1%84%90%E1%85%B3%E1%84%85%E1%85%A9%E1%86%AB.jpg\"/>\n"
      ]
    },
    {
      "cell_type": "markdown",
      "metadata": {
        "id": "GkXTwxyYojoO"
      },
      "source": [
        "- **<font color='#ff6f61'>퍼셉트론(Perceptron) : 신경망을 이루는 가장 기본 단위</font>**\n",
        "\n",
        "    - 퍼셉트론은 프랑크 로젠블라트(Frank Rosenblatt)가 1957년 고안한 알고리즘입니다.\n",
        "    - 1950년대에 등장한 고대 화석 같은 이 알고리즘을 지금 시점에 왜 배울까요?\n",
        "    - 그 이유는 퍼셉트론이 신경망(딥러닝)의 기원이 되는 알고리즘이기 때문입니다.\n",
        "\n",
        "- 퍼셉트론은 **<font color='#ff6f61'>다수의 신호를 입력으로 받아 하나의 신호를 출력</font>**합니다.\n",
        "\n",
        "    - 여기서 **신호**란 전류와 같은 일종의 흐름입니다. \n",
        "    - 전류가 전선을 타고 흐르듯이 퍼셉트론은 입력 데이터와 가중치가 연산의 흐름을 만들어 정보를 계속해서 전달합니다.\n",
        "    - '흐른다' 또는 '안 흐른다'로 1과 0의 값 중 하나를 가질 수 있습니다. \n",
        "    - 가중치는 전류에서 말하는 저항에 해당합니다. 저항은 전류의 흐름을 억제하는 역할을 하여 저항이 낮을수록 큰 전류가 흐르게 됩니다. \n",
        "    - 반대로 퍼셉트론에서는 가중치가 클수록 강한 신호를 흘려보냅니다.<br/>\n",
        "    작용하는 방향은 반대지만 신호를 얼마나 흘려 줄지를 결정한다는 점에서 저항과 가중치는 같은 기능을 합니다."
      ]
    },
    {
      "cell_type": "markdown",
      "metadata": {
        "id": "rMvED2asojig"
      },
      "source": [
        "### 논리게이트로 본 퍼셉트론"
      ]
    },
    {
      "cell_type": "markdown",
      "metadata": {
        "id": "G214ie78zMOJ"
      },
      "source": [
        "퍼셉트론의 가장 단순한 형태는 AND, NAND, OR 과 같은 논리 게이트(Logic Gate)입니다.<br/>\n",
        "논리 게이트의 예시를 알아보고 구현해 보면서 퍼셉트론을 좀 더 잘 이해해보고, (단층) **퍼셉트론의 한계에 대해서도 알아봅시다.**<br/>"
      ]
    },
    {
      "cell_type": "markdown",
      "metadata": {
        "id": "92LxPTkqA71A"
      },
      "source": [
        "#### AND GATE\n",
        "\n"
      ]
    },
    {
      "cell_type": "markdown",
      "metadata": {
        "id": "e7r03aaNA-8p"
      },
      "source": [
        "> **AND GATE 는 입력 신호가 모두 1(True)일 때 1(True)을 출력**합니다.\n",
        "\n",
        "AND GATE 의 실제 사례에는 어떤 것이 있을까요? \n",
        "\n",
        "- 예) 밤에 라면을 먹고싶은데 먹어야 할까 말아야 할까를 고민하고 있다고 해보겠습니다.<br/>\n",
        "(실제는 좀 더 많은 조건을 따져보겠지만, 이번 예시에서는 2가지 만을 고려해 보겠습니다.)\n",
        "    \n",
        "    - (1) 저녁을 안 먹었는가?\n",
        "    - (2) 11시 이전인가? \n",
        "\n",
        "두 조건을 만족할 때만 라면을 먹는 사람이라면, AND GATE 처럼 동작한다고 할 수 있겠습니다. \n",
        "\n",
        "아래 진리표를 보며 각 경우에 AND GATE 가 어떻게 동작하는지 알아보도록 합시다.<br/>\n",
        "(아래 등장하는 게이트의 기호나 용어는 학계의 약속이기 때문에 그대로 받아들이시면 됩니다.)"
      ]
    },
    {
      "cell_type": "markdown",
      "metadata": {
        "id": "htgliV6JouMM"
      },
      "source": [
        "<img src=\"https://www.allaboutcircuits.com/uploads/articles/two-input-and-gate-truth-table.jpg\" />"
      ]
    },
    {
      "cell_type": "code",
      "metadata": {
        "id": "B1wj3heXcV5h"
      },
      "source": [
        "# AND GATE를 Python 코드로 구현해보겠습니다. \n",
        "# 아래 코드에서 w1, w2는 가중치(weight)를 의미하는 변수입니다.\n",
        "\n",
        "def AND(x1, x2):\n",
        "    w1, w2, theta = 0.5, 0.5, 0.7\n",
        "    tmp = x1*w1 + x2*w2\n",
        "    \n",
        "    if tmp <= theta:\n",
        "        return 0\n",
        "    else:\n",
        "        return 1"
      ],
      "execution_count": null,
      "outputs": []
    },
    {
      "cell_type": "code",
      "metadata": {
        "id": "kVeHJzpKcit-",
        "colab": {
          "base_uri": "https://localhost:8080/"
        },
        "outputId": "3fe0ebc6-38a5-46f0-bab6-afa06090a9a0"
      },
      "source": [
        "print(AND(0, 0))\n",
        "print(AND(1, 0))\n",
        "print(AND(0, 1))\n",
        "print(AND(1, 1))"
      ],
      "execution_count": null,
      "outputs": [
        {
          "output_type": "stream",
          "name": "stdout",
          "text": [
            "0\n",
            "0\n",
            "0\n",
            "1\n"
          ]
        }
      ]
    },
    {
      "cell_type": "markdown",
      "metadata": {
        "id": "r43ZgCs-z7Ux"
      },
      "source": [
        "잘 구현된 것을 볼 수 있습니다. 다음은 NAND GATE 로 넘어가 봅시다."
      ]
    },
    {
      "cell_type": "markdown",
      "metadata": {
        "id": "O3h5cnbcdoKa"
      },
      "source": [
        "#### NAND GATE\n"
      ]
    },
    {
      "cell_type": "markdown",
      "metadata": {
        "id": "8luITrusdqri"
      },
      "source": [
        "> **NAND는 Not AND 의 줄임말로 AND GATE의 결과의 반대를 출력**합니다.\n",
        "\n",
        "아래 진리표를 보며 각 경우에 NAND GATE 가 어떻게 동작하는지 알아보도록 합시다."
      ]
    },
    {
      "cell_type": "markdown",
      "metadata": {
        "id": "rKHx1hewcQgb"
      },
      "source": [
        "<img src=\"https://www.allaboutcircuits.com/uploads/articles/2-input-nand-gate.jpg\" />"
      ]
    },
    {
      "cell_type": "code",
      "metadata": {
        "id": "vu_c5jm_coLj"
      },
      "source": [
        "# NAND GATE를 Python 코드로 구현해보겠습니다. \n",
        "# AND GATE 코드에서 약간만 변형해주면 됩니다.\n",
        "\n",
        "def NAND(x1, x2):\n",
        "    \"\"\"\n",
        "    AND GATE 의 코드에서 어떤 부분이 변화되었을까요?\n",
        "    \"\"\"\n",
        "    w1, w2, theta = 0.5, 0.5, 0.7\n",
        "    tmp = x1*w1 + x2*w2\n",
        "  \n",
        "    if tmp <= theta:\n",
        "        return 1\n",
        "    else:\n",
        "        return 0"
      ],
      "execution_count": null,
      "outputs": []
    },
    {
      "cell_type": "code",
      "metadata": {
        "id": "t37S-UJkcrED",
        "colab": {
          "base_uri": "https://localhost:8080/"
        },
        "outputId": "af2ed970-94d4-4c34-ad86-352b488ad6cf"
      },
      "source": [
        "print(NAND(0, 0))\n",
        "print(NAND(1, 0))\n",
        "print(NAND(0, 1))\n",
        "print(NAND(1, 1))"
      ],
      "execution_count": null,
      "outputs": [
        {
          "output_type": "stream",
          "name": "stdout",
          "text": [
            "1\n",
            "1\n",
            "1\n",
            "0\n"
          ]
        }
      ]
    },
    {
      "cell_type": "markdown",
      "metadata": {
        "id": "YfWSqeqCdEu_"
      },
      "source": [
        "#### OR GATE"
      ]
    },
    {
      "cell_type": "markdown",
      "metadata": {
        "id": "pKim8-nFdRaM"
      },
      "source": [
        "> **OR GATE 는 입력 신호 중 하나만 1(True)이라도 1(True)을 출력**합니다.\n",
        "\n",
        "아래 진리표를 보며 각 경우에 OR GATE 가 어떻게 동작하는지 알아보도록 합시다."
      ]
    },
    {
      "cell_type": "code",
      "metadata": {
        "id": "TmJa9Fp1dEh5"
      },
      "source": [
        "# OR GATE를 Python 코드로 구현해보겠습니다. \n",
        "\n",
        "def OR(x1, x2):\n",
        "    \"\"\"\n",
        "    OR GATE 역시 AND GATE를 잘 변화시켜 구현할 수 있습니다. \n",
        "    AND GATE의 코드에서 어떤 부분이 변화되었을까요?\n",
        "    \"\"\"\n",
        "    w1, w2, theta = 0.5, 0.5, 0.3\n",
        "    tmp = x1*w1 + x2*w2\n",
        "  \n",
        "    if tmp <= theta:\n",
        "        return 0 \n",
        "    else:\n",
        "        return 1"
      ],
      "execution_count": null,
      "outputs": []
    },
    {
      "cell_type": "code",
      "metadata": {
        "id": "7puUhrIdfSHq",
        "colab": {
          "base_uri": "https://localhost:8080/"
        },
        "outputId": "c1e7ceb8-37ad-41e4-b915-92f3ed63453f"
      },
      "source": [
        "print(OR(0, 0))\n",
        "print(OR(1, 0))\n",
        "print(OR(0, 1))\n",
        "print(OR(1, 1))"
      ],
      "execution_count": null,
      "outputs": [
        {
          "output_type": "stream",
          "name": "stdout",
          "text": [
            "0\n",
            "1\n",
            "1\n",
            "1\n"
          ]
        }
      ]
    },
    {
      "cell_type": "markdown",
      "metadata": {
        "id": "cr7QAsmEfVfp"
      },
      "source": [
        "#### XOR GATE"
      ]
    },
    {
      "cell_type": "markdown",
      "metadata": {
        "id": "5AZIGvZXfXCq"
      },
      "source": [
        "> **XOR GATE 는 배타적 논리합(Exclusive-OR)이라고도 불리는 GATE 입니다. 입력 신호가 다를 경우 1(True)을 출력**합니다."
      ]
    },
    {
      "cell_type": "markdown",
      "metadata": {
        "id": "wm1x_C7WlVnT"
      },
      "source": [
        "<img src=\"https://www.allaboutcircuits.com/uploads/articles/exclusive-or-gate.jpg\" />\n"
      ]
    },
    {
      "cell_type": "markdown",
      "metadata": {
        "id": "r3AdIIislzlS"
      },
      "source": [
        "신경망이 논의되던 초기에 **퍼셉트론의 한계로 지적되었던 것이 바로 <font color=\"ff6f61\">XOR GATE 의 표현</font>**이었습니다.\n",
        "\n",
        "아래는 각각 AND, OR, XOR의 진리표를 나타내고 있는 그림입니다.<br/>\n",
        "**검은 색이 1(True), 흰 색은 0(False)**를 나타냅니다.<br/>\n",
        "그리고 AND와 OR에 해당하는 그림에는 두 클래스(True, False)를 분류하기 위한 분류 경계가 나타나고 있습니다.\n",
        "\n",
        "***그렇다면 XOR 에서도 선형 경계로 두 클래스를 제대로 분류할 수 있을까요?***\n"
      ]
    },
    {
      "cell_type": "markdown",
      "metadata": {
        "id": "w18ca_lnlw_j"
      },
      "source": [
        "<img src=\"https://miro.medium.com/max/700/1*CyGlr8VjwtQGeNsuTUq3HA.jpeg\" width=600/>\n"
      ]
    },
    {
      "cell_type": "markdown",
      "metadata": {
        "id": "Wtf8f3NlmPwQ"
      },
      "source": [
        "골똘히 생각해보면 **단순 선형인 경계로는 XOR에서 등장하는 점을 두 클래스로 완벽히 분류할 수 없음**을 알 수 있습니다.\n",
        "\n",
        "오늘 Quiz에는 XOR GATE를 Python 코드로 구현하는 문제가 있는데요.\n",
        "XOR GATE의 진리표와 동일한 결과를 출력하는 `XOR` 함수를 만들어보도록 합시다.\n",
        "\n",
        "⦿ Hint: 위에서 만든 함수(`AND, NAND, OR`)를 잘 조합해 봅시다."
      ]
    },
    {
      "cell_type": "code",
      "metadata": {
        "id": "hTWNUh_cozpE"
      },
      "source": [
        "# 결과가 아래처럼 나오면 되겠죠?\n",
        "\"\"\"\n",
        "XOR(0, 0) = 0\n",
        "XOR(1, 0) = 1\n",
        "XOR(0, 1) = 1\n",
        "XOR(1, 1) = 0\n",
        "\"\"\""
      ],
      "execution_count": null,
      "outputs": []
    },
    {
      "cell_type": "markdown",
      "metadata": {
        "id": "0GJJ5pOfoy4W"
      },
      "source": [
        "## 신경망의 기본 구조"
      ]
    },
    {
      "cell_type": "markdown",
      "metadata": {
        "id": "lrNq60Io1zKr"
      },
      "source": [
        "- 신경망(Neural Networks)은 위에서 알아본 것처럼 최근에 등장한 기술이 아닙니다.<br/>\n",
        "1943년경 뇌의 신경 활동을 수학으로 표현하고자 한 아이디어와 1957년에 로젠블라트(Rosenblatt)가 고안한 퍼셉트론이 발전해 지금에 이르게 되었습니다.<br/>\n",
        "실제로 1970년대에도 신경망에 대한 연구가 많이 진행되었는데요. 당시에는 많은 한계점이 있었지만 좋은 시대를 만나 꽃을 피우게 되었습니다.\n",
        "\n",
        "- **ANN(Artificial Neural Networks), 즉 인공 신경망**은 실제 신경계의 특징을 모사하여 만들어진 **계산 모델**입니다.<br/>\n",
        "인공 신경망의 기본 구조인 퍼셉트론은 실제 뇌 신경망의 기본 구조인 뉴런(Neuron)을 모사하여 제작되었습니다.<br/>\n",
        "최근에는 줄여서 부르는 **'뉴럴넷(Neural-Net)'**으로 가장 많이 불리고 있습니다."
      ]
    },
    {
      "cell_type": "markdown",
      "metadata": {
        "id": "y7SYCYi14YAO"
      },
      "source": [
        "그러면 실제 신경세포를 간단히 알아보면서 신경망의 세계로 들어가보겠습니다.\n",
        "\n",
        "> ❗️ ***이곳에 등장하는 생물학 용어 역시 기억하지 못해도 좋습니다.***\n",
        "\n",
        "\n",
        "- 신경세포(Neuron)\n",
        "\n",
        "    - 수상 돌기(Dendrites)에서 입력 신호를 다른 뉴런으로부터 받아들입니다.\n",
        "    - 받아들인 신호를 신경 세포 내에서 통합합니다.\n",
        "    - 임계값을 넘어서는 전류가 생기면 Axon Hillock이 축삭돌기(Axon)로 최종 출력 신호를 전송하여 다음 뉴런으로 전파합니다."
      ]
    },
    {
      "cell_type": "markdown",
      "metadata": {
        "id": "eE_VvciN5ODA"
      },
      "source": [
        "<img src=\"https://upload.wikimedia.org/wikipedia/commons/c/cf/Axon_Hillock.png\" width=500>"
      ]
    },
    {
      "cell_type": "markdown",
      "metadata": {
        "id": "r9BFxPBh8jqM"
      },
      "source": [
        "### 신경망의 기본 형태(가중치, 편향 연산)"
      ]
    },
    {
      "cell_type": "markdown",
      "metadata": {
        "id": "fziZjb8n6izK"
      },
      "source": [
        "이제 위의 뉴런을 모사한 퍼셉트론으로 이루어진 **신경망의 기본 형태**에 대해서 알아보도록 하겠습니다.<br/>\n",
        "아래는 신경망의 기본 형태를 도식화한 그림입니다."
      ]
    },
    {
      "cell_type": "markdown",
      "metadata": {
        "id": "vf5tpNpo8r7-"
      },
      "source": [
        "<img src=\"https://ds-lecture-data.s3.ap-northeast-2.amazonaws.com/etc/note_image/perceptron_TLU.png\" width=\"500\">"
      ]
    },
    {
      "cell_type": "markdown",
      "metadata": {
        "id": "Nwqf2Yja8s3S"
      },
      "source": [
        "위 그림에서 원으로 표현된 부분을 뉴런(Neuron) 혹은 노드(node)라고 합니다.<br/>\n",
        "각 노드는 무슨 역할을 할까요? 노드가 어떤 역할을 하는 지 순서대로 알아보도록 하겠습니다."
      ]
    },
    {
      "cell_type": "markdown",
      "metadata": {
        "id": "2c_UsKxp5sdK"
      },
      "source": [
        "1. 입력 신호($x_0, x_1, ...$)가 입력되면 각각 고유한 가중치($w_0, w_1, ...$)가 곱해집니다.\n",
        "2. 다음 노드에서는 입력된 모든 신호를 더해줍니다($\\sum$).\n",
        "3. 각 노드에서의 연산값이 정해진 임계값(Threshold Logic Unit)을 넘을 경우에만 다음 노드들이 있는 층(layer)으로 신호를 전달합니다."
      ]
    },
    {
      "cell_type": "markdown",
      "metadata": {
        "id": "FyB2uwQT5z1V"
      },
      "source": [
        "인공 신경망은 실제 생물의 신경 세포를 모사하여 만들어졌습니다.\n",
        "\n",
        "하지만 이쯤에서 목표를 명확히 할 필요가 있겠죠.<br/>\n",
        "**우리의 목표는 생물의 신경망과 유사한 인공 신경망을 만드는 것이 아니라<br/>\n",
        "<font color='ff6f61'>복잡한 데이터 속에서 패턴을 발견할 수 있는 알고리즘</font>으로서의 인공 신경망을 만드는 것입니다.**\n"
      ]
    },
    {
      "cell_type": "markdown",
      "metadata": {
        "id": "M_xlGGjSJRSP"
      },
      "source": [
        "### 활성화 함수 (Activation Function)"
      ]
    },
    {
      "cell_type": "markdown",
      "metadata": {
        "id": "sNCG2iPBJiZL"
      },
      "source": [
        "3번에서 '각 노드에서의 연산값이 정해진 임계값을 넘을 경우에만 다음 노드들이 있는 층으로 신호를 전달합니다'라고 하였는데요.<br/>\n",
        "이 역할을 하는 것이 바로 **<font color='ff6f61'>활성화 함수(Activation function)</font>**입니다.<br/>\n",
        "가장 간단한 활성화 함수인 3개(Step, Sigmoid, ReLU)를 알아보도록 하겠습니다."
      ]
    },
    {
      "cell_type": "markdown",
      "metadata": {
        "id": "b6S7nuEPLXAH"
      },
      "source": [
        "#### 계단 함수(Step function)"
      ]
    },
    {
      "cell_type": "markdown",
      "metadata": {
        "id": "tXdMYrWCLbJn"
      },
      "source": [
        "계단 함수는 입력 값이 임계\b값(여기서는 0)을 넘기면 1을 출력하고, 그렇지 않으면 0을 출력하는 함수입니다.<br/>\n",
        "계단 함수의 그래프는 아래와 같습니다."
      ]
    },
    {
      "cell_type": "markdown",
      "metadata": {
        "id": "m_TkpEgeK_Hw"
      },
      "source": [
        "<a href=\"https://towardsdatascience.com/getting-to-know-activation-functions-in-neural-networks-125405b67428\"><img src=\"https://miro.medium.com/max/762/1*K9QJmeG33SvQeJgPa52mmQ.png\" width=\"300\"></a>"
      ]
    },
    {
      "cell_type": "markdown",
      "metadata": {
        "id": "Qf8J68oYMQCj"
      },
      "source": [
        "이번에는 Python 코드로 계단 함수를 구현해 보도록 하겠습니다."
      ]
    },
    {
      "cell_type": "code",
      "metadata": {
        "id": "oj59MXBW6egV",
        "colab": {
          "base_uri": "https://localhost:8080/"
        },
        "outputId": "4a0f51bb-7715-47fb-9692-0753ba084de8"
      },
      "source": [
        "# 필요한 패키지를 import 해줍니다.\n",
        "import numpy as np\n",
        "import matplotlib.pyplot as plt \n",
        "import math \n",
        "\n",
        "# 입력할 샘플 데이터를 만들고 확인합니다. \n",
        "x = np.array([-1, 1, 2])\n",
        "print(\"input : \", x)\n",
        "\n",
        "# 입력 값이 임계값(0)을 넘기는지 판단합니다.\n",
        "y = x>0\n",
        "print(\"Logic : \", y)\n",
        "\n",
        "# 논리(boolean)형태를 정수형으로 바꾸어 0과 1로 나타냅니다.\n",
        "y = y.astype(np.int)\n",
        "print(\"Boolean : \", y)"
      ],
      "execution_count": null,
      "outputs": [
        {
          "output_type": "stream",
          "name": "stdout",
          "text": [
            "input :  [-1  1  2]\n",
            "Logic :  [False  True  True]\n",
            "Boolean :  [0 1 1]\n"
          ]
        }
      ]
    },
    {
      "cell_type": "markdown",
      "metadata": {
        "id": "YHXtN2anNP7o"
      },
      "source": [
        "이 과정을 함수로 만들어 보겠습니다."
      ]
    },
    {
      "cell_type": "code",
      "metadata": {
        "id": "h1VwL6eONTao"
      },
      "source": [
        "def step_function(x):\n",
        "  return np.array(x>0, dtype=np.int)"
      ],
      "execution_count": null,
      "outputs": []
    },
    {
      "cell_type": "code",
      "metadata": {
        "colab": {
          "base_uri": "https://localhost:8080/"
        },
        "id": "RKW-LzKnNdIU",
        "outputId": "b0d8f28b-ac05-4dc3-ff0e-47bf77476ac0"
      },
      "source": [
        "# 함수가 제대로 만들어 졌는지 값을 출력해봅니다.\n",
        "print(step_function(-1))\n",
        "print(step_function(0.5))\n",
        "print(step_function(500000))"
      ],
      "execution_count": null,
      "outputs": [
        {
          "output_type": "stream",
          "name": "stdout",
          "text": [
            "0\n",
            "1\n",
            "1\n"
          ]
        }
      ]
    },
    {
      "cell_type": "code",
      "metadata": {
        "colab": {
          "base_uri": "https://localhost:8080/",
          "height": 265
        },
        "id": "XOwGgzKvPcAm",
        "outputId": "2d958b1f-9dce-4419-d248-68a8252edb40"
      },
      "source": [
        "# 구현한 계단 함수의 값을 바탕으로 그래프를 그려봅시다.\n",
        "x = np.linspace(-1, 1, 100)\n",
        "plt.step(x, step_function(x)) \n",
        "plt.show()"
      ],
      "execution_count": null,
      "outputs": [
        {
          "output_type": "display_data",
          "data": {
            "image/png": "[encoded data removed]",
            "text/plain": [
              "<Figure size 432x288 with 1 Axes>"
            ]
          },
          "metadata": {
            "needs_background": "light"
          }
        }
      ]
    },
    {
      "cell_type": "markdown",
      "metadata": {
        "id": "UuK1KleNNci6"
      },
      "source": [
        "#### 시그모이드 함수(Sigmoid function)"
      ]
    },
    {
      "cell_type": "markdown",
      "metadata": {
        "id": "gB9AdoBgNS-i"
      },
      "source": [
        "신경망이 경사 하강법을 통해 학습을 진행하기 위해서는 '미분'과정이 필요합니다.\n",
        "\n",
        "> ❗️ ***아직은 경사 하강법을 이해하지 못하셔도 괜찮습니다. 오늘은 '미분'이 필요하다는 것만 기억해주세요!***\n",
        "\n",
        "<br/>\n",
        "\n",
        "하지만 계단 함수는 **임계값 지점에서 미분이 불가능**하고, **나머지 지점에서는 미분값이 0**이 나옵니다.<br/>\n",
        "그렇기 때문에 실제로 계단 함수를 활성화 함수로 사용하면 학습이 제대로 이루어지지 않는데요.\n",
        "\n",
        "시그모이드 함수(Sigmoid function)는 이런 단점을 해결하기 위해 사용된 함수입니다.\n",
        "먼저 시그모이드 함수가 어떻게 생겼는지 그래프를 통해 알아보겠습니다."
      ]
    },
    {
      "cell_type": "markdown",
      "metadata": {
        "id": "TNO7LqiBRt6-"
      },
      "source": [
        "<a href=\"https://ko.wikipedia.org/wiki/%EC%8B%9C%EA%B7%B8%EB%AA%A8%EC%9D%B4%EB%93%9C_%ED%95%A8%EC%88%98\"><img src=\"https://upload.wikimedia.org/wikipedia/commons/thumb/8/88/Logistic-curve.svg/640px-Logistic-curve.svg.png\" width=\"400\"></a>"
      ]
    },
    {
      "cell_type": "markdown",
      "metadata": {
        "id": "an9WG2jwR6qe"
      },
      "source": [
        "계단 함수처럼 임계값(0)보다 작은 부분은 0에 가까워지고, 큰 부분은 1에 가까워집니다.<br/>\n",
        "하지만 조금 더 부드럽게 연결되어 있기 때문에 **모든 지점에서 미분 가능**하며, **미분값도 0이 아닙니다.**\n",
        "\n",
        "> ❗️ ***역시 미분 가능, 미분값 0에 대해서 당장 이해하지 못하셔도 좋습니다.***\n",
        "\n",
        "Python 코드로 시그모이드 함수를 구현해 보도록 하겠습니다."
      ]
    },
    {
      "cell_type": "code",
      "metadata": {
        "id": "X5aVy0QtcpP8"
      },
      "source": [
        "def sigmoid(x):\n",
        "  return 1/ (1+np.exp(-x))"
      ],
      "execution_count": null,
      "outputs": []
    },
    {
      "cell_type": "code",
      "metadata": {
        "id": "VBCvT3Zxcqrq",
        "colab": {
          "base_uri": "https://localhost:8080/"
        },
        "outputId": "f9e99ab7-449f-4c29-92a9-24cbda540fd8"
      },
      "source": [
        "x = np.array([-5, -1, 0, 0.1, 5, 500000])\n",
        "print(sigmoid(x))"
      ],
      "execution_count": null,
      "outputs": [
        {
          "output_type": "stream",
          "name": "stdout",
          "text": [
            "[0.00669285 0.26894142 0.5        0.52497919 0.99330715 1.        ]\n"
          ]
        }
      ]
    },
    {
      "cell_type": "code",
      "metadata": {
        "id": "NbWeGtRlcsdT",
        "colab": {
          "base_uri": "https://localhost:8080/",
          "height": 279
        },
        "outputId": "247500c0-d056-4c34-88f6-cad3d7e690a9"
      },
      "source": [
        "x = np.linspace(-10, 10, 100) \n",
        "  \n",
        "plt.plot(x, sigmoid(x)) \n",
        "plt.xlabel(\"x\") \n",
        "plt.ylabel(\"Sigmoid(X)\") \n",
        "  \n",
        "plt.show() "
      ],
      "execution_count": null,
      "outputs": [
        {
          "output_type": "display_data",
          "data": {
            "image/png": "[encoded data removed]",
            "text/plain": [
              "<Figure size 432x288 with 1 Axes>"
            ]
          },
          "metadata": {
            "needs_background": "light"
          }
        }
      ]
    },
    {
      "cell_type": "markdown",
      "metadata": {
        "id": "WGnud2macxOZ"
      },
      "source": [
        "#### ReLU 함수"
      ]
    },
    {
      "cell_type": "markdown",
      "metadata": {
        "id": "ckJkBOAHc698"
      },
      "source": [
        "ReLU 는 실제로 많이 사용되는 활성화 함수입니다.<br/>\n"
      ]
    },
    {
      "cell_type": "code",
      "metadata": {
        "id": "44XbRX8RdT_C"
      },
      "source": [
        "def ReLU(x):\n",
        "    zero = np.zeros(len(x))\n",
        "    return np.max([zero, x], axis=0)"
      ],
      "execution_count": null,
      "outputs": []
    },
    {
      "cell_type": "code",
      "metadata": {
        "colab": {
          "base_uri": "https://localhost:8080/",
          "height": 312
        },
        "id": "Zuh16AaudrDQ",
        "outputId": "42d0443f-d8d1-4aba-9dcf-75e55f9cfd28"
      },
      "source": [
        "x = np.arange(-3, 3, .1)\n",
        "y = ReLU(x)\n",
        "\n",
        "fig = plt.figure()\n",
        "ax = fig.add_subplot(111)\n",
        "ax.plot(x, y)\n",
        "ax.set_ylim([-1.0, 3.0])\n",
        "ax.set_xlim([-3.0, 3.0])\n",
        "#ax.grid(True)\n",
        "ax.set_xlabel('z')\n",
        "ax.set_title('ReLU: Rectified linear unit')\n",
        "\n",
        "plt.show()\n",
        "fig = plt.gcf()"
      ],
      "execution_count": null,
      "outputs": [
        {
          "output_type": "display_data",
          "data": {
            "image/png": "[encoded data removed]",
            "text/plain": [
              "<Figure size 432x288 with 1 Axes>"
            ]
          },
          "metadata": {
            "needs_background": "light"
          }
        },
        {
          "output_type": "display_data",
          "data": {
            "text/plain": [
              "<Figure size 432x288 with 0 Axes>"
            ]
          },
          "metadata": {}
        }
      ]
    },
    {
      "cell_type": "markdown",
      "metadata": {
        "id": "fT2Ijg7XeVzJ"
      },
      "source": [
        "## 신경망 구현하기"
      ]
    },
    {
      "cell_type": "markdown",
      "metadata": {
        "id": "2LO1WA5bedpa"
      },
      "source": [
        "앞에서 구현한 코드를 바탕으로 간단한 신경망을 만들어 보도록 하겠습니다.<br/>\n",
        "우리가 구현할 신경망은 아래와 같이 생겼습니다."
      ]
    },
    {
      "cell_type": "markdown",
      "metadata": {
        "id": "H_6_XmQrgNSt"
      },
      "source": [
        "<img src=\"https://www.researchgate.net/profile/Haohan_Wang/publication/282997080/figure/fig4/AS:305939199610886@1449952997594/A-typical-two-layer-neural-network-Input-layer-does-not-count-as-the-number-of-layers-of.png\" width=\"400\" alt=\"A typical two layer neural network. Input layer does not count as the number of layers of a network\"/>"
      ]
    },
    {
      "cell_type": "markdown",
      "metadata": {
        "id": "6mKphOX06ofj"
      },
      "source": [
        "1. **먼저 초기 상태를 설정합니다.**\n",
        "\n",
        "가중치와 편향의 값은 일단 임의의 값으로 지정해줍니다.<br/>\n",
        "(아래 코드에서는 직접 임의의 값을 넣어 주었습니다.)\n",
        "\n",
        "아래 코드에서 가중치와 편향의 값보다는 배열(array)의 `shape` 을 주의 깊게 보도록 합시다.\n",
        "\n",
        "> ❓ ***왜 `shape`을 저렇게 지정해 준 것일까요? 위 그림을 보면서 각자 생각해보도록 합시다***"
      ]
    },
    {
      "cell_type": "code",
      "metadata": {
        "id": "MXXwQhkXd3b4"
      },
      "source": [
        "# 네트워크 구조 생성 함수 정의\n",
        "def init_network():\n",
        "    \"\"\"\n",
        "    W1,W2 : 가중치\n",
        "    B1,B2 : 편향\n",
        "    값은 일단 마음대로 지정한 값이니 신경쓰지 않으셔도 됩니다.\n",
        "    \"\"\"\n",
        "    network = {}\n",
        "    network['W1'] = np.array([[0.1, 0.3, 0.5, 0.7], [0.1, 0.3, 0.3, 0.7], [0.2, 0.1, 0.6, 0.8]]) # 3 x 4\n",
        "    network['B1'] = np.array([0.11, 0.12, 0.13, 0.14])\n",
        "    network['W2'] = np.array([[0.1, 0.5], [0.2, 0.6], [0.3, 0.4], [0.35, 0.35]]) # 4 x 2\n",
        "    network['B2'] = np.array([0.1, 0.5])\n",
        "\n",
        "    return network"
      ],
      "execution_count": null,
      "outputs": []
    },
    {
      "cell_type": "markdown",
      "metadata": {
        "id": "LgIT6ykD7Tpv"
      },
      "source": [
        "2. **순전파(Feed Forward) 함수를 정의합니다.**\n",
        "\n",
        "**<font color=\"ff6f61\">순전파는 가중치와 편향의 연산을 반복하며 입력값을 받아 출력값으로 반환하는 과정</font>**입니다.\n",
        "\n",
        "> ❗️ ***당장 코드를 이해하지 못해도 좋습니다.<br/>\n",
        "어려운 코드는 아니니 반복해서 보시면 익숙해질 것입니다.***"
      ]
    },
    {
      "cell_type": "code",
      "metadata": {
        "id": "eoH7O82pgUuY"
      },
      "source": [
        "# 순전파 함수 정의\n",
        "def forward(network, x):\n",
        "  W1, W2 = network['W1'], network['W2']\n",
        "  b1, b2 = network['B1'], network['B2']\n",
        "\n",
        "  a1 = np.dot(x, W1) + b1\n",
        "  z1 = sigmoid(a1)\n",
        "  a2 = np.dot(z1, W2) + b2\n",
        "  \n",
        "  y = a2\n",
        "  return y"
      ],
      "execution_count": null,
      "outputs": []
    },
    {
      "cell_type": "markdown",
      "metadata": {
        "id": "ijTjP-q979Qc"
      },
      "source": [
        "3. **정의한 함수와 입력 데이터를 바탕으로 계산한 값을 출력해봅시다.**"
      ]
    },
    {
      "cell_type": "code",
      "metadata": {
        "id": "cxkTkiuXgl1_",
        "colab": {
          "base_uri": "https://localhost:8080/"
        },
        "outputId": "46cc0952-cada-4ecf-e2de-06baa2b5b1d6"
      },
      "source": [
        "# 네트워크 제작\n",
        "network = init_network()\n",
        "\n",
        "# 샘플 입력 데이터\n",
        "x = np.array([1, 0.5, 0.7])\n",
        "\n",
        "# 순전파 실행\n",
        "y = forward(network, x)\n",
        "print(y)"
      ],
      "execution_count": null,
      "outputs": [
        {
          "output_type": "stream",
          "name": "stdout",
          "text": [
            "[0.81956037 1.7977893 ]\n"
          ]
        }
      ]
    },
    {
      "cell_type": "markdown",
      "metadata": {
        "id": "A-fRWGaohh8Q"
      },
      "source": [
        "위 코드로 구현한 것은 학습없이 단순히 입력 값에 가중치를 연산하여 출력을 내는, 즉 한 번의 순전파가 일어나는 간단한 신경망입니다.\n",
        "\n",
        "위와 같은 신경망에서 가중치 행렬과 입력 신호의 연산이 어떻게 일어나는지 아래 그림을 통해 알아보도록 하겠습니다."
      ]
    },
    {
      "cell_type": "markdown",
      "metadata": {
        "id": "0xH593HSh7VU"
      },
      "source": [
        "<img src='http://jalammar.github.io/images/NNs_formula_no_bias.png' width='400'>\n",
        "\n",
        "<img src=\"https://ds-lecture-data.s3.ap-northeast-2.amazonaws.com/etc/note_image/matdim.png\" width=700>"
      ]
    },
    {
      "cell_type": "markdown",
      "metadata": {
        "id": "7_Z6FC8wkcPk"
      },
      "source": [
        "위와 같이 신경망은 노드가 가중치로 연결되어 입력 신호와 연산한 뒤에 출력값으로 내보내는 함수라고도 할 수 있습니다.<br/>\n",
        "가중치를 지속하여 수정하면서 **<font color=\"ff6f61\">적절한 가중치를 찾는 과정을 학습(Training, Learning)**</font>이라고 합니다."
      ]
    },
    {
      "cell_type": "markdown",
      "metadata": {
        "id": "ydz8HxeclTQs"
      },
      "source": [
        "실제로 사용되는 신경망은 아래와 같이 조금 더 복잡하게 생겼습니다.<br/>\n",
        "[THE NEURAL NETWORK ZOO](https://www.asimovinstitute.org/neural-network-zoo/) 에서 여러 가지 신경망 구조에 대해서 알아볼 수 있습니다.\n",
        "\n",
        "> ❗️ ***아래에 나오는 신경망 구조를 다 알지 못해도 되며, 오늘은 맨 앞에 나오는 두 개만 알아도 충분합니다.<br/>\n",
        "일단 둘러만 보도록 합시다. 앞으로도 여기 등장하는 신경망 전부를 공부하지는 않을 것입니다.***"
      ]
    },
    {
      "cell_type": "markdown",
      "metadata": {
        "id": "hPDunbIegnhW"
      },
      "source": [
        "<img src=\"https://www.asimovinstitute.org/wp-content/uploads/2019/04/NeuralNetworkZoo20042019.png\" width=800>\n"
      ]
    },
    {
      "cell_type": "markdown",
      "metadata": {
        "id": "AzewtwaNnr4X"
      },
      "source": [
        "### 신경망의 각 층에 대해 알아봅시다\n"
      ]
    },
    {
      "cell_type": "markdown",
      "metadata": {
        "id": "5FWrt4Nynxnh"
      },
      "source": [
        "신경망은 여러 층으로 구성이 됩니다. 크게 3가지 층으로 나눌 수 있는데요. <br/>\n",
        "다음 그림과 같이 **입력층, 은닉층, 출력층**으로 나뉩니다."
      ]
    },
    {
      "cell_type": "markdown",
      "metadata": {
        "id": "3nSbWx4un46Y"
      },
      "source": [
        "<img src=\"https://www.researchgate.net/profile/Haohan_Wang/publication/282997080/figure/fig4/AS:305939199610886@1449952997594/A-typical-two-layer-neural-network-Input-layer-does-not-count-as-the-number-of-layers-of.png\" width=\"400\" alt=\"A typical two layer neural network. Input layer does not count as the number of layers of a network\"/>"
      ]
    },
    {
      "cell_type": "markdown",
      "metadata": {
        "id": "1e4zFdSKoPk-"
      },
      "source": [
        "각 층이 어떤 역할을 하는 지에 대해 알아보겠습니다."
      ]
    },
    {
      "cell_type": "markdown",
      "metadata": {
        "id": "ioNoytfOoawE"
      },
      "source": [
        "- **<font color=\"ff6f61\">입력층(Input Layer)</font>**\n",
        "\n",
        "    입력층은 데이터셋이 입력되는 층입니다. 입력되는 **데이터셋의 특성(Feature)에 따라 입력층 노드의 수가 결정**됩니다.<br/>\n",
        "    보통 **입력층은 어떤 계산도 수행하지 않고** 그냥 값들을 전달하기만 하는 특징을 가지고 있습니다.<br/>\n",
        "    그렇기 때문에 **신경망의 층수(깊이, depth)를 셀 때 입력층은 포함하지 않습니다**."
      ]
    },
    {
      "cell_type": "markdown",
      "metadata": {
        "id": "MGByPuEFpdA7"
      },
      "source": [
        "- **<font color=\"ff6f61\">은닉층(Hidden Layers)</font>**\n",
        "\n",
        "    은닉층은 입력층으로부터 **입력된 신호가 가중치, 편향과 연산되는 층**입니다.<br/>\n",
        "    일반적으로 **입력층과 출력층 사이에 있는 층**을 은닉층이라고 부릅니다.<br/>\n",
        "    은닉층에서 일어나는 **계산의 결과를 사용자가 볼 수 없기 때문에** '은닉(Hidden)층' 이라는 이름이 붙었습니다.<br/>\n",
        "    은닉층은 입력 데이터셋의 특성 수와 상관 없이 노드 수를 구성할 수 있습니다.<br/>\n",
        "    \n",
        "    일반적으로 딥러닝(Deep Learning)이라고 하면 **2개 이상의 은닉층**을 가진 신경망을 말하는데요.<br/>\n",
        "    은닉층의 수가 늘어나고 더 좋은 학습 방법이 개발되면서 복잡한 데이터의 구조를 학습할 수 있게 되었습니다.<br/>\n",
        "    이렇게 복잡한 신경망이 다른 알고리즘이 세웠던 성능을 갱신하면서 딥러닝이 유명해졌습니다.\n",
        "\n",
        "    > ❓ 그렇다면 위에서 구현했던 신경망은 딥러닝에 해당한다고 할 수 있을까요?\n"
      ]
    },
    {
      "cell_type": "markdown",
      "metadata": {
        "id": "u0Yab5B7s70v"
      },
      "source": [
        "- **<font color=\"ff6f61\">출력층(Output Layer)</font>**\n",
        "\n",
        "    출력층은 **가장 마지막에 위치한 층이며 은닉층 연산을 마친 값이 출력되는 층**입니다.<br/>\n",
        "    **<font color=\"ff6f61\">우리가 풀어야 할 문제 종류에 따라서 출력층을 잘 설계하는 것이 중요</font>**한데요.<br/>\n",
        "    출력층이 어떻게 구성되는 지 알아보도록 하겠습니다.\n",
        "\n",
        "    - **이진 분류(Binary Classification)** : 활성화 함수로는 시그모이드(Sigmoid) 함수를 사용하며 출력층의 노드 수는 1로 설정합니다. <br/> 출력되는 값이 0과 1 사이의 확률값이 되도록 합니다.\n",
        "\n",
        "    - **다중 분류(Multi-class Classification)** : 활성화 함수로는 소프트맥스(Softmax) 함수를 사용하며 출력층의 노드 수는 레이블의 클래스(Class) 수와 동일하게 설정합니다.\n",
        "\n",
        "    - **회귀(Regression)** : 일반적으로는 활성화 함수를 지정해주지 않으며 출력층의 노드 수는 출력값의 특성(Feature) 수와 동일하게 설정합니다.<br/>\n",
        "    단순히 하나의 수를 예측하는 문제라면 1로 해주면 되겠죠?\n"
      ]
    },
    {
      "cell_type": "markdown",
      "metadata": {
        "id": "SLgxCdK5v_6e"
      },
      "source": [
        "## Tensorflow 신경망 예제"
      ]
    },
    {
      "cell_type": "markdown",
      "metadata": {
        "id": "1EyZNXRFwKZf"
      },
      "source": [
        "앞으로 4주 동안은 구글이 제공하는 딥러닝 프레임워크(Framework)인 텐서플로우(Tensorflow), 그리고 그 상위 API인 케라스(Keras)를 사용할 것입니다.<br/>\n",
        "가장 기본 예제인 MNIST를 통해 Tensorflow 와 Keras 의 사용법을 알아보도록 합시다.\n",
        "\n",
        "***아래에 등장하는 예제는 [Tensorflow Tutorial](https://https://www.tensorflow.org/tutorials/quickstart/beginner) 에서도 확인할 수 있습니다.***\n",
        "\n",
        "---"
      ]
    },
    {
      "cell_type": "markdown",
      "metadata": {
        "id": "y1FWYPJIwZgi"
      },
      "source": [
        "- **MNIST 손글씨 예제**\n",
        "\n",
        "    MNIST 손글씨 예제는 가장 기본적인 이미지 분류(Image Classification) 예제입니다.<br/>\n",
        "    사람이 **0-9까지 쓴 흑백 손글씨 숫자 이미지를 각 클래스로 분류**합니다.<br/>\n",
        "    데이터가 어떻게 생겼고 어떻게 분류되어야 하는지 이미지를 통해 알아보겠습니다."
      ]
    },
    {
      "cell_type": "markdown",
      "metadata": {
        "id": "QiIv3kr-wVLo"
      },
      "source": [
        "<img src=\"https://abpaudel.com/assets/img/posts/mnist.png\" width=600>"
      ]
    },
    {
      "cell_type": "markdown",
      "metadata": {
        "id": "u0XNQxlr0KDF"
      },
      "source": [
        "> ❓ ***그렇다면 MNIST 예제는 이진 분류, 다중 분류, 회귀 중 어디에 속할까요? <br/>\n",
        "<font color=\"ff6f61\">항상 문제를 풀기 전에 자신이 풀고자 하는 문제가 어디에 속하는 지 생각</font>해보도록 합시다.***"
      ]
    },
    {
      "cell_type": "markdown",
      "metadata": {
        "id": "7U-5CHMMyxqB"
      },
      "source": [
        "1. **먼저 필요한 패키지와 라이브러리를 불러옵니다.**"
      ]
    },
    {
      "cell_type": "code",
      "metadata": {
        "id": "gF7FoaBzlhZx",
        "colab": {
          "base_uri": "https://localhost:8080/"
        },
        "outputId": "b21bb622-12a1-44d7-96a2-f97f31687643"
      },
      "source": [
        "import pandas as pd\n",
        "!pip install tensorflow-gpu==2.0.0-rc1\n",
        "import tensorflow as tf"
      ],
      "execution_count": null,
      "outputs": [
        {
          "output_type": "stream",
          "name": "stdout",
          "text": [
            "Collecting tensorflow-gpu==2.0.0-rc1\n",
            "  Downloading tensorflow_gpu-2.0.0rc1-cp37-cp37m-manylinux2010_x86_64.whl (380.5 MB)\n",
            "\u001b[K     |████████████████████████████████| 380.5 MB 8.9 kB/s \n",
            "\u001b[?25hRequirement already satisfied: keras-preprocessing>=1.0.5 in /usr/local/lib/python3.7/dist-packages (from tensorflow-gpu==2.0.0-rc1) (1.1.2)\n",
            "Requirement already satisfied: astor>=0.6.0 in /usr/local/lib/python3.7/dist-packages (from tensorflow-gpu==2.0.0-rc1) (0.8.1)\n",
            "Requirement already satisfied: protobuf>=3.6.1 in /usr/local/lib/python3.7/dist-packages (from tensorflow-gpu==2.0.0-rc1) (3.17.3)\n",
            "Collecting keras-applications>=1.0.8\n",
            "  Downloading Keras_Applications-1.0.8-py3-none-any.whl (50 kB)\n",
            "\u001b[K     |████████████████████████████████| 50 kB 6.6 MB/s \n",
            "\u001b[?25hRequirement already satisfied: absl-py>=0.7.0 in /usr/local/lib/python3.7/dist-packages (from tensorflow-gpu==2.0.0-rc1) (0.12.0)\n",
            "Collecting tf-estimator-nightly<1.14.0.dev2019080602,>=1.14.0.dev2019080601\n",
            "  Downloading tf_estimator_nightly-1.14.0.dev2019080601-py2.py3-none-any.whl (501 kB)\n",
            "\u001b[K     |████████████████████████████████| 501 kB 43.9 MB/s \n",
            "\u001b[?25hRequirement already satisfied: numpy<2.0,>=1.16.0 in /usr/local/lib/python3.7/dist-packages (from tensorflow-gpu==2.0.0-rc1) (1.19.5)\n",
            "Requirement already satisfied: wrapt>=1.11.1 in /usr/local/lib/python3.7/dist-packages (from tensorflow-gpu==2.0.0-rc1) (1.12.1)\n",
            "Requirement already satisfied: gast>=0.2.0 in /usr/local/lib/python3.7/dist-packages (from tensorflow-gpu==2.0.0-rc1) (0.4.0)\n",
            "Requirement already satisfied: six>=1.10.0 in /usr/local/lib/python3.7/dist-packages (from tensorflow-gpu==2.0.0-rc1) (1.15.0)\n",
            "Requirement already satisfied: google-pasta>=0.1.6 in /usr/local/lib/python3.7/dist-packages (from tensorflow-gpu==2.0.0-rc1) (0.2.0)\n",
            "Requirement already satisfied: opt-einsum>=2.3.2 in /usr/local/lib/python3.7/dist-packages (from tensorflow-gpu==2.0.0-rc1) (3.3.0)\n",
            "Requirement already satisfied: termcolor>=1.1.0 in /usr/local/lib/python3.7/dist-packages (from tensorflow-gpu==2.0.0-rc1) (1.1.0)\n",
            "Collecting tb-nightly<1.15.0a20190807,>=1.15.0a20190806\n",
            "  Downloading tb_nightly-1.15.0a20190806-py3-none-any.whl (4.3 MB)\n",
            "\u001b[K     |████████████████████████████████| 4.3 MB 45.9 MB/s \n",
            "\u001b[?25hRequirement already satisfied: grpcio>=1.8.6 in /usr/local/lib/python3.7/dist-packages (from tensorflow-gpu==2.0.0-rc1) (1.40.0)\n",
            "Requirement already satisfied: wheel>=0.26 in /usr/local/lib/python3.7/dist-packages (from tensorflow-gpu==2.0.0-rc1) (0.37.0)\n",
            "Requirement already satisfied: h5py in /usr/local/lib/python3.7/dist-packages (from keras-applications>=1.0.8->tensorflow-gpu==2.0.0-rc1) (3.1.0)\n",
            "Requirement already satisfied: setuptools>=41.0.0 in /usr/local/lib/python3.7/dist-packages (from tb-nightly<1.15.0a20190807,>=1.15.0a20190806->tensorflow-gpu==2.0.0-rc1) (57.4.0)\n",
            "Requirement already satisfied: markdown>=2.6.8 in /usr/local/lib/python3.7/dist-packages (from tb-nightly<1.15.0a20190807,>=1.15.0a20190806->tensorflow-gpu==2.0.0-rc1) (3.3.4)\n",
            "Requirement already satisfied: werkzeug>=0.11.15 in /usr/local/lib/python3.7/dist-packages (from tb-nightly<1.15.0a20190807,>=1.15.0a20190806->tensorflow-gpu==2.0.0-rc1) (1.0.1)\n",
            "Requirement already satisfied: importlib-metadata in /usr/local/lib/python3.7/dist-packages (from markdown>=2.6.8->tb-nightly<1.15.0a20190807,>=1.15.0a20190806->tensorflow-gpu==2.0.0-rc1) (4.8.1)\n",
            "Requirement already satisfied: cached-property in /usr/local/lib/python3.7/dist-packages (from h5py->keras-applications>=1.0.8->tensorflow-gpu==2.0.0-rc1) (1.5.2)\n",
            "Requirement already satisfied: typing-extensions>=3.6.4 in /usr/local/lib/python3.7/dist-packages (from importlib-metadata->markdown>=2.6.8->tb-nightly<1.15.0a20190807,>=1.15.0a20190806->tensorflow-gpu==2.0.0-rc1) (3.7.4.3)\n",
            "Requirement already satisfied: zipp>=0.5 in /usr/local/lib/python3.7/dist-packages (from importlib-metadata->markdown>=2.6.8->tb-nightly<1.15.0a20190807,>=1.15.0a20190806->tensorflow-gpu==2.0.0-rc1) (3.5.0)\n",
            "Installing collected packages: tf-estimator-nightly, tb-nightly, keras-applications, tensorflow-gpu\n",
            "Successfully installed keras-applications-1.0.8 tb-nightly-1.15.0a20190806 tensorflow-gpu-2.0.0rc1 tf-estimator-nightly-1.14.0.dev2019080601\n"
          ]
        }
      ]
    },
    {
      "cell_type": "markdown",
      "metadata": {
        "id": "CaoMRF6gy1jL"
      },
      "source": [
        "2. **데이터셋을 불러온 후 학습 데이터셋(Train Dataset)과 시험 데이터셋(Test Dataset)으로 나누어(Split)줍니다.**\n",
        "\n",
        "    이미지 데이터에서는 정규화하는 과정이 중요합니다. 빼먹지 않도록 주의해주세요!"
      ]
    },
    {
      "cell_type": "code",
      "metadata": {
        "id": "_N35cHVjy8mh",
        "colab": {
          "base_uri": "https://localhost:8080/"
        },
        "outputId": "9f266366-ba9c-4948-8d78-77cc110ce8ce"
      },
      "source": [
        "# 라이브러리 데이터셋을 불러옵니다. \n",
        "mnist = tf.keras.datasets.mnist\n",
        "\n",
        "# Training Set, Test Set을 분류해줍니다. \n",
        "(x_train, y_train), (x_test, y_test) = mnist.load_data()\n",
        "\n",
        "# Value normalization을 수행합니다. \n",
        "x_train, x_test = x_train / 255.0, x_test / 255.0"
      ],
      "execution_count": null,
      "outputs": [
        {
          "output_type": "stream",
          "name": "stdout",
          "text": [
            "Downloading data from https://storage.googleapis.com/tensorflow/tf-keras-datasets/mnist.npz\n",
            "11493376/11490434 [==============================] - 0s 0us/step\n"
          ]
        }
      ]
    },
    {
      "cell_type": "markdown",
      "metadata": {
        "id": "dKW1Xn-hzLuG"
      },
      "source": [
        "3. **레이블이 어떻게 구성되어 있는 지 확인해봅니다.**"
      ]
    },
    {
      "cell_type": "code",
      "metadata": {
        "id": "EHhhUaJtzLgj",
        "colab": {
          "base_uri": "https://localhost:8080/"
        },
        "outputId": "831db541-a51f-47b8-a4f9-f8804b1fb238"
      },
      "source": [
        "# 데이터의 레이블 구성 형태를 살펴봅니다.\n",
        "# 처음보는 데이터의 경우 데이터 자체를 디스플레이 하여 보면 도움이 됩니다.\n",
        "pd.unique(y_train)"
      ],
      "execution_count": null,
      "outputs": [
        {
          "output_type": "execute_result",
          "data": {
            "text/plain": [
              "array([5, 0, 4, 1, 9, 2, 3, 6, 7, 8], dtype=uint8)"
            ]
          },
          "metadata": {},
          "execution_count": 25
        }
      ]
    },
    {
      "cell_type": "markdown",
      "metadata": {
        "id": "b3kt2_77zPff"
      },
      "source": [
        "4. **이제 본격적으로 신경망 모델을 구축해보겠습니다.**"
      ]
    },
    {
      "cell_type": "code",
      "metadata": {
        "id": "zYHRMmuczS-0"
      },
      "source": [
        "# 신경망 모델 구축\n",
        "model = tf.keras.models.Sequential([\n",
        "  tf.keras.layers.Flatten(input_shape=(28, 28)),\n",
        "  tf.keras.layers.Dense(100, activation='relu'),\n",
        "  tf.keras.layers.Dropout(0.2), # 다음 강의에서 설명이 될 component : 과적합(Overfitting)을 방지하는 역할을 합니다. (오늘은 이해하지 않고 넘어갑시다)\n",
        "  tf.keras.layers.Dense(10, activation='softmax')\n",
        "])"
      ],
      "execution_count": null,
      "outputs": []
    },
    {
      "cell_type": "code",
      "metadata": {
        "id": "86nL6_OM_htw"
      },
      "source": [
        "# 구축한 모델을 컴파일하며, 옵티마이저, loss function 등을 설정해줍니다.\n",
        "model.compile(optimizer='adam',\n",
        "              loss='sparse_categorical_crossentropy',\n",
        "              metrics=['accuracy'])"
      ],
      "execution_count": null,
      "outputs": []
    },
    {
      "cell_type": "code",
      "metadata": {
        "colab": {
          "base_uri": "https://localhost:8080/"
        },
        "id": "b4S3QGSR_hoo",
        "outputId": "3a477a12-28c9-4181-8e21-2d49792b61dd"
      },
      "source": [
        "# 모델이 학습을 하는 부분입니다. 다음 시간에 배우게될 역전파에 대해서 이해를 하신다면 이 과정을 자세히 이해할 수 있을 것입니다. \n",
        "model.fit(x_train, y_train, epochs=5) # epoch의 수를 변화시키면 더 많이 학습하거나 적게 학습할 수 있습니다. "
      ],
      "execution_count": null,
      "outputs": [
        {
          "output_type": "stream",
          "name": "stdout",
          "text": [
            "Train on 60000 samples\n",
            "Epoch 1/5\n",
            "WARNING:tensorflow:Entity <function Function._initialize_uninitialized_variables.<locals>.initialize_variables at 0x7f9aa9267b00> could not be transformed and will be executed as-is. Please report this to the AutoGraph team. When filing the bug, set the verbosity to 10 (on Linux, `export AUTOGRAPH_VERBOSITY=10`) and attach the full output. Cause: module 'gast' has no attribute 'Index'\n",
            "WARNING: Entity <function Function._initialize_uninitialized_variables.<locals>.initialize_variables at 0x7f9aa9267b00> could not be transformed and will be executed as-is. Please report this to the AutoGraph team. When filing the bug, set the verbosity to 10 (on Linux, `export AUTOGRAPH_VERBOSITY=10`) and attach the full output. Cause: module 'gast' has no attribute 'Index'\n",
            "60000/60000 [==============================] - 5s 91us/sample - loss: 0.3148 - accuracy: 0.9090\n",
            "Epoch 2/5\n",
            "60000/60000 [==============================] - 5s 80us/sample - loss: 0.1581 - accuracy: 0.9538\n",
            "Epoch 3/5\n",
            "60000/60000 [==============================] - 5s 79us/sample - loss: 0.1230 - accuracy: 0.9633\n",
            "Epoch 4/5\n",
            "60000/60000 [==============================] - 5s 80us/sample - loss: 0.1016 - accuracy: 0.9692\n",
            "Epoch 5/5\n",
            "60000/60000 [==============================] - 5s 80us/sample - loss: 0.0862 - accuracy: 0.9743\n"
          ]
        },
        {
          "output_type": "execute_result",
          "data": {
            "text/plain": [
              "<tensorflow.python.keras.callbacks.History at 0x7f9aa926ec10>"
            ]
          },
          "metadata": {},
          "execution_count": 28
        }
      ]
    },
    {
      "cell_type": "code",
      "metadata": {
        "colab": {
          "base_uri": "https://localhost:8080/"
        },
        "id": "ec-MbSxv_hdY",
        "outputId": "925eae1c-9dd0-4fd8-cf39-e5cbb00de0d0"
      },
      "source": [
        "# 만들어진 모델을 이용하여 예측하는 부분입니다.\n",
        "model.evaluate(x_test,  y_test, verbose=2)"
      ],
      "execution_count": null,
      "outputs": [
        {
          "output_type": "stream",
          "name": "stdout",
          "text": [
            "10000/1 - 0s - loss: 0.0420 - accuracy: 0.9755\n"
          ]
        },
        {
          "output_type": "execute_result",
          "data": {
            "text/plain": [
              "[0.08292745780413971, 0.9755]"
            ]
          },
          "metadata": {},
          "execution_count": 29
        }
      ]
    },
    {
      "cell_type": "markdown",
      "metadata": {
        "id": "ITf6XXoL_uid"
      },
      "source": [
        "만족스러운 결과가 나왔나요?<br/>\n",
        "이번 스프린트를 공부하면서는 단순히 신경망의 성능이나 결과값보다 구성 요소가 어떻게 이루어져 있는지 아는 것이 중요한데요.<br/>\n",
        "아래 질문에 스스로 대답해보며 예시 코드에서 사용한 신경망에 대한 이해를 높여보도록 합시다."
      ]
    },
    {
      "cell_type": "markdown",
      "metadata": {
        "id": "HOIIXS6ozoYb"
      },
      "source": [
        "- **예시 코드에서**\n",
        "\n",
        "> ❓ 1. **`Flatten`** 은 어떤 역할을 할까요? <br/>\n",
        "> ❓ 2. 마지막 **`Dense`** 층의 숫자는 왜 10일까요? <br/>\n",
        "> ❓ 3. 마지막 **`Dense`** 층의 **`activation`** 은 왜 **`softmax`** 로 해주었을까요? <br/>\n",
        "> ❓ 4. **`compile`** 이 있는 부분에서 **`loss`** 함수는 왜 저렇게 해준 것일까요?\n"
      ]
    },
    {
      "cell_type": "markdown",
      "metadata": {
        "id": "mY0NwUA1zW8q"
      },
      "source": [
        "모델에서 어떻게 학습이 이루어지는지 [텐서플로우 플레이그라운드](https://playground.tensorflow.org/#activation=tanh&batchSize=10&dataset=circle&regDataset=reg-plane&learningRate=0.03&regularizationRate=0&noise=0&networkShape=4,2&seed=0.70910&showTestData=false&discretize=false&percTrainData=50&x=true&y=true&xTimesY=false&xSquared=false&ySquared=false&cosX=false&sinX=false&cosY=false&sinY=false&collectStats=false&problem=classification&initZero=false&hideText=false) 에서 시각화 자료로 알아보도록 합시다.\n",
        "\n",
        "> ❗️ ***신경망의 자세한 학습 과정에 대해서는 오늘 당장 알 지 못해도 괜찮습니다!***"
      ]
    },
    {
      "cell_type": "markdown",
      "metadata": {
        "id": "kX9AU0Ya2CH2"
      },
      "source": [
        "### 신경망, 딥러닝은 왜 강력할까요?\n",
        "\n"
      ]
    },
    {
      "cell_type": "markdown",
      "metadata": {
        "id": "Dw7MKe6E3jtP"
      },
      "source": [
        "깊은 신경망, 즉 딥러닝은 복잡한 데이터셋에서도 패턴을 잘 찾아내어 분류, 회귀 등의 문제를 뛰어난 성능으로 풀어냅니다.<br/>\n",
        "신경망이 이렇게 잘 동작하는 이유는 무엇일까요?\n",
        "\n",
        "이미지, 텍스트 데이터와 같이 차원이 많고 복잡한 데이터에서 패턴을 찾으려면, 매우 복잡한 특성 조합이 필요합니다.<br/>\n",
        "아래 그림은 이미지 데이터입니다."
      ]
    },
    {
      "cell_type": "markdown",
      "metadata": {
        "id": "IeTWPzZV3mPA"
      },
      "source": [
        "<img src=\"https://upload.wikimedia.org/wikipedia/commons/thumb/5/5d/401_Gridlock.jpg/1200px-401_Gridlock.jpg\" width=400 alt=\"401 Gridlock.jpg\">"
      ]
    },
    {
      "cell_type": "markdown",
      "metadata": {
        "id": "YiOSKJ6hQr5k"
      },
      "source": [
        "위 사진에는 수많은 자동차들과 다른 물체들이 섞여 있습니다.<br/>\n",
        "우리는 한 번에 이 물체가 자동차인지 아닌지 혹은 어떤 자동차인지 까지도 알 수 있는데요.\n",
        "\n",
        "이미지를 학습 데이터로 사용해 자동차를 탐지하는 모델을 만든다고 해보겠습니다.<br/>\n",
        "이미지 데이터에서는 pixel 값을 조합해서 데이터의 패턴을 찾아내야 하는데요.<br/>\n",
        "그렇다면 pixel 값을 어떻게 조합해야 자동차를 잘 구분할 수 있을까요?"
      ]
    },
    {
      "cell_type": "markdown",
      "metadata": {
        "id": "2j4QmTBdQhci"
      },
      "source": [
        "- **<font color=\"ff6f61\">표현 학습(Representation Learning)</font>**\n",
        "\n",
        "    여러분이 머신러닝을 수행할 때에는 직접 데이터셋이 가진 특성(Feature)을 최대한 파악한 후 가장 중요한 특성만을 설계하고 찾아내야 했습니다.<br/>\n",
        "    그 과정이 바로 특성 공학(Feature Engineering)을 바탕으로 한 전처리였는데요.<br/>\n",
        "    이 전처리 이후에 머신러닝 모델에 넣어주어야 모델의 성능을 올릴 수 있었고 전처리를 생략한다면 성능이 잘 나오지 않았습니다.\n",
        "\n",
        "    반면에 **<font color=\"ff6f61\">신경망은 데이터에서 필요한 특성을 알아서 조합</font>하여 찾아냅니다!**<br/>\n",
        "    그렇기 때문에 우리가 최소한의 전처리만 해준 후에 모델에 넣어도 꽤 성능이 잘 나오게 됩니다.<br/>\n",
        "    즉, 심화된 특성 공학을 사용해 특성 간의 관계를 찾아낼 필요가 없는 것이죠.\n",
        "\n",
        "    딥러닝과 (딥러닝이 아닌)머신러닝의 차이는 바로 여기에 있습니다.<br/>\n",
        "    이렇게 스스로 특성 관계를 찾아내는 것을 **표현 학습(Representation learning)**이라고 하는데요.<br/>\n",
        "    신경망의 구조와 깊이를 변화시키면 데이터의 특성 관계를 더욱 유용하게 학습할 수 있습니다."
      ]
    },
    {
      "cell_type": "markdown",
      "metadata": {
        "id": "9mQ3Uek4TRoI"
      },
      "source": [
        "> ❗️ ***아래 그림은 어떤 인공 신경망의 구조를 나타낸 그림입니다. 그림이 너무 복잡하다고 겁먹지 않으셔도 됩니다.<br/>\n",
        "`keras`에 익숙해진다면 여러분 모두가 직접 아래 그림보다 복잡한 신경망을 만들 수 있습니다.***"
      ]
    },
    {
      "cell_type": "markdown",
      "metadata": {
        "id": "twqcEu2A2CfD"
      },
      "source": [
        "<img src=\"https://www.researchgate.net/profile/Tugce_Karatas8/publication/331165395/figure/fig1/AS:727499755507719@1550460866636/A-graphical-visualization-of-a-Deep-Neural-Network-from-here.ppm\" alt=\"A graphical visualization of a Deep Neural Network from here\"/>"
      ]
    },
    {
      "cell_type": "markdown",
      "metadata": {
        "id": "32-FVtcWT7t8"
      },
      "source": [
        "> ❓ ***그렇다면 신경망의 구조를 어떻게 설계하는 것이 가장 좋을까요?<br/>\n",
        "좋은 신경망 구조란 무엇일지 각자 생각해보도록 합시다. 그리고 디스코드에서 서로 토론해봅시다.***"
      ]
    },
    {
      "cell_type": "markdown",
      "metadata": {
        "id": "KmTuWyhQ2tD2"
      },
      "source": [
        "## 퍼셉트론(Perceptron)과 활성화 함수(Activation Function) 리뷰"
      ]
    },
    {
      "cell_type": "markdown",
      "metadata": {
        "id": "aSWyYkwwxtN8"
      },
      "source": [
        "오늘 배운 주요 개념인 퍼셉트론과 활성화 함수에 대해서 다시 복습해보겠습니다."
      ]
    },
    {
      "cell_type": "markdown",
      "metadata": {
        "id": "SVtHJqsSxpY7"
      },
      "source": [
        "### 퍼셉트론(Perceptron)"
      ]
    },
    {
      "cell_type": "markdown",
      "metadata": {
        "id": "FqN56pQ42yHT"
      },
      "source": [
        "신경망을 잘 알기 위해서는 신경망을 이루는 기본 구조인 퍼셉트론을 잘 알아야 겠죠?<br/> \n",
        "퍼셉트론은 **<font color=\"ff6f61\">하나의 노드(뉴런)으로 이루어진 신경망의 기본 구조</font>**인데요.<br/>\n",
        "<font color=\"ff6f61\">**다수의 입력값을 받아 하나의 출력값</font>을 내보냅니다.**"
      ]
    },
    {
      "cell_type": "markdown",
      "metadata": {
        "id": "8cblJpo_77PM"
      },
      "source": [
        "<img src=\"https://www.researchgate.net/profile/Zafeirios_Fountas/publication/266485234/figure/fig2/AS:651919710224385@1532441179639/The-simplest-mathematical-model-of-a-neuron-called-the-Perceptron-30.png\" width=\"600\" alt=\"2: The simplest mathematical model of a neuron called the Perceptron. [30]\"/>"
      ]
    },
    {
      "cell_type": "markdown",
      "metadata": {
        "id": "nIXqv9DQ4Rqd"
      },
      "source": [
        "퍼셉트론에서 노드는 입력값에 **가중치(와 편향)가 곱해진 값을 모두 더하는 연산**, 즉 선형 결합을 하고<br/>\n",
        "활성화 함수를 적용한 후 그 값을 출력합니다."
      ]
    },
    {
      "cell_type": "markdown",
      "metadata": {
        "id": "uqqho60y4chz"
      },
      "source": [
        "퍼셉트론이 하는 연산을 수식으로 나타내면 다음과 같이 나타낼 수 있습니다.<br/>\n",
        "아래 식에서 $f$ 는 활성화 함수를 나타내는데요.<br/>\n",
        "먼저 가중치와 편향을 입력 신호와 연산한 값을 더한$\\big(\\sum\\big)$ 뒤에, 활성화 함수$(f)$에 넣어줍니다.\n",
        "\n",
        "<br/>\n",
        "\n",
        "$$\n",
        "y = f \\bigg[\\sum(b + w_0x_0 + w_1x_1 + ... + w_nx_n) \\bigg]\n",
        "$$"
      ]
    },
    {
      "cell_type": "markdown",
      "metadata": {
        "id": "_qHvyR8J9yKR"
      },
      "source": [
        "만약 활성화 함수가 위에서 구현했던 계단 함수라면 수식으로는 다음과 같이 나타낼 수 있겠죠?\n",
        "\n",
        "<br/>\n",
        "\n",
        "$$\n",
        "f(\\mathbf {x} )={\\begin{cases}1&{\\text{if }}\\ \\mathbf {w} \\cdot \\mathbf {x} +b>0,\\\\0&{\\text{otherwise}}\\end{cases}}\n",
        "$$\n",
        "\n",
        "<br/>\n",
        "\n",
        "> ❗️ ***아직 수식이 익숙하지 않아도 괜찮습니다. 자꾸 보면 익숙해지니 당장은 걱정하지 않으셔도 됩니다.***"
      ]
    },
    {
      "cell_type": "markdown",
      "metadata": {
        "id": "UeOi7ScL4knM"
      },
      "source": [
        "### 활성화 함수(Activation Function)"
      ]
    },
    {
      "cell_type": "markdown",
      "metadata": {
        "id": "teIhohfy22el"
      },
      "source": [
        "신경망에서 각 노드는 활성화 함수를 가지고 있습니다.<br/>\n",
        "일반적으로 각 층에는 같은 종류의 활성화 함수를 사용합니다.\n",
        "\n",
        "인공신경망에서 활성화 함수는 **<font color=\"ff6f61\">다음 층으로 신호를 얼마만큼 전달할지를 결정</font>**합니다.<br/>\n",
        "그래서 간혹 전달함수(Transfer function)이라고 부르기도 합니다.\n",
        "\n",
        "아래는 여러 가지 활성화 함수의 그래프를 나타낸 것입니다."
      ]
    },
    {
      "cell_type": "markdown",
      "metadata": {
        "id": "kZwSRdBU4sR_"
      },
      "source": [
        "<img src=\"https://www.researchgate.net/profile/Vivienne_Sze/publication/315667264/figure/fig3/AS:669951052496900@1536740186369/Various-forms-of-non-linear-activation-functions-Figure-adopted-from-Caffe-Tutorial.png\" width=\"600\" alt=\"Various forms of non-linear activation functions (Figure adopted from Caffe Tutorial [46]).\"/>\n"
      ]
    },
    {
      "cell_type": "markdown",
      "metadata": {
        "id": "YPRjll8PNMhV"
      },
      "source": [
        "> ❗️ ***모든 활성화 함수를 기억하지 않아도 괜찮습니다. 실제로는 이것보다 더 많은 활성화 함수가 사용되고 있는데요.<br/>\n",
        "당장은 Sigmoid, Hyperbolic Tangent($\\tanh$), ReLU 정도만 기억해도 충분합니다.***\n",
        "\n",
        "> ❓ ***활성화 함수의 공통적인 특징에는 어떤 것이 있을까요? 특징을 발견했다면 왜 그런 특징을 가지고 있는지 검색을 통해 알아봅시다.***<br/>\n",
        "🔍 추천 검색어 : **`활성화 함수 특징`, `Activation Function characteristics`**"
      ]
    },
    {
      "cell_type": "markdown",
      "metadata": {
        "id": "nrYGgapEXS_G"
      },
      "source": [
        "## Python으로 직접 만드는 신경망"
      ]
    },
    {
      "cell_type": "markdown",
      "metadata": {
        "id": "07vnCEWNXWoh"
      },
      "source": [
        "파이썬 코드로 신경망을 만들어보겠습니다.\n",
        "\n",
        "> ❗️❗️❗️ ***아래부터 나오는 코드를 당장 이해하지 못해도 좋습니다. 암기할 필요는 더더욱 없습니다.***"
      ]
    },
    {
      "cell_type": "markdown",
      "metadata": {
        "id": "QOQyrW4SXwmY"
      },
      "source": [
        "1. **입력 데이터를 생성합니다.**"
      ]
    },
    {
      "cell_type": "code",
      "metadata": {
        "id": "D9vrAm5vNTYI"
      },
      "source": [
        "# 랜덤 시드(Random Seed)를 고정합니다.\n",
        "np.random.seed(405)\n",
        "\n",
        "# X: 입력(inputs)\n",
        "X = np.array([\n",
        "    [0, 0]\n",
        "    ,[0, 1]\n",
        "    ,[1, 0]\n",
        "    ,[1, 1]\n",
        "])\n",
        "\n",
        "# 편향(bias)\n",
        "b = 1\n",
        "\n",
        "# Y: 타겟값(target, correct outputs)\n",
        "Y= np.array([[0],[1],[1],[1]])"
      ],
      "execution_count": null,
      "outputs": []
    },
    {
      "cell_type": "markdown",
      "metadata": {
        "id": "-Zcax5eSXveX"
      },
      "source": [
        "2. **활성화 함수인 시그모이드(Sigmoid) 함수와 그 도함수를 구현해봅시다.**\n",
        "\n",
        "시그모이드 함수는 위에서 구현했던 것과 동일합니다.<br/>\n",
        "시그모이드 함수의 도함수는 [링크](https://towardsdatascience.com/derivative-of-the-sigmoid-function-536880cf918e)를 참조합시다.\n",
        "\n",
        "> ❗️ ***시그모이드의 도함수를 구하는 과정을 당장 이해하지 못하셔도 좋습니다. 이해가 안된다면 오늘은 뛰어넘어도 됩니다.***"
      ]
    },
    {
      "cell_type": "code",
      "metadata": {
        "id": "UFcm8ZBzXuvk"
      },
      "source": [
        "# 시그모이드 함수\n",
        "# net: 입력과 가중치의 가중합\n",
        "def sigmoid(net):\n",
        "    return 1 / (1 + np.exp(-net))\n",
        "\n",
        "# 시그모이드 함수의 도함수 유도 예시\n",
        "# https://towardsdatascience.com/derivative-of-the-sigmoid-function-536880cf918e\n",
        "def sigmoid_prime(net):\n",
        "    sig = sigmoid(net)\n",
        "    return sig * (1 - sig)"
      ],
      "execution_count": null,
      "outputs": []
    },
    {
      "cell_type": "code",
      "metadata": {
        "colab": {
          "base_uri": "https://localhost:8080/",
          "height": 265
        },
        "id": "93GuWqlXYnLk",
        "outputId": "ed2ea976-d5cd-4655-dcaf-098be1fb2225"
      },
      "source": [
        "# 시그모이드 함수가 잘 생성되었는지 그래프를 출력해봅시다.\n",
        "x_range = np.arange(-10., 10., 0.2)\n",
        "y_range = np.array([sigmoid(x) for x in x_range])\n",
        "y_prime = np.array([sigmoid_prime(x) for x in x_range])\n",
        "\n",
        "plt.plot(x_range, y_range, label='sigmoid') \n",
        "plt.plot(x_range, y_prime, label='sigmoid_prime')\n",
        "plt.legend()\n",
        "plt.show();"
      ],
      "execution_count": null,
      "outputs": [
        {
          "output_type": "display_data",
          "data": {
            "image/png": "[encoded data removed]",
            "text/plain": [
              "<Figure size 432x288 with 1 Axes>"
            ]
          },
          "metadata": {
            "needs_background": "light"
          }
        }
      ]
    },
    {
      "cell_type": "markdown",
      "metadata": {
        "id": "ZDq65EzbYHoM"
      },
      "source": [
        "3. **초기 가중치는 무작위(Random)로 지정해줍니다.**"
      ]
    },
    {
      "cell_type": "code",
      "metadata": {
        "colab": {
          "base_uri": "https://localhost:8080/"
        },
        "id": "V_VI9G_pY6R8",
        "outputId": "d325e3a4-787d-4bdc-92b9-1f8bddc97dca"
      },
      "source": [
        "# W: [w0, w1]\n",
        "W = 2 * np.random.rand(2,1) - 1\n",
        "W"
      ],
      "execution_count": null,
      "outputs": [
        {
          "output_type": "execute_result",
          "data": {
            "text/plain": [
              "array([[ 0.40316676],\n",
              "       [-0.44345216]])"
            ]
          },
          "metadata": {},
          "execution_count": 33
        }
      ]
    },
    {
      "cell_type": "markdown",
      "metadata": {
        "id": "VFmfP1o-Y4o6"
      },
      "source": [
        "4. **입력 데이터와 가중치를 연산합니다.**"
      ]
    },
    {
      "cell_type": "code",
      "metadata": {
        "colab": {
          "base_uri": "https://localhost:8080/"
        },
        "id": "23_ZgV6xZDxj",
        "outputId": "1ccc74ed-bb8d-4a7f-bf42-ace8b936dc4d"
      },
      "source": [
        "# Z: 신호에 가중치와 편향을 연산해 준 결과\n",
        "Z = np.dot(X, W) + b\n",
        "Z"
      ],
      "execution_count": null,
      "outputs": [
        {
          "output_type": "execute_result",
          "data": {
            "text/plain": [
              "array([[1.        ],\n",
              "       [0.55654784],\n",
              "       [1.40316676],\n",
              "       [0.9597146 ]])"
            ]
          },
          "metadata": {},
          "execution_count": 34
        }
      ]
    },
    {
      "cell_type": "markdown",
      "metadata": {
        "id": "7yg1kgaUZBvb"
      },
      "source": [
        "5. **활성화 함수를 적용한 뒤 나오는 값(output)을 출력해봅시다.**"
      ]
    },
    {
      "cell_type": "code",
      "metadata": {
        "colab": {
          "base_uri": "https://localhost:8080/"
        },
        "id": "fmQJm9dJZdok",
        "outputId": "dc5a2b71-5a91-49a7-c745-5f956f2d86f0"
      },
      "source": [
        "# A: 출력(activated outputs)\n",
        "A = sigmoid(Z)\n",
        "A"
      ],
      "execution_count": null,
      "outputs": [
        {
          "output_type": "execute_result",
          "data": {
            "text/plain": [
              "array([[0.73105858],\n",
              "       [0.6356534 ],\n",
              "       [0.80268592],\n",
              "       [0.72306466]])"
            ]
          },
          "metadata": {},
          "execution_count": 35
        }
      ]
    },
    {
      "cell_type": "markdown",
      "metadata": {
        "id": "P2o11K4tZdGn"
      },
      "source": [
        "### 출력 오차를 줄이기 위한 역전파(경사하강법 이용) \n"
      ]
    },
    {
      "cell_type": "markdown",
      "metadata": {
        "id": "JQFpq0YWZDCa"
      },
      "source": [
        "> ❗️ ***다음 강의에서 역전파와 경사 하강법에 대해 자세히 다룰 것입니다.<br/>\n",
        "지금 내용이 이해가 되지 않는다면 일단은 넘어가고 코드만 따라가봅시다.***\n",
        "\n",
        "손실(error, cost)을 계산하기 위해 실제 타겟값(target)과 출력값(output)의 차이를 계산합니다.\n",
        "\n",
        "경사 하강법(Gradient descent)은 손실 값이 최소가 되는 가중치(weight)를 찾는 방법입니다.<br/>\n",
        "역전파 알고리즘은 경사 하강법에 필요한 미분값을 빠르고 효율적으로 찾는 알고리즘이지요.<br/>\n",
        "자세한 내용은 다음 강의에 등장하기 때문에 지금은 코드가 어떻게 등장하는 지만 따라가도 충분합니다."
      ]
    },
    {
      "cell_type": "markdown",
      "metadata": {
        "id": "0p9kUJFYavOM"
      },
      "source": [
        "#### MSE 미분하기 (내일 등장하니 지금 이해하지 못해도 됩니다.)"
      ]
    },
    {
      "cell_type": "markdown",
      "metadata": {
        "id": "rDA3HXqHapxz"
      },
      "source": [
        "손실 함수(Cost function)로 MSE(Mean Squared Error)를 사용할 때,<br/>\n",
        "가중치에 대해 도함수를 아래와 같은 수식으로 나타낼 수 있습니다. [참조 링크](https://sebastianraschka.com/faq/docs/mse-derivative.html)\n",
        "\n",
        "\\begin{align}\n",
        "\\frac{\\partial E}{\\partial w_j} &= \\frac{\\partial}{\\partial w_j} \\frac{1}{2n} \\sum_{i=1}^{n} (t_i - o_i)^2 \\\\\n",
        "&= \\frac{1}{2n} \\sum_{i=1}^{n} \\frac{\\partial}{\\partial w_j} (t_i - o_i)^2 \\quad [\\text{chain rule}] \\\\\n",
        "&= \\frac{1}{2n} \\sum_{i=1}^{n} 2 (t_i - o_i) \\frac{\\partial}{\\partial w_j} (t_i - o_i) \\quad [\\text{sum rule}] \\\\\n",
        "&= \\frac{1}{n} \\sum_{i=1}^{n}  (t_i - o_i) \\left( \\frac{\\partial}{\\partial w_j} t_i - \\frac{\\partial}{\\partial w_j}  o_i \\right)\\\\\n",
        "&= - \\frac{1}{n} \\sum_{i=1}^{n}  (t_i - o_i) \\frac{\\partial}{\\partial w_j}  o_i\n",
        "\\end{align}\n",
        "\n",
        "와 같은 형태가 되고 $o_i$ 를 $w_j$에 관해 편미분 하면\n",
        "\n",
        "\\begin{align}\n",
        "\\frac{\\partial}{\\partial w_j}  o_i\n",
        "& =  \\frac{\\partial o_i}{\\partial \\text{net}_i}\\frac{\\partial\\text{net}_i}{\\partial {w_j}}.\n",
        "\\end{align}\n",
        "\n",
        "라고 쓸 수 있습니다. 벡터 계산 코드로 구현하면 다음과 같고 이를 가중치 업데이트에 사용합니다."
      ]
    },
    {
      "cell_type": "markdown",
      "metadata": {
        "id": "GxpsQE25a6XK"
      },
      "source": [
        "#### 다시 코드로 돌아와서"
      ]
    },
    {
      "cell_type": "markdown",
      "metadata": {
        "id": "UUJDHdk5cu7O"
      },
      "source": [
        "6. **미분한 값을 코드로 구현합니다.**\n",
        "\n",
        "`da` = $\\partial E/\\partial A$ (MSE를 미분하여 나오는 값)<br/>\n",
        "`dz` = $\\partial E/\\partial z$<br/>\n",
        "`dw`, `db` = 각각 가중치(weight), 편향(bias) 업데이트 값"
      ]
    },
    {
      "cell_type": "code",
      "metadata": {
        "colab": {
          "base_uri": "https://localhost:8080/"
        },
        "id": "QAtui3WWanN2",
        "outputId": "c90b2112-1bc8-4514-8452-e33a6b379480"
      },
      "source": [
        "da = A - Y\n",
        "dz = da * sigmoid_prime(Z)\n",
        "dw = np.dot(X.T, dz)\n",
        "db = np.sum(da, keepdims=True)\n",
        "\n",
        "print(\"dz : \\n\", dz, \"\\n\")\n",
        "print(\"dw : \\n\", dw, \"\\n\")\n",
        "print(\"db : \\n\", db, \"\\n\")"
      ],
      "execution_count": null,
      "outputs": [
        {
          "output_type": "stream",
          "name": "stdout",
          "text": [
            "dz : \n",
            " [[ 0.14373484]\n",
            " [-0.084382  ]\n",
            " [-0.03125085]\n",
            " [-0.05545413]] \n",
            "\n",
            "dw : \n",
            " [[-0.08670498]\n",
            " [-0.13983613]] \n",
            "\n",
            "db : \n",
            " [[-0.10753744]] \n",
            "\n"
          ]
        }
      ]
    },
    {
      "cell_type": "code",
      "metadata": {
        "colab": {
          "base_uri": "https://localhost:8080/"
        },
        "id": "UMSbvIEEc-SE",
        "outputId": "3eff39ff-cb4d-459c-be85-f2a2d4533ae7"
      },
      "source": [
        "print(\"기존 가중치: \\n\", W, \"\\n\")"
      ],
      "execution_count": null,
      "outputs": [
        {
          "output_type": "stream",
          "name": "stdout",
          "text": [
            "기존 가중치: \n",
            " [[ 0.40316676]\n",
            " [-0.44345216]] \n",
            "\n"
          ]
        }
      ]
    },
    {
      "cell_type": "markdown",
      "metadata": {
        "id": "JzN9xp8_eSuJ"
      },
      "source": [
        "7. **가중치와 편향을 업데이트 해줍니다.**"
      ]
    },
    {
      "cell_type": "code",
      "metadata": {
        "id": "DHRnPgcldL0d"
      },
      "source": [
        "# 가중치 업데이트(batch)\n",
        "W += dw\n",
        "b += db"
      ],
      "execution_count": null,
      "outputs": []
    },
    {
      "cell_type": "code",
      "metadata": {
        "colab": {
          "base_uri": "https://localhost:8080/"
        },
        "id": "El9T4Mx-e9eQ",
        "outputId": "78bcb5ff-cf5a-448a-d30a-4db214b1be69"
      },
      "source": [
        "print(\"업데이트 후 가중치: \\n\", W, \"\\n\")\n",
        "print(\"업데이트 후 bias: \\n\", b, \"\\n\")"
      ],
      "execution_count": null,
      "outputs": [
        {
          "output_type": "stream",
          "name": "stdout",
          "text": [
            "업데이트 후 가중치: \n",
            " [[ 0.31646178]\n",
            " [-0.58328829]] \n",
            "\n",
            "업데이트 후 bias: \n",
            " [[0.89246256]] \n",
            "\n"
          ]
        }
      ]
    },
    {
      "cell_type": "markdown",
      "metadata": {
        "id": "pnTCPDPpfANc"
      },
      "source": [
        "8. **이 과정을 반복하여 최적의 가중치를 찾아 봅시다.**"
      ]
    },
    {
      "cell_type": "code",
      "metadata": {
        "colab": {
          "base_uri": "https://localhost:8080/"
        },
        "id": "5uWtQZR5fHMN",
        "outputId": "85b29076-8351-4798-d90b-306ade23b9ae"
      },
      "source": [
        "# 이미 입력 데이터와 타겟 출력은 윗 부분에서 선언 하였습니다.\n",
        "\n",
        "# 가중치 초기화\n",
        "# W = 2 * np.random.random((2,1)) - 1\n",
        "W = np.random.randn(2,1)\n",
        "# W = np.zeros((2,1))\n",
        "\n",
        "b = 0\n",
        "\n",
        "print('학습 전 가중치: \\n', W)\n",
        "\n",
        "# 가중치 업데이트를 10,000회 (10,000 epoch) 진행하겠습니다.\n",
        "\n",
        "for iteration in range(1000):\n",
        "\n",
        "    # 순방향 전파\n",
        "    Z = np.dot(X, W) + b\n",
        "    A = sigmoid(Z)\n",
        "\n",
        "    # 역방향 전파(기울기 계산)\n",
        "    da = Y - A\n",
        "    dz = da * sigmoid_prime(Z)\n",
        "    dw = np.dot(X.T, dz)\n",
        "    db = np.sum(da, keepdims=True)\n",
        "    \n",
        "    W += dw\n",
        "    b += db\n",
        "\n",
        "print('학습 후 가중치: \\n', W, \"\\n\")\n",
        "print('학습 후 bias: \\n', b, \"\\n\")\n",
        "print('학습 후 예측값: \\n', A.round(3), \"\\n\")"
      ],
      "execution_count": null,
      "outputs": [
        {
          "output_type": "stream",
          "name": "stdout",
          "text": [
            "학습 전 가중치: \n",
            " [[-0.79003947]\n",
            " [ 0.6826574 ]]\n",
            "학습 후 가중치: \n",
            " [[5.92060487]\n",
            " [5.92082351]] \n",
            "\n",
            "학습 후 bias: \n",
            " [[-2.59025899]] \n",
            "\n",
            "학습 후 예측값: \n",
            " [[0.07 ]\n",
            " [0.965]\n",
            " [0.965]\n",
            " [1.   ]] \n",
            "\n"
          ]
        }
      ]
    },
    {
      "cell_type": "markdown",
      "metadata": {
        "id": "jZowB5PGCc1d"
      },
      "source": [
        "\"학습 후 예측값\"이 원래 설정한 타깃(target) 값과 비슷한지 체크해봅시다."
      ]
    },
    {
      "cell_type": "markdown",
      "metadata": {
        "id": "b2q3zvinfGup"
      },
      "source": [
        "\n",
        "## 예제 2 : Iris 데이터를 퍼셉트론으로 분류하기\n",
        "\n",
        "> 전체 예제는 [블로그](https://www.bogotobogo.com/python/scikit-learn/Perceptron_Model_with_Iris_DataSet.php)를 참조합시다.\n",
        "\n",
        "아래 예제 코드에서는 퍼셉트론을 클래스(Class)로 구현하였습니다.<br/>\n",
        "아직 클래스가 낯설기 때문에 아래 코드를 이해하기가 쉽지는 않을 텐데요.<br/>\n",
        "모두 이해하지 못하더라도 쭉 따라가 보도록 합시다."
      ]
    },
    {
      "cell_type": "markdown",
      "metadata": {
        "id": "vQAbtfC1fvA8"
      },
      "source": [
        "1. **필요한 패키지를 import 하고 Iris 데이터셋을 불러옵니다.**"
      ]
    },
    {
      "cell_type": "code",
      "metadata": {
        "id": "N-hzUM4Pfr_O"
      },
      "source": [
        "import pandas as pd\n",
        "import numpy as np\n",
        "import matplotlib.pyplot as plt"
      ],
      "execution_count": null,
      "outputs": []
    },
    {
      "cell_type": "code",
      "metadata": {
        "id": "j7LXne80f3Tz"
      },
      "source": [
        "# iris 데이터를 DataFrame 형태로 불러옵니다.\n",
        "df = pd.read_csv('https://archive.ics.uci.edu/ml/machine-learning-databases/iris/iris.data', header=None)"
      ],
      "execution_count": null,
      "outputs": []
    },
    {
      "cell_type": "code",
      "metadata": {
        "colab": {
          "base_uri": "https://localhost:8080/",
          "height": 205
        },
        "id": "_5VRnCskgDJ0",
        "outputId": "3203b3ac-97bc-45c4-f119-f82f504ced01"
      },
      "source": [
        "df.head()"
      ],
      "execution_count": null,
      "outputs": [
        {
          "output_type": "execute_result",
          "data": {
            "text/html": [
              "<div>\n",
              "<style scoped>\n",
              "    .dataframe tbody tr th:only-of-type {\n",
              "        vertical-align: middle;\n",
              "    }\n",
              "\n",
              "    .dataframe tbody tr th {\n",
              "        vertical-align: top;\n",
              "    }\n",
              "\n",
              "    .dataframe thead th {\n",
              "        text-align: right;\n",
              "    }\n",
              "</style>\n",
              "<table border=\"1\" class=\"dataframe\">\n",
              "  <thead>\n",
              "    <tr style=\"text-align: right;\">\n",
              "      <th></th>\n",
              "      <th>0</th>\n",
              "      <th>1</th>\n",
              "      <th>2</th>\n",
              "      <th>3</th>\n",
              "      <th>4</th>\n",
              "    </tr>\n",
              "  </thead>\n",
              "  <tbody>\n",
              "    <tr>\n",
              "      <th>0</th>\n",
              "      <td>5.1</td>\n",
              "      <td>3.5</td>\n",
              "      <td>1.4</td>\n",
              "      <td>0.2</td>\n",
              "      <td>Iris-setosa</td>\n",
              "    </tr>\n",
              "    <tr>\n",
              "      <th>1</th>\n",
              "      <td>4.9</td>\n",
              "      <td>3.0</td>\n",
              "      <td>1.4</td>\n",
              "      <td>0.2</td>\n",
              "      <td>Iris-setosa</td>\n",
              "    </tr>\n",
              "    <tr>\n",
              "      <th>2</th>\n",
              "      <td>4.7</td>\n",
              "      <td>3.2</td>\n",
              "      <td>1.3</td>\n",
              "      <td>0.2</td>\n",
              "      <td>Iris-setosa</td>\n",
              "    </tr>\n",
              "    <tr>\n",
              "      <th>3</th>\n",
              "      <td>4.6</td>\n",
              "      <td>3.1</td>\n",
              "      <td>1.5</td>\n",
              "      <td>0.2</td>\n",
              "      <td>Iris-setosa</td>\n",
              "    </tr>\n",
              "    <tr>\n",
              "      <th>4</th>\n",
              "      <td>5.0</td>\n",
              "      <td>3.6</td>\n",
              "      <td>1.4</td>\n",
              "      <td>0.2</td>\n",
              "      <td>Iris-setosa</td>\n",
              "    </tr>\n",
              "  </tbody>\n",
              "</table>\n",
              "</div>"
            ],
            "text/plain": [
              "     0    1    2    3            4\n",
              "0  5.1  3.5  1.4  0.2  Iris-setosa\n",
              "1  4.9  3.0  1.4  0.2  Iris-setosa\n",
              "2  4.7  3.2  1.3  0.2  Iris-setosa\n",
              "3  4.6  3.1  1.5  0.2  Iris-setosa\n",
              "4  5.0  3.6  1.4  0.2  Iris-setosa"
            ]
          },
          "metadata": {},
          "execution_count": 46
        }
      ]
    },
    {
      "cell_type": "code",
      "metadata": {
        "colab": {
          "base_uri": "https://localhost:8080/"
        },
        "id": "xIcIfF7WgFi9",
        "outputId": "6ba3d391-5b55-480b-d495-94d4f7bb49d5"
      },
      "source": [
        "df.shape"
      ],
      "execution_count": null,
      "outputs": [
        {
          "output_type": "execute_result",
          "data": {
            "text/plain": [
              "(150, 5)"
            ]
          },
          "metadata": {},
          "execution_count": 47
        }
      ]
    },
    {
      "cell_type": "markdown",
      "metadata": {
        "id": "vnlx0Dpcgf9l"
      },
      "source": [
        "2. **데이터 전처리(Preprocessing) 및 시각화(Visualization)**"
      ]
    },
    {
      "cell_type": "code",
      "metadata": {
        "colab": {
          "base_uri": "https://localhost:8080/"
        },
        "id": "j5sBCe3ggGvK",
        "outputId": "c6009d86-ac43-496d-dd97-b87e96a4154b"
      },
      "source": [
        "# 50 setosa, 50 versicolor 데이터만 사용하여 이진 분류(Binary Classification) 문제를 풀어보겠습니다.\n",
        "\n",
        "y = df.iloc[0:100, 4].values\n",
        "y"
      ],
      "execution_count": null,
      "outputs": [
        {
          "output_type": "execute_result",
          "data": {
            "text/plain": [
              "array(['Iris-setosa', 'Iris-setosa', 'Iris-setosa', 'Iris-setosa',\n",
              "       'Iris-setosa', 'Iris-setosa', 'Iris-setosa', 'Iris-setosa',\n",
              "       'Iris-setosa', 'Iris-setosa', 'Iris-setosa', 'Iris-setosa',\n",
              "       'Iris-setosa', 'Iris-setosa', 'Iris-setosa', 'Iris-setosa',\n",
              "       'Iris-setosa', 'Iris-setosa', 'Iris-setosa', 'Iris-setosa',\n",
              "       'Iris-setosa', 'Iris-setosa', 'Iris-setosa', 'Iris-setosa',\n",
              "       'Iris-setosa', 'Iris-setosa', 'Iris-setosa', 'Iris-setosa',\n",
              "       'Iris-setosa', 'Iris-setosa', 'Iris-setosa', 'Iris-setosa',\n",
              "       'Iris-setosa', 'Iris-setosa', 'Iris-setosa', 'Iris-setosa',\n",
              "       'Iris-setosa', 'Iris-setosa', 'Iris-setosa', 'Iris-setosa',\n",
              "       'Iris-setosa', 'Iris-setosa', 'Iris-setosa', 'Iris-setosa',\n",
              "       'Iris-setosa', 'Iris-setosa', 'Iris-setosa', 'Iris-setosa',\n",
              "       'Iris-setosa', 'Iris-setosa', 'Iris-versicolor', 'Iris-versicolor',\n",
              "       'Iris-versicolor', 'Iris-versicolor', 'Iris-versicolor',\n",
              "       'Iris-versicolor', 'Iris-versicolor', 'Iris-versicolor',\n",
              "       'Iris-versicolor', 'Iris-versicolor', 'Iris-versicolor',\n",
              "       'Iris-versicolor', 'Iris-versicolor', 'Iris-versicolor',\n",
              "       'Iris-versicolor', 'Iris-versicolor', 'Iris-versicolor',\n",
              "       'Iris-versicolor', 'Iris-versicolor', 'Iris-versicolor',\n",
              "       'Iris-versicolor', 'Iris-versicolor', 'Iris-versicolor',\n",
              "       'Iris-versicolor', 'Iris-versicolor', 'Iris-versicolor',\n",
              "       'Iris-versicolor', 'Iris-versicolor', 'Iris-versicolor',\n",
              "       'Iris-versicolor', 'Iris-versicolor', 'Iris-versicolor',\n",
              "       'Iris-versicolor', 'Iris-versicolor', 'Iris-versicolor',\n",
              "       'Iris-versicolor', 'Iris-versicolor', 'Iris-versicolor',\n",
              "       'Iris-versicolor', 'Iris-versicolor', 'Iris-versicolor',\n",
              "       'Iris-versicolor', 'Iris-versicolor', 'Iris-versicolor',\n",
              "       'Iris-versicolor', 'Iris-versicolor', 'Iris-versicolor',\n",
              "       'Iris-versicolor', 'Iris-versicolor', 'Iris-versicolor'],\n",
              "      dtype=object)"
            ]
          },
          "metadata": {},
          "execution_count": 48
        }
      ]
    },
    {
      "cell_type": "code",
      "metadata": {
        "colab": {
          "base_uri": "https://localhost:8080/"
        },
        "id": "9BpuXkkegavq",
        "outputId": "01922c3f-407e-4169-97ee-75c94dcd9c4e"
      },
      "source": [
        "# 타겟 레이블을 setosa = -1, versicolor = 1 로 바꾸겠습니다\n",
        "\n",
        "y = np.where(y == 'Iris-setosa', -1, 1)\n",
        "y"
      ],
      "execution_count": null,
      "outputs": [
        {
          "output_type": "execute_result",
          "data": {
            "text/plain": [
              "array([-1, -1, -1, -1, -1, -1, -1, -1, -1, -1, -1, -1, -1, -1, -1, -1, -1,\n",
              "       -1, -1, -1, -1, -1, -1, -1, -1, -1, -1, -1, -1, -1, -1, -1, -1, -1,\n",
              "       -1, -1, -1, -1, -1, -1, -1, -1, -1, -1, -1, -1, -1, -1, -1, -1,  1,\n",
              "        1,  1,  1,  1,  1,  1,  1,  1,  1,  1,  1,  1,  1,  1,  1,  1,  1,\n",
              "        1,  1,  1,  1,  1,  1,  1,  1,  1,  1,  1,  1,  1,  1,  1,  1,  1,\n",
              "        1,  1,  1,  1,  1,  1,  1,  1,  1,  1,  1,  1,  1,  1,  1])"
            ]
          },
          "metadata": {},
          "execution_count": 49
        }
      ]
    },
    {
      "cell_type": "code",
      "metadata": {
        "colab": {
          "base_uri": "https://localhost:8080/"
        },
        "id": "vTwn7eAwgmWG",
        "outputId": "3962fbc4-e827-4b03-939b-75b5ddd9e041"
      },
      "source": [
        "# 두 개의 특성(sepal length, petal length)만 사용하겠습니다.\n",
        "X = df.iloc[0:100, [0, 2]].values\n",
        "X.shape"
      ],
      "execution_count": null,
      "outputs": [
        {
          "output_type": "execute_result",
          "data": {
            "text/plain": [
              "(100, 2)"
            ]
          },
          "metadata": {},
          "execution_count": 53
        }
      ]
    },
    {
      "cell_type": "code",
      "metadata": {
        "colab": {
          "base_uri": "https://localhost:8080/",
          "height": 279
        },
        "id": "bQB4yus-gw4j",
        "outputId": "18ab49b6-f5c7-4ef6-f201-e3a1e6cd3f21"
      },
      "source": [
        "# 두 특성에 따라 데이터를 그려보겠습니다\n",
        "plt.scatter(X[:50, 0], X[:50, 1], color='red', marker='o', label='setosa')\n",
        "plt.scatter(X[50:100, 0], X[50:100, 1], color='blue', marker='x', label='versicolor')\n",
        "plt.xlabel('sepal length')\n",
        "plt.ylabel('petal length')\n",
        "plt.legend(loc='upper left')\n",
        "plt.show()"
      ],
      "execution_count": null,
      "outputs": [
        {
          "output_type": "display_data",
          "data": {
            "image/png": "[encoded data removed]",
            "text/plain": [
              "<Figure size 432x288 with 1 Axes>"
            ]
          },
          "metadata": {
            "needs_background": "light"
          }
        }
      ]
    },
    {
      "cell_type": "markdown",
      "metadata": {
        "id": "EYti1pgWgCv6"
      },
      "source": [
        "3. **퍼셉트론(Perceptron)을 구현해봅시다.**"
      ]
    },
    {
      "cell_type": "code",
      "metadata": {
        "id": "_sOOSSs6g2ew"
      },
      "source": [
        "class Perceptron:\n",
        "    # niter = iteration 의 횟수입니다.\n",
        "    # iteration에 대해서는 다음 강의에서 자세히 배울 것이므로 반복 횟수 정도로만 이해하셔도 충분합니다.\n",
        "    def __init__(self, rate = 0.01, niter = 10):\n",
        "        self.rate = rate\n",
        "        self.niter = niter\n",
        "        \n",
        "    def fit(self, X, y):\n",
        "        \"\"\"\n",
        "        퍼셉트론을 학습시키는 코드입니다.\n",
        "        \n",
        "        X : 학습되는 데이터에 해당하는 벡터입니다.\n",
        "        X.shape -> [샘플의 수, 특성의 수] 가 되어야 합니다.\n",
        "        \n",
        "        y : 타겟값입니다.\n",
        "        y.shape -> [샘플의 수] 가 되어야 합니다.\n",
        "        \"\"\"\n",
        "\n",
        "        # 초기 가중치는 [0, 0, 0] 으로 설정합니다.\n",
        "        self.weight = np.zeros(1 + X.shape[1])\n",
        "\n",
        "        # 오분류(mis-classification)된 데이터의 수\n",
        "        self.errors = [] \n",
        "\n",
        "        for i in range(self.niter):\n",
        "            err = 0\n",
        "            for xi, target in zip(X, y):\n",
        "                delta_w = self.rate * (target - self.predict(xi))\n",
        "                self.weight[1:] += delta_w * xi\n",
        "                self.weight[0] += delta_w\n",
        "                err += int(delta_w != 0.0)\n",
        "            self.errors.append(err)\n",
        "        return self\n",
        "\n",
        "    def net_input(self, X):\n",
        "        \"\"\"\n",
        "        입력값을 받아 가중치, 편향과 연산해줍니다.\n",
        "        \"\"\"\n",
        "        return np.dot(X, self.weight[1:]) + self.weight[0]\n",
        "\n",
        "    def predict(self, X):\n",
        "        \"\"\"\n",
        "        학습 후 가중치를 바탕으로 데이터의 클래스를 예측합니다.\n",
        "        \"\"\"\n",
        "        return np.where(self.net_input(X) >= 0.0, 1, -1)"
      ],
      "execution_count": null,
      "outputs": []
    },
    {
      "cell_type": "markdown",
      "metadata": {
        "id": "Vr1J_zB2g2EX"
      },
      "source": [
        "4. **퍼셉트론에 데이터를 넣어 가중치를 학습시켜 봅시다.**"
      ]
    },
    {
      "cell_type": "code",
      "metadata": {
        "colab": {
          "base_uri": "https://localhost:8080/",
          "height": 279
        },
        "id": "WSDB5GyhhC_b",
        "outputId": "f6b0bffb-4c32-4408-9cd0-8502b190e12c"
      },
      "source": [
        "# 학습률(learning rate): 0.1, iteration(epoch): 10\n",
        "# 퍼셉트론을 학습시키고 오분류(mis-classification)의 변화를 살펴보겠습니다.\n",
        "pn = Perceptron(0.1, 10)\n",
        "pn.fit(X, y)\n",
        "plt.plot(range(1, len(pn.errors) + 1), pn.errors, marker='o')\n",
        "plt.xlabel('Epochs')\n",
        "plt.ylabel('Number of misclassifications')\n",
        "plt.show()"
      ],
      "execution_count": null,
      "outputs": [
        {
          "output_type": "display_data",
          "data": {
            "image/png": "[encoded data removed]",
            "text/plain": [
              "<Figure size 432x288 with 1 Axes>"
            ]
          },
          "metadata": {
            "needs_background": "light"
          }
        }
      ]
    },
    {
      "cell_type": "markdown",
      "metadata": {
        "id": "iiz9K0Wkf26w"
      },
      "source": [
        "5. **데이터가 잘 분류 되었는지 확인합니다.**"
      ]
    },
    {
      "cell_type": "code",
      "metadata": {
        "id": "ZW2WGt2LhGbI"
      },
      "source": [
        "# 퍼셉트론의 결정 경계를 확인해 보겠습니다.\n",
        "from matplotlib.colors import ListedColormap\n",
        "\n",
        "def plot_decision_regions(X, y, classifier, resolution=0.02):\n",
        "\n",
        "    # 그래프 요소를 세팅하여줍니다.\n",
        "    markers = ('s', 'x', 'o', '^', 'v')\n",
        "    colors = ('red', 'blue', 'lightgreen', 'gray', 'cyan')\n",
        "    cmap = ListedColormap(colors[:len(np.unique(y))])\n",
        "\n",
        "    # 결정 경계면을 그려보겠습니다.\n",
        "    x1_min, x1_max = X[:,  0].min() - 1, X[:, 0].max() + 1\n",
        "    x2_min, x2_max = X[:, 1].min() - 1, X[:, 1].max() + 1\n",
        "    xx1, xx2 = np.meshgrid(np.arange(x1_min, x1_max, resolution),\n",
        "    np.arange(x2_min, x2_max, resolution))\n",
        "    Z = classifier.predict(np.array([xx1.ravel(), xx2.ravel()]).T)\n",
        "    Z = Z.reshape(xx1.shape)\n",
        "    plt.contourf(xx1, xx2, Z, alpha=0.4, cmap=cmap)\n",
        "    plt.xlim(xx1.min(), xx1.max())\n",
        "    plt.ylim(xx2.min(), xx2.max())\n",
        "\n",
        "    # 데이터를 그립니다\n",
        "    for idx, cl in enumerate(np.unique(y)):\n",
        "        plt.scatter(x=X[y == cl, 0], y=X[y == cl, 1],\n",
        "        alpha=0.8, color=cmap(idx),\n",
        "        marker=markers[idx], label=cl)"
      ],
      "execution_count": null,
      "outputs": []
    },
    {
      "cell_type": "code",
      "metadata": {
        "colab": {
          "base_uri": "https://localhost:8080/",
          "height": 280
        },
        "id": "8hlcFY5ShOdG",
        "outputId": "5f87da35-7f96-45fe-d085-bf6266d48c2c"
      },
      "source": [
        "plot_decision_regions(X, y, classifier=pn)\n",
        "plt.xlabel('sepal length [cm]')\n",
        "plt.ylabel('petal length [cm]')\n",
        "plt.legend(loc='upper left')\n",
        "plt.show()"
      ],
      "execution_count": null,
      "outputs": [
        {
          "output_type": "display_data",
          "data": {
            "image/png": "[encoded data removed]",
            "text/plain": [
              "<Figure size 432x288 with 1 Axes>"
            ]
          },
          "metadata": {
            "needs_background": "light"
          }
        }
      ]
    },
    {
      "cell_type": "markdown",
      "metadata": {
        "id": "q8iSFHgbU3AV"
      },
      "source": [
        "## 🧐  Review"
      ]
    },
    {
      "cell_type": "markdown",
      "metadata": {
        "id": "h-lqDM4VI1kl"
      },
      "source": [
        "- **퍼셉트론(Perceptron)**이란 무엇일까요?\n",
        "    - 입력값은 몇 개이고 출력값은 몇 개일까요? ► **입력 값 = ? 개, 출력 값 = ? 개**\n",
        "\n",
        "- **다층 퍼셉트론 신경망(Multi-Layer Perceptron)**은 무엇이며 단층 퍼셉트론 신경망과 구별되는 **장점**은 무엇인가요?\n",
        "\n",
        "- **신경망(Neural Network)**의 기본 구조와 이를 이루는 **구성 요소**에 대해 설명해봅시다.\n",
        "    - **뉴런(노드)**\n",
        "    - **연결(가중치, 편향)**\n",
        "    - **입력층(Input layer)/은닉층(Hidden layers)/출력층(Output layer)**\n",
        "\n",
        "- **활성화 함수(Activation Function)**는 어떤 역할을 하나요?\n",
        "    - 비선형성(Non-linearity)을 만들어 주는 구조\n",
        "\n",
        "- 신경망의 학습(Training)은 무엇을 찾기 위한 과정인가요?\n",
        "    - 신경망의 학습은 적절한 **OOO**를 찾는 과정이다.\n",
        "\n",
        "- 분류/회귀는 각각 언제 쓰나요? 그리고 이에 따라 신경망은 어떻게 설계해야 할까요?\n",
        "    - **<font color=\"ff6f61\">이진 분류, 다중 분류, 회귀에 따라 출력층의 노드 수, 활성화 함수, 손실 함수를 어떻게 설정해야 하는지</font>** 알아봅시다."
      ]
    },
    {
      "cell_type": "markdown",
      "metadata": {
        "id": "tfAysXHOE5Tv"
      },
      "source": [
        "### 🔝 References"
      ]
    },
    {
      "cell_type": "markdown",
      "metadata": {
        "id": "HMYEBvkkJV7I"
      },
      "source": [
        "- **동영상**\n",
        "\n",
        "    1. [인공 신경망으로 해보는 선형 회귀(Linear Regression) - (03:25~08:50)](https://youtu.be/PyzBX93icz0?t=204)\n",
        "        - Section2 머신러닝에서 배웠던 선형 회귀에 대해서 배운 내용을 재확인해보고<br/>\n",
        "  신경망으로 선형 회귀 모델을 만드는 방법에 대한 수학적인 접근을 배워볼 수 있습니다.\n",
        "\n",
        "    2. 머신 러닝(Section2)에서 배웠던 기본 개념에 대해 복습해봅시다.\n",
        "        - 복습 1 : [머신러닝 개발자들의 일반적인 실수, 과적합 (Overfitting, 4분)](https://www.youtube.com/watch?v=f4sP7OE68-A)\n",
        "        - 복습 2 : [교차검증(Cross Validation, 3분)](https://www.youtube.com/watch?v=TIgfjmp-4BA)\n",
        "        - 복습 3 : [데이터 split & shuffle for ML (7분)](https://www.youtube.com/watch?v=JxFA_bZWPvU)\n",
        "\n",
        "    3. [신경망이란 무엇인가? | 1장.딥러닝에 관하여](https://youtu.be/aircAruvnKk) - 3 Blue 1 Brown\n",
        "\n",
        "    4. [Neural Network](https://www.youtube.com/watch?v=1ZhtwInuOD0&list=PLLssT5z_DsK-h9vYZkQkYNWcItqhlRJLN&index=43) - Andrew Ng"
      ]
    },
    {
      "cell_type": "markdown",
      "metadata": {
        "id": "bZnmwOD5Ju-H"
      },
      "source": [
        "- **웹페이지**\n",
        "\n",
        "    1. Alammar, Jay [A Visual and Interactive Guide to the Basics of Neural Networks](https://jalammar.github.io/visual-interactive-guide-basics-neural-networks/).\n",
        "    2. [SINGLE LAYER NEURAL NETWORK - PERCEPTRON MODEL ON THE IRIS DATASET USING HEAVISIDE STEP ACTIVATION FUNCTION](https://www.bogotobogo.com/python/scikit-learn/Perceptron_Model_with_Iris_DataSet.php)\n",
        "    3. [딥러닝의 선형 vs 비선형](https://youtu.be/umiqnfQxlac)"
      ]
    },
    {
      "cell_type": "markdown",
      "metadata": {
        "id": "mjQ8AIjhJwkD"
      },
      "source": [
        "- **Sprint 1 과 관련된 서적**\n",
        "    - [밑바닥부터 시작하는 딥러닝](https://http://book.interpark.com/product/BookDisplay.do?_method=detail&sc.prdNo=263500510&gclid=Cj0KCQiA7qP9BRCLARIsABDaZzgpPtlR8acSoLvkQGTwQ7VSU85K0YTYFX4vyyZxSKK2t_b2eFqgC0oaAgK9EALw_wcB)\n"
      ]
    }
  ]
}