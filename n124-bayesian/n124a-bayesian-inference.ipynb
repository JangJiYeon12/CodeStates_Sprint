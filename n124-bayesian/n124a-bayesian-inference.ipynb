{
  "nbformat": 4,
  "nbformat_minor": 0,
  "metadata": {
    "colab": {
      "name": "n124a-bayesian-inference.ipynb",
      "provenance": [],
      "collapsed_sections": []
    },
    "kernelspec": {
      "display_name": "Python 3",
      "language": "python",
      "name": "python3"
    },
    "language_info": {
      "codemirror_mode": {
        "name": "ipython",
        "version": 3
      },
      "file_extension": ".py",
      "mimetype": "text/x-python",
      "name": "python",
      "nbconvert_exporter": "python",
      "pygments_lexer": "ipython3",
      "version": "3.8.5"
    }
  },
  "cells": [
    {
      "cell_type": "markdown",
      "metadata": {
        "id": "H7OLbevlbd_Z"
      },
      "source": [
        "<img src='https://i.imgur.com/RDAD11M.png' width = '200' align = 'right'>\n",
        "\n",
        "## *DATA SCIENCE / SECTION 1 / SPRINT 2 / NOTE 4*\n",
        "\n",
        "# 📝 Assignment\n",
        "\n",
        "# 베이지안 통계"
      ]
    },
    {
      "cell_type": "markdown",
      "metadata": {
        "id": "lPwZPpad3UOc"
      },
      "source": [
        "## 1. Multiple Choice Test\r\n",
        "\r\n",
        "객관식 문제를 푸는 과정에서, 학생은 답을 이미 알고 있거나 찍어야 합니다. \r\n",
        "\r\n",
        "학생이 답을 알 확률은 $p$이고, 답을 찍어서 맞출 확률이 $1\\over{m}$ 이라고 할 때 $m$과 $p$를 입력받아 학생이 문제의 답을 알고 맞췄을 확률을 계산하는 함수를 작성하세요."
      ]
    },
    {
      "cell_type": "code",
      "metadata": {
        "id": "trk9r0Tc97Mc"
      },
      "source": [
        "def correct(p, m):\r\n",
        "  # 코드를 작성하세요.  "
      ],
      "execution_count": null,
      "outputs": []
    },
    {
      "cell_type": "markdown",
      "metadata": {
        "id": "vV_0t8RYEDdd"
      },
      "source": [
        "## 2. Blood Test\r\n",
        "\r\n",
        "특정 질병을 가지고 있는 경우 **99%**의 확률로 탐지 할 수 있는 실험방법이 있습니다.\r\n",
        "\r\n",
        "그러나 동시에 이 방법은, **1%**의 확률로 질병이 없지만 질병이 있다고 진단 하는 경우도 있는데요.\r\n",
        "\r\n",
        "실제로 모든 인구중 **0.5%** 만이 이 질병을 가지고 있다고 하겠습니다.\r\n",
        "\r\n",
        "특정 사람이 이 방법을 통해 질병이 있다고 진단 받았을때, 실제로 질병을 가지고 있을 확률을 구하는 함수를 작성하세요."
      ]
    },
    {
      "cell_type": "code",
      "metadata": {
        "id": "qKYGZ5fkFjQ-"
      },
      "source": [
        "def disease(prior, tpr, fpr):\r\n",
        "  # 코드를 작성하세요"
      ],
      "execution_count": null,
      "outputs": []
    },
    {
      "cell_type": "markdown",
      "metadata": {
        "id": "2vw5JHNhyvRh"
      },
      "source": [
        "## Grading\n",
        "이전 과제를 완료했다면, 아래의 코드를 실행하세요."
      ]
    },
    {
      "cell_type": "code",
      "metadata": {
        "id": "YyFUI6HwqtaH"
      },
      "source": [
        "def grade(correct, disease):\n",
        "  score = 0  \n",
        "  score += (round(correct(0.2, 5),4) == 0.8333) \n",
        "  score += (round(disease(0.005, 0.99, 0.01),4) == 0.3322)\n",
        "  return(score)"
      ],
      "execution_count": null,
      "outputs": []
    },
    {
      "cell_type": "code",
      "metadata": {
        "id": "GPL2ufGWq0L9"
      },
      "source": [
        "grade(correct, disease)"
      ],
      "execution_count": null,
      "outputs": []
    },
    {
      "cell_type": "markdown",
      "metadata": {
        "id": "GP7Jv1XvwtkX"
      },
      "source": [
        "## 🔥 도전 과제:\n",
        "\n"
      ]
    },
    {
      "cell_type": "markdown",
      "metadata": {
        "id": "jQTrW4QyGoYe"
      },
      "source": [
        "## 아래 내용에 대한 답을 구하세요.\r\n",
        "\r\n",
        "At a Certain stage of a criminal investigation, the inspector in charge is 60% convinced of the guild of a certain suspect. \r\n",
        "\r\n",
        "Suppose now that a new piece of evidence that shows that the criminal has a `left-handedness` is uncovered. \r\n",
        "\r\n",
        "If 20% of population possesses this characteristic, how certain of the guilt of the suspect should the inspector now be if it turns out that the suspect is among this group?\r\n",
        "\r\n",
        "After that, the new evidence is subject to different possible interpretations, and in fact only shows that it is 90% likely that the criminal possess this characteristic. in this case how likely would it be that the suspect is guilty?"
      ]
    },
    {
      "cell_type": "code",
      "metadata": {
        "id": "M3WuZEGM3UOd"
      },
      "source": [
        ""
      ],
      "execution_count": null,
      "outputs": []
    }
  ]
}