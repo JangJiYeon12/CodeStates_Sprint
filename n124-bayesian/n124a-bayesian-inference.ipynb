{
 "cells": [
  {
   "cell_type": "markdown",
   "metadata": {
    "colab_type": "text",
    "id": "H7OLbevlbd_Z"
   },
   "source": [
    "<img src='https://i.imgur.com/RDAD11M.png' width = '200' align = 'right'>\n",
    "\n",
    "## *DATA SCIENCE / SECTION 1 / SPRINT 2 / NOTE 4*\n",
    "\n",
    "# 📝 Assignment\n",
    "\n",
    "# 베이지안 통계"
   ]
  },
  {
   "cell_type": "markdown",
   "metadata": {
    "colab_type": "text",
    "id": "P-DzzRk5bf0z"
   },
   "source": [
    "## 과제 \n",
    "\n",
    "약물 테스트에 대해서 베이지안을 적용 했습니다. 이번에는 코드를 사용하여 동일한 결과를 만들어보도록 하겠습니다.\n",
    "\n",
    "### 1) 함수를 작성\n",
    "\n",
    "`def prob_drunk_given_positive(prob_drunk_prior, false_positive_rate, true_positive_rate):` \n",
    "\n",
    "베이지안을 적용하기 위해서는 3개의 변수만 필요로합니다. \n",
    "\n",
    "이번 과제 문제에서는\n",
    "- 8%의 false positive rate, \n",
    "- 100%의 true positive rate \n",
    "- 그리고 일반적으로 전체 인구의 1/1000만이 실제로 음주운전을 한다고 가정하도록 하겠습니다.\n",
    " \n",
    " - 한번의 음주 테스트에서 양성이 나온 경우 실제로 음주를 했을 확률은 어느정도 입니까?\n",
    " - 두번의 음주 테스트에서 양성이 나온 경우 실제로 음주를 했을 확률은 어느정도 입니까?\n",
    " - 실제로 음주 했을 확률이 95% 이상으로 보장되기 위해서는, 몇번의 음주 테스트가 필요로 합니까?\n"
   ]
  },
  {
   "cell_type": "code",
   "execution_count": null,
   "metadata": {
    "colab": {},
    "colab_type": "code",
    "id": "xpVhZyUnbf7o"
   },
   "outputs": [],
   "source": [
    "# 코드를 작성하세요"
   ]
  },
  {
   "cell_type": "markdown",
   "metadata": {
    "colab_type": "text",
    "id": "nhOAsLjvCSLF"
   },
   "source": [
    "### 2) Bayesian과 Frequentist 통계의 차이점을 간단히 요약하여보세요.\n",
    "\n",
    "필요한 경우, 이 블로그 링크 [Bayes theorem with Python](https://dataconomy.com/2015/02/introduction-to-bayes-theorem-with-python/)를 참조해도 좋습니다.."
   ]
  },
  {
   "cell_type": "markdown",
   "metadata": {},
   "source": [
    "markdown을 작성하세요."
   ]
  },
  {
   "cell_type": "markdown",
   "metadata": {
    "colab_type": "text",
    "id": "GP7Jv1XvwtkX"
   },
   "source": [
    "## 🔥 도전 과제:\n",
    "\n",
    "- 모듈 1,2,3을 다시 복습하여 내용들이 익숙하도록 하세요.\n",
    "- 이전에 했던 작업들에 대해서 베이지안 방법을 적용하여 보세요 ( 과제 혹은 프로젝트에 대해서 ) \n",
    "- [PyMC3](https://docs.pymc.io/) 를 확인하여 예시 프로젝트 혹은 가이드를 읽어보세요.\n",
    "- PyMC3 를 사용하여 할 수 있는 일이 있는지 알아보세요."
   ]
  },
  {
   "cell_type": "code",
   "execution_count": null,
   "metadata": {},
   "outputs": [],
   "source": []
  }
 ],
 "metadata": {
  "colab": {
   "collapsed_sections": [],
   "include_colab_link": true,
   "name": "n124a-bayesian-inference.ipynb",
   "provenance": []
  },
  "kernelspec": {
   "display_name": "Python 3",
   "language": "python",
   "name": "python3"
  },
  "language_info": {
   "codemirror_mode": {
    "name": "ipython",
    "version": 3
   },
   "file_extension": ".py",
   "mimetype": "text/x-python",
   "name": "python",
   "nbconvert_exporter": "python",
   "pygments_lexer": "ipython3",
   "version": "3.8.5"
  }
 },
 "nbformat": 4,
 "nbformat_minor": 4
}
