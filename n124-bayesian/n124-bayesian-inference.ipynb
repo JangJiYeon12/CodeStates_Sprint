{
 "cells": [
  {
   "cell_type": "markdown",
   "metadata": {
    "colab_type": "text",
    "id": "H7OLbevlbd_Z"
   },
   "source": [
    "<img src='https://i.imgur.com/RDAD11M.png' width = '200' align = 'right'>\n",
    "\n",
    "## *DATA SCIENCE / SECTION 1 / SPRINT 2 / NOTE 4*\n",
    "\n",
    "---\n",
    "\n",
    "# 베이지안 통계 개론 (Bayesian Inference)\n",
    "\n",
    "## 🏆 학습 목표 \n",
    "\n",
    "- T-test의 목적과 사용예시를 설명 할 수 있다.\n",
    "- One-sample t-test를 시행 할 수 있다.\n",
    "- Two-sample t-test를 시행 할 수 있다.\n",
    "- p-value를 사용하여 주어진 가설에 대한 결론을 내릴 수 있다. \n",
    "\n",
    "## ❓ 시작하기전에\n",
    "\n",
    "- 몬티홀에 대해서 검색해봅시다.\n",
    "\n",
    "---\n",
    " "
   ]
  },
  {
   "cell_type": "markdown",
   "metadata": {
    "colab_type": "text",
    "id": "3mz8p08BsN6p"
   },
   "source": [
    "## 준비 - 베이지안적 사고\n",
    "\n",
    "**베이지안**은, 여태까지 접했던 통계적 내용과는 사뭇 다른 접근을 필요로 합니다. \n",
    "\n",
    "이 베이지안의 방식의 아름다운 점은, 내용도 매우 간단하지만, 다양한 분야에 적용이가능 하다는 것입니다. \n",
    "\n",
    "<img src='https://user-images.githubusercontent.com/6457691/89857853-221d8400-dbd8-11ea-97e8-5546e08962e0.png' width = '300'>\n",
    "\n",
    "\n",
    "<img src='https://user-images.githubusercontent.com/6457691/89856586-9eae6380-dbd4-11ea-8bc6-4e10af3e4fcb.jpg' width = 300>"
   ]
  },
  {
   "cell_type": "markdown",
   "metadata": {
    "colab_type": "text",
    "id": "Fa-jzYp9i8La"
   },
   "source": [
    "### 총 확률의 법칙 (The Law of Total Probability)\n",
    "\n",
    "정의에 따르면, $A$라는 특정 변수에 대해, 모든 가능한 이벤트의 총 확률은 1입니다. 즉 :\n",
    "\n",
    "$$P(A) = \\sum_n P(A_n) = 1$$\n",
    "\n",
    "조금 더 나아가서, 2개의 변수를 고려 하는 경우 ($A$ 와 $B$), 두 변수가 연관이 있는 경우, $B$가 일어난 상황에서의, $A$에 대한 확률 $P(A)$는, $P(A|B)$의 형태로 표현됩니다. (반대로 연관이 없는 경우에는 $B$가 일어난 상황에서, $A$에 대한 확률 $P(A)$는 $P(A) * P(B)$ 입니다.)\n",
    "\n",
    "즉,\n",
    "\n",
    "$$P(A) = \\sum_n P(A | B_n) P(B_n)$$\n",
    "\n",
    "다시말해 $A$의 모든 확률은, 주어진 $B_n$에 대해서, 각각의 일어날 확률의 총합입니다."
   ]
  },
  {
   "cell_type": "markdown",
   "metadata": {
    "colab_type": "text",
    "id": "GhycNr-Sbeie"
   },
   "source": [
    "\n",
    "### 조건부 확률 (The Law of Conditional Probability)\n",
    "\n",
    "다른 이벤트가 일어난 상황에서의 조건은 어떻게 구할 수 있을까요? 이를 구하기 위해서 밴다이어그램을 이용해보도록 하겠습니다:\n",
    "\n",
    "실재 계산 되는 부분의 식은 아래와 같습니다:\n",
    "\n",
    "$$P(A|B) = \\frac{P(A \\cap B)}{P(B)}$$\n",
    "\n",
    "![Visualization of set intersection](https://upload.wikimedia.org/wikipedia/commons/9/99/Venn0001.svg)\n",
    "\n",
    "전체 사각형이 모든 가능한 확률 공간이고, $A$는 왼쪽 원, $B$는 오른쪽 원이며 그 교집합이 가운데 붉은 부분입니다. \n",
    "\n",
    "위의 식을 조금 변형해서, $P(B)$를 양변에 곱하면, $P(A|B)P(B) = P(A \\cap B)$ 와 같은 식을 얻을 수 있으며, 이는 곧  $P(A) = \\sum_n P(A \\cap B_n)$를 의미합니다.\n",
    "\n",
    "이는, 큰 발전 같아 보이진 않지만 위의 그림과 연관지어서 이해 하는 경우, $B$가 주어진 상황에서 $A$의 확률은 $B$와 교집합들의 합으로 구성 되어 있다는 것을 이해 할 수 있습니다. \n"
   ]
  },
  {
   "cell_type": "markdown",
   "metadata": {
    "colab_type": "text",
    "id": "hi45SXVyi_Wt"
   },
   "source": [
    "### 베이지안 이론 (Bayes Theorem)\n",
    "\n",
    "아래는 베이지안의 핵심 식입니다:\n",
    "\n",
    "$$P(A|B) = \\frac{P(B|A)P(A)}{P(B)}$$\n",
    "\n",
    "이는 $B$가 주어진 상황에서 $A$의 확률은 A가 주어진 상황에서의 B의 확률 곱하기, A의 확률 나누기 B 의 확률로 표현 됩니다.\n",
    "\n",
    "여기서 조건이 붙지 않은 확률 은 사전확률(\"Prior\"), 조건이 붙은 부분은 사후확률(\"Updated\")로 다시 표현 할 수 있습니다.\n",
    "\n",
    "이것이 중요한 이유는 무엇일까요? \n",
    "\n",
    "### 💉 베이지안 테스트를 반복하여 사용 (repeated testing)\n",
    "\n",
    "다음은 [Wikipedia](https://en.wikipedia.org/wiki/Bayes%27_theorem)로 부터의 예시입니다.\n",
    "\n",
    "베이지안을 적용하는 예시는 매우 많지만, 그중 하나는 약에 대한 양성반응 테스트 입니다. \n",
    "\n",
    "일반적으로, 이 테스트에서 양성반응이 나온 경우 실제로 약물이 신체에 포함되어 있을 것이라고 생각하지만. \n",
    "\n",
    "만약 1%의 위양성 (False positive, 실제로 약물이 없지만 양성반응이 나타남)이 존재하는 경우에도 테스트의 결과는 매우 크게 바뀝니다. \n",
    "\n",
    "실제 분석을 위해, 전체 인구에서 0.5%, (1/200) 만큼 만이 실제로 약물이 신체에 포함되어 있다고 가정해보도록 하겠습니다.\n",
    "\n",
    "양성반응 테스트의 결과가 양성으로 나왔을 경우 실제로 약물이 있을 확률은 어느정도가 될까요? \n",
    "\n",
    "단순히 생각하면, False positive를 제외한 99%라고 생각 할 수 있습니다만 우리는 이제 사전확률과 사후확률을 사용 할 수 있기 때문에 베이지안을 통해 검증해보도록 하겠습니다.\n",
    "\n",
    "다음 계산 결과에서, User는 실제 약물이 발견 되는 사람, $+$는 양성반응입니다.\n",
    "\n",
    "![Bayes Theorem Drug Test Example](https://wikimedia.org/api/rest_v1/media/math/render/svg/95c6524a3736c43e4bae139713f3df2392e6eda9)\n",
    "\n",
    "즉, 오직 33.2% 정도 만이 양성반응이 나왔다고 해도 실제로 약물을 포함 하는 경우입니다. \n",
    "\n",
    "이러한 이유로 인해 실제 상황에서는 여러번 반복해서 실험을 합니다. \n",
    "\n",
    "만약 2번을 반복 해서 모두 양성이 나오는 경우, 3번을 반복하는 경우... 에 따라서, 양성반응이 실제 약물로 부터 나온 결과일 확률은 매우 높아집니다.\n",
    "\n",
    "이처럼 베이지안은 법원에서 증거를 채택해야하는 상황, 가령 약물의 반응, 음주 측정, 임신 여부와 같이 많은 부분에서 사용되며, 이에 대하여 항상 false positive rate와 사전 확률을 통해 정확한 확률을 계산 할 수 있어야 합니다. \n"
   ]
  },
  {
   "cell_type": "markdown",
   "metadata": {
    "colab_type": "text",
    "id": "htI3DGvDsRJF"
   },
   "source": [
    "## 베이지안 예제 "
   ]
  },
  {
   "cell_type": "markdown",
   "metadata": {
    "colab_type": "text",
    "id": "moIJNQ-nbfe_"
   },
   "source": [
    "다시 한번 정리하자면, 베이지안에서의 $P(A|B)$는 $B$라는 증거를 바탕으로한 $A$의 확률입니다."
   ]
  },
  {
   "cell_type": "code",
   "execution_count": null,
   "metadata": {
    "colab": {},
    "colab_type": "code",
    "id": "ke-5EqJI0Tsn"
   },
   "outputs": [],
   "source": [
    "# 베이지안 계산을 위해서는 4개의 변수가 필요합니다.\n",
    "\n",
    "p_pos_infected = 1 # prior probability\n",
    "p_infected =  0.005\n",
    "p_pos_not_infected = 0.01 # 1 % False positive\n",
    "p_not_infected = 0.995 # 1 - p_infected  \n",
    "\n",
    "numerator = p_pos_infected * p_infected\n",
    "\n",
    "denominator = (p_pos_infected * p_infected) + (p_pos_not_infected * p_not_infected)\n",
    "\n",
    "posterior_probability = numerator / denominator\n",
    "\n",
    "posterior_probability"
   ]
  },
  {
   "cell_type": "code",
   "execution_count": null,
   "metadata": {},
   "outputs": [],
   "source": [
    "# repeated test\n",
    "\n",
    "p_pos_infected = 1 # prior probability\n",
    "p_infected =  0.33\n",
    "p_pos_not_infected = 0.01 # 1 % False positive\n",
    "p_not_infected = 1 - p_infected\n",
    "\n",
    "numerator = p_pos_infected * p_infected\n",
    "\n",
    "denominator = (p_pos_infected * p_infected) + (p_pos_not_infected * p_not_infected)\n",
    "\n",
    "posterior_probability = numerator / denominator\n",
    "\n",
    "posterior_probability"
   ]
  },
  {
   "cell_type": "code",
   "execution_count": null,
   "metadata": {},
   "outputs": [],
   "source": [
    "p_pos_infected = 1\n",
    "# prior probability\n",
    "p_infected =  0.98\n",
    "p_pos_not_infected = 0.01 # 1 % False positive\n",
    "p_not_infected = 1 - p_infected\n",
    "\n",
    "numerator = p_pos_infected * p_infected\n",
    "\n",
    "denominator = (p_pos_infected * p_infected) + (p_pos_not_infected * p_not_infected)\n",
    "\n",
    "posterior_probability = numerator / denominator\n",
    "\n",
    "posterior_probability\n",
    "\n",
    "p_value = 1-posterior_probability\n",
    "\n",
    "p_value"
   ]
  },
  {
   "cell_type": "code",
   "execution_count": null,
   "metadata": {},
   "outputs": [],
   "source": [
    "import numpy as np\n",
    "\n",
    "from scipy import stats\n",
    "\n",
    "coinflips = np.random.binomial(1,0.5,20)\n",
    "coinflips"
   ]
  },
  {
   "cell_type": "code",
   "execution_count": null,
   "metadata": {},
   "outputs": [],
   "source": [
    "# Frequency 신뢰 구간 ( module 3의 코드 )\n",
    "\n",
    "def confidence_interval(data, confidence=0.95):\n",
    "  \n",
    "    \"\"\"\n",
    "      주어진 데이터의 표본 평균에 대한 신뢰 구간을 계산합니다.\n",
    "      기본 값으로 t-분포와 양방향 (two-tailed), 95%의 신뢰도를 사용합니다. \n",
    "  \n",
    "      입력 값 : \n",
    "        data - 여러 개로 이루어진 (list 혹은 numpy 배열) 표본 관측치\n",
    "        confidence - 신뢰구간을 위한 신뢰도 \n",
    "  \n",
    "      반환 되는 값:\n",
    "        (평균, 하한, 상한구간)으로 이루어진 tuple\n",
    "    \"\"\"\n",
    "  \n",
    "    data = np.array(data)\n",
    "    mean = np.mean(data)\n",
    "    n = len(data)\n",
    "    s = data.std(ddof = 1)\n",
    "    # stderr = stats.sem(data)\n",
    "    # print(stderr)\n",
    "    stderr = s / np.sqrt(n)\n",
    "    print(stderr)\n",
    "    \n",
    "    t = stats.t.ppf( (1+confidence) / 2.0 ,n-1)\n",
    "    margin_of_error = t*stderr\n",
    "    interval = stderr * stats.t.ppf((1 + confidence) / 2.0, n - 1)\n",
    "    return (mean, mean - interval, mean + interval)\n",
    "\n",
    "\n",
    "confidence_interval(coinflips)"
   ]
  },
  {
   "cell_type": "code",
   "execution_count": null,
   "metadata": {},
   "outputs": [],
   "source": [
    "# SciPy를 사용한 베이지안 신뢰구간 추정\n",
    "# https://docs.scipy.org/doc/scipy/reference/generated/scipy.stats.bayes_mvs.html#scipy.stats.bayes_mvs\n",
    "\n",
    "# 기본 신뢰도 (alpha) = .9\n",
    "\n",
    "mean_CI, _, _ = stats.bayes_mvs(coinflips, alpha = .95) # mean , variance, std\n",
    "\n",
    "mean_CI\n",
    "\n",
    "# 동일함"
   ]
  },
  {
   "cell_type": "markdown",
   "metadata": {
    "colab_type": "text",
    "id": "uWgWjp3PQ3Sq"
   },
   "source": [
    "## 추가 자료"
   ]
  },
  {
   "cell_type": "markdown",
   "metadata": {
    "colab_type": "text",
    "id": "QRgHqmYIQ9qn"
   },
   "source": [
    "- [Source code for mvsdist in scipy](https://github.com/scipy/scipy/blob/90534919e139d2a81c24bf08341734ff41a3db12/scipy/stats/morestats.py#L139)"
   ]
  },
  {
   "cell_type": "code",
   "execution_count": null,
   "metadata": {},
   "outputs": [],
   "source": []
  }
 ],
 "metadata": {
  "colab": {
   "include_colab_link": true,
   "name": "n124-bayesian-inference..ipynb",
   "provenance": []
  },
  "kernelspec": {
   "display_name": "Python 3",
   "language": "python",
   "name": "python3"
  },
  "language_info": {
   "codemirror_mode": {
    "name": "ipython",
    "version": 3
   },
   "file_extension": ".py",
   "mimetype": "text/x-python",
   "name": "python",
   "nbconvert_exporter": "python",
   "pygments_lexer": "ipython3",
   "version": "3.8.5"
  }
 },
 "nbformat": 4,
 "nbformat_minor": 4
}
