{
  "nbformat": 4,
  "nbformat_minor": 0,
  "metadata": {
    "colab": {
      "name": "ds-cs-N423a.ipynb",
      "provenance": []
    },
    "kernelspec": {
      "display_name": "Python 3",
      "language": "python",
      "name": "python3"
    },
    "language_info": {
      "codemirror_mode": {
        "name": "ipython",
        "version": 3
      },
      "file_extension": ".py",
      "mimetype": "text/x-python",
      "name": "python",
      "nbconvert_exporter": "python",
      "pygments_lexer": "ipython3",
      "version": "3.7.3"
    },
    "accelerator": "GPU"
  },
  "cells": [
    {
      "cell_type": "markdown",
      "metadata": {
        "id": "pBQsZEJmubLs"
      },
      "source": [
        "<img src='https://user-images.githubusercontent.com/6457691/90080969-0f758d00-dd47-11ea-8191-fa12fd2054a7.png' width = '200' align = 'right'>\n",
        "\n",
        "## *DATA SCIENCE / SECTION 4 / SPRINT 2 / Assingment 3*\n",
        "\n",
        "---\n",
        "# Neural Network Framework (Keras)\n",
        "\n",
        "\n",
        "## 케라스 라이브러리를 사용하여 Multi-Layer Perceptron 모델을 CIFAR100 데이터에 적용해보세요.\n",
        "\n",
        "- 케라스에서 필요한 모델 및 레이어의 유형(출력층 재설정 필요)을 가져오십시오.\n",
        "- 적합한 활성함수 사용\n",
        "- 모델 컴파일\n",
        "- 피쳐 엔지니어링 후 어느 모델이 새로운 피쳐로 인해 정확도가 더 높아졌는가?"
      ]
    },
    {
      "cell_type": "code",
      "metadata": {
        "id": "SBPLbaggP52G",
        "colab": {
          "base_uri": "https://localhost:8080/"
        },
        "outputId": "9ec2010d-ad0e-4534-8be2-33c82955b154"
      },
      "source": [
        "##### Your Code Here #####\n",
        "from tensorflow.keras.datasets import cifar100\n",
        "\n",
        "# 데이터 불러오기\n",
        "(X_train, y_train), (X_test, y_test) = cifar100.load_data()"
      ],
      "execution_count": null,
      "outputs": [
        {
          "output_type": "stream",
          "text": [
            "Downloading data from https://www.cs.toronto.edu/~kriz/cifar-100-python.tar.gz\n",
            "169009152/169001437 [==============================] - 9s 0us/step\n"
          ],
          "name": "stdout"
        }
      ]
    },
    {
      "cell_type": "code",
      "metadata": {
        "id": "szi6-IpuzaH1"
      },
      "source": [
        "##### Your Code Here #####"
      ],
      "execution_count": null,
      "outputs": []
    },
    {
      "cell_type": "markdown",
      "metadata": {
        "id": "zv_3xNMjzdLI"
      },
      "source": [
        "## Stretch Goals:\n",
        "\n",
        "- 하이퍼 파라미터 튜닝을 사용하여 모델의 정확도를 최대한 높여보세요.\n",
        "- 교차 검증(CV) 기법을 사용하여 모델과 조금 더 일관된 결과를 얻어보세요.\n",
        "- 아직 이론을 배우진 않았지만, 케라스의 CNN 예제를 파일만 입력할 수 있다면 사용해볼 수 있는 코드를 작성해 드렸습니다. 파라미터에 대한 코드를 찾아서 변환하는 것이기 때문에 CNN이라고 해서 어려울 것은 없습니다. 아직 원리를 모르지만, 두개의 데이터 셋 중 하나를 선택(cifar100 또는 fashion-MNIST)해서 CNN 모델을 구축하고 파라미터 튜닝을 하면서 결과를 비교해 보십시오. 이론적인 도움이 필요하다고 생각되면, Warmup 영상을 확인하시면 도움을 받을 수 있을 것입니다. \n"
      ]
    },
    {
      "cell_type": "code",
      "metadata": {
        "id": "5RdyQ2P_lFlX"
      },
      "source": [
        "from tensorflow.keras.datasets import mnist\n",
        "from tensorflow.keras.models import Sequential\n",
        "from tensorflow.keras.layers import Dense, Dropout, Flatten\n",
        "from tensorflow.keras.layers import Conv2D, MaxPooling2D\n",
        "from tensorflow.keras.utils import to_categorical\n",
        "from tensorflow.keras.preprocessing.image import ImageDataGenerator\n",
        "\n",
        "\n",
        "batch_size = 128\n",
        "num_classes = 10\n",
        "epochs = 12"
      ],
      "execution_count": null,
      "outputs": []
    },
    {
      "cell_type": "code",
      "metadata": {
        "colab": {
          "base_uri": "https://localhost:8080/"
        },
        "id": "gE04b94vlKvR",
        "outputId": "c16bfcbe-acf8-48f0-e110-2ba0cdcaac1a"
      },
      "source": [
        "img_rows, img_cols = 28, 28\n",
        "\n",
        "(x_train, y_train), (x_test, y_test) = mnist.load_data()\n",
        "\n",
        "x_train = x_train.reshape(x_train.shape[0], img_rows, img_cols, 1)\n",
        "x_test = x_test.reshape(x_test.shape[0], img_rows, img_cols, 1)\n",
        "input_shape = (img_rows, img_cols, 1)\n",
        "\n",
        "\n",
        "x_train = x_train.astype('float32')\n",
        "x_test = x_test.astype('float32')\n",
        "x_train /= 255\n",
        "x_test /= 255\n",
        "\n",
        "\n",
        "y_train = to_categorical(y_train, num_classes)\n",
        "y_test = to_categorical(y_test, num_classes)\n",
        "\n",
        "model = Sequential()\n",
        "model.add(Conv2D(32, kernel_size=(3, 3),\n",
        "                 activation='relu',\n",
        "                 input_shape=input_shape))\n",
        "model.add(Conv2D(64, (3, 3), activation='relu'))\n",
        "model.add(MaxPooling2D(pool_size=(2, 2)))\n",
        "model.add(Dropout(0.25))\n",
        "model.add(Flatten())\n",
        "model.add(Dense(128, activation='relu'))\n",
        "model.add(Dropout(0.5))\n",
        "model.add(Dense(num_classes, activation='softmax'))\n",
        "\n",
        "model.compile(loss='categorical_crossentropy',\n",
        "              optimizer='adam',\n",
        "              metrics=['accuracy'])\n",
        "\n",
        "\n",
        "datagen = ImageDataGenerator(\n",
        "        rotation_range=40,\n",
        "        width_shift_range=0.2,\n",
        "        height_shift_range=0.2,\n",
        "        shear_range=0.2,\n",
        "        zoom_range=0.2,\n",
        "        fill_mode='nearest')\n"
      ],
      "execution_count": null,
      "outputs": [
        {
          "output_type": "stream",
          "text": [
            "Downloading data from https://storage.googleapis.com/tensorflow/tf-keras-datasets/mnist.npz\n",
            "11493376/11490434 [==============================] - 0s 0us/step\n"
          ],
          "name": "stdout"
        }
      ]
    },
    {
      "cell_type": "code",
      "metadata": {
        "colab": {
          "base_uri": "https://localhost:8080/"
        },
        "id": "SWm3MdRLlToQ",
        "outputId": "69bc2578-7c3f-47d8-b00b-845eb818ca83"
      },
      "source": [
        "model.fit_generator(datagen.flow(x_train, y_train, batch_size=batch_size),\n",
        "                    steps_per_epoch=x_train.shape[0] // batch_size,\n",
        "                    validation_data=(x_test, y_test),\n",
        "                    epochs=epochs, verbose=2)"
      ],
      "execution_count": null,
      "outputs": [
        {
          "output_type": "stream",
          "text": [
            "WARNING:tensorflow:From <ipython-input-3-900832658e9d>:4: Model.fit_generator (from tensorflow.python.keras.engine.training) is deprecated and will be removed in a future version.\n",
            "Instructions for updating:\n",
            "Please use Model.fit, which supports generators.\n",
            "Epoch 1/12\n",
            "468/468 - 15s - loss: 1.1359 - accuracy: 0.6176 - val_loss: 0.1900 - val_accuracy: 0.9483\n",
            "Epoch 2/12\n",
            "468/468 - 15s - loss: 0.6220 - accuracy: 0.7999 - val_loss: 0.1815 - val_accuracy: 0.9430\n",
            "Epoch 3/12\n",
            "468/468 - 15s - loss: 0.5039 - accuracy: 0.8399 - val_loss: 0.1264 - val_accuracy: 0.9610\n",
            "Epoch 4/12\n",
            "468/468 - 15s - loss: 0.4325 - accuracy: 0.8668 - val_loss: 0.1135 - val_accuracy: 0.9644\n",
            "Epoch 5/12\n",
            "468/468 - 15s - loss: 0.3910 - accuracy: 0.8799 - val_loss: 0.0894 - val_accuracy: 0.9732\n",
            "Epoch 6/12\n",
            "468/468 - 15s - loss: 0.3556 - accuracy: 0.8917 - val_loss: 0.0792 - val_accuracy: 0.9751\n",
            "Epoch 7/12\n",
            "468/468 - 15s - loss: 0.3337 - accuracy: 0.8982 - val_loss: 0.0872 - val_accuracy: 0.9722\n",
            "Epoch 8/12\n",
            "468/468 - 15s - loss: 0.3173 - accuracy: 0.9034 - val_loss: 0.1064 - val_accuracy: 0.9664\n",
            "Epoch 9/12\n",
            "468/468 - 15s - loss: 0.2979 - accuracy: 0.9108 - val_loss: 0.0699 - val_accuracy: 0.9769\n",
            "Epoch 10/12\n",
            "468/468 - 15s - loss: 0.2866 - accuracy: 0.9140 - val_loss: 0.0689 - val_accuracy: 0.9783\n",
            "Epoch 11/12\n",
            "468/468 - 15s - loss: 0.2720 - accuracy: 0.9181 - val_loss: 0.0636 - val_accuracy: 0.9797\n",
            "Epoch 12/12\n",
            "468/468 - 15s - loss: 0.2590 - accuracy: 0.9221 - val_loss: 0.0614 - val_accuracy: 0.9804\n"
          ],
          "name": "stdout"
        },
        {
          "output_type": "execute_result",
          "data": {
            "text/plain": [
              "<tensorflow.python.keras.callbacks.History at 0x7f399e6940b8>"
            ]
          },
          "metadata": {
            "tags": []
          },
          "execution_count": 3
        }
      ]
    },
    {
      "cell_type": "code",
      "metadata": {
        "colab": {
          "base_uri": "https://localhost:8080/"
        },
        "id": "iJ9g3JTVl9bI",
        "outputId": "180b9364-bdef-4205-fec7-08eb2e0c0866"
      },
      "source": [
        "score = model.evaluate(x_test, y_test, verbose=2)\n",
        "print('Test loss:', score[0])\n",
        "print('Test accuracy:', score[1])\n",
        "\n",
        "\n",
        "model.save('/content/drive/Colab notebooks/section4/sprint2/model.h5')"
      ],
      "execution_count": null,
      "outputs": [
        {
          "output_type": "stream",
          "text": [
            "313/313 - 5s - loss: 0.1695 - accuracy: 0.9573\n",
            "Test loss: 0.1694931834936142\n",
            "Test accuracy: 0.9573000073432922\n"
          ],
          "name": "stdout"
        }
      ]
    },
    {
      "cell_type": "code",
      "metadata": {
        "colab": {
          "base_uri": "https://localhost:8080/"
        },
        "id": "prY_fTP6nOjM",
        "outputId": "6a6b87a7-f764-48bb-b979-22dbbecb6811"
      },
      "source": [
        "from google.colab import drive\n",
        "drive.mount('/content/drive')"
      ],
      "execution_count": null,
      "outputs": [
        {
          "output_type": "stream",
          "text": [
            "Mounted at /content/drive\n"
          ],
          "name": "stdout"
        }
      ]
    },
    {
      "cell_type": "code",
      "metadata": {
        "colab": {
          "base_uri": "https://localhost:8080/"
        },
        "id": "ZdvPyfFynWWV",
        "outputId": "ee052f2b-e45b-4c2b-e208-b44bcec329ec"
      },
      "source": [
        "# 여러분의 이미지를 입력해야 합니다. \n",
        "# 구글 드라이브의 연동을 활용해보세요.\n",
        "!ls \"drive/MyDrive/.../test4.jpg\""
      ],
      "execution_count": null,
      "outputs": [
        {
          "output_type": "stream",
          "text": [
            "ds-cs-N421a.ipynb\t  ds-cs-N422-Lecture.ipynb  ds-cs-N424a.ipynb\n",
            "ds-cs-N421-Lecture.ipynb  ds-cs-N423a.ipynb\t    ds-cs-N424-Lecture.ipynb\n",
            "ds-cs-N422a.ipynb\t  ds-cs-N423-Lecture.ipynb  test4.jpg\n"
          ],
          "name": "stdout"
        }
      ]
    },
    {
      "cell_type": "code",
      "metadata": {
        "colab": {
          "base_uri": "https://localhost:8080/",
          "height": 1000
        },
        "id": "p_vuCtvkl558",
        "outputId": "e2f616e9-f9fb-4f4e-ab59-7a27430e4761"
      },
      "source": [
        "import cv2 as cv\n",
        "import numpy as np\n",
        "from tensorflow.keras.models import load_model\n",
        "from google.colab.patches import cv2_imshow\n",
        "\n",
        "# 여러분의 이미지의 위치를 입력해야 합니다. \n",
        "img_color = cv.imread(\"drive/MyDrive/.../test4.jpg\", cv.IMREAD_COLOR)\n",
        "img_gray = cv.cvtColor(img_color, cv.COLOR_BGR2GRAY)\n",
        "\n",
        "\n",
        "ret,img_binary = cv.threshold(img_gray, 0, 255, cv.THRESH_BINARY_INV | cv.THRESH_OTSU)\n",
        "\n",
        "kernel = cv.getStructuringElement( cv.MORPH_RECT, ( 5, 5 ) )\n",
        "img_binary = cv.morphologyEx(img_binary, cv. MORPH_CLOSE, kernel)\n",
        "\n",
        "cv2_imshow(img_binary)\n",
        "\n",
        "contours, hierarchy = cv.findContours(img_binary, cv.RETR_EXTERNAL, \n",
        "                        cv.CHAIN_APPROX_SIMPLE)\n",
        "\n",
        "for contour in contours[0:10]:\n",
        "\n",
        "    x, y, w, h = cv.boundingRect(contour)\n",
        "\n",
        "    length = max(w, h) + 60\n",
        "    img_digit = np.zeros((length, length, 1),np.uint8)\n",
        "\n",
        "    new_x,new_y = x-(length - w)//2, y-(length - h)//2\n",
        "\n",
        "\n",
        "    img_digit = img_binary[new_y:new_y+length, new_x:new_x+length]\n",
        "\n",
        "    kernel = np.ones((5, 5), np.uint8)\n",
        "    img_digit = cv.morphologyEx(img_digit, cv.MORPH_DILATE, kernel)\n",
        "\n",
        "    cv2_imshow(img_digit)\n",
        "    # cv.waitKey(0)\n",
        "\n",
        "    model = load_model('model.h5')\n",
        "\n",
        "    img_digit = cv.resize(img_digit, (28, 28), interpolation=cv.INTER_AREA)\n",
        "\n",
        "    img_digit = img_digit / 255.0\n",
        "\n",
        "    img_input = img_digit.reshape(1, 28, 28, 1)\n",
        "    predictions = model.predict(img_input)\n",
        "\n",
        "\n",
        "    number = np.argmax(predictions)\n",
        "    print(number)\n",
        "\n",
        "    cv.rectangle(img_color, (x, y), (x+w, y+h), (255, 255, 0), 2)\n",
        "\n",
        "\n",
        "    location = (x + int(w *0.5), y - 10)\n",
        "    font = cv.FONT_HERSHEY_COMPLEX  \n",
        "    fontScale = 1.2\n",
        "    cv.putText(img_color, str(number), location, font, fontScale, (0,255,0), 2)\n",
        "    \n",
        "\n",
        "    cv2_imshow(img_digit)\n",
        "    # cv.waitKey(0)\n",
        "    \n",
        "\n",
        "cv2_imshow(img_color)\n",
        "cv.waitKey(0)"
      ],
      "execution_count": null,
      "outputs": [
        {
          "output_type": "display_data",
          "data": {
            "image/png": "[encoded data removed]",
            "text/plain": [
              "<PIL.Image.Image image mode=L size=559x300 at 0x7FC794642550>"
            ]
          },
          "metadata": {
            "tags": []
          }
        },
        {
          "output_type": "display_data",
          "data": {
            "image/png": "[encoded data removed]",
            "text/plain": [
              "<PIL.Image.Image image mode=L size=79x79 at 0x7FC7946420B8>"
            ]
          },
          "metadata": {
            "tags": []
          }
        },
        {
          "output_type": "stream",
          "text": [
            "WARNING:tensorflow:11 out of the last 11 calls to <function Model.make_predict_function.<locals>.predict_function at 0x7fc7a16f26a8> triggered tf.function retracing. Tracing is expensive and the excessive number of tracings could be due to (1) creating @tf.function repeatedly in a loop, (2) passing tensors with different shapes, (3) passing Python objects instead of tensors. For (1), please define your @tf.function outside of the loop. For (2), @tf.function has experimental_relax_shapes=True option that relaxes argument shapes that can avoid unnecessary retracing. For (3), please refer to https://www.tensorflow.org/tutorials/customization/performance#python_or_tensor_args and https://www.tensorflow.org/api_docs/python/tf/function for  more details.\n",
            "7\n"
          ],
          "name": "stdout"
        },
        {
          "output_type": "display_data",
          "data": {
            "image/png": "[encoded data removed]",
            "text/plain": [
              "<PIL.Image.Image image mode=L size=28x28 at 0x7FC7893D2630>"
            ]
          },
          "metadata": {
            "tags": []
          }
        },
        {
          "output_type": "display_data",
          "data": {
            "image/png": "[encoded data removed]",
            "text/plain": [
              "<PIL.Image.Image image mode=L size=77x77 at 0x7FC7893D2630>"
            ]
          },
          "metadata": {
            "tags": []
          }
        },
        {
          "output_type": "stream",
          "text": [
            "WARNING:tensorflow:11 out of the last 11 calls to <function Model.make_predict_function.<locals>.predict_function at 0x7fc789448d90> triggered tf.function retracing. Tracing is expensive and the excessive number of tracings could be due to (1) creating @tf.function repeatedly in a loop, (2) passing tensors with different shapes, (3) passing Python objects instead of tensors. For (1), please define your @tf.function outside of the loop. For (2), @tf.function has experimental_relax_shapes=True option that relaxes argument shapes that can avoid unnecessary retracing. For (3), please refer to https://www.tensorflow.org/tutorials/customization/performance#python_or_tensor_args and https://www.tensorflow.org/api_docs/python/tf/function for  more details.\n",
            "2\n"
          ],
          "name": "stdout"
        },
        {
          "output_type": "display_data",
          "data": {
            "image/png": "[encoded data removed]",
            "text/plain": [
              "<PIL.Image.Image image mode=L size=28x28 at 0x7FC79471C1D0>"
            ]
          },
          "metadata": {
            "tags": []
          }
        },
        {
          "output_type": "display_data",
          "data": {
            "image/png": "[encoded data removed]",
            "text/plain": [
              "<PIL.Image.Image image mode=L size=121x121 at 0x7FC794847B70>"
            ]
          },
          "metadata": {
            "tags": []
          }
        },
        {
          "output_type": "stream",
          "text": [
            "WARNING:tensorflow:11 out of the last 11 calls to <function Model.make_predict_function.<locals>.predict_function at 0x7fc7a16f2ae8> triggered tf.function retracing. Tracing is expensive and the excessive number of tracings could be due to (1) creating @tf.function repeatedly in a loop, (2) passing tensors with different shapes, (3) passing Python objects instead of tensors. For (1), please define your @tf.function outside of the loop. For (2), @tf.function has experimental_relax_shapes=True option that relaxes argument shapes that can avoid unnecessary retracing. For (3), please refer to https://www.tensorflow.org/tutorials/customization/performance#python_or_tensor_args and https://www.tensorflow.org/api_docs/python/tf/function for  more details.\n",
            "2\n"
          ],
          "name": "stdout"
        },
        {
          "output_type": "display_data",
          "data": {
            "image/png": "[encoded data removed]",
            "text/plain": [
              "<PIL.Image.Image image mode=L size=28x28 at 0x7FC7893D2630>"
            ]
          },
          "metadata": {
            "tags": []
          }
        },
        {
          "output_type": "display_data",
          "data": {
            "image/png": "[encoded data removed]",
            "text/plain": [
              "<PIL.Image.Image image mode=L size=97x97 at 0x7FC7A171D208>"
            ]
          },
          "metadata": {
            "tags": []
          }
        },
        {
          "output_type": "stream",
          "text": [
            "WARNING:tensorflow:11 out of the last 11 calls to <function Model.make_predict_function.<locals>.predict_function at 0x7fc790b68730> triggered tf.function retracing. Tracing is expensive and the excessive number of tracings could be due to (1) creating @tf.function repeatedly in a loop, (2) passing tensors with different shapes, (3) passing Python objects instead of tensors. For (1), please define your @tf.function outside of the loop. For (2), @tf.function has experimental_relax_shapes=True option that relaxes argument shapes that can avoid unnecessary retracing. For (3), please refer to https://www.tensorflow.org/tutorials/customization/performance#python_or_tensor_args and https://www.tensorflow.org/api_docs/python/tf/function for  more details.\n",
            "3\n"
          ],
          "name": "stdout"
        },
        {
          "output_type": "display_data",
          "data": {
            "image/png": "[encoded data removed]",
            "text/plain": [
              "<PIL.Image.Image image mode=L size=28x28 at 0x7FC790B58CF8>"
            ]
          },
          "metadata": {
            "tags": []
          }
        },
        {
          "output_type": "display_data",
          "data": {
            "image/png": "[encoded data removed]",
            "text/plain": [
              "<PIL.Image.Image image mode=L size=134x134 at 0x7FC790B781D0>"
            ]
          },
          "metadata": {
            "tags": []
          }
        },
        {
          "output_type": "stream",
          "text": [
            "WARNING:tensorflow:11 out of the last 11 calls to <function Model.make_predict_function.<locals>.predict_function at 0x7fc7a1712b70> triggered tf.function retracing. Tracing is expensive and the excessive number of tracings could be due to (1) creating @tf.function repeatedly in a loop, (2) passing tensors with different shapes, (3) passing Python objects instead of tensors. For (1), please define your @tf.function outside of the loop. For (2), @tf.function has experimental_relax_shapes=True option that relaxes argument shapes that can avoid unnecessary retracing. For (3), please refer to https://www.tensorflow.org/tutorials/customization/performance#python_or_tensor_args and https://www.tensorflow.org/api_docs/python/tf/function for  more details.\n",
            "0\n"
          ],
          "name": "stdout"
        },
        {
          "output_type": "display_data",
          "data": {
            "image/png": "[encoded data removed]",
            "text/plain": [
              "<PIL.Image.Image image mode=L size=28x28 at 0x7FC79470B748>"
            ]
          },
          "metadata": {
            "tags": []
          }
        },
        {
          "output_type": "display_data",
          "data": {
            "image/png": "[encoded data removed]",
            "text/plain": [
              "<PIL.Image.Image image mode=RGB size=559x300 at 0x7FC7A16C9278>"
            ]
          },
          "metadata": {
            "tags": []
          }
        },
        {
          "output_type": "execute_result",
          "data": {
            "text/plain": [
              "-1"
            ]
          },
          "metadata": {
            "tags": []
          },
          "execution_count": 34
        }
      ]
    },
    {
      "cell_type": "code",
      "metadata": {
        "id": "mZXJqlbSpKyf"
      },
      "source": [
        ""
      ],
      "execution_count": null,
      "outputs": []
    }
  ]
}