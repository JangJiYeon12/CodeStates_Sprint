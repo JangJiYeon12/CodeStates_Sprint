{
  "nbformat": 4,
  "nbformat_minor": 0,
  "metadata": {
    "colab": {
      "name": "n122a-chi-square-test.ipynb",
      "provenance": [],
      "collapsed_sections": []
    },
    "kernelspec": {
      "display_name": "Python 3",
      "language": "python",
      "name": "python3"
    },
    "language_info": {
      "codemirror_mode": {
        "name": "ipython",
        "version": 3
      },
      "file_extension": ".py",
      "mimetype": "text/x-python",
      "name": "python",
      "nbconvert_exporter": "python",
      "pygments_lexer": "ipython3",
      "version": "3.8.5"
    }
  },
  "cells": [
    {
      "cell_type": "markdown",
      "metadata": {
        "id": "rQf3dSuc5PqO",
        "colab_type": "text"
      },
      "source": [
        "<img src='https://i.imgur.com/RDAD11M.png' width = '200' align = 'right'>\n",
        "\n",
        "## *DATA SCIENCE / SECTION 1 / SPRINT 2 / NOTE 2*\n",
        "\n",
        "# 📝 Assignment\n",
        "\n",
        "# $\\chi^2$ 연습"
      ]
    },
    {
      "cell_type": "markdown",
      "metadata": {
        "colab_type": "text",
        "id": "11OzdxWTM7UR"
      },
      "source": [
        "원하는 데이터셋을 사용하여, categorical variable 간의 관계를 확인하세요:\n",
        "\n",
        "- 상관관계가 있을 것 같은 쌍과 없을 것 같은 쌍 2가지에 대해서 해야합니다.\n",
        "\n",
        "### 1) 데이터셋을 데이터프레임의 형태로 불러오세요.\n"
      ]
    },
    {
      "cell_type": "code",
      "metadata": {
        "colab_type": "code",
        "id": "UQwvrhn7m3Mn",
        "colab": {}
      },
      "source": [
        "# 코드를 작성하세요"
      ],
      "execution_count": null,
      "outputs": []
    },
    {
      "cell_type": "markdown",
      "metadata": {
        "colab_type": "text",
        "id": "RXPZZuAi3ccI"
      },
      "source": [
        "### 2) `stats.chi2_contingency()` 를 사용하여 $\\chi^2$ test를 시행하세요:\n",
        " - 연관이 있는 변수 쌍에 대해서.\n",
        " - 연관이 없는 변수 쌍에 대해서.\n",
        " \n",
        "상관관계가 있을 것 같은 변수 간의 검정 결과가 잘 설명 되나요?"
      ]
    },
    {
      "cell_type": "code",
      "metadata": {
        "colab_type": "code",
        "id": "Ckcr4A4FM7cs",
        "colab": {}
      },
      "source": [
        "# 코드를 작성하세요"
      ],
      "execution_count": null,
      "outputs": []
    },
    {
      "cell_type": "markdown",
      "metadata": {
        "colab_type": "text",
        "id": "Tf7XPpBP6YqX"
      },
      "source": [
        "### 3) NumPy 를 사용하여 (Scipy를 사용하지 않고) $\\chi^2$ test 시행\n",
        "\n",
        "이 후 `chi2_contingency()`의 결과물과 비교해보세요"
      ]
    },
    {
      "cell_type": "code",
      "metadata": {
        "colab_type": "code",
        "id": "Et5DtusY6maX",
        "colab": {}
      },
      "source": [
        "# 코드를 작성하세요"
      ],
      "execution_count": null,
      "outputs": []
    },
    {
      "cell_type": "markdown",
      "metadata": {
        "colab_type": "text",
        "id": "a2BrKHq8m8AS"
      },
      "source": [
        "## 도전 과제:\n",
        "\n",
        "### 1. 작성된 코드들을 함수의 형태로 변경하여, 읽거나 재 사용 하기 쉽게 리팩토링 해보세요."
      ]
    },
    {
      "cell_type": "code",
      "metadata": {
        "colab_type": "code",
        "id": "AntnuAkFm-JQ",
        "colab": {}
      },
      "source": [
        "# 코드를 작성하세요"
      ],
      "execution_count": null,
      "outputs": []
    },
    {
      "cell_type": "markdown",
      "metadata": {
        "colab_type": "text",
        "id": "4ohsJhQUmEuS"
      },
      "source": [
        "\n",
        "\n",
        "### 2. 다음 주제들에 대해서, 공부 후 간단한 설명글을 작성해보세요:\n",
        "\n",
        "- 통계에서 표본 \"추정\"이란 무엇일까요?\n",
        "\n",
        "- 가설검정이란 무엇일까요? 그것이 어떻게 쓰이나요?\n",
        "\n",
        "- \"귀무가설\"이란 무엇인가요?\n",
        "\n",
        "- p-value와 그것이 의미하는 바는 무엇인가요?\n",
        "\n",
        "- \"통계적으로 유의하다\" 에 대해서 설명해보세요\n",
        "\n",
        "- 테스트 통계치 (test statistic) 가 무엇인지, 그리고 p-value와 어떻게 연관이 있나요?\n",
        "\n",
        "- 자유도 (\"degrees of freedom\")란 그리고 다음 경우에 대해서 어떻게 계산을 하나요? 1-sammple, 2-sample $\\chi^2$ test"
      ]
    }
  ]
}