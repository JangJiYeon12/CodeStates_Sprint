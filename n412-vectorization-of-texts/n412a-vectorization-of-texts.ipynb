{
  "nbformat": 4,
  "nbformat_minor": 0,
  "metadata": {
    "kernelspec": {
      "display_name": "P41_NLP",
      "language": "python",
      "name": "p41_nlp"
    },
    "language_info": {
      "codemirror_mode": {
        "name": "ipython",
        "version": 3
      },
      "file_extension": ".py",
      "mimetype": "text/x-python",
      "name": "python",
      "nbconvert_exporter": "python",
      "pygments_lexer": "ipython3",
      "version": "3.7.7"
    },
    "colab": {
      "name": "n412a-vectorization-of-texts.ipynb",
      "provenance": []
    }
  },
  "cells": [
    {
      "cell_type": "markdown",
      "metadata": {
        "id": "oenOO65h_ub7"
      },
      "source": [
        "<img align=\"right\" src=\"https://ds-cs-images.s3.ap-northeast-2.amazonaws.com/Codestates_Fulllogo_Color.png\" width=100>\n",
        "\n",
        "## *DATA SCIENCE / SECTION 4 / SPRINT 1 / NOTE 2*\n",
        "\n",
        "# 📝 Assignment\n",
        "\n",
        "---\n",
        "\n",
        "\n",
        "# Text Vectorization & Documents Classification"
      ]
    },
    {
      "cell_type": "markdown",
      "metadata": {
        "id": "4LumGxD9APXy"
      },
      "source": [
        "* 텍스트의 벡터화 실습 : Job descrition 스크래핑 데이터\n",
        "* 텍스트에서 특성을 추출하고 문서 분류기를 만들어 보세요.\n",
        "* LSA를 사용해 문서의 차원을 축소해 분류에 사용합니다.\n",
        "* Spacy 단어 임베딩을 사용합니다."
      ]
    },
    {
      "cell_type": "markdown",
      "metadata": {
        "id": "0pUVVtWtAfj3"
      },
      "source": [
        "## Text Vectorization"
      ]
    },
    {
      "cell_type": "markdown",
      "metadata": {
        "id": "NEFQkfk9_ucK"
      },
      "source": [
        "indeed.com 에서 Data Scientist 키워드로 Job descrition을 찾아 스크래핑한 데이터를 이용해 과제를 진행해 보겠습니다.\n",
        "\n",
        "[Data_Scienties.csv](https://ds-lecture-data.s3.ap-northeast-2.amazonaws.com/indeed/Data_Scientist.csv) 파일에는 1300여개의 Data Scientist job description 정보가 담겨 있습니다. 이 데이터를 이용해 다음 체크포인트를 진행해 보세요!"
      ]
    },
    {
      "cell_type": "code",
      "metadata": {
        "id": "hyj-f9FDcVFp"
      },
      "source": [
        "import re\n",
        "import string\n",
        "\n",
        "from sklearn.feature_extraction.text import CountVectorizer, TfidfVectorizer\n",
        "import matplotlib.pyplot as plt\n",
        "import pandas as pd\n",
        "import numpy as np\n",
        "import spacy"
      ],
      "execution_count": 1,
      "outputs": []
    },
    {
      "cell_type": "markdown",
      "metadata": {
        "id": "sfP7bVtF_ucL"
      },
      "source": [
        "### 1) Spacy를 사용해 description 칼럼 문서들을 토큰화 합니다."
      ]
    },
    {
      "cell_type": "code",
      "metadata": {
        "colab": {
          "resources": {
            "http://localhost:8080/nbextensions/google.colab/files.js": {
              "data": "Ly8gQ29weXJpZ2h0IDIwMTcgR29vZ2xlIExMQwovLwovLyBMaWNlbnNlZCB1bmRlciB0aGUgQXBhY2hlIExpY2Vuc2UsIFZlcnNpb24gMi4wICh0aGUgIkxpY2Vuc2UiKTsKLy8geW91IG1heSBub3QgdXNlIHRoaXMgZmlsZSBleGNlcHQgaW4gY29tcGxpYW5jZSB3aXRoIHRoZSBMaWNlbnNlLgovLyBZb3UgbWF5IG9idGFpbiBhIGNvcHkgb2YgdGhlIExpY2Vuc2UgYXQKLy8KLy8gICAgICBodHRwOi8vd3d3LmFwYWNoZS5vcmcvbGljZW5zZXMvTElDRU5TRS0yLjAKLy8KLy8gVW5sZXNzIHJlcXVpcmVkIGJ5IGFwcGxpY2FibGUgbGF3IG9yIGFncmVlZCB0byBpbiB3cml0aW5nLCBzb2Z0d2FyZQovLyBkaXN0cmlidXRlZCB1bmRlciB0aGUgTGljZW5zZSBpcyBkaXN0cmlidXRlZCBvbiBhbiAiQVMgSVMiIEJBU0lTLAovLyBXSVRIT1VUIFdBUlJBTlRJRVMgT1IgQ09ORElUSU9OUyBPRiBBTlkgS0lORCwgZWl0aGVyIGV4cHJlc3Mgb3IgaW1wbGllZC4KLy8gU2VlIHRoZSBMaWNlbnNlIGZvciB0aGUgc3BlY2lmaWMgbGFuZ3VhZ2UgZ292ZXJuaW5nIHBlcm1pc3Npb25zIGFuZAovLyBsaW1pdGF0aW9ucyB1bmRlciB0aGUgTGljZW5zZS4KCi8qKgogKiBAZmlsZW92ZXJ2aWV3IEhlbHBlcnMgZm9yIGdvb2dsZS5jb2xhYiBQeXRob24gbW9kdWxlLgogKi8KKGZ1bmN0aW9uKHNjb3BlKSB7CmZ1bmN0aW9uIHNwYW4odGV4dCwgc3R5bGVBdHRyaWJ1dGVzID0ge30pIHsKICBjb25zdCBlbGVtZW50ID0gZG9jdW1lbnQuY3JlYXRlRWxlbWVudCgnc3BhbicpOwogIGVsZW1lbnQudGV4dENvbnRlbnQgPSB0ZXh0OwogIGZvciAoY29uc3Qga2V5IG9mIE9iamVjdC5rZXlzKHN0eWxlQXR0cmlidXRlcykpIHsKICAgIGVsZW1lbnQuc3R5bGVba2V5XSA9IHN0eWxlQXR0cmlidXRlc1trZXldOwogIH0KICByZXR1cm4gZWxlbWVudDsKfQoKLy8gTWF4IG51bWJlciBvZiBieXRlcyB3aGljaCB3aWxsIGJlIHVwbG9hZGVkIGF0IGEgdGltZS4KY29uc3QgTUFYX1BBWUxPQURfU0laRSA9IDEwMCAqIDEwMjQ7CgpmdW5jdGlvbiBfdXBsb2FkRmlsZXMoaW5wdXRJZCwgb3V0cHV0SWQpIHsKICBjb25zdCBzdGVwcyA9IHVwbG9hZEZpbGVzU3RlcChpbnB1dElkLCBvdXRwdXRJZCk7CiAgY29uc3Qgb3V0cHV0RWxlbWVudCA9IGRvY3VtZW50LmdldEVsZW1lbnRCeUlkKG91dHB1dElkKTsKICAvLyBDYWNoZSBzdGVwcyBvbiB0aGUgb3V0cHV0RWxlbWVudCB0byBtYWtlIGl0IGF2YWlsYWJsZSBmb3IgdGhlIG5leHQgY2FsbAogIC8vIHRvIHVwbG9hZEZpbGVzQ29udGludWUgZnJvbSBQeXRob24uCiAgb3V0cHV0RWxlbWVudC5zdGVwcyA9IHN0ZXBzOwoKICByZXR1cm4gX3VwbG9hZEZpbGVzQ29udGludWUob3V0cHV0SWQpOwp9CgovLyBUaGlzIGlzIHJvdWdobHkgYW4gYXN5bmMgZ2VuZXJhdG9yIChub3Qgc3VwcG9ydGVkIGluIHRoZSBicm93c2VyIHlldCksCi8vIHdoZXJlIHRoZXJlIGFyZSBtdWx0aXBsZSBhc3luY2hyb25vdXMgc3RlcHMgYW5kIHRoZSBQeXRob24gc2lkZSBpcyBnb2luZwovLyB0byBwb2xsIGZvciBjb21wbGV0aW9uIG9mIGVhY2ggc3RlcC4KLy8gVGhpcyB1c2VzIGEgUHJvbWlzZSB0byBibG9jayB0aGUgcHl0aG9uIHNpZGUgb24gY29tcGxldGlvbiBvZiBlYWNoIHN0ZXAsCi8vIHRoZW4gcGFzc2VzIHRoZSByZXN1bHQgb2YgdGhlIHByZXZpb3VzIHN0ZXAgYXMgdGhlIGlucHV0IHRvIHRoZSBuZXh0IHN0ZXAuCmZ1bmN0aW9uIF91cGxvYWRGaWxlc0NvbnRpbnVlKG91dHB1dElkKSB7CiAgY29uc3Qgb3V0cHV0RWxlbWVudCA9IGRvY3VtZW50LmdldEVsZW1lbnRCeUlkKG91dHB1dElkKTsKICBjb25zdCBzdGVwcyA9IG91dHB1dEVsZW1lbnQuc3RlcHM7CgogIGNvbnN0IG5leHQgPSBzdGVwcy5uZXh0KG91dHB1dEVsZW1lbnQubGFzdFByb21pc2VWYWx1ZSk7CiAgcmV0dXJuIFByb21pc2UucmVzb2x2ZShuZXh0LnZhbHVlLnByb21pc2UpLnRoZW4oKHZhbHVlKSA9PiB7CiAgICAvLyBDYWNoZSB0aGUgbGFzdCBwcm9taXNlIHZhbHVlIHRvIG1ha2UgaXQgYXZhaWxhYmxlIHRvIHRoZSBuZXh0CiAgICAvLyBzdGVwIG9mIHRoZSBnZW5lcmF0b3IuCiAgICBvdXRwdXRFbGVtZW50Lmxhc3RQcm9taXNlVmFsdWUgPSB2YWx1ZTsKICAgIHJldHVybiBuZXh0LnZhbHVlLnJlc3BvbnNlOwogIH0pOwp9CgovKioKICogR2VuZXJhdG9yIGZ1bmN0aW9uIHdoaWNoIGlzIGNhbGxlZCBiZXR3ZWVuIGVhY2ggYXN5bmMgc3RlcCBvZiB0aGUgdXBsb2FkCiAqIHByb2Nlc3MuCiAqIEBwYXJhbSB7c3RyaW5nfSBpbnB1dElkIEVsZW1lbnQgSUQgb2YgdGhlIGlucHV0IGZpbGUgcGlja2VyIGVsZW1lbnQuCiAqIEBwYXJhbSB7c3RyaW5nfSBvdXRwdXRJZCBFbGVtZW50IElEIG9mIHRoZSBvdXRwdXQgZGlzcGxheS4KICogQHJldHVybiB7IUl0ZXJhYmxlPCFPYmplY3Q+fSBJdGVyYWJsZSBvZiBuZXh0IHN0ZXBzLgogKi8KZnVuY3Rpb24qIHVwbG9hZEZpbGVzU3RlcChpbnB1dElkLCBvdXRwdXRJZCkgewogIGNvbnN0IGlucHV0RWxlbWVudCA9IGRvY3VtZW50LmdldEVsZW1lbnRCeUlkKGlucHV0SWQpOwogIGlucHV0RWxlbWVudC5kaXNhYmxlZCA9IGZhbHNlOwoKICBjb25zdCBvdXRwdXRFbGVtZW50ID0gZG9jdW1lbnQuZ2V0RWxlbWVudEJ5SWQob3V0cHV0SWQpOwogIG91dHB1dEVsZW1lbnQuaW5uZXJIVE1MID0gJyc7CgogIGNvbnN0IHBpY2tlZFByb21pc2UgPSBuZXcgUHJvbWlzZSgocmVzb2x2ZSkgPT4gewogICAgaW5wdXRFbGVtZW50LmFkZEV2ZW50TGlzdGVuZXIoJ2NoYW5nZScsIChlKSA9PiB7CiAgICAgIHJlc29sdmUoZS50YXJnZXQuZmlsZXMpOwogICAgfSk7CiAgfSk7CgogIGNvbnN0IGNhbmNlbCA9IGRvY3VtZW50LmNyZWF0ZUVsZW1lbnQoJ2J1dHRvbicpOwogIGlucHV0RWxlbWVudC5wYXJlbnRFbGVtZW50LmFwcGVuZENoaWxkKGNhbmNlbCk7CiAgY2FuY2VsLnRleHRDb250ZW50ID0gJ0NhbmNlbCB1cGxvYWQnOwogIGNvbnN0IGNhbmNlbFByb21pc2UgPSBuZXcgUHJvbWlzZSgocmVzb2x2ZSkgPT4gewogICAgY2FuY2VsLm9uY2xpY2sgPSAoKSA9PiB7CiAgICAgIHJlc29sdmUobnVsbCk7CiAgICB9OwogIH0pOwoKICAvLyBXYWl0IGZvciB0aGUgdXNlciB0byBwaWNrIHRoZSBmaWxlcy4KICBjb25zdCBmaWxlcyA9IHlpZWxkIHsKICAgIHByb21pc2U6IFByb21pc2UucmFjZShbcGlja2VkUHJvbWlzZSwgY2FuY2VsUHJvbWlzZV0pLAogICAgcmVzcG9uc2U6IHsKICAgICAgYWN0aW9uOiAnc3RhcnRpbmcnLAogICAgfQogIH07CgogIGNhbmNlbC5yZW1vdmUoKTsKCiAgLy8gRGlzYWJsZSB0aGUgaW5wdXQgZWxlbWVudCBzaW5jZSBmdXJ0aGVyIHBpY2tzIGFyZSBub3QgYWxsb3dlZC4KICBpbnB1dEVsZW1lbnQuZGlzYWJsZWQgPSB0cnVlOwoKICBpZiAoIWZpbGVzKSB7CiAgICByZXR1cm4gewogICAgICByZXNwb25zZTogewogICAgICAgIGFjdGlvbjogJ2NvbXBsZXRlJywKICAgICAgfQogICAgfTsKICB9CgogIGZvciAoY29uc3QgZmlsZSBvZiBmaWxlcykgewogICAgY29uc3QgbGkgPSBkb2N1bWVudC5jcmVhdGVFbGVtZW50KCdsaScpOwogICAgbGkuYXBwZW5kKHNwYW4oZmlsZS5uYW1lLCB7Zm9udFdlaWdodDogJ2JvbGQnfSkpOwogICAgbGkuYXBwZW5kKHNwYW4oCiAgICAgICAgYCgke2ZpbGUudHlwZSB8fCAnbi9hJ30pIC0gJHtmaWxlLnNpemV9IGJ5dGVzLCBgICsKICAgICAgICBgbGFzdCBtb2RpZmllZDogJHsKICAgICAgICAgICAgZmlsZS5sYXN0TW9kaWZpZWREYXRlID8gZmlsZS5sYXN0TW9kaWZpZWREYXRlLnRvTG9jYWxlRGF0ZVN0cmluZygpIDoKICAgICAgICAgICAgICAgICAgICAgICAgICAgICAgICAgICAgJ24vYSd9IC0gYCkpOwogICAgY29uc3QgcGVyY2VudCA9IHNwYW4oJzAlIGRvbmUnKTsKICAgIGxpLmFwcGVuZENoaWxkKHBlcmNlbnQpOwoKICAgIG91dHB1dEVsZW1lbnQuYXBwZW5kQ2hpbGQobGkpOwoKICAgIGNvbnN0IGZpbGVEYXRhUHJvbWlzZSA9IG5ldyBQcm9taXNlKChyZXNvbHZlKSA9PiB7CiAgICAgIGNvbnN0IHJlYWRlciA9IG5ldyBGaWxlUmVhZGVyKCk7CiAgICAgIHJlYWRlci5vbmxvYWQgPSAoZSkgPT4gewogICAgICAgIHJlc29sdmUoZS50YXJnZXQucmVzdWx0KTsKICAgICAgfTsKICAgICAgcmVhZGVyLnJlYWRBc0FycmF5QnVmZmVyKGZpbGUpOwogICAgfSk7CiAgICAvLyBXYWl0IGZvciB0aGUgZGF0YSB0byBiZSByZWFkeS4KICAgIGxldCBmaWxlRGF0YSA9IHlpZWxkIHsKICAgICAgcHJvbWlzZTogZmlsZURhdGFQcm9taXNlLAogICAgICByZXNwb25zZTogewogICAgICAgIGFjdGlvbjogJ2NvbnRpbnVlJywKICAgICAgfQogICAgfTsKCiAgICAvLyBVc2UgYSBjaHVua2VkIHNlbmRpbmcgdG8gYXZvaWQgbWVzc2FnZSBzaXplIGxpbWl0cy4gU2VlIGIvNjIxMTU2NjAuCiAgICBsZXQgcG9zaXRpb24gPSAwOwogICAgd2hpbGUgKHBvc2l0aW9uIDwgZmlsZURhdGEuYnl0ZUxlbmd0aCkgewogICAgICBjb25zdCBsZW5ndGggPSBNYXRoLm1pbihmaWxlRGF0YS5ieXRlTGVuZ3RoIC0gcG9zaXRpb24sIE1BWF9QQVlMT0FEX1NJWkUpOwogICAgICBjb25zdCBjaHVuayA9IG5ldyBVaW50OEFycmF5KGZpbGVEYXRhLCBwb3NpdGlvbiwgbGVuZ3RoKTsKICAgICAgcG9zaXRpb24gKz0gbGVuZ3RoOwoKICAgICAgY29uc3QgYmFzZTY0ID0gYnRvYShTdHJpbmcuZnJvbUNoYXJDb2RlLmFwcGx5KG51bGwsIGNodW5rKSk7CiAgICAgIHlpZWxkIHsKICAgICAgICByZXNwb25zZTogewogICAgICAgICAgYWN0aW9uOiAnYXBwZW5kJywKICAgICAgICAgIGZpbGU6IGZpbGUubmFtZSwKICAgICAgICAgIGRhdGE6IGJhc2U2NCwKICAgICAgICB9LAogICAgICB9OwogICAgICBwZXJjZW50LnRleHRDb250ZW50ID0KICAgICAgICAgIGAke01hdGgucm91bmQoKHBvc2l0aW9uIC8gZmlsZURhdGEuYnl0ZUxlbmd0aCkgKiAxMDApfSUgZG9uZWA7CiAgICB9CiAgfQoKICAvLyBBbGwgZG9uZS4KICB5aWVsZCB7CiAgICByZXNwb25zZTogewogICAgICBhY3Rpb246ICdjb21wbGV0ZScsCiAgICB9CiAgfTsKfQoKc2NvcGUuZ29vZ2xlID0gc2NvcGUuZ29vZ2xlIHx8IHt9OwpzY29wZS5nb29nbGUuY29sYWIgPSBzY29wZS5nb29nbGUuY29sYWIgfHwge307CnNjb3BlLmdvb2dsZS5jb2xhYi5fZmlsZXMgPSB7CiAgX3VwbG9hZEZpbGVzLAogIF91cGxvYWRGaWxlc0NvbnRpbnVlLAp9Owp9KShzZWxmKTsK",
              "ok": true,
              "headers": [
                [
                  "content-type",
                  "application/javascript"
                ]
              ],
              "status": 200,
              "status_text": ""
            }
          },
          "base_uri": "https://localhost:8080/",
          "height": 73
        },
        "id": "wmuLFMVU_ucM",
        "outputId": "be00ac65-3ab0-4809-cbdc-57ea1e27f161"
      },
      "source": [
        "# for Colab User\n",
        "# Upload files\n",
        "from google.colab import files\n",
        "uploaded = files.upload()"
      ],
      "execution_count": 2,
      "outputs": [
        {
          "output_type": "display_data",
          "data": {
            "text/html": [
              "\n",
              "     <input type=\"file\" id=\"files-45774fc1-475f-48b8-9512-530c753bca87\" name=\"files[]\" multiple disabled\n",
              "        style=\"border:none\" />\n",
              "     <output id=\"result-45774fc1-475f-48b8-9512-530c753bca87\">\n",
              "      Upload widget is only available when the cell has been executed in the\n",
              "      current browser session. Please rerun this cell to enable.\n",
              "      </output>\n",
              "      <script src=\"/nbextensions/google.colab/files.js\"></script> "
            ],
            "text/plain": [
              "<IPython.core.display.HTML object>"
            ]
          },
          "metadata": {
            "tags": []
          }
        },
        {
          "output_type": "stream",
          "text": [
            "Saving Data_Scientist.csv to Data_Scientist.csv\n"
          ],
          "name": "stdout"
        }
      ]
    },
    {
      "cell_type": "code",
      "metadata": {
        "colab": {
          "base_uri": "https://localhost:8080/",
          "height": 279
        },
        "id": "DWr7Wb6NDXun",
        "outputId": "2b0d6f57-2a09-466c-d540-c5ce1e8137bb"
      },
      "source": [
        "df = pd.read_csv(\"Data_Scientist.csv\")\n",
        "df = df.drop(['Unnamed: 0'], axis=1)\n",
        "df.head()"
      ],
      "execution_count": 60,
      "outputs": [
        {
          "output_type": "execute_result",
          "data": {
            "text/html": [
              "<div>\n",
              "<style scoped>\n",
              "    .dataframe tbody tr th:only-of-type {\n",
              "        vertical-align: middle;\n",
              "    }\n",
              "\n",
              "    .dataframe tbody tr th {\n",
              "        vertical-align: top;\n",
              "    }\n",
              "\n",
              "    .dataframe thead th {\n",
              "        text-align: right;\n",
              "    }\n",
              "</style>\n",
              "<table border=\"1\" class=\"dataframe\">\n",
              "  <thead>\n",
              "    <tr style=\"text-align: right;\">\n",
              "      <th></th>\n",
              "      <th>title</th>\n",
              "      <th>company</th>\n",
              "      <th>description</th>\n",
              "      <th>url</th>\n",
              "    </tr>\n",
              "  </thead>\n",
              "  <tbody>\n",
              "    <tr>\n",
              "      <th>0</th>\n",
              "      <td>Data Scientist (Structured Products)</td>\n",
              "      <td>EquiTrust Life Insurance Company</td>\n",
              "      <td>Job Details\\nDescription\\nEssential Duties and...</td>\n",
              "      <td>https://www.indeed.com/viewjob?jk=4e172dc068a7...</td>\n",
              "    </tr>\n",
              "    <tr>\n",
              "      <th>1</th>\n",
              "      <td>Data Scientist (Structured Products)</td>\n",
              "      <td>EquiTrust Life Insurance Company</td>\n",
              "      <td>Job Details\\nDescription\\nEssential Duties and...</td>\n",
              "      <td>https://www.indeed.com/viewjob?jk=4e172dc068a7...</td>\n",
              "    </tr>\n",
              "    <tr>\n",
              "      <th>2</th>\n",
              "      <td>Specialist, Data Science</td>\n",
              "      <td>Nationwide</td>\n",
              "      <td>As a team member in the Finance and Internal A...</td>\n",
              "      <td>https://www.indeed.com/viewjob?jk=a06d07dec837...</td>\n",
              "    </tr>\n",
              "    <tr>\n",
              "      <th>3</th>\n",
              "      <td>Specialist, Data Science</td>\n",
              "      <td>Nationwide</td>\n",
              "      <td>As a team member in the Finance and Internal A...</td>\n",
              "      <td>https://www.indeed.com/viewjob?jk=a06d07dec837...</td>\n",
              "    </tr>\n",
              "    <tr>\n",
              "      <th>4</th>\n",
              "      <td>Sr. Data Scientist (Remote)</td>\n",
              "      <td>American Credit Acceptance</td>\n",
              "      <td>Overview:\\nAmerican Credit Acceptance seeks a ...</td>\n",
              "      <td>https://www.indeed.com/viewjob?jk=422a9c487215...</td>\n",
              "    </tr>\n",
              "  </tbody>\n",
              "</table>\n",
              "</div>"
            ],
            "text/plain": [
              "                                  title  ...                                                url\n",
              "0  Data Scientist (Structured Products)  ...  https://www.indeed.com/viewjob?jk=4e172dc068a7...\n",
              "1  Data Scientist (Structured Products)  ...  https://www.indeed.com/viewjob?jk=4e172dc068a7...\n",
              "2              Specialist, Data Science  ...  https://www.indeed.com/viewjob?jk=a06d07dec837...\n",
              "3              Specialist, Data Science  ...  https://www.indeed.com/viewjob?jk=a06d07dec837...\n",
              "4           Sr. Data Scientist (Remote)  ...  https://www.indeed.com/viewjob?jk=422a9c487215...\n",
              "\n",
              "[5 rows x 4 columns]"
            ]
          },
          "metadata": {
            "tags": []
          },
          "execution_count": 60
        }
      ]
    },
    {
      "cell_type": "code",
      "metadata": {
        "colab": {
          "base_uri": "https://localhost:8080/"
        },
        "id": "fAGKSxSkF6UW",
        "outputId": "ccadcea4-361c-4e66-e663-65f29790b42f"
      },
      "source": [
        "df.dtypes"
      ],
      "execution_count": 61,
      "outputs": [
        {
          "output_type": "execute_result",
          "data": {
            "text/plain": [
              "title          object\n",
              "company        object\n",
              "description    object\n",
              "url            object\n",
              "dtype: object"
            ]
          },
          "metadata": {
            "tags": []
          },
          "execution_count": 61
        }
      ]
    },
    {
      "cell_type": "code",
      "metadata": {
        "colab": {
          "base_uri": "https://localhost:8080/"
        },
        "id": "GNVpRWu4Fxyv",
        "outputId": "4b2ddd4c-9ef7-41c1-a3b6-1bdc5895a344"
      },
      "source": [
        "df.isnull().sum()"
      ],
      "execution_count": 62,
      "outputs": [
        {
          "output_type": "execute_result",
          "data": {
            "text/plain": [
              "title          0\n",
              "company        0\n",
              "description    0\n",
              "url            0\n",
              "dtype: int64"
            ]
          },
          "metadata": {
            "tags": []
          },
          "execution_count": 62
        }
      ]
    },
    {
      "cell_type": "code",
      "metadata": {
        "colab": {
          "base_uri": "https://localhost:8080/",
          "height": 296
        },
        "id": "euMnvEDrPbSB",
        "outputId": "f08599f1-4e76-480f-b322-0a130787898f"
      },
      "source": [
        "df = df.drop_duplicates(['description'], keep='last').reset_index(drop=True)\n",
        "print(data.shape)\n",
        "df.head()"
      ],
      "execution_count": 63,
      "outputs": [
        {
          "output_type": "stream",
          "text": [
            "(757, 5)\n"
          ],
          "name": "stdout"
        },
        {
          "output_type": "execute_result",
          "data": {
            "text/html": [
              "<div>\n",
              "<style scoped>\n",
              "    .dataframe tbody tr th:only-of-type {\n",
              "        vertical-align: middle;\n",
              "    }\n",
              "\n",
              "    .dataframe tbody tr th {\n",
              "        vertical-align: top;\n",
              "    }\n",
              "\n",
              "    .dataframe thead th {\n",
              "        text-align: right;\n",
              "    }\n",
              "</style>\n",
              "<table border=\"1\" class=\"dataframe\">\n",
              "  <thead>\n",
              "    <tr style=\"text-align: right;\">\n",
              "      <th></th>\n",
              "      <th>title</th>\n",
              "      <th>company</th>\n",
              "      <th>description</th>\n",
              "      <th>url</th>\n",
              "    </tr>\n",
              "  </thead>\n",
              "  <tbody>\n",
              "    <tr>\n",
              "      <th>0</th>\n",
              "      <td>Data Scientist (Structured Products)</td>\n",
              "      <td>EquiTrust Life Insurance Company</td>\n",
              "      <td>Job Details\\nDescription\\nEssential Duties and...</td>\n",
              "      <td>https://www.indeed.com/viewjob?jk=4e172dc068a7...</td>\n",
              "    </tr>\n",
              "    <tr>\n",
              "      <th>1</th>\n",
              "      <td>Specialist, Data Science</td>\n",
              "      <td>Nationwide</td>\n",
              "      <td>As a team member in the Finance and Internal A...</td>\n",
              "      <td>https://www.indeed.com/viewjob?jk=a06d07dec837...</td>\n",
              "    </tr>\n",
              "    <tr>\n",
              "      <th>2</th>\n",
              "      <td>Sr. Data Scientist (Remote)</td>\n",
              "      <td>American Credit Acceptance</td>\n",
              "      <td>Overview:\\nAmerican Credit Acceptance seeks a ...</td>\n",
              "      <td>https://www.indeed.com/viewjob?jk=422a9c487215...</td>\n",
              "    </tr>\n",
              "    <tr>\n",
              "      <th>3</th>\n",
              "      <td>Data Scientist Associate Sr (DADS06) BTB - LEG...</td>\n",
              "      <td>JPMorgan Chase Bank, N.A.</td>\n",
              "      <td>J.P. Morgan's Corporate &amp; Investment Bank (CIB...</td>\n",
              "      <td>https://www.indeed.com/viewjob?jk=4bff8a12d5ce...</td>\n",
              "    </tr>\n",
              "    <tr>\n",
              "      <th>4</th>\n",
              "      <td>Data Scientist</td>\n",
              "      <td>VyStar Credit Union</td>\n",
              "      <td>At VyStar, we offer competitive pay, an excell...</td>\n",
              "      <td>https://www.indeed.com/viewjob?jk=90f7a420e89b...</td>\n",
              "    </tr>\n",
              "  </tbody>\n",
              "</table>\n",
              "</div>"
            ],
            "text/plain": [
              "                                               title  ...                                                url\n",
              "0               Data Scientist (Structured Products)  ...  https://www.indeed.com/viewjob?jk=4e172dc068a7...\n",
              "1                           Specialist, Data Science  ...  https://www.indeed.com/viewjob?jk=a06d07dec837...\n",
              "2                        Sr. Data Scientist (Remote)  ...  https://www.indeed.com/viewjob?jk=422a9c487215...\n",
              "3  Data Scientist Associate Sr (DADS06) BTB - LEG...  ...  https://www.indeed.com/viewjob?jk=4bff8a12d5ce...\n",
              "4                                     Data Scientist  ...  https://www.indeed.com/viewjob?jk=90f7a420e89b...\n",
              "\n",
              "[5 rows x 4 columns]"
            ]
          },
          "metadata": {
            "tags": []
          },
          "execution_count": 63
        }
      ]
    },
    {
      "cell_type": "code",
      "metadata": {
        "id": "OowiGcKbEHqb"
      },
      "source": [
        "nlp = spacy.load(\"en_core_web_sm\")\n",
        "def tokenize(document):\n",
        "    document = document.lower().replace('\\n', ' ')\n",
        "    doc = nlp(document)\n",
        "    \n",
        "    return [token.lemma_.strip() for token in doc\n",
        "            if (token.is_stop != True) and (token.is_punct != True) and (token.is_alpha == True)]\n",
        "\n",
        "# spacy의 언어모델을 이용하여 token화된 단어들을 확인합니다. \n",
        "df['tokens'] = df['description'].apply(tokenize)"
      ],
      "execution_count": 29,
      "outputs": []
    },
    {
      "cell_type": "code",
      "metadata": {
        "colab": {
          "base_uri": "https://localhost:8080/"
        },
        "id": "LkIS5pijRp6t",
        "outputId": "9ec65744-9c2d-4b32-cda1-4fd0863639ec"
      },
      "source": [
        "df['tokens'][0][:10]"
      ],
      "execution_count": 32,
      "outputs": [
        {
          "output_type": "execute_result",
          "data": {
            "text/plain": [
              "['job',\n",
              " 'detail',\n",
              " 'description',\n",
              " 'essential',\n",
              " 'duty',\n",
              " 'responsibility',\n",
              " 'new',\n",
              " 'investment',\n",
              " 'assist',\n",
              " 'implement']"
            ]
          },
          "metadata": {
            "tags": []
          },
          "execution_count": 32
        }
      ]
    },
    {
      "cell_type": "markdown",
      "metadata": {
        "id": "JQ6f7nJK_ucM"
      },
      "source": [
        "### 2) CountVectorizer를 이용해 각 문서들을 벡터화 한 뒤 가장 많은 빈도로 나타나는 단어들을 시각화 합니다."
      ]
    },
    {
      "cell_type": "code",
      "metadata": {
        "colab": {
          "base_uri": "https://localhost:8080/",
          "height": 261
        },
        "id": "aD7xSffY_ucM",
        "outputId": "dad77eba-bf19-4f0e-e989-f9742d85945b"
      },
      "source": [
        "vect = CountVectorizer(stop_words='english',\n",
        "                       tokenizer = tokenize,\n",
        "                       max_features=20000)\n",
        "dtm_vect = vect.fit_transform(df['description'])\n",
        "dtm_vect = pd.DataFrame(dtm_vect.todense(),\n",
        "                        columns = vect.get_feature_names())\n",
        "print(dtm_vect.shape)\n",
        "dtm_vect.head()"
      ],
      "execution_count": 64,
      "outputs": [
        {
          "output_type": "stream",
          "text": [
            "(757, 9639)\n"
          ],
          "name": "stdout"
        },
        {
          "output_type": "execute_result",
          "data": {
            "text/html": [
              "<div>\n",
              "<style scoped>\n",
              "    .dataframe tbody tr th:only-of-type {\n",
              "        vertical-align: middle;\n",
              "    }\n",
              "\n",
              "    .dataframe tbody tr th {\n",
              "        vertical-align: top;\n",
              "    }\n",
              "\n",
              "    .dataframe thead th {\n",
              "        text-align: right;\n",
              "    }\n",
              "</style>\n",
              "<table border=\"1\" class=\"dataframe\">\n",
              "  <thead>\n",
              "    <tr style=\"text-align: right;\">\n",
              "      <th></th>\n",
              "      <th>aa</th>\n",
              "      <th>aaai</th>\n",
              "      <th>aag</th>\n",
              "      <th>aav</th>\n",
              "      <th>ab</th>\n",
              "      <th>abbott</th>\n",
              "      <th>abercrombie</th>\n",
              "      <th>abet</th>\n",
              "      <th>abide</th>\n",
              "      <th>abilitiesproven</th>\n",
              "      <th>ability</th>\n",
              "      <th>abilitywillingness</th>\n",
              "      <th>able</th>\n",
              "      <th>abnormal</th>\n",
              "      <th>aboard</th>\n",
              "      <th>abound</th>\n",
              "      <th>abrams</th>\n",
              "      <th>abreast</th>\n",
              "      <th>abroad</th>\n",
              "      <th>absence</th>\n",
              "      <th>absolutely</th>\n",
              "      <th>absorb</th>\n",
              "      <th>abstract</th>\n",
              "      <th>abstraction</th>\n",
              "      <th>abundance</th>\n",
              "      <th>abundant</th>\n",
              "      <th>abuse</th>\n",
              "      <th>abusebuild</th>\n",
              "      <th>abusive</th>\n",
              "      <th>aca</th>\n",
              "      <th>academia</th>\n",
              "      <th>academic</th>\n",
              "      <th>academically</th>\n",
              "      <th>accelerate</th>\n",
              "      <th>accelerated</th>\n",
              "      <th>acceleration</th>\n",
              "      <th>accelerator</th>\n",
              "      <th>accelerometry</th>\n",
              "      <th>accenture</th>\n",
              "      <th>accept</th>\n",
              "      <th>...</th>\n",
              "      <th>yello</th>\n",
              "      <th>yelp</th>\n",
              "      <th>yes</th>\n",
              "      <th>yguado</th>\n",
              "      <th>yield</th>\n",
              "      <th>yoga</th>\n",
              "      <th>yogurt</th>\n",
              "      <th>york</th>\n",
              "      <th>yorker</th>\n",
              "      <th>young</th>\n",
              "      <th>youth</th>\n",
              "      <th>youtube</th>\n",
              "      <th>youâll</th>\n",
              "      <th>yoy</th>\n",
              "      <th>yrc</th>\n",
              "      <th>yrs</th>\n",
              "      <th>yugabyte</th>\n",
              "      <th>z</th>\n",
              "      <th>zarr</th>\n",
              "      <th>zelis</th>\n",
              "      <th>zemeckis</th>\n",
              "      <th>zeppelin</th>\n",
              "      <th>zero</th>\n",
              "      <th>zillow</th>\n",
              "      <th>zker</th>\n",
              "      <th>zllius</th>\n",
              "      <th>zoho</th>\n",
              "      <th>zone</th>\n",
              "      <th>zoom</th>\n",
              "      <th>zoonotic</th>\n",
              "      <th>zoos</th>\n",
              "      <th>zr</th>\n",
              "      <th>zsh</th>\n",
              "      <th>zulily</th>\n",
              "      <th>zurich</th>\n",
              "      <th>zweig</th>\n",
              "      <th>µl</th>\n",
              "      <th>à</th>\n",
              "      <th>â</th>\n",
              "      <th>сompetitive</th>\n",
              "    </tr>\n",
              "  </thead>\n",
              "  <tbody>\n",
              "    <tr>\n",
              "      <th>0</th>\n",
              "      <td>0</td>\n",
              "      <td>0</td>\n",
              "      <td>0</td>\n",
              "      <td>0</td>\n",
              "      <td>0</td>\n",
              "      <td>0</td>\n",
              "      <td>0</td>\n",
              "      <td>0</td>\n",
              "      <td>0</td>\n",
              "      <td>0</td>\n",
              "      <td>3</td>\n",
              "      <td>0</td>\n",
              "      <td>0</td>\n",
              "      <td>0</td>\n",
              "      <td>0</td>\n",
              "      <td>0</td>\n",
              "      <td>0</td>\n",
              "      <td>0</td>\n",
              "      <td>0</td>\n",
              "      <td>0</td>\n",
              "      <td>0</td>\n",
              "      <td>0</td>\n",
              "      <td>0</td>\n",
              "      <td>0</td>\n",
              "      <td>0</td>\n",
              "      <td>0</td>\n",
              "      <td>0</td>\n",
              "      <td>0</td>\n",
              "      <td>0</td>\n",
              "      <td>0</td>\n",
              "      <td>0</td>\n",
              "      <td>0</td>\n",
              "      <td>0</td>\n",
              "      <td>0</td>\n",
              "      <td>0</td>\n",
              "      <td>0</td>\n",
              "      <td>0</td>\n",
              "      <td>0</td>\n",
              "      <td>0</td>\n",
              "      <td>0</td>\n",
              "      <td>...</td>\n",
              "      <td>0</td>\n",
              "      <td>0</td>\n",
              "      <td>0</td>\n",
              "      <td>0</td>\n",
              "      <td>0</td>\n",
              "      <td>0</td>\n",
              "      <td>0</td>\n",
              "      <td>0</td>\n",
              "      <td>0</td>\n",
              "      <td>0</td>\n",
              "      <td>0</td>\n",
              "      <td>0</td>\n",
              "      <td>0</td>\n",
              "      <td>0</td>\n",
              "      <td>0</td>\n",
              "      <td>0</td>\n",
              "      <td>0</td>\n",
              "      <td>0</td>\n",
              "      <td>0</td>\n",
              "      <td>0</td>\n",
              "      <td>0</td>\n",
              "      <td>0</td>\n",
              "      <td>0</td>\n",
              "      <td>0</td>\n",
              "      <td>0</td>\n",
              "      <td>0</td>\n",
              "      <td>0</td>\n",
              "      <td>0</td>\n",
              "      <td>0</td>\n",
              "      <td>0</td>\n",
              "      <td>0</td>\n",
              "      <td>0</td>\n",
              "      <td>0</td>\n",
              "      <td>0</td>\n",
              "      <td>0</td>\n",
              "      <td>0</td>\n",
              "      <td>0</td>\n",
              "      <td>0</td>\n",
              "      <td>0</td>\n",
              "      <td>0</td>\n",
              "    </tr>\n",
              "    <tr>\n",
              "      <th>1</th>\n",
              "      <td>0</td>\n",
              "      <td>0</td>\n",
              "      <td>0</td>\n",
              "      <td>0</td>\n",
              "      <td>0</td>\n",
              "      <td>0</td>\n",
              "      <td>0</td>\n",
              "      <td>0</td>\n",
              "      <td>0</td>\n",
              "      <td>0</td>\n",
              "      <td>7</td>\n",
              "      <td>0</td>\n",
              "      <td>2</td>\n",
              "      <td>0</td>\n",
              "      <td>0</td>\n",
              "      <td>0</td>\n",
              "      <td>0</td>\n",
              "      <td>0</td>\n",
              "      <td>0</td>\n",
              "      <td>0</td>\n",
              "      <td>0</td>\n",
              "      <td>0</td>\n",
              "      <td>0</td>\n",
              "      <td>0</td>\n",
              "      <td>0</td>\n",
              "      <td>0</td>\n",
              "      <td>0</td>\n",
              "      <td>0</td>\n",
              "      <td>0</td>\n",
              "      <td>0</td>\n",
              "      <td>0</td>\n",
              "      <td>0</td>\n",
              "      <td>0</td>\n",
              "      <td>0</td>\n",
              "      <td>0</td>\n",
              "      <td>0</td>\n",
              "      <td>0</td>\n",
              "      <td>0</td>\n",
              "      <td>0</td>\n",
              "      <td>0</td>\n",
              "      <td>...</td>\n",
              "      <td>0</td>\n",
              "      <td>0</td>\n",
              "      <td>0</td>\n",
              "      <td>0</td>\n",
              "      <td>0</td>\n",
              "      <td>0</td>\n",
              "      <td>0</td>\n",
              "      <td>0</td>\n",
              "      <td>0</td>\n",
              "      <td>0</td>\n",
              "      <td>0</td>\n",
              "      <td>0</td>\n",
              "      <td>0</td>\n",
              "      <td>0</td>\n",
              "      <td>0</td>\n",
              "      <td>0</td>\n",
              "      <td>0</td>\n",
              "      <td>0</td>\n",
              "      <td>0</td>\n",
              "      <td>0</td>\n",
              "      <td>0</td>\n",
              "      <td>0</td>\n",
              "      <td>0</td>\n",
              "      <td>0</td>\n",
              "      <td>0</td>\n",
              "      <td>0</td>\n",
              "      <td>0</td>\n",
              "      <td>0</td>\n",
              "      <td>0</td>\n",
              "      <td>0</td>\n",
              "      <td>0</td>\n",
              "      <td>0</td>\n",
              "      <td>0</td>\n",
              "      <td>0</td>\n",
              "      <td>0</td>\n",
              "      <td>0</td>\n",
              "      <td>0</td>\n",
              "      <td>0</td>\n",
              "      <td>0</td>\n",
              "      <td>0</td>\n",
              "    </tr>\n",
              "    <tr>\n",
              "      <th>2</th>\n",
              "      <td>0</td>\n",
              "      <td>0</td>\n",
              "      <td>0</td>\n",
              "      <td>0</td>\n",
              "      <td>0</td>\n",
              "      <td>0</td>\n",
              "      <td>0</td>\n",
              "      <td>0</td>\n",
              "      <td>0</td>\n",
              "      <td>0</td>\n",
              "      <td>3</td>\n",
              "      <td>0</td>\n",
              "      <td>0</td>\n",
              "      <td>0</td>\n",
              "      <td>0</td>\n",
              "      <td>0</td>\n",
              "      <td>0</td>\n",
              "      <td>0</td>\n",
              "      <td>0</td>\n",
              "      <td>0</td>\n",
              "      <td>0</td>\n",
              "      <td>0</td>\n",
              "      <td>0</td>\n",
              "      <td>0</td>\n",
              "      <td>0</td>\n",
              "      <td>0</td>\n",
              "      <td>0</td>\n",
              "      <td>0</td>\n",
              "      <td>0</td>\n",
              "      <td>4</td>\n",
              "      <td>0</td>\n",
              "      <td>1</td>\n",
              "      <td>0</td>\n",
              "      <td>0</td>\n",
              "      <td>0</td>\n",
              "      <td>0</td>\n",
              "      <td>0</td>\n",
              "      <td>0</td>\n",
              "      <td>0</td>\n",
              "      <td>0</td>\n",
              "      <td>...</td>\n",
              "      <td>0</td>\n",
              "      <td>0</td>\n",
              "      <td>0</td>\n",
              "      <td>0</td>\n",
              "      <td>0</td>\n",
              "      <td>0</td>\n",
              "      <td>0</td>\n",
              "      <td>0</td>\n",
              "      <td>0</td>\n",
              "      <td>0</td>\n",
              "      <td>0</td>\n",
              "      <td>0</td>\n",
              "      <td>0</td>\n",
              "      <td>0</td>\n",
              "      <td>0</td>\n",
              "      <td>0</td>\n",
              "      <td>0</td>\n",
              "      <td>0</td>\n",
              "      <td>0</td>\n",
              "      <td>0</td>\n",
              "      <td>0</td>\n",
              "      <td>0</td>\n",
              "      <td>0</td>\n",
              "      <td>0</td>\n",
              "      <td>0</td>\n",
              "      <td>0</td>\n",
              "      <td>0</td>\n",
              "      <td>0</td>\n",
              "      <td>0</td>\n",
              "      <td>0</td>\n",
              "      <td>0</td>\n",
              "      <td>0</td>\n",
              "      <td>0</td>\n",
              "      <td>0</td>\n",
              "      <td>0</td>\n",
              "      <td>0</td>\n",
              "      <td>0</td>\n",
              "      <td>0</td>\n",
              "      <td>0</td>\n",
              "      <td>0</td>\n",
              "    </tr>\n",
              "    <tr>\n",
              "      <th>3</th>\n",
              "      <td>0</td>\n",
              "      <td>0</td>\n",
              "      <td>0</td>\n",
              "      <td>0</td>\n",
              "      <td>0</td>\n",
              "      <td>0</td>\n",
              "      <td>0</td>\n",
              "      <td>0</td>\n",
              "      <td>0</td>\n",
              "      <td>0</td>\n",
              "      <td>3</td>\n",
              "      <td>0</td>\n",
              "      <td>0</td>\n",
              "      <td>0</td>\n",
              "      <td>0</td>\n",
              "      <td>0</td>\n",
              "      <td>0</td>\n",
              "      <td>0</td>\n",
              "      <td>0</td>\n",
              "      <td>0</td>\n",
              "      <td>0</td>\n",
              "      <td>0</td>\n",
              "      <td>0</td>\n",
              "      <td>0</td>\n",
              "      <td>0</td>\n",
              "      <td>0</td>\n",
              "      <td>0</td>\n",
              "      <td>0</td>\n",
              "      <td>0</td>\n",
              "      <td>0</td>\n",
              "      <td>0</td>\n",
              "      <td>0</td>\n",
              "      <td>0</td>\n",
              "      <td>0</td>\n",
              "      <td>0</td>\n",
              "      <td>0</td>\n",
              "      <td>0</td>\n",
              "      <td>0</td>\n",
              "      <td>0</td>\n",
              "      <td>0</td>\n",
              "      <td>...</td>\n",
              "      <td>0</td>\n",
              "      <td>0</td>\n",
              "      <td>0</td>\n",
              "      <td>0</td>\n",
              "      <td>0</td>\n",
              "      <td>0</td>\n",
              "      <td>0</td>\n",
              "      <td>0</td>\n",
              "      <td>0</td>\n",
              "      <td>0</td>\n",
              "      <td>0</td>\n",
              "      <td>0</td>\n",
              "      <td>0</td>\n",
              "      <td>0</td>\n",
              "      <td>0</td>\n",
              "      <td>0</td>\n",
              "      <td>0</td>\n",
              "      <td>0</td>\n",
              "      <td>0</td>\n",
              "      <td>0</td>\n",
              "      <td>0</td>\n",
              "      <td>0</td>\n",
              "      <td>0</td>\n",
              "      <td>0</td>\n",
              "      <td>0</td>\n",
              "      <td>0</td>\n",
              "      <td>0</td>\n",
              "      <td>0</td>\n",
              "      <td>0</td>\n",
              "      <td>0</td>\n",
              "      <td>0</td>\n",
              "      <td>0</td>\n",
              "      <td>0</td>\n",
              "      <td>0</td>\n",
              "      <td>0</td>\n",
              "      <td>0</td>\n",
              "      <td>0</td>\n",
              "      <td>0</td>\n",
              "      <td>0</td>\n",
              "      <td>0</td>\n",
              "    </tr>\n",
              "    <tr>\n",
              "      <th>4</th>\n",
              "      <td>0</td>\n",
              "      <td>0</td>\n",
              "      <td>0</td>\n",
              "      <td>0</td>\n",
              "      <td>0</td>\n",
              "      <td>0</td>\n",
              "      <td>0</td>\n",
              "      <td>0</td>\n",
              "      <td>0</td>\n",
              "      <td>0</td>\n",
              "      <td>2</td>\n",
              "      <td>0</td>\n",
              "      <td>0</td>\n",
              "      <td>0</td>\n",
              "      <td>0</td>\n",
              "      <td>0</td>\n",
              "      <td>0</td>\n",
              "      <td>0</td>\n",
              "      <td>0</td>\n",
              "      <td>0</td>\n",
              "      <td>0</td>\n",
              "      <td>0</td>\n",
              "      <td>0</td>\n",
              "      <td>0</td>\n",
              "      <td>0</td>\n",
              "      <td>0</td>\n",
              "      <td>0</td>\n",
              "      <td>0</td>\n",
              "      <td>0</td>\n",
              "      <td>0</td>\n",
              "      <td>0</td>\n",
              "      <td>0</td>\n",
              "      <td>0</td>\n",
              "      <td>0</td>\n",
              "      <td>0</td>\n",
              "      <td>0</td>\n",
              "      <td>0</td>\n",
              "      <td>0</td>\n",
              "      <td>0</td>\n",
              "      <td>0</td>\n",
              "      <td>...</td>\n",
              "      <td>0</td>\n",
              "      <td>0</td>\n",
              "      <td>0</td>\n",
              "      <td>0</td>\n",
              "      <td>0</td>\n",
              "      <td>0</td>\n",
              "      <td>0</td>\n",
              "      <td>0</td>\n",
              "      <td>0</td>\n",
              "      <td>0</td>\n",
              "      <td>0</td>\n",
              "      <td>0</td>\n",
              "      <td>0</td>\n",
              "      <td>0</td>\n",
              "      <td>0</td>\n",
              "      <td>0</td>\n",
              "      <td>0</td>\n",
              "      <td>0</td>\n",
              "      <td>0</td>\n",
              "      <td>0</td>\n",
              "      <td>0</td>\n",
              "      <td>0</td>\n",
              "      <td>0</td>\n",
              "      <td>0</td>\n",
              "      <td>0</td>\n",
              "      <td>0</td>\n",
              "      <td>0</td>\n",
              "      <td>0</td>\n",
              "      <td>0</td>\n",
              "      <td>0</td>\n",
              "      <td>0</td>\n",
              "      <td>0</td>\n",
              "      <td>0</td>\n",
              "      <td>0</td>\n",
              "      <td>0</td>\n",
              "      <td>0</td>\n",
              "      <td>0</td>\n",
              "      <td>0</td>\n",
              "      <td>0</td>\n",
              "      <td>0</td>\n",
              "    </tr>\n",
              "  </tbody>\n",
              "</table>\n",
              "<p>5 rows × 9639 columns</p>\n",
              "</div>"
            ],
            "text/plain": [
              "   aa  aaai  aag  aav  ab  abbott  ...  zurich  zweig  µl  à  â  сompetitive\n",
              "0   0     0    0    0   0       0  ...       0      0   0  0  0            0\n",
              "1   0     0    0    0   0       0  ...       0      0   0  0  0            0\n",
              "2   0     0    0    0   0       0  ...       0      0   0  0  0            0\n",
              "3   0     0    0    0   0       0  ...       0      0   0  0  0            0\n",
              "4   0     0    0    0   0       0  ...       0      0   0  0  0            0\n",
              "\n",
              "[5 rows x 9639 columns]"
            ]
          },
          "metadata": {
            "tags": []
          },
          "execution_count": 64
        }
      ]
    },
    {
      "cell_type": "code",
      "metadata": {
        "colab": {
          "base_uri": "https://localhost:8080/",
          "height": 530
        },
        "id": "903N6Wzb_ucN",
        "outputId": "00ae6c6b-6b05-4040-a3e6-819dc03e71a3"
      },
      "source": [
        "rs_vect = dtm_vect.sum().sort_values(ascending=False)\n",
        "\n",
        "# 많이 등장하는 단어 상위 20개 시각화\n",
        "plt.figure(figsize=(20, 8))\n",
        "plt.bar(x=rs_vect[:10].index, height=rs_vect[:10].values)\n",
        "plt.xlabel('Word', size=15)\n",
        "plt.ylabel('Number of words', size=15)\n",
        "plt.title('Top10 words', size=10)\n",
        "plt.xticks(size=15, rotation=70)\n",
        "plt.show();"
      ],
      "execution_count": 65,
      "outputs": [
        {
          "output_type": "display_data",
          "data": {
            "image/png": "[encoded data removed]",
            "text/plain": [
              "<Figure size 1440x576 with 1 Axes>"
            ]
          },
          "metadata": {
            "tags": [],
            "needs_background": "light"
          }
        }
      ]
    },
    {
      "cell_type": "code",
      "metadata": {
        "colab": {
          "base_uri": "https://localhost:8080/"
        },
        "id": "jyjG0qqOWUkS",
        "outputId": "0fd5fcf0-add7-4ef4-9913-f99462850482"
      },
      "source": [
        "print(rs_vect[:5].index)\n",
        "print(rs_vect[:5].values)"
      ],
      "execution_count": 66,
      "outputs": [
        {
          "output_type": "stream",
          "text": [
            "Index(['datum', 'experience', 'work', 'team', 'data'], dtype='object')\n",
            "[5505 3666 2913 2336 2236]\n"
          ],
          "name": "stdout"
        }
      ]
    },
    {
      "cell_type": "markdown",
      "metadata": {
        "id": "El7PhMyb_ucN"
      },
      "source": [
        "### 3) tfidfVectorizer를 이용해 각 문서들을 벡터화 합니다."
      ]
    },
    {
      "cell_type": "code",
      "metadata": {
        "colab": {
          "base_uri": "https://localhost:8080/",
          "height": 278
        },
        "id": "pXqTp-L8_ucN",
        "outputId": "a2909ebc-610c-4c9e-fbd8-d5e3b7ee46b2"
      },
      "source": [
        "tfidf = TfidfVectorizer(stop_words='english',\n",
        "                        tokenizer=tokenize,\n",
        "                        ngram_range = (1,2),\n",
        "                        max_df = 0.7,\n",
        "                        min_df = 2)\n",
        "dtm_tfidf = tfidf.fit_transform(df['description'])\n",
        "dtm_tfidf = pd.DataFrame(dtm_tfidf.todense(),\n",
        "                         columns=tfidf.get_feature_names())\n",
        "print(dtm_tfidf.shape)\n",
        "dtm_tfidf.head()"
      ],
      "execution_count": 67,
      "outputs": [
        {
          "output_type": "stream",
          "text": [
            "(757, 36289)\n"
          ],
          "name": "stdout"
        },
        {
          "output_type": "execute_result",
          "data": {
            "text/html": [
              "<div>\n",
              "<style scoped>\n",
              "    .dataframe tbody tr th:only-of-type {\n",
              "        vertical-align: middle;\n",
              "    }\n",
              "\n",
              "    .dataframe tbody tr th {\n",
              "        vertical-align: top;\n",
              "    }\n",
              "\n",
              "    .dataframe thead th {\n",
              "        text-align: right;\n",
              "    }\n",
              "</style>\n",
              "<table border=\"1\" class=\"dataframe\">\n",
              "  <thead>\n",
              "    <tr style=\"text-align: right;\">\n",
              "      <th></th>\n",
              "      <th>aa</th>\n",
              "      <th>aa employer</th>\n",
              "      <th>aa m</th>\n",
              "      <th>aa policy</th>\n",
              "      <th>aav</th>\n",
              "      <th>aav capsid</th>\n",
              "      <th>aav gene</th>\n",
              "      <th>ab</th>\n",
              "      <th>ab test</th>\n",
              "      <th>ab testing</th>\n",
              "      <th>abide</th>\n",
              "      <th>abide requirement</th>\n",
              "      <th>ability</th>\n",
              "      <th>ability ability</th>\n",
              "      <th>ability accurately</th>\n",
              "      <th>ability achieve</th>\n",
              "      <th>ability adapt</th>\n",
              "      <th>ability adjust</th>\n",
              "      <th>ability analyze</th>\n",
              "      <th>ability apply</th>\n",
              "      <th>ability articulate</th>\n",
              "      <th>ability autonomously</th>\n",
              "      <th>ability balance</th>\n",
              "      <th>ability break</th>\n",
              "      <th>ability breakdown</th>\n",
              "      <th>ability build</th>\n",
              "      <th>ability business</th>\n",
              "      <th>ability characteristic</th>\n",
              "      <th>ability clearly</th>\n",
              "      <th>ability collaborate</th>\n",
              "      <th>ability collect</th>\n",
              "      <th>ability communicate</th>\n",
              "      <th>ability competency</th>\n",
              "      <th>ability complete</th>\n",
              "      <th>ability complex</th>\n",
              "      <th>ability comprehend</th>\n",
              "      <th>ability conduct</th>\n",
              "      <th>ability construct</th>\n",
              "      <th>ability contribute</th>\n",
              "      <th>ability convey</th>\n",
              "      <th>...</th>\n",
              "      <th>year teradata</th>\n",
              "      <th>year time</th>\n",
              "      <th>year total</th>\n",
              "      <th>year utilize</th>\n",
              "      <th>year volunteer</th>\n",
              "      <th>year work</th>\n",
              "      <th>year year</th>\n",
              "      <th>yearly</th>\n",
              "      <th>years</th>\n",
              "      <th>yes</th>\n",
              "      <th>yes fun</th>\n",
              "      <th>yes require</th>\n",
              "      <th>yes time</th>\n",
              "      <th>yield</th>\n",
              "      <th>yoga</th>\n",
              "      <th>yoga wellness</th>\n",
              "      <th>york</th>\n",
              "      <th>york city</th>\n",
              "      <th>york london</th>\n",
              "      <th>york new</th>\n",
              "      <th>york ny</th>\n",
              "      <th>york remote</th>\n",
              "      <th>york state</th>\n",
              "      <th>york times</th>\n",
              "      <th>york university</th>\n",
              "      <th>yorker</th>\n",
              "      <th>youth</th>\n",
              "      <th>youtube</th>\n",
              "      <th>youâll</th>\n",
              "      <th>yrs</th>\n",
              "      <th>zeppelin</th>\n",
              "      <th>zero</th>\n",
              "      <th>zero waste</th>\n",
              "      <th>zillow</th>\n",
              "      <th>zillow group</th>\n",
              "      <th>zone</th>\n",
              "      <th>zoom</th>\n",
              "      <th>â</th>\n",
              "      <th>сompetitive</th>\n",
              "      <th>сompetitive salary</th>\n",
              "    </tr>\n",
              "  </thead>\n",
              "  <tbody>\n",
              "    <tr>\n",
              "      <th>0</th>\n",
              "      <td>0.0</td>\n",
              "      <td>0.0</td>\n",
              "      <td>0.0</td>\n",
              "      <td>0.0</td>\n",
              "      <td>0.0</td>\n",
              "      <td>0.0</td>\n",
              "      <td>0.0</td>\n",
              "      <td>0.0</td>\n",
              "      <td>0.0</td>\n",
              "      <td>0.0</td>\n",
              "      <td>0.0</td>\n",
              "      <td>0.0</td>\n",
              "      <td>0.047565</td>\n",
              "      <td>0.0</td>\n",
              "      <td>0.0</td>\n",
              "      <td>0.0</td>\n",
              "      <td>0.060153</td>\n",
              "      <td>0.0</td>\n",
              "      <td>0.0</td>\n",
              "      <td>0.0</td>\n",
              "      <td>0.0</td>\n",
              "      <td>0.0</td>\n",
              "      <td>0.0</td>\n",
              "      <td>0.0</td>\n",
              "      <td>0.0</td>\n",
              "      <td>0.0</td>\n",
              "      <td>0.0</td>\n",
              "      <td>0.0</td>\n",
              "      <td>0.0</td>\n",
              "      <td>0.0</td>\n",
              "      <td>0.0</td>\n",
              "      <td>0.000000</td>\n",
              "      <td>0.0</td>\n",
              "      <td>0.0</td>\n",
              "      <td>0.0</td>\n",
              "      <td>0.0</td>\n",
              "      <td>0.0</td>\n",
              "      <td>0.0</td>\n",
              "      <td>0.0</td>\n",
              "      <td>0.0000</td>\n",
              "      <td>...</td>\n",
              "      <td>0.0</td>\n",
              "      <td>0.0</td>\n",
              "      <td>0.0</td>\n",
              "      <td>0.0</td>\n",
              "      <td>0.0</td>\n",
              "      <td>0.0</td>\n",
              "      <td>0.0</td>\n",
              "      <td>0.0</td>\n",
              "      <td>0.0</td>\n",
              "      <td>0.0</td>\n",
              "      <td>0.0</td>\n",
              "      <td>0.0</td>\n",
              "      <td>0.0</td>\n",
              "      <td>0.0</td>\n",
              "      <td>0.0</td>\n",
              "      <td>0.0</td>\n",
              "      <td>0.0</td>\n",
              "      <td>0.0</td>\n",
              "      <td>0.0</td>\n",
              "      <td>0.0</td>\n",
              "      <td>0.0</td>\n",
              "      <td>0.0</td>\n",
              "      <td>0.0</td>\n",
              "      <td>0.0</td>\n",
              "      <td>0.0</td>\n",
              "      <td>0.0</td>\n",
              "      <td>0.0</td>\n",
              "      <td>0.0</td>\n",
              "      <td>0.0</td>\n",
              "      <td>0.0</td>\n",
              "      <td>0.0</td>\n",
              "      <td>0.0</td>\n",
              "      <td>0.0</td>\n",
              "      <td>0.0</td>\n",
              "      <td>0.0</td>\n",
              "      <td>0.0</td>\n",
              "      <td>0.0</td>\n",
              "      <td>0.0</td>\n",
              "      <td>0.0</td>\n",
              "      <td>0.0</td>\n",
              "    </tr>\n",
              "    <tr>\n",
              "      <th>1</th>\n",
              "      <td>0.0</td>\n",
              "      <td>0.0</td>\n",
              "      <td>0.0</td>\n",
              "      <td>0.0</td>\n",
              "      <td>0.0</td>\n",
              "      <td>0.0</td>\n",
              "      <td>0.0</td>\n",
              "      <td>0.0</td>\n",
              "      <td>0.0</td>\n",
              "      <td>0.0</td>\n",
              "      <td>0.0</td>\n",
              "      <td>0.0</td>\n",
              "      <td>0.048360</td>\n",
              "      <td>0.0</td>\n",
              "      <td>0.0</td>\n",
              "      <td>0.0</td>\n",
              "      <td>0.000000</td>\n",
              "      <td>0.0</td>\n",
              "      <td>0.0</td>\n",
              "      <td>0.0</td>\n",
              "      <td>0.0</td>\n",
              "      <td>0.0</td>\n",
              "      <td>0.0</td>\n",
              "      <td>0.0</td>\n",
              "      <td>0.0</td>\n",
              "      <td>0.0</td>\n",
              "      <td>0.0</td>\n",
              "      <td>0.0</td>\n",
              "      <td>0.0</td>\n",
              "      <td>0.0</td>\n",
              "      <td>0.0</td>\n",
              "      <td>0.047908</td>\n",
              "      <td>0.0</td>\n",
              "      <td>0.0</td>\n",
              "      <td>0.0</td>\n",
              "      <td>0.0</td>\n",
              "      <td>0.0</td>\n",
              "      <td>0.0</td>\n",
              "      <td>0.0</td>\n",
              "      <td>0.0000</td>\n",
              "      <td>...</td>\n",
              "      <td>0.0</td>\n",
              "      <td>0.0</td>\n",
              "      <td>0.0</td>\n",
              "      <td>0.0</td>\n",
              "      <td>0.0</td>\n",
              "      <td>0.0</td>\n",
              "      <td>0.0</td>\n",
              "      <td>0.0</td>\n",
              "      <td>0.0</td>\n",
              "      <td>0.0</td>\n",
              "      <td>0.0</td>\n",
              "      <td>0.0</td>\n",
              "      <td>0.0</td>\n",
              "      <td>0.0</td>\n",
              "      <td>0.0</td>\n",
              "      <td>0.0</td>\n",
              "      <td>0.0</td>\n",
              "      <td>0.0</td>\n",
              "      <td>0.0</td>\n",
              "      <td>0.0</td>\n",
              "      <td>0.0</td>\n",
              "      <td>0.0</td>\n",
              "      <td>0.0</td>\n",
              "      <td>0.0</td>\n",
              "      <td>0.0</td>\n",
              "      <td>0.0</td>\n",
              "      <td>0.0</td>\n",
              "      <td>0.0</td>\n",
              "      <td>0.0</td>\n",
              "      <td>0.0</td>\n",
              "      <td>0.0</td>\n",
              "      <td>0.0</td>\n",
              "      <td>0.0</td>\n",
              "      <td>0.0</td>\n",
              "      <td>0.0</td>\n",
              "      <td>0.0</td>\n",
              "      <td>0.0</td>\n",
              "      <td>0.0</td>\n",
              "      <td>0.0</td>\n",
              "      <td>0.0</td>\n",
              "    </tr>\n",
              "    <tr>\n",
              "      <th>2</th>\n",
              "      <td>0.0</td>\n",
              "      <td>0.0</td>\n",
              "      <td>0.0</td>\n",
              "      <td>0.0</td>\n",
              "      <td>0.0</td>\n",
              "      <td>0.0</td>\n",
              "      <td>0.0</td>\n",
              "      <td>0.0</td>\n",
              "      <td>0.0</td>\n",
              "      <td>0.0</td>\n",
              "      <td>0.0</td>\n",
              "      <td>0.0</td>\n",
              "      <td>0.032234</td>\n",
              "      <td>0.0</td>\n",
              "      <td>0.0</td>\n",
              "      <td>0.0</td>\n",
              "      <td>0.000000</td>\n",
              "      <td>0.0</td>\n",
              "      <td>0.0</td>\n",
              "      <td>0.0</td>\n",
              "      <td>0.0</td>\n",
              "      <td>0.0</td>\n",
              "      <td>0.0</td>\n",
              "      <td>0.0</td>\n",
              "      <td>0.0</td>\n",
              "      <td>0.0</td>\n",
              "      <td>0.0</td>\n",
              "      <td>0.0</td>\n",
              "      <td>0.0</td>\n",
              "      <td>0.0</td>\n",
              "      <td>0.0</td>\n",
              "      <td>0.000000</td>\n",
              "      <td>0.0</td>\n",
              "      <td>0.0</td>\n",
              "      <td>0.0</td>\n",
              "      <td>0.0</td>\n",
              "      <td>0.0</td>\n",
              "      <td>0.0</td>\n",
              "      <td>0.0</td>\n",
              "      <td>0.0399</td>\n",
              "      <td>...</td>\n",
              "      <td>0.0</td>\n",
              "      <td>0.0</td>\n",
              "      <td>0.0</td>\n",
              "      <td>0.0</td>\n",
              "      <td>0.0</td>\n",
              "      <td>0.0</td>\n",
              "      <td>0.0</td>\n",
              "      <td>0.0</td>\n",
              "      <td>0.0</td>\n",
              "      <td>0.0</td>\n",
              "      <td>0.0</td>\n",
              "      <td>0.0</td>\n",
              "      <td>0.0</td>\n",
              "      <td>0.0</td>\n",
              "      <td>0.0</td>\n",
              "      <td>0.0</td>\n",
              "      <td>0.0</td>\n",
              "      <td>0.0</td>\n",
              "      <td>0.0</td>\n",
              "      <td>0.0</td>\n",
              "      <td>0.0</td>\n",
              "      <td>0.0</td>\n",
              "      <td>0.0</td>\n",
              "      <td>0.0</td>\n",
              "      <td>0.0</td>\n",
              "      <td>0.0</td>\n",
              "      <td>0.0</td>\n",
              "      <td>0.0</td>\n",
              "      <td>0.0</td>\n",
              "      <td>0.0</td>\n",
              "      <td>0.0</td>\n",
              "      <td>0.0</td>\n",
              "      <td>0.0</td>\n",
              "      <td>0.0</td>\n",
              "      <td>0.0</td>\n",
              "      <td>0.0</td>\n",
              "      <td>0.0</td>\n",
              "      <td>0.0</td>\n",
              "      <td>0.0</td>\n",
              "      <td>0.0</td>\n",
              "    </tr>\n",
              "    <tr>\n",
              "      <th>3</th>\n",
              "      <td>0.0</td>\n",
              "      <td>0.0</td>\n",
              "      <td>0.0</td>\n",
              "      <td>0.0</td>\n",
              "      <td>0.0</td>\n",
              "      <td>0.0</td>\n",
              "      <td>0.0</td>\n",
              "      <td>0.0</td>\n",
              "      <td>0.0</td>\n",
              "      <td>0.0</td>\n",
              "      <td>0.0</td>\n",
              "      <td>0.0</td>\n",
              "      <td>0.031279</td>\n",
              "      <td>0.0</td>\n",
              "      <td>0.0</td>\n",
              "      <td>0.0</td>\n",
              "      <td>0.000000</td>\n",
              "      <td>0.0</td>\n",
              "      <td>0.0</td>\n",
              "      <td>0.0</td>\n",
              "      <td>0.0</td>\n",
              "      <td>0.0</td>\n",
              "      <td>0.0</td>\n",
              "      <td>0.0</td>\n",
              "      <td>0.0</td>\n",
              "      <td>0.0</td>\n",
              "      <td>0.0</td>\n",
              "      <td>0.0</td>\n",
              "      <td>0.0</td>\n",
              "      <td>0.0</td>\n",
              "      <td>0.0</td>\n",
              "      <td>0.000000</td>\n",
              "      <td>0.0</td>\n",
              "      <td>0.0</td>\n",
              "      <td>0.0</td>\n",
              "      <td>0.0</td>\n",
              "      <td>0.0</td>\n",
              "      <td>0.0</td>\n",
              "      <td>0.0</td>\n",
              "      <td>0.0000</td>\n",
              "      <td>...</td>\n",
              "      <td>0.0</td>\n",
              "      <td>0.0</td>\n",
              "      <td>0.0</td>\n",
              "      <td>0.0</td>\n",
              "      <td>0.0</td>\n",
              "      <td>0.0</td>\n",
              "      <td>0.0</td>\n",
              "      <td>0.0</td>\n",
              "      <td>0.0</td>\n",
              "      <td>0.0</td>\n",
              "      <td>0.0</td>\n",
              "      <td>0.0</td>\n",
              "      <td>0.0</td>\n",
              "      <td>0.0</td>\n",
              "      <td>0.0</td>\n",
              "      <td>0.0</td>\n",
              "      <td>0.0</td>\n",
              "      <td>0.0</td>\n",
              "      <td>0.0</td>\n",
              "      <td>0.0</td>\n",
              "      <td>0.0</td>\n",
              "      <td>0.0</td>\n",
              "      <td>0.0</td>\n",
              "      <td>0.0</td>\n",
              "      <td>0.0</td>\n",
              "      <td>0.0</td>\n",
              "      <td>0.0</td>\n",
              "      <td>0.0</td>\n",
              "      <td>0.0</td>\n",
              "      <td>0.0</td>\n",
              "      <td>0.0</td>\n",
              "      <td>0.0</td>\n",
              "      <td>0.0</td>\n",
              "      <td>0.0</td>\n",
              "      <td>0.0</td>\n",
              "      <td>0.0</td>\n",
              "      <td>0.0</td>\n",
              "      <td>0.0</td>\n",
              "      <td>0.0</td>\n",
              "      <td>0.0</td>\n",
              "    </tr>\n",
              "    <tr>\n",
              "      <th>4</th>\n",
              "      <td>0.0</td>\n",
              "      <td>0.0</td>\n",
              "      <td>0.0</td>\n",
              "      <td>0.0</td>\n",
              "      <td>0.0</td>\n",
              "      <td>0.0</td>\n",
              "      <td>0.0</td>\n",
              "      <td>0.0</td>\n",
              "      <td>0.0</td>\n",
              "      <td>0.0</td>\n",
              "      <td>0.0</td>\n",
              "      <td>0.0</td>\n",
              "      <td>0.015159</td>\n",
              "      <td>0.0</td>\n",
              "      <td>0.0</td>\n",
              "      <td>0.0</td>\n",
              "      <td>0.000000</td>\n",
              "      <td>0.0</td>\n",
              "      <td>0.0</td>\n",
              "      <td>0.0</td>\n",
              "      <td>0.0</td>\n",
              "      <td>0.0</td>\n",
              "      <td>0.0</td>\n",
              "      <td>0.0</td>\n",
              "      <td>0.0</td>\n",
              "      <td>0.0</td>\n",
              "      <td>0.0</td>\n",
              "      <td>0.0</td>\n",
              "      <td>0.0</td>\n",
              "      <td>0.0</td>\n",
              "      <td>0.0</td>\n",
              "      <td>0.000000</td>\n",
              "      <td>0.0</td>\n",
              "      <td>0.0</td>\n",
              "      <td>0.0</td>\n",
              "      <td>0.0</td>\n",
              "      <td>0.0</td>\n",
              "      <td>0.0</td>\n",
              "      <td>0.0</td>\n",
              "      <td>0.0000</td>\n",
              "      <td>...</td>\n",
              "      <td>0.0</td>\n",
              "      <td>0.0</td>\n",
              "      <td>0.0</td>\n",
              "      <td>0.0</td>\n",
              "      <td>0.0</td>\n",
              "      <td>0.0</td>\n",
              "      <td>0.0</td>\n",
              "      <td>0.0</td>\n",
              "      <td>0.0</td>\n",
              "      <td>0.0</td>\n",
              "      <td>0.0</td>\n",
              "      <td>0.0</td>\n",
              "      <td>0.0</td>\n",
              "      <td>0.0</td>\n",
              "      <td>0.0</td>\n",
              "      <td>0.0</td>\n",
              "      <td>0.0</td>\n",
              "      <td>0.0</td>\n",
              "      <td>0.0</td>\n",
              "      <td>0.0</td>\n",
              "      <td>0.0</td>\n",
              "      <td>0.0</td>\n",
              "      <td>0.0</td>\n",
              "      <td>0.0</td>\n",
              "      <td>0.0</td>\n",
              "      <td>0.0</td>\n",
              "      <td>0.0</td>\n",
              "      <td>0.0</td>\n",
              "      <td>0.0</td>\n",
              "      <td>0.0</td>\n",
              "      <td>0.0</td>\n",
              "      <td>0.0</td>\n",
              "      <td>0.0</td>\n",
              "      <td>0.0</td>\n",
              "      <td>0.0</td>\n",
              "      <td>0.0</td>\n",
              "      <td>0.0</td>\n",
              "      <td>0.0</td>\n",
              "      <td>0.0</td>\n",
              "      <td>0.0</td>\n",
              "    </tr>\n",
              "  </tbody>\n",
              "</table>\n",
              "<p>5 rows × 36289 columns</p>\n",
              "</div>"
            ],
            "text/plain": [
              "    aa  aa employer  aa m  ...    â  сompetitive  сompetitive salary\n",
              "0  0.0          0.0   0.0  ...  0.0          0.0                 0.0\n",
              "1  0.0          0.0   0.0  ...  0.0          0.0                 0.0\n",
              "2  0.0          0.0   0.0  ...  0.0          0.0                 0.0\n",
              "3  0.0          0.0   0.0  ...  0.0          0.0                 0.0\n",
              "4  0.0          0.0   0.0  ...  0.0          0.0                 0.0\n",
              "\n",
              "[5 rows x 36289 columns]"
            ]
          },
          "metadata": {
            "tags": []
          },
          "execution_count": 67
        }
      ]
    },
    {
      "cell_type": "markdown",
      "metadata": {
        "id": "VsiS-e5X_ucO"
      },
      "source": [
        "### 4) K-NN 모델을 만들고 내가 원하는 `job description`을 질의해 가장 가까운 검색 결과들을 가져오고 분석합니다."
      ]
    },
    {
      "cell_type": "code",
      "metadata": {
        "colab": {
          "base_uri": "https://localhost:8080/"
        },
        "id": "Lo4Hl1mx_ucO",
        "outputId": "7b9b0262-3c1b-4e68-99df-bd73adbd02e5"
      },
      "source": [
        "from sklearn.neighbors import NearestNeighbors\n",
        "# 모델 생성\n",
        "nn = NearestNeighbors(n_neighbors=5,\n",
        "                    algorithm='kd_tree')\n",
        "nn.fit(dtm_tfidf)\n",
        "df.index[df['description'].str.contains('python')][0]"
      ],
      "execution_count": 68,
      "outputs": [
        {
          "output_type": "execute_result",
          "data": {
            "text/plain": [
              "48"
            ]
          },
          "metadata": {
            "tags": []
          },
          "execution_count": 68
        }
      ]
    },
    {
      "cell_type": "code",
      "metadata": {
        "colab": {
          "base_uri": "https://localhost:8080/"
        },
        "id": "53pSWv7OYVSL",
        "outputId": "d415f696-9320-4c67-ed2a-1fda2477f04a"
      },
      "source": [
        "nn.kneighbors([dtm_tfidf.iloc[100]])"
      ],
      "execution_count": 69,
      "outputs": [
        {
          "output_type": "execute_result",
          "data": {
            "text/plain": [
              "(array([[0.        , 0.73323954, 0.81537261, 0.90937829, 0.91296264]]),\n",
              " array([[100,  93, 109, 260, 251]]))"
            ]
          },
          "metadata": {
            "tags": []
          },
          "execution_count": 69
        }
      ]
    },
    {
      "cell_type": "code",
      "metadata": {
        "colab": {
          "base_uri": "https://localhost:8080/"
        },
        "id": "vYTCzaI2YjSq",
        "outputId": "0ed2d0ea-2684-43e6-c35c-f27be09978d8"
      },
      "source": [
        "df[['company', 'title']].iloc[[100,  93, 109, 260, 251]]\n",
        "idx_list = [100,  93, 109, 260, 251]\n",
        "for idx, key in enumerate(idx_list):\n",
        "    print(f'{idx}번째로 유사한 job description ({key}번)')\n",
        "    \n",
        "    value = df['description'].iloc[key].replace('\\n', ' ')\n",
        "    print(value[:2000])\n",
        "    print()"
      ],
      "execution_count": 70,
      "outputs": [
        {
          "output_type": "stream",
          "text": [
            "0번째로 유사한 job description (100번)\n",
            "Facebook's mission is to give people the power to build community and bring the world closer together. Through our family of apps and services, we're building a different kind of company that connects billions of people around the world, gives them ways to share what matters most to them, and helps bring people closer together. Whether we're creating new products or helping a small business expand its reach, people at Facebook are builders at heart. Our global teams are constantly iterating, solving problems, and working together to empower people around the world to build community and connect in meaningful ways. Together, we can help people build stronger communities - we're just getting started.  How would Facebook scale to the next billion users? The Infrastructure Strategy group is responsible for the strategic analysis to support and enable the continued growth critical to Facebook’s infrastructure organization. The ideal candidate will be passionate about Facebook, highly analytical, have strong mathematical aptitude and has experience using data to drive cost effective decision making.  Leverage data and business principles to solve large scale web, mobile, and data infrastructure problems. Build and maintain data driven optimization models, experiments, forecasting algorithms, and machine learning models. Leverage tools like R, Python, Hadoop, and SQL to drive efficient analytics.  Currently has, or is in the process of obtaining, a Bachelors, Masters, or PhD degree in Computer Science, Engineering, Statistics, Economics, Social Science, Mathematics, or Interdisciplinary programs including the above disciplines. Proficient in SQL and at least one programming language (PHP, Python, Perl, C, C++, Java). Basic understanding of statistics and optimization techniques. Basic understanding of Machine Learning techniques. Hands-on experience with medium to large datasets (i.e. data extraction, cleaning, analysis and presentation). Basic experience with packages suc\n",
            "\n",
            "1번째로 유사한 job description (93번)\n",
            "Facebook's mission is to give people the power to build community and bring the world closer together. Through our family of apps and services, we're building a different kind of company that connects billions of people around the world, gives them ways to share what matters most to them, and helps bring people closer together. Whether we're creating new products or helping a small business expand its reach, people at Facebook are builders at heart. Our global teams are constantly iterating, solving problems, and working together to empower people around the world to build community and connect in meaningful ways. Together, we can help people build stronger communities - we're just getting started.  The Infrastructure Strategy group is responsible for the strategic analysis to support and enable the continued growth critical to Facebook’s infrastructure organization. The ideal candidate will be passionate about Facebook, have strong analytical and modeling aptitude and has experience using data to drive cost effective decision making.  Leverage data and business principles to solve large-scale web, mobile and data infrastructure problems. Work cross-functionally to define problem statements, collect data, build analytical models and make recommendations. Build and maintain data driven optimization models, experiments, forecasting algorithms, and machine learning models. Leverage tools like Python, R, Hadoop & SQL to drive efficient analytics. Communicate final recommendations and drive decision making.  Degree in quantitative field (e.g. Computer Science, Engineering, Mathematics, Statistics, Operations Research or other related field) 2+ years of industry or graduate research experience solving analytical problems and building models using quantitative, statistical or machine learning approaches Experience with Machine Learning, Statistics, or other data analysis tools and techniques Experience performing data extraction, cleaning, analysis and presentation for med\n",
            "\n",
            "2번째로 유사한 job description (109번)\n",
            "Facebook's mission is to give people the power to build community and bring the world closer together. Through our family of apps and services, we're building a different kind of company that connects billions of people around the world, gives them ways to share what matters most to them, and helps bring people closer together. Whether we're creating new products or helping a small business expand its reach, people at Facebook are builders at heart. Our global teams are constantly iterating, solving problems, and working together to empower people around the world to build community and connect in meaningful ways. Together, we can help people build stronger communities - we're just getting started.  The Infrastructure Quantitative Engineering group is responsible for the strategic analysis to support and enable the continued growth critical to Facebook’s infrastructure organization. We are applied quantitative and computational experts using math, statistics and machine learning to measure & optimize cost, performance, reliability and efficiency of Facebook’s infrastructure & global telecom systems to deliver the best experience to our global audience. The ideal candidate will be passionate about Facebook, have strong analytical and modeling aptitude and has experience using data to drive cost effective decision making.This position has a 16-week duration beginning in August 2020. All candidates should be able to commit to a consecutive 16-week timeframe for successful completion of the program. At the end of the term, those who have demonstrated their abilities to succeed and make an impact at Facebook will be considered for a full-time position. Candidates are encouraged to apply early!This program is open to all candidates who have been out of the workforce for 2 years of longer. This is a 16-week position based in Menlo Park, CA; Seattle, WA; and Boston, MA.  Build pragmatic, scalable, and statistically rigorous solutions to large-scale web, mobile and data infr\n",
            "\n",
            "3번째로 유사한 job description (260번)\n",
            "Facebook's mission is to give people the power to build community and bring the world closer together. Through our family of apps and services, we're building a different kind of company that connects billions of people around the world, gives them ways to share what matters most to them, and helps bring people closer together. Whether we're creating new products or helping a small business expand its reach, people at Facebook are builders at heart. Our global teams are constantly iterating, solving problems, and working together to empower people around the world to build community and connect in meaningful ways. Together, we can help people build stronger communities - we're just getting started.  Are you passionate about Facebook’s product, analytics and technology? The Analytics team is looking for fast-moving analytics candidates and data junkies who want to make an impact. Candidates will help own analytics for a particular product or business at Facebook and work with product managers and engineers to translate the analysis into meaningful impact to the business. Please note that candidates will have a general interview and then we will make a determination of actual team assignments.  Perform large-scale data analysis to extract useful business insights Identify actionable insights, suggest recommendations and influence the direction of the business by communicating results to cross-functional groups Work closely with a Product Manager and Engineering team to proactively create rule and manage decisions Classify leads so that the teams work on the most valuable cases Suggest improvements in the tools and techniques to help scale the team  Currently has, or is in the process of obtaining, a Bachelors or Masters degree in Computer Science, Applied Mathematics, Statistics, Economics, or related technical field Experience in solving analytical problems using quantitative approaches (or equivalent) Experience with SQL or other programming languages (Python, Java,\n",
            "\n",
            "4번째로 유사한 job description (251번)\n",
            "Facebook's mission is to give people the power to build community and bring the world closer together. Through our family of apps and services, we're building a different kind of company that connects billions of people around the world, gives them ways to share what matters most to them, and helps bring people closer together. Whether we're creating new products or helping a small business expand its reach, people at Facebook are builders at heart. Our global teams are constantly iterating, solving problems, and working together to empower people around the world to build community and connect in meaningful ways. Together, we can help people build stronger communities - we're just getting started.  Are you passionate about Facebook’s product, analytics and technology? The Analytics team is looking for fast-moving analytics candidates and data junkies who want to make an impact. Candidates will help own analytics for a particular product or business at Facebook and work with product managers and engineers to translate the analysis into meaningful impact to the business. Please note that candidates will have a general interview and then we will make a determination of actual team assignments.  Perform large-scale data analysis to extract useful business insights Identify actionable insights, suggest recommendations and influence the direction of the business by communicating results to cross-functional groups Work closely with a Product Manager and Engineering team to proactively create rule and manage decisions Classify leads so that the teams work on the most valuable cases Suggest improvements in the tools and techniques to help scale the team  Currently has, or is in the process of obtaining, a PhD degree in Computer Science, Applied Mathematics, Statistics, Economics, or related technical field  Experience in solving analytical problems using quantitative approaches (or equivalent)  Experience with SQL or other programming languages (Python, Java, and/or C++)  D\n",
            "\n"
          ],
          "name": "stdout"
        }
      ]
    },
    {
      "cell_type": "code",
      "metadata": {
        "colab": {
          "base_uri": "https://localhost:8080/"
        },
        "id": "cf22QfqUYvzu",
        "outputId": "4e459a7f-e33b-4ebf-a13e-c47f30d3dd27"
      },
      "source": [
        "# PCA를 사용해서 2차원으로 차원 축소하여 시각화\n",
        "from sklearn.decomposition import PCA\n",
        "\n",
        "nn_result = dtm_tfidf.iloc[idx_list]\n",
        "\n",
        "pca = PCA(n_components=2)\n",
        "word_vect_2d = pca.fit_transform(nn_result)\n",
        "word_vect_2d"
      ],
      "execution_count": 71,
      "outputs": [
        {
          "output_type": "execute_result",
          "data": {
            "text/plain": [
              "array([[-0.16910197,  0.49811945],\n",
              "       [-0.45057577, -0.10779795],\n",
              "       [-0.45607952, -0.24709834],\n",
              "       [ 0.53819509, -0.06840297],\n",
              "       [ 0.53756218, -0.0748202 ]])"
            ]
          },
          "metadata": {
            "tags": []
          },
          "execution_count": 71
        }
      ]
    },
    {
      "cell_type": "code",
      "metadata": {
        "colab": {
          "base_uri": "https://localhost:8080/",
          "height": 483
        },
        "id": "9GruXMANY1Ei",
        "outputId": "78d865de-278e-4b85-b95c-87386e830e46"
      },
      "source": [
        "plt.figure(figsize=(12, 8))\n",
        "\n",
        "plt.scatter(word_vect_2d[:, 0], word_vect_2d[:, 1])\n",
        "plt.scatter(word_vect_2d[0][0], word_vect_2d[0][1], c='red')\n",
        "for idx, coord in zip(idx_list, word_vect_2d):\n",
        "    x, y = coord\n",
        "    plt.text(x, y, str(idx), size=13)\n",
        "plt.show();"
      ],
      "execution_count": 72,
      "outputs": [
        {
          "output_type": "display_data",
          "data": {
            "image/png": "[encoded data removed]",
            "text/plain": [
              "<Figure size 864x576 with 1 Axes>"
            ]
          },
          "metadata": {
            "tags": [],
            "needs_background": "light"
          }
        }
      ]
    },
    {
      "cell_type": "code",
      "metadata": {
        "colab": {
          "base_uri": "https://localhost:8080/"
        },
        "id": "IJ3W75eYZH6y",
        "outputId": "5f523911-f34b-4810-ede5-eaf526b401cf"
      },
      "source": [
        "from sklearn.manifold import TSNE\n",
        "X_embedded = TSNE(n_components=2).fit_transform(nn_result)\n",
        "X_embedded"
      ],
      "execution_count": 73,
      "outputs": [
        {
          "output_type": "execute_result",
          "data": {
            "text/plain": [
              "array([[-145.15947 , -319.50668 ],\n",
              "       [-302.20404 , -179.97939 ],\n",
              "       [ -39.712597,   50.430077],\n",
              "       [ -29.80149 , -152.38821 ],\n",
              "       [-246.73676 ,   14.750029]], dtype=float32)"
            ]
          },
          "metadata": {
            "tags": []
          },
          "execution_count": 73
        }
      ]
    },
    {
      "cell_type": "code",
      "metadata": {
        "colab": {
          "base_uri": "https://localhost:8080/",
          "height": 483
        },
        "id": "FOJtqxSRZfJf",
        "outputId": "47a933f5-1941-427a-8001-5ede1cb52f63"
      },
      "source": [
        "# n_components=2\n",
        "plt.figure(figsize=(12, 8))\n",
        "\n",
        "plt.scatter(X_embedded[:, 0], X_embedded[:, 1])\n",
        "plt.scatter(X_embedded[0][0], X_embedded[0][1], c='red')\n",
        "for idx, coord in zip(idx_list, X_embedded):\n",
        "    x, y = coord\n",
        "    plt.text(x, y, str(idx), size=13)\n",
        "plt.show();"
      ],
      "execution_count": 75,
      "outputs": [
        {
          "output_type": "display_data",
          "data": {
            "image/png": "[encoded data removed]",
            "text/plain": [
              "<Figure size 864x576 with 1 Axes>"
            ]
          },
          "metadata": {
            "tags": [],
            "needs_background": "light"
          }
        }
      ]
    },
    {
      "cell_type": "code",
      "metadata": {
        "colab": {
          "base_uri": "https://localhost:8080/",
          "height": 466
        },
        "id": "WFi-NH0qZsv8",
        "outputId": "69c77907-6610-461d-a70e-54c48ec2500f"
      },
      "source": [
        "# n_components=3\n",
        "X_embedded = TSNE(n_components=3).fit_transform(nn_result)\n",
        "\n",
        "fig = plt.figure(figsize=(12, 8))\n",
        "ax = fig.add_subplot(111, projection='3d')\n",
        "\n",
        "for idx, coord in zip(idx_list, X_embedded):\n",
        "    xs, ys, zs = coord\n",
        "    ax.scatter(xs, ys, zs, str(idx))\n",
        "plt.show();"
      ],
      "execution_count": 76,
      "outputs": [
        {
          "output_type": "display_data",
          "data": {
            "image/png": "[encoded data removed]",
            "text/plain": [
              "<Figure size 864x576 with 1 Axes>"
            ]
          },
          "metadata": {
            "tags": [],
            "needs_background": "light"
          }
        }
      ]
    },
    {
      "cell_type": "markdown",
      "metadata": {
        "id": "fncMbLmn_2H-"
      },
      "source": [
        "## Documents Classification\n",
        "\n",
        "이번 과제에서는 위스키 리뷰 텍스트에서 특성을 추출하고 문서 분류기를 만들어 보겠습니다."
      ]
    },
    {
      "cell_type": "markdown",
      "metadata": {
        "id": "gHMbjeW8_2H-"
      },
      "source": [
        "### 데이터를 가져옵니다"
      ]
    },
    {
      "cell_type": "code",
      "metadata": {
        "id": "OtqyF7gU_2H-"
      },
      "source": [
        "import pandas as pd\n",
        "from sklearn.model_selection import train_test_split\n",
        "\n",
        "train = pd.read_csv('https://ds-lecture-data.s3.ap-northeast-2.amazonaws.com/whisky/train.csv')\n",
        "# 테스트 세트는 마지막 성능 확인에만 사용합니다.\n",
        "test = pd.read_csv('https://ds-lecture-data.s3.ap-northeast-2.amazonaws.com/whisky/test.csv')"
      ],
      "execution_count": null,
      "outputs": []
    },
    {
      "cell_type": "markdown",
      "metadata": {
        "id": "RZ5hTBpz_2H_"
      },
      "source": [
        "### 1) 데이터를 분석합니다.\n",
        "- 타겟 분포 등을 확인합니다.\n",
        "- 타겟별 텍스트를 확인합니다.\n",
        "- 필요한 분석을 진행합니다."
      ]
    },
    {
      "cell_type": "code",
      "metadata": {
        "id": "c9LVN0QK_2H_"
      },
      "source": [
        "# feature -> description \n",
        "# rating -> great:0, good:1, bad:2\n",
        "train.head()"
      ],
      "execution_count": null,
      "outputs": []
    },
    {
      "cell_type": "code",
      "metadata": {
        "id": "kYMGliDD_2IA"
      },
      "source": [
        "# 각 카테고리별 문장 샘플을 프린트해 봅니다.\n",
        "pd.set_option('display.max_colwidth', 0)\n",
        "train[train.rating == 2].sample(3)"
      ],
      "execution_count": null,
      "outputs": []
    },
    {
      "cell_type": "markdown",
      "metadata": {
        "id": "RD4TNoEs_2IA"
      },
      "source": [
        "### 훈련/검증 데이터 셋으로 분리합니다\n",
        "X_train, X_val, y_train, y_val = train_test_split(train['description']\n",
        "                                                   ,train['rating']\n",
        "                                                   ,test_size=0.2\n",
        "                                                   ,stratify=train['rating'] # train/test 모두 rating 비율과 같게 합니다\n",
        "                                                   ,random_state=1)\n",
        "\n",
        "X_train.shape, X_val.shape, y_train.shape, y_val.shape"
      ]
    },
    {
      "cell_type": "markdown",
      "metadata": {
        "id": "AyxeVFiZ_2IA"
      },
      "source": [
        "### 2) 파이프라인을 구성해 보세요"
      ]
    },
    {
      "cell_type": "code",
      "metadata": {
        "id": "XnT02bnk_2IB"
      },
      "source": [
        "vect = ...\n",
        "clf = ...\n",
        "\n",
        "pipe = Pipeline([('vect', vect), ('clf', clf)])\n",
        "..."
      ],
      "execution_count": null,
      "outputs": []
    },
    {
      "cell_type": "code",
      "metadata": {
        "id": "sjxg2hq4_2IB"
      },
      "source": [
        "from sklearn.metrics import accuracy_score\n",
        "...\n",
        "accuracy_score(pred, sol['rating'])\n",
        "..."
      ],
      "execution_count": null,
      "outputs": []
    },
    {
      "cell_type": "markdown",
      "metadata": {
        "id": "qbs8yRli_2IB"
      },
      "source": [
        "### 3) 하이퍼파라미터를 설정하고 학습을 수행하세요\n",
        "vectorizer와 분류모델의 최적 하이퍼파라미터를 찾기 위한 설정입니다. 마음것 시도하세요!"
      ]
    },
    {
      "cell_type": "code",
      "metadata": {
        "id": "aoR795Nb_2IB"
      },
      "source": [
        "parameters = {\n",
        "    'vect__max_df': (0.75, 1.0),\n",
        "    'clf__max_depth':(5,10,15,20),\n",
        "    ...\n",
        "}\n",
        "\n",
        "grid_search = GridSearchCV(pipe,parameters, cv=5, n_jobs=4, verbose=1)\n",
        "grid_search.fit(..., ...)"
      ],
      "execution_count": null,
      "outputs": []
    },
    {
      "cell_type": "markdown",
      "metadata": {
        "id": "fmT_n9bs_2IB"
      },
      "source": [
        "### 4) 결과를 분석합니다.\n",
        "- Accuracy 점수가 70% 이상 나오도록 노력해 보세요!"
      ]
    },
    {
      "cell_type": "code",
      "metadata": {
        "id": "K87N3dR1_2IC"
      },
      "source": [
        "# 테스트 세트를 가지고 예측을 수행합니다.\n",
        "pred = grid_search.predict(test['description'])"
      ],
      "execution_count": null,
      "outputs": []
    },
    {
      "cell_type": "code",
      "metadata": {
        "id": "Gw32QeiY_2IC"
      },
      "source": [
        "### 결과를 리포팅 합니다."
      ],
      "execution_count": null,
      "outputs": []
    },
    {
      "cell_type": "markdown",
      "metadata": {
        "id": "OotLZC1m_2IC"
      },
      "source": [
        "## 잠재의미분석(Latent Semantic Analysis, LSA)"
      ]
    },
    {
      "cell_type": "code",
      "metadata": {
        "id": "gZFyuLWJ_2IC"
      },
      "source": [
        "import scipy.stats as stats\n",
        "from sklearn.model_selection import RandomizedSearchCV\n",
        "from sklearn.decomposition import TruncatedSVD"
      ],
      "execution_count": null,
      "outputs": []
    },
    {
      "cell_type": "markdown",
      "metadata": {
        "id": "8XD1C-Sf_2ID"
      },
      "source": [
        "### 5) 파이프라인을 구성해 보세요"
      ]
    },
    {
      "cell_type": "code",
      "metadata": {
        "id": "JtCaB46q_2ID"
      },
      "source": [
        "vect = ...\n",
        "svd = ...\n",
        "clf = ...\n",
        "\n",
        "pipe = Pipeline([\n",
        "    ('vect', vect)\n",
        "    , ('svd', svd)\n",
        "    , ('clf', rfc)\n",
        "])"
      ],
      "execution_count": null,
      "outputs": []
    },
    {
      "cell_type": "markdown",
      "metadata": {
        "id": "5FbAzWG3_2ID"
      },
      "source": [
        "### 6) 하이퍼파라미터를 설정해 주세요\n",
        "vectorizer와 분류모델의 최적 하이퍼파라미터를 찾기 위한 설정입니다."
      ]
    },
    {
      "cell_type": "code",
      "metadata": {
        "id": "7kPOPlpg_2ID"
      },
      "source": [
        "parameters = {\n",
        "    'svd__n_components': [10,100,250],\n",
        "    'vect__max_df': (0.75, 1.0),\n",
        "    'clf__max_depth':(5,10,15,20),\n",
        "    ...\n",
        "}\n",
        "\n",
        "grid_search = GridSearchCV(pipe,parameters, cv=5, n_jobs=4, verbose=1)\n",
        "grid_search.fit(..., ...)"
      ],
      "execution_count": null,
      "outputs": []
    },
    {
      "cell_type": "markdown",
      "metadata": {
        "id": "AmUvgtgT_2ID"
      },
      "source": [
        "### 7) 결과를 분석하세요"
      ]
    },
    {
      "cell_type": "code",
      "metadata": {
        "id": "liL8xrfv_2ID"
      },
      "source": [
        "pred = grid_search.predict(test['description'])"
      ],
      "execution_count": null,
      "outputs": []
    },
    {
      "cell_type": "code",
      "metadata": {
        "id": "5jT7Ynnj_2IE"
      },
      "source": [
        "### 결과를 리포팅 합니다."
      ],
      "execution_count": null,
      "outputs": []
    },
    {
      "cell_type": "markdown",
      "metadata": {
        "id": "2C1g6NHq_2IE"
      },
      "source": [
        "### 8) Spacy 단어 임베딩을 사용해서 결과를 다시 도출하고 비교 분석합니다.\n",
        "- 텍스트를 추출하고 분류하는 파이프라인을 만드세요\n",
        "- 파이프라인을 GridSearchCV 혹은 RandomizedSearchCV를 사용하여 튜닝하세요\n",
        "- Spacy 단어 임베딩을 사용합니다"
      ]
    },
    {
      "cell_type": "code",
      "metadata": {
        "id": "B-loZFWs_2IE"
      },
      "source": [
        "from sklearn.model_selection import RandomizedSearchCV\n",
        "from sklearn.ensemble import GradientBoostingClassifier\n",
        "from scipy.stats import randint\n",
        "\n",
        "param_dist = {\n",
        "    \n",
        "    'max_depth' : randint(3,10),\n",
        "    'min_samples_leaf': randint(2,15)\n",
        "}"
      ],
      "execution_count": null,
      "outputs": []
    },
    {
      "cell_type": "code",
      "metadata": {
        "id": "Df_1YUWF_2IE"
      },
      "source": [
        "# 단어 임베딩을 사용하세요\n"
      ],
      "execution_count": null,
      "outputs": []
    },
    {
      "cell_type": "code",
      "metadata": {
        "id": "YpPuijo4_2IE"
      },
      "source": [
        "pred = ...predict(test['description'])"
      ],
      "execution_count": null,
      "outputs": []
    }
  ]
}