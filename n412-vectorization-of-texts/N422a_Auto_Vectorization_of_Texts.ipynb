{
  "nbformat": 4,
  "nbformat_minor": 0,
  "metadata": {
    "colab": {
      "name": "N422a_Auto_Vectorization of Texts.ipynb",
      "provenance": [],
      "collapsed_sections": []
    },
    "kernel_info": {
      "name": "python3"
    },
    "kernelspec": {
      "display_name": "P41_NLP",
      "language": "python",
      "name": "p41_nlp"
    },
    "language_info": {
      "codemirror_mode": {
        "name": "ipython",
        "version": 3
      },
      "file_extension": ".py",
      "mimetype": "text/x-python",
      "name": "python",
      "nbconvert_exporter": "python",
      "pygments_lexer": "ipython3",
      "version": "3.7.7"
    },
    "nteract": {
      "version": "0.14.3"
    }
  },
  "cells": [
    {
      "cell_type": "markdown",
      "metadata": {
        "id": "4GCEleoCVpbI"
      },
      "source": [
        "<img align=\"right\" src=\"https://ds-cs-images.s3.ap-northeast-2.amazonaws.com/Codestates_Fulllogo_Color.png\" width=100>\n",
        "\n",
        "## *DATA SCIENCE / SECTION 4 / SPRINT 1 / NOTE 2*\n",
        "\n",
        "# 📝 Assignment\n",
        "\n",
        "---\n",
        "\n",
        "\n",
        "# Vectorization of Texts"
      ]
    },
    {
      "cell_type": "markdown",
      "metadata": {
        "id": "oeN7x_3jVpbX"
      },
      "source": [
        "indeed.com 에서 Data Scientist 키워드로 Job descrition을 찾아 스크래핑한 데이터를 이용해 과제를 진행해 보겠습니다.\n",
        "\n",
        "[Data_Scienties.csv](https://ds-lecture-data.s3.ap-northeast-2.amazonaws.com/indeed/Data_Scientist.csv) 파일에는 1300여개의 Data Scientist job description 정보가 담겨 있습니다. 이 데이터를 이용해 다음 체크포인트를 진행해 보세요!"
      ]
    },
    {
      "cell_type": "code",
      "metadata": {
        "id": "hyj-f9FDcVFp"
      },
      "source": [
        "import re\n",
        "import string\n",
        "\n",
        "from sklearn.feature_extraction.text import CountVectorizer, TfidfVectorizer\n",
        "import matplotlib.pyplot as plt\n",
        "import pandas as pd\n",
        "import numpy as np\n",
        "import spacy"
      ],
      "execution_count": null,
      "outputs": []
    },
    {
      "cell_type": "markdown",
      "metadata": {
        "id": "kV7HDEdvVpbZ"
      },
      "source": [
        "### 1) Spacy를 사용해 description 칼럼 문서들을 토큰화 합니다.\n",
        "\n",
        "- 문항 1) 토큰화에 사용한 spacy 언어모델(예.en_XXXXX)을 입력하시오."
      ]
    },
    {
      "cell_type": "code",
      "metadata": {
        "id": "iVzX1AElVpbZ"
      },
      "source": [
        "### 이곳에서 과제를 진행해 주세요 ### "
      ],
      "execution_count": null,
      "outputs": []
    },
    {
      "cell_type": "markdown",
      "metadata": {
        "id": "CWSY1aNAVpbZ"
      },
      "source": [
        "### 2) CountVectorizer를 이용해 각 문서들을 벡터화 합니다\n",
        "\n",
        "- 문항 2) CountVectorizer를 사용하기위한 코드에서 밑줄에 들어야할 method를 입력하시오.\n",
        "\n",
        "```\n",
        "vect = CountVectorizer(stop_words='english',\n",
        "                       tokenizer = tokenize,\n",
        "                       max_features=30000)\n",
        "\n",
        "dtm_vect = vect.____### Your Code Here####_____(df['description'])\n",
        "\n",
        "```"
      ]
    },
    {
      "cell_type": "code",
      "metadata": {
        "id": "oA_iwIJxVpba"
      },
      "source": [
        "### 이곳에서 과제를 진행해 주세요 ### "
      ],
      "execution_count": null,
      "outputs": []
    },
    {
      "cell_type": "markdown",
      "metadata": {
        "id": "CO7_1JQyVpba"
      },
      "source": [
        "### 3) 가장 많은 빈도로 나타나는 단어들을 시각화 합니다.\n",
        "\n",
        "- 문항 3) 시각화한 결과 Top 5개의 단어를 입력하시오."
      ]
    },
    {
      "cell_type": "code",
      "metadata": {
        "id": "SZ1OwACNVpba"
      },
      "source": [
        "### 이곳에서 과제를 진행해 주세요 ### "
      ],
      "execution_count": null,
      "outputs": []
    },
    {
      "cell_type": "markdown",
      "metadata": {
        "id": "TfYxUpU8Vpbb"
      },
      "source": [
        "### 4) tfidfVectorizer를 이용해 각 문서들을 벡터화 한 후, K-NN 모델을 만들고 내가 원하는 `job description`을 질의해 가장 가까운 검색 결과들을 가져오고 분석합니다.\n",
        "\n",
        "- 문항 4) 88번 index를 기준으로 5개의 가장 가까운 후보들을 입력하시오"
      ]
    },
    {
      "cell_type": "code",
      "metadata": {
        "id": "zWRTlMZEVpbb"
      },
      "source": [
        "### 이곳에서 과제를 진행해 주세요 ### "
      ],
      "execution_count": null,
      "outputs": []
    },
    {
      "cell_type": "markdown",
      "metadata": {
        "id": "_jUmUmvBg84O"
      },
      "source": [
        "### 5) LSA방법을 사용하여 문제를 해결해보시오. \n",
        "\n",
        "- 문항 5) ...에 넣어서 사용했던 3가지 모델을 입력하세요. \n",
        "``` \n",
        "vect = ...\n",
        "svd = ...\n",
        "clf = ...\n",
        "pipe = Pipeline([\n",
        "    ('vect', vect)\n",
        "    , ('svd', svd)\n",
        "    , ('clf', rfc)\n",
        "])\n",
        "```\n"
      ]
    },
    {
      "cell_type": "markdown",
      "metadata": {
        "id": "MYgEiBJEVpbb"
      },
      "source": [
        "## 도전과제\n",
        "\n",
        "### 1) 다음의 데이터 셋을 이용하여 파이프라인을 제작하여  수행해 보시오. \n",
        "\n",
        "```\n",
        "train = pd.read_csv('https://ds-lecture-data.s3.ap-northeast-2.amazonaws.com/whisky/train.csv')\n",
        "```\n",
        "\n",
        "- 데이터 불러오기\n",
        "- 카테고리별 데이터 확인\n",
        "- 파이프라인 구성\n",
        "- 하이퍼 파라미터 설정\n",
        "- 정답률 70% 이상을 달성\n"
      ]
    },
    {
      "cell_type": "code",
      "metadata": {
        "id": "b38mM_AlVpbb"
      },
      "source": [
        "### 이곳에서 과제를 진행해 주세요 ### "
      ],
      "execution_count": null,
      "outputs": []
    },
    {
      "cell_type": "markdown",
      "metadata": {
        "id": "EOxzZFZwVpbb"
      },
      "source": [
        "### 2) Spacy 임베딩을 사용해서 기본과제 - 4번을 수행하고 결과를 비교하시오."
      ]
    },
    {
      "cell_type": "code",
      "metadata": {
        "id": "M48wnR5bVpbc"
      },
      "source": [
        ""
      ],
      "execution_count": null,
      "outputs": []
    }
  ]
}