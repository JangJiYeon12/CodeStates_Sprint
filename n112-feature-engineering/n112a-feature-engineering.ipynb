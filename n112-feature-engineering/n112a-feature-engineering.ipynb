{
  "nbformat": 4,
  "nbformat_minor": 0,
  "metadata": {
    "colab": {
      "name": "n112a-feature-engineering.ipynb",
      "provenance": [],
      "collapsed_sections": [],
      "toc_visible": true,
      "include_colab_link": true
    },
    "kernelspec": {
      "display_name": "Python 3",
      "language": "python",
      "name": "python3"
    },
    "language_info": {
      "codemirror_mode": {
        "name": "ipython",
        "version": 3
      },
      "file_extension": ".py",
      "mimetype": "text/x-python",
      "name": "python",
      "nbconvert_exporter": "python",
      "pygments_lexer": "ipython3",
      "version": "3.8.5"
    }
  },
  "cells": [
    {
      "cell_type": "markdown",
      "metadata": {
        "id": "view-in-github",
        "colab_type": "text"
      },
      "source": [
        "<a href=\"https://colab.research.google.com/github/codestates/ds-cs-section1-sprint1/blob/master/n112-feature-engineering/n112a-feature-engineering.ipynb\" target=\"_parent\"><img src=\"https://colab.research.google.com/assets/colab-badge.svg\" alt=\"Open In Colab\"/></a>"
      ]
    },
    {
      "cell_type": "markdown",
      "metadata": {
        "id": "SnDJqBLi0FYW"
      },
      "source": [
        "<img src='https://user-images.githubusercontent.com/6457691/89746244-a6e2a200-daf3-11ea-9314-7863d544d73c.png' width = '200' align = 'right'>\n",
        "\n",
        "## *DATA SCIENCE / SECTION 1 / SPRINT 1 / NOTE 2*\n",
        "\n",
        "# 📝 Assignment\n"
      ]
    },
    {
      "cell_type": "markdown",
      "metadata": {
        "id": "W5GjI1z5yNG4"
      },
      "source": [
        "## 1. Feature Engineering\n",
        "\n",
        "- `KT&G` 기업 데이터를 계속 사용합니다.\n",
        "\n",
        "- 각 분기별 영업이익률을 직접 계산해보세요. \n",
        "\n",
        "- 18/19년도에 대해서 Price to Dream Ratio (PDR)을 계산하세요. 단 여기서 점유율은 일반담배 기준이며 18년:62%, 19년 63.5% 로 계산합니다. 시장의 규모는 18년 15조, 19년 16조 라고 가정합니다. \n",
        "\n",
        "참조 : \n",
        "<http://it.chosun.com/site/data/html_dir/2020/02/13/2020021302434.html>\n"
      ]
    },
    {
      "cell_type": "code",
      "metadata": {
        "id": "AazB4eFwym2p"
      },
      "source": [
        ""
      ],
      "execution_count": null,
      "outputs": []
    },
    {
      "cell_type": "markdown",
      "metadata": {
        "id": "XBtwwrzAnKzk"
      },
      "source": [
        "## 2. String Manipulation\n",
        "\n",
        "- replace가 아닌 다른 방법을 사용하여 19년도 2분기의 매출액 을 integer로 변경하세요. 결과값은 12578이 나와야합니다.\n"
      ]
    },
    {
      "cell_type": "code",
      "metadata": {
        "id": "9-sR5inqnM0L"
      },
      "source": [
        ""
      ],
      "execution_count": null,
      "outputs": []
    },
    {
      "cell_type": "markdown",
      "metadata": {
        "id": "357MIyg6nNWj"
      },
      "source": [
        "## 3. Apply\n",
        "- 데이터셋의 분기를 제외한 모든 부분에 대해서 `describe`를 통해 summary statistics 를 확인하세요.\n",
        "- 단 결측치는 0으로 처리합니다."
      ]
    },
    {
      "cell_type": "code",
      "metadata": {
        "id": "3v6U2IEGqEQ0"
      },
      "source": [
        ""
      ],
      "execution_count": null,
      "outputs": []
    },
    {
      "cell_type": "markdown",
      "metadata": {
        "id": "L8k0LiHmo5EU"
      },
      "source": [
        "## 🔥 도전과제\n",
        "\n"
      ]
    },
    {
      "cell_type": "markdown",
      "metadata": {
        "id": "sm0x-1HEoss0"
      },
      "source": [
        "### NA Value Handling\n",
        "\n",
        "- 19년도 4분기의 당기순이익(비지배) 부분을 Na로 대체하세요\n",
        "- 이후 해당 결측치를 mean imputation 방법을 사용하여 처리하세요.\n",
        "\n"
      ]
    },
    {
      "cell_type": "code",
      "metadata": {
        "id": "B2GsUS0HosSD"
      },
      "source": [
        ""
      ],
      "execution_count": null,
      "outputs": []
    },
    {
      "cell_type": "markdown",
      "metadata": {
        "id": "x8gq5wkdotTj"
      },
      "source": [
        "### Feature Engineering\n",
        "\n",
        "Relative Perfomance 라는 새로운 feature를 계산하세요.\n",
        "\n",
        "이는 최근 1년치 매출액의 평균값을 기준으로 \n",
        "\n",
        "- 10% 이상 -> `S`\n",
        "- 5% 이상 -> `A`\n",
        "- -5 ~ 5% -> `B`\n",
        "- -5%이하 -> `C`\n",
        "- 10%이하 -> `D`\n",
        "\n",
        "라는 값을 갖는 feature입니다.\n",
        "\n",
        "20년도 2분기에 해당하는 결과값은 `A`가 나와야합니다.\n",
        "\n",
        "각각에 해당하는 등급이 나오기 위해서 필요한 매출액을 추가로 서술하세요."
      ]
    },
    {
      "cell_type": "code",
      "metadata": {
        "id": "JqoaRyQjpaRm"
      },
      "source": [
        ""
      ],
      "execution_count": null,
      "outputs": []
    }
  ]
}