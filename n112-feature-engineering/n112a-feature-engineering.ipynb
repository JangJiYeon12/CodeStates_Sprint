{
 "cells": [
  {
   "cell_type": "markdown",
   "metadata": {
    "colab_type": "text",
    "id": "SnDJqBLi0FYW"
   },
   "source": [
    "<img src='https://user-images.githubusercontent.com/6457691/89746244-a6e2a200-daf3-11ea-9314-7863d544d73c.png' width = '200' align = 'right'>\n",
    "\n",
    "## *DATA SCIENCE / SECTION 1 / SPRINT 1 / NOTE 2*\n",
    "\n",
    "# 📝 Assignment\n",
    "\n",
    "# Feature Engineering"
   ]
  },
  {
   "cell_type": "markdown",
   "metadata": {
    "colab_type": "text",
    "id": "W5GjI1z5yNG4"
   },
   "source": [
    "- 강의의 코드를 따라해보세요.\n",
    "\n",
    "- 즉, 여러분이 수업 가운데에 놓친 부분이 있다면 코드를 직접 입력해보면서 따라하시길 바랍니다. \n",
    "\n",
    "- 여러분의 머리만큼이나 손가락이 코드를 기억하게 하는 것이 목적 중 하나 입니다. 실행하는 코드를 완전히 이해 할 수 있도록 하며, 어려운 부분이 있다면 구글링이나 help desk를 통해서 스스로 작성한 코드의 작동방식을 이해해야만 합니다.\n",
    "- `term`이라는 열을 문자열에서 정수형으로 변환하세요.\n",
    "- `loan_status_is_great`이라는 열을 생성하세요. 해당 데이터는 `loan_status`의 값이 \"Current\" 혹은 \"Fully Paid\" 이면 1을 그 외의 경우는 0을 값으로 가져야 합니다. \n",
    "- `last_pymnt_d_month` 와 `last_pymnt_d_year` 라는 열을 생성하세요."
   ]
  },
  {
   "cell_type": "code",
   "execution_count": 1,
   "metadata": {
    "colab": {},
    "colab_type": "code",
    "id": "AazB4eFwym2p"
   },
   "outputs": [],
   "source": [
    "# 코드를 작성하세요"
   ]
  },
  {
   "cell_type": "markdown",
   "metadata": {
    "colab_type": "text",
    "id": "L8k0LiHmo5EU"
   },
   "source": [
    "# 🔥 추가 목표\n",
    "\n",
    "LendingClub 이나 Instacart 데이터셋을 사용합니다.\n",
    "\n",
    "LendingClub 데이터셋:\n",
    "- `%` 문자를 갖는 다른 열을 찾아, `%`를 제거하고 실수형태로 바꾸세요. 결측치 또한 추가로 작업을 해야 합니다.\n",
    "- `emp_title`열을 수정하여 상위 20개 항목에 들지 못한 값을 `Other`로 치환하세요.\n",
    "- 이 외에 각자의 아이디어를 바탕으로 작업해보세요!\n",
    "\n",
    "Instacart 데이터셋:\n",
    "- [Instacart Market Basket Analysis, Winner's Interview: 2nd place, Kazuki Onodera](http://blog.kaggle.com/2017/09/21/instacart-market-basket-analysis-winners-interview-2nd-place-kazuki-onodera/) 문서를 읽습니다, 특별히 **Feature Engineering** 섹션을 주의하여야 합니다. (여러개의 제시된 피쳐중에서 한개를 선택하여 pandas를 이용하여 작업해보면 좋습니다.\n",
    "- [Simple Exploration Notebook - Instacart](https://www.kaggle.com/sudalairajkumar/simple-exploration-notebook-instacart) 문서를 읽습니다. (Kaggle 대회에서 가장 좋은 평가를 받은 Python Notebook 입니다.)\n",
    "- 이 외에 각자의 아이디어를 바탕으로 작업해보세요!"
   ]
  },
  {
   "cell_type": "markdown",
   "metadata": {
    "colab_type": "text",
    "id": "0_7PXF7lpEXg"
   },
   "source": [
    "Instacart 데이터의 사용을 위해서, 아래의 코드를 사용할 수 있습니다."
   ]
  },
  {
   "cell_type": "code",
   "execution_count": null,
   "metadata": {
    "colab": {},
    "colab_type": "code",
    "id": "urIePNa0yNG6"
   },
   "outputs": [],
   "source": [
    "# !wget https://s3.amazonaws.com/instacart-datasets/instacart_online_grocery_shopping_2017_05_01.tar.gz"
   ]
  },
  {
   "cell_type": "code",
   "execution_count": null,
   "metadata": {
    "colab": {},
    "colab_type": "code",
    "id": "X9zEyu-uyNG8"
   },
   "outputs": [],
   "source": [
    "# !tar --gunzip --extract --verbose --file=instacart_online_grocery_shopping_2017_05_01.tar.gz"
   ]
  },
  {
   "cell_type": "code",
   "execution_count": null,
   "metadata": {
    "colab": {},
    "colab_type": "code",
    "id": "Y3IqrhlpyNG-"
   },
   "outputs": [],
   "source": [
    "# %cd instacart_2017_05_01"
   ]
  }
 ],
 "metadata": {
  "colab": {
   "collapsed_sections": [],
   "name": "n112a-feature-engineering.ipynb",
   "provenance": []
  },
  "kernelspec": {
   "display_name": "Python 3",
   "language": "python",
   "name": "python3"
  },
  "language_info": {
   "codemirror_mode": {
    "name": "ipython",
    "version": 3
   },
   "file_extension": ".py",
   "mimetype": "text/x-python",
   "name": "python",
   "nbconvert_exporter": "python",
   "pygments_lexer": "ipython3",
   "version": "3.8.5"
  }
 },
 "nbformat": 4,
 "nbformat_minor": 4
}
