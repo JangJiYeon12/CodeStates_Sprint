{
 "cells": [
  {
   "cell_type": "markdown",
   "metadata": {
    "colab_type": "text",
    "id": "7fknoKxGz_jk"
   },
   "source": [
    "<img src='https://i.imgur.com/RDAD11M.png' width = '200' align = 'right'>\n",
    "\n",
    "## *DATA SCIENCE / SECTION 1 / SPRINT 1 / NOTE 2*\n",
    "\n",
    "---\n",
    "\n",
    "# Feature Engineering\n",
    "\n",
    "## 🏆 학습 목표 \n",
    "\n",
    "- Feature Engineering 의 목적을 이해 할 수 있다.\n",
    "- pandas를 통해 문자열(string)을 다룰 수 있다.\n",
    "- pandas를 통해 날짜와 시간 (date, time)을 다룰 수 있다.\n",
    "- 데이터프레임에 `.apply()`를 사용하여 행을 수정하거나 새로 작업 할 수 있다.\n",
    "\n",
    "---"
   ]
  },
  {
   "cell_type": "markdown",
   "metadata": {
    "colab_type": "text",
    "id": "MGHzNUcT30ui"
   },
   "source": [
    "## Feature Engineering이란\n",
    "\n",
    "Feature Engineering 은 도메인 지식과 창의성을 바탕으로, 데이터셋에 존재하는 항목들을 재조합하여 새로운 데이터를 만드는 것입니다. \n",
    "\n",
    "머신러닝 모델들은 데이터에 있는 패턴을 인식하고, 해당 패턴들을 바탕으로 예측을 합니다. \n",
    "\n",
    "즉 모델의 더 좋은 예측을 위해서 데이터를 바탕으로 새로운 패턴을 제공하는 것이 궁극적인 목적입니다.\n",
    "\n",
    "오늘 연습할 내용들은 이를 위해 상당히 중요한, Pandas를 사용하여 데이터프레임에 있는 열(column)을 다루는 것입니다."
   ]
  },
  {
   "cell_type": "markdown",
   "metadata": {
    "colab_type": "text",
    "id": "i6vOmj_i35ef"
   },
   "source": [
    "데이터프레임의 각 열은 특정한 타입의 데이터를 포함하고 있습니다. \n",
    "\n",
    "일반적으로 쓰이는 데이터 타입을 알아보고, 주어진 데이터를 바탕으로 새로운 피처를 생성해 보도록합시다. \n",
    "\n",
    "## ❓ 데이터프레임이란\n",
    "\n",
    "<img src='https://user-images.githubusercontent.com/6457691/90101634-094cd400-dd7a-11ea-8202-fff28721ba47.png' width = 600>"
   ]
  },
  {
   "cell_type": "markdown",
   "metadata": {
    "colab": {},
    "colab_type": "code",
    "id": "Ua6VURnC9Cny"
   },
   "source": [
    "# Ames Iowa Housing 데이터셋:\n",
    "\n",
    "<https://www.kaggle.com/c/house-prices-advanced-regression-techniques/data>"
   ]
  },
  {
   "cell_type": "code",
   "execution_count": null,
   "metadata": {
    "colab": {},
    "colab_type": "code",
    "id": "p_Y05YBr32O-"
   },
   "outputs": [],
   "source": [
    "import pandas as pd\n",
    "\n",
    "df = pd.read_csv('https://ds-lecture-data.s3.ap-northeast-2.amazonaws.com/house-prices/house_prices_train.csv')\n",
    "\n",
    "print(df.shape)\n",
    "print(df.head())\n",
    "print(df.tail())\n"
   ]
  },
  {
   "cell_type": "markdown",
   "metadata": {
    "colab_type": "text",
    "id": "0QmscJ7n9OSB"
   },
   "source": [
    "### 각 열마다 특정한 타입의 데이터를 포함하고 있습니다. "
   ]
  },
  {
   "cell_type": "code",
   "execution_count": null,
   "metadata": {
    "colab": {},
    "colab_type": "code",
    "id": "M8rsw3zl9S3v"
   },
   "outputs": [],
   "source": [
    "pd.set_option('display.max_rows',10)\n",
    "\n",
    "df.dtypes"
   ]
  },
  {
   "cell_type": "markdown",
   "metadata": {
    "colab_type": "text",
    "id": "znph8qpr9q29"
   },
   "source": [
    "`BedroomAbvGr` (Bedrooms Above Grade, 집 내부 지상층의 침실 수) 열은 정수형(Integer) 값을 포함하고 있습니다. \n",
    "\n",
    "각 열의 데이터가 의미하는 바를 알아보기 위해서는 Data Description 부분을 참조하면 좋습니다. "
   ]
  },
  {
   "cell_type": "code",
   "execution_count": null,
   "metadata": {
    "colab": {},
    "colab_type": "code",
    "id": "zl-wfFZv-_fo"
   },
   "outputs": [],
   "source": [
    "# `BedroomAbvGr`의 첫 10개 데이터\n",
    "df['BedroomAbvGr'].head(10)"
   ]
  },
  {
   "cell_type": "markdown",
   "metadata": {
    "colab_type": "text",
    "id": "JyfxM5tc_Q1w"
   },
   "source": [
    "`LotFrontage` 열은 실수형(Float) 값을 포함하고 있습니다. "
   ]
  },
  {
   "cell_type": "code",
   "execution_count": null,
   "metadata": {
    "colab": {},
    "colab_type": "code",
    "id": "pdILA65r_PeY"
   },
   "outputs": [],
   "source": [
    "# `LotFrontage` 열의 첫 10개 데이터를 확인해보세요.\n",
    "df['LotFrontage'].head(10)"
   ]
  },
  {
   "cell_type": "markdown",
   "metadata": {
    "colab_type": "text",
    "id": "yfvyHa9IfGi9"
   },
   "source": [
    "값들이 \"진짜\" 실수형 값인가요?\n",
    "\n",
    "대부분의 값들이 .0 으로 끝나고 있어서 이론적으로는 실수값이 맞지만, 실수형태로 *저장*되어야 할 이유가 있나요?\n",
    "\n",
    "해당 열에 포함되어있는 가능한 값들을 확인해 보도록 하겠습니다. "
   ]
  },
  {
   "cell_type": "code",
   "execution_count": null,
   "metadata": {
    "colab": {},
    "colab_type": "code",
    "id": "MDLnz1CX_eGc"
   },
   "outputs": [],
   "source": [
    "df['LotFrontage'].value_counts(dropna = False)"
   ]
  },
  {
   "cell_type": "markdown",
   "metadata": {
    "colab_type": "text",
    "id": "1IaYU5QzAfgn"
   },
   "source": [
    "결과를 보면, `LotFrontage` 열은 원래 정수형 값이지만, `NaN`으로 인해서 어쩔 수 없이 실수형으로 **형변환** 된 것으로 확인 됩니다. "
   ]
  },
  {
   "cell_type": "markdown",
   "metadata": {
    "colab_type": "text",
    "id": "cJNKPLl_BQh7"
   },
   "source": [
    "`NaN` 이란 \"Not a Number\"를 의미하는 것으로, Pandas에서 결측치를 취급하는 기본값입니다. \n",
    "\n",
    "즉 해당 셀들의 경우 LotFrontage 값이 존재 하지 않기 때문에 NaN이 기록되었다는 것을 의미합니다. \n",
    "\n",
    "이 경우가 바로 도메인 지식이 필요한 예시가 되는데, 주택에 관해서 배경지식을 가지고 있다면, \n",
    "\n",
    "`연결된 도로까지의 거리` (Linear feet of street connected to property)가 이 주택 데이터셋에서 null 혹은 비어있는 경우 어떻게 처리 해야 할까요?\n",
    "\n",
    "또 \"NaN\" 혹은 \"NA\", \"Not Applicable\" 중 어떤 값으로 정하는지도 고민해봐야할 문제입니다.\n",
    "\n",
    "그러나 한가지 기억해야할 중요한 문제는 pandas로 다루기 쉽게 한가지 형태로 결측치를 통일해야 한다는 것입니다. "
   ]
  },
  {
   "cell_type": "code",
   "execution_count": null,
   "metadata": {
    "colab": {},
    "colab_type": "code",
    "id": "2166y9kXB0zZ"
   },
   "outputs": [],
   "source": [
    "import numpy as np\n",
    "\n",
    "# NaN의 데이터 타입\n",
    "type(np.NaN)"
   ]
  },
  {
   "cell_type": "markdown",
   "metadata": {
    "colab_type": "text",
    "id": "37ZaBu5OB63d"
   },
   "source": [
    "`NaN` 자체의 데이터타입은 `float`입니다. 즉 앞서 확인한 것 처럼 integer 값을 가지고 있는 열의 경우, 단 1개의 `NaN`값으로 인해 열 전체가 float로 처리된다는 것을 의미합니다. "
   ]
  },
  {
   "cell_type": "markdown",
   "metadata": {
    "colab_type": "text",
    "id": "Ko_yfcFqg0pj"
   },
   "source": [
    "### 새 피쳐 생성\n",
    "\n",
    "데이터셋의 일부를 조금 집중해서 보도록 합시다:\n",
    "\n",
    "- `TotalBsmtSF`\n",
    "- `1stFlrSF`\n",
    "- `2ndFlrSF`\n",
    "- `SalePrice1`\n",
    "\n",
    "\n",
    "<img src='https://i.imgur.com/5kbk3yJ.png' width = '500'>"
   ]
  },
  {
   "cell_type": "code",
   "execution_count": null,
   "metadata": {
    "colab": {},
    "colab_type": "code",
    "id": "_GxPTgevhWnv"
   },
   "outputs": [],
   "source": [
    "# 위의 항목을 바탕으로 **작은** 데이터 프레임을 생성합니다. \n",
    "# 이는 각 column의 헤더 이름을 사용하여 할 수 있습니다. \n",
    "small_df = df[['TotalBsmtSF','1stFlrSF','2ndFlrSF','SalePrice']].copy()\n",
    "\n",
    "small_df.head()"
   ]
  },
  {
   "cell_type": "markdown",
   "metadata": {
    "colab_type": "text",
    "id": "Tw0PzxkbiQmm"
   },
   "source": [
    "### 새로운 열을 생성하는 방법 \n",
    "\n",
    "데이터프레임에서 새로운 열을 생성할때, `[ ]`를 사용하여 열에 접근합니다. (`.` 는 불가능) "
   ]
  },
  {
   "cell_type": "code",
   "execution_count": null,
   "metadata": {
    "colab": {},
    "colab_type": "code",
    "id": "NkXHP57_iJ-U"
   },
   "outputs": [],
   "source": [
    "# 앞의 3면적 feature의 합을 새롭게 정의 하도록 합시다. \n",
    "\n",
    "# [ ] 를 사용하여 새 'TotalSquareFootage' 열을 생성하세요.\n",
    "\n",
    "small_df['TotalSquareFootage'] = small_df['TotalBsmtSF'] + small_df['1stFlrSF'] + small_df['2ndFlrSF']\n",
    "\n",
    "small_df.head()"
   ]
  },
  {
   "cell_type": "code",
   "execution_count": null,
   "metadata": {
    "colab": {},
    "colab_type": "code",
    "id": "fEy-6VQCi08c"
   },
   "outputs": [],
   "source": [
    "# 이번에는 'PricePerSqFt' 라는 열을 새로 만들어보도록 하겠습니다. \n",
    "# 앞서 구한 총합을 SalePrice로 나누어 구하면 됩니다 .\n",
    "\n",
    "small_df['PricePerSqFt'] = (small_df['SalePrice'] / small_df['TotalSquareFootage'])"
   ]
  },
  {
   "cell_type": "markdown",
   "metadata": {
    "colab_type": "text",
    "id": "nJ-GGFwKkPjF"
   },
   "source": [
    "이제 우리는 **작은** 데이터셋을 기준으로 새로운 2개의 피처를 생성하는데 성공했습니다. \n",
    "\n",
    "- **높은** `PricePerSqFt` 값이 의미하는 바에 대해서 설명 할 수 있나요?\n",
    "\n",
    "- 반대로 **낮은** `PricePerSqFt` 값을 갖는 주택은 어떠한 의미를 가지고 있나요? "
   ]
  },
  {
   "cell_type": "markdown",
   "metadata": {
    "colab_type": "text",
    "id": "sKnLv6nGmU8N"
   },
   "source": [
    "# Pandas로 문자열 작업"
   ]
  },
  {
   "cell_type": "markdown",
   "metadata": {
    "colab_type": "text",
    "id": "dqd_Lpb9ntwT"
   },
   "source": [
    "## 개요\n",
    "\n",
    "여태까지는 숫자형 (Numeric, int, float) 데이터를 작업했습니다. 이번에는 문자열(string)을 다루는 방법에 대해서 배워보겠습니다."
   ]
  },
  {
   "cell_type": "markdown",
   "metadata": {
    "colab_type": "text",
    "id": "c6UBXPhQnxzj"
   },
   "source": [
    "먼저 새로운 데이터셋을 불러오도록 합니다. 이 데이터셋은 LendingClub의 2018년 4분기에 이뤄진 대출과 관련한 데이터셋입니다. 데이터 자체가 **깔끔**하진 않기 때문에 정리를 포함하여 여러 작업을 연습 하게 될 것입니다. \n",
    "\n",
    "쉘의 `!wget` 명령어는 크롬과 같은 브라우저 주소창에 URL을 입력하는 것과 동일한 역할을 합니다. 즉 해당 주소의 파일을 **요청**하는데, 이번 경우에는 웹페이지가 아니라 압축된 CSV파일 이라는것에 주의하셔야합니다. \n",
    "\n",
    "아래의 URL을 브라우저에 붙여넣으면 자동으로 다운로드를 할 것이며 작업중인 노트북에서 `!wget` 을 사용하면 메모리에 바로 할당이 가능합니다."
   ]
  },
  {
   "cell_type": "markdown",
   "metadata": {
    "colab_type": "text",
    "id": "r1SkaCMTsCyT"
   },
   "source": [
    "### 데이터셋 불러오기"
   ]
  },
  {
   "cell_type": "code",
   "execution_count": null,
   "metadata": {
    "colab": {},
    "colab_type": "code",
    "id": "MeEKWHB0n2fq"
   },
   "outputs": [],
   "source": [
    "# !wget https://resources.lendingclub.com/LoanStats_2018Q4.csv.zip"
   ]
  },
  {
   "cell_type": "markdown",
   "metadata": {
    "colab_type": "text",
    "id": "TqUSbgIJqAB8"
   },
   "source": [
    "`!unzip` 명령어를 사용하여 압축을 풀어 csv를 다뤄야 합니다. "
   ]
  },
  {
   "cell_type": "code",
   "execution_count": null,
   "metadata": {
    "colab": {},
    "colab_type": "code",
    "id": "Mbw0l5wyqLeI"
   },
   "outputs": [],
   "source": [
    "# !unzip LoanStats_2018Q4.csv.zip"
   ]
  },
  {
   "cell_type": "markdown",
   "metadata": {
    "colab_type": "text",
    "id": "ZPB0-7F_qNFT"
   },
   "source": [
    "쉘에서도 마찬가지로 `!head` 와 `!tail`을 사용하여 원본파일을 간단히 확인 해볼 수 있습니다."
   ]
  },
  {
   "cell_type": "code",
   "execution_count": null,
   "metadata": {
    "colab": {},
    "colab_type": "code",
    "id": "ZcWpsAmFqTF4"
   },
   "outputs": [],
   "source": [
    "!head LoanStats_2018Q4.csv"
   ]
  },
  {
   "cell_type": "code",
   "execution_count": null,
   "metadata": {
    "colab": {},
    "colab_type": "code",
    "id": "t-uPShUxqa9O"
   },
   "outputs": [],
   "source": [
    "!tail LoanStats_2018Q4.csv"
   ]
  },
  {
   "cell_type": "markdown",
   "metadata": {
    "colab_type": "text",
    "id": "C_bEBsHTqduT"
   },
   "source": [
    "파일을 확인 했을 때, 데이터프레임으로 csv를 불러올때에 문제를 일으킬 만한 부분이 있는지 확인하십시오. "
   ]
  },
  {
   "cell_type": "code",
   "execution_count": null,
   "metadata": {
    "colab": {},
    "colab_type": "code",
    "id": "ikpjHKeiqlWp",
    "scrolled": true
   },
   "outputs": [],
   "source": [
    "# CSV로 불러오기\n",
    "df = pd.read_csv('LoanStats_2018Q4.csv', low_memory = False)\n",
    "\n",
    "print(df.shape)\n",
    "df.head()"
   ]
  },
  {
   "cell_type": "markdown",
   "metadata": {
    "colab_type": "text",
    "id": "wvqwNrQlq5fr"
   },
   "source": [
    "두가지 문제가 다음 이유로 인해 발생합니다: \n",
    "\n",
    "1) 처음의 빈 부분은 column의 헤더를 지정하지 않았기 떄문에 생깁니다. \n",
    "2) 맨 마지막의 두 빈 줄은 footer를 지정하지 않았기 때문에 생깁니다. "
   ]
  },
  {
   "cell_type": "code",
   "execution_count": null,
   "metadata": {
    "colab": {},
    "colab_type": "code",
    "id": "PKM5P0RzrLh8"
   },
   "outputs": [],
   "source": [
    "# 1)번 문제는 'skiprows' 파라미터를 이용하여 수정 할 수 있습니다.\n",
    "df = pd.read_csv('LoanStats_2018Q4.csv', skiprows = 1, low_memory = False)\n",
    "\n",
    "print(df.shape)\n",
    "df.head()"
   ]
  },
  {
   "cell_type": "markdown",
   "metadata": {
    "colab_type": "text",
    "id": "CuLO7bhTrY0z"
   },
   "source": [
    "각 열의 NaN값을 확인 하면 마지막 두 줄이 전부 비어있다는 것을 확인 할 수 있습니다."
   ]
  },
  {
   "cell_type": "code",
   "execution_count": null,
   "metadata": {
    "colab": {},
    "colab_type": "code",
    "id": "12OtVOd9rdb-"
   },
   "outputs": [],
   "source": [
    "# 각 열 별로 null의 수를 세어 정렬합니다. \n",
    "df.isnull().sum().sort_values()"
   ]
  },
  {
   "cell_type": "code",
   "execution_count": null,
   "metadata": {
    "colab": {},
    "colab_type": "code",
    "id": "4793LweyroFI"
   },
   "outputs": [],
   "source": [
    "# 2) 번 문제는 skipfooter 파라미터를 이용하여 수정 할 수 있습니다. \n",
    "df = pd.read_csv('LoanStats_2018Q4.csv', skiprows = 1, skipfooter = 2, engine = 'python')\n",
    "print(df.shape)\n",
    "df.head()"
   ]
  },
  {
   "cell_type": "code",
   "execution_count": null,
   "metadata": {
    "colab": {},
    "colab_type": "code",
    "id": "P7w8iGhyr0Bu"
   },
   "outputs": [],
   "source": [
    "df.isnull().sum().sort_values()"
   ]
  },
  {
   "cell_type": "markdown",
   "metadata": {
    "colab_type": "text",
    "id": "XzPuC7jUstVF"
   },
   "source": [
    "조금 더 나은 작업을 위해, 모든 값이 NaN으로 이루어진 열들을 제거하도록 하겠습니다. \n",
    "\n",
    "LendingClub에서 전부 비어있는 항목을 데이터셋에 추가한 이유를 한번 고민해보시면 좋을 것 같습니다."
   ]
  },
  {
   "cell_type": "code",
   "execution_count": null,
   "metadata": {
    "colab": {},
    "colab_type": "code",
    "id": "HubXTHZ3sj6n"
   },
   "outputs": [],
   "source": [
    "df = df.drop(['url','member_id','desc','id'], axis = 1)\n",
    "print(df.shape)\n",
    "df.head()"
   ]
  },
  {
   "cell_type": "markdown",
   "metadata": {
    "colab_type": "text",
    "id": "87lzDxnCr_6j"
   },
   "source": [
    "### `int_rate` 열 정리\n",
    "\n",
    "일반적으로 머신러닝 모델링을 위한 데이터셋에서는 문자열로 이루어진 값은 사용하지 않습니다. (이는 매우 복잡한 이슈입니다.)\n",
    "\n",
    "구체적인 예시로, `int_rate` 항목을 통해 숫자이지만 숫자로 구성되지 않은 예시를 알아보도록 하겠습니다. 처음 10개의 값을 확인해보세요."
   ]
  },
  {
   "cell_type": "code",
   "execution_count": null,
   "metadata": {
    "colab": {},
    "colab_type": "code",
    "id": "wQRxQs3-tnup"
   },
   "outputs": [],
   "source": [
    "# int_rate의 첫 10개 값을 확인합니다.\n",
    "df['int_rate'][:10]"
   ]
  },
  {
   "cell_type": "markdown",
   "metadata": {
    "colab_type": "text",
    "id": "umnBqFa0t22W"
   },
   "source": [
    "이 항목에서 해결해야할 이슈는 다음과 같습니다:\n",
    "\n",
    "- 숫자로 바뀌어야할 문자열이 존재함\n",
    "- `%` 가 숫자에 같이 포함되어 있음\n",
    "- 문자열의 처음에 공백이 포함되어 있음\n",
    "\n",
    "<img src='https://user-images.githubusercontent.com/6457691/90108851-e1fc0400-dd85-11ea-8db0-eabd587f98f8.png' width = 400>\n",
    "\n",
    "이 문제들을 한번에 해결하기 보단 한단계씩 접근하도록 하겠습니다.\n",
    "\n",
    "[python strip](https://www.w3schools.com/python/ref_string_strip.asp)"
   ]
  },
  {
   "cell_type": "code",
   "execution_count": null,
   "metadata": {
    "colab": {},
    "colab_type": "code",
    "id": "qveVttHSuVlh"
   },
   "outputs": [],
   "source": [
    "# 한개의 문자열 수정을 연습하도록 합니다.\n",
    "int_rate = ' 14.17%' # 공백 과 % 에 주의하세요"
   ]
  },
  {
   "cell_type": "code",
   "execution_count": null,
   "metadata": {
    "colab": {},
    "colab_type": "code",
    "id": "hfFY8nGluouN"
   },
   "outputs": [],
   "source": [
    "int_rate.strip()"
   ]
  },
  {
   "cell_type": "code",
   "execution_count": null,
   "metadata": {
    "colab": {},
    "colab_type": "code",
    "id": "o3bRlDUbus9m"
   },
   "outputs": [],
   "source": [
    "int_rate.strip('%')"
   ]
  },
  {
   "cell_type": "code",
   "execution_count": null,
   "metadata": {
    "colab": {},
    "colab_type": "code",
    "id": "KA-FB2WEuvZr"
   },
   "outputs": [],
   "source": [
    "int_rate.strip().strip('%')"
   ]
  },
  {
   "cell_type": "code",
   "execution_count": null,
   "metadata": {
    "colab": {},
    "colab_type": "code",
    "id": "cjhHPbDtuxtU"
   },
   "outputs": [],
   "source": [
    "type(int_rate.strip().strip('%'))"
   ]
  },
  {
   "cell_type": "code",
   "execution_count": null,
   "metadata": {
    "colab": {},
    "colab_type": "code",
    "id": "SJd71Boou40s"
   },
   "outputs": [],
   "source": [
    "# 문자열을 실수형으로 \"형변환\" (\"Cast\")합니다.\n",
    "float(int_rate.strip().strip('%'))"
   ]
  },
  {
   "cell_type": "code",
   "execution_count": null,
   "metadata": {
    "colab": {},
    "colab_type": "code",
    "id": "kcqneHUmvCs6"
   },
   "outputs": [],
   "source": [
    "type(float(int_rate.strip().strip('%')))"
   ]
  },
  {
   "cell_type": "markdown",
   "metadata": {
    "colab_type": "text",
    "id": "S_bTzHIJvc8M"
   },
   "source": [
    "### 이제 여러번 반복 할 수 있는 함수를 만들어보도록 하겠습니다.\n",
    "\n",
    "[python function](https://www.w3schools.com/python/python_functions.asp)"
   ]
  },
  {
   "cell_type": "code",
   "execution_count": null,
   "metadata": {
    "colab": {},
    "colab_type": "code",
    "id": "GYJYsfQZvVcK"
   },
   "outputs": [],
   "source": [
    "# 입력된 문자열에 대해서 같은 작업을 하는 함수 작성\n",
    "def int_rate_to_float(cell_contents):\n",
    "    return float(cell_contents.strip().strip('%'))"
   ]
  },
  {
   "cell_type": "code",
   "execution_count": null,
   "metadata": {
    "colab": {},
    "colab_type": "code",
    "id": "Ng3lQFD8vxQt"
   },
   "outputs": [],
   "source": [
    "# 예시 데이터를 바탕으로 함수를 테스트\n",
    "int_rate_to_float(int_rate)"
   ]
  },
  {
   "cell_type": "code",
   "execution_count": null,
   "metadata": {
    "colab": {},
    "colab_type": "code",
    "id": "7cPxk1W9v2ul"
   },
   "outputs": [],
   "source": [
    "# 데이터 타입을 확인하십시오\n",
    "type(int_rate_to_float(int_rate))"
   ]
  },
  {
   "cell_type": "markdown",
   "metadata": {
    "colab_type": "text",
    "id": "hgxdjRqnv-ZH"
   },
   "source": [
    "### 열의 모든 데이터에 함수를 적용합니다."
   ]
  },
  {
   "cell_type": "code",
   "execution_count": null,
   "metadata": {
    "colab": {},
    "colab_type": "code",
    "id": "eGJmf1IbwE1Q"
   },
   "outputs": [],
   "source": [
    "df['int_rate_float'] = df['int_rate'].apply(int_rate_to_float)\n",
    "\n",
    "df.head()"
   ]
  },
  {
   "cell_type": "code",
   "execution_count": null,
   "metadata": {
    "colab": {},
    "colab_type": "code",
    "id": "hYCez3j5wLWt"
   },
   "outputs": [],
   "source": [
    "# 데이터셋의 마지막 5개 열의 타입을 확인\n",
    "\n",
    "df.dtypes[-5:]"
   ]
  },
  {
   "cell_type": "markdown",
   "metadata": {
    "colab_type": "text",
    "id": "cllyKRVOmZW1"
   },
   "source": [
    "# `.apply()`를 이용하여 열을 수정 및 생성하기"
   ]
  },
  {
   "cell_type": "markdown",
   "metadata": {
    "colab_type": "text",
    "id": "43763DCYnucE"
   },
   "source": [
    "## 개요\n",
    "\n",
    "[pandas apply](https://pandas.pydata.org/pandas-docs/stable/reference/api/pandas.DataFrame.apply.html)\n",
    "\n",
    "이전에 이미 `.apply()`를 사용하여 행의 데이터 정리 하는 예시를 다뤄봤습니다. 이번에는 조금 더 복잡한 과정을 적용하는 연습을 해보도록 하겠습니다. \n",
    "\n",
    "염두해야 할 것은, 이번 주제의 목표는 **개개의** 셀에 대해서 `.apply()`를 통해 적용하는 함수를 작성하는 것입니다. \n",
    "\n",
    "\"Employment Title\" (emp_title) 열을 예시로 연습해보도록 하겠습니다. "
   ]
  },
  {
   "cell_type": "markdown",
   "metadata": {
    "colab_type": "text",
    "id": "mFXxzA7mnyhH"
   },
   "source": [
    "## 따라하세요.\n",
    "\n",
    "우선으로 해야 할 것은, 문제가 무엇이고 그 문제 개선을 위해서 어떤 것을 해야하는지를 인지하는 것입니다. "
   ]
  },
  {
   "cell_type": "code",
   "execution_count": null,
   "metadata": {
    "colab": {},
    "colab_type": "code",
    "id": "XzkCNMOnxl4h"
   },
   "outputs": [],
   "source": [
    "# 상위 20개의 employment titles 확인\n",
    "df['emp_title'].value_counts(dropna=False, ascending=False)[:20]"
   ]
  },
  {
   "cell_type": "code",
   "execution_count": null,
   "metadata": {
    "colab": {},
    "colab_type": "code",
    "id": "ja4Qul02x0Tk"
   },
   "outputs": [],
   "source": [
    "# 얼마나 많은 종류의 항목이 있는지 확인\n",
    "len(df['emp_title'].value_counts())"
   ]
  },
  {
   "cell_type": "code",
   "execution_count": null,
   "metadata": {
    "colab": {},
    "colab_type": "code",
    "id": "q1tC-Otax9R3"
   },
   "outputs": [],
   "source": [
    "# employment_title이 null (NaN) 인 경우 확인\n",
    "df['emp_title'].isnull().sum()"
   ]
  },
  {
   "cell_type": "markdown",
   "metadata": {
    "colab_type": "text",
    "id": "UddpRG2OyDzC"
   },
   "source": [
    "직업이 주어 지지 않는 경우는 어떠한 경우인지 생각해봅시다."
   ]
  },
  {
   "cell_type": "code",
   "execution_count": null,
   "metadata": {
    "colab": {},
    "colab_type": "code",
    "id": "331sx2kVyMwz"
   },
   "outputs": [],
   "source": [
    "# 예시 데이터 생성\n",
    "examples = ['owner', 'Supervisor', 'Project Manager ', np.NaN]\n",
    "\n",
    "# 이번 데이터 정리의 목적은 주어진 직함에 대해서 첫 글자를 대문자로 바꾸는 것입니다. (owner -> Owner)"
   ]
  },
  {
   "cell_type": "code",
   "execution_count": null,
   "metadata": {
    "colab": {},
    "colab_type": "code",
    "id": "yEIPIOUIyUDH"
   },
   "outputs": [],
   "source": [
    "# 함수 작성\n",
    "\n",
    "def clean_title(title):\n",
    "    if isinstance(title, str):\n",
    "        return title.strip().title()\n",
    "    else:\n",
    "        return \"Unknown\"\n",
    "    \n",
    "for example in examples:\n",
    "    print(clean_title(example))"
   ]
  },
  {
   "cell_type": "code",
   "execution_count": null,
   "metadata": {
    "colab": {},
    "colab_type": "code",
    "id": "Sn6jfPUTylvH"
   },
   "outputs": [],
   "source": [
    "# list 표현을 사용하여, list 내부의 아이템에 대해서 함수를 적용 할 수 있습니다.\n",
    "\n",
    "[clean_title(example) for example in examples]"
   ]
  },
  {
   "cell_type": "code",
   "execution_count": null,
   "metadata": {
    "colab": {},
    "colab_type": "code",
    "id": "DNGJgOL4y0y7"
   },
   "outputs": [],
   "source": [
    "# 작동하는 함수를 생성했으니, 주어진 열에 대해서 적용 해보도록 합시다.\n",
    "# 덮어쓰기에 주의하십시오.\n",
    "\n",
    "df['emp_title'] = df['emp_title'].apply(clean_title)\n",
    "df.head()\n"
   ]
  },
  {
   "cell_type": "markdown",
   "metadata": {
    "colab_type": "text",
    "id": "aPm26DvFzQak"
   },
   "source": [
    "함수 적용 후, 앞에서 사용 했던 코드를 통해 잘 적용 되었는지 확인합니다."
   ]
  },
  {
   "cell_type": "code",
   "execution_count": null,
   "metadata": {
    "colab": {},
    "colab_type": "code",
    "id": "SKMEkrbFzGPL"
   },
   "outputs": [],
   "source": [
    "# 상위 20개의 employment titles 확인\n",
    "df['emp_title'].value_counts(dropna = False, ascending = False)[:20]"
   ]
  },
  {
   "cell_type": "code",
   "execution_count": null,
   "metadata": {
    "colab": {},
    "colab_type": "code",
    "id": "eM0oa-10zVCn"
   },
   "outputs": [],
   "source": [
    "# 얼마나 많은 종류의 항목이 있는지 확인\n",
    "len(df['emp_title'].value_counts())"
   ]
  },
  {
   "cell_type": "code",
   "execution_count": null,
   "metadata": {
    "colab": {},
    "colab_type": "code",
    "id": "RKcjoiWgze2x"
   },
   "outputs": [],
   "source": [
    "# employment_title이 null (NaN) 인 경우 확인\n",
    "df['emp_title'].isnull().sum()"
   ]
  },
  {
   "cell_type": "markdown",
   "metadata": {
    "colab_type": "text",
    "id": "m0G8Kv-MmaHh"
   },
   "source": [
    "# Pandas를 통해 날짜, 시간 데이터 다루기"
   ]
  },
  {
   "cell_type": "markdown",
   "metadata": {
    "colab_type": "text",
    "id": "565Xjo-RnvLm"
   },
   "source": [
    "## 개요\n",
    "\n",
    "Pandas 에는 문자열로 이뤄진 날짜와 시간을 다루기 위한 자체적인 데이터 타입이 있습니다. \n",
    "\n",
    "이번 섹션에서는 날짜(문자열)를 datetime 이라는 오브젝트로 바꾸는 방법과 `.dt`라는 형식을 통해서 사용하는 방법을 다루도록 하겠습니다."
   ]
  },
  {
   "cell_type": "markdown",
   "metadata": {
    "colab_type": "text",
    "id": "BoQ86d_R79J6"
   },
   "source": [
    "### 날짜 다루기\n",
    "\n",
    "pandas 메뉴얼\n",
    "- [to_datetime](https://pandas.pydata.org/pandas-docs/stable/generated/pandas.to_datetime.html)\n",
    "- [Time/Date Components](https://pandas.pydata.org/pandas-docs/stable/timeseries.html#time-date-components) \"`.dt` 를 사용하여 해당 속성에 접근 할 수 있습니다.\"\n",
    "\n",
    "많은 경우, 날짜를 다루는 열은 `_d` 라는 단어를 사용해 표기하고 있습니다. \n",
    "\n",
    "이 후 List를 사용하여 출력 하는 것까지 해 보도록 하겠습니다."
   ]
  },
  {
   "cell_type": "code",
   "execution_count": null,
   "metadata": {
    "colab": {},
    "colab_type": "code",
    "id": "SxOhEaEX76mY"
   },
   "outputs": [],
   "source": [
    "[col for col in df if col.endswith('_d')]"
   ]
  },
  {
   "cell_type": "markdown",
   "metadata": {
    "colab_type": "text",
    "id": "7wccaSfx9Zo4"
   },
   "source": [
    "위의 코드는 데이터의 열 가운데 `~~_d` 형태를 갖는 열들을 찾습니다."
   ]
  },
  {
   "cell_type": "code",
   "execution_count": null,
   "metadata": {
    "colab": {},
    "colab_type": "code",
    "id": "BVYeLIOm9dQ-"
   },
   "outputs": [],
   "source": [
    "df['issue_d'][:10]"
   ]
  },
  {
   "cell_type": "markdown",
   "metadata": {
    "colab_type": "text",
    "id": "DnjOcU5y9iZh"
   },
   "source": [
    "일반적인 datetime 형태를 위한 문자열은 %m-%y (월,연 각각) 형태를 띄고 있기 때문에, pandas를 사용하여 해당 패턴을 감지하고 datetime 오브젝트로 변환 할 수 있습니다."
   ]
  },
  {
   "cell_type": "code",
   "execution_count": null,
   "metadata": {
    "colab": {},
    "colab_type": "code",
    "id": "cBV3Ta_79qe6"
   },
   "outputs": [],
   "source": [
    "df['issue_d'] = pd.to_datetime(df['issue_d'], infer_datetime_format = True)\n",
    "\n",
    "df.dtypes[:15]"
   ]
  },
  {
   "cell_type": "markdown",
   "metadata": {
    "colab_type": "text",
    "id": "6hcypFMu9y4s"
   },
   "source": [
    "위의 코드를 통해서 `issue_d` 열이 `datetime` 오브젝트 형태로 바뀌었음을 확인 할 수 있습니다.\n",
    "\n",
    "그렇다면 구체적으로 datetime 오브젝트가 의미하는 것이 무엇인지 조금 더 들여다보도록 하겠습니다."
   ]
  },
  {
   "cell_type": "code",
   "execution_count": null,
   "metadata": {
    "colab": {},
    "colab_type": "code",
    "id": "fUMjhnyJ94is"
   },
   "outputs": [],
   "source": [
    "df['issue_d'].iloc[0] # iloc 는 integer location을 의미합니다."
   ]
  },
  {
   "cell_type": "markdown",
   "metadata": {
    "colab_type": "text",
    "id": "aZQiLh4O-CMN"
   },
   "source": [
    "월과 연도에 해당하는 부분이 문자열에서 어떻게 바뀌었는지 확인 할 수 있습니다."
   ]
  },
  {
   "cell_type": "code",
   "execution_count": null,
   "metadata": {
    "colab": {},
    "colab_type": "code",
    "id": "6_PhaWzb-J7X"
   },
   "outputs": [],
   "source": [
    "df['issue_d'].head().values"
   ]
  },
  {
   "cell_type": "markdown",
   "metadata": {
    "colab_type": "text",
    "id": "V3rKmrzY-NsD"
   },
   "source": [
    "이제 주어진 datetime 오브젝트에 대해서 특정 내용을 선택하기 위해서, `.dt`를 사용할 수 있습니다. 예시로 `issue_d`열의 모든 데이터에 대해서 연도와 월 데이터만 따로 추출해보도록 하겠습니다."
   ]
  },
  {
   "cell_type": "code",
   "execution_count": null,
   "metadata": {
    "colab": {},
    "colab_type": "code",
    "id": "y4479qzj-Yj5"
   },
   "outputs": [],
   "source": [
    "df['issue_d'].dt.year # .dt datetime object"
   ]
  },
  {
   "cell_type": "code",
   "execution_count": null,
   "metadata": {
    "colab": {},
    "colab_type": "code",
    "id": "D28keYR3-dJn"
   },
   "outputs": [],
   "source": [
    "df['issue_d'].dt.month"
   ]
  },
  {
   "cell_type": "markdown",
   "metadata": {
    "colab_type": "text",
    "id": "g4_O0q0t-hOX"
   },
   "source": [
    "이제 어렵지 않습니다. 다음은 이를 출력하는 대신, 각각의 연도와 월의 값을 데이터프레임에 새로운 열로 추가해보도록 하겠습니다. 화면을 오른쪽으로 스크롤하여, 새롭게 열이 추가가 된 것을 확인하세요."
   ]
  },
  {
   "cell_type": "code",
   "execution_count": null,
   "metadata": {
    "colab": {},
    "colab_type": "code",
    "id": "VJdlhqH1-mri"
   },
   "outputs": [],
   "source": [
    "df['issue_year'] = df['issue_d'].dt.year\n",
    "df['issue_month'] = df['issue_d'].dt.month\n",
    "\n",
    "df.head()"
   ]
  },
  {
   "cell_type": "markdown",
   "metadata": {
    "colab_type": "text",
    "id": "LAxig0nE-1kt"
   },
   "source": [
    "데이터셋 자체가 2018년도의 4분기만을 다루고 있기 때문에 `issue_d` 데이터 자체는 크게 의미가 있지 않습니다. 대신 `earliest_cr_line` 라는 문자열로 이루어졌지만 마찬가지로 datetime 형태로 바꿀 수 있는 열을 조사해보록 하겠습니다.\n",
    "\n",
    "이번에 하게 될 일은 `days_from_earliest_credit_to_issue` 라는 이름을 갖는 새로운 열을 생성하는 것입니다. \n",
    "\n",
    "열의 헤더의 길이가 깁니다만, 이러한 이름들을 의미를 이해 할 수 있게 정하는 것은 상당히 중요한 문제이며 앞으로도 많이 고민을 해봐야 할 것입니다. "
   ]
  },
  {
   "cell_type": "code",
   "execution_count": null,
   "metadata": {
    "colab": {},
    "colab_type": "code",
    "id": "5S6BDZjp-e8-"
   },
   "outputs": [],
   "source": [
    "df['earliest_cr_line'].head()"
   ]
  },
  {
   "cell_type": "code",
   "execution_count": null,
   "metadata": {
    "colab": {},
    "colab_type": "code",
    "id": "X0VwXV1F_YpZ"
   },
   "outputs": [],
   "source": [
    "df['earliest_cr_line'] = pd.to_datetime(df['earliest_cr_line'], infer_datetime_format = True)\n",
    "\n",
    "print(df['earliest_cr_line'].head())"
   ]
  },
  {
   "cell_type": "markdown",
   "metadata": {
    "colab_type": "text",
    "id": "ml-N769C_e_n"
   },
   "source": [
    "판다스의 datetime 객체는 상당히 똑똑해서 단순히 빼기 연산자 `-`를 사용하는 것만으로도 두 날짜 사이의 시간을 계산할 수 있습니다.\n"
   ]
  },
  {
   "cell_type": "code",
   "execution_count": null,
   "metadata": {},
   "outputs": [],
   "source": [
    "print(df['issue_d'].head())\n",
    "print(df['earliest_cr_line'].head())"
   ]
  },
  {
   "cell_type": "code",
   "execution_count": null,
   "metadata": {
    "colab": {},
    "colab_type": "code",
    "id": "FWu1a57V_cHx"
   },
   "outputs": [],
   "source": [
    "df['days_from_ealiest_credit_to_issue'] = (df['issue_d'] - df['earliest_cr_line']).dt.days # 날짜의 차이를 구할 수 있음"
   ]
  },
  {
   "cell_type": "code",
   "execution_count": null,
   "metadata": {
    "colab": {},
    "colab_type": "code",
    "id": "PvRjLKZo_XRq"
   },
   "outputs": [],
   "source": [
    "df['days_from_ealiest_credit_to_issue'].head()"
   ]
  },
  {
   "cell_type": "markdown",
   "metadata": {
    "colab_type": "text",
    "id": "FHQEQZx6_3_p"
   },
   "source": [
    "2018년 4분기의 가장 오래된 기록을 확인 할 수 있나요?"
   ]
  },
  {
   "cell_type": "code",
   "execution_count": null,
   "metadata": {
    "colab": {},
    "colab_type": "code",
    "id": "nrEqk6hG_20O"
   },
   "outputs": [],
   "source": [
    "df['days_from_ealiest_credit_to_issue'].describe()"
   ]
  },
  {
   "cell_type": "markdown",
   "metadata": {
    "colab_type": "text",
    "id": "gORWK62cAF2a"
   },
   "source": [
    "(TMI) 25,171일은 ~ 68.96년 입니다"
   ]
  },
  {
   "cell_type": "code",
   "execution_count": null,
   "metadata": {},
   "outputs": [],
   "source": []
  }
 ],
 "metadata": {
  "colab": {
   "collapsed_sections": [],
   "include_colab_link": true,
   "name": "n112-feature-engineering.ipynb",
   "provenance": []
  },
  "kernelspec": {
   "display_name": "Python 3",
   "language": "python",
   "name": "python3"
  },
  "language_info": {
   "codemirror_mode": {
    "name": "ipython",
    "version": 3
   },
   "file_extension": ".py",
   "mimetype": "text/x-python",
   "name": "python",
   "nbconvert_exporter": "python",
   "pygments_lexer": "ipython3",
   "version": "3.8.5"
  }
 },
 "nbformat": 4,
 "nbformat_minor": 4
}
