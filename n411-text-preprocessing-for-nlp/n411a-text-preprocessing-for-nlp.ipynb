{
  "nbformat": 4,
  "nbformat_minor": 0,
  "metadata": {
    "colab": {
      "name": "LS_DS_421_Text_Data_Assignment.ipynb",
      "provenance": [],
      "collapsed_sections": []
    },
    "kernelspec": {
      "display_name": "P41_NLP",
      "language": "python",
      "name": "p41_nlp"
    },
    "language_info": {
      "codemirror_mode": {
        "name": "ipython",
        "version": 3
      },
      "file_extension": ".py",
      "mimetype": "text/x-python",
      "name": "python",
      "nbconvert_exporter": "python",
      "pygments_lexer": "ipython3",
      "version": "3.7.7"
    },
    "toc-autonumbering": false
  },
  "cells": [
    {
      "cell_type": "markdown",
      "metadata": {
        "id": "za56W96DnxVC"
      },
      "source": [
        "<img align=\"right\" src=\"https://ds-cs-images.s3.ap-northeast-2.amazonaws.com/Codestates_Fulllogo_Color.png\" width=100>\n",
        "\n",
        "## *DATA SCIENCE / SECTION 4 / SPRINT 2 / NOTE 1*\n",
        "\n",
        "# 📝 Assignment\n",
        "\n",
        "---\n",
        "\n",
        "\n",
        "# Text Preprocessing for NLP"
      ]
    },
    {
      "cell_type": "markdown",
      "metadata": {
        "id": "68CzOVminxVR"
      },
      "source": [
        "Women's E-Commerce Clothing Reviews\n",
        "https://www.kaggle.com/nicapotato/womens-ecommerce-clothing-reviews\n",
        "\n",
        "이번 과제의 목표는: 캐글 옷 리뷰 데이터의 텍스트 칼럼(`Review Text`)에서 토큰(단어)를 추출하고 추천(`Recommended IND`)을 할지(1) 안 할지(0)에 따른 토큰의 빈도를 살펴 보는 것 입니다.\n",
        "\n",
        "토큰을 분리하기 위해 사용 가능한 정제기술을 모두 사용하고 특히\n",
        "- Lemmatization\n",
        "- 확장된 불용어 처리\n",
        "기술을 잘 활용해 보세요\n",
        "\n",
        "토큰이 만들어지면 꼭 **올바른 토큰화**를 잘 만족하는지 확인 합니다. 그리고 결과를 분석하여 어떤 특성이 추천에 이르게 하는지 그래프로 설명하세요. 마크다운 셀을 최대한 활용하여 결과를 분석해 보시기 바랍니다."
      ]
    },
    {
      "cell_type": "markdown",
      "metadata": {
        "id": "i_IiC3InnxVS"
      },
      "source": [
        "### 1) Spacy 코스를 수강하세요\n",
        "- chapter1의 1~5 강좌 수강 (https://course.spacy.io/en/)\n",
        "  - 챕터 1, 2, 3, 4, 5를 수강하는 것은 아닙니다!\n",
        "- 문항 1) chapter1-5의 강의를 들으시고, 해당 제목을 입력하시오."
      ]
    },
    {
      "cell_type": "code",
      "metadata": {
        "id": "L3-XgqkYnxVS"
      },
      "source": [
        "### 이곳에서 과제를 진행해 주세요 ### "
      ],
      "execution_count": null,
      "outputs": []
    },
    {
      "cell_type": "markdown",
      "metadata": {
        "id": "JepbPJw5nxVT"
      },
      "source": [
        "### 2) 토큰을 정제합니다. \n",
        "- 문자를 소문자로 통일\n",
        "- 분석에 관련 없는 정보 제거\n",
        "\n",
        "- 문항 2-1) 소문자로 변경하는 함수를 입력하시오. \n",
        "- 문항 2-2) re 라이브러리에서 알파벳 소문자, 숫자만 받을 수 있는 코드를 작성하시오. "
      ]
    },
    {
      "cell_type": "code",
      "metadata": {
        "id": "_VBRkXS6nxVT"
      },
      "source": [
        "### 이곳에서 과제를 진행해 주세요 ### "
      ],
      "execution_count": null,
      "outputs": []
    },
    {
      "cell_type": "markdown",
      "metadata": {
        "id": "RdgRqlzsnxVT"
      },
      "source": [
        "### 3) 정제한 토큰을 시각화 합니다.\n",
        "- Top 10 토큰을 프린트 합니다.\n",
        "- 토큰의 수, 빈도 순위, 존재 문서 수, 비율 등 정보를 계산합니다.\n",
        "- 토큰 순위에 따른 퍼센트 누적 분포 그래프를 시각화 합니다.\n",
        "- 추천(recommended_ind)/비추천에 따라 비교되는 토큰을 시각화 합니다.\n",
        "- 문항 3) 추천 토큰 순위 10개 단어를 입력하시오."
      ]
    },
    {
      "cell_type": "code",
      "metadata": {
        "id": "Ii533sC-nxVT"
      },
      "source": [
        "### 이곳에서 과제를 진행해 주세요 ### "
      ],
      "execution_count": null,
      "outputs": []
    },
    {
      "cell_type": "markdown",
      "metadata": {
        "id": "sURsv85FnxVU"
      },
      "source": [
        "### 4) 확장된 불용어 사전을 사용해 토큰을 정제합니다.\n",
        "\n",
        "- 문항 4) 불용어를 제거하고 난 뒤 토큰 순위 10개의 단어를 입력하시오."
      ]
    },
    {
      "cell_type": "code",
      "metadata": {
        "id": "WAGyh77enxVU"
      },
      "source": [
        "### 이곳에서 과제를 진행해 주세요 ### "
      ],
      "execution_count": null,
      "outputs": []
    },
    {
      "cell_type": "markdown",
      "metadata": {
        "id": "yYg-7lGXnxVU"
      },
      "source": [
        "### 5) 통계적 트리밍 사용 전/후 토큰 분포를 비교합니다.\n",
        "- 문서 등장 비율이 20% 미만이고, 최소 1% 이상 등장하는 단어만 선택한 뒤,\n",
        "- 통계적 트리밍 사용 전/후 토큰 분포 시각화하고,\n",
        "- 문항 5-1) 통계적 트리밍 후 상위 토큰 10개의 단어를 입력하시오.\n",
        "- 문항 5-2) 불용어 처리 & 통계적 트리밍 후 상위 토큰 10개의 단어를 입력하시오."
      ]
    },
    {
      "cell_type": "code",
      "metadata": {
        "id": "ImuyJNmenxVU"
      },
      "source": [
        "### 이곳에서 과제를 진행해 주세요 ### "
      ],
      "execution_count": null,
      "outputs": []
    },
    {
      "cell_type": "markdown",
      "metadata": {
        "id": "f0iyh_gFnxVV"
      },
      "source": [
        "### 6) Lemmatization 사용 효과를 분석해 봅니다.\n",
        "- 문항 6-1) Stemming한 뒤 상위 10개 단어를 입력하시오.\n",
        "- 문항 6-2) Lemmatization을 진행한 뒤 상위 10개 단어를 입력하시오."
      ]
    },
    {
      "cell_type": "code",
      "metadata": {
        "id": "YcFQ2PcMnxVV"
      },
      "source": [
        "### 이곳에서 과제를 진행해 주세요 ### "
      ],
      "execution_count": null,
      "outputs": []
    },
    {
      "cell_type": "markdown",
      "metadata": {
        "id": "fXK19yoPnxVV"
      },
      "source": [
        "### 도전과제🔥 \n",
        "- Spacy 기능을 추가적으로 한 가지 사용해 봅니다.\n",
        "- 다른 자연어 데이터셋을 이용해서 지금까지 배운 내용을 복습해 봅시다."
      ]
    },
    {
      "cell_type": "code",
      "metadata": {
        "id": "n37naUF9nxVV"
      },
      "source": [
        "### 이곳에서 과제를 진행해 주세요 ### "
      ],
      "execution_count": null,
      "outputs": []
    }
  ]
}