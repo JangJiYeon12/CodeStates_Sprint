{
  "nbformat": 4,
  "nbformat_minor": 0,
  "metadata": {
    "colab": {
      "name": "n134-clustering.ipynb",
      "provenance": [],
      "collapsed_sections": [],
      "machine_shape": "hm"
    },
    "kernelspec": {
      "display_name": "Python 3",
      "language": "python",
      "name": "python3"
    },
    "language_info": {
      "codemirror_mode": {
        "name": "ipython",
        "version": 3
      },
      "file_extension": ".py",
      "mimetype": "text/x-python",
      "name": "python",
      "nbconvert_exporter": "python",
      "pygments_lexer": "ipython3",
      "version": "3.8.5"
    }
  },
  "cells": [
    {
      "cell_type": "markdown",
      "metadata": {
        "colab_type": "text",
        "id": "xi9ks-kq_j8J"
      },
      "source": [
        "<img src='https://i.imgur.com/RDAD11M.png' width = '200' align = 'right'>\n",
        "\n",
        "## *DATA SCIENCE / SECTION 1 / SPRINT 3 / NOTE 4*\n",
        "\n",
        "---\n",
        "\n",
        "# Clustering\n",
        "\n",
        "## 🏆 학습 목표 \n",
        "\n",
        "- Scree plot의 의미를 이해 할 수 있다.\n",
        "- Supervised / Unsupervised learning의 차이를 설명 할 수 있다.\n",
        "- K-means clustering을 설명 할 수 있다.\n",
        "\n",
        "---\n",
        "\n",
        "## ❓ 시작하기전에\n",
        "\n",
        "- 심리검사 결과를 (예를 들면 MBTI) 바탕으로 사람들을 그룹 지으려면 어떻게 해야 할까요?\n",
        "- 지역별 개인 소득 수준 데이터가 있다고 할때, 이를 가지고 어떤 분석을 할 수 있을까요?\n",
        "\n",
        "- [부산시 개인별 소득수준 데이터](\n",
        "https://bigdata.busan.go.kr/board/view.busan?boardId=BIGDATA&menuCd=DOM_000000101001000000&paging=ok&startPage=3&categoryCode1=A01&-dataSid=119)"
      ]
    },
    {
      "cell_type": "markdown",
      "metadata": {
        "id": "WksxcePSosOc",
        "colab_type": "text"
      },
      "source": [
        "## Scree Plots\n",
        "\n",
        "<https://m.blog.naver.com/PostView.nhn?blogId=hsj2864&logNo=220613527515>\n",
        "\n",
        "<https://en.wikipedia.org/wiki/Scree_plot>\n",
        "\n",
        "<https://ro-che.info/articles/2017-12-11-pca-explained-variance>\n",
        "\n",
        "PCA 에서 사용된 PC의 개수와 설명가능한 Variance를 그린 것.\n",
        "\n",
        "관례적으로 80% 이상 을 설명하는 만큼의 PC를 선택함.\n"
      ]
    },
    {
      "cell_type": "markdown",
      "metadata": {
        "id": "J89I1OE_osOc",
        "colab_type": "text"
      },
      "source": [
        "<img src='https://user-images.githubusercontent.com/6457691/90082093-e6a2c700-dd49-11ea-9ae6-0ff69ad89edb.png' width = 400>\n",
        "\n",
        "<img src='https://user-images.githubusercontent.com/6457691/90082429-b9a2e400-dd4a-11ea-8c04-d8121d7da279.png' width = 400>"
      ]
    },
    {
      "cell_type": "code",
      "metadata": {
        "colab_type": "code",
        "id": "v3rSL4ThRY9k",
        "colab": {
          "base_uri": "https://localhost:8080/",
          "height": 204
        },
        "outputId": "9ff8caed-b647-4123-c615-0df28fda8971"
      },
      "source": [
        "import matplotlib.pyplot as plt\n",
        "import seaborn as sns\n",
        "import pandas as pd\n",
        "import numpy as np\n",
        "%matplotlib inline\n",
        "from sklearn.datasets import make_blobs\n",
        "from sklearn import decomposition\n",
        "\n",
        "X1, Y1 = make_blobs(n_features = 10, n_samples = 50, centers = 4, random_state = 4, cluster_std = 2)\n",
        "\n",
        "# generate random \"cluster\" value to X1, label to Y1\n",
        "\n",
        "pca = decomposition.PCA(n_components=4)\n",
        "pc = pca.fit_transform(X1)\n",
        "\n",
        "pc_df = pd.DataFrame(data = pc, columns = ['PC1', 'PC2', 'PC3', 'PC4'])\n",
        "pc_df['Cluster'] = Y1\n",
        "pc_df.head()"
      ],
      "execution_count": 16,
      "outputs": [
        {
          "output_type": "execute_result",
          "data": {
            "text/html": [
              "<div>\n",
              "<style scoped>\n",
              "    .dataframe tbody tr th:only-of-type {\n",
              "        vertical-align: middle;\n",
              "    }\n",
              "\n",
              "    .dataframe tbody tr th {\n",
              "        vertical-align: top;\n",
              "    }\n",
              "\n",
              "    .dataframe thead th {\n",
              "        text-align: right;\n",
              "    }\n",
              "</style>\n",
              "<table border=\"1\" class=\"dataframe\">\n",
              "  <thead>\n",
              "    <tr style=\"text-align: right;\">\n",
              "      <th></th>\n",
              "      <th>PC1</th>\n",
              "      <th>PC2</th>\n",
              "      <th>PC3</th>\n",
              "      <th>PC4</th>\n",
              "      <th>Cluster</th>\n",
              "    </tr>\n",
              "  </thead>\n",
              "  <tbody>\n",
              "    <tr>\n",
              "      <th>0</th>\n",
              "      <td>-1.693533</td>\n",
              "      <td>16.790501</td>\n",
              "      <td>-4.092064</td>\n",
              "      <td>0.434973</td>\n",
              "      <td>3</td>\n",
              "    </tr>\n",
              "    <tr>\n",
              "      <th>1</th>\n",
              "      <td>18.370598</td>\n",
              "      <td>-2.760074</td>\n",
              "      <td>-0.991275</td>\n",
              "      <td>-0.075295</td>\n",
              "      <td>1</td>\n",
              "    </tr>\n",
              "    <tr>\n",
              "      <th>2</th>\n",
              "      <td>19.004565</td>\n",
              "      <td>-3.839676</td>\n",
              "      <td>2.203772</td>\n",
              "      <td>5.791966</td>\n",
              "      <td>1</td>\n",
              "    </tr>\n",
              "    <tr>\n",
              "      <th>3</th>\n",
              "      <td>-10.452993</td>\n",
              "      <td>-12.551490</td>\n",
              "      <td>-6.931626</td>\n",
              "      <td>1.818382</td>\n",
              "      <td>0</td>\n",
              "    </tr>\n",
              "    <tr>\n",
              "      <th>4</th>\n",
              "      <td>-2.845042</td>\n",
              "      <td>16.002681</td>\n",
              "      <td>-5.310753</td>\n",
              "      <td>0.609581</td>\n",
              "      <td>3</td>\n",
              "    </tr>\n",
              "  </tbody>\n",
              "</table>\n",
              "</div>"
            ],
            "text/plain": [
              "         PC1        PC2       PC3       PC4  Cluster\n",
              "0  -1.693533  16.790501 -4.092064  0.434973        3\n",
              "1  18.370598  -2.760074 -0.991275 -0.075295        1\n",
              "2  19.004565  -3.839676  2.203772  5.791966        1\n",
              "3 -10.452993 -12.551490 -6.931626  1.818382        0\n",
              "4  -2.845042  16.002681 -5.310753  0.609581        3"
            ]
          },
          "metadata": {
            "tags": []
          },
          "execution_count": 16
        }
      ]
    },
    {
      "cell_type": "code",
      "metadata": {
        "colab_type": "code",
        "id": "CmxL457j-Q2y",
        "colab": {
          "base_uri": "https://localhost:8080/",
          "height": 506
        },
        "outputId": "41682c07-964b-400a-fcf7-e88d4fe25e53"
      },
      "source": [
        "num_components = len(pca.explained_variance_ratio_) # PC 개수\n",
        "\n",
        "print('---')\n",
        "print(pca.explained_variance_ratio_) \n",
        "\n",
        "ind = np.arange( num_components ) + 1 # \n",
        "print('---')\n",
        "print(ind) \n",
        "\n",
        "vals = pca.explained_variance_ratio_\n",
        "\n",
        "plt.figure(figsize = (6, 6))\n",
        "\n",
        "ax = plt.subplot()\n",
        "cumvals = np.cumsum(vals) # 누적 var \n",
        "print('---')\n",
        "print(cumvals)\n",
        "\n",
        "plt.bar(ind, vals, color = '#a29bfe') # bar plot\n",
        "plt.plot(ind, cumvals, color = '#fdcb6e') # line plot\n",
        "\n",
        "for i in range(num_components):\n",
        "    ax.annotate( str(np.round(vals[i]*100, 1)) + '%', \n",
        "                (ind[i], vals[i]), \n",
        "                va = \"bottom\",\n",
        "                ha = \"center\",\n",
        "                fontsize = 12)\n",
        "  \n",
        "ax.set_xlabel(\"Number of PC\")\n",
        "ax.set_ylabel(\"Variance (%)\")\n",
        "plt.title('Scree plot');"
      ],
      "execution_count": 21,
      "outputs": [
        {
          "output_type": "stream",
          "text": [
            "---\n",
            "[0.42388369 0.33544098 0.16252554 0.02350764]\n",
            "---\n",
            "[1 2 3 4]\n",
            "---\n",
            "[0.42388369 0.75932467 0.92185022 0.94535786]\n"
          ],
          "name": "stdout"
        },
        {
          "output_type": "display_data",
          "data": {
            "image/png": "[encoded data removed]",
            "text/plain": [
              "<Figure size 432x432 with 1 Axes>"
            ]
          },
          "metadata": {
            "tags": [],
            "needs_background": "light"
          }
        }
      ]
    },
    {
      "cell_type": "markdown",
      "metadata": {
        "id": "ndrXgq4BtyMm",
        "colab_type": "text"
      },
      "source": [
        "---\n"
      ]
    },
    {
      "cell_type": "markdown",
      "metadata": {
        "colab_type": "text",
        "id": "TBXSEvwbODsA"
      },
      "source": [
        "# Machine Learning (개요)\n",
        "\n",
        "<img src='https://user-images.githubusercontent.com/6457691/90085090-148c0980-dd52-11ea-9a1b-a7f4e52b9319.png' width = 600>\n"
      ]
    },
    {
      "cell_type": "markdown",
      "metadata": {
        "colab_type": "text",
        "id": "t4qW9d7FlHUy"
      },
      "source": [
        "- ## 지도 학습 (Supervised Learning): \n",
        "Supervised Learning은 트레이닝 데이터에 라벨(답)이 있을때 사용 할 수 있습니다. 그 결과물은 원하는 것에 대한 예측입니다.\n",
        "\n",
        "  - ### 분류 (Classification)\n",
        "  분류 알고리즘은 주어진 데이터의 카테고리 혹은 클래스 예측을 위해 사용 됩니다.\n",
        "  - ### 회귀 (Regression)\n",
        "  회귀 알고리즘은 continuous 한 데이터 (숫자형태)를 바탕으로 결과를 예측 하기 위해 사용 됩니다 (선형 회귀와는 조금 다릅니다)"
      ]
    },
    {
      "cell_type": "markdown",
      "metadata": {
        "colab_type": "text",
        "id": "NynJ4Ye9lHg0"
      },
      "source": [
        "- ## 비지도 학습 (Unsupervised Learning):\n",
        "  - ### 클러스터링 (Clustering)\n",
        "  데이터의 연관된 feature를 바탕으로 유사한 그룹을 생성합니다.\n",
        "  - ### 차원 축소 (Dimensionality Reduction\n",
        "  높은 차원을 갖는 데이터셋을 사용하여 feature selection / extraction 등을 통해 차원을 줄이는 방법입니다.\n",
        "  - ### 연관 규칙 학습 (Association Rule Learning)\n",
        "  데이터셋의 feature들의 관계를 발견하는 방법입니다 (feature-output 이 아닌 feature-feature)"
      ]
    },
    {
      "cell_type": "markdown",
      "metadata": {
        "id": "abDAetXNosOn",
        "colab_type": "text"
      },
      "source": [
        "<img src='https://user-images.githubusercontent.com/6457691/90086271-0a1f3f00-dd55-11ea-9aeb-b3a794fbb3fb.png' width = 500>\n",
        "\n"
      ]
    },
    {
      "cell_type": "markdown",
      "metadata": {
        "colab_type": "text",
        "id": "ARo_wctGlHpT"
      },
      "source": [
        "- ## 강화 학습 (Reinforcement Learning)\n",
        "  머신러닝의 한 형태로, 기계가 좋은 행동에 대해서는 **보상**, 그렇지 않은 행동에는 **처벌**이라는 피드백을 통해서 *행동*에 대해 학습해 나가는 형태입니다. \n",
        "\n",
        "  <img src='https://user-images.githubusercontent.com/6457691/90086283-0e4b5c80-dd55-11ea-9331-c6e9bc63775d.png' width=500>"
      ]
    },
    {
      "cell_type": "markdown",
      "metadata": {
        "colab_type": "text",
        "id": "yzdWvN9iugsd"
      },
      "source": [
        "# ML Cheat Sheets (참고용)\n",
        "\n",
        "<img src='https://jixta.files.wordpress.com/2015/11/machinelearningalgorithms.png?w=816&h=521&zoom=2'>\n"
      ]
    },
    {
      "cell_type": "markdown",
      "metadata": {
        "colab_type": "text",
        "id": "GjCxoJFNl0ly"
      },
      "source": [
        "# Clustering \n",
        "\n",
        "Clustering은 Unsupervised Learning Algorithm의 한 종류입니다. \n",
        "(Train Data에 대해서 label도 없고, 몇 개의 클러스터가 정확한지조차도 없는 경우가 있습니다.)"
      ]
    },
    {
      "cell_type": "markdown",
      "metadata": {
        "colab_type": "text",
        "id": "c6S6TOtgl0sb"
      },
      "source": [
        "## Clustering의 목적\n",
        "\n",
        "Clustering이 대답할수 있는 질문은 주어진 데이터들이 **얼마나, 어떻게 유사한지** 입니다. 그렇기 때문에 주어진 데이터셋을 요약/정리 하는데 있어서 매우 효율적인 방법들중 하나로 사용 되고 있습니다. \n",
        "\n",
        "그러나 동시에 정답을 보장하지 않는다는 이슈가 있어서 production의 수준에서 예측을 위한 모델링에 쓰이기 보다는 데이터 탐색을 위한 방법으로써 많이 쓰입니다."
      ]
    },
    {
      "cell_type": "markdown",
      "metadata": {
        "colab_type": "text",
        "id": "ldJ0c24yl02e"
      },
      "source": [
        "# Clustering의 종류:\n",
        "\n",
        "## Hierarchical:\n",
        "\n",
        "  - Agglomerative: 개별 포인트에서 시작후 점점 크게 합쳐감\n",
        "  \n",
        "  - Divisive: 한개의 큰 cluster에서 시작후 점점 작은 cluster로 나눠감\n",
        "\n",
        "## Point Assignment:\n",
        "\n",
        "  - 시작시에 cluster의 수를 정한 다음, 데이터들을 하나씩 cluster에 배정시킴\n",
        "\n",
        "# Hard vs Soft Clustering\n",
        "\n",
        "Hard Clustering에서 데이터는 하나의 cluster에만 할당됩니다.\n",
        "\n",
        "Soft Clustering에서 데이터는 여러 cluster에 확률을 가지고 할당됩니다.\n",
        "\n",
        "일반적으로 Hard Clustering을 Clustering이라 칭하며 오늘 배울 내용도 Hard Clustering입니다."
      ]
    },
    {
      "cell_type": "markdown",
      "metadata": {
        "colab_type": "text",
        "id": "mnAcqxeDl06U"
      },
      "source": [
        "## 응용 예시 : 거의 모든 분야\n",
        "\n",
        "<img src='https://user-images.githubusercontent.com/6457691/71956124-a1f00400-322d-11ea-84ef-ad69689f82de.gif'>\n",
        "\n",
        "<img src='https://user-images.githubusercontent.com/6457691/71956389-64d84180-322e-11ea-9f44-dbde4c05af20.gif'>\n",
        "\n",
        "<img src='https://user-images.githubusercontent.com/6457691/71956362-4f631780-322e-11ea-8c0b-c43d3f7214dc.png'>"
      ]
    },
    {
      "cell_type": "markdown",
      "metadata": {
        "colab_type": "text",
        "id": "WhmN7D0Ol0-E"
      },
      "source": [
        "## 유사도 \n",
        "\n",
        "- Euclidean\n",
        "- Cosine\n",
        "- Jaccard\n",
        "- Edit Distance\n",
        "- Etc. \n",
        "\n",
        "일반적으로 많이 쓰이는 방식은 Euclidean 입니다, 그러나 각 목적에 따라서 다른 방식 또한 사용되며, 여러분이 특별히 Clustering에 관심이 더 있다면, 여러 clustering 알고리즘이나 distance 방식을 공부하길 권장합니다.\n",
        "\n",
        "PCA와 clustering은 반드시 연계해서 사용할 필요는 없습니다만, 이에 관련해서 PCA로 전처리를 하고, K-means를 메인 \"머신러닝\"으로 사용 하는 연습을 해보도록 하겠습니다.\n"
      ]
    },
    {
      "cell_type": "markdown",
      "metadata": {
        "colab_type": "text",
        "id": "rJx_PxNUmyDT"
      },
      "source": [
        "# K-Means Clustering\n",
        "\n",
        "![K-means Clustering](https://upload.wikimedia.org/wikipedia/commons/thumb/e/ea/K-means_convergence.gif/440px-K-means_convergence.gif)"
      ]
    },
    {
      "cell_type": "markdown",
      "metadata": {
        "colab_type": "text",
        "id": "OGSeEtls_QXU"
      },
      "source": [
        "## 과정 :\n",
        "\n",
        "n-차원의 데이터에 대해서 :\n",
        "\n",
        "1) k 개의 랜덤한 데이터를 cluster의 중심점으로 설정\n",
        "\n",
        "2) 해당 cluster에 근접해 있는 데이터를 cluster로 할당\n",
        "\n",
        "3) 변경된 cluster에 대해서 중심점을 새로 계산 \n",
        "\n",
        "cluster에 유의미한 변화가 없을 때 까지 2-3을 반복"
      ]
    },
    {
      "cell_type": "markdown",
      "metadata": {
        "colab_type": "text",
        "id": "JnwzM7vnoIDx"
      },
      "source": [
        "## 실제로 해보도록 하겠습니다 (make_blobs를 사용)"
      ]
    },
    {
      "cell_type": "code",
      "metadata": {
        "colab_type": "code",
        "id": "Lt03ADtDByNX",
        "colab": {
          "base_uri": "https://localhost:8080/",
          "height": 279
        },
        "outputId": "cfff9624-1832-44f9-c064-ef70f5f98bf4"
      },
      "source": [
        "# Generate 100 data with 3 clusters\n",
        "\n",
        "import pandas as pd\n",
        "import matplotlib.pyplot as plt\n",
        "from sklearn.datasets import make_blobs\n",
        "\n",
        "X, y = make_blobs(n_samples = 100, centers = 3, n_features = 2)\n",
        "df = pd.DataFrame(dict(x = X[:,0], y = X[:,1], label = y))\n",
        "\n",
        "colors = {0:'#eb4d4b', 1:'#4834d4', 2:'#6ab04c'}\n",
        "fig, ax = plt.subplots()\n",
        "grouped = df.groupby('label')\n",
        "for key, group in grouped:\n",
        "    group.plot(ax = ax, kind = 'scatter', x = 'x', y = 'y', label = key, color = colors[key])\n",
        "plt.show()\n",
        "\n"
      ],
      "execution_count": 22,
      "outputs": [
        {
          "output_type": "display_data",
          "data": {
            "image/png": "[encoded data removed]",
            "text/plain": [
              "<Figure size 432x288 with 1 Axes>"
            ]
          },
          "metadata": {
            "tags": [],
            "needs_background": "light"
          }
        }
      ]
    },
    {
      "cell_type": "markdown",
      "metadata": {
        "id": "BfnpImgVwmXO",
        "colab_type": "text"
      },
      "source": [
        "위 데이터는 라벨이 있어서 (y) 비지도학습인 clustering을 위해서는 라벨을 지워야 합니다. "
      ]
    },
    {
      "cell_type": "markdown",
      "metadata": {
        "colab_type": "text",
        "id": "x3fV8Cw_Eq6w"
      },
      "source": [
        "## Linear Separability\n",
        "2D blobs 는 \"linearly separable\" 하다고 표현 되며 이는 단어 그대로 임의의 직선을 사용해서 오차 없이 데이터를 구분 할 수 있음을 의미합니다. "
      ]
    },
    {
      "cell_type": "code",
      "metadata": {
        "colab_type": "code",
        "id": "jK624RjW-qGk",
        "colab": {
          "base_uri": "https://localhost:8080/",
          "height": 204
        },
        "outputId": "2457036c-d9f1-41d9-c681-bc67de57b94a"
      },
      "source": [
        "points = df.drop('label', axis = 1) # label 삭제 \n",
        "points.head()"
      ],
      "execution_count": 23,
      "outputs": [
        {
          "output_type": "execute_result",
          "data": {
            "text/html": [
              "<div>\n",
              "<style scoped>\n",
              "    .dataframe tbody tr th:only-of-type {\n",
              "        vertical-align: middle;\n",
              "    }\n",
              "\n",
              "    .dataframe tbody tr th {\n",
              "        vertical-align: top;\n",
              "    }\n",
              "\n",
              "    .dataframe thead th {\n",
              "        text-align: right;\n",
              "    }\n",
              "</style>\n",
              "<table border=\"1\" class=\"dataframe\">\n",
              "  <thead>\n",
              "    <tr style=\"text-align: right;\">\n",
              "      <th></th>\n",
              "      <th>x</th>\n",
              "      <th>y</th>\n",
              "    </tr>\n",
              "  </thead>\n",
              "  <tbody>\n",
              "    <tr>\n",
              "      <th>0</th>\n",
              "      <td>-9.300827</td>\n",
              "      <td>1.327461</td>\n",
              "    </tr>\n",
              "    <tr>\n",
              "      <th>1</th>\n",
              "      <td>-8.682414</td>\n",
              "      <td>1.096749</td>\n",
              "    </tr>\n",
              "    <tr>\n",
              "      <th>2</th>\n",
              "      <td>-6.422750</td>\n",
              "      <td>-7.879903</td>\n",
              "    </tr>\n",
              "    <tr>\n",
              "      <th>3</th>\n",
              "      <td>-5.080035</td>\n",
              "      <td>-9.055313</td>\n",
              "    </tr>\n",
              "    <tr>\n",
              "      <th>4</th>\n",
              "      <td>-1.850381</td>\n",
              "      <td>2.891445</td>\n",
              "    </tr>\n",
              "  </tbody>\n",
              "</table>\n",
              "</div>"
            ],
            "text/plain": [
              "          x         y\n",
              "0 -9.300827  1.327461\n",
              "1 -8.682414  1.096749\n",
              "2 -6.422750 -7.879903\n",
              "3 -5.080035 -9.055313\n",
              "4 -1.850381  2.891445"
            ]
          },
          "metadata": {
            "tags": []
          },
          "execution_count": 23
        }
      ]
    },
    {
      "cell_type": "code",
      "metadata": {
        "colab_type": "code",
        "id": "Ro4aO_mPoP1v",
        "colab": {
          "base_uri": "https://localhost:8080/",
          "height": 265
        },
        "outputId": "a03862fd-a167-4803-c424-3581e864e657"
      },
      "source": [
        "plt.scatter(points.x, points.y);"
      ],
      "execution_count": 25,
      "outputs": [
        {
          "output_type": "display_data",
          "data": {
            "image/png": "[encoded data removed]",
            "text/plain": [
              "<Figure size 432x288 with 1 Axes>"
            ]
          },
          "metadata": {
            "tags": [],
            "needs_background": "light"
          }
        }
      ]
    },
    {
      "cell_type": "markdown",
      "metadata": {
        "colab_type": "text",
        "id": "WzETDJC2FNDK"
      },
      "source": [
        "## 중심점 (Centroid) 계산\n",
        "\n",
        "K-means 는 centroid-based clustering 알고리즘으로도 불립니다. Centroid란, 주어진 cluster 내부에 있는 모든 점들의 중심 부분에 위치한 가상의 점입니다. "
      ]
    },
    {
      "cell_type": "code",
      "metadata": {
        "colab_type": "code",
        "id": "xLZyrzOE_CnM",
        "colab": {
          "base_uri": "https://localhost:8080/",
          "height": 34
        },
        "outputId": "8038198f-ebf3-45bc-b893-16a17ace1916"
      },
      "source": [
        "# 전체 Cluster 의 centroid\n",
        "\n",
        "dataset_centroid_x = points.x.mean()\n",
        "dataset_centroid_y = points.y.mean()\n",
        "\n",
        "print(dataset_centroid_x, dataset_centroid_y)"
      ],
      "execution_count": 27,
      "outputs": [
        {
          "output_type": "stream",
          "text": [
            "-5.353403282483231 -1.386596959383101\n"
          ],
          "name": "stdout"
        }
      ]
    },
    {
      "cell_type": "code",
      "metadata": {
        "colab_type": "code",
        "id": "8OgBWw0c_cVq",
        "colab": {
          "base_uri": "https://localhost:8080/",
          "height": 265
        },
        "outputId": "9be7717e-6b2f-42bf-84f0-e6eb36fbd52b"
      },
      "source": [
        "plt.scatter(points.x, points.y)\n",
        "plt.plot(dataset_centroid_x, dataset_centroid_y, \"*r\"); # centroid"
      ],
      "execution_count": 36,
      "outputs": [
        {
          "output_type": "display_data",
          "data": {
            "image/png": "[encoded data removed]",
            "text/plain": [
              "<Figure size 432x288 with 1 Axes>"
            ]
          },
          "metadata": {
            "tags": [],
            "needs_background": "light"
          }
        }
      ]
    },
    {
      "cell_type": "markdown",
      "metadata": {
        "colab_type": "text",
        "id": "gR5sjoKhm5VS"
      },
      "source": [
        "## 전체 데이터중 랜덤한 데이터를 임의로 가상 cluster의 centroid로 지정"
      ]
    },
    {
      "cell_type": "code",
      "metadata": {
        "colab_type": "code",
        "id": "OvuDTEOM_4Ch",
        "colab": {
          "base_uri": "https://localhost:8080/",
          "height": 142
        },
        "outputId": "ab5475e6-b265-4f41-d792-a8f2d824cf9f"
      },
      "source": [
        "centroids = points.sample(3)\n",
        "centroids"
      ],
      "execution_count": 38,
      "outputs": [
        {
          "output_type": "execute_result",
          "data": {
            "text/html": [
              "<div>\n",
              "<style scoped>\n",
              "    .dataframe tbody tr th:only-of-type {\n",
              "        vertical-align: middle;\n",
              "    }\n",
              "\n",
              "    .dataframe tbody tr th {\n",
              "        vertical-align: top;\n",
              "    }\n",
              "\n",
              "    .dataframe thead th {\n",
              "        text-align: right;\n",
              "    }\n",
              "</style>\n",
              "<table border=\"1\" class=\"dataframe\">\n",
              "  <thead>\n",
              "    <tr style=\"text-align: right;\">\n",
              "      <th></th>\n",
              "      <th>x</th>\n",
              "      <th>y</th>\n",
              "    </tr>\n",
              "  </thead>\n",
              "  <tbody>\n",
              "    <tr>\n",
              "      <th>64</th>\n",
              "      <td>-1.127255</td>\n",
              "      <td>3.471526</td>\n",
              "    </tr>\n",
              "    <tr>\n",
              "      <th>42</th>\n",
              "      <td>-1.507747</td>\n",
              "      <td>2.817299</td>\n",
              "    </tr>\n",
              "    <tr>\n",
              "      <th>56</th>\n",
              "      <td>-2.523946</td>\n",
              "      <td>3.967109</td>\n",
              "    </tr>\n",
              "  </tbody>\n",
              "</table>\n",
              "</div>"
            ],
            "text/plain": [
              "           x         y\n",
              "64 -1.127255  3.471526\n",
              "42 -1.507747  2.817299\n",
              "56 -2.523946  3.967109"
            ]
          },
          "metadata": {
            "tags": []
          },
          "execution_count": 38
        }
      ]
    },
    {
      "cell_type": "markdown",
      "metadata": {
        "colab_type": "text",
        "id": "9Pw7xVK9nprq"
      },
      "source": [
        "# 그래프에 표기 "
      ]
    },
    {
      "cell_type": "code",
      "metadata": {
        "colab_type": "code",
        "id": "eXz0-YRuAGIQ",
        "colab": {
          "base_uri": "https://localhost:8080/",
          "height": 265
        },
        "outputId": "fa5bdc8b-b7e2-4dd4-fd17-2e90674a4d89"
      },
      "source": [
        "plt.scatter(points.x, points.y)\n",
        "plt.plot(centroids.iloc[0].x, centroids.iloc[0].y, \"*r\")\n",
        "plt.plot(centroids.iloc[1].x, centroids.iloc[1].y, \"*c\")\n",
        "plt.plot(centroids.iloc[2].x, centroids.iloc[2].y, \"*y\");\n"
      ],
      "execution_count": 40,
      "outputs": [
        {
          "output_type": "display_data",
          "data": {
            "image/png": "[encoded data removed]",
            "text/plain": [
              "<Figure size 432x288 with 1 Axes>"
            ]
          },
          "metadata": {
            "tags": [],
            "needs_background": "light"
          }
        }
      ]
    },
    {
      "cell_type": "markdown",
      "metadata": {
        "colab_type": "text",
        "id": "p9LlmLSySTb7"
      },
      "source": [
        "## 3-means clustering\n",
        "\n",
        "위에서 3개의 포인트를 선택 하는 방식은 k-means에서 3-means 에 해당하는 방법입니다. \n",
        "이후 주변의 포인트를 cluster로 할당 하는 과정을 실행해보도록 하겠습니다."
      ]
    },
    {
      "cell_type": "code",
      "metadata": {
        "colab_type": "code",
        "id": "-nbwx8_pA3DU",
        "colab": {}
      },
      "source": [
        "import math\n",
        "import numpy as np\n",
        "from scipy.spatial import distance\n",
        "\n",
        "def find_nearest_centroid(df, centroids, iteration): \n",
        " \n",
        "  # 포인트와 centroid 간의 euclidean 거리 계산\n",
        "  distances = distance.cdist(df, centroids, 'euclidean')\n",
        "  \n",
        "  # 제일 근접한 centroid 선택\n",
        "  nearest_centroids = np.argmin(distances, axis=1)\n",
        "    \n",
        "  # cluster 할당 및 출력\n",
        "  se = pd.Series(nearest_centroids)\n",
        "  df['cluster_' + iteration] = se.values\n",
        "  \n",
        "  return df"
      ],
      "execution_count": 41,
      "outputs": []
    },
    {
      "cell_type": "markdown",
      "metadata": {
        "id": "A7intW9y0yDC",
        "colab_type": "text"
      },
      "source": [
        "## euclidean distance \n",
        "\n",
        "<img src='https://upload.wikimedia.org/wikipedia/commons/thumb/5/55/Euclidean_distance_2d.svg/440px-Euclidean_distance_2d.svg.png'>\n",
        "\n",
        "제일 직관적이고 단순한 계산 방식인데, 문제는 data 의 dimension에 영향을 많이 받음"
      ]
    },
    {
      "cell_type": "code",
      "metadata": {
        "colab_type": "code",
        "id": "ACmU-SzWoJ6-",
        "colab": {
          "base_uri": "https://localhost:8080/",
          "height": 204
        },
        "outputId": "c08fe632-d9fe-4c8c-84a6-03a95b8765d2"
      },
      "source": [
        "first_pass = find_nearest_centroid(points, centroids, '1')\n",
        "first_pass.head() # cluster_1 added"
      ],
      "execution_count": 43,
      "outputs": [
        {
          "output_type": "execute_result",
          "data": {
            "text/html": [
              "<div>\n",
              "<style scoped>\n",
              "    .dataframe tbody tr th:only-of-type {\n",
              "        vertical-align: middle;\n",
              "    }\n",
              "\n",
              "    .dataframe tbody tr th {\n",
              "        vertical-align: top;\n",
              "    }\n",
              "\n",
              "    .dataframe thead th {\n",
              "        text-align: right;\n",
              "    }\n",
              "</style>\n",
              "<table border=\"1\" class=\"dataframe\">\n",
              "  <thead>\n",
              "    <tr style=\"text-align: right;\">\n",
              "      <th></th>\n",
              "      <th>x</th>\n",
              "      <th>y</th>\n",
              "      <th>cluster_1</th>\n",
              "    </tr>\n",
              "  </thead>\n",
              "  <tbody>\n",
              "    <tr>\n",
              "      <th>0</th>\n",
              "      <td>-9.300827</td>\n",
              "      <td>1.327461</td>\n",
              "      <td>2</td>\n",
              "    </tr>\n",
              "    <tr>\n",
              "      <th>1</th>\n",
              "      <td>-8.682414</td>\n",
              "      <td>1.096749</td>\n",
              "      <td>2</td>\n",
              "    </tr>\n",
              "    <tr>\n",
              "      <th>2</th>\n",
              "      <td>-6.422750</td>\n",
              "      <td>-7.879903</td>\n",
              "      <td>1</td>\n",
              "    </tr>\n",
              "    <tr>\n",
              "      <th>3</th>\n",
              "      <td>-5.080035</td>\n",
              "      <td>-9.055313</td>\n",
              "      <td>1</td>\n",
              "    </tr>\n",
              "    <tr>\n",
              "      <th>4</th>\n",
              "      <td>-1.850381</td>\n",
              "      <td>2.891445</td>\n",
              "      <td>1</td>\n",
              "    </tr>\n",
              "  </tbody>\n",
              "</table>\n",
              "</div>"
            ],
            "text/plain": [
              "          x         y  cluster_1\n",
              "0 -9.300827  1.327461          2\n",
              "1 -8.682414  1.096749          2\n",
              "2 -6.422750 -7.879903          1\n",
              "3 -5.080035 -9.055313          1\n",
              "4 -1.850381  2.891445          1"
            ]
          },
          "metadata": {
            "tags": []
          },
          "execution_count": 43
        }
      ]
    },
    {
      "cell_type": "code",
      "metadata": {
        "colab_type": "code",
        "id": "XVZQLvfAFh60",
        "colab": {
          "base_uri": "https://localhost:8080/",
          "height": 279
        },
        "outputId": "511b2d39-fa8f-4a56-bb21-779ea71e8943"
      },
      "source": [
        "# Group by <https://pandas.pydata.org/pandas-docs/stable/reference/api/pandas.DataFrame.groupby.html>\n",
        "# Dataframe을 value를 기준으로 나눠서 값을 연산\n",
        "\n",
        "def plot_clusters(df, column_header, centroids):\n",
        "  fig, ax = plt.subplots()\n",
        "  ax.plot(centroids.iloc[0].x, centroids.iloc[0].y, \"*\", color = '#d63031', markersize = 13)\n",
        "  ax.plot(centroids.iloc[1].x, centroids.iloc[1].y, \"*\", color = '#00cec9', markersize = 13)\n",
        "  ax.plot(centroids.iloc[2].x, centroids.iloc[2].y, \"*\", color = '#fdcb6e', markersize = 13)\n",
        "  \n",
        "  grouped = df.groupby(column_header)\n",
        "  \n",
        "  colors = {0:'#ff7675', 1:'#81ecec', 2:'#ffeaa7'}\n",
        "  for key, group in grouped:\n",
        "      group.plot(ax = ax, kind = 'scatter', x = 'x', y = 'y', label = key, color = colors[key])\n",
        "  \n",
        "  plt.show();\n",
        "  \n",
        "plot_clusters(first_pass, 'cluster_1', centroids)"
      ],
      "execution_count": 50,
      "outputs": [
        {
          "output_type": "display_data",
          "data": {
            "image/png": "[encoded data removed]",
            "text/plain": [
              "<Figure size 432x288 with 1 Axes>"
            ]
          },
          "metadata": {
            "tags": [],
            "needs_background": "light"
          }
        }
      ]
    },
    {
      "cell_type": "code",
      "metadata": {
        "colab_type": "code",
        "id": "I_6cOfkeFwWO",
        "colab": {
          "base_uri": "https://localhost:8080/",
          "height": 173
        },
        "outputId": "0af20b36-abbf-4b5d-fc61-0b3b530bca28"
      },
      "source": [
        "def get_centroids(df, column_header):\n",
        "  return df.groupby(column_header).mean()\n",
        "  \n",
        "centroids = get_centroids(first_pass, 'cluster_1')\n",
        "\n",
        "centroids"
      ],
      "execution_count": 56,
      "outputs": [
        {
          "output_type": "execute_result",
          "data": {
            "text/html": [
              "<div>\n",
              "<style scoped>\n",
              "    .dataframe tbody tr th:only-of-type {\n",
              "        vertical-align: middle;\n",
              "    }\n",
              "\n",
              "    .dataframe tbody tr th {\n",
              "        vertical-align: top;\n",
              "    }\n",
              "\n",
              "    .dataframe thead th {\n",
              "        text-align: right;\n",
              "    }\n",
              "</style>\n",
              "<table border=\"1\" class=\"dataframe\">\n",
              "  <thead>\n",
              "    <tr style=\"text-align: right;\">\n",
              "      <th></th>\n",
              "      <th>x</th>\n",
              "      <th>y</th>\n",
              "    </tr>\n",
              "    <tr>\n",
              "      <th>cluster_1</th>\n",
              "      <th></th>\n",
              "      <th></th>\n",
              "    </tr>\n",
              "  </thead>\n",
              "  <tbody>\n",
              "    <tr>\n",
              "      <th>0</th>\n",
              "      <td>-0.270175</td>\n",
              "      <td>3.672159</td>\n",
              "    </tr>\n",
              "    <tr>\n",
              "      <th>1</th>\n",
              "      <td>-4.920151</td>\n",
              "      <td>-5.604518</td>\n",
              "    </tr>\n",
              "    <tr>\n",
              "      <th>2</th>\n",
              "      <td>-6.916262</td>\n",
              "      <td>1.707156</td>\n",
              "    </tr>\n",
              "  </tbody>\n",
              "</table>\n",
              "</div>"
            ],
            "text/plain": [
              "                  x         y\n",
              "cluster_1                    \n",
              "0         -0.270175  3.672159\n",
              "1         -4.920151 -5.604518\n",
              "2         -6.916262  1.707156"
            ]
          },
          "metadata": {
            "tags": []
          },
          "execution_count": 56
        }
      ]
    },
    {
      "cell_type": "code",
      "metadata": {
        "colab_type": "code",
        "id": "qyZLdP_nHKBa",
        "colab": {
          "base_uri": "https://localhost:8080/",
          "height": 279
        },
        "outputId": "aac7fd5b-78db-4a2b-9644-52509d4e0e17"
      },
      "source": [
        "# 변경된 cluster에 대해 centroid 계산\n",
        "centroids = get_centroids(first_pass, 'cluster_1')\n",
        "\n",
        "second_pass = find_nearest_centroid(first_pass[['x','y']], centroids, '2')\n",
        "\n",
        "plot_clusters(second_pass, 'cluster_2', centroids)"
      ],
      "execution_count": 63,
      "outputs": [
        {
          "output_type": "display_data",
          "data": {
            "image/png": "[encoded data removed]",
            "text/plain": [
              "<Figure size 432x288 with 1 Axes>"
            ]
          },
          "metadata": {
            "tags": [],
            "needs_background": "light"
          }
        }
      ]
    },
    {
      "cell_type": "code",
      "metadata": {
        "colab_type": "code",
        "id": "kBueXP01G8tE",
        "colab": {
          "base_uri": "https://localhost:8080/",
          "height": 279
        },
        "outputId": "28ad0525-aaf3-472b-c8b9-074c6dc61675"
      },
      "source": [
        "centroids = get_centroids(second_pass, 'cluster_2')\n",
        "\n",
        "third_pass = find_nearest_centroid(second_pass[['x','y']], centroids, '3')\n",
        "\n",
        "plot_clusters(third_pass, 'cluster_3', centroids)"
      ],
      "execution_count": 64,
      "outputs": [
        {
          "output_type": "display_data",
          "data": {
            "image/png": "[encoded data removed]",
            "text/plain": [
              "<Figure size 432x288 with 1 Axes>"
            ]
          },
          "metadata": {
            "tags": [],
            "needs_background": "light"
          }
        }
      ]
    },
    {
      "cell_type": "code",
      "metadata": {
        "colab_type": "code",
        "id": "8u6KiGdvpD-e",
        "colab": {
          "base_uri": "https://localhost:8080/",
          "height": 279
        },
        "outputId": "f3f07325-6c41-491c-b61e-2608af7a50ef"
      },
      "source": [
        "centroids = get_centroids(third_pass, 'cluster_3')\n",
        "\n",
        "fourth_pass = find_nearest_centroid(third_pass[['x','y']], centroids, '4')\n",
        "\n",
        "plot_clusters(fourth_pass, 'cluster_4', centroids)"
      ],
      "execution_count": 65,
      "outputs": [
        {
          "output_type": "display_data",
          "data": {
            "image/png": "[encoded data removed]",
            "text/plain": [
              "<Figure size 432x288 with 1 Axes>"
            ]
          },
          "metadata": {
            "tags": [],
            "needs_background": "light"
          }
        }
      ]
    },
    {
      "cell_type": "code",
      "metadata": {
        "colab_type": "code",
        "id": "jaTbGpAcpPSf",
        "colab": {
          "base_uri": "https://localhost:8080/",
          "height": 279
        },
        "outputId": "e7ffe66d-1449-4ba8-fff2-9ef87bead4dc"
      },
      "source": [
        "centroids = get_centroids(fourth_pass, 'cluster_4')\n",
        "\n",
        "fifth_pass = find_nearest_centroid(fourth_pass[['x','y']], centroids, '5')\n",
        "\n",
        "plot_clusters(fifth_pass, 'cluster_5', centroids)"
      ],
      "execution_count": 66,
      "outputs": [
        {
          "output_type": "display_data",
          "data": {
            "image/png": "[encoded data removed]",
            "text/plain": [
              "<Figure size 432x288 with 1 Axes>"
            ]
          },
          "metadata": {
            "tags": [],
            "needs_background": "light"
          }
        }
      ]
    },
    {
      "cell_type": "code",
      "metadata": {
        "colab_type": "code",
        "id": "gXpje6GWpbYS",
        "colab": {
          "base_uri": "https://localhost:8080/",
          "height": 279
        },
        "outputId": "f016351f-cfdf-40a9-bcf1-b046df379f6b"
      },
      "source": [
        "centroids = get_centroids(fifth_pass, 'cluster_5')\n",
        "\n",
        "sixth_pass = find_nearest_centroid(fifth_pass[['x','y']], centroids, '6')\n",
        "\n",
        "plot_clusters(sixth_pass, 'cluster_6', centroids)"
      ],
      "execution_count": 67,
      "outputs": [
        {
          "output_type": "display_data",
          "data": {
            "image/png": "[encoded data removed]",
            "text/plain": [
              "<Figure size 432x288 with 1 Axes>"
            ]
          },
          "metadata": {
            "tags": [],
            "needs_background": "light"
          }
        }
      ]
    },
    {
      "cell_type": "code",
      "metadata": {
        "colab_type": "code",
        "id": "nKo9xSypJvPd",
        "colab": {
          "base_uri": "https://localhost:8080/",
          "height": 34
        },
        "outputId": "fc86287a-d1ed-40fb-ab70-05ab40054ad0"
      },
      "source": [
        "# 유의미한 차이가 없을 때 까지 반복, 이번 경우에는 전체 cluster에 변화가 없는 것을 기준으로 함.\n",
        "convergence = np.array_equal(fifth_pass['cluster_5'], sixth_pass['cluster_6'])\n",
        "convergence"
      ],
      "execution_count": 70,
      "outputs": [
        {
          "output_type": "execute_result",
          "data": {
            "text/plain": [
              "True"
            ]
          },
          "metadata": {
            "tags": []
          },
          "execution_count": 70
        }
      ]
    },
    {
      "cell_type": "code",
      "metadata": {
        "id": "23uCmnUG7dh1",
        "colab_type": "code",
        "colab": {
          "base_uri": "https://localhost:8080/",
          "height": 204
        },
        "outputId": "9fc4ca86-59f5-4cca-d192-e67fd306b0fa"
      },
      "source": [
        "sixth_pass.head()"
      ],
      "execution_count": 74,
      "outputs": [
        {
          "output_type": "execute_result",
          "data": {
            "text/html": [
              "<div>\n",
              "<style scoped>\n",
              "    .dataframe tbody tr th:only-of-type {\n",
              "        vertical-align: middle;\n",
              "    }\n",
              "\n",
              "    .dataframe tbody tr th {\n",
              "        vertical-align: top;\n",
              "    }\n",
              "\n",
              "    .dataframe thead th {\n",
              "        text-align: right;\n",
              "    }\n",
              "</style>\n",
              "<table border=\"1\" class=\"dataframe\">\n",
              "  <thead>\n",
              "    <tr style=\"text-align: right;\">\n",
              "      <th></th>\n",
              "      <th>x</th>\n",
              "      <th>y</th>\n",
              "      <th>cluster_6</th>\n",
              "    </tr>\n",
              "  </thead>\n",
              "  <tbody>\n",
              "    <tr>\n",
              "      <th>0</th>\n",
              "      <td>-9.300827</td>\n",
              "      <td>1.327461</td>\n",
              "      <td>2</td>\n",
              "    </tr>\n",
              "    <tr>\n",
              "      <th>1</th>\n",
              "      <td>-8.682414</td>\n",
              "      <td>1.096749</td>\n",
              "      <td>2</td>\n",
              "    </tr>\n",
              "    <tr>\n",
              "      <th>2</th>\n",
              "      <td>-6.422750</td>\n",
              "      <td>-7.879903</td>\n",
              "      <td>1</td>\n",
              "    </tr>\n",
              "    <tr>\n",
              "      <th>3</th>\n",
              "      <td>-5.080035</td>\n",
              "      <td>-9.055313</td>\n",
              "      <td>1</td>\n",
              "    </tr>\n",
              "    <tr>\n",
              "      <th>4</th>\n",
              "      <td>-1.850381</td>\n",
              "      <td>2.891445</td>\n",
              "      <td>0</td>\n",
              "    </tr>\n",
              "  </tbody>\n",
              "</table>\n",
              "</div>"
            ],
            "text/plain": [
              "          x         y  cluster_6\n",
              "0 -9.300827  1.327461          2\n",
              "1 -8.682414  1.096749          2\n",
              "2 -6.422750 -7.879903          1\n",
              "3 -5.080035 -9.055313          1\n",
              "4 -1.850381  2.891445          0"
            ]
          },
          "metadata": {
            "tags": []
          },
          "execution_count": 74
        }
      ]
    },
    {
      "cell_type": "markdown",
      "metadata": {
        "colab_type": "text",
        "id": "1-nJ_i-NQZIM"
      },
      "source": [
        "## K-means에서 K를 결정하는 방법\n",
        "\n",
        "### The Eyeball Method\n",
        "\n",
        "분석가의 판단을 통해서 ( 데이터의 분포를 보고 ) 임의로 지정하는 방법입니다. \n",
        "\n",
        "### Cluster Entropy / Purity ..."
      ]
    },
    {
      "cell_type": "markdown",
      "metadata": {
        "colab_type": "text",
        "id": "TGueCso5SFXN"
      },
      "source": [
        "## Scikit-learn 라이브러리를 사용하여 K-means를 실행해보도록 하겠습니다"
      ]
    },
    {
      "cell_type": "code",
      "metadata": {
        "colab_type": "code",
        "id": "VmyHklDKSI_m",
        "colab": {
          "base_uri": "https://localhost:8080/",
          "height": 68
        },
        "outputId": "c846d4cf-ee00-4eb1-8220-38a5ac9c62ca"
      },
      "source": [
        "from sklearn.cluster import KMeans \n",
        "kmeans = KMeans(n_clusters=3)\n",
        "kmeans.fit(X)\n",
        "labels = kmeans.labels_\n",
        "\n",
        "print(labels)"
      ],
      "execution_count": 71,
      "outputs": [
        {
          "output_type": "stream",
          "text": [
            "[0 0 1 1 2 0 0 0 0 2 1 1 1 1 0 2 0 0 1 1 0 2 1 1 1 1 0 2 1 2 2 1 2 0 2 0 1\n",
            " 1 0 1 1 1 2 1 1 2 2 2 0 1 2 1 1 0 2 1 2 0 2 0 0 2 1 0 2 2 2 1 0 2 1 0 1 2\n",
            " 2 2 1 2 0 1 2 0 2 1 0 2 2 0 0 0 2 0 0 0 0 1 2 0 0 2]\n"
          ],
          "name": "stdout"
        }
      ]
    },
    {
      "cell_type": "code",
      "metadata": {
        "colab_type": "code",
        "id": "5Gj9sXFDWtLo",
        "colab": {
          "base_uri": "https://localhost:8080/",
          "height": 204
        },
        "outputId": "95600bec-0c5b-4c8d-e7aa-593fad8dd33d"
      },
      "source": [
        "new_series = pd.Series(labels)\n",
        "df['clusters'] = new_series.values\n",
        "\n",
        "df.head()"
      ],
      "execution_count": 72,
      "outputs": [
        {
          "output_type": "execute_result",
          "data": {
            "text/html": [
              "<div>\n",
              "<style scoped>\n",
              "    .dataframe tbody tr th:only-of-type {\n",
              "        vertical-align: middle;\n",
              "    }\n",
              "\n",
              "    .dataframe tbody tr th {\n",
              "        vertical-align: top;\n",
              "    }\n",
              "\n",
              "    .dataframe thead th {\n",
              "        text-align: right;\n",
              "    }\n",
              "</style>\n",
              "<table border=\"1\" class=\"dataframe\">\n",
              "  <thead>\n",
              "    <tr style=\"text-align: right;\">\n",
              "      <th></th>\n",
              "      <th>x</th>\n",
              "      <th>y</th>\n",
              "      <th>label</th>\n",
              "      <th>clusters</th>\n",
              "    </tr>\n",
              "  </thead>\n",
              "  <tbody>\n",
              "    <tr>\n",
              "      <th>0</th>\n",
              "      <td>-9.300827</td>\n",
              "      <td>1.327461</td>\n",
              "      <td>0</td>\n",
              "      <td>0</td>\n",
              "    </tr>\n",
              "    <tr>\n",
              "      <th>1</th>\n",
              "      <td>-8.682414</td>\n",
              "      <td>1.096749</td>\n",
              "      <td>0</td>\n",
              "      <td>0</td>\n",
              "    </tr>\n",
              "    <tr>\n",
              "      <th>2</th>\n",
              "      <td>-6.422750</td>\n",
              "      <td>-7.879903</td>\n",
              "      <td>1</td>\n",
              "      <td>1</td>\n",
              "    </tr>\n",
              "    <tr>\n",
              "      <th>3</th>\n",
              "      <td>-5.080035</td>\n",
              "      <td>-9.055313</td>\n",
              "      <td>1</td>\n",
              "      <td>1</td>\n",
              "    </tr>\n",
              "    <tr>\n",
              "      <th>4</th>\n",
              "      <td>-1.850381</td>\n",
              "      <td>2.891445</td>\n",
              "      <td>2</td>\n",
              "      <td>2</td>\n",
              "    </tr>\n",
              "  </tbody>\n",
              "</table>\n",
              "</div>"
            ],
            "text/plain": [
              "          x         y  label  clusters\n",
              "0 -9.300827  1.327461      0         0\n",
              "1 -8.682414  1.096749      0         0\n",
              "2 -6.422750 -7.879903      1         1\n",
              "3 -5.080035 -9.055313      1         1\n",
              "4 -1.850381  2.891445      2         2"
            ]
          },
          "metadata": {
            "tags": []
          },
          "execution_count": 72
        }
      ]
    },
    {
      "cell_type": "code",
      "metadata": {
        "colab_type": "code",
        "id": "on8qYidhXaA3",
        "colab": {
          "base_uri": "https://localhost:8080/",
          "height": 279
        },
        "outputId": "fbb50ab5-092b-4ba2-d291-0fb782547dd7"
      },
      "source": [
        "centroids = get_centroids(df, 'clusters') # 같다.\n",
        "plot_clusters(df, 'clusters', centroids)"
      ],
      "execution_count": 73,
      "outputs": [
        {
          "output_type": "display_data",
          "data": {
            "image/png": "[encoded data removed]",
            "text/plain": [
              "<Figure size 432x288 with 1 Axes>"
            ]
          },
          "metadata": {
            "tags": [],
            "needs_background": "light"
          }
        }
      ]
    },
    {
      "cell_type": "markdown",
      "metadata": {
        "colab_type": "text",
        "id": "WF5d6AP_VT4c"
      },
      "source": [
        "# 중요한 고려사항:\n",
        "\n",
        "## 적당한 clustering 방법의 선택\n",
        "\n",
        "## 적당한 distance 방법의 선택\n",
        "\n",
        "## 적당한 parameter 의 선택\n",
        "\n",
        "- Elbow method\n"
      ]
    },
    {
      "cell_type": "code",
      "metadata": {
        "colab_type": "code",
        "id": "RXflkYwTL8WT",
        "colab": {}
      },
      "source": [
        "sum_of_squared_distances = []\n",
        "K = range(1,15)\n",
        "for k in K:\n",
        "    km = KMeans(n_clusters=k)\n",
        "    km = km.fit(points)\n",
        "    sum_of_squared_distances.append(km.inertia_)"
      ],
      "execution_count": 75,
      "outputs": []
    },
    {
      "cell_type": "code",
      "metadata": {
        "colab_type": "code",
        "id": "CxrwEX4VL-u5",
        "colab": {
          "base_uri": "https://localhost:8080/",
          "height": 295
        },
        "outputId": "e0dc2a75-c35d-4b9f-def8-736a275071e9"
      },
      "source": [
        "plt.plot(K, sum_of_squared_distances, 'bx-')\n",
        "plt.xlabel('k')\n",
        "plt.ylabel('Sum_of_squared_distances')\n",
        "plt.title('Elbow Method For Optimal k')\n",
        "plt.show()"
      ],
      "execution_count": 76,
      "outputs": [
        {
          "output_type": "display_data",
          "data": {
            "image/png": "[encoded data removed]",
            "text/plain": [
              "<Figure size 432x288 with 1 Axes>"
            ]
          },
          "metadata": {
            "tags": [],
            "needs_background": "light"
          }
        }
      ]
    },
    {
      "cell_type": "markdown",
      "metadata": {
        "colab_type": "text",
        "id": "DhMkzbIFX96q"
      },
      "source": [
        "# 고려사항 2:\n",
        "\n",
        "\n",
        "## 초기 centroid 값\n",
        "\n",
        "k-means는 centroid를 어떻게 선택하느냐에 따라서, clustering의 결과가 안좋거나 끝없이 반복해야 하는 경우도 있습니다.\n",
        "\n",
        "## 계산 복잡도\n"
      ]
    },
    {
      "cell_type": "markdown",
      "metadata": {
        "colab_type": "text",
        "id": "QEEQapU2uRIx"
      },
      "source": [
        "# 만능 알고리즘은 없습니다\n",
        "\n",
        "k-means 말고도 상당히 많은 clustering 알고리즘들이 있으며 각자 풀고자 하는 문제에 대해서 최적화 되어있습니다. 그러나, 최적화된 문제를 제외한 다른부분에는 장점을 보이지 못한다는 단점도 있습니다. \n",
        "\n",
        "### 데이터 사이언티스트에게 시사하는 바가 무엇인가요?\n",
        "\n",
        "1) 문제 해결을 위해서 여러 방법이 있지만 항상 각각의 장단점이 있습니다. 그렇기 때문에 더 많은 방법들을 시도해보고 알고 있을 수록 더 다양한 문제에 대한 답을 줄 수 있다는 의미를 가지며 이것은 여러분이 앞으로도 계속 연구를 해야 하는 이유입니다.\n",
        "\n",
        "2) 한가지 더, 다양한 방법들을 선택하는 최선의 기준은 데이터의 특성일 것입니다. 즉 데이터에 대한 이해가 없다면, 아무리 좋은 방법이 있다고 해도 사용을 할 수 없기 때문에 이것이 도메인에 대한 지식이 필요한 이유입니다.\n",
        "\n",
        "![No Free Lunch](https://cdn-images-1.medium.com/max/1600/1*oNt9G9UpVhtyFLDBwEMf8Q.png)"
      ]
    },
    {
      "cell_type": "markdown",
      "metadata": {
        "id": "yIQbH8bq7s81",
        "colab_type": "text"
      },
      "source": [
        "[대형 쇼핑몰에서 k-means 알고리즘과 순차 패턴을 이용한 추천 시스템](http://www.ngcists.org/journal/file_down.asp?file_idx=96)"
      ]
    }
  ]
}