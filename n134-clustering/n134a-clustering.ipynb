{
  "nbformat": 4,
  "nbformat_minor": 0,
  "metadata": {
    "colab": {
      "name": "n134a-clustering.ipynb",
      "provenance": [],
      "collapsed_sections": []
    },
    "kernelspec": {
      "display_name": "Python 3",
      "language": "python",
      "name": "python3"
    },
    "language_info": {
      "codemirror_mode": {
        "name": "ipython",
        "version": 3
      },
      "file_extension": ".py",
      "mimetype": "text/x-python",
      "name": "python",
      "nbconvert_exporter": "python",
      "pygments_lexer": "ipython3",
      "version": "3.8.5"
    }
  },
  "cells": [
    {
      "cell_type": "markdown",
      "metadata": {
        "colab_type": "text",
        "id": "y-3rVFtGLMJM"
      },
      "source": [
        "<img src='https://i.imgur.com/RDAD11M.png' width = '200' align = 'right'>\n",
        "\n",
        "## *DATA SCIENCE / SECTION 1 / SPRINT 3 / NOTE 4*\n",
        "\n",
        "# 📝 Assignment\n",
        "\n",
        "# K-Means Clustering"
      ]
    },
    {
      "cell_type": "markdown",
      "metadata": {
        "colab_type": "text",
        "id": "_VS3FFSFLR3a"
      },
      "source": [
        "# 1) Kaggle의 \"Breast Cancer Wisconsin (Diagnostic) Data Set\" 을 사용하여 cancer cell을 clustering 해보겠습니다.\n",
        "\n",
        "아래의 주소를 참조하세요\n",
        "\n",
        "<https://www.kaggle.com/uciml/breast-cancer-wisconsin-data>"
      ]
    },
    {
      "cell_type": "markdown",
      "metadata": {
        "colab_type": "text",
        "id": "899RK3bBn4OE"
      },
      "source": [
        "\"diagnosis\"에 각 데이터에 대한 라벨이 있습니다.\n",
        "clustering을 위해 해당 라벨을 제거 후, kmeans를 사용하세요.\n",
        "(아래에 있는 라이브러리들을 전부 사용해야 할 필요는 없습니다.)"
      ]
    },
    {
      "cell_type": "code",
      "metadata": {
        "colab_type": "code",
        "id": "ws5R9X6hLJQ2",
        "colab": {}
      },
      "source": [
        "import pandas as pd\n",
        "import numpy as np\n",
        "import matplotlib.pyplot as plt\n",
        "from sklearn.decomposition import PCA \n",
        "from sklearn.cluster import KMeans \n",
        "from sklearn.preprocessing import StandardScaler "
      ],
      "execution_count": null,
      "outputs": []
    },
    {
      "cell_type": "markdown",
      "metadata": {
        "colab_type": "text",
        "id": "7ghqYSxrP_FE"
      },
      "source": [
        "## 작업 이후 \n",
        "\n",
        "clustering 한 이후의 결과 라벨과 원래 데이터의 라벨을 비교해 보시기 바랍니다. 이후 가능하면 scatter plot 을 통해 결과를 비교하고, 정확도를 아래와 같은 공식을 통해 계산해보세요\n",
        "\n",
        "**라벨 일치 데이터 / 전체 데이터**"
      ]
    },
    {
      "cell_type": "code",
      "metadata": {
        "colab_type": "code",
        "id": "OIG7-yGLP-eA",
        "colab": {}
      },
      "source": [
        "# 코드를 작성하세요"
      ],
      "execution_count": null,
      "outputs": []
    },
    {
      "cell_type": "markdown",
      "metadata": {
        "colab_type": "text",
        "id": "BedOTS0eJ9_K"
      },
      "source": [
        "# 2) 데이터에 PCA를 먼저 적용 후 K-means clustering을 시행해보세요\n",
        "\n",
        "- PCA에 앞서 데이터 정규화를 해야합니다.\n",
        "- PC1과 PC2만 사용하여 clustering 후 scatter plot을 그려보세요.\n",
        "- scree plot을 통해 90%의 variation을 설명하기 위해 사용 되는 PC의 수를 확인해보세요.\n",
        "\n"
      ]
    },
    {
      "cell_type": "code",
      "metadata": {
        "colab_type": "code",
        "id": "dW1AeAK8PNah",
        "colab": {}
      },
      "source": [
        "# 코드를 작성하세요"
      ],
      "execution_count": null,
      "outputs": []
    },
    {
      "cell_type": "markdown",
      "metadata": {
        "colab_type": "text",
        "id": "PkrfbzfBROpP"
      },
      "source": [
        "## 작업 이후\n",
        "\n",
        "- PCA 후 clustering 한 결과와, PCA를 하지 않고 clustering 한 결과의 scatter plot을 비교하여 보세요.\n",
        "- PC1, PC2만 사용하여 clustering 한 결과와, 90% PC를 사용한 결과를 비교하여 보세요.\n",
        "\n",
        "각각의 경우에 대해서 정확도는 어느정도 차이가 있나요?"
      ]
    },
    {
      "cell_type": "markdown",
      "metadata": {
        "id": "nvoEH4e693JM",
        "colab_type": "text"
      },
      "source": [
        "## 🔥 도전 과제 \n",
        "\n",
        "1. 다른 Clustering 방법 들에 대해서 조사 후, 간단히 설명하는 글을 작성하세요.\n",
        "\n",
        "Fuzzy clustering, Hierarchical clustering, K-medians, K-medoids 등\n",
        "<https://en.wikipedia.org/wiki/Cluster_analysis> 참조\n",
        "\n",
        "2. K-means에서 K 를 정하는 방법에 대해서 조사 후, 간단히 설명하는 글을 작성하세요.\n"
      ]
    }
  ]
}