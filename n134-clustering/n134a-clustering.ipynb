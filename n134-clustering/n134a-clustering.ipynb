{
  "nbformat": 4,
  "nbformat_minor": 0,
  "metadata": {
    "colab": {
      "name": "n134a-clustering.ipynb",
      "provenance": [],
      "authorship_tag": "ABX9TyMt5WHMjjBn3quRRsK8XYU7",
      "include_colab_link": true
    },
    "kernelspec": {
      "name": "python3",
      "display_name": "Python 3"
    }
  },
  "cells": [
    {
      "cell_type": "markdown",
      "metadata": {
        "id": "view-in-github",
        "colab_type": "text"
      },
      "source": [
        "<a href=\"https://colab.research.google.com/github/codestates/ds-cs-section1-sprint3/blob/master/n134a_clustering.ipynb\" target=\"_parent\"><img src=\"https://colab.research.google.com/assets/colab-badge.svg\" alt=\"Open In Colab\"/></a>"
      ]
    },
    {
      "cell_type": "markdown",
      "metadata": {
        "id": "y-3rVFtGLMJM"
      },
      "source": [
        "<img src='https://i.imgur.com/RDAD11M.png' width = '200' align = 'right'>\n",
        "\n",
        "## *DATA SCIENCE / SECTION 1 / SPRINT 3 / NOTE 4*\n",
        "\n",
        "# 📝 Assignment\n"
      ]
    },
    {
      "cell_type": "markdown",
      "metadata": {
        "id": "_VS3FFSFLR3a"
      },
      "source": [
        "# 1. Dataset prepare\n",
        "\n",
        "아래의 주소를 참조하여, 데이터를 준비하세요.\n",
        "\n",
        "<https://www.kaggle.com/uciml/breast-cancer-wisconsin-data>"
      ]
    },
    {
      "cell_type": "markdown",
      "metadata": {
        "id": "899RK3bBn4OE"
      },
      "source": [
        "- \"diagnosis\"에 있는 label 데이터를 따로 변수로 생성하세요.\n"
      ]
    },
    {
      "cell_type": "code",
      "metadata": {
        "id": "ws5R9X6hLJQ2"
      },
      "source": [
        "import pandas as pd\n",
        "import numpy as np\n",
        "import matplotlib.pyplot as plt\n",
        "from sklearn.decomposition import PCA \n",
        "from sklearn.cluster import KMeans \n",
        "from sklearn.preprocessing import StandardScaler \n",
        "\n",
        "# read data as df"
      ],
      "execution_count": null,
      "outputs": []
    },
    {
      "cell_type": "markdown",
      "metadata": {
        "id": "rskC80k3OKMA"
      },
      "source": [
        "- 이후 해당 column을 제거한 나머지 데이터를 사용하여 k-means clustering을 하며 k = 2를 제외한 다른 parameter는 default option을 사용합니다."
      ]
    },
    {
      "cell_type": "code",
      "metadata": {
        "id": "U92Y3jNKPpjJ"
      },
      "source": [
        "# df = df.drop('diagnosis', axis=1)"
      ],
      "execution_count": null,
      "outputs": []
    },
    {
      "cell_type": "markdown",
      "metadata": {
        "id": "7ghqYSxrP_FE"
      },
      "source": [
        "2. clustering 결과를 scatter plot을 이용하여 시각화하세요. \n",
        "\n",
        "- 원래 라벨과, clustering 이후의 라벨을 비교하여 accuracy를 측정하세요. \n",
        "\n",
        "- accuracy = 전체데이터중에 라벨이 일치하는 데이터 수 입니다.\n",
        "\n",
        "ex)\n",
        "\n",
        "|원래 라벨|cluster 이후 label|\n",
        "|:-:|:-:|\n",
        "|A|A|\n",
        "|A|B|\n",
        "|A|A|\n",
        "|B|B|\n",
        "|B|B|\n",
        "|B|A|\n",
        "\n",
        "accuracy = (2 + 2) / 6\n",
        "\n"
      ]
    },
    {
      "cell_type": "code",
      "metadata": {
        "id": "OIG7-yGLP-eA"
      },
      "source": [
        ""
      ],
      "execution_count": null,
      "outputs": []
    },
    {
      "cell_type": "markdown",
      "metadata": {
        "id": "BedOTS0eJ9_K"
      },
      "source": [
        "# 2. Data pre-process 후 clustering을 시행해보세요\n",
        "\n",
        "- 각 Feature별로 Scale 조절을 위해 데이터 정규화를 하세요.\n",
        "- 이후 PCA를 시행하세요.\n",
        "- scree plot을 통해 90%의 variation을 설명하기 위해 사용되는 PC의 수를 확인해보세요.\n",
        "- PC1과 PC2만 사용하여 clustering 후 scatter plot을 그려보세요.\n",
        "- 앞의 결과와 달라지는지, 그리고 그 이유에 대해서 간략하게 설명하세요. \n",
        "\n",
        "\n"
      ]
    },
    {
      "cell_type": "code",
      "metadata": {
        "id": "dW1AeAK8PNah"
      },
      "source": [
        ""
      ],
      "execution_count": null,
      "outputs": []
    },
    {
      "cell_type": "markdown",
      "metadata": {
        "id": "yx2kMI0k66Qj"
      },
      "source": [
        "# 🔥 도전 과제\n",
        "\n",
        "아래 링크를 참조하여 hierarchical clustering을 breast cancer dataset에 적용하고, 그 결과를 시각화하세요.\n",
        "\n",
        "<https://scikit-learn.org/stable/modules/clustering.html#hierarchical-clustering>\n"
      ]
    },
    {
      "cell_type": "code",
      "metadata": {
        "id": "BwUsIoLX9TfM"
      },
      "source": [
        ""
      ],
      "execution_count": null,
      "outputs": []
    }
  ]
}