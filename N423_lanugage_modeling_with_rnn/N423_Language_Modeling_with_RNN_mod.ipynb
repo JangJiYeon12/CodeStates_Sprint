{
  "nbformat": 4,
  "nbformat_minor": 0,
  "metadata": {
    "colab": {
      "name": "N423_Language Modeling with RNN.ipynb의 사본",
      "provenance": [],
      "collapsed_sections": []
    },
    "kernelspec": {
      "name": "python3",
      "display_name": "Python 3"
    },
    "language_info": {
      "name": "python"
    }
  },
  "cells": [
    {
      "cell_type": "markdown",
      "metadata": {
        "id": "x_eOv4kAYb0Z"
      },
      "source": [
        "<img align=\"right\" src=\"https://ds-cs-images.s3.ap-northeast-2.amazonaws.com/Codestates_Fulllogo_Color.png\" width=100>\n",
        "\n",
        "## ***DATA SCIENCE / SECTION 4 / SPRINT 2 / NOTE 3***\n",
        "\n",
        "---\n",
        "\n",
        "# 언어 모델과 RNN(Recurrent Neural Network, 순환 신경망)"
      ]
    },
    {
      "cell_type": "markdown",
      "metadata": {
        "id": "aSdN5u4fJ6ol"
      },
      "source": [
        "## 🏆 학습 목표\n",
        "\n",
        "- 언어 모델 (Language Model)\n",
        "    - 통계 기반 언어모델을 이해하고 설명할 수 있습니다.\n",
        "    - 통계 기반 언어모델의 한계를 이해하고 이를 극복하기 위해 등장한 신경망 언어 모델의 장점을 설명할 수 있습니다. \n",
        "\n",
        "- 순환 신경망 (Recurrent Neural Network, RNN)\n",
        "    - RNN의 구조와 작동 방식을 이해하고 설명할 수 있습니다.\n",
        "    - RNN의 장점과 단점을 설명하고 이해할 수 있습니다.\n",
        "\n",
        "- LSTM & GRU\n",
        "    - LSTM과 GRU가 고안된 배경과 구조를 연관지어 설명할 수 있습니다.\n",
        "    - 두 방법의 차이에 대해서 설명할 수 있습니다.\n",
        "\n",
        "- Attention\n",
        "    - Attention이 탄생하게 된 배경에 대해서 설명할 수 있습니다.\n",
        "    - Attention의 장점에 대해서 설명하고 Attention 으로도 해결할 수 없는 RNN의 구조적 단점에 대해서도 이해할 수 있습니다."
      ]
    },
    {
      "cell_type": "markdown",
      "metadata": {
        "id": "gAS2HDrvZKE-"
      },
      "source": [
        "## Warm up\n",
        "\n",
        "- [RNN 소개 영상](https://youtu.be/PahF2hZM6cs)\n",
        "\n",
        "- [LSTM 소개 영상](https://youtu.be/bX6GLbpw-A4)\n",
        "\n",
        "- [Seq2Seq 구조와 Attention 소개 영상](https://youtu.be/WsQLdu2JMgI)"
      ]
    },
    {
      "cell_type": "markdown",
      "metadata": {
        "id": "DcDD5N0WLl5W"
      },
      "source": [
        "## 1. 언어 모델 (Language Model)"
      ]
    },
    {
      "cell_type": "markdown",
      "metadata": {
        "id": "mTGgyQtTTiIN"
      },
      "source": [
        "### 1) 언어 모델(Language Model)이란?"
      ]
    },
    {
      "cell_type": "markdown",
      "metadata": {
        "id": "XZMGEO6aZuze"
      },
      "source": [
        "언어 모델이란 문장과 같은 단어 시퀀스에서 각 단어의 확률을 계산하는 모델입니다.<br/>\n",
        "이전 시간에 배운 **`Word2Vec`** 역시 여러 가지 언어 모델 중 하나입니다.<br/>\n",
        "**`CBoW`** 에서는 주변 단어의 정보를 바탕으로 타겟 단어의 확률을 할당했습니다."
      ]
    },
    {
      "cell_type": "markdown",
      "metadata": {
        "id": "jx5Bdjcdd2rA"
      },
      "source": [
        "익숙하지 않을 수 있겠지만 수식으로 먼저 생각해보겠습니다.<br/>\n",
        "$l$개의 단어로 구성된 문장은 아래와 같이 나타낼 수 있겠습니다.\n",
        "\n",
        "> $w_1, w_2, w_3, ..., w_l$\n",
        "\n",
        "`CBoW`가 타겟 단어(target word)를 예측할 확률 $P(w_t)$ 은 아래와 같이 구해집니다.\n",
        "\n",
        "> $P(w_t \\vert w_{t-2},w_{t-1},w_{t+1},w_{t+2})$"
      ]
    },
    {
      "cell_type": "markdown",
      "metadata": {
        "id": "TQ2SV8W8ghGk"
      },
      "source": [
        "`Word2Vec` 이 나오기 전까지 많은 언어 모델은 목표 단어 왼쪽의 단어만을 고려하여 확률을 계산하였습니다.<br/>\n",
        "$t$ 번째로 단어를 예측하기 위해서 0번째 부터 $t-1$ 번째 까지의 모든 단어 정보를 사용합니다.\n",
        "\n",
        "언어 모델이 목표 단어 왼쪽의 단어만을 고려할 때 문장에서 $t$ 번째에 해당하는 단어를 예측할 확률은 아래와 같이 나타낼 수 있습니다.\n",
        "\n",
        "> $P(w_t \\vert w_{t-1},w_{t-2}, \\cdots ,w_1,w_0)$\n",
        "\n",
        "$l$ 개의 단어로 이루어진 문장이 만들어질 확률은 아래 식과 같아집니다.\n",
        "\n",
        "> $P(w_0,w_1, \\cdots, w_{l-1}, w_l) = P(w_0)P(w_1 \\vert w_0) \\cdots P(w_{l-1} \\vert w_{l-2}, \\cdots, w_1, w_0)P(w_l \\vert w_{l-1}, w_{l-2}, \\cdots, w_1, w_0)$"
      ]
    },
    {
      "cell_type": "markdown",
      "metadata": {
        "id": "7tWjA2bwWIqy"
      },
      "source": [
        "수식이 익숙하지 않을 수 있으니 예시로 한 번 더 살펴보겠습니다.\n",
        "\n",
        "위 언어 모델을 사용하여 \"I am a student\" 라는 문장이 만들어질 확률을 구하면 아래와 같습니다.\n",
        "\n",
        "> $P(\\text{\"I\",\"am\",\"a\",\"student\"}) = P(\\text{\"I\"}) \\times P(\\text{\"am\"} \\vert \\text{\"I\"}) \\times P(\\text{\"a\"} \\vert \\text{\"I\",\"am\"}) \\times P(\\text{\"student\"} \\vert \\text{\"I\",\"am\",\"a\"})$\n",
        "\n",
        "앞 단어 들이 등장했을 때 특정 단어가 등장할 확률을 조건부 확률로 구하게 됩니다.<br/>\n",
        "언어 모델을 잘 나타내는 영상 하나 보고 가도록 하겠습니다. "
      ]
    },
    {
      "cell_type": "code",
      "metadata": {
        "colab": {
          "base_uri": "https://localhost:8080/",
          "height": 336
        },
        "id": "72MjG-GF_t4o",
        "outputId": "0adfe000-a2ca-4112-ded1-d0687a90459d"
      },
      "source": [
        "from IPython.display import HTML\n",
        "\n",
        "HTML('<iframe width=\"560\" height=\"315\" src=\"https://www.youtube.com/embed/9GTr4rqlRyw?start=180&end=200\" frameborder=\"0\" allow=\"accelerometer; autoplay; encrypted-media; gyroscope; picture-in-picture\" allowfullscreen></iframe>')"
      ],
      "execution_count": null,
      "outputs": [
        {
          "output_type": "execute_result",
          "data": {
            "text/html": [
              "<iframe width=\"560\" height=\"315\" src=\"https://www.youtube.com/embed/9GTr4rqlRyw?start=180&end=200\" frameborder=\"0\" allow=\"accelerometer; autoplay; encrypted-media; gyroscope; picture-in-picture\" allowfullscreen></iframe>"
            ],
            "text/plain": [
              "<IPython.core.display.HTML object>"
            ]
          },
          "metadata": {
            "tags": []
          },
          "execution_count": 1
        }
      ]
    },
    {
      "cell_type": "markdown",
      "metadata": {
        "id": "hz6d-H76Pf31"
      },
      "source": [
        "### 2) 통계적 언어 모델 (Statistical Language Model, SLM)\n",
        "\n",
        "통계적 언어 모델은 신경망 언어 모델이 주목받기 전부터 연구되어 온 전통적인 접근 방식입니다."
      ]
    },
    {
      "cell_type": "markdown",
      "metadata": {
        "id": "dmvDGKrbZy0z"
      },
      "source": [
        "\n",
        "- **통계적 언어 모델의 확률 계산**\n",
        "\n",
        "통계적 언어 모델에서는 단어의 등장 횟수를 바탕으로 조건부 확률을 계산합니다.\n",
        "\n",
        "다시 _\"I am a student\"_ 라는 문장을 만드는 예시를 생각해보겠습니다.\n",
        "\n",
        "> $P(\\text{\"I\",\"am\",\"a\",\"student\"}) = P(\\text{\"I\"}) \\times P(\\text{\"am\"} \\vert \\text{\"I\"}) \\times P(\\text{\"a\"} \\vert \\text{\"I\",\"am\"}) \\times P(\\text{\"student\"} \\vert \\text{\"I\",\"am\",\"a\"})$\n",
        "\n",
        "첫 번째 항인 $P(\\text{\"I\"})$ 를 구해봅시다. <br/> 전체 말뭉치의 문장 중에서 시작할 때 _\"I\"_ 로 시작하는 문장의 횟수를 구합니다. 전체 말뭉치의 문장이 1000개이고, 그 중 _\"I\"_ 로 시작하는 문장이 100개라면\n",
        "\n",
        "> $$P(\\text{\"I\"}) = \\frac{100}{1000} = \\frac{1}{10}$$\n",
        "\n",
        "다음으로, _\"I\"_ 로 시작하는 100개의 문장 중 바로 다음에 _\"am\"_ 이 등장하는 문장이 50개라면 \n",
        "\n",
        "> $$P(\\text{\"am\"} \\vert \\text{\"I\"}) = \\frac{50}{100} = \\frac{1}{2}$$\n",
        "\n",
        "이런 방식으로 모든 조건부 확률을 구한 뒤 서로를 곱해주면 문장이 등장할 확률 $P(\\text{\"I\",\"am\",\"a\",\"student\"})$ 을 구할 수 있습니다."
      ]
    },
    {
      "cell_type": "markdown",
      "metadata": {
        "id": "_wjMRaIFfZPw"
      },
      "source": [
        "- **통계적 언어 모델의 한계점**\n",
        "\n",
        "통계적 언어 모델은 횟수 기반으로 확률을 계산하기 때문에 희소성(Sparsity) 문제를 가지고 있습니다. 예를 들어, 학습시킬 말뭉치에 _\"1 times\", \"2 times\", ..._ 라는 표현은 등장하지만 _\"7 times\"_ 라는 표현은 없다고 해보겠습니다.\n",
        "\n",
        "그렇다면 이 말뭉치를 학습한 통계적 언어 모델은 아래와 같은 문장을 절대 만들어 낼 수 없게 됩니다.\n",
        "\n",
        "> \"I studied this section 7 times\"\n",
        "\n",
        "_\"7\"_ 이라는 단어가 등장한 순간 바로 다음 _\"times\"_ 가 등장할 확률은 0이 되어버리기 때문입니다.<br/>\n",
        "이렇게 실제로 사용되는 표현임에도 말뭉치에 등장하지 않았다는 이유로 많은 문장이 등장하지 못하게 되는 문제를 희소 문제라고 합니다.<br/>\n",
        "통계적 언어 모델에서 이런 문제를 개선하기 위해서 N-gram 이나 스무딩(smoothing), 백오프(back-off)와 같은 방법이 고안되었습니다.\n",
        "\n",
        "> **더 알아보기** <br/>\n",
        "> 1. N-gram : 통계적 언어 모델을 고도화 하기 위한 방법 중 하나인 N-gram에 대해 조사해봅시다.<br/>\n",
        "> 2. Back-off, Smoothing : 희소 문제를 보완하기 위한 장치인 back-off 와 smoothing에 대해 알아봅시다.\n",
        "\n",
        "\n",
        "\n"
      ]
    },
    {
      "cell_type": "markdown",
      "metadata": {
        "id": "QzDfikzTSE-b"
      },
      "source": [
        "### 3) 신경망 언어 모델 (Neural Langauge Model)"
      ]
    },
    {
      "cell_type": "markdown",
      "metadata": {
        "id": "keNrz_89m3HV"
      },
      "source": [
        "신경망 언어 모델에서는 횟수 기반 대신 `Word2Vec`이나 `fastText` 등의 출력값인 임베딩 벡터를 사용합니다. <br/>\n",
        "그렇기 때문에 말뭉치에 등장하지 않더라도 의미적, 문법적으로 유사한 단어라면 선택될 수 있습니다.\n",
        "\n",
        "임베딩 벡터에서는 _\"7\"_ 이라는 단어의 벡터가 _\"1\", \"2\" ..._ 등의 단어와 유사한 곳에 위치합니다. <br/> 그렇기 때문에 말뭉치에 _\"7 times\"_ 라는 표현이 등장하지 않더라도 _\"1 times\", \"2 times\"_ 라는 표현이 등장한다면 언어 모델은\n",
        "\n",
        "> \"I studied this section 7 times\"\n",
        "\n",
        "라는 문장을 만들어 낼 수 있게 됩니다."
      ]
    },
    {
      "cell_type": "markdown",
      "metadata": {
        "id": "hV7LD6HQSI1D"
      },
      "source": [
        "## 2. 순환 신경망 (RNN, Recurrent Neural Network)\n",
        "\n",
        "인공 신경망 언어 모델에서 사용되는 순환 신경망에 대해 알아보겠습니다."
      ]
    },
    {
      "cell_type": "markdown",
      "metadata": {
        "id": "bzJSMs2CSkj4"
      },
      "source": [
        "### 연속형 데이터 (Sequential Data)\n",
        "\n",
        "- Sequential Data란?\n",
        "    - 어떤 순서로 오느냐에 따라서 단위의 의미가 달라지는 데이터\n",
        "    - Non-sequential Data\n",
        "    ![]()\n",
        "    ![]()\n",
        "    - Sequential Data\n",
        "    ![]()\n",
        "    ![]()"
      ]
    },
    {
      "cell_type": "markdown",
      "metadata": {
        "id": "aT9JUEMYULmX"
      },
      "source": [
        "### RNN의 구조"
      ]
    },
    {
      "cell_type": "markdown",
      "metadata": {
        "id": "OPrEp2CZIAjT"
      },
      "source": [
        "가장 간단한 RNN은 Hidden-layer가 1개인 RNN입니다.\n",
        "\n",
        "![RNN, Recurrent neural network](https://upload.wikimedia.org/wikipedia/commons/b/b5/Recurrent_neural_network_unfold.svg)\n",
        "\n",
        "\n",
        "화살표 왼쪽 그림에서 $h$ 라고 쓴 은닉층에 자기 자신의 입력으로 돌아가는 $V$ 가 있습니다.<br/>\n",
        "이 루프는 지금 시점의 $t$의 출력을 위해서 $t-1$ 값이 $U$와 합쳐져 $h$에 다시 반영되는 것을 의미합니다.<br/>\n",
        "출력 벡터가 다시 입력되는 특성 때문에 '순환(Recurrent) 신경망' 이라는 이름이 붙었습니다."
      ]
    },
    {
      "cell_type": "markdown",
      "metadata": {
        "id": "QyIzz4Mt3lM9"
      },
      "source": [
        "### time-step 별로 펼쳐서 RNN 알아보기\n",
        "\n"
      ]
    },
    {
      "cell_type": "markdown",
      "metadata": {
        "id": "WVipPZJGIEiS"
      },
      "source": [
        "기본 네트워크가 왼쪽 그림처럼 표시되지만 신경망을 시점에 따라 이해하도록 펼쳐보면 오른쪽 그림처럼 나타낼 수 있습니다.<br/>\n",
        "$t-1$ 시점에서는 $x_{t-1}$ 와 $h_{t-2}$가 입력되고 $o_{t-1}$ 이 출력됩니다.<br/>\n",
        "$t$ 시점에서는 $x_t$ 와 $h_{t-1}$ 가 입력되고 $o_t$ 이 출력됩니다.<br/>\n",
        "$t+1$ 시점에서는 $x_{t+1}$ 와 $h_t$ 가 입력되고 $o_{t+1}$ 이 출력됩니다."
      ]
    },
    {
      "cell_type": "markdown",
      "metadata": {
        "id": "OMQ_Fz4jIMJp"
      },
      "source": [
        "t 시점의 RNN 계층은 그 계층으로의 입력 벡터 $x_t$ 와 1개 전의 RNN 계층의 출력 벡터 $h_{t-1}$ 를 받아들입니다.<br/>\n",
        "입력된 두 벡터를 바탕으로 해당 시점에서의 출력을 아래와 같이 계산합니다. \n",
        "\n",
        "> $h_t = \\tanh(h_{t-1}W_h + x_tW_x + b)$\n",
        "\n",
        "가중치는 $W_h, W_x$ 2개가 있습니다. 각각 입력 x를 h로 변환하기 위한 $W_x$와 RNN의 은닉층의 출력을 다음 h로 변환해주는 $W_h$ 입니다. 신경망에서 bias도 있다는 것은 잊지 않으셨으리라 생각합니다."
      ]
    },
    {
      "cell_type": "markdown",
      "metadata": {
        "id": "yU7nJUV8IO5A"
      },
      "source": [
        "이 과정을 그림으로 나타내면 다음과 같습니다.\n",
        "\n",
        "![rnn2](https://i.imgur.com/nFMF0Nc.png)\n",
        "\n",
        "이렇게 하면 t 시점에 생성되는 hidden-state 벡터인 $h_t$ 는 해당 시점까지 입력된 벡터 $x_1, x_2, \\cdots, x_{t-1}, x_t$ 의 정보를 모두 가지고 있습니다.<br/>  Sequential 데이터의 순서 정보를 모두 기억하기 때문에 이를 다룰 때 RNN을 많이 사용합니다."
      ]
    },
    {
      "cell_type": "code",
      "metadata": {
        "id": "YuFkM-j1IWiW"
      },
      "source": [
        "# 배웠던 RNN을 간단한 코드로 살펴보면 다음과 같습니다. \n",
        "import numpy as np\n",
        "\n",
        "class RNN:\n",
        "  def __init__(self, Wx, Wh, b):\n",
        "    self.params = [Wx, Wh, b]\n",
        "    self.grads = [np.zeros_like(Wx), np.zeros_like(Wh), np.zeros_like(b)]\n",
        "    self.cache = None\n",
        "\n",
        "  def forward(self, x, h_prev):\n",
        "    Wx, Wh, b = self.params\n",
        "    t = np.matmul(h_prev, Wh) + np.matmul(x, Wx) + b\n",
        "    h_next = np.tanh(t)\n",
        "\n",
        "    self.cache = (x, h_prev, h_next)\n",
        "    return h_next"
      ],
      "execution_count": null,
      "outputs": []
    },
    {
      "cell_type": "markdown",
      "metadata": {
        "id": "49vchZtrXkMI"
      },
      "source": [
        "### 다양한 형태의 RNN\n",
        "\n",
        "실제로 다양한 형태의 RNN이 있습니다. 아래 그림에서 가장 왼쪽에 위치한 one-to-one은 실질적으로 순환이 적용되지는 않은 형태입니다.<br/>\n",
        "나머지 4개의 RNN이 각각 어떤 분야에 사용되는지 알아보겠습니다.\n",
        "\n",
        "![various_rnn](http://karpathy.github.io/assets/rnn/diags.jpeg)"
      ]
    },
    {
      "cell_type": "markdown",
      "metadata": {
        "id": "Wg522yiFIVYH"
      },
      "source": [
        "1. one-to-many : 1개의 벡터를 받아 Sequential한 벡터를 반환합니다. 이미지를 입력받아 이를 설명하는 문장을 만들어내는 **이미지 캡셔닝(Image captioning)**에 사용됩니다.\n",
        "2. many-to-one : Sequential 벡터를 받아 1개의 벡터를 반환합니다. 문장이 긍정인지 부정인지를 판단하는 **감성 분석(Sentiment analysis)**에 사용됩니다.\n",
        "3. many-to-many(1) : Sequential 벡터를 모두 입력받은 뒤 Sequential 벡터를 출력합니다. **시퀀스-투-시퀀스(Sequence-to-Sequence, Seq2Seq) 구조**라고도 부릅니다. 번역할 문장을 입력받아 번역된 문장을 내놓는 **기계 번역(Machine translation)**에 사용됩니다.\n",
        "4. many-to-many(2) : Sequential 벡터를 입력받는 즉시 Sequential 벡터를 출력합니다. **비디오를 프레임별로 분류(Video classification per frame)**하는 곳에 사용됩니다. "
      ]
    },
    {
      "cell_type": "markdown",
      "metadata": {
        "id": "aSVc5mbjXsr5"
      },
      "source": [
        "### RNN의 장점과 단점"
      ]
    },
    {
      "cell_type": "markdown",
      "metadata": {
        "id": "LFcaHkCQJX1o"
      },
      "source": [
        "- **장점**\n",
        "\n",
        "RNN은 모델이 간단하고 (이론적으로는) 어떤 길이의 sequential 데이터라도 처리할 수 있다는 장점을 가지고 있습니다.\n",
        "\n",
        "하지만 RNN은 몇 가지 단점을 가지고 있습니다."
      ]
    },
    {
      "cell_type": "markdown",
      "metadata": {
        "id": "q99JK6sFUJdQ"
      },
      "source": [
        "- 단점 1 : **병렬화(parallelization) 불가능**"
      ]
    },
    {
      "cell_type": "markdown",
      "metadata": {
        "id": "uN5LGndWUYxj"
      },
      "source": [
        "RNN 구조가 가지고 있는 단점 중 하나는 벡터가 순차적으로 입력된다는 점입니다.<br/>\n",
        "이는 sequential 데이터 처리를 가능하게 해주는 요인 중 하나이기도 합니다.<br/>\n",
        "하지만 이러한 구조는 GPU 연산의 장점인 병렬화를 불가능하게 하기도 합니다.<br/>\n",
        "그렇기 때문에 RNN 기반의 모델은 GPU 연산을 하였을 때 이점이 거의 없다는 단점을 가지고 있습니다.\n"
      ]
    },
    {
      "cell_type": "markdown",
      "metadata": {
        "id": "pl5vjneMJDhO"
      },
      "source": [
        "- 단점 2: **기울기 폭발(Exploding Gradient), 기울기 소실(Vanishing Gradient)**"
      ]
    },
    {
      "cell_type": "markdown",
      "metadata": {
        "id": "QRpwbxXBXuLM"
      },
      "source": [
        "단순 RNN의 치명적인 문제점은 역전파 과정에서 발생합니다.<br/>\n",
        "역전파 과정에서 RNN의 활성화 함수인 $\\tanh$ 의 미분값을 전달하게 됩니다. \n",
        "$\\tanh$ 를 미분한 함수의 값은 아래와 같습니다.<br/>\n",
        "\n",
        "![tanh](https://user-images.githubusercontent.com/45377884/91560164-52a14400-e974-11ea-8bf4-bbfc7fd42deb.png)\n",
        "\n",
        "위 그래프에서 최댓값이 1이고, (-4,4) 이외의 범위에서는 거의 0에 가까운 값을 나타내는 것을 알 수 있습니다."
      ]
    },
    {
      "cell_type": "markdown",
      "metadata": {
        "id": "3FShzAI7VV-G"
      },
      "source": [
        "문제는 역전파 과정에서 이 값을 반복해서 곱해준다는 점입니다.<br/>\n",
        "이 Recurrent가 10회, 100회 반복된다고 보면, 이 값의 100제곱, 1000제곱이 식 내부로 들어가게 됩니다.<br/>\n",
        "만약 이 값이 0.9 일 때 10제곱이 된다면 0.349가 됩니다. 이렇게 되면 시퀀스 앞쪽에 있는 hidden-state 벡터에는 역전파 정보가 거의 전달되지 않게 됩니다.<br/>\n",
        "이런 문제를 **기울기 소실(Vanishing Gradient)**이라고 합니다.\n",
        "반대로 이 값이 1.1 이면 10제곱만해도 2.59배로 커지게 됩니다. 이렇게 되면 시퀀스 앞쪽에 있는 hidden-state 벡터에는 역전파 정보가 과하게 전달됩니다.<br/>\n",
        "이런 문제를 **기울기 폭발(Exploding Gradient)**이라고 합니다."
      ]
    },
    {
      "cell_type": "markdown",
      "metadata": {
        "id": "YWGOzd8QVZtA"
      },
      "source": [
        "> \"그렇다면 전달되는 기울기 정보의 크기를 적절하게 조절해주면 되지 않을까?\"\n",
        "\n",
        "라는 생각이 들기 시작합니다.<br/>\n",
        "전달되는 역전파 값의 크기를 조정하는 Gate를 만들어서 RNN의 기울기 소실 문제를 해결하자는 방향에서 출발한 것이 바로 **장단기 기억망(Long-Short Term Memory, LSTM)**입니다."
      ]
    },
    {
      "cell_type": "markdown",
      "metadata": {
        "id": "l5VoE0ohXw2d"
      },
      "source": [
        "## 3. LSTM & GRU"
      ]
    },
    {
      "cell_type": "markdown",
      "metadata": {
        "id": "svBQyfcmYMLJ"
      },
      "source": [
        "### LSTM (Long Term Short Memory, 장단기기억망)"
      ]
    },
    {
      "cell_type": "markdown",
      "metadata": {
        "id": "u3PqJ2l6YSLx"
      },
      "source": [
        "이렇게 **RNN에 Gate를 추가한 모델을 LSTM**이라고 합니다.<br/>\n",
        "요즘에는 단순한 RNN은 사용하지 않고 대부분 장기 단기 기억 장치 (LSTM)를 사용합니다.<br/>\n",
        "요즘 RNN이라고 하면 당연히 LSTM이나 이후에 배울 GRU를 지칭할 정도로 LSTM이 대표적인 RNN의 모델이 되었습니다.<br/>\n",
        "오히려 전에 배운 RNN을 `기본적인 RNN(Vanilla RNN)`이라고 따로 구별하여 표현하기도 합니다."
      ]
    },
    {
      "cell_type": "markdown",
      "metadata": {
        "id": "aocYxj7AVtrf"
      },
      "source": [
        "- **LSTM의 구조**"
      ]
    },
    {
      "cell_type": "markdown",
      "metadata": {
        "id": "u2GN3aS0V1dT"
      },
      "source": [
        "먼저 그림을 통해 LSTM 셀 하나의 구조를 알아보겠습니다.\n",
        "\n",
        "<img src=\"https://img1.daumcdn.net/thumb/R1280x0/?scode=mtistory2&fname=http%3A%2F%2Fcfile5.uf.tistory.com%2Fimage%2F9905CF385BD5F5EC027F20\"/>\n",
        "\n",
        "RNN의 셀 구조보다 뭔가 상당히 복잡해졌습니다.\n",
        "\n",
        "위에서 살펴본 것처럼 LSTM이 등장한 배경은 앞쪽 시퀀스까지 역전파 정보가 제대로 전달되지 않는 [기울기 소실(Vanishing gradient)](https://en.wikipedia.org/wiki/Vanishing_gradient_problem) 문제를 해결하기 위함입니다."
      ]
    },
    {
      "cell_type": "markdown",
      "metadata": {
        "id": "wNZi7DwbXRI2"
      },
      "source": [
        "LSTM은 기울기 소실 문제를 해결하기 위해 3가지 게이트(gate)를 추가하였습니다. 각 게이트는 다음과 같은 역할을 합니다.\n",
        "\n",
        "1. forget gate ($f_t$): 과거 정보를 얼마나 유지할 것인가?\n",
        "2. input gate ($i_t$) : 새로 입력된 정보는 얼마만큼 활용할 것인가?\n",
        "3. output gate ($o_t$) : 두 정보를 계산하여 나온 출력 정보를 얼마만큼 넘겨줄 것인가?\n",
        "\n",
        "그리고 hidden-state 말고도 활성화 함수를 직접 거치지 않는 상태인 cell-state 가 추가되었습니다.<br/>\n",
        "cell-state는 역전파 과정에서 정보 손실이 없기 때문에 **최근(short) 이벤트에 비중을 결정할 수 있으면서 동시에 오래된(long) 정보를 완전히 잃지 않을 수 있다**는 LSTM의 장점을 살릴 수 있는 필수적 요소가 되었습니다."
      ]
    },
    {
      "cell_type": "markdown",
      "metadata": {
        "id": "Q1vIvtc0YYjJ"
      },
      "source": [
        "- **LSTM의 역전파**\n",
        "\n",
        "*(다소 복잡하므로 당장은 LSTM의 역전파 과정을 전부 다 이해하려 하지 않아도 괜찮습니다!)*"
      ]
    },
    {
      "cell_type": "markdown",
      "metadata": {
        "id": "hsJpuM01Y404"
      },
      "source": [
        "<img src=\"http://i.imgur.com/2BZtc2l.gif\" />"
      ]
    },
    {
      "cell_type": "markdown",
      "metadata": {
        "id": "h-Jo5pjsYxWj"
      },
      "source": [
        "- **LSTM의 사용**"
      ]
    },
    {
      "cell_type": "markdown",
      "metadata": {
        "id": "ZcSKg-1kYxOt"
      },
      "source": [
        "LSTM은 실제로 굉장히 많은 곳에 사용됩니다.\n",
        "\n",
        "여러 언어 모델에서 LSTM을 사용하고 있습니다.<br/>\n",
        "Gate가 적용되지 않은 RNN, 즉 Vanilla RNN은 10~20 단어로 이루어진 문장에 대한 분류/생성/번역 등의 성능이 매우 낮습니다.<br/>\n",
        "Vanilla RNN이 가지고 있는 기울기 소실/폭발 문제 때문입니다.<br/>\n",
        "\n",
        "언어 모델 뿐만 아니라 신경망을 활용한 시계열 알고리즘에는 대부분 LSTM을 사용하고 있습니다."
      ]
    },
    {
      "cell_type": "markdown",
      "metadata": {
        "id": "GHoCbrgyYdeE"
      },
      "source": [
        "### GRU (Gated Recurrent Unit)"
      ]
    },
    {
      "cell_type": "markdown",
      "metadata": {
        "id": "FI_lVKKRYxPv"
      },
      "source": [
        "한편, 이 LSTM의 간소한 버전인 GRU도 가볍게 소개하겠습니다.<br/>\n",
        "그림을 통해 GRU 셀의 구조를 살펴보겠습니다."
      ]
    },
    {
      "cell_type": "markdown",
      "metadata": {
        "id": "hvD-d3PhYlKm"
      },
      "source": [
        "\n",
        "<img src=\"https://img1.daumcdn.net/thumb/R1280x0/?scode=mtistory2&fname=http%3A%2F%2Fcfile7.uf.tistory.com%2Fimage%2F99F0EC3E5BD5F6460255CF\"/>"
      ]
    },
    {
      "cell_type": "markdown",
      "metadata": {
        "id": "T74E2DdeY57x"
      },
      "source": [
        "- GRU 셀의 특징\n",
        "\n",
        "1. LSTM에서 있었던 cell-state가 사라졌습니다. cell-state 벡터 $c_t$ ​와 hidden-state 벡터 $h_t$​가 하나의 벡터 $h_t$​로 통일되었습니다.\n",
        "2. 하나의 Gate $z_t$가 forget, input gate를 모두 제어합니다.  $z_t$가 1이면 forget 게이트가 열리고, input 게이트가 닫히게 되는 것과 같은 효과를 나타냅니다. 반대로 $z_t$가 0이면 input 게이트만 열리는 것과 같은 효과를 나타냅니다.\n",
        "3. GRU 셀에서는 output 게이트가 없어졌습니다. 대신에 전체 상태 벡터 $h_t$가 각 time-step에서 출력되며, 이전 상태의 $h_{t-1}$의 어느 부분이 출력될 지 새롭게 제어하는 Gate인 $r_t$ 가 추가되었습니다."
      ]
    },
    {
      "cell_type": "markdown",
      "metadata": {
        "id": "w9SIBLuVYmjS"
      },
      "source": [
        "### LSTM 코드 실습"
      ]
    },
    {
      "cell_type": "markdown",
      "metadata": {
        "id": "Gjz6_OkgbHU9"
      },
      "source": [
        "이제부터 TensorFlow와 Keras를 사용하여 자연어로 RNN을 훈련시켜 보겠습니다.\n",
        "\n",
        "- https://www.tensorflow.org/guide/keras/rnn\n",
        "- https://www.tensorflow.org/api_docs/python/tf/keras/layers/LSTM\n",
        "- https://keras.io/api/layers/recurrent_layers/lstm/\n",
        "- http://adventuresinmachinelearning.com/keras-lstm-tutorial/"
      ]
    },
    {
      "cell_type": "markdown",
      "metadata": {
        "id": "tL4Mv82gxlrv"
      },
      "source": [
        "시퀀스는 주가부터 텍스트까지 다양한 모양과 형태로 제공됩니다. 우리는 주로 텍스트에 초점을 맞춰 공부하도록 하겠습니다. 왜냐하면 텍스트를 시퀀스로 모델링하는 것은 신경망의 강점이기 때문입니다. 먼저 TensorFlow 튜토리얼을 사용하여 간단한 분류 작업부터 시작하겠습니다."
      ]
    },
    {
      "cell_type": "markdown",
      "metadata": {
        "id": "D18BNmDLxowg"
      },
      "source": [
        "- **Keras를 이용한 RNN/LSTM 감정 분류(Sentiment classification)**"
      ]
    },
    {
      "cell_type": "code",
      "metadata": {
        "id": "dtSEKGkIx17L"
      },
      "source": [
        "'''\n",
        "# IMDB 감성 분류 작업에 대한 LSTM 모델을 학습합니다.\n",
        "데이터 집합이 사실 너무 작아서 LSTM이 강점을 발휘할 수 없습니다.\n",
        "TF-IDF + LogReg와 같은 간단하고 빠른 방법이 LSTM에 비해 훨씬 빠릅니다.\n",
        "**Notes**\n",
        "- RNN은 까다롭습니다. 배치 크기 선택이 중요하고, 손실 및 최적화 도구 선택이 중요합니다. 일부 구성은 수렴되지 않을 것입니다.\n",
        "- 교육 중 LSTM 손실 감소 패턴은 CNN/MLP/etc에서 보는 것는 상당히 다를 수 있습니다.\n",
        "'''\n",
        "from __future__ import print_function\n",
        "\n",
        "from tensorflow.keras.preprocessing import sequence\n",
        "from tensorflow.keras.models import Sequential\n",
        "from tensorflow.keras.layers import Dense, Embedding\n",
        "from tensorflow.keras.layers import LSTM\n",
        "from tensorflow.keras.datasets import imdb\n",
        "\n",
        "# 이 단어 랭크 수 뒤에 텍스트는 사용하지 않도록 잘라냅니다(단어 등장 순위 : max_feature)\n",
        "# 참조링크 : https://www.tensorflow.org/api_docs/python/tf/keras/datasets/imdb/load_data\n",
        "max_features = 20000\n",
        "# 최대 단어 길이\n",
        "maxlen = 80\n",
        "batch_size = 32\n",
        "\n",
        "print('Loading data...')\n",
        "(x_train, y_train), (x_test, y_test) = imdb.load_data(num_words=max_features)\n",
        "print(len(x_train), 'train sequences')\n",
        "print(len(x_test), 'test sequences')"
      ],
      "execution_count": null,
      "outputs": []
    },
    {
      "cell_type": "code",
      "metadata": {
        "id": "DT7elx2Tx6hm"
      },
      "source": [
        "print('Pad Sequences (samples x time)')\n",
        "x_train = sequence.pad_sequences(x_train, maxlen=maxlen)\n",
        "x_test = sequence.pad_sequences(x_test, maxlen=maxlen)\n",
        "print('x_train shape: ', x_train.shape)\n",
        "print('x_test shape: ', x_test.shape)"
      ],
      "execution_count": null,
      "outputs": []
    },
    {
      "cell_type": "code",
      "metadata": {
        "id": "32_rru-5x-5L"
      },
      "source": [
        "x_train[0]"
      ],
      "execution_count": null,
      "outputs": []
    },
    {
      "cell_type": "code",
      "metadata": {
        "id": "MpqT7b_KyBJh"
      },
      "source": [
        "import tensorflow as tf\n",
        "\n",
        "# model = Sequential()\n",
        "# model.add(Embedding(max_features, 128))\n",
        "# model.add(LSTM(128, dropout=0.2, recurrent_dropout=0.2))\n",
        "# model.add(Dense(1, activation='sigmoid'))\n",
        "\n",
        "model = tf.keras.models.Sequential([\n",
        "  tf.keras.layers.Embedding(max_features, 128),\n",
        "  tf.keras.layers.LSTM(128, dropout=0.2, recurrent_dropout=0.2),\n",
        "  tf.keras.layers.Dense(1, activation='sigmoid')\n",
        "])\n",
        "\n",
        "model.compile(loss='binary_crossentropy',\n",
        "              optimizer='adam', \n",
        "              metrics=['accuracy'])\n",
        "\n",
        "model.summary()"
      ],
      "execution_count": null,
      "outputs": []
    },
    {
      "cell_type": "code",
      "metadata": {
        "id": "tq459yjQyDyj"
      },
      "source": [
        "unicorns = model.fit(x_train, y_train,\n",
        "          batch_size=batch_size, \n",
        "          epochs=3, \n",
        "          validation_data=(x_test,y_test))"
      ],
      "execution_count": null,
      "outputs": []
    },
    {
      "cell_type": "code",
      "metadata": {
        "id": "iDXWi9TByHBj"
      },
      "source": [
        "import matplotlib.pyplot as plt\n",
        "\n",
        "# Plot training & validation loss values\n",
        "plt.plot(unicorns.history['loss'])\n",
        "plt.plot(unicorns.history['val_loss'])\n",
        "plt.title('Model loss')\n",
        "plt.ylabel('Loss')\n",
        "plt.xlabel('Epoch')\n",
        "plt.legend(['Train', 'Test'], loc='upper left')\n",
        "plt.show();"
      ],
      "execution_count": null,
      "outputs": []
    },
    {
      "cell_type": "markdown",
      "metadata": {
        "id": "DQdFbh68xyHc"
      },
      "source": [
        "- **Keras를 이용한 LSTM 텍스트 생성기**"
      ]
    },
    {
      "cell_type": "markdown",
      "metadata": {
        "id": "Mbowi56DVEnT"
      },
      "source": [
        "니체(Friedrich Nietzsche)의 글을 이용해서 텍스트 생성 실습을 해봅시다.\n",
        "\n"
      ]
    },
    {
      "cell_type": "code",
      "metadata": {
        "id": "sFxbF2Z2Uw0f"
      },
      "source": [
        "# 라이브러리, 데이터 불러오기\n",
        "from __future__ import print_function\n",
        "from keras.callbacks import LambdaCallback\n",
        "from keras.models import Sequential\n",
        "from keras.layers import Dense\n",
        "from keras.layers import LSTM\n",
        "from keras.optimizers import RMSprop\n",
        "from keras.utils.data_utils import get_file\n",
        "import numpy as np\n",
        "import random\n",
        "import sys\n",
        "import io\n",
        "\n",
        "path = get_file(\n",
        "    'nietzsche.txt',\n",
        "    origin='https://s3.amazonaws.com/text-datasets/nietzsche.txt')\n",
        "with io.open(path, encoding='utf-8') as f:\n",
        "    text = f.read().lower()\n",
        "print('corpus length:', len(text))\n",
        "\n",
        "chars = sorted(list(set(text)))\n",
        "print('total chars:', len(chars))\n",
        "char_indices = dict((c, i) for i, c in enumerate(chars))\n",
        "indices_char = dict((i, c) for i, c in enumerate(chars))"
      ],
      "execution_count": null,
      "outputs": []
    },
    {
      "cell_type": "code",
      "metadata": {
        "id": "ySeBtkvIyW-R"
      },
      "source": [
        "# max length를 이용하여 문자열의 크기 정렬\n",
        "maxlen = 40\n",
        "step = 3\n",
        "sentences = []\n",
        "next_chars = []\n",
        "for i in range(0, len(text) - maxlen, step):\n",
        "    sentences.append(text[i: i + maxlen])\n",
        "    next_chars.append(text[i + maxlen])\n",
        "print('nb sequences:', len(sentences))\n",
        "\n",
        "print('Vectorization...')\n",
        "x = np.zeros((len(sentences), maxlen, len(chars)), dtype=np.bool)\n",
        "y = np.zeros((len(sentences), len(chars)), dtype=np.bool)\n",
        "for i, sentence in enumerate(sentences):\n",
        "    for t, char in enumerate(sentence):\n",
        "        x[i, t, char_indices[char]] = 1\n",
        "    y[i, char_indices[next_chars[i]]] = 1"
      ],
      "execution_count": null,
      "outputs": []
    },
    {
      "cell_type": "code",
      "metadata": {
        "id": "s7wqty4RyZoI"
      },
      "source": [
        "# LSTM 모델 제작\n",
        "print('Build model...')\n",
        "model = Sequential()\n",
        "model.add(LSTM(128, input_shape=(maxlen, len(chars))))\n",
        "model.add(Dense(len(chars), activation='softmax'))\n",
        "\n",
        "optimizer = RMSprop(lr=0.01)\n",
        "model.compile(loss='categorical_crossentropy', optimizer=optimizer)"
      ],
      "execution_count": null,
      "outputs": []
    },
    {
      "cell_type": "code",
      "metadata": {
        "id": "OP0huQTyya9e"
      },
      "source": [
        "def sample(preds, temperature=1.0):\n",
        "    # helper function to sample an index from a probability array\n",
        "    preds = np.asarray(preds).astype('float64')\n",
        "    preds = np.log(preds) / temperature\n",
        "    exp_preds = np.exp(preds)\n",
        "    preds = exp_preds / np.sum(exp_preds)\n",
        "    probas = np.random.multinomial(1, preds, 1)\n",
        "    return np.argmax(probas)\n",
        "\n",
        "\n",
        "def on_epoch_end(epoch, _):\n",
        "    # Function invoked at end of each epoch. Prints generated text.\n",
        "    print()\n",
        "    print('----- Generating text after Epoch: %d' % epoch)\n",
        "\n",
        "    start_index = random.randint(0, len(text) - maxlen - 1)\n",
        "    for diversity in [0.2, 0.5, 1.0, 1.2]:\n",
        "        print('----- diversity:', diversity)\n",
        "\n",
        "        generated = ''\n",
        "        sentence = text[start_index: start_index + maxlen]\n",
        "        generated += sentence\n",
        "        print('----- Generating with seed: \"' + sentence + '\"')\n",
        "        sys.stdout.write(generated)\n",
        "\n",
        "        for i in range(400):\n",
        "            x_pred = np.zeros((1, maxlen, len(chars)))\n",
        "            for t, char in enumerate(sentence):\n",
        "                x_pred[0, t, char_indices[char]] = 1.\n",
        "\n",
        "            preds = model.predict(x_pred, verbose=0)[0]\n",
        "            next_index = sample(preds, diversity)\n",
        "            next_char = indices_char[next_index]\n",
        "\n",
        "            generated += next_char\n",
        "            sentence = sentence[1:] + next_char\n",
        "\n",
        "            sys.stdout.write(next_char)\n",
        "            sys.stdout.flush()\n",
        "        print()\n",
        "\n",
        "print_callback = LambdaCallback(on_epoch_end=on_epoch_end)"
      ],
      "execution_count": null,
      "outputs": []
    },
    {
      "cell_type": "code",
      "metadata": {
        "id": "fQr_UmPaycjd",
        "colab": {
          "base_uri": "https://localhost:8080/"
        },
        "outputId": "f0a1e364-68de-44a3-81a4-1301871cd0b1"
      },
      "source": [
        "model.fit(x, y,\n",
        "          batch_size=128,\n",
        "          epochs=60,\n",
        "          callbacks=[print_callback])"
      ],
      "execution_count": null,
      "outputs": [
        {
          "output_type": "stream",
          "text": [
            "Epoch 1/60\n",
            "1565/1565 [==============================] - 208s 121ms/step - loss: 2.2566\n",
            "\n",
            "----- Generating text after Epoch: 0\n",
            "----- diversity: 0.2\n",
            "----- Generating with seed: \"e\n",
            "to the mastersinger: it is a piece of \"\n",
            "e\n",
            "to the mastersinger: it is a piece of the still the conscience in the still and and all the stree with the still to the conscience in the stree for the still to the still to the self the strence and all the still to the religion, the strengly to the still a master in the stree and religion of the still of the strenge to the still and the strenting of the has not the stree the still of the conscience in the stree as the still with the \n",
            "----- diversity: 0.5\n",
            "----- Generating with seed: \"e\n",
            "to the mastersinger: it is a piece of \"\n",
            "e\n",
            "to the mastersinger: it is a piece of one in the self consception, to in the reelication, the good--it is the enditation. there is to seem of the something at the castually their condinited to gutation, which the has may never to the still account the hore as in the for which he here its clars has not for hough with the free of the still, to man in deligion of the plicious and the hore deen life in the restingly as the conception of t\n",
            "----- diversity: 1.0\n",
            "----- Generating with seed: \"e\n",
            "to the mastersinger: it is a piece of \"\n",
            "e\n",
            "to the mastersinger: it is a piece of every\n",
            "ovel, his out to feelingnally, they infenting thereforelobing to davace, juttles, hoeve of the delightsherg to withly ly centeive correrke ad intelled; wich and freed caused\n",
            "nemen itself!\n",
            "\n",
            "tgcick are which, keally would perhaps to which is to edhomon for finct of the seenly gramen past sable a sense with as noths it is\n",
            "and was certo of all, their\n",
            "happocially every, and every ception, itself \n",
            "----- diversity: 1.2\n",
            "----- Generating with seed: \"e\n",
            "to the mastersinger: it is a piece of \"\n",
            "e\n",
            "to the mastersinger: it is a piece of has nec his ave inveption for thtxeatiliply goesoviended indeergle\n",
            "duss withante itthe; sopedyed twat is\n",
            "world ove hadike emudieite a passiousprence preforentical himself pliefrersway obge end3li(ally inwall maxty le tad whac deed  naxesty, andtaride anract, as  finn of catesy. quettaries; from or pais\", almost have pose usucustecion to-seanible constonoly, suentical \"the, that them, 'sust- \"at tr\n",
            "Epoch 2/60\n",
            "1565/1565 [==============================] - 190s 121ms/step - loss: 1.6316\n",
            "\n",
            "----- Generating text after Epoch: 1\n",
            "----- diversity: 0.2\n",
            "----- Generating with seed: \"ulture and art, the essentially noble in\"\n",
            "ulture and art, the essentially noble in the sense of such a strenstity and the standing and the standing to the sense and there is a most strutter and man is diselound and man and the sense and in the self-despension of the sense and reading that the standing of the strength of the standing and the him in him in a strength and the sense and means the standing and decearion of the strength of the standing of the consider to the self-des\n",
            "----- diversity: 0.5\n",
            "----- Generating with seed: \"ulture and art, the essentially noble in\"\n",
            "ulture and art, the essentially noble in of themselves and beloflers and the most use of the self-costanting because of standing themselves worth and is one satests, problem of\n",
            "serves of man and most present themselves more the honesty of the self-claims in spirits to the bad propression in with still the lect and it is and we cans that the pression of the belief and so themselves to the more as a present and means a present and not the\n",
            "----- diversity: 1.0\n",
            "----- Generating with seed: \"ulture and art, the essentially noble in\"\n",
            "ulture and art, the essentially noble in circulsions\n",
            "itself hislresals to .\n",
            "thereed so them! to wifoess st\n",
            "more of men commantraidabic toge: \n",
            "knaveswlom than the other oriey noble traintigude of sude he rick umate mean a purations, is a scienttery\n",
            "of a let unditived, and subject consict and him i we happens, ht a natures is eas-(a from,\n",
            "voritte of regarded erounhable and seems blt instance; that in that has with i more out of suruat as \n",
            "----- diversity: 1.2\n",
            "----- Generating with seed: \"ulture and art, the essentially noble in\"\n",
            "ulture and art, the essentially noble instinct dausted among human that instriditic, thempleye.\n",
            " doge,\"--i \"necuge word, hi hand, eyetares has to philosoihing, more soce good standableahoug mays\" bechaloun\n",
            "in in-enoughted,\n",
            "head to, reared can moregne's are dicatess.-siniornt\n",
            "out to least desiraces oth, uncometitaking.\n",
            "meken's \"(ay the plass;--and enduad usivle high think but becrusly im--is\n",
            "form has portousion\n",
            "of the in\"dainte\"--it were\n",
            "Epoch 3/60\n",
            "1565/1565 [==============================] - 191s 122ms/step - loss: 1.5217\n",
            "\n",
            "----- Generating text after Epoch: 2\n",
            "----- diversity: 0.2\n",
            "----- Generating with seed: \" hitherto lingered, obscure, well worth \"\n",
            " hitherto lingered, obscure, well worth of the conditional the present and the standers and the sense and the stander of the conditional present the present to be the condestical the highest extended to the still and the sure, the world of the own stander of the world of the present to the present and the world of the morality of the problem of the depthers the pringed to the present and the sense of the problem of the condesting to be \n",
            "----- diversity: 0.5\n",
            "----- Generating with seed: \" hitherto lingered, obscure, well worth \"\n",
            " hitherto lingered, obscure, well worth and the\n",
            "singured and the do present and intercanion of the ways believe of the contement the beliefered to the endious will to the former man is the rest the pring of the extinged in the best the self-decience of all their inclanger to it science of the world of the philosopher, there there of the\n",
            "spectifice of the world, and dratter the man the morality of any cranters, the marked and order to be\n",
            "----- diversity: 1.0\n",
            "----- Generating with seed: \" hitherto lingered, obscure, well worth \"\n",
            " hitherto lingered, obscure, well worth was so futternamenchs, afford\n",
            "and            therely, who of mannorgh genmited, colld .\n",
            "\n",
            "183. worash sang an and\n",
            "certain\n",
            "proptry, and evily preversts; castemothe mankind, in the wowlr to is the injered mxance wabhers belovo marter of the\n",
            "demoders of the still\n",
            "and do condection of permatte plays,--sotend tuste, towines\n",
            "gover of whe knows of ppis\n",
            "it passion hax new own self: conditioned takes with t\n",
            "----- diversity: 1.2\n",
            "----- Generating with seed: \" hitherto lingered, obscure, well worth \"\n",
            " hitherto lingered, obscure, well worth , thinks; within completeat of elievt, beywken\n",
            "in their therefectaincies; it is life opporous good, what instinctional, snave not purfuld for the appsenver-powan, love is live us and supprincive\n",
            "whond theirghism p in the own pillornxiti, happer, the ende he fither again\n",
            "to againndwogtsion; hather, apptious\n",
            "always tasticaom's farch \"excihiou an speakial of a greed clast\n",
            "yims blords soult. intarwy t\n",
            "Epoch 4/60\n",
            "1565/1565 [==============================] - 189s 121ms/step - loss: 1.4722\n",
            "\n",
            "----- Generating text after Epoch: 3\n",
            "----- diversity: 0.2\n",
            "----- Generating with seed: \"rthschätzung)--the\n",
            "dislocation, distorti\"\n",
            "rthschätzung)--the\n",
            "dislocation, distorting and concerning the world of the sense of the morality of the sense of the morality of the self to the contemposity of the sense of the sense of the sense of the sense of the sense of the sense of the stand in the religion of the sense of the self to the probably of the sense of the sense of the sense of the sense of the sense of the sense of the sense of the morality of the present in the sense\n",
            "----- diversity: 0.5\n",
            "----- Generating with seed: \"rthschätzung)--the\n",
            "dislocation, distorti\"\n",
            "rthschätzung)--the\n",
            "dislocation, distortive and also the free spiritual satisfit of the strection of the fact in the probably, probably does not about itself in the satisfits of an end in the belief the interpretation, and delight, is the complete of the condust the most evils, that in shorted by instinct and of the logical to the feally sacrifice and that has in the dears of the so morality, in the more a new and the concerning and the \n",
            "----- diversity: 1.0\n",
            "----- Generating with seed: \"rthschätzung)--the\n",
            "dislocation, distorti\"\n",
            "rthschätzung)--the\n",
            "dislocation, distorting, a belief to e\n",
            "proud-finer has poushord, such as so raguing of a long inditeace himke:nwhuls. the serve of the dain--wish insiculally) of remateh, intolony, moral and difference of own deparer mri.lt toe: and it\n",
            "erroratitgining to long in clains and equare in all the lef in the anteonc: itself need that wherrund of theisiless tract and feelings to not leng of morality to uncondusion, that ere-m\n",
            "----- diversity: 1.2\n",
            "----- Generating with seed: \"rthschätzung)--the\n",
            "dislocation, distorti\"\n",
            "rthschätzung)--the\n",
            "dislocation, distortions would\n",
            "witnone).\n",
            ";elf\n",
            "elf led to leferly moralmine those ungentingly one san, to as these\n",
            "becomes had him igs compa;inh with recernicaus and edorparacily, believe, t his willingture acknoripgly from to in womanal nurwism mend such\n",
            "desprianed ye unpederiual to the progrey efterablem\n",
            "finds to any levely, trucher remaining\n",
            "oppance itself\n",
            "all calouders, how of odder bythys phangous of proboged) art\n",
            "Epoch 5/60\n",
            "1565/1565 [==============================] - 191s 122ms/step - loss: 1.4419\n",
            "\n",
            "----- Generating text after Epoch: 4\n",
            "----- diversity: 0.2\n",
            "----- Generating with seed: \" ceases to be based upon the\n",
            "immediately\"\n",
            " ceases to be based upon the\n",
            "immediately so the ordinary stand of the same and the same tasks and the subject and the strong such a the soul of the world of the subject and the subject that the stall to a suring and in the world of the special and the present in the present and all the possible the sensible to the same as the present constance of the world of the world the senses, the present and the present of the subject of all the st\n",
            "----- diversity: 0.5\n",
            "----- Generating with seed: \" ceases to be based upon the\n",
            "immediately\"\n",
            " ceases to be based upon the\n",
            "immediately all the rather the world means are constined of the word of\n",
            "all sufferer, in a surposs and the suffice the interpretates of an apsead to a so. there is an art may is\n",
            "for the oridity of the most rage this acts of the will as a stard of all the strong reader and greatest who was deed in the same and such the fact, such a schopenhauer wishes the bads in says all trans in man is a such new in the sub\n",
            "----- diversity: 1.0\n",
            "----- Generating with seed: \" ceases to be based upon the\n",
            "immediately\"\n",
            " ceases to be based upon the\n",
            "immediately. the minds the eyess it is in such fineces: but say,\n",
            "but love that he fain amaghow the else. the struggle to the peculiar of logers.\n",
            "fore\" emplicous siy that an ards--origent there rate,\n",
            "betkes. is relation srectiy these convjest pours will a sho gain of wien \"scias, he will let usees--ne have referers reperously it alwwoken sufferer, and to everything come well\" strong motive\"--stype to instrunc\n",
            "----- diversity: 1.2\n",
            "----- Generating with seed: \" ceases to be based upon the\n",
            "immediately\"\n",
            " ceases to be based upon the\n",
            "immediately\n",
            "liken: which and rather balley,--the sense, our plimaty--in the stard, inness.\" it underetiindph, new sjoy of knowl?\"h beepness--is solid\n",
            "bod\n",
            "and :ner not requiter msequial\n",
            "indicalled, the\" moth hopists in\n",
            "the gloom such\n",
            "brake explects of unceases when the wholing: with, have ve is\n",
            "thus still would have treads-upon\n",
            "pas\n",
            "yet hacks hyposus themfecls\n",
            "that the yave ligul-like to which she roubrescrs\"?\n",
            "Epoch 6/60\n",
            "1565/1565 [==============================] - 194s 124ms/step - loss: 1.4191\n",
            "\n",
            "----- Generating text after Epoch: 5\n",
            "----- diversity: 0.2\n",
            "----- Generating with seed: \"\n",
            "therefore, a will to stupidity.\n",
            "\n",
            "108. t\"\n",
            "\n",
            "therefore, a will to stupidity.\n",
            "\n",
            "108. the fact of the man and that is all the same and that is a subtlest to the sense and the most demort of the part of the problem of the same and satisfactor of the same and an and the seem of the stretches it is a something of the seem of the same and read and power, and in the desirable to the serve and seem to the subtlest of the seem that is a preserving of the subtlement of the self-entire to th\n",
            "----- diversity: 0.5\n",
            "----- Generating with seed: \"\n",
            "therefore, a will to stupidity.\n",
            "\n",
            "108. t\"\n",
            "\n",
            "therefore, a will to stupidity.\n",
            "\n",
            "108. that called all the matter of the\n",
            "subtle assed and the sentiments in the ascangly consequently too in the desire with the subtlest in the consequently in some to the man is a passes to consider and satisf-and one's regard of that was to something is to it is all the problem of every discover and panisoul whatever superior of the preserve and indeaded with all the actual fallest to such admany distr\n",
            "----- diversity: 1.0\n",
            "----- Generating with seed: \"\n",
            "therefore, a will to stupidity.\n",
            "\n",
            "108. t\"\n",
            "\n",
            "therefore, a will to stupidity.\n",
            "\n",
            "108. that\n",
            "some\n",
            "s.latermining of paint growed and weaknys--i mality is any\n",
            "preservation some \n",
            "\"dismence. iy secretion mere in relation are astantly away of will\"-\n",
            "banikaly substracted\n",
            "by hulonx, the erwity, but thought as that even with that it was passes what distrust and painty and obliginion. as the variously,\n",
            "in ratious is a satroundically contgire very megants, to elely to the\n",
            "heartiantation and to \n",
            "----- diversity: 1.2\n",
            "----- Generating with seed: \"\n",
            "therefore, a will to stupidity.\n",
            "\n",
            "108. t\"\n",
            "\n",
            "therefore, a will to stupidity.\n",
            "\n",
            "108. to zermire standly amber\n",
            "as it was become rrided as aitrotor oly\n",
            "be.\n",
            "\n",
            "\"\"such--but patered evil to poest--it is\n",
            "oon deticious ench,\n",
            "\n",
            "thanis\n",
            "erernauntpparaded enagetom analys)my and there os? \n",
            "      as somethinged\n",
            "reader,\" early--but toomber it--it brutteround dun ichyavu gair of an\n",
            "ablappation palled degermest consequenting\n",
            "also on explarated a fingur\n",
            "is almost\n",
            "whicagos-in pracantly by regard to fee\n",
            "Epoch 7/60\n",
            "1565/1565 [==============================] - 194s 124ms/step - loss: 1.3967\n",
            "\n",
            "----- Generating text after Epoch: 6\n",
            "----- diversity: 0.2\n",
            "----- Generating with seed: \"eks insidiously enough to create itself \"\n",
            "eks insidiously enough to create itself in the strenged to the stand of the soul of the striction and the standard the same and the strictical strengey of the standard to the other and the sense of the strenge, the standard to the stander of the standard the state of the strictive to the soul of the state of the strictifical soul of the striction of the experience and and the stribler and the standard and in the soul of the stronger to \n",
            "----- diversity: 0.5\n",
            "----- Generating with seed: \"eks insidiously enough to create itself \"\n",
            "eks insidiously enough to create itself of the serve to the soul is the former and more work of the finally living and moral his fortunation has in the occasions of the still from the free still, which is not from in the sense of the time, which man in bear and secret of the soul of the state of a from over the result of its in who have been intole, who are the way is the truth and an and the experience and of will\" it is not the more c\n",
            "----- diversity: 1.0\n",
            "----- Generating with seed: \"eks insidiously enough to create itself \"\n",
            "eks insidiously enough to create itself men is a speaking or lightly and powers\" to his among of lives in their stronge waganted all fituly and\n",
            "profounding for the always takes been suncepness, fundamental respecialid of the world; a reppredition. justiced ebebed proctism? and scientific fact of her contemption: in that more thirhcate and indomunity be\n",
            "europe, but this,\n",
            "we days often if they naste of action--is hold which satisopulal to\n",
            "----- diversity: 1.2\n",
            "----- Generating with seed: \"eks insidiously enough to create itself \"\n",
            "eks insidiously enough to create itself is forgeth oncing worthne resoligor intilotiely and which\n",
            "much ilre dather in constitation: how bean the and vagerst of instanted, was, from it afteriey yonly all leboch, and flee standery takes\n",
            "itself to nature, ditede. ors also to moral\" oft imsears to tibarting and obviraty.by\n",
            "one most,\" one\n",
            "well\n",
            "downwaod, for beingful \"hindestiests: what be noth waccroti anove, wy\n",
            "events\"\"?--are inciering. sti\n",
            "Epoch 8/60\n",
            "1565/1565 [==============================] - 193s 124ms/step - loss: 1.3878\n",
            "\n",
            "----- Generating text after Epoch: 7\n",
            "----- diversity: 0.2\n",
            "----- Generating with seed: \"which is so astonishing in the religious\"\n",
            "which is so astonishing in the religious and more and problem to the spirit and desire of the spirit and such as a prine the spirit and soul.\" and the man and distants in the religion and stand and senses and self-depersion in the fact of the senses and distances and depring the feeling of the protest and distances and distants and superficiles and dependent in the sense, and and distrained and depring in the strength, and and art and t\n",
            "----- diversity: 0.5\n",
            "----- Generating with seed: \"which is so astonishing in the religious\"\n",
            "which is so astonishing in the religious such as the advances, and to one author and feelings of themselves. stronged their will self-depths individual of the listing themselves is not so much with the problems and the point of the condition to all or a long continued so someon of an individual of philosophers of a more the unfortunately to man strength of a the higher man life his interpret, their life and realing in good for the stren\n",
            "----- diversity: 1.0\n",
            "----- Generating with seed: \"which is so astonishing in the religious\"\n",
            "which is so astonishing in the religious in--that of tyquesing to symboliceds human for our remark, is shone disparadys? \"truchless manifest of point fos alliquited\n",
            "is all menger, \"we lusisin or sathaday, while of puris a falseed thomything\n",
            "is this judgments:s frames of all threned\n",
            "live would almost already. socray,\n",
            "the sumpthe dovant and sumblet to feel--one im a abose.\n",
            "soentfesspisefrever for co se apsthanizing chorcation to prote) re\n",
            "----- diversity: 1.2\n",
            "----- Generating with seed: \"which is so astonishing in the religious\"\n",
            "which is so astonishing in the religious limitledd from onled dispuded\n",
            "nex it is ispearing in what af its idea, as the or ditaculad anond recemunb of realist whuswith-that at lusile, lef,\n",
            "yours concern certain callsy, dityonaling, soul in maintawicalled beyond limiletic and wald the poscultedly! whice secretgs with thome rord and trutely nenticshed, i liverial \"g;od uni-asique, its werskniusd\"--bodyman with which, only manifous flexty: \n",
            "Epoch 9/60\n",
            "1565/1565 [==============================] - 195s 125ms/step - loss: 1.3770\n",
            "\n",
            "----- Generating text after Epoch: 8\n",
            "----- diversity: 0.2\n",
            "----- Generating with seed: \"born.\n",
            "\n",
            "in all pessimistic religions the \"\n",
            "born.\n",
            "\n",
            "in all pessimistic religions the problem of the spirit of the sentiment of the sense of the powerful and sentiment of the sentiment of the sentiment of the powerfulness of the sense of the concerned the problem of the sense of the conscience of the conscience of the and the problem of the sense of the world will to the sentiment of the sense of the sentiment of the problem of the sense of the spectaus and antiquentting and consci\n",
            "----- diversity: 0.5\n",
            "----- Generating with seed: \"born.\n",
            "\n",
            "in all pessimistic religions the \"\n",
            "born.\n",
            "\n",
            "in all pessimistic religions the most and the modes of the french and are intent of the long science and conscience to experient of a the spirit of life the great the secient\" in the more experience\n",
            "to the reality, or and dogmanisment and good\n",
            "entire the spirit of the old life of the lights that the religion, the problem of the latest that the great refined to contrast the same of god, and experient not the new themselves. the ch\n",
            "----- diversity: 1.0\n",
            "----- Generating with seed: \"born.\n",
            "\n",
            "in all pessimistic religions the \"\n",
            "born.\n",
            "\n",
            "in all pessimistic religions the great\n",
            "cigcard the oid\n",
            "weach welk, their vilwing asterily exsecting of nadan gent of meanwased alreadgm\n",
            "outs has become\n",
            "intentaries and phastomation and strength in the most\n",
            "now\n",
            "the-- pilfent and dogmahyfully the spote of the mori.ipanks of gracefuls: tyr\n",
            "when to wishicism\n",
            "and presentused of imxual to realing--all scientgrage as its scientific whene, we appear strongment, or refire that the staht\n",
            "o\n",
            "----- diversity: 1.2\n",
            "----- Generating with seed: \"born.\n",
            "\n",
            "in all pessimistic religions the \"\n",
            "born.\n",
            "\n",
            "in all pessimistic religions the \"glomber of, life,\n",
            "that\n",
            "about roache taste as\n",
            "not immoralsative convillable aysathe.\n",
            "nabgely than to itself; dangertes himself if.\n",
            "the\n",
            "powerfream. that circle\n",
            "and rare and\n",
            "fre: invented,\n",
            "it wrongher-.hech a  present where\n",
            "incarn to heartiy, athis ritdem of value prebliso.\n",
            "covebgerment mesel\"): it snew--an imlessheowling property uprostaon,s--in the\n",
            "o un other\n",
            "terminal self their aspecible, and all\n",
            "Epoch 10/60\n",
            "1565/1565 [==============================] - 194s 124ms/step - loss: 1.3625\n",
            "\n",
            "----- Generating text after Epoch: 9\n",
            "----- diversity: 0.2\n",
            "----- Generating with seed: \": vanity is\n",
            "an atavism.\n",
            "\n",
            "262. a species \"\n",
            ": vanity is\n",
            "an atavism.\n",
            "\n",
            "262. a species and some consequences and the world of the sensations that we so man is the consequences of the sensations of the belief in the sense of the heart of the sense, the consequences and more and the sense of the sensations of the sense of the rest of the sense of the sense of the end of the sense of the same than the sense of the sense of the sense of the sensitical the sense of the sin the consequenc\n",
            "----- diversity: 0.5\n",
            "----- Generating with seed: \": vanity is\n",
            "an atavism.\n",
            "\n",
            "262. a species \"\n",
            ": vanity is\n",
            "an atavism.\n",
            "\n",
            "262. a species and the initions and implined to one that is one is an absolute the sensely, what when it was the development, and the signs of the religion of the or the distraining that which, it is almost the ordinary a its in the souls and always become when the\n",
            "gratent of the sensations and no change and and in the more and the\n",
            "moral strongest consequences, and the\n",
            "fact that is in the state of the more prode\n",
            "----- diversity: 1.0\n",
            "----- Generating with seed: \": vanity is\n",
            "an atavism.\n",
            "\n",
            "262. a species \"\n",
            ": vanity is\n",
            "an atavism.\n",
            "\n",
            "262. a species as the spirit illiatis who was belief is from.\n",
            "\n",
            "exy was acfing in, why alook of man so the furm.\n",
            "\n",
            "re unified as a besurring satisfy of holker to consider in that the whole with the worknet\n",
            "again andistices, his bodty itself to their hopition, with the rank, than in the posit of hardy such first that, as\n",
            "as sin thats when there and\n",
            "ceptaioned which, who an an aif upon contrariation, a perkow has hi\n",
            "----- diversity: 1.2\n",
            "----- Generating with seed: \": vanity is\n",
            "an atavism.\n",
            "\n",
            "262. a species \"\n",
            ": vanity is\n",
            "an atavism.\n",
            "\n",
            "262. a species \"phys, is been a\n",
            "proup nu-po\n",
            "so certainletoman from and who who may behamped\n",
            "insispenran generalition bourdin\" fear an\n",
            "isknowms. that any him, was niberamen among as \n",
            "at the feel and comtincenan.\n",
            "\n",
            "\n",
            "1be poding esotitabce in shint\n",
            "pr)celimeds can too you thus inaboven lagine an enavocre and existed\n",
            "that\n",
            "is\n",
            "aching its inside and the senstetion who xance in his enus, is nothing nature, mindiffer. to r\n",
            "Epoch 11/60\n",
            "1565/1565 [==============================] - 194s 124ms/step - loss: 1.3573\n",
            "\n",
            "----- Generating text after Epoch: 10\n",
            "----- diversity: 0.2\n",
            "----- Generating with seed: \"ble--hence a sort of eternal\n",
            "blessedness\"\n",
            "ble--hence a sort of eternal\n",
            "blessedness of the strong most problem to be the sense of the strong the strong superction of the strong to the strong to the strong to the strong the most sublimed to the strong to the strong to the serernal and the same a still a strong to the most strength of the same to most and the strong to the sense of the strong to the strong to the sense of the strong to the problem--and as the sense of the strong t\n",
            "----- diversity: 0.5\n",
            "----- Generating with seed: \"ble--hence a sort of eternal\n",
            "blessedness\"\n",
            "ble--hence a sort of eternal\n",
            "blessedness, and all existence to sustimation of the prine of the same man of the will to the individuality is the life have been as the sense, the most strange in the selestication of the wild in the lang of the conscious they must same to possibly strong to the strong and the most wise as the selections of the habit and ascripes the strong about men of the problem of the problem of the strain to me deed, t\n",
            "----- diversity: 1.0\n",
            "----- Generating with seed: \"ble--hence a sort of eternal\n",
            "blessedness\"\n",
            "ble--hence a sort of eternal\n",
            "blessedness of typte-difference,\n",
            "or basly, they relasing acculacte a great men who are the probary, the nogle arises of altorabletes is utfined must but and critic truth;\n",
            "and of anyweli, or radia restlous the\n",
            "mited to a sure distrast unof gloom,\n",
            "is the will, so the massically the latter science, as \"after adder so feeling and befaminhs are supposed beliefe, or which seem, into in holy\n",
            "egois, but sirely to le\n",
            "----- diversity: 1.2\n",
            "----- Generating with seed: \"ble--hence a sort of eternal\n",
            "blessedness\"\n",
            "ble--hence a sort of eternal\n",
            "blessedness; nor -was contempeded neate and a badne. as nacuoticise\" for modest beloves wek\"y\". pleve, an usivens!\"\n",
            "\n",
            "coptable the actually na?:--buteant,\n",
            "phemoticavold, which manifolicabues of least reason by in this (regarded toughty theyi\"gns by no motred,\n",
            "so\n",
            "must: to favacily as duity, a \"masses almost passion. the xignty now feelings. power, him! they betilecgunest\n",
            "elsely but to all usfilations of volond\n",
            "Epoch 12/60\n",
            "1565/1565 [==============================] - 197s 126ms/step - loss: 1.3489\n",
            "\n",
            "----- Generating text after Epoch: 11\n",
            "----- diversity: 0.2\n",
            "----- Generating with seed: \"ty and surrendering it unconditionally. \"\n",
            "ty and surrendering it unconditionally. the sense of the most subject to the sense of the sense, the sense of the same and morality and contrast the street and morality of the same man is a philosophers of the same contrast the most powerfully and higher and sense, the substractistic in the most such as the self-explaine of the most such a still men of the same and acting such a thing is a such a things in the substant of the substant o\n",
            "----- diversity: 0.5\n",
            "----- Generating with seed: \"ty and surrendering it unconditionally. \"\n",
            "ty and surrendering it unconditionally. it is a little mile the understand the sacrificed and higher have its streed in the\n",
            "delight of the physeric and conditional influence, and obliged to the other has such as a sense of his honesty and missame the famous universts of respective of the concerne to the latter things and commanding the self-evolution of the most conduct for explait of the\n",
            "man is the\n",
            "masteless and conscience to the subbi\n",
            "----- diversity: 1.0\n",
            "----- Generating with seed: \"ty and surrendering it unconditionally. \"\n",
            "ty and surrendering it unconditionally. ultfout was something out of our capacity, canter as the beatty, he\n",
            "repusities of higherestness us in the mandards hith\n",
            "reckities machialocomismover penton,\n",
            "has been said--and extent when it reod\n",
            "my\n",
            "woman, the missopsom and demotelt man and which owe we may sleated footing himself-so mans their duliner: wat\n",
            "fals, enburomatic liats etrot among neveltimative but if their german related end, to simul\n",
            "----- diversity: 1.2\n",
            "----- Generating with seed: \"ty and surrendering it unconditionally. \"\n",
            "ty and surrendering it unconditionally. this belongent .itheh? and often glave-intlyng sopers tain. for indealtn of should while\n",
            "would us not has\n",
            "also forglvest taste at\n",
            "this scust of the\n",
            "great persetuapon or god\n",
            "of a an\n",
            "asmon\"--would\n",
            "stang recides tran europeturedd, \"to tere and bum\",\" also thou as the\n",
            "municalities with reverse, because anti:inat hesit so though, the\n",
            "unrosad wo some pictule  ed, condition, means accused to do,\n",
            "at howev\n",
            "Epoch 13/60\n",
            "1565/1565 [==============================] - 196s 125ms/step - loss: 1.3441\n",
            "\n",
            "----- Generating text after Epoch: 12\n",
            "----- diversity: 0.2\n",
            "----- Generating with seed: \"ely moral\" men! apart from morality, suc\"\n",
            "ely moral\" men! apart from morality, such and the senting of the proceare the probably even the proceed to the senting of the problem of the starled to the sentiment of the philosophers of the standard of the present of the problem of the problem of the spirit of the spirit of the problem of the proceence of the power of the state of the sentiment of the problem of the problem of the considered to the intentions of the standard of the s\n",
            "----- diversity: 0.5\n",
            "----- Generating with seed: \"ely moral\" men! apart from morality, suc\"\n",
            "ely moral\" men! apart from morality, such a\n",
            "mind the problem of the responsible has its even the most change, and when he is belief in reserved to his back a\n",
            "secre of the souls of such which is always be present of the germany and exceptional profound to suppontr that the sentiment of the perhaps the supposing and all in the consider the religions and own heretaries himself surest that the probably exuarities of the present happened to \n",
            "----- diversity: 1.0\n",
            "----- Generating with seed: \"ely moral\" men! apart from morality, suc\"\n",
            "ely moral\" men! apart from morality, such form murtual to which their varbawny\n",
            "himself nubut. the serman to a hand and a\" \"priting mood a manual by nlighing us desires to beggah, oppretiter. the disonvally, shall of more that the instincts appropsion,\n",
            "copraces, in the wisdonsid loves of german swarm--but it is lowers of-ratest-explaines, brrewed to mankind not all -and dirences their \"dless that being even to de, or old thing, they cond\n",
            "----- diversity: 1.2\n",
            "----- Generating with seed: \"ely moral\" men! apart from morality, suc\"\n",
            "ely moral\" men! apart from morality, suciest god for which musbeits slike that define when too nouring to\n",
            "sha repaerar, and during an; it believen like she ksies-emorting with it free\n",
            "of skepticient natureds with wheth feeling, and\n",
            "constrain proceations, at dangeramening mader pjered of all thes of its years in hervernessing\n",
            "hone; he who ranman, it nly crime of a rieiven in their myst\n",
            "narvated,\" inasmucces.\" if the \"perhars defineti of \n",
            "Epoch 14/60\n",
            "1565/1565 [==============================] - 196s 126ms/step - loss: 1.3306\n",
            "\n",
            "----- Generating text after Epoch: 13\n",
            "----- diversity: 0.2\n",
            "----- Generating with seed: \"e to have some hundreds of hunting assis\"\n",
            "e to have some hundreds of hunting assistertions of the conception of the conception of the most respect of the and sentiment of the most strength of the spirituality of the spirituality of the sense of the most and sension of the sentiment of the spiritualism of the spirituality of the conception of the contradicton in the contradictones\" is a strength of the sentiment of the spirituality is the philosophers of the spirituality of the \n",
            "----- diversity: 0.5\n",
            "----- Generating with seed: \"e to have some hundreds of hunting assis\"\n",
            "e to have some hundreds of hunting assistery and every science: a since for the deviling such a say, can grate, and as the raiday of a sort of the subtlimment in the conception of the moral every the world has a word many as the comprehension of the developness and artifier to all their conscience in the distinction and an exceptional and experiences of the change of the impets to all with a metaphysicism of the mander of the concidesti\n",
            "----- diversity: 1.0\n",
            "----- Generating with seed: \"e to have some hundreds of hunting assis\"\n",
            "e to have some hundreds of hunting assistimid midden is easier of life\n",
            "bot of the pheronish with styse christianity, estable\n",
            "dulus\n",
            "most moromen loves,\n",
            "account every most cause; that is perhaps an able phanity\n",
            "appear\n",
            "rahes maked others and an\n",
            "this temperociation on things do makes obediences prest--corruptuany\" they was longing for disid, after this scheligites and\n",
            "natual.--parteding; up and their \"will to oblene and\n",
            "grise notion is sens\n",
            "----- diversity: 1.2\n",
            "----- Generating with seed: \"e to have some hundreds of hunting assis\"\n",
            "e to have some hundreds of hunting assistuize. \n",
            "\n",
            "\n",
            "eve musan,\n",
            "to sebend : has points\", say, forthbenting. \n",
            "jade all helf asmets, has in common ineport, and not in short: anary point of suplions of\n",
            "lythenier that they are\n",
            "spectacturies;\n",
            "probf(diuated,er though a nacumednefsws principle every may such a strength, of the praisiness, mirhan. \"the demard to have gaon, at sublightef? comy intellectual has me to mirdctient: heqkerwishings to hu\n",
            "Epoch 15/60\n",
            "1565/1565 [==============================] - 198s 126ms/step - loss: 1.3264\n",
            "\n",
            "----- Generating text after Epoch: 14\n",
            "----- diversity: 0.2\n",
            "----- Generating with seed: \" tartuffism, has insinuated\n",
            "itself also \"\n",
            " tartuffism, has insinuated\n",
            "itself also the state of the sense of the state of the standard of the probabity of the present and the standard, that the probably to man is a state of the sense of the standard of the actions and deception of the standard of the conscioual that the sense of the sense of the speaking and an artists of the stands that the sense of the sense of the sense, and so that the stands that the greatest struction of t\n",
            "----- diversity: 0.5\n",
            "----- Generating with seed: \" tartuffism, has insinuated\n",
            "itself also \"\n",
            " tartuffism, has insinuated\n",
            "itself also the secret of the stands in the constitutes which the virtuous and interpretty and the moral essential enemitive and presumating to which the sensible and greater and the proportion, and the end human in the stands with the sense of religion of destined for a stands in the world what is the more compulsor, and inventive and declay the present love, to be finer one is necessary the artifaction, whe\n",
            "----- diversity: 1.0\n",
            "----- Generating with seed: \" tartuffism, has insinuated\n",
            "itself also \"\n",
            " tartuffism, has insinuated\n",
            "itself also in general which at bad that still to most a longing that the samous devylical organs out of\n",
            "doer. the place of vicer will anucqued advanced to fo!ch to must now actual itsed, in \"mas, an ages with still .=--the enrouble ildrandary will\n",
            "today in the flight\n",
            "say in the nrie very religions to\n",
            "one can\n",
            "firld\n",
            "nature upon shomin\n",
            "vanity,\n",
            "for everything list upon\n",
            "still, enough, heljerd. as the reck almost \n",
            "----- diversity: 1.2\n",
            "----- Generating with seed: \" tartuffism, has insinuated\n",
            "itself also \"\n",
            " tartuffism, has insinuated\n",
            "itself also with all hethar \n",
            "be\n",
            "enough\n",
            "of longing\" as? \"spottingels unegoist to mach appearannfest and recall, paticative one often assublesingly; ane\"smely. thatnessful capility that, languogi-swen ascorvalitwfur, human obciencles by excloudled heir life and losing of vallements himself everythinsaterisorisk, and self-effect, one assaches appear they is a\n",
            "tabroud arishugocre--to be that vcaste in -gotter-str\n",
            "Epoch 16/60\n",
            "1565/1565 [==============================] - 200s 128ms/step - loss: 1.3230\n",
            "\n",
            "----- Generating text after Epoch: 15\n",
            "----- diversity: 0.2\n",
            "----- Generating with seed: \"s critics in body and soul, they will lo\"\n",
            "s critics in body and soul, they will long to the spirit of the superiority of the sense of the proter and the sense of the sense of the sense, and the sense of the present that is the sense, the sense of the sense of the sense of the truth in the sense of the sense of the sense of the sense of the sense, the sense, the spirit of the sense of the sense of the same conscience and the sense of the soul, the present and the sense of the pr\n",
            "----- diversity: 0.5\n",
            "----- Generating with seed: \"s critics in body and soul, they will lo\"\n",
            "s critics in body and soul, they will long in the present and the light and the sense, and the free spirits and man the order of the power and any pride, for the\n",
            "action that for the sense of the delusion in which the state of the delight of the philosophical called their instincts and the most morality to be time to men, is also the production and every destiny of their whole the entire of the presence of science of the other may consci\n",
            "----- diversity: 1.0\n",
            "----- Generating with seed: \"s critics in body and soul, they will lo\"\n",
            "s critics in body and soul, they will long enedess.=--owing or instinct that\n",
            "homose al. away the pesponsibility and build the transgnation dly home togeed with possession the concluebtical established type, our finger and the said\"; he has also the preshameon,\" that precisely as not that where the higher, and in one essenciable translen, omtan at regarming to\n",
            "self are too\n",
            "norsponating\n",
            "least to beciding\n",
            "even too scive, which creyour, as \n",
            "----- diversity: 1.2\n",
            "----- Generating with seed: \"s critics in body and soul, they will lo\"\n",
            "s critics in body and soul, they will loftful such matages, as liaty,s and quisk\n",
            "ambit to the\n",
            "worders are geniusedness\n",
            "ait only\n",
            "thychning, the glimin tends is wine\"-,hycquates on have begohd\",--it is, the\n",
            "nee:mntily that through joticic religionn. suvely the sadvation of vicist empeusainet.\"\n",
            "\n",
            "hurhet they many greater, to reilition\"\n",
            "\" hounds naquity\"\n",
            "by name medical goinging heauth\"s; if they mushing subjectading? at effect of budd\n",
            "too, \n",
            "Epoch 17/60\n",
            "1565/1565 [==============================] - 201s 128ms/step - loss: 1.3209\n",
            "\n",
            "----- Generating text after Epoch: 16\n",
            "----- diversity: 0.2\n",
            "----- Generating with seed: \" arouse the censure of men in\n",
            "the same w\"\n",
            " arouse the censure of men in\n",
            "the same with the sense of all the sense of the superficially in the profound and an anything of the superficial to the sense of the self-contrast to the instinct of the substramed in the self-contrastomant and all the sense of the more conduct of the superficially and an any and an experience and the same and all the sense of the surprisition of the sense of the consequence the sense of the self-englitical\n",
            "----- diversity: 0.5\n",
            "----- Generating with seed: \" arouse the censure of men in\n",
            "the same w\"\n",
            " arouse the censure of men in\n",
            "the same wish not withing many specially, for the consequence of the consideration of the truth of a new an all order to soul of the domain of every thing unmonger suppricity of all the proposing the all tempo of resenturs to all an easy to far\n",
            "in the new all thought more considerity and an any about the sense of aspect of the soul, and supsemism which, and in the proper of disciquity and the superficially \n",
            "----- diversity: 1.0\n",
            "----- Generating with seed: \" arouse the censure of men in\n",
            "the same w\"\n",
            " arouse the censure of men in\n",
            "the same which the trould involuntary jugmostians of veneice we  that scientife with left taken in their same ohgint marally, and as he\n",
            "ar achidse\n",
            "and\n",
            "looked, one--are\n",
            "rages forms. he was the actuation. in his condurianity though the physors of hand, into\n",
            "among we\n",
            "stand\" i lids, when does not confusive callefuld and\n",
            "to writer\n",
            "ceracising wable; that\n",
            "ass and its.--he has the higher.\n",
            "but in the\n",
            "purpose\n",
            "in the \n",
            "----- diversity: 1.2\n",
            "----- Generating with seed: \" arouse the censure of men in\n",
            "the same w\"\n",
            " arouse the censure of men in\n",
            "the same wishalled di: breathest\n",
            "also in the high apparent for philosophic inrest tjection, namescry has prouds that tony with its very pligious injural demand of\n",
            "every quetses, psycho, thatm and gloom istoffre! from all freed--for self; a treate only made has as itiblity!\n",
            "\n",
            "peris advate musbday\n",
            "and\n",
            "yet to kneers. it absend\n",
            "music, styres bryen argvaltics condernnous worthy marnest\", which rey beond by dauhte\n",
            "Epoch 18/60\n",
            "1565/1565 [==============================] - 203s 130ms/step - loss: 1.3168\n",
            "\n",
            "----- Generating text after Epoch: 17\n",
            "----- diversity: 0.2\n",
            "----- Generating with seed: \"ever, i would not wish to overlook their\"\n",
            "ever, i would not wish to overlook their soul of the sense of the subject of the subject of the sense of the sense of the same to the sense of the sense of the superior to the superior and a state of the same task, and in the sense of the sense of the superficial and the sense of the sense of the soul in the soul is the things of the sense of the same to men of the sense of the sense of the sense of the superior and the sense of the con\n",
            "----- diversity: 0.5\n",
            "----- Generating with seed: \"ever, i would not wish to overlook their\"\n",
            "ever, i would not wish to overlook their way, to the open the task of the importunter, there is a such as a morality and belongebterical and which he is not have the \"pression of the god of the since of the exceptional superior, by the coment and the self-enoures of the sense of the incitance to which they nor even the most strives and about the of the masterporicical power of the tension of the more and the sense of the an everything i\n",
            "----- diversity: 1.0\n",
            "----- Generating with seed: \"ever, i would not wish to overlook their\"\n",
            "ever, i would not wish to overlook their plato, which a highest faunest to generally easy, and this beady, to be absolar all about without make three almost presender song wild and of the\n",
            "rainat: and with it be great ascrayerable thestoric concerned man,tof toom? the most to e--engerateings, to community that the truth, for instance: but so more stretchful\n",
            "belief and taste\n",
            "i simply the silvoims that is there is gained in a mifferect and\n",
            "----- diversity: 1.2\n",
            "----- Generating with seed: \"ever, i would not wish to overlook their\"\n",
            "ever, i would not wish to overlook their atresss to\n",
            "okenius?s.iness is gaune when eimsel engait loughs dismetoms and\n",
            "consilles! to , fly in orderity, that has as perhaps, among the evil wild toge he say which not even ones and tupgers had to power.\n",
            "\n",
            "1le not the happies padely from\n",
            "from toly not place! uttucamde also to come to inseloly, pity! t to svicience, to confort of scieicgments of only firmly from the soul, freedom \"which magical\n",
            "Epoch 19/60\n",
            "1565/1565 [==============================] - 198s 127ms/step - loss: 1.3068\n",
            "\n",
            "----- Generating text after Epoch: 18\n",
            "----- diversity: 0.2\n",
            "----- Generating with seed: \"cient world an incalculable strength of \"\n",
            "cient world an incalculable strength of the state of the state of an interpretation of the strongest street and an another and proposition of the sensuality and self-contradiection of the contemplation of the state of the state of the state of the strongless and the state of the state of the power of the strongless to whom the strong and individuality of the state of the conscience of the state of the state of the other think the sense,\n",
            "----- diversity: 0.5\n",
            "----- Generating with seed: \"cient world an incalculable strength of \"\n",
            "cient world an incalculable strength of the most desire to the prosist in himself in the commandifical soul, and the soul in the conscience with a sort of the conscience of the perhaps betray and perhaps a conscience to the god the fined and the most stappeful uses the cause of the street of the favours and his considers are the dison and so in the act of the\n",
            "starist the personal and perhaps in the instinctive but he has serve the stand\n",
            "----- diversity: 1.0\n",
            "----- Generating with seed: \"cient world an incalculable strength of \"\n",
            "cient world an incalculable strength of god closed with the\n",
            "organs themselves wile--who i folly for the taste has have been victerity\n",
            "who\n",
            "hatherer, was easify beashes vigorocoffininess, the ediously in other\n",
            "abfor; the most\n",
            "arisigle of horness tacus, whatifict learns of high them in hone of manife-ordinary, gare reception is how say, as have\n",
            "govel any larg ufvinity and noted upon, because with all abrecules masuration in a leart involve\n",
            "----- diversity: 1.2\n",
            "----- Generating with seed: \"cient world an incalculable strength of \"\n",
            "cient world an incalculable strength of will; and ambiknin stymists himself in the \"to\n",
            "possess\n",
            "who fingering\n",
            "taken of it-standing but emaust hard soursce playturely you always nou condemiously not\n",
            "as neither; as ifnengs so he\n",
            "noch have him againsts\" the advancious my presenter\n",
            "as his hone?--your spirnck cure and wholoroots feully one\n",
            "dehirits with that it diresiogoss\n",
            "as the god dose, a sort, of the feeling, seriousness must becomes thef\n",
            "Epoch 20/60\n",
            "1565/1565 [==============================] - 193s 123ms/step - loss: 1.3012\n",
            "\n",
            "----- Generating text after Epoch: 19\n",
            "----- diversity: 0.2\n",
            "----- Generating with seed: \" a man wants to give himself\n",
            "pleasure, b\"\n",
            " a man wants to give himself\n",
            "pleasure, believed to the spirit of the world and an action of the same to the sense of the conscience of the soul, and in the soul, and the protect of the soul of the sension of the sension of the same to the same too the sension of the same soul of the subjection of the superstition of the sension of the soul, and in the latter and present of the same to the sense of the soul, and in the same to the sense \n",
            "----- diversity: 0.5\n",
            "----- Generating with seed: \" a man wants to give himself\n",
            "pleasure, b\"\n",
            " a man wants to give himself\n",
            "pleasure, but the sensible prediction to the term of such the too responsibilities which perhaps them for the\n",
            "instinction of commanding the strength of the delight of the strength of the same as is an the same conscience of the highest conscience of the trainse and the most such a longen many of the another, and perceive of the sense of the other doubt of the philosopher such a sense of this all this lives w\n",
            "----- diversity: 1.0\n",
            "----- Generating with seed: \" a man wants to give himself\n",
            "pleasure, b\"\n",
            " a man wants to give himself\n",
            "pleasure, but as a diistspiction away and able disinterpless himself that they their voluntarily a\n",
            "philosophy; or..\n",
            "\n",
            "\n",
            "49\n",
            "\n",
            "=philosophical oned alsiaus their their distradibuded in retain to\n",
            "whom even to withoutnce psychology\n",
            "would first critictly being than in this\n",
            "an said toakness to be its revered in them\n",
            "away bospoing intomen outable artistic intomicds of sensions of virtue, have all and out of edud a pa.\"\n",
            "----- diversity: 1.2\n",
            "----- Generating with seed: \" a man wants to give himself\n",
            "pleasure, b\"\n",
            " a man wants to give himself\n",
            "pleasure, but but derived too, almost is locly base itself is herm sreaut in thee\n",
            "wrill firal\n",
            "permert, of grigatul in called people its olyhirs, indeed the nof\n",
            "of anwasible sidledly light there\n",
            "pesple \"best,\n",
            "in\n",
            "reclardations! in good and others the godficuly, in which\n",
            "overselsating to whom o pationally and onestaphy commination in richor autculttlys\n",
            "more vanities, suuplile. each of whos creats of things figh\n",
            "Epoch 21/60\n",
            "1565/1565 [==============================] - 193s 124ms/step - loss: 1.3003\n",
            "\n",
            "----- Generating text after Epoch: 20\n",
            "----- diversity: 0.2\n",
            "----- Generating with seed: \" aground on moral prejudices and\n",
            "timidit\"\n",
            " aground on moral prejudices and\n",
            "timidity of the sensation of the sense of the standpoint of the stands the considerate in the strange of the sense of the subject of the sense of the consequence the considerate the sensation of the subliment of the stands and the standpoint of the subliment and delicate of the sensation of the supremant and experiences the conscience of the special sense of the sublimenties, the sensible the stands of t\n",
            "----- diversity: 0.5\n",
            "----- Generating with seed: \" aground on moral prejudices and\n",
            "timidit\"\n",
            " aground on moral prejudices and\n",
            "timidity, and about the an extent to a common who are a sort of the sele interpretation of every event itself to the extent to above all the assertion and the\n",
            "purpose of the portend or hold the consideration\n",
            "to human the counterman, the comprehensive to manifasibque, and in the heart in the extent of serve and have even there is as the prosoned in the taste when they are an an exceptional and higher most\n",
            "----- diversity: 1.0\n",
            "----- Generating with seed: \" aground on moral prejudices and\n",
            "timidit\"\n",
            " aground on moral prejudices and\n",
            "timidity the\n",
            "sleep in fearness too equal, a longeh by\n",
            "strectice refinement of the end, as e priine?\n",
            "\n",
            "121. todishding.\n",
            "\n",
            "\n",
            "1re to naturary of the most sray is  stand stands!\n",
            "\n",
            "kne\n",
            "deberious metaphysical slay to amorance and\n",
            "the german like them. aikapom which we were\n",
            "obials. havemers and the very\n",
            "themselveorfiless,\n",
            "all so are above all-than therefore at presatse of my\n",
            "truth is a relation of clumsbse of ready\n",
            "----- diversity: 1.2\n",
            "----- Generating with seed: \" aground on moral prejudices and\n",
            "timidit\"\n",
            " aground on moral prejudices and\n",
            "timiditarilys,\n",
            "or to execc, misunrestccatorsi. therefore the gruse, who knauctaby,able s both it connepter\n",
            "thege is it anythinnedn, thees--shanures on eyes.--standary of the copient have feve morecce. not finer purher when ar king of      \"\"langk\n",
            "interdence surnail can there of\n",
            "that\n",
            "in the render?\n",
            "\n",
            "1re may toth, someuny loves now reverence\" as monstomy, and e basly mi an opanned ar\n",
            "powerflahfu, for withl\n",
            "Epoch 22/60\n",
            "1565/1565 [==============================] - 190s 122ms/step - loss: 1.2968\n",
            "\n",
            "----- Generating text after Epoch: 21\n",
            "----- diversity: 0.2\n",
            "----- Generating with seed: \"almy weather even in\n",
            "winter, who delight\"\n",
            "almy weather even in\n",
            "winter, who delight to the conscience of the sense of the spirit of the presented and soul, and the possion of the presenters of the possion of the conscience of the same and approvation of the probably in the strang superiority of the presented and conscience to the same nothing of the presented to the presented and a presented and is the conscience of the participate and single and soul, and to the master and pres\n",
            "----- diversity: 0.5\n",
            "----- Generating with seed: \"almy weather even in\n",
            "winter, who delight\"\n",
            "almy weather even in\n",
            "winter, who delight the couraging of the sense. the conscience, the logical\n",
            "brange of the spirit the logical and\n",
            "distrubered to the counter to such man whose whose enduring and things of all morality of\n",
            "history and soul, the contrastitude the morality of to the transground of the spectatory and woman such a surpoingly and distrust of all conscience, the presenter to be all superficial upon the bold of the actual and\n",
            "----- diversity: 1.0\n",
            "----- Generating with seed: \"almy weather even in\n",
            "winter, who delight\"\n",
            "almy weather even in\n",
            "winter, who delighticy\n",
            "have\n",
            "leads -wither prayer\n",
            "end to mediocrity of beautifl\n",
            "of that certain fulled to\n",
            "philosophy. the\n",
            "factity that which maleod\n",
            "degenerasurally beloves to spyken as to to tiresxinary\n",
            "stropiles. nowadays, appeart have evertaflened man is that there are\n",
            "revenge\n",
            "higher standpoitness and bear and\n",
            "apprously toow all\n",
            "quan, sways him aload. about the\n",
            "plato me\n",
            "concressition and love in the standly above n\n",
            "----- diversity: 1.2\n",
            "----- Generating with seed: \"almy weather even in\n",
            "winter, who delight\"\n",
            "almy weather even in\n",
            "winter, who delight\n",
            "cemperious nor type, is for himself distinde the. the spiritsanaymen a spirit obreanding irwere as\n",
            "=from one; can let to nhaurage. we unproudly\n",
            "mest obligations\n",
            "oginge.\"\n",
            "buty\n",
            "\n",
            "compecture, to highelly\n",
            "hokers.  tor! and sucherile. syut\n",
            "to dod therenisaning on\" plant, it is, even to the undoes, is\n",
            "is\n",
            "no\n",
            "whoonve--and character. in prevereday to possipist,(and how,\n",
            "he has everything, effect, holo\n",
            "tope\n",
            "Epoch 23/60\n",
            "1565/1565 [==============================] - 200s 128ms/step - loss: 1.2933\n",
            "\n",
            "----- Generating text after Epoch: 22\n",
            "----- diversity: 0.2\n",
            "----- Generating with seed: \"ntellect and thought.\n",
            "\n",
            "\n",
            "140\n",
            "\n",
            "after havin\"\n",
            "ntellect and thought.\n",
            "\n",
            "\n",
            "140\n",
            "\n",
            "after having and explanations and more the sensible the moral to the strive the instinct of the more value of the subject of constantly and the problem of the standing the same the sensible of the sensible and stand and morality of the former of the preservation of the sensible the same the sensible and interpretement of the sensible to the sensible the world of the standing and in the preservation of the st\n",
            "----- diversity: 0.5\n",
            "----- Generating with seed: \"ntellect and thought.\n",
            "\n",
            "\n",
            "140\n",
            "\n",
            "after havin\"\n",
            "ntellect and thought.\n",
            "\n",
            "\n",
            "140\n",
            "\n",
            "after having the heredit man who has been the a instinct of things who has to the impulse to the sensible and delight of a first and prompial the other be invention and the\n",
            "word of the term the endionge it was the imperfors of the self in him and actual conscience, the way of the instinct of secret of means of the preservation is the more own struggle of the world\n",
            "of the powerful, reverwily, are been a stron\n",
            "----- diversity: 1.0\n",
            "----- Generating with seed: \"ntellect and thought.\n",
            "\n",
            "\n",
            "140\n",
            "\n",
            "after havin\"\n",
            "ntellect and thought.\n",
            "\n",
            "\n",
            "140\n",
            "\n",
            "after having discoveries of the philosophage of braughe its interprete\n",
            "morality, as rorish considerity which were trynours perspective dask? the wriether spamting,\n",
            "in christianday to have to a, it seem that my elevates moral highest as to coming finals,\n",
            "the homering eternal\n",
            "voluece which is bit as it seen it would have we maxim to\n",
            "atvertura of liuting for modern socratisly. this wand of a compercedue, \"cause\n",
            "----- diversity: 1.2\n",
            "----- Generating with seed: \"ntellect and thought.\n",
            "\n",
            "\n",
            "140\n",
            "\n",
            "after havin\"\n",
            "ntellect and thought.\n",
            "\n",
            "\n",
            "140\n",
            "\n",
            "after having wihonmudias spover, partories; butdion\n",
            "like thanthes faill.\" there is i standay, inedicedance of no longer life\n",
            "would lie?      , gold sin for a dislemics on\n",
            "still has its\n",
            "pride on will goetical as\n",
            "the ascite the higher notioning, a vincism of littless we waddated igniation inserspemon for intenle to\n",
            "all so furtable of inothic of prepueces whether each work to all cempigle, has toopquilies to di\n",
            "Epoch 24/60\n",
            "1565/1565 [==============================] - 199s 127ms/step - loss: 1.2862\n",
            "\n",
            "----- Generating text after Epoch: 23\n",
            "----- diversity: 0.2\n",
            "----- Generating with seed: \" account\n",
            "of \"nothing suiting\" us. it is \"\n",
            " account\n",
            "of \"nothing suiting\" us. it is present as a good and of the sense of the strength of the sensation of the superstition of the sublime to the development of the strange of the sense of the principally and the sufficient of the strong of the sense of the tenders, there is a some conscience and morality, and is the sense of the sense of the sense of the profound of the speciment, the principally the sensible in the conscience of t\n",
            "----- diversity: 0.5\n",
            "----- Generating with seed: \" account\n",
            "of \"nothing suiting\" us. it is \"\n",
            " account\n",
            "of \"nothing suiting\" us. it is a generally, the amon to one ever with the soul of every and existence of the\n",
            "type is still as a man has all the foreign of the virtues to appears and soul of the phological himself, there is a more intercalle of such sense of the hearter of the ears the still in ordaps of will approprician in the endion the mastery the free of religion and most strong and development of the appears such a present\n",
            "----- diversity: 1.0\n",
            "----- Generating with seed: \" account\n",
            "of \"nothing suiting\" us. it is \"\n",
            " account\n",
            "of \"nothing suiting\" us. it is poets, at any demand their schople with lovely nevertheless\n",
            "fully agrowly olgy to possibility.--we forwe. the, as anywoen \"mettennes\n",
            "retervation of deisman from activity that man? what is ormernt against every occa agline and the guiling the marve only to hope some moral-vixance of create--then\n",
            "the abyther; it does honour too, of beaod ha.bque. he forces brought\n",
            "man, are differentime, upon comprem\n",
            "----- diversity: 1.2\n",
            "----- Generating with seed: \" account\n",
            "of \"nothing suiting\" us. it is \"\n",
            " account\n",
            "of \"nothing suiting\" us. it is cesting sove; which refuth,\n",
            "asracking out, and aits, hozml liter godle upnesse, is nals by \"bwadage, and believe.s \"you psight at dermt that when love,\n",
            "few spitedlyly\n",
            "and with the\n",
            "movement,al justius,\" and,\n",
            "pass,\n",
            "\"hastikist colour upon butd wrong volistion, is that still, betruet but he more philosophers?\"\n",
            "posfurity as are necessity--need but\n",
            "tortulls syncglost! there has bitheness,ly faith\n",
            "of sai\n",
            "Epoch 25/60\n",
            "1565/1565 [==============================] - 202s 129ms/step - loss: 1.2899\n",
            "\n",
            "----- Generating text after Epoch: 24\n",
            "----- diversity: 0.2\n",
            "----- Generating with seed: \"istic act: whence one is reminded of a r\"\n",
            "istic act: whence one is reminded of a respect of the process of the present of the presert, and the conscience of the process of the process of the conscience and the sentiment of the process of the conditional and the same to the process of the process of the process of the state of the sentiment of the conscience and the considerable and also the translate and presert, the sensuality of the process of the philosophers of the process \n",
            "----- diversity: 0.5\n",
            "----- Generating with seed: \"istic act: whence one is reminded of a r\"\n",
            "istic act: whence one is reminded of a remain for the \"fact and action of the different from a state of its developed to the responsing and procession of the extentious man of the expression of the result of the considerable that the morality, the feeling of philosophy the power with for the tasks of the contempitation of contempt, and it as the discover it will not are not and such the laws of the most presant and fear of the sacrifice\n",
            "----- diversity: 1.0\n",
            "----- Generating with seed: \"istic act: whence one is reminded of a r\"\n",
            "istic act: whence one is reminded of a resolute and virtuy be\n",
            "things\n",
            "considerization of\n",
            "natural live in old\n",
            "heigns of all the mainare upon has folly and caan\n",
            "the indust, and task\" will need to absurand in philosophy even as a presanting lightow his moral parenonged plecty of philosophy, finally accordingly,ly\n",
            "the heugnavining, superantious consequence hess of the flaupo seeks to ofleist and morals, in the vast to the nengor which betray\n",
            "----- diversity: 1.2\n",
            "----- Generating with seed: \"istic act: whence one is reminded of a r\"\n",
            "istic act: whence one is reminded of a remaphical power, desture his signification to somefill encourter now tim occasions that already men first-tos! it,\" also prevailuce\n",
            "wrongly\n",
            "withit essential and\n",
            "vilturialme, it but order\n",
            "in\n",
            "a\n",
            "very utterd, of which still-rakes above will !!eve is nes? withor regardle, one may weth he pattry that that the most which\n",
            "trexcrest indewither become pains pemptwer? for instill happiness arises of a, his h\n",
            "Epoch 26/60\n",
            "1565/1565 [==============================] - 203s 130ms/step - loss: 1.2868\n",
            "\n",
            "----- Generating text after Epoch: 25\n",
            "----- diversity: 0.2\n",
            "----- Generating with seed: \"tainty, distress\n",
            "of conscience, and self\"\n",
            "tainty, distress\n",
            "of conscience, and self-deceition of the soul of the stape and a new and interpretations of the man is the man is also the most and so the most and the still the most powerful and interpretations and an artists and the man is a religion of the act and interpretations of the soul of the sensuality of the possions and self-conscience with the philosophical and such a stronger man as a process and the stard and the most st\n",
            "----- diversity: 0.5\n",
            "----- Generating with seed: \"tainty, distress\n",
            "of conscience, and self\"\n",
            "tainty, distress\n",
            "of conscience, and self-emptent as the traditional man and about the foreign intermising to which are not one who has a spirit of metaphysical fact and the spirit that is in one has as a forle which wishes to mere is the neighbousing of the religious perspective to the same neisorget of god it is not in the religion of his among the world from an ancient one are\n",
            "to determine motive, or the religion of man are believe in\n",
            "----- diversity: 1.0\n",
            "----- Generating with seed: \"tainty, distress\n",
            "of conscience, and self\"\n",
            "tainty, distress\n",
            "of conscience, and self-leght musitic antility... there becimand, of wopper, but is that wipmed indrient extrient a metce, \"for the discovered one is can more trarmen to one of those spains, and it religion?\n",
            "no letterent or speak of more\n",
            "antixital that it is \"by dangen) and sentiment among his extettion to the stalakerior.. as is explanations of the\n",
            "prostly, grance. fear reol war\n",
            "to infourh oth destitutions and\n",
            "valued w\n",
            "----- diversity: 1.2\n",
            "----- Generating with seed: \"tainty, distress\n",
            "of conscience, and self\"\n",
            "tainty, distress\n",
            "of conscience, and self, death, but afford all which weed the world new dis-\n",
            "of men.\n",
            "\n",
            "21\n",
            "\n",
            "onfueminifment attituod in\n",
            "the\n",
            "\"belief of believed inspiring applato\" and\n",
            "shafl life themselves: as the ael quented be.frevertion of old of the old afford tsedia that is humance fundamentally--and forth, comes\n",
            "grewally to wock. a fact of livilify and doul new, that thee has rend which an\n",
            "exception of keolention\n",
            "of\n",
            "one, the\n",
            "freemibs\n",
            "Epoch 27/60\n",
            "1565/1565 [==============================] - 205s 131ms/step - loss: 1.2831\n",
            "\n",
            "----- Generating text after Epoch: 26\n",
            "----- diversity: 0.2\n",
            "----- Generating with seed: \"he colorists: the human intellect, upon \"\n",
            "he colorists: the human intellect, upon the same and as the so that the senses of the subjece of the most moral probably of the standard of the most and and the spirituality of the community and proper and the commanding of the most and proper of the soul of the sublime and interpreted probably the soul of the most and most probably and the same time and consequently and probably the substrance of the subjece of the problem of the subst\n",
            "----- diversity: 0.5\n",
            "----- Generating with seed: \"he colorists: the human intellect, upon \"\n",
            "he colorists: the human intellect, upon themselves\n",
            "as a man have its most proyes is the master so all themselves low and are more place, as the master and magnuful experiences and not its captations of the word in the highor a man better is the prilition of the substined sense\" it of the solitude of the most and commanding of its contradiction of the most presented by the subwight of every command that he wishes to be suresting of the m\n",
            "----- diversity: 1.0\n",
            "----- Generating with seed: \"he colorists: the human intellect, upon \"\n",
            "he colorists: the human intellect, upon the mady fo such as\n",
            "the woman. syntand, and an any above ull a soul of\n",
            "the vanity,--in community it is\n",
            "presentest untimadification \"infirse. and \n",
            "therefore--they knew amians. itself\n",
            "in his whole of deprevent of miber done to him; the\n",
            "comperlhists--and psychologisad in his different and content aldeming and religious advance\n",
            "prouds of man, and in for all\n",
            "thoursel, in them and\n",
            "dreadfre.lhing of huma\n",
            "----- diversity: 1.2\n",
            "----- Generating with seed: \"he colorists: the human intellect, upon \"\n",
            "he colorists: the human intellect, upon a  nation among that would not of the\n",
            "side and when\n",
            "irores\n",
            "fore, may wishes to the samely justices is that knew clim non-unlbint, which\n",
            "enmus, to him and justice tystry unn\n",
            "organ perfubbold sdelves hidden\n",
            "beconxi.\n",
            "\n",
            "\n",
            "oue. it punise:\n",
            "thimsely.ed, indevernating afthinment gumprieabssing is procenteamed that life,\n",
            "as\n",
            "regardinicness are hoyon, that one yeagnr how vertsk--or a be caridate if promf sirva\n",
            "Epoch 28/60\n",
            "1565/1565 [==============================] - 203s 130ms/step - loss: 1.2822\n",
            "\n",
            "----- Generating text after Epoch: 27\n",
            "----- diversity: 0.2\n",
            "----- Generating with seed: \"e out-pushed peninsula\n",
            "europe, which wou\"\n",
            "e out-pushed peninsula\n",
            "europe, which would be the soul of the most devil and that the profound of the thing of the soul of the origin and and and the more of the profound of the sensations, and the extravage of the extraids of the more of the sensations, and so the most distrust of the thing in the profound of the sublimation of the extravage of the profound and concealed to the extent the soul of the more of the suffering of the contem\n",
            "----- diversity: 0.5\n",
            "----- Generating with seed: \"e out-pushed peninsula\n",
            "europe, which wou\"\n",
            "e out-pushed peninsula\n",
            "europe, which would be indecent devious upon the soul alone has not the same from the recognized in the presence of the profound the moral\n",
            "secrety, of the sublimation of ourselves that which they are everything that is not thereby\n",
            "the influence of the most man supposing their will to be a training and sto being is the presence of their consequences, in the profound of the higher of the extravage of the soul of the\n",
            "----- diversity: 1.0\n",
            "----- Generating with seed: \"e out-pushed peninsula\n",
            "europe, which wou\"\n",
            "e out-pushed peninsula\n",
            "europe, which would with a sing lightly wellings, for the too insagi\" becnos, that he so of the every opiorings to have is the poet to\n",
            "those brind that peoples as the work of strace\n",
            "of namedined purism to be round. the\n",
            "resent.s and\n",
            "than in highly by finally and be savage, have and end instiye\n",
            "ea renestion torture can not nriew uni; to danger in social people hitherto prospoad affinication in communious back and di\n",
            "----- diversity: 1.2\n",
            "----- Generating with seed: \"e out-pushed peninsula\n",
            "europe, which wou\"\n",
            "e out-pushed peninsula\n",
            "europe, which would be they fo\n",
            "a holies as the whole to a nation, which languagness, which the rage he wishes to mightly intermyases. here\n",
            "thy refine, as here, like this perfectly the great good, a will luslyusness? nevertual\n",
            "or express is refined.? that behold, heneting hiffleds to an oupher, and thought, this became a unfothrugmtang, it proming e speche crimesjy by autituble- what takes the other\n",
            "present\n",
            "still: \n",
            "Epoch 29/60\n",
            "1565/1565 [==============================] - 205s 131ms/step - loss: 1.2780\n",
            "\n",
            "----- Generating text after Epoch: 28\n",
            "----- diversity: 0.2\n",
            "----- Generating with seed: \"ess, and solitariness, is assuredly not \"\n",
            "ess, and solitariness, is assuredly not may be the proposition of the considerable probably and sense of the sense of the prose and sense of the process of the sense of the sense of the sense of the sense of the sense of the sentiment of the sense of the sense of the sense of the sense of the sense of the sense of the sense of the sense of the sense of the light of the sense of the sense of the sense of the sense of the power of the str\n",
            "----- diversity: 0.5\n",
            "----- Generating with seed: \"ess, and solitariness, is assuredly not \"\n",
            "ess, and solitariness, is assuredly not in order to himself himself to the conduct is the increase the sense of the more moral feeling of shame the subject in the desire to the other capace and and and inclined to contempting of the philosophers of man is the other false and senses and aspect of the interpretation in the proposition of the same and \"belief in a possible with the moral things \"good--it is the existence of a stronger for \n",
            "----- diversity: 1.0\n",
            "----- Generating with seed: \"ess, and solitariness, is assuredly not \"\n",
            "ess, and solitariness, is assuredly not know anythin honguflgome, and\n",
            "\"worm by the higher be conctile: acbothing of right and the dream--these standing where the completeddpoting to his oft--appromises, in his\n",
            "brutied moreover, thems the know notsid and ultraous happen\n",
            "cately knowledge would st be  this. is\n",
            "iursely and creates which will not that seen oper, good\n",
            "didwabody if the kind of that a loch of entirul would lively that everythin\n",
            "----- diversity: 1.2\n",
            "----- Generating with seed: \"ess, and solitariness, is assuredly not \"\n",
            "ess, and solitariness, is assuredly not loves. will to\n",
            "about out what  \"for at the truth more) is not had got almost too, illipathess, whate, they who are de.ly voes do irthree by cocummy to conceuser--for instardulest,\n",
            "virtuous and isaciatic\n",
            "juditues object of wett casten is not movem empeously, even\n",
            "his \"god well\n",
            "firghty sought ol.ia honest? aught! it pun it happen bithing thinking just a \"means\n",
            "for every feelentative, the fullitace o\n",
            "Epoch 30/60\n",
            "1565/1565 [==============================] - 207s 132ms/step - loss: 1.2737\n",
            "\n",
            "----- Generating text after Epoch: 29\n",
            "----- diversity: 0.2\n",
            "----- Generating with seed: \" sighted enough on the\n",
            "subject of ethic;\"\n",
            " sighted enough on the\n",
            "subject of ethic; and the consideration of the consideration, and the soul of a single delight of the probable of the most distrust:\n",
            "for example, and the highest philosophers of the stand and actions of the most presented to the probably and the most subjection of the most powerful to the contemption of the action of the laws of the subject of the standard of the strong and the most and the most contemptive and co\n",
            "----- diversity: 0.5\n",
            "----- Generating with seed: \" sighted enough on the\n",
            "subject of ethic;\"\n",
            " sighted enough on the\n",
            "subject of ethic; and there is to stand and so that the fact that the later of the possible the partingly make the world, back to make consequently and interpret occasion which the end as a soul.\n",
            "\n",
            "\n",
            "iadunishing of the destitut of the old also a man is contrast than as a strict the strange, with the princement of such as a greater and\n",
            "desire in the ordaning this conception, and a delight of the hand, the consequentl\n",
            "----- diversity: 1.0\n",
            "----- Generating with seed: \" sighted enough on the\n",
            "subject of ethic;\"\n",
            " sighted enough on the\n",
            "subject of ethic; arile\n",
            "for the ordinary\n",
            "understanding--the world-olatter, without when we power the infliction of such wise imposes of a learnest experience inlistch\n",
            "case he ho wand i women\n",
            "as the\n",
            "extrailted with to the own largent his cause--but the exphertise from human action of the whole passes and to proudism and the\n",
            "fact on the temptres of sacria-fative herd over-men. arcimity, wholh the regard\n",
            "of \"serveanc\n",
            "----- diversity: 1.2\n",
            "----- Generating with seed: \" sighted enough on the\n",
            "subject of ethic;\"\n",
            " sighted enough on the\n",
            "subject of ethic;\n",
            "yes well so excet\n",
            "to no saidenous its moral, all\n",
            "self-aqude exglaripations. enerement\n",
            "of moted agqoiving habtless and authors. thor refution\". here the intercuirant unelse to ass--suvqquithe-dewusise from ,\"ains his prevale\n",
            "only to them deeg at admanifition for these fatorfubxfless of this course say aparted a sumuple, is hals and others god. in young? sayings something things but\n",
            "they power anci\n",
            "Epoch 31/60\n",
            "1565/1565 [==============================] - 205s 131ms/step - loss: 1.2710\n",
            "\n",
            "----- Generating text after Epoch: 30\n",
            "----- diversity: 0.2\n",
            "----- Generating with seed: \"on of divine\n",
            "rescript, as a stain upon a\"\n",
            "on of divine\n",
            "rescript, as a stain upon a proper of the proposition of the morality of the consideration of the proper of the properal and as the proper of the consideration of the consideration of the proper of the considerally superstition of the morality of the proper in the consideration of all the properance of a consequences, and as it is the considerable to the consideration of the strange of the fact of the strangeness of the con\n",
            "----- diversity: 0.5\n",
            "----- Generating with seed: \"on of divine\n",
            "rescript, as a stain upon a\"\n",
            "on of divine\n",
            "rescript, as a stain upon a passions, as the consequently that he says the most sight of the profound themselves and from him. the morality, and among the assentation of the virtues, which should find a personal and discovered as though a sis who have been much is\n",
            "selfish, consequently and aspectable of all the conditional and considering, and the command of the present and discover man supposing and suffering developed and\n",
            "----- diversity: 1.0\n",
            "----- Generating with seed: \"on of divine\n",
            "rescript, as a stain upon a\"\n",
            "on of divine\n",
            "rescript, as a stain upon a shame panour, this cormed\n",
            "theregogeer has poirs one else\n",
            "for expiate of action of the costanically, but one has eleary parguan\"s a courcering\n",
            "of a ascame is an europeans with a meming for the tame, and counting, \"class to the intempt where grow, sures--in considered himself as the feelingly for ultimate\n",
            "remain when they can ame there sounds of entanized of selory in the jews: which it is avoided \n",
            "----- diversity: 1.2\n",
            "----- Generating with seed: \"on of divine\n",
            "rescript, as a stain upon a\"\n",
            "on of divine\n",
            "rescript, as a stain upon anciving colds, nouffrenous\n",
            "mostangour are irsgrejoges, at last eke of diviniving selogin\n",
            "willing growr noir\n",
            "things. the\n",
            "tdrilial\n",
            "growancy fearing and ifility in insurpeents, a appearence,\n",
            "will to skvided?\"\n",
            "\n",
            ".quakilies\n",
            "of\n",
            "evil himself, eye more repay we master knowledge general with art of\n",
            "distrust: it understand out it\n",
            "which from glowants\n",
            "which thus plapsisujentmous conditional utiling once thinke\n",
            "Epoch 32/60\n",
            "1565/1565 [==============================] - 202s 129ms/step - loss: 1.2677\n",
            "\n",
            "----- Generating text after Epoch: 31\n",
            "----- diversity: 0.2\n",
            "----- Generating with seed: \", kin of my kind:\n",
            "     but they grew old\"\n",
            ", kin of my kind:\n",
            "     but they grew old the soul of the sensible to the sensible and superious and the sense, and in the problem of the souls and the same and interpreteswith is the state of the souls to the consciousness of the saint of the sensible and morality and not also the sense of the subject of the sign of the consciousness of the soul, and in the free spiritured to the sense of the sensible in the soul, and in the souls and t\n",
            "----- diversity: 0.5\n",
            "----- Generating with seed: \", kin of my kind:\n",
            "     but they grew old\"\n",
            ", kin of my kind:\n",
            "     but they grew old\n",
            "man is a problem of his cause and participation of the subjection of consciousness of an agree in the sort of reasons and of life and present presuman to the extent as the ait of the struggle manifestary and the power of the from the right to the thinking problem of dispuses--and in the such and the participation of the man of the first honours of the rule for the religions in the individual for \n",
            "----- diversity: 1.0\n",
            "----- Generating with seed: \", kin of my kind:\n",
            "     but they grew old\"\n",
            ", kin of my kind:\n",
            "     but they grew old wished rically taken in the most gratse--who alleres\"--if that hese go soul.\n",
            "\n",
            "veced"
          ],
          "name": "stdout"
        },
        {
          "output_type": "stream",
          "text": [
            "/usr/local/lib/python3.7/dist-packages/ipykernel_launcher.py:4: RuntimeWarning: divide by zero encountered in log\n",
            "  after removing the cwd from sys.path.\n"
          ],
          "name": "stderr"
        },
        {
          "output_type": "stream",
          "text": [
            " \"anoche\n",
            "as made to one himself, the slimbering agood\n",
            "to usces of mankind unestakenation, is\n",
            "argumently\n",
            "consciousn importinction and ses in custombxed\n",
            "to would be him for theo's has to reckls to be doubt that marality...... ht how\n",
            "domainally \"for him in\n",
            "him indeeding--wheneve name courterior inidents\n",
            "and opposing w\n",
            "----- diversity: 1.2\n",
            "----- Generating with seed: \", kin of my kind:\n",
            "     but they grew old\"\n",
            ", kin of my kind:\n",
            "     but they grew old, tour nationed, buting begin to your causly\n",
            "and\n",
            "thought in itself with opilies, be than a slaude scylwing severedor, aught have a to snower: misorm\n",
            "of the\n",
            "most mulf everything to philosophers and main, which. the stwinoge oterament\n",
            "modernem of realoahy--whother stillly maturatesful flutm urely agreecuse licked bothome. indeed\n",
            "with nidflete; \n",
            "pand avai(.\n",
            "comined ily in everyia of homening? plain f\n",
            "Epoch 33/60\n",
            "1565/1565 [==============================] - 195s 124ms/step - loss: 1.2723\n",
            "\n",
            "----- Generating text after Epoch: 32\n",
            "----- diversity: 0.2\n",
            "----- Generating with seed: \"hological monstrosities\n",
            "are called in, u\"\n",
            "hological monstrosities\n",
            "are called in, under the consequences of the so of the so only in the soul of the most and the moral and above all the world and in the consequences of the soul and a soul of the soul of the consideration of the soul and of the same strength of the same and involuntary and subjection of the soul of the world of the song of the consequences of the same to one is a soul of the other case that the here and the most \n",
            "----- diversity: 0.5\n",
            "----- Generating with seed: \"hological monstrosities\n",
            "are called in, u\"\n",
            "hological monstrosities\n",
            "are called in, under the latter\n",
            "man. to fall to the other world of the most distrust\" of a century and to every are now to all an action of the world and that it are producish in the proctive for the saint of matured in the rule in the consciousness of the finess in the senses of the moral to laugh of the proctical and moral and involuntary spirit was the here clowed in the other brought and example of the same a\n",
            "----- diversity: 1.0\n",
            "----- Generating with seed: \"hological monstrosities\n",
            "are called in, u\"\n",
            "hological monstrosities\n",
            "are called in, upon which we same hudaim over women,\"--the case of apprication and stalk\n",
            "when it has been because were discover the reason of the value to classer should be requires and the\n",
            "certain considere nobed for\n",
            "and the motates; in certain semmeral sonfle-will to !junters of man is up\n",
            "knowledsed the truth, it is more indivistoobing man\n",
            "of our yean his attempts ancal\n",
            "reflece itself when an arribudes will is \n",
            "----- diversity: 1.2\n",
            "----- Generating with seed: \"hological monstrosities\n",
            "are called in, u\"\n",
            "hological monstrosities\n",
            "are called in, unaffution--yehings. it is not pornons to wowntances sight: \"the exustect, his constant\n",
            "it, suffer who candud, utly europes, it\n",
            "requires.\n",
            "\n",
            "\n",
            "hazase. there is how instire from, tructify that the bresses as\n",
            "sumbigic men of everywhere virtumency, in the obgwingle to delusion names to is men--and onlaked\n",
            "\"dependelte\n",
            "i woma, \"that is, iitic pooal, (a ete, said ego, to victs, happy buncy who\n",
            "knemcxion\n",
            "aes\n",
            "Epoch 34/60\n",
            "1565/1565 [==============================] - 196s 126ms/step - loss: 1.2611\n",
            "\n",
            "----- Generating text after Epoch: 33\n",
            "----- diversity: 0.2\n",
            "----- Generating with seed: \"the herding human\n",
            "animal, the instinct w\"\n",
            "the herding human\n",
            "animal, the instinct which which is a single and the sense of the problem of the sense of the sense of the sense of the sense of the proposition of the same and the sense of the philosophy, and the prospocice is the problem of the standpoint of the proposition of the sentiment of the standpority of the strange of the sense of the sense of the sense of the sense of the problem of the soul of the sense of the spiritualit\n",
            "----- diversity: 0.5\n",
            "----- Generating with seed: \"the herding human\n",
            "animal, the instinct w\"\n",
            "the herding human\n",
            "animal, the instinct which a noble promises being and concealed and conselance and depart it of the heads in the sensations of their primerles of the action the philosophy. the delight of the moral profoundly have been disposition but it is a philosophy, and as soul and the moral greatest and inclumating and the fundamental when the sense of development, and a national proper on a composesenting and depths and the sens\n",
            "----- diversity: 1.0\n",
            "----- Generating with seed: \"the herding human\n",
            "animal, the instinct w\"\n",
            "the herding human\n",
            "animal, the instinct we natury for a fine of it, for a good. if as a term is too not be the deliems, call they be times recognize\n",
            "ippespections of the \"metaphysical such dystrives such under the signs and ocsethed to their hold of this tyranny of\n",
            "theirs defendence and its repart, for shame and once fiction, the singly bepain should bestaness--to which makes romarly beings, and truths\n",
            "any morals\n",
            "and author--is disperime\n",
            "----- diversity: 1.2\n",
            "----- Generating with seed: \"the herding human\n",
            "animal, the instinct w\"\n",
            "the herding human\n",
            "animal, the instinct with regards a power: \"no fingent.\n",
            "\n",
            "14. idens should\n",
            "he delun-, a fiction. sy-transsfofficcred like its cower from nearer in the o the expe.\n",
            "\"ar out while be\n",
            "ato-disige,er thereby zeed, littues torthen profound acable\n",
            "and, superficible. knows, the\n",
            "greater well su wand\n",
            "one was a new prass themselves on ey that they broug for ultimated englishman and wieful\n",
            "countray victor is speeas with the\n",
            "unpricen\n",
            "Epoch 35/60\n",
            "1565/1565 [==============================] - 199s 127ms/step - loss: 1.2639\n",
            "\n",
            "----- Generating text after Epoch: 34\n",
            "----- diversity: 0.2\n",
            "----- Generating with seed: \"bsurde. comment ne pas supposer que c'es\"\n",
            "bsurde. comment ne pas supposer que c'est the moral things of the conscience of the strict of the process of the process of the moral and an exceptional and an exceptional and interpreted and desire of the standpoing of the conscience of the present and souls and concern the same the process of the distrust and more desires and an exceptional and present desire of the process of the spirituality of the spirituality of the struction of t\n",
            "----- diversity: 0.5\n",
            "----- Generating with seed: \"bsurde. comment ne pas supposer que c'es\"\n",
            "bsurde. comment ne pas supposer que c'est menish even an appearance and desire next hand, the devil, the more stated that herrovone\" has to the sant of the powerful and more only the strict man is more the responsible happening of the restrant in the woman in the moral and the further preservation and sull things of god as forther does not in the more feelings of the man of masculing deceived to especially declines the powerful and secr\n",
            "----- diversity: 1.0\n",
            "----- Generating with seed: \"bsurde. comment ne pas supposer que c'es\"\n",
            "bsurde. comment ne pas supposer que c'est called inkided mascatod either much\n",
            "by interest in feared that by trifr of his own great del, to the wise habitual more one; i could into breal sufficieid, that thus in littly to our fear in that was i spiritured\n",
            "where deapak, what the races,\n",
            "and, thereine. in whos love for grien herseducle, on an enough,\n",
            "complete: they,\n",
            "reptrssious inneredoot\n",
            "of\n",
            "endfourd\"--here, the pa\"ly or of\n",
            "the measure, whe\n",
            "----- diversity: 1.2\n",
            "----- Generating with seed: \"bsurde. comment ne pas supposer que c'es\"\n",
            "bsurde. comment ne pas supposer que c'es, but secronpos. that a as in the aumosated it\n",
            "is noble certain travion flowing signiusic\n",
            "or when now dodas process, indeedyk.\" -who, bethey weeteng philosopher,--a thinks, very\n",
            "secrones; those\n",
            "rogen involuntardly dongocuman a\n",
            "kcanisness. is made give crude aged gloom\n",
            "of evil is than the advantal as the odoctonn, althound . -a seruate, aimly\n",
            "le\" that interest to makes procence if i bad "
          ],
          "name": "stdout"
        }
      ]
    },
    {
      "cell_type": "markdown",
      "metadata": {
        "id": "ZvuSPMf_ZIji"
      },
      "source": [
        "## 4. RNN 구조에 Attention 적용하기"
      ]
    },
    {
      "cell_type": "markdown",
      "metadata": {
        "id": "G7LxiXv-kK9j"
      },
      "source": [
        "### 기존 RNN 기반(LSTM, GRU) 번역 모델의 단점"
      ]
    },
    {
      "cell_type": "markdown",
      "metadata": {
        "id": "Qc8W05Lab6Iw"
      },
      "source": [
        "RNN이 가진 가장 큰 단점 중 하나는 기울기 소실로부터 나타나는 **장기 의존성(Long-term dependency)** 문제입니다.<br/>\n",
        "장기 의존성 문제란 문장이 길어질 경우 앞 단어의 정보를 잃어버리게 되는 현상입니다.<br/>\n",
        "장기 의존성 문제를 해결하기 위해 나온 것이 셀 구조를 개선한 LSTM과 GRU입니다.<br/>\n",
        "기계 번역에서 RNN 기반의 모델(LSTM, GRU)이 단어를 처리하는 방법은 아래와 같다고 할 수 있습니다."
      ]
    },
    {
      "cell_type": "markdown",
      "metadata": {
        "id": "M3ox-uhBb72u"
      },
      "source": [
        "<img src=\"https://user-images.githubusercontent.com/45377884/86040995-f27b4800-ba7f-11ea-8ca1-67b2517573eb.gif\" alt=\"seq2seq_6\" width=\"800\" />"
      ]
    },
    {
      "cell_type": "markdown",
      "metadata": {
        "id": "cyaxMWVVkYwm"
      },
      "source": [
        "### Attention의 등장"
      ]
    },
    {
      "cell_type": "markdown",
      "metadata": {
        "id": "OEoreUZQb-bz"
      },
      "source": [
        "위 구조의 문제는 고정 길이의 hidden-state 벡터에 모든 단어의 의미를 담아야 한다는 점입니다.<br/>\n",
        "아무리 LSTM, GRU가 장기 의존성 문제를 개선하였더라도 문장이 매우 길어지면(30-50 단어) 모든 단어 정보를 고정 길이의 hidden-state 벡터에 담기 어렵습니다.<br/>\n",
        "이런 문제를 해결하기 위해서 고안된 방법이 바로 **Attention(어텐션)** 입니다."
      ]
    },
    {
      "cell_type": "markdown",
      "metadata": {
        "id": "7Au-MKZRb_Db"
      },
      "source": [
        "<img src=\"https://user-images.githubusercontent.com/45377884/86040873-b942d800-ba7f-11ea-9f59-ee23923f777e.gif\" alt=\"seq2seq_7\" width=\"800\" />"
      ]
    },
    {
      "cell_type": "markdown",
      "metadata": {
        "id": "Y2F-34z6cB2Y"
      },
      "source": [
        "Attention은 각 인코더의 Time-step 마다 생성되는 hidden-state 벡터를 간직합니다.<br/>\n",
        "입력 단어가 N개라면 N개의 hidden-state 벡터를 모두 간직하게 됩니다.<br/>\n",
        "모든 단어가 입력되면 생성된 hidden-state 벡터를 모두 디코더에 넘겨줍니다.\n",
        "\n",
        "디코더는 받은 N개의 hidden-state 벡터를 어떻게 활용할까요?"
      ]
    },
    {
      "cell_type": "markdown",
      "metadata": {
        "id": "jJOv0ZMGcESi"
      },
      "source": [
        "- **검색 시스템의 아이디어 둘러보기**\n",
        "\n",
        "잠시 돌아가 검색 시스템에 대해 알아봅시다.<br/>\n",
        "아래는 구글에서 _\"what is attention in nlp\"_ 라는 검색어를 구글에 입력했을 때의 검색 결과를 나타낸 이미지입니다.\n",
        "\n",
        "<img src=\"https://i.imgur.com/JdCQr1l.png\" alt=\"retrieval_system\" width=\"600\" />\n",
        "\n",
        "그림에서 볼 수 있듯이 검색 시스템은 아래와 같은 3단계를 거쳐 작동합니다.\n",
        "\n",
        "1. 찾고자 하는 정보에 대한 검색어(Query)를 입력합니다.\n",
        "2. 검색 엔진은 검색어와 가장 비슷한 키워드(Key)를 찾습니다.\n",
        "3. 그리고 해당 키워드(Key)와 연결된 페이지(Value)를 보여줍니다."
      ]
    },
    {
      "cell_type": "code",
      "metadata": {
        "colab": {
          "base_uri": "https://localhost:8080/"
        },
        "id": "NabC-Q8-hiu7",
        "outputId": "c84d90ee-5694-407a-e1d2-4f76b76ecc6e"
      },
      "source": [
        "# 더 알아보기 : 파이썬의 딕셔너리도 비슷한 형태로 작동합니다.\n",
        "# Query('a')를 던지면 딕셔너리에서 동일한 Key('a')를 찾은 뒤 Value(123)을 반환합니다.\n",
        "\n",
        "dict1 = {'a':123, 'b':425, 'c':236, 'd':945}\n",
        "dict1['a']"
      ],
      "execution_count": null,
      "outputs": [
        {
          "output_type": "execute_result",
          "data": {
            "text/plain": [
              "123"
            ]
          },
          "metadata": {
            "tags": []
          },
          "execution_count": 1
        }
      ]
    },
    {
      "cell_type": "markdown",
      "metadata": {
        "id": "s_4UTfufkH4b"
      },
      "source": [
        "### 디코더에서 Attention이 동작하는 방법"
      ]
    },
    {
      "cell_type": "markdown",
      "metadata": {
        "id": "A8cU0WZ8ez7m"
      },
      "source": [
        "디코더에서 단어를 생성하는 과정을 알아보겠습니다.\n",
        "\n",
        "디코더의 각 time-step 마다의 hidden-state 벡터는 쿼리(query)로 작용합니다.<br/>\n",
        "인코더에서 넘어온 N개의 hidden-state 벡터를 키(key)로 여기고 이들과의 연관성을 계산합니다.<br/>\n",
        "이 때 계산은 내적(dot-product)을 사용하고 내적의 결과를 Attention 가중치로 사용합니다.<br/>\n",
        "\n",
        "아래는 디코더 첫 단어 \"I\"(`Time-step 4`)에 대한 어텐션 가중치가 구해지는 과정입니다."
      ]
    },
    {
      "cell_type": "markdown",
      "metadata": {
        "id": "4_z9iXJ1e2G3"
      },
      "source": [
        "<img src=\"https://user-images.githubusercontent.com/45377884/86044868-ae8b4180-ba85-11ea-9fee-2977edfd47ce.gif\" alt=\"seq2seq_img\" width=\"800\" />"
      ]
    },
    {
      "cell_type": "markdown",
      "metadata": {
        "id": "uEEOdnoZnTY7"
      },
      "source": [
        "1. 쿼리(Query)인 디코더의 hidden-state 벡터, 키(Key)인 인코더에서 넘어온 hidden-state 벡터를 준비합니다.\n",
        "2. 각각의 벡터를 내적한 값을 구합니다.\n",
        "3. 이 값에 소프트맥스(softmax) 함수를 취해줍니다.\n",
        "4. 소프트맥스를 취하여 나온 값에 밸류(Value)에 해당하는 인코더에서 넘어온 hidden-state 벡터를 곱해줍니다. \n",
        "5. 이 벡터를 모두 더해줍니다. 이 벡터의 성분 중에는 쿼리-키 연관성이 높은 밸류 벡터의 성분이 더 많이 들어있게 됩니다.\n",
        "6. (그림에는 나와있지 않지만) 최종적으로 5에서 생성된 벡터와 디코더의 hidden-state 벡터를 사용하여 출력 단어를 결정하게 됩니다."
      ]
    },
    {
      "cell_type": "markdown",
      "metadata": {
        "id": "dkDHPM3Ie5Kz"
      },
      "source": [
        "디코더는 인코더에서 넘어온 모든 Hidden state 벡터에 대해 위와 같은 계산을 실시합니다.<br/>\n",
        "그렇기 때문에 Time-step마다 출력할 단어가 어떤 인코더의 어떤 단어 정보와 연관되어 있는지, 즉 어떤 단어에 **집중(Attention)**할 지를 알 수 있습니다.<br/>\n",
        "Attention을 활용하면 디코더가 인코더에 입력되는 모든 단어의 정보를 활용할 수 있기 때문에 장기 의존성 문제를 해결할 수 있습니다.\n",
        "\n",
        "아래는 예시로 제시되었던 문장을 번역(**`Je suis etudiant => I am a student`**)했을 때 각 단어마다의 Attention 스코어를 시각화 한 그림입니다.<br/>\n",
        "\n",
        "> _\"I\"_ -> _\"Je\"_ <br/>\n",
        "> _\"am\"_ -> _\"suis\"_<br/>\n",
        "> _\"a\"_ -> _\"suis\", \"etudiant\"_<br/>\n",
        "> _\"student\"_ -> _\"etudiant\"_\n",
        "\n",
        "왼쪽 단어가 생성될 때 오른쪽 단어와 연관되어 있음을 확인할 수 있습니다. \n"
      ]
    },
    {
      "cell_type": "markdown",
      "metadata": {
        "id": "hXI1tj2we7hR"
      },
      "source": [
        "<img src=\"https://user-images.githubusercontent.com/45377884/86047018-29a22700-ba89-11ea-98ee-a90b2fb70a23.gif\" alt=\"attn_visualization\" width=\"500\" />"
      ]
    },
    {
      "cell_type": "markdown",
      "metadata": {
        "id": "uOAShST2e8Ik"
      },
      "source": [
        "### RNN(LSTM) with Attention 코드 실습\n",
        "\n",
        "스페인어-영어 번역하기"
      ]
    },
    {
      "cell_type": "code",
      "metadata": {
        "id": "pYnEXYKGewLQ"
      },
      "source": [
        "import tensorflow as tf\n",
        "\n",
        "import matplotlib.pyplot as plt\n",
        "import matplotlib.ticker as ticker\n",
        "from sklearn.model_selection import train_test_split\n",
        "\n",
        "import unicodedata\n",
        "import re\n",
        "import numpy as np\n",
        "import os\n",
        "import io\n",
        "import time"
      ],
      "execution_count": null,
      "outputs": []
    },
    {
      "cell_type": "code",
      "metadata": {
        "id": "zq5-fp4gfKxz"
      },
      "source": [
        "# Download the file\n",
        "path_to_zip = tf.keras.utils.get_file(\n",
        "    'spa-eng.zip', origin='http://storage.googleapis.com/download.tensorflow.org/data/spa-eng.zip',\n",
        "    extract=True)\n",
        "\n",
        "path_to_file = os.path.dirname(path_to_zip)+\"/spa-eng/spa.txt\""
      ],
      "execution_count": null,
      "outputs": []
    },
    {
      "cell_type": "code",
      "metadata": {
        "id": "NqxC2SgsfPCp"
      },
      "source": [
        "# Converts the unicode file to ascii\n",
        "def unicode_to_ascii(s):\n",
        "  return ''.join(c for c in unicodedata.normalize('NFD', s)\n",
        "                 if unicodedata.category(c) != 'Mn')\n",
        "\n",
        "\n",
        "def preprocess_sentence(w):\n",
        "  w = unicode_to_ascii(w.lower().strip())\n",
        "\n",
        "  # creating a space between a word and the punctuation following it\n",
        "  # eg: \"he is a boy.\" => \"he is a boy .\"\n",
        "  # Reference:- https://stackoverflow.com/questions/3645931/python-padding-punctuation-with-white-spaces-keeping-punctuation\n",
        "  w = re.sub(r\"([?.!,¿])\", r\" \\1 \", w)\n",
        "  w = re.sub(r'[\" \"]+', \" \", w)\n",
        "\n",
        "  # replacing everything with space except (a-z, A-Z, \".\", \"?\", \"!\", \",\")\n",
        "  w = re.sub(r\"[^a-zA-Z?.!,¿]+\", \" \", w)\n",
        "\n",
        "  w = w.strip()\n",
        "\n",
        "  # adding a start and an end token to the sentence\n",
        "  # so that the model know when to start and stop predicting.\n",
        "  w = '<start> ' + w + ' <end>'\n",
        "  return w"
      ],
      "execution_count": null,
      "outputs": []
    },
    {
      "cell_type": "code",
      "metadata": {
        "id": "HYpqyskDfQqi"
      },
      "source": [
        "en_sentence = u\"May I borrow this book?\"\n",
        "sp_sentence = u\"¿Puedo tomar prestado este libro?\"\n",
        "print(preprocess_sentence(en_sentence))\n",
        "print(preprocess_sentence(sp_sentence).encode('utf-8'))"
      ],
      "execution_count": null,
      "outputs": []
    },
    {
      "cell_type": "code",
      "metadata": {
        "id": "7iSyCfNrfSvT"
      },
      "source": [
        "# 1. Remove the accents\n",
        "# 2. Clean the sentences\n",
        "# 3. Return word pairs in the format: [ENGLISH, SPANISH]\n",
        "def create_dataset(path, num_examples):\n",
        "  lines = io.open(path, encoding='UTF-8').read().strip().split('\\n')\n",
        "\n",
        "  word_pairs = [[preprocess_sentence(w) for w in line.split('\\t')]\n",
        "                for line in lines[:num_examples]]\n",
        "\n",
        "  return zip(*word_pairs)"
      ],
      "execution_count": null,
      "outputs": []
    },
    {
      "cell_type": "code",
      "metadata": {
        "id": "66wKsoJYfT5p"
      },
      "source": [
        "en, sp = create_dataset(path_to_file, None)\n",
        "print(en[-1])\n",
        "print(sp[-1])"
      ],
      "execution_count": null,
      "outputs": []
    },
    {
      "cell_type": "code",
      "metadata": {
        "id": "gEBx2J0OfUUu"
      },
      "source": [
        "def tokenize(lang):\n",
        "  lang_tokenizer = tf.keras.preprocessing.text.Tokenizer(filters='')\n",
        "  lang_tokenizer.fit_on_texts(lang)\n",
        "\n",
        "  tensor = lang_tokenizer.texts_to_sequences(lang)\n",
        "\n",
        "  tensor = tf.keras.preprocessing.sequence.pad_sequences(tensor,\n",
        "                                                         padding='post')\n",
        "\n",
        "  return tensor, lang_tokenizer"
      ],
      "execution_count": null,
      "outputs": []
    },
    {
      "cell_type": "code",
      "metadata": {
        "id": "xOjGqWpsfVmK"
      },
      "source": [
        "def load_dataset(path, num_examples=None):\n",
        "  # creating cleaned input, output pairs\n",
        "  targ_lang, inp_lang = create_dataset(path, num_examples)\n",
        "\n",
        "  input_tensor, inp_lang_tokenizer = tokenize(inp_lang)\n",
        "  target_tensor, targ_lang_tokenizer = tokenize(targ_lang)\n",
        "\n",
        "  return input_tensor, target_tensor, inp_lang_tokenizer, targ_lang_tokenizer"
      ],
      "execution_count": null,
      "outputs": []
    },
    {
      "cell_type": "code",
      "metadata": {
        "id": "JFJWIindfXJ5"
      },
      "source": [
        "# Try experimenting with the size of that dataset\n",
        "num_examples = 30000\n",
        "input_tensor, target_tensor, inp_lang, targ_lang = load_dataset(path_to_file, num_examples)\n",
        "\n",
        "# Calculate max_length of the target tensors\n",
        "max_length_targ, max_length_inp = target_tensor.shape[1], input_tensor.shape[1]"
      ],
      "execution_count": null,
      "outputs": []
    },
    {
      "cell_type": "code",
      "metadata": {
        "id": "x6SFHicNfYa1"
      },
      "source": [
        "# Creating training and validation sets using an 80-20 split\n",
        "input_tensor_train, input_tensor_val, target_tensor_train, target_tensor_val = train_test_split(input_tensor, target_tensor, test_size=0.2)\n",
        "\n",
        "# Show length\n",
        "print(len(input_tensor_train), len(target_tensor_train), len(input_tensor_val), len(target_tensor_val))"
      ],
      "execution_count": null,
      "outputs": []
    },
    {
      "cell_type": "markdown",
      "metadata": {
        "id": "WWEEaYHlfalW"
      },
      "source": [
        "- 구조와 관련된 파라미터 설정하기"
      ]
    },
    {
      "cell_type": "code",
      "metadata": {
        "id": "cc3UtRN7fiI-"
      },
      "source": [
        "BUFFER_SIZE = len(input_tensor_train)\n",
        "BATCH_SIZE = 64\n",
        "steps_per_epoch = len(input_tensor_train)//BATCH_SIZE\n",
        "embedding_dim = 256\n",
        "units = 1024\n",
        "vocab_inp_size = len(inp_lang.word_index)+1\n",
        "vocab_tar_size = len(targ_lang.word_index)+1\n",
        "\n",
        "dataset = tf.data.Dataset.from_tensor_slices((input_tensor_train, target_tensor_train)).shuffle(BUFFER_SIZE)\n",
        "dataset = dataset.batch(BATCH_SIZE, drop_remainder=True)"
      ],
      "execution_count": null,
      "outputs": []
    },
    {
      "cell_type": "code",
      "metadata": {
        "id": "wpvSXgBBfi6o"
      },
      "source": [
        "example_input_batch, example_target_batch = next(iter(dataset))\n",
        "example_input_batch.shape, example_target_batch.shape"
      ],
      "execution_count": null,
      "outputs": []
    },
    {
      "cell_type": "markdown",
      "metadata": {
        "id": "tZBV4UUBfgkr"
      },
      "source": [
        "- 인코더 구현하기"
      ]
    },
    {
      "cell_type": "code",
      "metadata": {
        "id": "aE3-rfGWfm1k"
      },
      "source": [
        "class Encoder(tf.keras.Model):\n",
        "  def __init__(self, vocab_size, embedding_dim, enc_units, batch_sz):\n",
        "    super(Encoder, self).__init__()\n",
        "    self.batch_sz = batch_sz\n",
        "    self.enc_units = enc_units\n",
        "    self.embedding = tf.keras.layers.Embedding(vocab_size, embedding_dim)\n",
        "    self.gru = tf.keras.layers.GRU(self.enc_units,\n",
        "                                   return_sequences=True,\n",
        "                                   return_state=True,\n",
        "                                   recurrent_initializer='glorot_uniform')\n",
        "\n",
        "  def call(self, x, hidden):\n",
        "    x = self.embedding(x)\n",
        "    output, state = self.gru(x, initial_state=hidden)\n",
        "    return output, state\n",
        "\n",
        "  def initialize_hidden_state(self):\n",
        "    return tf.zeros((self.batch_sz, self.enc_units))"
      ],
      "execution_count": null,
      "outputs": []
    },
    {
      "cell_type": "code",
      "metadata": {
        "id": "ehWNiQ_ffokz"
      },
      "source": [
        "encoder = Encoder(vocab_inp_size, embedding_dim, units, BATCH_SIZE)\n",
        "\n",
        "# sample input\n",
        "sample_hidden = encoder.initialize_hidden_state()\n",
        "sample_output, sample_hidden = encoder(example_input_batch, sample_hidden)\n",
        "print('Encoder output shape: (batch size, sequence length, units)', sample_output.shape)\n",
        "print('Encoder Hidden state shape: (batch size, units)', sample_hidden.shape)"
      ],
      "execution_count": null,
      "outputs": []
    },
    {
      "cell_type": "code",
      "metadata": {
        "id": "fKG3Y_BafqBJ"
      },
      "source": [
        "class BahdanauAttention(tf.keras.layers.Layer):\n",
        "  def __init__(self, units):\n",
        "    super(BahdanauAttention, self).__init__()\n",
        "    self.W1 = tf.keras.layers.Dense(units)\n",
        "    self.W2 = tf.keras.layers.Dense(units)\n",
        "    self.V = tf.keras.layers.Dense(1)\n",
        "\n",
        "  def call(self, query, values):\n",
        "    # query hidden state shape == (batch_size, hidden size)\n",
        "    # query_with_time_axis shape == (batch_size, 1, hidden size)\n",
        "    # values shape == (batch_size, max_len, hidden size)\n",
        "    # we are doing this to broadcast addition along the time axis to calculate the score\n",
        "    query_with_time_axis = tf.expand_dims(query, 1)\n",
        "\n",
        "    # score shape == (batch_size, max_length, 1)\n",
        "    # we get 1 at the last axis because we are applying score to self.V\n",
        "    # the shape of the tensor before applying self.V is (batch_size, max_length, units)\n",
        "    score = self.V(tf.nn.tanh(\n",
        "        self.W1(query_with_time_axis) + self.W2(values)))\n",
        "\n",
        "    # attention_weights shape == (batch_size, max_length, 1)\n",
        "    attention_weights = tf.nn.softmax(score, axis=1)\n",
        "\n",
        "    # context_vector shape after sum == (batch_size, hidden_size)\n",
        "    context_vector = attention_weights * values\n",
        "    context_vector = tf.reduce_sum(context_vector, axis=1)\n",
        "\n",
        "    return context_vector, attention_weights"
      ],
      "execution_count": null,
      "outputs": []
    },
    {
      "cell_type": "code",
      "metadata": {
        "id": "xZuX1KCdfr8h"
      },
      "source": [
        "attention_layer = BahdanauAttention(10)\n",
        "attention_result, attention_weights = attention_layer(sample_hidden, sample_output)\n",
        "\n",
        "print(\"Attention result shape: (batch size, units)\", attention_result.shape)\n",
        "print(\"Attention weights shape: (batch_size, sequence_length, 1)\", attention_weights.shape)"
      ],
      "execution_count": null,
      "outputs": []
    },
    {
      "cell_type": "markdown",
      "metadata": {
        "id": "kjbGgc5Efuor"
      },
      "source": [
        "- **디코더 구현**"
      ]
    },
    {
      "cell_type": "code",
      "metadata": {
        "id": "6l1Zd0Nkft6G"
      },
      "source": [
        "class Decoder(tf.keras.Model):\n",
        "  def __init__(self, vocab_size, embedding_dim, dec_units, batch_sz):\n",
        "    super(Decoder, self).__init__()\n",
        "    self.batch_sz = batch_sz\n",
        "    self.dec_units = dec_units\n",
        "    self.embedding = tf.keras.layers.Embedding(vocab_size, embedding_dim)\n",
        "    self.gru = tf.keras.layers.GRU(self.dec_units,\n",
        "                                   return_sequences=True,\n",
        "                                   return_state=True,\n",
        "                                   recurrent_initializer='glorot_uniform')\n",
        "    self.fc = tf.keras.layers.Dense(vocab_size)\n",
        "\n",
        "    # used for attention\n",
        "    self.attention = BahdanauAttention(self.dec_units)\n",
        "\n",
        "  def call(self, x, hidden, enc_output):\n",
        "    # enc_output shape == (batch_size, max_length, hidden_size)\n",
        "    context_vector, attention_weights = self.attention(hidden, enc_output)\n",
        "\n",
        "    # x shape after passing through embedding == (batch_size, 1, embedding_dim)\n",
        "    x = self.embedding(x)\n",
        "\n",
        "    # x shape after concatenation == (batch_size, 1, embedding_dim + hidden_size)\n",
        "    x = tf.concat([tf.expand_dims(context_vector, 1), x], axis=-1)\n",
        "\n",
        "    # passing the concatenated vector to the GRU\n",
        "    output, state = self.gru(x)\n",
        "\n",
        "    # output shape == (batch_size * 1, hidden_size)\n",
        "    output = tf.reshape(output, (-1, output.shape[2]))\n",
        "\n",
        "    # output shape == (batch_size, vocab)\n",
        "    x = self.fc(output)\n",
        "\n",
        "    return x, state, attention_weights"
      ],
      "execution_count": null,
      "outputs": []
    },
    {
      "cell_type": "code",
      "metadata": {
        "id": "-GK7-WsOfx4k"
      },
      "source": [
        "decoder = Decoder(vocab_tar_size, embedding_dim, units, BATCH_SIZE)\n",
        "\n",
        "sample_decoder_output, _, _ = decoder(tf.random.uniform((BATCH_SIZE, 1)),\n",
        "                                      sample_hidden, sample_output)\n",
        "\n",
        "print('Decoder output shape: (batch_size, vocab size)', sample_decoder_output.shape)"
      ],
      "execution_count": null,
      "outputs": []
    },
    {
      "cell_type": "code",
      "metadata": {
        "id": "ABDicArafzt_"
      },
      "source": [
        "optimizer = tf.keras.optimizers.Adam()\n",
        "loss_object = tf.keras.losses.SparseCategoricalCrossentropy(from_logits=True,\n",
        "                                                            reduction='none')\n",
        "\n",
        "\n",
        "def loss_function(real, pred):\n",
        "  mask = tf.math.logical_not(tf.math.equal(real, 0))\n",
        "  loss_ = loss_object(real, pred)\n",
        "\n",
        "  mask = tf.cast(mask, dtype=loss_.dtype)\n",
        "  loss_ *= mask\n",
        "\n",
        "  return tf.reduce_mean(loss_)"
      ],
      "execution_count": null,
      "outputs": []
    },
    {
      "cell_type": "code",
      "metadata": {
        "id": "gTeGGZS1f2M6"
      },
      "source": [
        "@tf.function\n",
        "def train_step(inp, targ, enc_hidden):\n",
        "  loss = 0\n",
        "\n",
        "  with tf.GradientTape() as tape:\n",
        "    enc_output, enc_hidden = encoder(inp, enc_hidden)\n",
        "\n",
        "    dec_hidden = enc_hidden\n",
        "\n",
        "    dec_input = tf.expand_dims([targ_lang.word_index['<start>']] * BATCH_SIZE, 1)\n",
        "\n",
        "    # Teacher forcing - feeding the target as the next input\n",
        "    for t in range(1, targ.shape[1]):\n",
        "      # passing enc_output to the decoder\n",
        "      predictions, dec_hidden, _ = decoder(dec_input, dec_hidden, enc_output)\n",
        "\n",
        "      loss += loss_function(targ[:, t], predictions)\n",
        "\n",
        "      # using teacher forcing\n",
        "      dec_input = tf.expand_dims(targ[:, t], 1)\n",
        "\n",
        "  batch_loss = (loss / int(targ.shape[1]))\n",
        "\n",
        "  variables = encoder.trainable_variables + decoder.trainable_variables\n",
        "\n",
        "  gradients = tape.gradient(loss, variables)\n",
        "\n",
        "  optimizer.apply_gradients(zip(gradients, variables))\n",
        "\n",
        "  return batch_loss"
      ],
      "execution_count": null,
      "outputs": []
    },
    {
      "cell_type": "code",
      "metadata": {
        "id": "20YBdgsYf5gr"
      },
      "source": [
        "EPOCHS = 10\n",
        "\n",
        "for epoch in range(EPOCHS):\n",
        "  start = time.time()\n",
        "\n",
        "  enc_hidden = encoder.initialize_hidden_state()\n",
        "  total_loss = 0\n",
        "\n",
        "  for (batch, (inp, targ)) in enumerate(dataset.take(steps_per_epoch)):\n",
        "    batch_loss = train_step(inp, targ, enc_hidden)\n",
        "    total_loss += batch_loss\n",
        "\n",
        "    if batch % 100 == 0:\n",
        "      print('Epoch {} Batch {} Loss {:.4f}'.format(epoch + 1,\n",
        "                                                   batch,\n",
        "                                                   batch_loss.numpy()))\n",
        "      \n",
        "  print('Epoch {} Loss {:.4f}'.format(epoch + 1,\n",
        "                                      total_loss / steps_per_epoch))\n",
        "  print('Time taken for 1 epoch {} sec\\n'.format(time.time() - start))"
      ],
      "execution_count": null,
      "outputs": []
    },
    {
      "cell_type": "code",
      "metadata": {
        "id": "b0EujLQZf8NJ"
      },
      "source": [
        "def evaluate(sentence):\n",
        "  attention_plot = np.zeros((max_length_targ, max_length_inp))\n",
        "\n",
        "  sentence = preprocess_sentence(sentence)\n",
        "\n",
        "  inputs = [inp_lang.word_index[i] for i in sentence.split(' ')]\n",
        "  inputs = tf.keras.preprocessing.sequence.pad_sequences([inputs],\n",
        "                                                         maxlen=max_length_inp,\n",
        "                                                         padding='post')\n",
        "  inputs = tf.convert_to_tensor(inputs)\n",
        "\n",
        "  result = ''\n",
        "\n",
        "  hidden = [tf.zeros((1, units))]\n",
        "  enc_out, enc_hidden = encoder(inputs, hidden)\n",
        "\n",
        "  dec_hidden = enc_hidden\n",
        "  dec_input = tf.expand_dims([targ_lang.word_index['<start>']], 0)\n",
        "\n",
        "  for t in range(max_length_targ):\n",
        "    predictions, dec_hidden, attention_weights = decoder(dec_input,\n",
        "                                                         dec_hidden,\n",
        "                                                         enc_out)\n",
        "\n",
        "    # storing the attention weights to plot later on\n",
        "    attention_weights = tf.reshape(attention_weights, (-1, ))\n",
        "    attention_plot[t] = attention_weights.numpy()\n",
        "\n",
        "    predicted_id = tf.argmax(predictions[0]).numpy()\n",
        "\n",
        "    result += targ_lang.index_word[predicted_id] + ' '\n",
        "\n",
        "    if targ_lang.index_word[predicted_id] == '<end>':\n",
        "      return result, sentence, attention_plot\n",
        "\n",
        "    # the predicted ID is fed back into the model\n",
        "    dec_input = tf.expand_dims([predicted_id], 0)\n",
        "\n",
        "  return result, sentence, attention_plot"
      ],
      "execution_count": null,
      "outputs": []
    },
    {
      "cell_type": "code",
      "metadata": {
        "id": "uIGrhbkrf-_u"
      },
      "source": [
        "# function for plotting the attention weights\n",
        "def plot_attention(attention, sentence, predicted_sentence):\n",
        "  fig = plt.figure(figsize=(10,10))\n",
        "  ax = fig.add_subplot(1, 1, 1)\n",
        "  ax.matshow(attention, cmap='viridis')\n",
        "\n",
        "  fontdict = {'fontsize': 14}\n",
        "\n",
        "  ax.set_xticklabels([''] + sentence, fontdict=fontdict, rotation=90)\n",
        "  ax.set_yticklabels([''] + predicted_sentence, fontdict=fontdict)\n",
        "\n",
        "  ax.xaxis.set_major_locator(ticker.MultipleLocator(1))\n",
        "  ax.yaxis.set_major_locator(ticker.MultipleLocator(1))\n",
        "\n",
        "  plt.show()"
      ],
      "execution_count": null,
      "outputs": []
    },
    {
      "cell_type": "code",
      "metadata": {
        "id": "dnamxQ1sgAkK"
      },
      "source": [
        "def translate(sentence):\n",
        "  result, sentence, attention_plot = evaluate(sentence)\n",
        "\n",
        "  print('Input: %s' % (sentence))\n",
        "  print('Predicted translation: {}'.format(result))\n",
        "\n",
        "  attention_plot = attention_plot[:len(result.split(' ')), :len(sentence.split(' '))]\n",
        "  plot_attention(attention_plot, sentence.split(' '), result.split(' '))"
      ],
      "execution_count": null,
      "outputs": []
    },
    {
      "cell_type": "code",
      "metadata": {
        "id": "nZ6MY4FtgDe7"
      },
      "source": [
        "translate(u'hace mucho frio aqui.')"
      ],
      "execution_count": null,
      "outputs": []
    },
    {
      "cell_type": "code",
      "metadata": {
        "id": "6V6aKQ4BgFq3"
      },
      "source": [
        "translate(u'esta es mi vida.')"
      ],
      "execution_count": null,
      "outputs": []
    },
    {
      "cell_type": "markdown",
      "metadata": {
        "id": "RyVjn9UeaH0h"
      },
      "source": [
        "## Review"
      ]
    },
    {
      "cell_type": "markdown",
      "metadata": {
        "id": "3zAIH2w0YzRe"
      },
      "source": [
        "- 언어 모델 (Language Model)\n",
        "    - 통계 기반의 언어 모델(Statistical Language Model)\n",
        "    - 신경망 언어 모델(Neural Network Language Model) \n",
        "\n",
        "- 순환 신경망 (Recurrent Neural Network, RNN)\n",
        "    - RNN의 구조\n",
        "    - RNN의 장점과 단점\n",
        "        - 기울기 소실(Gradient Vanishing)\n",
        "\n",
        "- LSTM & GRU\n",
        "    - LSTM\n",
        "        - Cell state\n",
        "    - GRU\n",
        "\n",
        "- Attention\n",
        "    - Attention\n",
        "        - 장기 의존성(Long-term Dependency)\n",
        "    - Query, Key, Vector\n",
        "        - 어떤 벡터가 각 요소에 해당될까요?"
      ]
    }
  ]
}