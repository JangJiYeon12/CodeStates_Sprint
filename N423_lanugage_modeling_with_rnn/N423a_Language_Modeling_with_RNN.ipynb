{
  "nbformat": 4,
  "nbformat_minor": 0,
  "metadata": {
    "colab": {
      "name": "N423a_Language Modeling with RNN.ipynb",
      "provenance": [],
      "collapsed_sections": [
        "vdnZ6GKoknDr"
      ]
    },
    "kernelspec": {
      "name": "python3",
      "display_name": "Python 3"
    }
  },
  "cells": [
    {
      "cell_type": "markdown",
      "metadata": {
        "id": "Skn9ZDVioced"
      },
      "source": [
        "<img src='https://user-images.githubusercontent.com/6457691/90080969-0f758d00-dd47-11ea-8191-fa12fd2054a7.png' width = '200' align = 'right'>\n",
        "\n",
        "## *DATA SCIENCE / SECTION 4 / SPRINT 2 / Assignment 3*\n",
        "\n",
        "--- \n",
        "\n",
        "# Language Modeling with RNN\n",
        "\n"
      ]
    },
    {
      "cell_type": "markdown",
      "metadata": {
        "id": "n1IJIo4CgaHU"
      },
      "source": [
        "## 1. Multiple Choice\n",
        "\n",
        "\n",
        "\n",
        "\n",
        "\n",
        "\n",
        "\n",
        "\n",
        "\n",
        "\n",
        "\n"
      ]
    },
    {
      "cell_type": "markdown",
      "metadata": {
        "id": "1FF7o3r5gdSm"
      },
      "source": [
        "### 문항 1) Sequential 데이터와 RNN에 대한 설명으로 <ins>옳지 않은</ins> 것을 모두 고르시오. "
      ]
    },
    {
      "cell_type": "markdown",
      "metadata": {
        "id": "ptoPsRkLgdPN"
      },
      "source": [
        "1. Sequential 데이터란 입력값이 순서에 따라 다른 의미를 나타내는 특징을 갖는 데이터입니다.\n",
        "2. RNN은 Sequential 데이터를 다루기 위해서 은닉층의 노드에서 활성화 함수를 통해 나온 결과값을 은닉층의 입력으로 사용합니다.\n",
        "3. 역전파로 전해지는 기울기 값이 1보다 적은 값을 갖는 경우, **기울기 소실(Vanishing gradient)**가 발생할 수 있습니다.\n",
        "4. RNN은 입력 시퀀스와 출력 시퀀스의 길이를 다르게 설계할 수 있다는 장점을 가지고 있습니다.\n",
        "5. 정답이 없다."
      ]
    },
    {
      "cell_type": "markdown",
      "metadata": {
        "id": "_c1siI6BgdL5"
      },
      "source": [
        "### 문항 2) LSTM, GRU 및 Seq2Seq 구조에 대한 설명으로 <ins>옳지 않은</ins> 것을 모두 고르시오.\n",
        "\n",
        "_<해당 문제에서 RNN은 Vanilla RNN을 말합니다.>_"
      ]
    },
    {
      "cell_type": "markdown",
      "metadata": {
        "id": "vQ1GQ5atgdId"
      },
      "source": [
        "1. LSTM은 은닉층의 메모리 셀에 입력 게이트(input gate), 망각 게이트(forget gate), 출력 게이트(output gate)를 추가하여<br/>\n",
        "어떤 정보를 더 전달하거나 잊어버릴 것인지를 결정합니다.\n",
        "2. LSTM은 GRU보다 시기적으로 먼저 발표되었으며 LSTM은 2개, GRU는 3개의 gate를 적용하였습니다.\n",
        "3. 기계 번역에 사용되는 RNN 혹은 LSTM 구조는 입력 벡터를 받는 Time-step 마다 즉시 출력 벡터를 내놓습니다.<br/>\n",
        "이런 구조를 Seq2Seq(시퀀스-투-시퀀스)라고 합니다.\n",
        "4. 그렇기 때문에 입력되는 벡터의 개수와 출력되는 벡터의 개수가 동일해야 합니다.\n",
        "5. 정답이 없다."
      ]
    },
    {
      "cell_type": "markdown",
      "metadata": {
        "id": "Hr3bpVjApJ7O"
      },
      "source": [
        "### 문항 3) RNN과 Attention에 대한 설명으로 <ins>옳지 않은</ins> 것을 **모두** 고르시오."
      ]
    },
    {
      "cell_type": "markdown",
      "metadata": {
        "id": "lkRo6CElpizp"
      },
      "source": [
        "1. RNN 기반 모델의 단점 중 하나는 긴 문장(시퀀스)을 처리할 때 앞쪽에 입력된 단어의 의미가 사라지게 되는<br/>\n",
        "장기 의존성(Long-term Dependency) 문제입니다.\n",
        "2. 또한 단어가 순차적으로 입력되기 때문에 병렬화가 어려워 연산 시간이 오래 걸린다는 단점도 가지고 있습니다.\n",
        "3. Attention이란 인코더에 입력된 문장의 단어와 디코더가 생성하려는 단어가 연관된 정도를 나타내는 가중치입니다.\n",
        "4. 인코더의 입력 벡터와 디코더의 출력 벡터를 내적한 값이 Attention 가중치 값(Score)이 됩니다.\n",
        "5. RNN에 이 Attention을 적용하여 (보기 2번에 해당하는) 연산 시간 문제를 해결할 수 있었습니다.\n",
        "6. 정답이 없다."
      ]
    },
    {
      "cell_type": "markdown",
      "metadata": {
        "id": "YIdC4hj8gp_m"
      },
      "source": [
        "------"
      ]
    },
    {
      "cell_type": "markdown",
      "metadata": {
        "id": "m4TPAYK_iMTP"
      },
      "source": [
        "## 2. Code"
      ]
    },
    {
      "cell_type": "markdown",
      "metadata": {
        "id": "uPZul2xafYbg"
      },
      "source": [
        "다음 링크는 LSTM을 사용하여 Spam 메시지 분류를 수행한 캐글 노트북입니다. => [Link](https://www.kaggle.com/kredy10/simple-lstm-for-text-classification) <br/>\n",
        "\n",
        "위 노트북에서 사용한 코드를 참고하여<br/>\n",
        "캐글 데이터셋인 [Women's E-Commerce Clothing Reviews](https://www.kaggle.com/nicapotato/womens-ecommerce-clothing-reviews) 를 분류해 보세요.\n",
        "\n",
        "- 분류에 사용될 텍스트 데이터 : **`Review Text`** 열을 사용합니다.\n",
        "- 레이블(label) 데이터 : **`Recommended IND`** 열을 사용합니다."
      ]
    },
    {
      "cell_type": "code",
      "metadata": {
        "id": "Bz3tWeejexjS"
      },
      "source": [
        "import pandas as pd\n",
        "import numpy as np\n",
        "import tensorflow as tf\n",
        "import matplotlib.pyplot as plt\n",
        "import seaborn as sns\n",
        "\n",
        "from sklearn.model_selection import train_test_split\n",
        "from sklearn.preprocessing import LabelEncoder\n",
        "from keras.models import Model\n",
        "from keras.layers import LSTM, Activation, Dense, Dropout, Input, Embedding\n",
        "from keras.optimizers import RMSprop\n",
        "from keras.preprocessing.text import Tokenizer\n",
        "from keras.preprocessing import sequence\n",
        "from keras.callbacks import EarlyStopping\n",
        "%matplotlib inline"
      ],
      "execution_count": 21,
      "outputs": []
    },
    {
      "cell_type": "code",
      "metadata": {
        "id": "yUA6-p7qSI-i"
      },
      "source": [
        "from google.colab import files\n",
        "\n",
        "file = files.upload()"
      ],
      "execution_count": 1,
      "outputs": []
    },
    {
      "cell_type": "markdown",
      "metadata": {
        "id": "o5ai82pA0PNF"
      },
      "source": [
        "### 1) 데이터 전처리\n",
        "    \n",
        "- 데이터셋을 데이터프레임으로 읽어옵니다.\n",
        "- 필요없는 열(column)을 삭제합니다."
      ]
    },
    {
      "cell_type": "code",
      "metadata": {
        "id": "XtaZvHZ21Q6h"
      },
      "source": [
        "np.random.seed(42)\n",
        "tf.random.set_seed(42)"
      ],
      "execution_count": 22,
      "outputs": []
    },
    {
      "cell_type": "code",
      "metadata": {
        "id": "Jn-HVoj34duo"
      },
      "source": [
        "### 이곳에서 과제를 수행해 주세요 ###"
      ],
      "execution_count": null,
      "outputs": []
    },
    {
      "cell_type": "markdown",
      "metadata": {
        "id": "I_vTYLN_0XGO"
      },
      "source": [
        "### 2) 텍스트 분류를 수행해주세요.\n",
        "\n",
        "- 데이터셋 split시 test_size의 비율은 20%로, `random_state = 42` 로 설정합니다. \n",
        "- Tokenizer의 `num_words=3000` 으로 설정합니다.\n",
        "- pad_sequence의 `maxlen=400` 으로 설정합니다.\n",
        "- 학습 시, 파라미터는 `batch_size=128, epochs=10, validation_split=0.2` 로 설정합니다.\n",
        "- EarlyStopping을 적용합니다. 파라미터는 `monitor='val_loss',min_delta=0.0001, patience=3` 로 설정합니다.\n",
        "- evaluate 했을 때의 loss와 accuarcy를 [loss, acc] 형태로 입력해주세요. Ex) [0.4321, 0.8765]"
      ]
    },
    {
      "cell_type": "code",
      "metadata": {
        "id": "dzuZGPoB4eoc"
      },
      "source": [
        "### 이곳에서 과제를 수행해 주세요 ###"
      ],
      "execution_count": null,
      "outputs": []
    },
    {
      "cell_type": "markdown",
      "metadata": {
        "id": "xrzlOO9Ri2eg"
      },
      "source": [
        "------"
      ]
    },
    {
      "cell_type": "markdown",
      "metadata": {
        "id": "zE4a4O7Bp5x1"
      },
      "source": [
        "## 3. 도전과제 🔥\n",
        "\n",
        "오늘의 도전 과제는 미니 프로젝트처럼 구성되어있습니다.<br>\n",
        "아주 작은 프로젝트를 한다고 생각하고 아래 체크리스트를 점검하면서 과제를 수행해봅시다."
      ]
    },
    {
      "cell_type": "markdown",
      "metadata": {
        "id": "vdnZ6GKoknDr"
      },
      "source": [
        "### 1) keras, tensorflow, pytorch 등 프레임워크에서 제공하는 예제 이외에 다른 문제 해결하기 [주제 : RNN, LSTM, GRU, Attention]"
      ]
    },
    {
      "cell_type": "markdown",
      "metadata": {
        "id": "Cy6aMLOclMK_"
      },
      "source": [
        "1. 예제 키워드(주제)를 입력해주세요."
      ]
    },
    {
      "cell_type": "code",
      "metadata": {
        "id": "VmS9SyDDeMtl"
      },
      "source": [
        "# 아래에 입력하도록 합니다"
      ],
      "execution_count": null,
      "outputs": []
    },
    {
      "cell_type": "markdown",
      "metadata": {
        "id": "MC0sJSKolYkj"
      },
      "source": [
        "2. 찾는 과정에서 사용한 **검색어**를 모두 입력해주세요. \n"
      ]
    },
    {
      "cell_type": "code",
      "metadata": {
        "id": "NY_Q1DvoeOCO"
      },
      "source": [
        "# 아래에 입력하도록 합니다"
      ],
      "execution_count": null,
      "outputs": []
    },
    {
      "cell_type": "markdown",
      "metadata": {
        "id": "lt5HO3JllYJ9"
      },
      "source": [
        "3. 사용할 레포지토리를 찾은 검색어를 입력해주세요."
      ]
    },
    {
      "cell_type": "code",
      "metadata": {
        "id": "hHsotuyIeOk_"
      },
      "source": [
        "# 아래에 입력하도록 합니다"
      ],
      "execution_count": null,
      "outputs": []
    },
    {
      "cell_type": "markdown",
      "metadata": {
        "id": "MCAoRokelmgg"
      },
      "source": [
        "4. 찾아본 코드(레포지토리)를 자신의 환경에서 구현해봅니다. (Colab 추천)<br/>\n",
        "(참고, github 등에서 readme.md를 잘 따라하면 수행하기가 쉽습니다.)\n",
        "  - 위 방법을 수행하면서 발생한 오류를 찾아 해결하고 블로그에 해당 내용을 정리하여 게시하고, 해당 글의 링크를 입력해주세요.<br/>\n",
        "(오류가 없었다면 공백으로 두시면 됩니다.)\n"
      ]
    },
    {
      "cell_type": "code",
      "metadata": {
        "id": "v9Ch6o59eSyf"
      },
      "source": [
        "# 아래에 입력하도록 합니다"
      ],
      "execution_count": null,
      "outputs": []
    },
    {
      "cell_type": "markdown",
      "metadata": {
        "id": "9fWcSg3emLM0"
      },
      "source": [
        "5. 만약 찾은 코드가 제대로 돌아가지 않는다면, 수정해봅니다.<br/>\n",
        "혹은 같은 Task를 수행할 수 있는 다른 github repo를 찾아보며 위 과정을 반복해봅니다."
      ]
    },
    {
      "cell_type": "code",
      "metadata": {
        "id": "aILEkoXJeUQt"
      },
      "source": [
        "# 아래에 입력하도록 합니다"
      ],
      "execution_count": null,
      "outputs": []
    },
    {
      "cell_type": "markdown",
      "metadata": {
        "id": "MUQfvnkcmeEp"
      },
      "source": [
        "6. 레포지토리 코드를 이용하여 데모가 잘 구현되었다면, 이제 데이터와 코드를 보면서 디테일을 파악해봅니다.\n",
        "  - 어떤 데이터를 사용하였는지, 해당 데이터의 특징은 무엇인지 설명해주세요.\n",
        "  - 전처리과정에 사용한 코드를 설명해주세요. (코드에 직접 주석을 입력하셔도 됩니다.)\n",
        "  - 모델 구조를 나타낸 코드를 설명해주세요. (코드에 직접 주석을 입력하셔도 됩니다.)"
      ]
    },
    {
      "cell_type": "code",
      "metadata": {
        "id": "cOuJLkNveVmY"
      },
      "source": [
        "# 아래에 입력하도록 합니다"
      ],
      "execution_count": null,
      "outputs": []
    },
    {
      "cell_type": "markdown",
      "metadata": {
        "id": "jHicVHYEinE1"
      },
      "source": [
        "7. 이해하기 어려운 코드를 포함하고 있고 직접 설명하기 어렵다면,<br/>\n",
        "인용된 논문을 찾아 주석을 달아두고 이해한 부분만으로 정리한 뒤 Reference에 해당 논문을 남겨둡시다."
      ]
    },
    {
      "cell_type": "code",
      "metadata": {
        "id": "ptDY4rwmeWVE"
      },
      "source": [
        "# 아래에 입력하도록 합니다"
      ],
      "execution_count": null,
      "outputs": []
    },
    {
      "cell_type": "markdown",
      "metadata": {
        "id": "4YsX3L9CngiE"
      },
      "source": [
        "8. (선택)\n",
        "    - 위의 과제에서 사용한 네트워크에 적용할 다른 데이터를 찾아봅니다.\n",
        "    - 해당 모델에서 변경할 수 있는 부분 중 가장 쉬운 부분을 변경해봅니다. (하이퍼파라미터, 활성화 함수 등 변경)\n",
        "        - 이를 통해 원래 repo의 모델보다 성능을 높여봅니다."
      ]
    },
    {
      "cell_type": "code",
      "metadata": {
        "id": "JqKkTP2Seapu"
      },
      "source": [
        "# 아래에 입력하도록 합니다"
      ],
      "execution_count": null,
      "outputs": []
    }
  ]
}