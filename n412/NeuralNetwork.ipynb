{
 "cells": [
  {
   "cell_type": "markdown",
   "metadata": {},
   "source": [
    "# Import Library"
   ]
  },
  {
   "cell_type": "code",
   "execution_count": 1,
   "metadata": {
    "ExecuteTime": {
     "end_time": "2020-06-07T05:50:33.466826Z",
     "start_time": "2020-06-07T05:50:32.868426Z"
    }
   },
   "outputs": [],
   "source": [
    "import numpy as np\n",
    "import scipy.special\n",
    "import matplotlib.pyplot as plt\n",
    "import pandas as pd\n",
    "import time"
   ]
  },
  {
   "cell_type": "markdown",
   "metadata": {},
   "source": [
    "# Declare NeuralNet class"
   ]
  },
  {
   "cell_type": "code",
   "execution_count": 2,
   "metadata": {
    "ExecuteTime": {
     "end_time": "2020-06-07T05:50:33.656321Z",
     "start_time": "2020-06-07T05:50:33.638368Z"
    }
   },
   "outputs": [],
   "source": [
    "# NeuralNet\n",
    "class NN:\n",
    "    \n",
    "    # 생성자\n",
    "    # 필요한 변수 nodes of layer and weights and function.\n",
    "    def __init__(self,inputnodes, hiddennodes,outputnodes,learningrate):\n",
    "        self.inodes = inputnodes\n",
    "        self.hnodes = hiddennodes\n",
    "        self.onodes = outputnodes\n",
    "        self.lr = learningrate\n",
    "        \n",
    "        self.wih=np.random.normal(0.0,pow(self.inodes,-0.5),(self.hnodes,self.inodes)) #랜덤하면 너무 점수가 낮음 정규분포로하자!\n",
    "        self.who=np.random.normal(0.0,pow(self.hnodes,-0.5),(self.onodes,self.hnodes))\n",
    "        # activation function\n",
    "        self.activation_function = lambda x :scipy.special.expit(x)\n",
    "        \n",
    "        pass\n",
    "    \n",
    "    \n",
    "    #\n",
    "    def train(self,inputs_list,targets_list):\n",
    "        # forward propagation\n",
    "        # input과 target을 받아와 numpy array로 변환 \n",
    "        inputs =np.array(inputs_list,ndmin=2).T\n",
    "        targets = np.array(targets_list,ndmin=2).T\n",
    "        \n",
    "        # calc on hidden_layer\n",
    "        hidden_inputs = np.matmul(self.wih,inputs)\n",
    "        hidden_outputs = self.activation_function(hidden_inputs)\n",
    "        \n",
    "        # calc on output_layer\n",
    "        final_inputs = np.matmul(self.who,hidden_outputs)\n",
    "        final_outputs = self.activation_function(final_inputs)\n",
    "        \n",
    "        # error\n",
    "        target_errors = targets-final_outputs\n",
    "        \n",
    "        \n",
    "        ## backPropagation\n",
    "        \n",
    "        # hidden layer error derived from target_error\n",
    "        hidden_errors=np.matmul(np.transpose(self.who),target_errors)\n",
    "        \n",
    "        # update weights between hidden and output layer\n",
    "        self.who = self.who + self.lr*np.matmul(target_errors*final_outputs*(1-final_outputs),np.transpose(hidden_outputs))\n",
    "        # update weights between input and hidden layer\n",
    "        self.wih = self.wih + self.lr*np.matmul(hidden_errors*hidden_outputs*(1-hidden_outputs),np.transpose(inputs))\n",
    "        pass\n",
    "    \n",
    "    \n",
    "\n",
    "    def query(self,inputs_list) :\n",
    "        inpus = np.array(inputs_list,ndmin=2).T\n",
    "        hidden_inputs = np.matmul(self.wih,inputs)\n",
    "        hidden_outputs = self.activation_function(hidden_inputs)\n",
    "        final_inputs = np.matmul(self.who,hidden_outputs)\n",
    "        final_outputs = self.activation_function(final_inputs)\n",
    "        return final_outputs\n",
    "\n",
    "        \n",
    "        return final_outputs"
   ]
  },
  {
   "cell_type": "markdown",
   "metadata": {},
   "source": [
    "# Set HyperParams"
   ]
  },
  {
   "cell_type": "code",
   "execution_count": 3,
   "metadata": {
    "ExecuteTime": {
     "end_time": "2020-06-07T05:50:38.320640Z",
     "start_time": "2020-06-07T05:50:38.312661Z"
    }
   },
   "outputs": [],
   "source": [
    "input_nodes = 784\n",
    "hidden_nodes = 150\n",
    "output_nodes = 10 #0~9 구분가능하게\n",
    "learningrate = 0.5\n",
    "\n",
    "# create Neural Net with HyperParams\n",
    "n = NN(input_nodes,hidden_nodes,output_nodes,learningrate)\n",
    "\n"
   ]
  },
  {
   "cell_type": "markdown",
   "metadata": {},
   "source": [
    "# Load dataSet"
   ]
  },
  {
   "cell_type": "code",
   "execution_count": 4,
   "metadata": {
    "ExecuteTime": {
     "end_time": "2020-06-07T05:54:08.970514Z",
     "start_time": "2020-06-07T05:54:08.473500Z"
    },
    "scrolled": false
   },
   "outputs": [],
   "source": [
    "training_data_file = open(\"mnist_dataset/mnist_train.csv\")\n",
    "training_data_list = training_data_file.readlines()\n",
    "training_data_file.close()\n",
    "test_data_file = open(\"mnist_dataset/mnist_test.csv\")\n",
    "test_data_list=test_data_file.readlines()\n",
    "test_data_file.close()"
   ]
  },
  {
   "cell_type": "markdown",
   "metadata": {},
   "source": [
    "# Stochastic Gradient Descent"
   ]
  },
  {
   "cell_type": "code",
   "execution_count": 5,
   "metadata": {
    "ExecuteTime": {
     "end_time": "2020-06-07T05:59:07.409299Z",
     "start_time": "2020-06-07T05:54:09.759064Z"
    },
    "scrolled": true
   },
   "outputs": [
    {
     "name": "stdout",
     "output_type": "stream",
     "text": [
      "sc's performance= 0.9261\n",
      "32.083028078079224 seconds for 1 epoches\n",
      "sc's performance= 0.93235\n",
      "33.838563203811646 seconds for 1 epoches\n",
      "sc's performance= 0.9372333333333334\n",
      "35.216979026794434 seconds for 1 epoches\n",
      "sc's performance= 0.9383\n",
      "34.858652114868164 seconds for 1 epoches\n",
      "sc's performance= 0.93952\n",
      "35.44012093544006 seconds for 1 epoches\n"
     ]
    },
    {
     "data": {
      "image/png": "[encoded data removed]",
      "text/plain": [
       "<Figure size 432x288 with 1 Axes>"
      ]
     },
     "metadata": {
      "needs_background": "light"
     },
     "output_type": "display_data"
    }
   ],
   "source": [
    "epoches = 5\n",
    "sc_scorecard=[] # stochastic grdadient 점수카드\n",
    "sc_score_array = []\n",
    "epoches_array = []\n",
    "start = time.time()\n",
    "for epoch in range (epoches):    \n",
    "    \n",
    "    epoches_array.append(epoch+1)\n",
    "    # train\n",
    "    for record in training_data_list : \n",
    "        # split csv index by ',' \n",
    "        all_values = record.split(',')\n",
    "        \n",
    "        # input min-max scaling 0-255 => 0.01~1 \n",
    "        inputs = np.asfarray(all_values[1:])/255.0*0.99+0.01 #이미 line by line으로 읽어서 1차원 0.01< ipnut <=1\n",
    "        \n",
    "        # make target array\n",
    "        targets = np.zeros(output_nodes)\n",
    "        targets[int(all_values[0])] = 1\n",
    "        \n",
    "        n.train(inputs,targets)\n",
    "    \n",
    "    for record in test_data_list :\n",
    "        # input and tarkget\n",
    "        all_values=record.split(',')\n",
    "        correct_label=int(all_values[0])\n",
    "        inputs=(np.asfarray(all_values[1:])/255.0*0.99)\n",
    "        outputs = n.query(inputs)\n",
    "        label=np.argmax(outputs)\n",
    "\n",
    "        if (label==correct_label) : \n",
    "            sc_scorecard.append(1)\n",
    "        else:\n",
    "            sc_scorecard.append(0)\n",
    "            \n",
    "\n",
    "\n",
    "    \n",
    "    \n",
    "    sc_scorecard_array=np.asarray(sc_scorecard)\n",
    "    sc_score = sc_scorecard_array.sum()/sc_scorecard_array.size\n",
    "    \n",
    "    print(\"sc's performance=\",sc_score)\n",
    "    \n",
    "    sc_score_array.append(sc_score)\n",
    "    \n",
    "    \n",
    "    # estimate time \n",
    "    finish = time.time()\n",
    "    print(f\"{finish-start} seconds for 1 epoches\")\n",
    "    start = time.time()\n",
    "\n",
    "# make a plot\n",
    "plt.plot(epoches_array,sc_score_array,'r')\n",
    "\n",
    "score_data = pd.DataFrame(data = {\"SGD(score)\" : sc_score_array},index=epoches_array)"
   ]
  },
  {
   "cell_type": "markdown",
   "metadata": {},
   "source": [
    "# Mini Batch "
   ]
  },
  {
   "cell_type": "code",
   "execution_count": 6,
   "metadata": {},
   "outputs": [],
   "source": [
    "class NN:\n",
    "    def __init__(self,inputnodes, hiddennodes,outputnodes,learningrate) :   #초기화 함수\n",
    "        \n",
    "        self.inodes = inputnodes\n",
    "        self.hnodes = hiddennodes\n",
    "        self.onodes = outputnodes\n",
    "        self.lr = learningrate\n",
    "        \n",
    "        self.wih = np.random.normal(0.0,pow(self.inodes,-0.5),(self.hnodes,self.inodes))\n",
    "        self.who = np.random.normal(0.0,pow(self.hnodes,-0.5),(self.onodes,self.hnodes))\n",
    "        self.activation_function = lambda x :scipy.special.expit(x)\n",
    "        \n",
    "        pass\n",
    "    \n",
    "    \n",
    "    def train(self,inputs_list,targets_list):\n",
    "        #WHO WIH를 업데이트함\n",
    "        inputs =np.array(inputs_list,ndmin=2).T  #인풋배열만들기\n",
    "        targets = np.array(targets_list,ndmin=2).T #결과배열만들기\n",
    "        \n",
    "        hidden_inputs = np.matmul(self.wih,inputs)\n",
    "        hidden_outputs = self.activation_function(hidden_inputs)\n",
    "        \n",
    "        final_inputs = np.matmul(self.who,hidden_outputs)\n",
    "        final_outputs = self.activation_function(final_inputs)\n",
    "        \n",
    "        \n",
    "        final_errors = targets-final_outputs\n",
    "        hidden_errors=np.matmul(np.transpose(self.who),final_errors)        \n",
    "        \n",
    "        deltaho =self.lr*np.matmul(final_errors*final_outputs*(1-final_outputs),np.transpose(hidden_outputs))\n",
    "        deltaih =self.lr*np.matmul(hidden_errors*hidden_outputs*(1-hidden_outputs),np.transpose(inputs))\n",
    "\n",
    "        return deltaho,deltaih\n",
    "    \n",
    "    def update(self,ho,ih):\n",
    "    \n",
    "        self.wih= self.wih+ih\n",
    "        self.who= self.who+ho\n",
    "        \n",
    "        pass\n",
    "\n",
    "   \n",
    "    def query(self,inputs_list) :\n",
    "        inpus = np.array(inputs_list,ndmin=2).T\n",
    "        hidden_inputs = np.matmul(self.wih,inputs)\n",
    "        hidden_outputs = self.activation_function(hidden_inputs)\n",
    "        final_inputs = np.matmul(self.who,hidden_outputs)\n",
    "        final_outputs = self.activation_function(final_inputs)\n",
    "        \n",
    "        \n",
    "        return final_outputs"
   ]
  },
  {
   "cell_type": "code",
   "execution_count": 7,
   "metadata": {},
   "outputs": [],
   "source": [
    "input_nodes = 784\n",
    "hidden_nodes = 150\n",
    "output_nodes = 10 #0~9 구분가능하게\n",
    "learningrate = 0.5\n",
    "\n",
    "# create Neural Net with HyperParams\n",
    "n = NN(input_nodes,hidden_nodes,output_nodes,learningrate)"
   ]
  },
  {
   "cell_type": "code",
   "execution_count": 8,
   "metadata": {},
   "outputs": [
    {
     "name": "stdout",
     "output_type": "stream",
     "text": [
      "MB's performance= 0.8903\n",
      "34.33669471740723 seconds for 1 epoches\n",
      "MB's performance= 0.902\n",
      "36.881747007369995 seconds for 1 epoches\n",
      "MB's performance= 0.9097333333333333\n",
      "38.14884400367737 seconds for 1 epoches\n",
      "MB's performance= 0.915325\n",
      "39.65579700469971 seconds for 1 epoches\n",
      "MB's performance= 0.91978\n",
      "37.374868869781494 seconds for 1 epoches\n",
      "[1, 2, 3, 4, 5]\n",
      "[0.8903, 0.902, 0.9097333333333333, 0.915325, 0.91978]\n"
     ]
    }
   ],
   "source": [
    "epoches = 5\n",
    "\n",
    "mb_scorecard=[] # Mini batch\n",
    "mb_score_array = []\n",
    "epoches_array = []\n",
    "batch_size = 100\n",
    "start = time.time()\n",
    "\n",
    "\n",
    "for epoch in range(epoches):    \n",
    "    epoches_array.append(epoch+1)\n",
    "    \n",
    "    # for  # of train sample/batch_szie = 6000\n",
    "    epoch_minibatch = int(len(training_data_list)/batch_size)\n",
    "   \n",
    "    # (6000,1)  6만개를 batch_size씩 묶어서 update, batch_size개가 될 때마다 업데이트 => \n",
    "    training_data_MBlist=[0 for x in range(epoch_minibatch)]\n",
    "    \n",
    "    \n",
    "    # 60000/batch_size => 전체를 학습하기 위해서 6000번 반복\n",
    "    for i in range(len(training_data_MBlist)):\n",
    "        \n",
    "        # weights를 저장할 mask 선언\n",
    "        deltaih = np.zeros((hidden_nodes,input_nodes))\n",
    "        deltaho = np.zeros((output_nodes,hidden_nodes))\n",
    "        \n",
    "        # i번째 훈련시 batch_size의 sample씩 배정\n",
    "        training_data_MBlist[i]=training_data_list[batch_size*i:batch_size*(i+1)]\n",
    "        \n",
    "        # 10개의 sample씩\n",
    "        for k,record in enumerate(training_data_MBlist[i],start=1):\n",
    "            \n",
    "\n",
    "            all_values = record.split(',') \n",
    "            inputs = np.asfarray(all_values[1:])/255.0*0.99+0.01\n",
    "            targets = np.zeros(output_nodes)\n",
    "            targets[int(all_values[0])] = 1\n",
    "            \n",
    "            # 10번째 때\n",
    "            if k==batch_size:\n",
    "                # 훈련된 weight를 mask에 저장\n",
    "                K = n.train(inputs,targets)\n",
    "                deltaho = deltaho+K[0]\n",
    "                deltaih = deltaih+K[1]\n",
    "                \n",
    "                # batch_size로 나눈 뒤 업데이트\n",
    "                ho = deltaho/len(training_data_MBlist[i])\n",
    "                ih = deltaih/len(training_data_MBlist[i])\n",
    "                n.update(ho,ih)\n",
    "                # initialize mask\n",
    "                deltaih = np.zeros((hidden_nodes,input_nodes))\n",
    "                deltaho = np.zeros((output_nodes,hidden_nodes))\n",
    "\n",
    "            #  \n",
    "            else :\n",
    "                # 훈련 후 저장\n",
    "                K=n.train(inputs,targets)\n",
    "                deltaho = deltaho+K[0]\n",
    "                deltaih = deltaih+K[1]\n",
    "                \n",
    "    for record in test_data_list :\n",
    "        all_values=record.split(',')\n",
    "        correct_label=int(all_values[0])\n",
    "\n",
    "        inputs=(np.asfarray(all_values[1:])/255.0*0.99)+0.01\n",
    "        outputs = n.query(inputs)\n",
    "        label=np.argmax(outputs)\n",
    "\n",
    "        if (label==correct_label) : \n",
    "            mb_scorecard.append(1)\n",
    "        else:\n",
    "            mb_scorecard.append(0)\n",
    "\n",
    "    scorecardMB_array=np.asarray(mb_scorecard)\n",
    "    scoreMB = scorecardMB_array.sum()/scorecardMB_array.size\n",
    "    \n",
    "    print(\"MB's performance=\",scoreMB)\n",
    "    mb_score_array.append(scoreMB)\n",
    "\n",
    "    # estimate time \n",
    "    finish = time.time()\n",
    "    print(f\"{finish-start} seconds for 1 epoches\")\n",
    "    start = time.time()\n",
    "    \n",
    "print(epoches_array)\n",
    "print(mb_score_array)\n"
   ]
  },
  {
   "cell_type": "code",
   "execution_count": 9,
   "metadata": {
    "scrolled": true
   },
   "outputs": [
    {
     "data": {
      "image/png": "[encoded data removed]",
      "text/plain": [
       "<Figure size 432x288 with 1 Axes>"
      ]
     },
     "metadata": {
      "needs_background": "light"
     },
     "output_type": "display_data"
    }
   ],
   "source": [
    "# make a plot\n",
    "plt.plot(epoches_array,mb_score_array,'b')\n",
    "plt.show()"
   ]
  },
  {
   "cell_type": "code",
   "execution_count": null,
   "metadata": {},
   "outputs": [],
   "source": []
  }
 ],
 "metadata": {
  "hide_input": false,
  "kernelspec": {
   "display_name": "Python 3",
   "language": "python",
   "name": "python3"
  },
  "language_info": {
   "codemirror_mode": {
    "name": "ipython",
    "version": 3
   },
   "file_extension": ".py",
   "mimetype": "text/x-python",
   "name": "python",
   "nbconvert_exporter": "python",
   "pygments_lexer": "ipython3",
   "version": "3.8.3"
  },
  "toc": {
   "base_numbering": 1,
   "nav_menu": {},
   "number_sections": true,
   "sideBar": true,
   "skip_h1_title": false,
   "title_cell": "Table of Contents",
   "title_sidebar": "Contents",
   "toc_cell": false,
   "toc_position": {},
   "toc_section_display": true,
   "toc_window_display": true
  },
  "varInspector": {
   "cols": {
    "lenName": 16,
    "lenType": 16,
    "lenVar": 40
   },
   "kernels_config": {
    "python": {
     "delete_cmd_postfix": "",
     "delete_cmd_prefix": "del ",
     "library": "var_list.py",
     "varRefreshCmd": "print(var_dic_list())"
    },
    "r": {
     "delete_cmd_postfix": ") ",
     "delete_cmd_prefix": "rm(",
     "library": "var_list.r",
     "varRefreshCmd": "cat(var_dic_list()) "
    }
   },
   "types_to_exclude": [
    "module",
    "function",
    "builtin_function_or_method",
    "instance",
    "_Feature"
   ],
   "window_display": false
  }
 },
 "nbformat": 4,
 "nbformat_minor": 2
}
