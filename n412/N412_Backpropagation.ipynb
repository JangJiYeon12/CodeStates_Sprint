{
  "nbformat": 4,
  "nbformat_minor": 0,
  "metadata": {
    "colab": {
      "name": "N412_Backpropagation.ipynb",
      "provenance": [],
      "collapsed_sections": []
    },
    "kernelspec": {
      "name": "python3",
      "display_name": "Python 3"
    },
    "language_info": {
      "name": "python"
    }
  },
  "cells": [
    {
      "cell_type": "markdown",
      "metadata": {
        "id": "ELV1ffGLL6xY"
      },
      "source": [
        "<img src='https://user-images.githubusercontent.com/6457691/90080969-0f758d00-dd47-11ea-8191-fa12fd2054a7.png' width = '200' align = 'right'>\n",
        "\n",
        "## *DATA SCIENCE / SECTION 4 / SPRINT 1 / NOTE 2*\n",
        "\n",
        "---"
      ]
    },
    {
      "cell_type": "markdown",
      "metadata": {
        "id": "AP-7IhbYL_0I"
      },
      "source": [
        "# N412. 경사하강법(Gradient Descent)과 역전파(Backpropagation)"
      ]
    },
    {
      "cell_type": "markdown",
      "metadata": {
        "id": "2xszYUl5MDds"
      },
      "source": [
        "## 🛫 Warm Up"
      ]
    },
    {
      "cell_type": "markdown",
      "metadata": {
        "id": "gEYOJtTFMIEK"
      },
      "source": [
        "- [역전파 미적분 | 딥러닝](https://youtu.be/tIeHLnjs5U8) - 3Blue1Brown\n",
        "- [Neural Networks Demystified (Part 4: Backpropagation)\n",
        "](https://youtu.be/GlcnxUlrtek) - Welch Labs : 학습 과정을 잘 모사한 영상입니다."
      ]
    },
    {
      "cell_type": "markdown",
      "metadata": {
        "id": "E3-v_vZbM7E8"
      },
      "source": [
        "### 지난 시간 내용 복습하기"
      ]
    },
    {
      "cell_type": "markdown",
      "metadata": {
        "id": "kk1sLHX8NAH5"
      },
      "source": [
        "- **인공지능의 역사**\n",
        "\n",
        "- **퍼셉트론(Perceptron)과 논리 게이트(AND, NAND, OR 그리고 XOR)**\n",
        "\n",
        "- **신경망의 기본 구조**\n",
        "    - Input\n",
        "    - Activation function\n",
        "    - Output\n",
        "\n",
        "- **신경망의 동작 원리**\n",
        "    - 데이터 전처리 및 입력\n",
        "    - 모델 제작 및 가중치 초기화\n",
        "    - 모델에 데이터를 넣고 출력값을 얻음\n",
        "    - 출력값과 레이블(정답지)과 비교 후 Loss 계산\n",
        "    - Loss를 반영하여 가중치 업데이트 -> 이번 강의에서 배우게 될 **역전파(BackPropagation) + 경사하강법(Gradient Descent)**"
      ]
    },
    {
      "cell_type": "markdown",
      "metadata": {
        "id": "5YldS9c4M4AD"
      },
      "source": [
        "## 🏆 학습 목표"
      ]
    },
    {
      "cell_type": "markdown",
      "metadata": {
        "id": "ZalFKLf2Nj5s"
      },
      "source": [
        "- **경사 하강법(Gradient descent)과 역전파(Backpropagation)**에 대해 이해하고 설명할 수 있다.\n",
        "- **케라스(`Keras`) 프레임워크를 이용하여 모델을 구축**할 수 있다."
      ]
    },
    {
      "cell_type": "markdown",
      "metadata": {
        "id": "fWYA1gouEFwb"
      },
      "source": [
        "---"
      ]
    },
    {
      "cell_type": "markdown",
      "metadata": {
        "id": "sH_69WOVvh8V"
      },
      "source": [
        "## 역전파를 배우기 전에"
      ]
    },
    {
      "cell_type": "markdown",
      "metadata": {
        "id": "OPJyLjuQvlXh"
      },
      "source": [
        "> ❗️ ***오늘 배울 <font color=\"ff6f61\">역전파와 경사 하강법은 신경망을 처음 배울 때에 가장 어려운 부분</font>입니다.<br/>\n",
        "처음부터 수학적인 내용을 모두 이해하지 못해도 좋습니다.<br/>\n",
        "일단 역전파를 통한 신경망 학습을 개념적으로 이해한 뒤에, 강의와 노트를 반복하면서 내용을 이해하려 시도해보시면 좋겠습니다 :)***\n",
        "\n",
        "먼저 어제 배웠던 내용을 한 번 돌아본 후에 역전파로 넘어가도록 하겠습니다."
      ]
    },
    {
      "cell_type": "markdown",
      "metadata": {
        "id": "VdiecJnkOnb3"
      },
      "source": [
        "### 신경망 구조 (recap.)"
      ]
    },
    {
      "cell_type": "markdown",
      "metadata": {
        "id": "BIH2bx5dOpT2"
      },
      "source": [
        "이번 강의에서는 신경망이 어떻게 훈련되는지에 대해 조금 더 깊게 알아보도록 하겠습니다.\n",
        "\n",
        "지난 강의에서 신경망의 학습(Training)이란 **적절한 '가중치'를 찾아가는 과정**임을 배웠습니다.\n",
        "그렇다면 어떻게 신경망은 스스로 적절한 가중치를 찾을 수 있는 것일까요?\n",
        "\n",
        "그 답은 바로, 이번 시간에 배울 **<font color=\"ff6f61\">경사 하강법(Gradient descent, GD)과 역전파(Backpropagation, BP)</font>**입니다.<br/>\n",
        "조금 더 자세하게 말하면 경사 하강법에 필요한 기울기(Gradient)계산을 역전파 알고리즘을 통해 구하게 됩니다.\n",
        "\n",
        "지난 강의에서 학습했던 신경망의 기본적인 구조와 연산에 대해 간략히 짚어보겠습니다.\n",
        " "
      ]
    },
    {
      "cell_type": "markdown",
      "metadata": {
        "id": "EJ3Ly_yWr8Vm"
      },
      "source": [
        "<img src=\"https://i.imgur.com/dlGareT.gif\" alt=\"backpropagation\">"
      ]
    },
    {
      "cell_type": "markdown",
      "metadata": {
        "id": "YTk7PRZHrjjX"
      },
      "source": [
        "- 신경망에는 크게 3개의 층 **[=입력층(Input layer), 은닉층(Hidden layer), 출력층(output layer)]**이 존재합니다.\n",
        "\n",
        "- 각 층은 한 개 이상의 노드(Node)로 구성되어 있으며, 각 노드는 **가중치(Weight)와 편향(Bias)**으로 연결되어 있습니다.\n",
        "\n",
        "- **<font color=\"ff6f61\">순전파</font> : 입력층에서 입력된 신호가 은닉층의 연산을 거쳐 출력층에서 값을 내보내는 과정**\n",
        "    - 입력층(왼쪽)에서부터 출력층(오른쪽) 방향으로 데이터가 전달됩니다.\n",
        "        1. 입력층으로부터(혹은 이전 은닉층으로부터) 신호(데이터)를 전달받습니다.\n",
        "        2. 입력된 데이터를 가중치 및 편향과 연산한 뒤에 더해줍니다.(가중합, weighted sum)\n",
        "        3. 가중합을 통해 구해진 값은 활성화 함수(Activation function)를 통해 다음 층으로 전달됩니다.\n",
        "        \n",
        "특정 층에 입력되는 데이터의 특성이 $n$ 개인 경우 이 과정을 수식으로 나타내면 다음과 같이 나타낼 수 있습니다.<br/>\n",
        "(아래 식에서 활성화 함수는 시그모이드 함수입니다.)\n",
        "\n",
        "\\begin{align}\n",
        " y = \\text{sigmoid}\\bigg(\\sum( b + w_{1}x_{1} + w_{2}x_{2} + ... + w_{n}x_{n})\\bigg)\n",
        "\\end{align}"
      ]
    },
    {
      "cell_type": "markdown",
      "metadata": {
        "id": "a_uFig8Fvwqm"
      },
      "source": [
        "### 경사 하강법과 역전파 미리 맛보기 : 신경망 학습 알고리즘 요약"
      ]
    },
    {
      "cell_type": "markdown",
      "metadata": {
        "id": "JqWXjgxWOvYH"
      },
      "source": [
        "오늘 배울 내용을 간략하게 줄여보겠습니다.\n",
        "\n",
        "> ❗️ ***당장 아래 요약을 이해하지 못해도 좋습니다. 아래에서 하나씩 자세하게 살펴볼 예정입니다.<br/>\n",
        "게다가 원래 역전파를 단번에 이해하기란 어렵습니다. 갑자기 수식이 너무 많이 등장한다고 좌절하지 않아도 됩니다.***\n",
        "\n",
        "1. **데이터와 목적에 맞게 신경망 구조를 설계**합니다.\n",
        "    - 입력층 노드(유닛) 수 = **데이터의 Feature 수로 설정합니다.**\n",
        "    - 출력층 노드(유닛) 수 = **문제(분류, 회귀 등)에 따라 다르게 설정합니다.**\n",
        "    - 은닉층 수와 각 은닉층의 노드 수를 결정합니다.\n",
        "2. **가중치를 랜덤하게 초기화** 해줍니다. (초기화 방법에 대해서는 다음에 배울 것입니다.)\n",
        "3. 순전파를 통해 출력값($h_{\\theta}(x^{(i)})$) 을 모든 입력 데이터($x^{(i)}$)에 대해 계산합니다.\n",
        "4. **비용 함수(Cost function**, $J(\\theta)$)를 계산합니다.\n",
        "5. **역전파**를 통해 각 가중치에 대한 편미분 값($\\partial J(\\theta)/\\partial\\theta_{jk}^{l}$) 을 계산합니다.\n",
        "6. **경사하강법을 사용하여 비용함수인 ($J(\\theta)$)를 최소화하는 방향으로 가중치를 갱신**합니다.\n",
        "7. **중지 기준을 충족하거나 비용 함수를 최소화 할 때까지 2-5 단계를 반복**합니다. 2-5 단계를 한 번 진행하는 것을 **iteration** 라고 합니다."
      ]
    },
    {
      "cell_type": "markdown",
      "metadata": {
        "id": "cpNGFv5EBwgO"
      },
      "source": [
        "- **<font color=\"ff6f61\">비용 함수(Cost Function) 혹은 손실 함수(Loss function)</font>**"
      ]
    },
    {
      "cell_type": "markdown",
      "metadata": {
        "id": "ffhraXdYOxTt"
      },
      "source": [
        "신경망은 손실 함수를 최소화 하는 방향으로 가중치를 갱신합니다.<br/>\n",
        "그렇기 때문에 손실 함수를 잘 정의해주어야 가중치가 제대로 갱신될 수 있겠죠?\n",
        "\n",
        "입력 데이터를 신경망에 넣어 순전파를 거치면 마지막 출력층을 통과한 값이 도출됩니다.<br/>\n",
        "출력된 값과 그 데이터의 타겟값을 **손실 함수에 넣어 손실(Loss or Error)를 계산**합니다.<br/>\n",
        "한 데이터 포인트에서의 손실을 **Loss** 라고 하며, 전체 데이터셋의 Loss를 합한 개념을 **Cost** 라고 합니다.\n",
        "\n",
        "대표적인 손실 함수는 MSE, Cross-Entropy 등이 있습니다."
      ]
    },
    {
      "cell_type": "markdown",
      "metadata": {
        "id": "hGNsYW44E3LA"
      },
      "source": [
        "신경망 학습에는 다른 머신러닝 알고리즘들 보다 **훨씬 많은** 훈련 데이터가 필요합니다.<br/>\n",
        "그에 따라 훈련 시간도 오래 걸리고 최적화를 위해서 더 많은 **하이퍼파라미터를 튜닝**해 주어야 합니다.<br/>\n",
        "이렇게 복잡한 신경망을 훈련하기 위해서는 특별한 방법이 필요합니다, 바로 **역전파(Backpropagation) 알고리즘** 입니다.\n",
        "\n",
        "그럼 이제 신경망을 훈련시키는 역전파 알고리즘을 제대로 배워보도록 하겠습니다.\n"
      ]
    },
    {
      "cell_type": "markdown",
      "metadata": {
        "id": "RPO0YR1yO0N8"
      },
      "source": [
        "## 역전파(Backpropagation, BP)"
      ]
    },
    {
      "cell_type": "markdown",
      "metadata": {
        "id": "nO7mnyI_O4La"
      },
      "source": [
        "**<font color=\"ff6f61\">역전파(Backpropagation)</font>**는 [\"Backwards Propagation of Errors\"](https://en.wikipedia.org/wiki/Backpropagation)의 줄임말 입니다.<br/>\n",
        "말 그대로 순전파와는 **반대 방향으로 손실(Loss or Error) 정보를 전달**해주는 역할을 합니다.\n",
        "\n",
        "순전파가 **입력 신호 정보를 입력층부터 출력층까지 전달하여 값을 출력**하는 알고리즘이었다면,<br/>\n",
        "역전파는 구해진 **손실 정보를 출력층부터 입력층까지 전달하여 각 가중치를 얼마나 업데이트 해야할지를 결정**하는 알고리즘입니다.\n",
        "\n",
        "매 iteration 마다 구해진 **손실(Loss)을 줄이는 방향**으로 가중치를 업데이트합니다.<br/>\n",
        "그렇다면 **손실을 줄이는 방향**이 어떤 방향인지를 알 수 있을까요?\n",
        "이 방향을 결정하는 것이 바로 **<font color=\"ff6f61\">경사 하강법(Gradient Descent, GD)</font>**입니다.\n",
        "\n",
        "경사 하강법과 역전파를 이해하기 위해서는 **미분법**에 대한 이해가 필요합니다.<br/>\n",
        "수식에 대한 설명은 Warm Up 영상을 참고하여 익숙해져 보도록 합시다."
      ]
    },
    {
      "cell_type": "markdown",
      "metadata": {
        "id": "iVChCZotO47O"
      },
      "source": [
        "지난 강의에서는 신경망의 순전파(Feed-Forward Propagation)에 대해서 배웠습니다.<br/>\n",
        "그리고 경사 하강법과 역전파에 대해서도 코드로 잠시 다루어보았는데요.<br/>\n",
        "이번 시간에는 경사 하강법과 역전파 부분을 자세히 알아보도록 하겠습니다.\n",
        "\n"
      ]
    },
    {
      "cell_type": "markdown",
      "metadata": {
        "id": "ecLK2exeO85-"
      },
      "source": [
        "<img src=\"https://i.imgur.com/Y5XVbrp.png\" title=\"https://becominghuman.ai/understanding-the-structure-of-neural-networks-1fa5bd17fef0\" width=\"600\" />"
      ]
    },
    {
      "cell_type": "markdown",
      "metadata": {
        "id": "00yjbAa230aE"
      },
      "source": [
        "### 예제를 통해서 이해해보기\n"
      ]
    },
    {
      "cell_type": "markdown",
      "metadata": {
        "id": "M6VaoSzKO-z7"
      },
      "source": [
        "**`공부시간`** 과 **`수면시간`** 을 특성(Feature)으로 하고 시험 점수를 레이블로 하는 회귀 예제를 풀어봅시다.<br/>\n",
        "데이터에서 특성과 레이블은 아래와 같은 선형 관계를 이루고 있다고 가정하겠습니다.<br/>\n",
        "아래 식에서 $x_1$ 은 **`공부시간`**을 나타내고 $x_2$ 는 **`수면시간`**을 나타낸다고 해보겠습니다.\n",
        "\n",
        "$y = 5x_1 + 2x_2 + 40$\n",
        "\n",
        "그리고 신경망이 위 관계를 알아서 잘 찾아낼 수 있는지를 알아보겠습니다."
      ]
    },
    {
      "cell_type": "markdown",
      "metadata": {
        "id": "tQ26yTfL3yRw"
      },
      "source": [
        "1. **필요한 패키지를 `import` 하고 랜덤 시드(random seed)를 고정합니다.**"
      ]
    },
    {
      "cell_type": "code",
      "metadata": {
        "id": "TuW58m1LO4e-"
      },
      "source": [
        "# 해당 코드는 선형함수를 예측하는 예제입니다. \n",
        "import numpy as np\n",
        "\n",
        "np.random.seed(812)"
      ],
      "execution_count": null,
      "outputs": []
    },
    {
      "cell_type": "markdown",
      "metadata": {
        "id": "EpIaJT6_4Kqx"
      },
      "source": [
        "2. **임의의 특성 데이터로부터 관계를 만족하는 레이블을 도출한 뒤에 데이터셋을 만듭니다.**"
      ]
    },
    {
      "cell_type": "code",
      "metadata": {
        "id": "cd81KjHQ4LH4"
      },
      "source": [
        "# [공부시간, 수면시간]\n",
        "X = np.array(([8,8],\n",
        "              [2,5],\n",
        "              [7,6]), dtype=float)\n",
        "\n",
        "# 선형 관계를 바탕으로 시험 점수 레이블을 생성합니다.\n",
        "y = X[:,0]*5 + X[:,1]*2\n",
        "y = y.reshape(3,1)"
      ],
      "execution_count": null,
      "outputs": []
    },
    {
      "cell_type": "markdown",
      "metadata": {
        "id": "xjNcGpJTE3yS"
      },
      "source": [
        "3. **특성을 정규화(Normalization) 합니다.**\n",
        "\n",
        "각 특성 및 레이블의 최댓값으로 나누어 주어 0~1 사이의 값으로 만들어줍니다."
      ]
    },
    {
      "cell_type": "code",
      "metadata": {
        "colab": {
          "base_uri": "https://localhost:8080/"
        },
        "id": "JntJxcVZE5JP",
        "outputId": "7c37aec9-fb11-4b7e-f77a-b240a8769147"
      },
      "source": [
        "X = X / np.amax(X, axis=0)\n",
        "y = y / np.amax(y, axis=0)\n",
        "\n",
        "print(\"공부시간, 수면시간 \\n\", X)\n",
        "print(\"시험점수 \\n\", y)"
      ],
      "execution_count": null,
      "outputs": [
        {
          "output_type": "stream",
          "name": "stdout",
          "text": [
            "공부시간, 수면시간 \n",
            " [[1.    1.   ]\n",
            " [0.25  0.625]\n",
            " [0.875 0.75 ]]\n",
            "시험점수 \n",
            " [[1.        ]\n",
            " [0.35714286]\n",
            " [0.83928571]]\n"
          ]
        }
      ]
    },
    {
      "cell_type": "markdown",
      "metadata": {
        "id": "-LdNeb6nPCGP"
      },
      "source": [
        "4. **신경망을 구축합니다.**\n",
        "\n",
        "> ❗️ ***클래스 개념이 익숙하지 않을 수 있습니다.<br/>\n",
        "클래스 자체의 의미보다는 주석을 따라 코드를 한줄 한줄 따라가 보도록 합시다.***\n",
        "\n",
        "`NeuralNetwork` 클래스 내 `__init__` 메소드(함수)에서 신경망을 구축합니다."
      ]
    },
    {
      "cell_type": "code",
      "metadata": {
        "id": "UmDZfDC1LrHh"
      },
      "source": [
        "class NeuralNetwork:\n",
        "    \"\"\"\n",
        "    신경망(Neural network)를 정의하는 클래스(Class) 선언\n",
        "    \"\"\"\n",
        "    def __init__(self):\n",
        "        \"\"\"\n",
        "        신경망의 구조를 결정합니다.\n",
        "\n",
        "        inputs : 입력층 노드 수\n",
        "        hiddenNodes : 은닉층 노드 수\n",
        "        outputNodes : 출력층 노드 수\n",
        "        w1, w2 : 은닉층(layer 1), 출력층(layer 2)의 가중치\n",
        "        \"\"\"\n",
        "        \n",
        "        self.inputs = 2\n",
        "        self.hiddenNodes = 3\n",
        "        self.outputNodes = 1\n",
        "        \n",
        "        # 가중치를 초기화 합니다.\n",
        "        # layer 1 가중치 shape : 2x3\n",
        "        self.w1 = np.random.randn(self.inputs,self.hiddenNodes)\n",
        "        \n",
        "        # layer 2 가중치 shape : 3x1\n",
        "        self.w2 = np.random.randn(self.hiddenNodes, self.outputNodes)"
      ],
      "execution_count": null,
      "outputs": []
    },
    {
      "cell_type": "markdown",
      "metadata": {
        "id": "g48qC1Xy7Q-R"
      },
      "source": [
        "> ❓ ***왜 입력 노드의 수는 2로 해주었을까요?***<br/>\n",
        "❓ ***왜 출력 노드의 수는 1로 해주었을까요?***<br/>\n",
        "❓ ***왜 `layer 1, layer 2`의 가중치 행렬 shape 은 각각 2X3, 3X1 로 설정하였을까요?***\n",
        "\n",
        "> ❗️ ***신경망에서 <font color=\"ff6f61\">가중치 행렬의 `shape`은 굉장히 중요하면서도 헷갈리는 부분</font>입니다.<br/>\n",
        "단번에 완벽히 이해할 수는 없겠지만 반복하여 보면서 익숙해져 봅시다!***\n",
        "\n",
        "실제로 가중치가 어떻게 생성되었는지 출력해봅시다."
      ]
    },
    {
      "cell_type": "code",
      "metadata": {
        "id": "4vg259zrPGY6",
        "colab": {
          "base_uri": "https://localhost:8080/"
        },
        "outputId": "d437bad3-8128-4351-8ed3-94f97d6e7d16"
      },
      "source": [
        "# 정의된 클래스를 사용해보고, 해당 가중치를 디스플레이 하는 코드입니다. \n",
        "nn = NeuralNetwork()\n",
        "\n",
        "print(\"Layer 1 가중치: \\n\", nn.w1)\n",
        "print(\"Layer 2 가중치: \\n\", nn.w2)"
      ],
      "execution_count": null,
      "outputs": [
        {
          "output_type": "stream",
          "name": "stdout",
          "text": [
            "Layer 1 가중치: \n",
            " [[ 2.48783189  0.11697987 -1.97118428]\n",
            " [-0.48325593 -1.50361209  0.57515126]]\n",
            "Layer 2 가중치: \n",
            " [[-0.20672583]\n",
            " [ 0.41271104]\n",
            " [-0.57757999]]\n"
          ]
        }
      ]
    },
    {
      "cell_type": "markdown",
      "metadata": {
        "id": "nvxnl3IaAQAQ"
      },
      "source": [
        "- **Review : 행렬의 곱셈 연산**\n",
        "\n",
        "$A_{l \\times m}, B_{m \\times n}$ 두 행렬을 곱할 때 $\\Rightarrow (AB)_{l \\times n}$<br/>\n",
        "결과값으로 나오는 행렬의 shape은 $\\big($<font color='red'>$l$</font> $\\times$ <font color='blue'>$m$</font>$\\big)$ $\\cdot$ $\\big($ <font color='blue'>$m$</font> $\\times$ <font color='green'>$n$</font> $\\big)$ = <font color='red'>$l$</font> $\\times$ <font color='green'>$n$</font> 행렬의 형태로 연산이 됩니다.\n",
        "\n",
        "아래 그림을 참조하여 행렬의 곱셈 연산에 대한 내용을 다시 떠올려봅시다."
      ]
    },
    {
      "cell_type": "markdown",
      "metadata": {
        "id": "xyCt_jelPKB9"
      },
      "source": [
        "<img src=\"https://upload.wikimedia.org/wikipedia/commons/1/18/Matrix_multiplication_qtl1.svg\" width=\"450\" />"
      ]
    },
    {
      "cell_type": "markdown",
      "metadata": {
        "id": "BIZ-3Q2qDaUO"
      },
      "source": [
        "5. **순전파 기능을 추가로 구현합니다.**\n",
        "\n",
        "**기존 `NeuralNetwork` 클래스에 순전파 기능을 추가**하여 봅시다.<br/>\n",
        "순전파에 필요한 활성화 함수(sigmoid)를 구현한 뒤에 가중합(weighted sum)부분과 활성화 함수가 적용되는 부분을 구현합니다."
      ]
    },
    {
      "cell_type": "code",
      "metadata": {
        "id": "TtoouVz8PKmM"
      },
      "source": [
        "class NeuralNetwork:\n",
        "    \n",
        "    def __init__(self):\n",
        "        \"\"\"\n",
        "        신경망의 구조를 결정합니다.\n",
        "\n",
        "        inputs : 입력층 노드 수\n",
        "        hiddenNodes : 은닉층 노드 수\n",
        "        outputNodes : 출력층 노드 수\n",
        "        w1, w2 : layer 1, layer 2의 가중치\n",
        "        \"\"\"\n",
        "        self.inputs = 2\n",
        "        self.hiddenNodes = 3\n",
        "        self.outputNodes = 1\n",
        "        \n",
        "        # 가중치를 초기화 합니다.\n",
        "        # layer 1 가중치 shape : 2x3\n",
        "        self.w1 = np.random.randn(self.inputs,self.hiddenNodes)\n",
        "        \n",
        "        # layer 2 가중치 shape : 3x1\n",
        "        self.w2 = np.random.randn(self.hiddenNodes, self.outputNodes)\n",
        "        \n",
        "    def sigmoid(self, s):\n",
        "        \"\"\"\n",
        "        활성화 함수인 시그모이드 함수를 정의합니다.\n",
        "        s : 활성화 함수에 입력되는 값(=가중합)\n",
        "        \"\"\"\n",
        "        return 1 / (1+np.exp(-s))\n",
        "    \n",
        "    def feed_forward(self, X):\n",
        "        \"\"\"\n",
        "        순전파를 구현합니다.\n",
        "        입력 신호를 받아 출력층의 결과를 반환합니다.\n",
        "        \n",
        "        hidden_sum : 은닉층(layer 1)에서의 가중합(weighted sum)\n",
        "        activated_hidden : 은닉층(layer 1) 활성화 함수의 함숫값\n",
        "        output_sum : 출력층(layer 2)에서의 가중합(weighted sum)\n",
        "        activated_output : 출력층(layer 2) 활성화 함수의 함숫값\n",
        "        \"\"\"\n",
        "        \n",
        "        self.hidden_sum = np.dot(X, self.w1)\n",
        "        self.activated_hidden = self.sigmoid(self.hidden_sum)\n",
        "\n",
        "        self.output_sum = np.dot(self.activated_hidden, self.w2)\n",
        "        self.activated_output = self.sigmoid(self.output_sum)\n",
        "        \n",
        "        return self.activated_output"
      ],
      "execution_count": null,
      "outputs": []
    },
    {
      "cell_type": "markdown",
      "metadata": {
        "id": "CtV91UhbI37E"
      },
      "source": [
        "6. **순전파를 거쳐 출력되는 값을 알아봅시다.**\n",
        "\n",
        "입력한 데이터가 신경망 순전파를 거쳐 어떤 출력값을 내는 지 확인해봅니다."
      ]
    },
    {
      "cell_type": "code",
      "metadata": {
        "id": "ZAQenxirPS8A"
      },
      "source": [
        "# 선언한 클래스를 불러와서 할당합니다.\n",
        "nn = NeuralNetwork()"
      ],
      "execution_count": null,
      "outputs": []
    },
    {
      "cell_type": "code",
      "metadata": {
        "colab": {
          "base_uri": "https://localhost:8080/"
        },
        "id": "mW2YtQCqJUao",
        "outputId": "66cc63ee-e988-413b-8d08-cdcb1a1d7174"
      },
      "source": [
        "# 첫 번째 데이터를 출력합니다.\n",
        "print(X[0])"
      ],
      "execution_count": null,
      "outputs": [
        {
          "output_type": "stream",
          "name": "stdout",
          "text": [
            "[1. 1.]\n"
          ]
        }
      ]
    },
    {
      "cell_type": "code",
      "metadata": {
        "colab": {
          "base_uri": "https://localhost:8080/"
        },
        "id": "nXZjYC74JXRR",
        "outputId": "a4db6bc2-5cc7-4f65-c8b3-8c9546e35a10"
      },
      "source": [
        "# 첫 번째 데이터를 입력한 뒤 신경망이 출력하는 값을 살펴보겠습니다.\n",
        "output = nn.feed_forward(X[0])\n",
        "print(\"예측값: \", output)"
      ],
      "execution_count": null,
      "outputs": [
        {
          "output_type": "stream",
          "name": "stdout",
          "text": [
            "예측값:  [0.21945787]\n"
          ]
        }
      ]
    },
    {
      "cell_type": "markdown",
      "metadata": {
        "id": "6gTPu7dEPUYf"
      },
      "source": [
        "7. **손실(Error,Loss)과 비용(Cost) 계산**\n",
        "\n",
        "1개의 데이터에 대해 실제 타겟 레이블과 출력값을 비교하여 손실(`error`)을 구해봅니다."
      ]
    },
    {
      "cell_type": "code",
      "metadata": {
        "id": "yAawfPI5PV-p",
        "colab": {
          "base_uri": "https://localhost:8080/"
        },
        "outputId": "6290b888-bf2a-4a1b-a715-6dc15d08d98c"
      },
      "source": [
        "# 실제 타겟 레이블과 출력값을 비교하여 손실(error)을 구합니다.\n",
        "error = y[0] - output\n",
        "error"
      ],
      "execution_count": null,
      "outputs": [
        {
          "output_type": "execute_result",
          "data": {
            "text/plain": [
              "array([0.78054213])"
            ]
          },
          "metadata": {},
          "execution_count": 11
        }
      ]
    },
    {
      "cell_type": "markdown",
      "metadata": {
        "id": "CcRHiMlMMoch"
      },
      "source": [
        "이 과정을 모든 데이터에 적용하여 비용(Cost)를 구해봅시다."
      ]
    },
    {
      "cell_type": "code",
      "metadata": {
        "colab": {
          "base_uri": "https://localhost:8080/"
        },
        "id": "rY7akPN6MvPy",
        "outputId": "b4434595-8637-4945-bb9e-949c82512c9e"
      },
      "source": [
        "# 모든 데이터를 예측해보고 에러값을 계산해 보겠습니다.\n",
        "print(X)"
      ],
      "execution_count": null,
      "outputs": [
        {
          "output_type": "stream",
          "name": "stdout",
          "text": [
            "[[1.    1.   ]\n",
            " [0.25  0.625]\n",
            " [0.875 0.75 ]]\n"
          ]
        }
      ]
    },
    {
      "cell_type": "code",
      "metadata": {
        "colab": {
          "base_uri": "https://localhost:8080/"
        },
        "id": "StYYK5D8M12y",
        "outputId": "19c6c63e-72ce-471a-c1d1-c579f9728b6c"
      },
      "source": [
        "output_all = nn.feed_forward(X)\n",
        "print(output_all)"
      ],
      "execution_count": null,
      "outputs": [
        {
          "output_type": "stream",
          "name": "stdout",
          "text": [
            "[[0.21945787]\n",
            " [0.34573206]\n",
            " [0.23788921]]\n"
          ]
        }
      ]
    },
    {
      "cell_type": "code",
      "metadata": {
        "colab": {
          "base_uri": "https://localhost:8080/"
        },
        "id": "Bv3vM_ckM9yS",
        "outputId": "1504e486-98e4-4cf2-b76c-7b5d9bdcd544"
      },
      "source": [
        "error_all = y - output_all\n",
        "print(error_all)"
      ],
      "execution_count": null,
      "outputs": [
        {
          "output_type": "stream",
          "name": "stdout",
          "text": [
            "[[0.78054213]\n",
            " [0.0114108 ]\n",
            " [0.6013965 ]]\n"
          ]
        }
      ]
    },
    {
      "cell_type": "markdown",
      "metadata": {
        "id": "f7bWbvMrND2o"
      },
      "source": [
        "#### 결과값 분석"
      ]
    },
    {
      "cell_type": "markdown",
      "metadata": {
        "id": "1tZ54d0QNMkj"
      },
      "source": [
        "1. 각각의 **에러가 작어야 하는데 너무 크게 나왔습니다.** 에러가 크게 나오는 이유는 무엇일까요?\n",
        "    - 에러가 높게 나오는 이유는 예측값이 **정확하지 않기(여기서는 너무 작게 나오기) 때문**입니다."
      ]
    },
    {
      "cell_type": "markdown",
      "metadata": {
        "id": "uoD92VIMPBsU"
      },
      "source": [
        "2. 그렇다면 **예측값이 작게 나오는 이유**는 무엇일까요?\n",
        "    - 임의로 지정하였던 두 번째 층의 가중치 값(`w2`)이 작거나\n",
        "    - 첫 번째 층의 출력값(`activated_hidden`)이 작기 때문입니다."
      ]
    },
    {
      "cell_type": "markdown",
      "metadata": {
        "id": "1khxbqguPrsa"
      },
      "source": [
        "3. **첫 번째 층의 출력값(`activated_hidden`)이 작은 이유**는 무엇일까요?\n",
        "- 입력 데이터(`X`)는 변하지 않는 값이므로 첫 번째 층의 가중치 값(`w1`)이 작기 때문입니다."
      ]
    },
    {
      "cell_type": "markdown",
      "metadata": {
        "id": "8ZJf6lWFQZUj"
      },
      "source": [
        "**1, 2, 3**을 고려했을 때 예측값을 증가시키기 위한 방법은 **첫 번째 층과 두 번째 층의 가중치(`w1, w2`)를 증가시키는 것**뿐입니다.\n",
        "\n",
        "이렇게 각 층마다 가중치가 있을텐데 에러를 최소화하기 위해서 어떤 가중치를 얼마나 올려주어야 할까요?<br/>\n",
        "일단 각 층의 가중치를 출력해보겠습니다."
      ]
    },
    {
      "cell_type": "code",
      "metadata": {
        "id": "dAJQ90D7Pb-6",
        "colab": {
          "base_uri": "https://localhost:8080/"
        },
        "outputId": "026a624c-ee78-4455-f6d6-2d1be825012b"
      },
      "source": [
        "# 각각의 변수(가중치)를 디스플레이 하기 위한 코드입니다.\n",
        "attributes = ['w1', 'hidden_sum', 'activated_hidden', 'w2', 'activated_output']\n",
        "\n",
        "for i in attributes:\n",
        "    if i[:2] != '__':\n",
        "        print(i+'\\n', getattr(nn,i), '\\n'+'---'*3)"
      ],
      "execution_count": null,
      "outputs": [
        {
          "output_type": "stream",
          "name": "stdout",
          "text": [
            "w1\n",
            " [[-1.75351135  1.23279898  0.24464757]\n",
            " [-0.06568225  0.30190098  0.79723428]] \n",
            "---------\n",
            "hidden_sum\n",
            " [[-1.8191936   1.53469996  1.04188185]\n",
            " [-0.47942924  0.49688786  0.55943332]\n",
            " [-1.58358412  1.30512484  0.81199233]] \n",
            "---------\n",
            "activated_hidden\n",
            " [[0.13953066 0.82269293 0.73921295]\n",
            " [0.38238691 0.62172769 0.63632141]\n",
            " [0.17028848 0.78669622 0.6925339 ]] \n",
            "---------\n",
            "w2\n",
            " [[ 1.23073545]\n",
            " [-1.52187331]\n",
            " [-0.25502715]] \n",
            "---------\n",
            "activated_output\n",
            " [[0.21945787]\n",
            " [0.34573206]\n",
            " [0.23788921]] \n",
            "---------\n"
          ]
        }
      ]
    },
    {
      "cell_type": "markdown",
      "metadata": {
        "id": "E3MHHUG4RHQh"
      },
      "source": [
        "#### 손실(Error)을 줄이기 위해서는 어떻게 해야 할까요?"
      ]
    },
    {
      "cell_type": "markdown",
      "metadata": {
        "id": "rzI9r1nNPcbZ"
      },
      "source": [
        "아래 그림을 보면 알 수 있듯, **비용 함수 $J$ 의 경사(Gradient)가 작아지는 방향으로 업데이트** 하면 손실 함수의 값을 줄일 수 있습니다.<br/>\n",
        "매 Iteration 마다 **<font color=\"ff6f61\">해당 가중치에서의 비용 함수의 도함수(=비용 함수를 미분한 함수)를 계산</font>하여** 경사가 작아질 수 있도록 가중치를 변경합니다."
      ]
    },
    {
      "cell_type": "markdown",
      "metadata": {
        "id": "LaobXDMGPi5b"
      },
      "source": [
        "<img src=\"https://i.imgur.com/ehYYRtw.png\" alt=\"Gradient Descent in 1D\" width=\"700\"/>"
      ]
    },
    {
      "cell_type": "markdown",
      "metadata": {
        "id": "8Uf9AGwaPioi"
      },
      "source": [
        "위에서 설계한 신경망은 총 9개의 가중치를 가지고 있습니다. 첫 번째 층에는 6개(`w1`), 두 번째 층에는 3개(`w2`)가 있죠.<br/>\n",
        "그렇기 때문에 해당 신경망의 비용 함수는 9차원 공간상의 함수$(J)$가 되겠습니다.<br/>\n",
        "비용 함수의 경사가 줄어드는 방향으로 가중치를 갱신해나가면 되겠죠?\n",
        "\n",
        "비용 함수 $J$를 수식으로 나타내 보겠습니다.\n",
        "\n",
        "$$\n",
        "J(\\theta) = J(\\theta_1, \\theta_2, \\theta_3, \\theta_4, \\theta_5, \\theta_6, \\theta_7, \\theta_8, \\theta_9)\n",
        "$$\n",
        "\n",
        "아래는 비용 함수를 가중치 2개에 대해서만 단순화시켜 나타낸 그림입니다."
      ]
    },
    {
      "cell_type": "markdown",
      "metadata": {
        "id": "YpHICzw8Pilo"
      },
      "source": [
        "<img src=\"https://i.imgur.com/yZA6RUJ.png\" alt=\"Gradient descent algorithm direction Equation 1. (Image courtesy of Andrew Ng)\" width=\"600\"/>"
      ]
    },
    {
      "cell_type": "markdown",
      "metadata": {
        "id": "c_PSaZJ9PqNt"
      },
      "source": [
        "- **볼록/오목 함수(Convex/Concave function)와 지역 최적점(Local Optima)**\n",
        "\n",
        "경사 하강법을 통해 최저점을 찾는 메커니즘은 볼록(Convex) 함수에서만 잘 동작합니다.<br/>\n",
        "하지만 실제 손실 함수는 위 그림처럼 볼록 함수와 오목 함수가 부분부분 섞여있는 형태인데요.<br/>\n",
        "그렇기 때문에 전역 최적점(Global Optima)를 찾지 못하고 **지역 최적점(Local Optima)에 빠질 수 있습니다.**\n",
        "\n",
        "지역 최적점에 빠지게 되는 문제를 방지하기 위한 여러가지 방법이 있는데요.<br/>\n",
        "이런 알고리즘에 대해서는 잠시 후에 알아보도록 하겠습니다."
      ]
    },
    {
      "cell_type": "markdown",
      "metadata": {
        "id": "VSkwMFVqBLgZ"
      },
      "source": [
        "> ❗️ ***볼록 함수(Convex function)와 오목 함수(Concave function)의 수학적인 의미보다는 각 함수가 대략 어떤 형태인지 알아봅시다.<br/>\n",
        "각 함수의 형태로부터 볼록 함수에서는 왜 경사 하강법이 잘 되고, 오목 함수에서는 안 될지 상상해봅시다.***\n",
        "\n",
        "> 🔍 ***참조 링크 : [Convex(볼록) & Concave(오목) 알아보기](https://blog.naver.com/sw4r/221148661854) <br/>\n",
        "추천 검색어 : Convex Optimization, Gradient Descent***\n",
        "\n",
        "> ❗️ ***그리고 지역 최적점이란 무엇인지, 왜 지역 최적점에 빠지면 안좋은지를 알아봅시다.***\n",
        "\n",
        "> 🔍 ***추천 검색어 : Gradient Descent Local Optima***\n"
      ]
    },
    {
      "cell_type": "markdown",
      "metadata": {
        "id": "_CduJwgvPhr-"
      },
      "source": [
        "### 가중치 업데이트 : 역전파 "
      ]
    },
    {
      "cell_type": "markdown",
      "metadata": {
        "id": "fcP_MVZ7kaWy"
      },
      "source": [
        "6. **<font color=\"ff6f61\">역전파 기능을 구현</font>해봅시다.**\n",
        "\n",
        "> ❗️ ***역전파(***`backward`***) 함수 내 과정이 이해가 되지 않을 수 있습니다.<br/>\n",
        "아래에서 다시 설명이 될 예정이므로 당장 이해가 되지 않더라도 좋습니다.***\n",
        "\n",
        "> ❗️ ***아래 그림은 역전파 시 각 변수(`o_error`,`o_delta`,`z2_error`,`z2_delta`)의 이해를 돕기 위한 것으로 노드 수는 신경쓰지 않으셔도 됩니다.***"
      ]
    },
    {
      "cell_type": "markdown",
      "metadata": {
        "id": "kdvgnpemTgp9"
      },
      "source": [
        "<img src=\"https://i.imgur.com/brCdkz1.png\" width=\"400\">"
      ]
    },
    {
      "cell_type": "code",
      "metadata": {
        "id": "2GuCg1YaPjpu"
      },
      "source": [
        "# 음수 가중치를 가지는 활성화는 낮추고, 양수 가중치를 가지는 활성화는 높이고 싶습니다.\n",
        "class NeuralNetwork:\n",
        "    \n",
        "    def __init__(self):\n",
        "        \"\"\"\n",
        "        신경망의 구조를 결정합니다.\n",
        "\n",
        "        inputs : 입력층 노드 수\n",
        "        hiddenNodes : 은닉층 노드 수\n",
        "        outputNodes : 출력층 노드 수\n",
        "        w1, w2 : layer 1, layer 2의 가중치\n",
        "        \"\"\"\n",
        "        self.inputs = 2\n",
        "        self.hiddenNodes = 3\n",
        "        self.outputNodes = 1\n",
        "        \n",
        "        # 가중치를 초기화 합니다.\n",
        "        # layer 1 가중치 shape : 2x3\n",
        "        self.w1 = np.random.randn(self.inputs,self.hiddenNodes)\n",
        "        \n",
        "        # layer 2 가중치 shape : 3x1\n",
        "        self.w2 = np.random.randn(self.hiddenNodes, self.outputNodes)\n",
        "        \n",
        "    def sigmoid(self, s):\n",
        "        \"\"\"\n",
        "        활성화 함수인 시그모이드 함수를 정의합니다.\n",
        "        s : 순전파 과정에서 활성화 함수에 입력되는 값(=가중합)\n",
        "        \"\"\"\n",
        "        return 1 / (1+np.exp(-s))\n",
        "\n",
        "    def sigmoidPrime(self, s):\n",
        "        \"\"\"\n",
        "        활성화 함수(sigmoid)를 미분한 함수입니다.\n",
        "        s : 순전파 과정에서 활성화 함수에 입력되는 값(=가중합)\n",
        "        \"\"\"\n",
        "        sx = self.sigmoid(s)\n",
        "        return sx * (1-sx)\n",
        "    \n",
        "    def feed_forward(self, X):\n",
        "        \"\"\"\n",
        "        순전파를 구현합니다.\n",
        "        입력 신호를 받아 출력층의 결과를 반환합니다.\n",
        "        \n",
        "        hidden_sum : 은닉층(layer 1)에서의 가중합(weighted sum)\n",
        "        activated_hidden : 은닉층(layer 1) 활성화 함수의 함숫값\n",
        "        output_sum : 출력층(layer 2)에서의 가중합(weighted sum)\n",
        "        activated_output : 출력층(layer 2) 활성화 함수의 함숫값\n",
        "        \"\"\"\n",
        "        \n",
        "        self.hidden_sum = np.dot(X, self.w1)\n",
        "        self.activated_hidden = self.sigmoid(self.hidden_sum)\n",
        "\n",
        "        self.output_sum = np.dot(self.activated_hidden, self.w2)\n",
        "        self.activated_output = self.sigmoid(self.output_sum)\n",
        "        \n",
        "        return self.activated_output\n",
        "    \n",
        "    def backward(self, X, y, o):\n",
        "        \"\"\"\n",
        "        역전파를 구현합니다.\n",
        "        출력층에서 손실 값(Error)를 구한 뒤에 이를 각 가중치에 대해 미분한 값만큼 가중치를 수정합니다.\n",
        "\n",
        "        X : 입력 데이터(input)\n",
        "        y : 타겟값(target value)\n",
        "        o : 출력값(output)\n",
        "\n",
        "        o_error : 손실(Error) = 타겟값과 출력값의 차이\n",
        "        o_delta : 출력층 활성화 함수의 미분값\n",
        "        \"\"\"\n",
        "        \n",
        "        # o_error : 손실(Error)을 구합니다.\n",
        "        self.o_error = y - o \n",
        "        \n",
        "        # o_delta : 활성화 함수(시그모이드)의 도함수를 사용하여 출력층 활성화 함수 이전의 미분값을 구합니다.\n",
        "        self.o_delta = self.o_error * self.sigmoidPrime(o)\n",
        "        \n",
        "        # z2 error : 은닉층에서의 손실을 구합니다.\n",
        "        self.z2_error = self.o_delta.dot(self.w2.T)\n",
        "        \n",
        "        # z2 delta : 활성화 함수(시그모이드)의 도함수를 사용하여 은닉층 활성화 함수 이전의 미분값을 구합니다.\n",
        "        self.z2_delta = self.z2_error*self.sigmoidPrime(self.output_sum)\n",
        "\n",
        "        # w1, w2를 업데이트 합니다.\n",
        "        self.w1 += X.T.dot(self.z2_delta) # X * dE/dY * dY/dy(=Y(1-Y))\n",
        "        self.w2 += self.activated_hidden.T.dot(self.o_delta) # H1 * Y(1-Y) * (Y - o)\n",
        "        \n",
        "    def train(self, X, y):\n",
        "        \"\"\"\n",
        "        실제로 신경망 학습을 진행하는 코드입니다.\n",
        "        1번의 순전파-역전파, 즉 1 iteration 을 수행하는 함수입니다.\n",
        "        \n",
        "        X : 입력 데이터(input)\n",
        "        y : 타겟값(target value)\n",
        "        \"\"\"\n",
        "        o = self.feed_forward(X)\n",
        "        self.backward(X,y,o)"
      ],
      "execution_count": null,
      "outputs": []
    },
    {
      "cell_type": "markdown",
      "metadata": {
        "id": "zTx0-U7ynZmw"
      },
      "source": [
        "> ❗️ ***당장 아래 수식을 이해하지 못해도 좋습니다. 아래에서 수학을 통해 알아볼 것입니다.<br/>\n",
        "다만 나중에는 수식만 보고도 이해할 수 있어야겠죠?***\n",
        "\n",
        "- 수식을 통해 위 코드를 알아보겠습니다.\n",
        "\n",
        "    손실(Error) : $E$<br/>\n",
        "출력층 활성화 함수의 출력값(`activated_output`) : $A_O$<br/>\n",
        "출력층 활성화 함수의 입력값(=가중합, `output_sum`) : $S_O$<br/>\n",
        "은닉층 활성화 함수의 출력값(`activated_hidden`) : $A_H$<br/>\n",
        "은닉층 활성화 함수의 입력값(=가중합, `hidden_sum`) : $S_H$"
      ]
    },
    {
      "cell_type": "markdown",
      "metadata": {
        "id": "gfh-8J7XqVi1"
      },
      "source": [
        "- **$w_2$(=출력층과 은닉층 사이의 가중치) 에 대한 미분**\n",
        "\n",
        "$$\n",
        "\\begin{aligned}\n",
        "\\frac{\\partial E}{\\partial w_2} &= \\frac{\\partial E}{\\partial A_O} \\cdot \\frac{\\partial A_O}{\\partial w_2}\\\\\n",
        "\\frac{\\partial E}{\\partial w_2} &= \\frac{\\partial E}{\\partial A_O} \\cdot \n",
        "\\frac{\\partial A_O}{\\partial S_O} \\cdot \\frac{\\partial S_O}{\\partial w_2}\n",
        "= \\frac{\\partial E}{\\partial A_O} \\cdot \n",
        "\\frac{\\partial A_O}{\\partial S_O} \\cdot A_H \\quad \\bigg( \\because A_H = \\frac{\\partial S_O}{\\partial w_2}\\bigg)\n",
        "\\end{aligned}\n",
        "$$\n",
        "\n",
        "\n",
        "- **$w_1$(=은닉층과 입력층 사이의 가중치) 에 대한 미분**\n",
        "\n",
        "$$\n",
        "\\begin{aligned}\n",
        "\\frac{\\partial E}{\\partial w_1} &= \\frac{\\partial E}{\\partial A_H} \\cdot \\frac{\\partial A_H}{\\partial w_1}\\\\\n",
        "\\frac{\\partial E}{\\partial w_2} &= \\frac{\\partial E}{\\partial A_H} \\cdot \n",
        "\\frac{\\partial A_H}{\\partial S_H} \\cdot \\frac{\\partial S_H}{\\partial w_1}\n",
        "= \\frac{\\partial E}{\\partial A_H} \\cdot \n",
        "\\frac{\\partial A_H}{\\partial S_H} \\cdot X \\quad \\bigg( \\because X = \\frac{\\partial S_H}{\\partial w_1}\\bigg)\n",
        "\\end{aligned}\n",
        "$$\n",
        "\n"
      ]
    },
    {
      "cell_type": "markdown",
      "metadata": {
        "id": "a9r5CAlht1Sb"
      },
      "source": [
        "#### 역전파가 추가된 신경망 클래스 학습"
      ]
    },
    {
      "cell_type": "markdown",
      "metadata": {
        "id": "evfTvj1U2Yqd"
      },
      "source": [
        "- **순전파 후 손실(Error) 계산**"
      ]
    },
    {
      "cell_type": "code",
      "metadata": {
        "id": "oUmwEIh3PqCD"
      },
      "source": [
        "nn = NeuralNetwork()\n",
        "nn.train(X,y)"
      ],
      "execution_count": null,
      "outputs": []
    },
    {
      "cell_type": "code",
      "metadata": {
        "id": "evjw1NK4Pp_b",
        "colab": {
          "base_uri": "https://localhost:8080/"
        },
        "outputId": "01ba2c75-07fc-4b04-895d-b689911814dc"
      },
      "source": [
        "# 순전파 후 손실(Error)을 확인해보겠습니다.\n",
        "nn.o_error"
      ],
      "execution_count": null,
      "outputs": [
        {
          "output_type": "execute_result",
          "data": {
            "text/plain": [
              "array([[0.70644301],\n",
              "       [0.10036169],\n",
              "       [0.56649547]])"
            ]
          },
          "metadata": {},
          "execution_count": 18
        }
      ]
    },
    {
      "cell_type": "markdown",
      "metadata": {
        "id": "lAbq8hWCPtn6"
      },
      "source": [
        "- **출력층의 경사(Gradient) 계산하기**"
      ]
    },
    {
      "cell_type": "markdown",
      "metadata": {
        "id": "gNWqlpnDVNUL"
      },
      "source": [
        "**에러(Error, `o_error`)**와 **출력층 활성화 함수를 미분한 함수(`sigmoidPrime`)**를 통해서 출력층의 경사(`o_delta`)를 구해보겠습니다.\n",
        "\n",
        "`self.o_delta = self.o_error * self.sigmoidPrime(self.output_sum)`"
      ]
    },
    {
      "cell_type": "code",
      "metadata": {
        "id": "vfu_hl8CPvTC",
        "colab": {
          "base_uri": "https://localhost:8080/"
        },
        "outputId": "dafa1e5d-de5b-4c0a-e90f-8f203c9397bf"
      },
      "source": [
        "# 순전파 시 출력층에서의 가중합\n",
        "nn.o_error"
      ],
      "execution_count": null,
      "outputs": [
        {
          "output_type": "execute_result",
          "data": {
            "text/plain": [
              "array([[0.70644301],\n",
              "       [0.10036169],\n",
              "       [0.56649547]])"
            ]
          },
          "metadata": {},
          "execution_count": 24
        }
      ]
    },
    {
      "cell_type": "code",
      "metadata": {
        "id": "cxVc1iycPxmB",
        "colab": {
          "base_uri": "https://localhost:8080/"
        },
        "outputId": "132de16b-5ccb-49f4-fee6-10934f000d2b"
      },
      "source": [
        "# 순전파 시 출력층에서의 가중합을 활성화 함수에 통과시킨 \n",
        "nn.sigmoidPrime(nn.o_error)"
      ],
      "execution_count": null,
      "outputs": [
        {
          "output_type": "execute_result",
          "data": {
            "text/plain": [
              "array([[0.22123085],\n",
              "       [0.24937153],\n",
              "       [0.23096866]])"
            ]
          },
          "metadata": {},
          "execution_count": 25
        }
      ]
    },
    {
      "cell_type": "code",
      "metadata": {
        "id": "zVjfaGwQPx7i",
        "colab": {
          "base_uri": "https://localhost:8080/"
        },
        "outputId": "6a65542b-6523-4592-fb4a-ceaf91fb0c7d"
      },
      "source": [
        "# 출력층 활성화 함수 이전의 미분값을 구합니다.\n",
        "# o_delta = o_error * sigmoidPrime(o)\n",
        "nn.o_delta"
      ],
      "execution_count": null,
      "outputs": [
        {
          "output_type": "execute_result",
          "data": {
            "text/plain": [
              "array([[0.17285985],\n",
              "       [0.02468133],\n",
              "       [0.13902149]])"
            ]
          },
          "metadata": {},
          "execution_count": 26
        }
      ]
    },
    {
      "cell_type": "markdown",
      "metadata": {
        "id": "AQyKhgPmP0cF"
      },
      "source": [
        "- **은닉층이 받는 손실(Error) 계산**"
      ]
    },
    {
      "cell_type": "markdown",
      "metadata": {
        "id": "EljA-ddtVj7A"
      },
      "source": [
        "이전 단계에서 구했던 **출력층의 경사(`o_delta`)**와 **출력층의 가중치(`w2`)**를 통해서 은닉층이 받는 손실(`z2_error`)을 구해보겠습니다.\n",
        "\n",
        "`self.z2_error = self.o_delta.dot(self.w2.T)`"
      ]
    },
    {
      "cell_type": "code",
      "metadata": {
        "id": "GQ3pQbwrP0uP",
        "colab": {
          "base_uri": "https://localhost:8080/"
        },
        "outputId": "29d7a5bb-9ffb-4bbd-8b46-8b8d931fd945"
      },
      "source": [
        "nn.o_delta.dot(nn.w2.T)"
      ],
      "execution_count": null,
      "outputs": [
        {
          "output_type": "execute_result",
          "data": {
            "text/plain": [
              "array([[-0.28194591, -0.23236088,  0.12295841],\n",
              "       [-0.04025689, -0.03317703,  0.01755629],\n",
              "       [-0.22675329, -0.18687483,  0.09888856]])"
            ]
          },
          "metadata": {},
          "execution_count": 27
        }
      ]
    },
    {
      "cell_type": "markdown",
      "metadata": {
        "id": "zaN7hHWmWDRY"
      },
      "source": [
        "> ❗️ ***해당 연산의 결과로 나오는 행렬의 shape이 왜 (3,3)일지에 대해서 생각해보고 토론해봅시다.***"
      ]
    },
    {
      "cell_type": "markdown",
      "metadata": {
        "id": "u-GvmzdCWQgo"
      },
      "source": [
        "- **은닉층의 경사(Gradient) 계산하기**"
      ]
    },
    {
      "cell_type": "markdown",
      "metadata": {
        "id": "em8eSpBqP4Jd"
      },
      "source": [
        "**은닉층 에러(`z2_error`)**와 **은닉층 활성화 함수를 미분한 함수(`sigmoidPrime`)**를 통해서 은닉층의 경사(`z2_delta`)를 구해보겠습니다.\n",
        "\n",
        "`self.z2_delta = self.z2_error * self.sigmoidPrime(self.activated_hidden)`"
      ]
    },
    {
      "cell_type": "code",
      "metadata": {
        "id": "oNp-1OzqP5rT",
        "colab": {
          "base_uri": "https://localhost:8080/"
        },
        "outputId": "60c75bde-8a67-4622-e812-634fa1aa0222"
      },
      "source": [
        "nn.activated_hidden"
      ],
      "execution_count": null,
      "outputs": [
        {
          "output_type": "execute_result",
          "data": {
            "text/plain": [
              "array([[0.43460965, 0.23985861, 0.42340322],\n",
              "       [0.37111212, 0.48687214, 0.52242758],\n",
              "       [0.48093658, 0.2520165 , 0.4192448 ]])"
            ]
          },
          "metadata": {},
          "execution_count": 28
        }
      ]
    },
    {
      "cell_type": "code",
      "metadata": {
        "id": "tfC1no3TP5pE",
        "colab": {
          "base_uri": "https://localhost:8080/"
        },
        "outputId": "636e1755-0ecc-4fb2-8298-c2aedd4e5384"
      },
      "source": [
        "nn.z2_delta"
      ],
      "execution_count": null,
      "outputs": [
        {
          "output_type": "execute_result",
          "data": {
            "text/plain": [
              "array([[-0.06388859, -0.05136035,  0.020324  ],\n",
              "       [-0.00839476, -0.00674859,  0.00267051],\n",
              "       [-0.04915074, -0.03951252,  0.01563565]])"
            ]
          },
          "metadata": {},
          "execution_count": 29
        }
      ]
    },
    {
      "cell_type": "code",
      "metadata": {
        "id": "BAzRNK57P5mM",
        "colab": {
          "base_uri": "https://localhost:8080/"
        },
        "outputId": "0b54e03b-f58e-48d9-a471-10bbaffe696b"
      },
      "source": [
        "X.T.shape == nn.w1.shape"
      ],
      "execution_count": null,
      "outputs": [
        {
          "output_type": "execute_result",
          "data": {
            "text/plain": [
              "True"
            ]
          },
          "metadata": {},
          "execution_count": 30
        }
      ]
    },
    {
      "cell_type": "code",
      "metadata": {
        "colab": {
          "base_uri": "https://localhost:8080/"
        },
        "id": "iPB5af8rZW6d",
        "outputId": "dba642af-38c9-46ac-95a4-4fab8fefd87e"
      },
      "source": [
        "nn.z2_delta"
      ],
      "execution_count": null,
      "outputs": [
        {
          "output_type": "execute_result",
          "data": {
            "text/plain": [
              "array([[-0.06388859, -0.05136035,  0.020324  ],\n",
              "       [-0.00839476, -0.00674859,  0.00267051],\n",
              "       [-0.04915074, -0.03951252,  0.01563565]])"
            ]
          },
          "metadata": {},
          "execution_count": 31
        }
      ]
    },
    {
      "cell_type": "markdown",
      "metadata": {
        "id": "_8cQi2-XZeza"
      },
      "source": [
        "#### 경사 하강법(Gradient Descent)을 적용하여 가중치 업데이트\n"
      ]
    },
    {
      "cell_type": "markdown",
      "metadata": {
        "id": "J_q1Hh-BP_gX"
      },
      "source": [
        "- 은닉층 가중치(`w1`)를 업데이트 합니다.\n",
        "\n",
        "> ❗️ ***토론해봅시다.<br/>\n",
        "1) 왜 입력값(`X`)와 은닉층 기울기 값(`z2_delta`)을 곱해주는 것일까요?<br/>\n",
        "2) `X`는 왜 Transpose 해주어야 할까요?***\n"
      ]
    },
    {
      "cell_type": "code",
      "metadata": {
        "id": "CS66sQMBQAfd",
        "colab": {
          "base_uri": "https://localhost:8080/"
        },
        "outputId": "18b6c0ff-3371-4447-9bce-47038a1b594a"
      },
      "source": [
        "X.T"
      ],
      "execution_count": null,
      "outputs": [
        {
          "output_type": "execute_result",
          "data": {
            "text/plain": [
              "array([[1.   , 0.25 , 0.875],\n",
              "       [1.   , 0.625, 0.75 ]])"
            ]
          },
          "metadata": {},
          "execution_count": 32
        }
      ]
    },
    {
      "cell_type": "code",
      "metadata": {
        "id": "0zyPq4O3QAcY",
        "colab": {
          "base_uri": "https://localhost:8080/"
        },
        "outputId": "42df4cbd-c441-48d5-8adb-c952a8f21852"
      },
      "source": [
        "X.T.dot(nn.z2_delta)"
      ],
      "execution_count": null,
      "outputs": [
        {
          "output_type": "execute_result",
          "data": {
            "text/plain": [
              "array([[-0.10899418, -0.08762095,  0.03467281],\n",
              "       [-0.10599837, -0.0852126 ,  0.0337198 ]])"
            ]
          },
          "metadata": {},
          "execution_count": 33
        }
      ]
    },
    {
      "cell_type": "markdown",
      "metadata": {
        "id": "ZVcrBcMIaa5f"
      },
      "source": [
        "- 출력층 가중치(`w2`)를 업데이트 합니다.\n",
        "\n",
        "> ❗️ ***토론해봅시다.<br/>\n",
        "1) 왜 첫 번째 층의 출력값(`activated_hidden`)과 출력층의 기울기(`o_delta`)를 곱해주는 것일까요?<br/>\n",
        "2) 출력층의 shape은 어떻게 3X1이 될까요?***"
      ]
    },
    {
      "cell_type": "code",
      "metadata": {
        "id": "sjt0nZL_QFGk",
        "colab": {
          "base_uri": "https://localhost:8080/"
        },
        "outputId": "c7b7d9e6-d1c8-4818-adda-fcc874709ed4"
      },
      "source": [
        "nn.activated_hidden.T.dot(nn.o_delta)"
      ],
      "execution_count": null,
      "outputs": [
        {
          "output_type": "execute_result",
          "data": {
            "text/plain": [
              "array([[0.15114662],\n",
              "       [0.08851428],\n",
              "       [0.14436766]])"
            ]
          },
          "metadata": {},
          "execution_count": 34
        }
      ]
    },
    {
      "cell_type": "markdown",
      "metadata": {
        "id": "XndaS_3LQHyQ"
      },
      "source": [
        "### 신경망 학습"
      ]
    },
    {
      "cell_type": "markdown",
      "metadata": {
        "id": "AboyJKFhbc2q"
      },
      "source": [
        "이제 순전파와 역전파를 정해진 횟수(iterations or epochs)만큼 반복하여 신경망을 학습시켜 보겠습니다."
      ]
    },
    {
      "cell_type": "code",
      "metadata": {
        "id": "zbCo1KQMQJok",
        "colab": {
          "base_uri": "https://localhost:8080/"
        },
        "outputId": "c1af69c2-c779-48c8-cb27-fb633495bf3f"
      },
      "source": [
        "nn = NeuralNetwork()\n",
        "\n",
        "# 반복수(epochs or iterations)를 정합니다.\n",
        "iter = 10000\n",
        "\n",
        "# 지정한 반복수 만큼 반복합니다.\n",
        "for i in range(iter):\n",
        "    if (i+1 in [1,2,3,4,5]) or ((i+1) % 1000 == 0):\n",
        "        print('+' + '---' * 3 + f'EPOCH {i+1}' + '---'*3 + '+')\n",
        "        print('입력: \\n', X)\n",
        "        print('타겟출력: \\n', y)\n",
        "        print('예측: \\n', str(nn.feed_forward(X)))\n",
        "        print(\"에러: \\n\", str(np.mean(np.square(y - nn.feed_forward(X)))))\n",
        "    nn.train(X,y)"
      ],
      "execution_count": null,
      "outputs": [
        {
          "output_type": "stream",
          "name": "stdout",
          "text": [
            "+---------EPOCH 1---------+\n",
            "입력: \n",
            " [[1.    1.   ]\n",
            " [0.25  0.625]\n",
            " [0.875 0.75 ]]\n",
            "타겟출력: \n",
            " [[1.        ]\n",
            " [0.35714286]\n",
            " [0.83928571]]\n",
            "예측: \n",
            " [[0.37768395]\n",
            " [0.40886333]\n",
            " [0.39684567]]\n",
            "에러: \n",
            " 0.19523515397548788\n",
            "+---------EPOCH 2---------+\n",
            "입력: \n",
            " [[1.    1.   ]\n",
            " [0.25  0.625]\n",
            " [0.875 0.75 ]]\n",
            "타겟출력: \n",
            " [[1.        ]\n",
            " [0.35714286]\n",
            " [0.83928571]]\n",
            "예측: \n",
            " [[0.45734397]\n",
            " [0.47891087]\n",
            " [0.47278046]]\n",
            "에러: \n",
            " 0.14787637084266458\n",
            "+---------EPOCH 3---------+\n",
            "입력: \n",
            " [[1.    1.   ]\n",
            " [0.25  0.625]\n",
            " [0.875 0.75 ]]\n",
            "타겟출력: \n",
            " [[1.        ]\n",
            " [0.35714286]\n",
            " [0.83928571]]\n",
            "예측: \n",
            " [[0.52094752]\n",
            " [0.53342462]\n",
            " [0.5325371 ]]\n",
            "에러: \n",
            " 0.11822041803732024\n",
            "+---------EPOCH 4---------+\n",
            "입력: \n",
            " [[1.    1.   ]\n",
            " [0.25  0.625]\n",
            " [0.875 0.75 ]]\n",
            "타겟출력: \n",
            " [[1.        ]\n",
            " [0.35714286]\n",
            " [0.83928571]]\n",
            "예측: \n",
            " [[0.57039035]\n",
            " [0.57514949]\n",
            " [0.57861702]]\n",
            "에러: \n",
            " 0.10001317226025601\n",
            "+---------EPOCH 5---------+\n",
            "입력: \n",
            " [[1.    1.   ]\n",
            " [0.25  0.625]\n",
            " [0.875 0.75 ]]\n",
            "타겟출력: \n",
            " [[1.        ]\n",
            " [0.35714286]\n",
            " [0.83928571]]\n",
            "예측: \n",
            " [[0.60862211]\n",
            " [0.60709769]\n",
            " [0.61410496]]\n",
            "에러: \n",
            " 0.08878681402481621\n",
            "+---------EPOCH 1000---------+\n",
            "입력: \n",
            " [[1.    1.   ]\n",
            " [0.25  0.625]\n",
            " [0.875 0.75 ]]\n",
            "타겟출력: \n",
            " [[1.        ]\n",
            " [0.35714286]\n",
            " [0.83928571]]\n",
            "예측: \n",
            " [[0.91658292]\n",
            " [0.36458715]\n",
            " [0.92264135]]\n",
            "에러: \n",
            " 0.004653996157757957\n",
            "+---------EPOCH 2000---------+\n",
            "입력: \n",
            " [[1.    1.   ]\n",
            " [0.25  0.625]\n",
            " [0.875 0.75 ]]\n",
            "타겟출력: \n",
            " [[1.        ]\n",
            " [0.35714286]\n",
            " [0.83928571]]\n",
            "예측: \n",
            " [[0.9208668 ]\n",
            " [0.36266393]\n",
            " [0.91689461]]\n",
            "에러: \n",
            " 0.004105228792044443\n",
            "+---------EPOCH 3000---------+\n",
            "입력: \n",
            " [[1.    1.   ]\n",
            " [0.25  0.625]\n",
            " [0.875 0.75 ]]\n",
            "타겟출력: \n",
            " [[1.        ]\n",
            " [0.35714286]\n",
            " [0.83928571]]\n",
            "예측: \n",
            " [[0.92299619]\n",
            " [0.36183207]\n",
            " [0.91443433]]\n",
            "에러: \n",
            " 0.0038662965205599926\n",
            "+---------EPOCH 4000---------+\n",
            "입력: \n",
            " [[1.    1.   ]\n",
            " [0.25  0.625]\n",
            " [0.875 0.75 ]]\n",
            "타겟출력: \n",
            " [[1.        ]\n",
            " [0.35714286]\n",
            " [0.83928571]]\n",
            "예측: \n",
            " [[0.92488749]\n",
            " [0.36088798]\n",
            " [0.91269919]]\n",
            "에러: \n",
            " 0.003681818226952254\n",
            "+---------EPOCH 5000---------+\n",
            "입력: \n",
            " [[1.    1.   ]\n",
            " [0.25  0.625]\n",
            " [0.875 0.75 ]]\n",
            "타겟출력: \n",
            " [[1.        ]\n",
            " [0.35714286]\n",
            " [0.83928571]]\n",
            "예측: \n",
            " [[0.92684465]\n",
            " [0.36000853]\n",
            " [0.91054078]]\n",
            "에러: \n",
            " 0.0034790672406160316\n",
            "+---------EPOCH 6000---------+\n",
            "입력: \n",
            " [[1.    1.   ]\n",
            " [0.25  0.625]\n",
            " [0.875 0.75 ]]\n",
            "타겟출력: \n",
            " [[1.        ]\n",
            " [0.35714286]\n",
            " [0.83928571]]\n",
            "예측: \n",
            " [[0.92685943]\n",
            " [0.36127375]\n",
            " [0.90749191]]\n",
            "에러: \n",
            " 0.0033395642642349618\n",
            "+---------EPOCH 7000---------+\n",
            "입력: \n",
            " [[1.    1.   ]\n",
            " [0.25  0.625]\n",
            " [0.875 0.75 ]]\n",
            "타겟출력: \n",
            " [[1.        ]\n",
            " [0.35714286]\n",
            " [0.83928571]]\n",
            "예측: \n",
            " [[0.92336329]\n",
            " [0.36401733]\n",
            " [0.90897934]]\n",
            "에러: \n",
            " 0.003592548203894095\n",
            "+---------EPOCH 8000---------+\n",
            "입력: \n",
            " [[1.    1.   ]\n",
            " [0.25  0.625]\n",
            " [0.875 0.75 ]]\n",
            "타겟출력: \n",
            " [[1.        ]\n",
            " [0.35714286]\n",
            " [0.83928571]]\n",
            "예측: \n",
            " [[0.92257479]\n",
            " [0.3638548 ]\n",
            " [0.91152851]]\n",
            "에러: \n",
            " 0.003752911674675145\n",
            "+---------EPOCH 9000---------+\n",
            "입력: \n",
            " [[1.    1.   ]\n",
            " [0.25  0.625]\n",
            " [0.875 0.75 ]]\n",
            "타겟출력: \n",
            " [[1.        ]\n",
            " [0.35714286]\n",
            " [0.83928571]]\n",
            "예측: \n",
            " [[0.92239308]\n",
            " [0.36390556]\n",
            " [0.91194685]]\n",
            "에러: \n",
            " 0.0037827367165428074\n",
            "+---------EPOCH 10000---------+\n",
            "입력: \n",
            " [[1.    1.   ]\n",
            " [0.25  0.625]\n",
            " [0.875 0.75 ]]\n",
            "타겟출력: \n",
            " [[1.        ]\n",
            " [0.35714286]\n",
            " [0.83928571]]\n",
            "예측: \n",
            " [[0.92226356]\n",
            " [0.36399293]\n",
            " [0.91211178]]\n",
            "에러: \n",
            " 0.0037978381910849734\n"
          ]
        }
      ]
    },
    {
      "cell_type": "markdown",
      "metadata": {
        "id": "RcKdSR8Ub9XY"
      },
      "source": [
        "출력 결과로 반복 수가 1-5회일 때의 에러와 이후 1000회 마다의 에러를 볼 수 있습니다.<br/>\n",
        "점점 에러가 줄어드는 경향성을 보이는 것을 확인할 수 있습니다 :)"
      ]
    },
    {
      "cell_type": "markdown",
      "metadata": {
        "id": "GB7Qlpq1QNoB"
      },
      "source": [
        "> ❗️ ***여기까지 간단한 신경망 학습 과정을 파이썬 코드로 직접 구현해보았습니다.<br/>\n",
        "하지만 <font color=\"ff6f61\">아직 역전파에 대해서 잘 이해하지 못한 분이 대부분</font>일 것으로 생각합니다.<br/>\n",
        "역전파를 한 번에 이해하기란 쉽지 않은데요. 아래에서 역전파 과정에 대해 한 번 더 설명을 드리도록 하겠습니다.***\n",
        "\n",
        "그 전에 경사 하강법에서 빠질 수 없는 옵티마이저(Optimizer)에 대해서 다루고 넘어가겠습니다."
      ]
    },
    {
      "cell_type": "markdown",
      "metadata": {
        "id": "JM3fd8aQSIS6"
      },
      "source": [
        "## 옵티마이저(Optimizer)"
      ]
    },
    {
      "cell_type": "markdown",
      "metadata": {
        "id": "AOhGWKYaSU7m"
      },
      "source": [
        "위에서 경사 하강법을 배우면서\n",
        "\n",
        "> ***지역 최적점에 빠지게 되는 문제를 방지하기 위한 여러가지 방법이 있는데요.<br/>\n",
        "이런 알고리즘에 대해서는 잠시 후에 알아보도록 하겠습니다.***\n",
        "\n",
        "라고 남겨둔 부분이 있었는데요.\n",
        "\n",
        "위 문장에서 '이런 알고리즘'에 해당하는 것이 바로 **<font color=\"ff6f61\">옵티마이저(Optimizer)</font>** 입니다.\n",
        "\n",
        "옵티마이저는 쉽게 말해 **<font color=\"ff6f61\">경사를 내려가는 방법을 결정</font>**하는데요.<br/>\n",
        "대표적인 옵티마이저로는 아래와 같은 것들이 있습니다. (다 외우지 않아도 됩니다!)\n"
      ]
    },
    {
      "cell_type": "markdown",
      "metadata": {
        "id": "rtNcfeuzIpec"
      },
      "source": [
        "<img src=\"https://i.imgur.com/UQfpjpP.png\" width=\"600\"/>"
      ]
    },
    {
      "cell_type": "markdown",
      "metadata": {
        "id": "7D2hleJxItct"
      },
      "source": [
        "이번 강의에서는 **확률적 경사 하강법(`sgd`)** 을 알아보도록 하겠습니다."
      ]
    },
    {
      "cell_type": "markdown",
      "metadata": {
        "id": "PbeBYh-yEjwq"
      },
      "source": [
        "### 확률적 경사 하강법(Stochastic Gradient Descent, SGD)"
      ]
    },
    {
      "cell_type": "markdown",
      "metadata": {
        "id": "BrYCXdg1v9b9"
      },
      "source": [
        "위에서 구현했던 신경망은 모든 입력 데이터에 대해 손실을 계산하고 기울기를 계산한 후에 가중치를 업데이트 하였습니다.<br/>\n",
        "위 신경망에서는 입력 데이터가 3개 뿐이었기에 이 방법으로도 손실과 그 역전파 값을 금방 구할 수 있었습니다.<br/>\n",
        "\n",
        "실제 딥러닝에서는 이보다 훨씬 더 큰 데이터를 다루게 됩니다.<br/>\n",
        "만약 입력 데이터가 3천만개, 3억개 라면 모든 데이터에 대한 손실을 계산하는 과정이 굉장히 오래 걸리겠죠?"
      ]
    },
    {
      "cell_type": "markdown",
      "metadata": {
        "id": "I6E5K0kX_gOt"
      },
      "source": [
        "<img src=\"http://rasbt.github.io/mlxtend/user_guide/general_concepts/gradient-optimization_files/ball.png\" width=\"600\"/>\n"
      ]
    },
    {
      "cell_type": "markdown",
      "metadata": {
        "id": "ckujousyLHfw"
      },
      "source": [
        "그래서 등장한 것이 바로 **<font color=\"ff6f61\">확률적 경사 하강법</font>**과 **<font color=\"ff6f61\">미니 배치(Mini-batch) 경사 하강법</font>**입니다.\n",
        "\n",
        "확률적 경사 하강법(`sgd`)은 전체 데이터에서 하나의 데이터를 뽑아서 신경망에 입력한 후 손실을 계산합니다.<br/>\n",
        "그리고 그 손실 정보를 역전파하여 신경망의 가중치를 업데이트하게 됩니다.\n",
        "\n",
        "확률적 경사 하강법은 1개의 데이터만 사용하여 손실을 계산하기 때문에 **가중치를 빠르게 업데이트** 할 수 있다는 장점이 있습니다.<br/>\n",
        "물론 확률적 경사 하강법에도 단점이 있습니다. 1개의 데이터만 보기 때문에 학습 과정에서 불안정한 경사 하강을 보인다는 점인데요.\n",
        "\n",
        "아래 그림에서 확률적 경사 하강법(왼쪽)과 전체 데이터를 보고 가중치를 수정하는 방식(오른쪽)에서 경사 하강이 어떻게 일어나는 지의 차이를 볼 수 있습니다.\n",
        "\n",
        "> ❗️ ***아래 그림을 보면서 경사 하강이 왼쪽과 같이 불안정하면 어떤 문제가 발생할 수 있을지 생각해봅시다.***\n"
      ]
    },
    {
      "cell_type": "markdown",
      "metadata": {
        "id": "4Rvf52cA_Zxk"
      },
      "source": [
        "<img src=\"https://datascience-enthusiast.com/figures/kiank_sgd.png\" width=\"800\">"
      ]
    },
    {
      "cell_type": "markdown",
      "metadata": {
        "id": "EKz8iv7j_aEa"
      },
      "source": [
        "그래서 두 방법을 적절히 융화한 **미니 배치(Mini-batch) 경사 하강법**이 등장하게 되었습니다.<br/>\n",
        "N개의 데이터로 미니 배치를 구성하여 해당 미니 배치를 신경망에 입력한 후 이 결과를 바탕으로 가중치를 업데이트합니다.<br/>\n",
        "일반적으로는 두 방법의 장점을 적절히 융화한 미니 배치 경사 하강법을 많이 사용합니다.\n",
        "\n",
        "아래 그림에서 확률적 경사 하강법(왼쪽)과 미니 배치 경사 하강법(오른쪽)에서 경사 하강이 어떻게 일어나는 지의 차이를 볼 수 있습니다.\n",
        "\n",
        "> ❗️ ***iteration, batch-size, epochs, 전체 데이터셋에 있는 데이터의 개수 사이의 관계에 대해 조사해봅시다.***"
      ]
    },
    {
      "cell_type": "markdown",
      "metadata": {
        "id": "bRDGfFtjQQks"
      },
      "source": [
        "<img src=\"https://datascience-enthusiast.com/figures/kiank_minibatch.png\" width=\"800\">"
      ]
    },
    {
      "cell_type": "markdown",
      "metadata": {
        "id": "BcbksDU2CQJF"
      },
      "source": [
        "### 경사하강법의 변형들(다양한 Optimizer)"
      ]
    },
    {
      "cell_type": "markdown",
      "metadata": {
        "id": "fgi9ghdUQSmU"
      },
      "source": [
        "위에서 배운 확률적 경사 하강법을 포함하여 다음과 같은 경사 하강법 알고리즘(Optimizer)이 사용되고 있습니다.\n",
        "\n",
        "1. 확률적 경사 하강법(Stochastic Gradient Descent, SGD)\n",
        "2. 확률적 경사 하강법(SGD)를 변형한 알고리즘 - Momentum, RMSProp, Adam 등\n",
        "3. Newton's method 등의 2차 최적화 알고리즘 기반 방법 - BFGS 등\n",
        "\n",
        "> ❗️ ***특히 BFGS의 경우 당장 이해하지 않아도 좋습니다.***\n",
        "\n",
        "아래 그림은 여러 가지 옵티마이저가 경사를 어떻게 내려가는 지에 대한 예시입니다."
      ]
    },
    {
      "cell_type": "markdown",
      "metadata": {
        "id": "dExM6zlzF7vW"
      },
      "source": [
        "<img src=\"https://developer.nvidia.com/blog/wp-content/uploads/2015/12/NKsFHJb.gif\" />"
      ]
    },
    {
      "cell_type": "markdown",
      "metadata": {
        "id": "_V1q7JgKF-Nf"
      },
      "source": [
        "여러 가지 옵티마이저 중에서 어떤 것이 가장 좋다고 말하기는 어렵습니다.<br/>\n",
        "문제마다, 데이터마다 달라지기 때문에 여러 옵티마이저를 적용하면서 서로 비교해보아야 하는데요.\n",
        "\n",
        "다음 강의에서 최적의 하이퍼파라미터를 찾아보면서 여러 옵티마이저를 비교해 볼 것입니다."
      ]
    },
    {
      "cell_type": "markdown",
      "metadata": {
        "id": "37N5MaSIQW7S"
      },
      "source": [
        "## 수학으로 다시보는 역전파(Backpropagation Review with Math)"
      ]
    },
    {
      "cell_type": "markdown",
      "metadata": {
        "id": "cZYENoA98CHU"
      },
      "source": [
        "위에서 했던 역전파 과정을 수학으로 다시 보도록 하겠습니다."
      ]
    },
    {
      "cell_type": "markdown",
      "metadata": {
        "id": "7jv9b-hVQXjq"
      },
      "source": [
        "<img src=\"https://ds-lecture-data.s3.ap-northeast-2.amazonaws.com/etc/note2_image/bp1.png\">\n",
        "\n",
        "---\n",
        "\n",
        "<img src=\"https://ds-lecture-data.s3.ap-northeast-2.amazonaws.com/etc/note2_image/bp2.png\">\n",
        "\n",
        "---\n",
        "\n",
        "<img src=\"https://ds-lecture-data.s3.ap-northeast-2.amazonaws.com/etc/note2_image/bp3.png\">\n",
        "\n",
        "---\n",
        "\n",
        "<img src=\"https://ds-lecture-data.s3.ap-northeast-2.amazonaws.com/etc/note2_image/bp4.png\">\n",
        "\n",
        "---\n",
        "\n",
        "\n",
        "<img src=\"https://ds-lecture-data.s3.ap-northeast-2.amazonaws.com/etc/note2_image/bp5.png\">\n",
        "\n",
        "\n",
        "by. Lee"
      ]
    },
    {
      "cell_type": "markdown",
      "metadata": {
        "id": "FmuEIo0ghoeN"
      },
      "source": [
        "- **오타 수정**"
      ]
    },
    {
      "cell_type": "markdown",
      "metadata": {
        "id": "P-SsoBmRQbAN"
      },
      "source": [
        "> ### $ \\partial E_1 \\over \\partial H_1 $\n",
        "\n",
        "$$\n",
        "\\begin{aligned}\n",
        "\\frac{\\partial E_1}{\\partial H_1} &= \\frac{\\partial E_1}{\\color{blue}{\\partial y_1}} \\cdot \\frac{\\color{blue}{\\partial y_1}}{\\partial H_1} \\\\\n",
        "\\frac{\\partial E_1}{\\partial H_1} &= \\frac{\\partial E_1}{\\color{red}{\\partial Y_1}} \\cdot \\frac{\\color{red}{\\partial Y_1}}{\\color{blue}{\\partial y_1}} \\cdot \\frac{\\color{blue}{\\partial y_1}}{\\partial H_1}\n",
        "\\end{aligned}\n",
        "$$\n",
        "\n",
        "> ### $ \\partial E_2 \\over \\partial H_1 $\n",
        "\n",
        "$$\n",
        "\\begin{aligned}\n",
        "\\frac{\\partial E_2}{\\partial H_1} &= \\frac{\\partial E_2}{\\color{green}{\\partial y_2}} \\cdot \\frac{\\color{green}{\\partial y_2}}{\\partial H_1} \\\\\n",
        "\\frac{\\partial E_2}{\\partial H_1} &= \\frac{\\partial E_2}{\\color{orange}{\\partial Y_2}} \\cdot \\frac{\\color{orange}{\\partial Y_2}}{\\color{green}{\\partial y_2}} \\cdot \\frac{\\color{green}{\\partial y_2}}{\\partial H_1}\n",
        "\\end{aligned}\n",
        "$$"
      ]
    },
    {
      "cell_type": "markdown",
      "metadata": {
        "id": "vj07q-sJQhbw"
      },
      "source": [
        "## Keras를 이용한 역전파 실습"
      ]
    },
    {
      "cell_type": "markdown",
      "metadata": {
        "id": "E9_6QRfBQjfL"
      },
      "source": [
        "[케라스(keras)](https://keras.io)는 신경망 모델을 간편하게 만들고 훈련시킬 수 있는 고수준 신경망 API입니다.\n",
        "\n",
        "텐서의 조작, 미분 등의 low-level 연산을 만들지 않아도 잘 동작한다는 장점이 있습니다.<br/>\n",
        "텐서플로우(Tensorflow)를 포함한 프레임워크와 함께 사용할 수 있으며 빠르고 간편한 프로토타이핑이 가능합니다."
      ]
    },
    {
      "cell_type": "markdown",
      "metadata": {
        "id": "ICWeKN4Bjqb1"
      },
      "source": [
        "케라스에서 신경망을 구축할 때 가장 많이 사용되는 방법 중 하나는 `Sequential` 입ㄴ디ㅏ.<br/>\n",
        "이 방법은 신경망 각 층을 쌓아올릴 수 있도록 합니다."
      ]
    },
    {
      "cell_type": "markdown",
      "metadata": {
        "id": "QVl9yR3SkIrA"
      },
      "source": [
        "- **신경망 학습 메커니즘**\n",
        "\n",
        "신경망 학습은 다음과 같은 메커니즘으로 구성됩니다.\n",
        "\n",
        "1. 학습 데이터 로드(Load data)\n",
        "2. 모델 정의(Define model)\n",
        "3. 컴파일(Compile)\n",
        "4. 모델 학습(Fit)\n",
        "5. 모델 검증(Evaluate)\n",
        "\n",
        "> ❗️ ***5단계로 이루어진 이 과정은 앞으로도 계속 반복될 것입니다.<br/>\n",
        "강의 노트의 예제나 과제를 풀며 코드가 등장할 때마다 이 흐름을 잘 기억해두시면 좋겠습니다.***"
      ]
    },
    {
      "cell_type": "markdown",
      "metadata": {
        "id": "o1fa_6DKl1ZK"
      },
      "source": [
        "1. **학습 데이터를 만듭니다.**"
      ]
    },
    {
      "cell_type": "code",
      "metadata": {
        "id": "VNMFIQZ1Qm_k"
      },
      "source": [
        "# 앞서 살펴본 선형 데이터를 만들기 위함 함수\n",
        "def make_samples(n=1000):\n",
        "    study = np.random.uniform(1, 8, (n, 1))\n",
        "    sleep = np.random.uniform(1, 8, (n, 1))\n",
        "    \n",
        "    y = 5 * study + 2 * sleep + 40\n",
        "    X = np.append(study, sleep, axis = 1)\n",
        "    \n",
        "    # 정규화 \n",
        "    X = X / np.amax(X, axis = 0)\n",
        "    y = y / 100\n",
        "    \n",
        "    return X, y"
      ],
      "execution_count": null,
      "outputs": []
    },
    {
      "cell_type": "code",
      "metadata": {
        "id": "jFmFCDjSQnER",
        "colab": {
          "base_uri": "https://localhost:8080/"
        },
        "outputId": "d9942571-ed7c-43f6-d4b6-61983990686b"
      },
      "source": [
        "import numpy as np\n",
        "import matplotlib.pyplot as plt\n",
        "X, y = make_samples()\n",
        "X[:10]"
      ],
      "execution_count": null,
      "outputs": [
        {
          "output_type": "execute_result",
          "data": {
            "text/plain": [
              "array([[0.76155759, 0.4065224 ],\n",
              "       [0.78699611, 0.19627527],\n",
              "       [0.39267953, 0.53940436],\n",
              "       [0.36391073, 0.99427628],\n",
              "       [0.64412524, 0.48054391],\n",
              "       [0.22616247, 0.13942684],\n",
              "       [0.70853207, 0.3407582 ],\n",
              "       [0.85016525, 0.44315516],\n",
              "       [0.26123166, 0.63737043],\n",
              "       [0.94228448, 0.48463672]])"
            ]
          },
          "metadata": {},
          "execution_count": 37
        }
      ]
    },
    {
      "cell_type": "markdown",
      "metadata": {
        "id": "KyIky88il-NQ"
      },
      "source": [
        "2. **필요한 라이브러리를 불러온 후 신경망을 구축하고 컴파일(compile)합니다.**\n",
        "\n",
        "> ❗️ ***아래 코드에서 출력층의 노드 수는 몇 개인지, 출력층의 활성화 함수는 무엇인지, 손실 함수는 어떻게 지정하였는지에 주목해봅시다.***"
      ]
    },
    {
      "cell_type": "code",
      "metadata": {
        "id": "d-bbTtYEQnB6",
        "colab": {
          "base_uri": "https://localhost:8080/"
        },
        "outputId": "fa502ba5-bcd5-43fa-ad7c-7d23c9f5aea3"
      },
      "source": [
        "from tensorflow.keras.models import Sequential\n",
        "from tensorflow.keras.layers import Dense\n",
        " \n",
        "model = Sequential()\n",
        "\n",
        "# 신경망 모델 구조 정의\n",
        "model.add(Dense(3, input_dim=2, activation='sigmoid'))\n",
        "model.add(Dense(1, activation='sigmoid'))\n",
        "\n",
        "# 컴파일 단계, 옵티마이저와 손실함수, 측정지표를 연결해서 계산 그래프를 구성을 마무리 합니다.\n",
        "model.compile(optimizer='sgd', loss='mse', metrics=['mae', 'mse'])\n",
        "# model.compile(loss='binary_crossentropy', optimizer='adam', metrics=['accuracy']) # 분류인 경우 예시\n",
        "\n",
        "results = model.fit(X,y, epochs=50)"
      ],
      "execution_count": null,
      "outputs": [
        {
          "output_type": "stream",
          "name": "stdout",
          "text": [
            "Epoch 1/50\n",
            "32/32 [==============================] - 1s 1ms/step - loss: 0.0819 - mae: 0.2704 - mse: 0.0819\n",
            "Epoch 2/50\n",
            "32/32 [==============================] - 0s 987us/step - loss: 0.0738 - mae: 0.2550 - mse: 0.0738\n",
            "Epoch 3/50\n",
            "32/32 [==============================] - 0s 1ms/step - loss: 0.0665 - mae: 0.2402 - mse: 0.0665\n",
            "Epoch 4/50\n",
            "32/32 [==============================] - 0s 1ms/step - loss: 0.0601 - mae: 0.2264 - mse: 0.0601\n",
            "Epoch 5/50\n",
            "32/32 [==============================] - 0s 978us/step - loss: 0.0544 - mae: 0.2135 - mse: 0.0544\n",
            "Epoch 6/50\n",
            "32/32 [==============================] - 0s 1ms/step - loss: 0.0493 - mae: 0.2012 - mse: 0.0493\n",
            "Epoch 7/50\n",
            "32/32 [==============================] - 0s 1ms/step - loss: 0.0448 - mae: 0.1897 - mse: 0.0448\n",
            "Epoch 8/50\n",
            "32/32 [==============================] - 0s 1ms/step - loss: 0.0408 - mae: 0.1790 - mse: 0.0408\n",
            "Epoch 9/50\n",
            "32/32 [==============================] - 0s 1ms/step - loss: 0.0373 - mae: 0.1694 - mse: 0.0373\n",
            "Epoch 10/50\n",
            "32/32 [==============================] - 0s 1ms/step - loss: 0.0342 - mae: 0.1605 - mse: 0.0342\n",
            "Epoch 11/50\n",
            "32/32 [==============================] - 0s 1ms/step - loss: 0.0315 - mae: 0.1524 - mse: 0.0315\n",
            "Epoch 12/50\n",
            "32/32 [==============================] - 0s 1ms/step - loss: 0.0291 - mae: 0.1453 - mse: 0.0291\n",
            "Epoch 13/50\n",
            "32/32 [==============================] - 0s 1ms/step - loss: 0.0270 - mae: 0.1386 - mse: 0.0270\n",
            "Epoch 14/50\n",
            "32/32 [==============================] - 0s 1ms/step - loss: 0.0251 - mae: 0.1327 - mse: 0.0251\n",
            "Epoch 15/50\n",
            "32/32 [==============================] - 0s 1ms/step - loss: 0.0235 - mae: 0.1273 - mse: 0.0235\n",
            "Epoch 16/50\n",
            "32/32 [==============================] - 0s 1ms/step - loss: 0.0220 - mae: 0.1225 - mse: 0.0220\n",
            "Epoch 17/50\n",
            "32/32 [==============================] - 0s 1ms/step - loss: 0.0207 - mae: 0.1184 - mse: 0.0207\n",
            "Epoch 18/50\n",
            "32/32 [==============================] - 0s 1ms/step - loss: 0.0196 - mae: 0.1146 - mse: 0.0196\n",
            "Epoch 19/50\n",
            "32/32 [==============================] - 0s 1ms/step - loss: 0.0185 - mae: 0.1112 - mse: 0.0185\n",
            "Epoch 20/50\n",
            "32/32 [==============================] - 0s 1ms/step - loss: 0.0176 - mae: 0.1082 - mse: 0.0176\n",
            "Epoch 21/50\n",
            "32/32 [==============================] - 0s 1ms/step - loss: 0.0168 - mae: 0.1056 - mse: 0.0168\n",
            "Epoch 22/50\n",
            "32/32 [==============================] - 0s 1ms/step - loss: 0.0161 - mae: 0.1032 - mse: 0.0161\n",
            "Epoch 23/50\n",
            "32/32 [==============================] - 0s 1ms/step - loss: 0.0154 - mae: 0.1011 - mse: 0.0154\n",
            "Epoch 24/50\n",
            "32/32 [==============================] - 0s 1ms/step - loss: 0.0149 - mae: 0.0992 - mse: 0.0149\n",
            "Epoch 25/50\n",
            "32/32 [==============================] - 0s 954us/step - loss: 0.0143 - mae: 0.0976 - mse: 0.0143\n",
            "Epoch 26/50\n",
            "32/32 [==============================] - 0s 1ms/step - loss: 0.0139 - mae: 0.0962 - mse: 0.0139\n",
            "Epoch 27/50\n",
            "32/32 [==============================] - 0s 1ms/step - loss: 0.0134 - mae: 0.0948 - mse: 0.0134\n",
            "Epoch 28/50\n",
            "32/32 [==============================] - 0s 1ms/step - loss: 0.0131 - mae: 0.0936 - mse: 0.0131\n",
            "Epoch 29/50\n",
            "32/32 [==============================] - 0s 988us/step - loss: 0.0127 - mae: 0.0925 - mse: 0.0127\n",
            "Epoch 30/50\n",
            "32/32 [==============================] - 0s 1ms/step - loss: 0.0124 - mae: 0.0916 - mse: 0.0124\n",
            "Epoch 31/50\n",
            "32/32 [==============================] - 0s 1ms/step - loss: 0.0122 - mae: 0.0907 - mse: 0.0122\n",
            "Epoch 32/50\n",
            "32/32 [==============================] - 0s 1ms/step - loss: 0.0119 - mae: 0.0899 - mse: 0.0119\n",
            "Epoch 33/50\n",
            "32/32 [==============================] - 0s 1ms/step - loss: 0.0117 - mae: 0.0891 - mse: 0.0117\n",
            "Epoch 34/50\n",
            "32/32 [==============================] - 0s 1ms/step - loss: 0.0115 - mae: 0.0885 - mse: 0.0115\n",
            "Epoch 35/50\n",
            "32/32 [==============================] - 0s 1ms/step - loss: 0.0113 - mae: 0.0879 - mse: 0.0113\n",
            "Epoch 36/50\n",
            "32/32 [==============================] - 0s 995us/step - loss: 0.0111 - mae: 0.0873 - mse: 0.0111\n",
            "Epoch 37/50\n",
            "32/32 [==============================] - 0s 1ms/step - loss: 0.0110 - mae: 0.0868 - mse: 0.0110\n",
            "Epoch 38/50\n",
            "32/32 [==============================] - 0s 1ms/step - loss: 0.0108 - mae: 0.0864 - mse: 0.0108\n",
            "Epoch 39/50\n",
            "32/32 [==============================] - 0s 1ms/step - loss: 0.0107 - mae: 0.0860 - mse: 0.0107\n",
            "Epoch 40/50\n",
            "32/32 [==============================] - 0s 992us/step - loss: 0.0106 - mae: 0.0856 - mse: 0.0106\n",
            "Epoch 41/50\n",
            "32/32 [==============================] - 0s 1ms/step - loss: 0.0105 - mae: 0.0853 - mse: 0.0105\n",
            "Epoch 42/50\n",
            "32/32 [==============================] - 0s 1ms/step - loss: 0.0104 - mae: 0.0849 - mse: 0.0104\n",
            "Epoch 43/50\n",
            "32/32 [==============================] - 0s 1ms/step - loss: 0.0103 - mae: 0.0847 - mse: 0.0103\n",
            "Epoch 44/50\n",
            "32/32 [==============================] - 0s 1ms/step - loss: 0.0102 - mae: 0.0844 - mse: 0.0102\n",
            "Epoch 45/50\n",
            "32/32 [==============================] - 0s 1ms/step - loss: 0.0101 - mae: 0.0842 - mse: 0.0101\n",
            "Epoch 46/50\n",
            "32/32 [==============================] - 0s 1ms/step - loss: 0.0101 - mae: 0.0839 - mse: 0.0101\n",
            "Epoch 47/50\n",
            "32/32 [==============================] - 0s 1ms/step - loss: 0.0100 - mae: 0.0837 - mse: 0.0100\n",
            "Epoch 48/50\n",
            "32/32 [==============================] - 0s 1ms/step - loss: 0.0100 - mae: 0.0835 - mse: 0.0100\n",
            "Epoch 49/50\n",
            "32/32 [==============================] - 0s 998us/step - loss: 0.0099 - mae: 0.0834 - mse: 0.0099\n",
            "Epoch 50/50\n",
            "32/32 [==============================] - 0s 1ms/step - loss: 0.0099 - mae: 0.0832 - mse: 0.0099\n"
          ]
        }
      ]
    },
    {
      "cell_type": "code",
      "metadata": {
        "id": "NXQjCklXQs_C",
        "colab": {
          "base_uri": "https://localhost:8080/"
        },
        "outputId": "87318ccc-33b5-47b1-f127-7e5b4b1e1a0d"
      },
      "source": [
        "results.history.keys()"
      ],
      "execution_count": null,
      "outputs": [
        {
          "output_type": "execute_result",
          "data": {
            "text/plain": [
              "dict_keys(['loss', 'mae', 'mse'])"
            ]
          },
          "metadata": {},
          "execution_count": 39
        }
      ]
    },
    {
      "cell_type": "markdown",
      "metadata": {
        "id": "raqPpzbKmXY2"
      },
      "source": [
        "3. **손실이 어떻게 줄어드는 지 시각화 해봅시다.**"
      ]
    },
    {
      "cell_type": "code",
      "metadata": {
        "id": "ezeUP1AXQs7T",
        "colab": {
          "base_uri": "https://localhost:8080/",
          "height": 283
        },
        "outputId": "d4e554ed-224b-435d-9cc4-d915161040d4"
      },
      "source": [
        "plt.plot(results.history['loss'])"
      ],
      "execution_count": null,
      "outputs": [
        {
          "output_type": "execute_result",
          "data": {
            "text/plain": [
              "[<matplotlib.lines.Line2D at 0x7f926a734510>]"
            ]
          },
          "metadata": {},
          "execution_count": 40
        },
        {
          "output_type": "display_data",
          "data": {
            "image/png": "[encoded data removed]",
            "text/plain": [
              "<Figure size 432x288 with 1 Axes>"
            ]
          },
          "metadata": {
            "needs_background": "light"
          }
        }
      ]
    },
    {
      "cell_type": "code",
      "metadata": {
        "id": "fy5GnubhQs4c",
        "colab": {
          "base_uri": "https://localhost:8080/",
          "height": 283
        },
        "outputId": "03ff5c47-5e4c-4ed8-f274-0e95edb9ef8a"
      },
      "source": [
        "plt.plot(results.history['mae'])"
      ],
      "execution_count": null,
      "outputs": [
        {
          "output_type": "execute_result",
          "data": {
            "text/plain": [
              "[<matplotlib.lines.Line2D at 0x7f926a290c50>]"
            ]
          },
          "metadata": {},
          "execution_count": 41
        },
        {
          "output_type": "display_data",
          "data": {
            "image/png": "[encoded data removed]",
            "text/plain": [
              "<Figure size 432x288 with 1 Axes>"
            ]
          },
          "metadata": {
            "needs_background": "light"
          }
        }
      ]
    },
    {
      "cell_type": "markdown",
      "metadata": {
        "id": "1GiD7JHWlDVR"
      },
      "source": [
        "### Fashion MNIST 예제를 통한 신경망 실습\n"
      ]
    },
    {
      "cell_type": "markdown",
      "metadata": {
        "id": "HHS_DpgSQzEV"
      },
      "source": [
        "**\"Fashion MNIST\"**는 \"손글씨 MNIST\"와 더불어 신경망으로 이미지 분류 실습을 해볼 수 있는 대표적인 예제입니다.<br/>\n",
        "Fashion MNIST 예제를 통해 이미지 분류 문제에서 **어떤 전처리 과정이 필요한지, 신경망은 어떻게 구축되어야 하고 학습되는지**에 대해 알아보겠습니다.\n",
        "\n",
        "전체적인 과정은 위와 유사합니다."
      ]
    },
    {
      "cell_type": "markdown",
      "metadata": {
        "id": "tRCKf3UQmhfx"
      },
      "source": [
        "1. **학습 데이터를 불러옵니다.**"
      ]
    },
    {
      "cell_type": "code",
      "metadata": {
        "id": "mvL1q_hTQ1KV",
        "colab": {
          "base_uri": "https://localhost:8080/"
        },
        "outputId": "abd60a43-2c5d-4072-8c0d-c1e4de91aa1a"
      },
      "source": [
        "from tensorflow.keras.datasets import fashion_mnist\n",
        "\n",
        "# 데이터 불러오기\n",
        "(X_train, y_train), (X_test, y_test) = fashion_mnist.load_data()\n",
        "print(X_train.shape, X_test.shape)"
      ],
      "execution_count": null,
      "outputs": [
        {
          "output_type": "stream",
          "name": "stdout",
          "text": [
            "Downloading data from https://storage.googleapis.com/tensorflow/tf-keras-datasets/train-labels-idx1-ubyte.gz\n",
            "32768/29515 [=================================] - 0s 0us/step\n",
            "40960/29515 [=========================================] - 0s 0us/step\n",
            "Downloading data from https://storage.googleapis.com/tensorflow/tf-keras-datasets/train-images-idx3-ubyte.gz\n",
            "26427392/26421880 [==============================] - 0s 0us/step\n",
            "26435584/26421880 [==============================] - 0s 0us/step\n",
            "Downloading data from https://storage.googleapis.com/tensorflow/tf-keras-datasets/t10k-labels-idx1-ubyte.gz\n",
            "16384/5148 [===============================================================================================] - 0s 0us/step\n",
            "Downloading data from https://storage.googleapis.com/tensorflow/tf-keras-datasets/t10k-images-idx3-ubyte.gz\n",
            "4423680/4422102 [==============================] - 0s 0us/step\n",
            "4431872/4422102 [==============================] - 0s 0us/step\n",
            "(60000, 28, 28) (10000, 28, 28)\n"
          ]
        }
      ]
    },
    {
      "cell_type": "markdown",
      "metadata": {
        "id": "9IdUpZNimqm8"
      },
      "source": [
        "2. **불러온 학습 데이터가 어떻게 생겼는지, 혹은 어떤 레이블(label)을 갖는지 확인해보고 정규화합니다.**"
      ]
    },
    {
      "cell_type": "code",
      "metadata": {
        "id": "kP_qZpgcQ1H0"
      },
      "source": [
        "# 데이터를 정규화 합니다\n",
        "X_train = X_train / 255.\n",
        "X_test = X_test /255."
      ],
      "execution_count": null,
      "outputs": []
    },
    {
      "cell_type": "code",
      "metadata": {
        "id": "BYXQ2kx6Q1Fm",
        "colab": {
          "base_uri": "https://localhost:8080/",
          "height": 248
        },
        "outputId": "76201399-d532-458f-ff20-83193bf4b3ef"
      },
      "source": [
        "import matplotlib.pyplot as plt\n",
        "\n",
        "for i in range(9):\n",
        "    # subplot 정의\n",
        "    plt.subplot(3, 3, i+1)\n",
        "    \n",
        "    # 데이터를 plot 합니다.\n",
        "    plt.imshow(X_train[i], cmap=plt.get_cmap('gray'))\n",
        "    plt.axis('off')\n",
        "    \n",
        "plt.show()\n",
        "    "
      ],
      "execution_count": null,
      "outputs": [
        {
          "output_type": "display_data",
          "data": {
            "image/png": "[encoded data removed]",
            "text/plain": [
              "<Figure size 432x288 with 9 Axes>"
            ]
          },
          "metadata": {
            "needs_background": "light"
          }
        }
      ]
    },
    {
      "cell_type": "code",
      "metadata": {
        "id": "qSI1r9wvQ0mk",
        "colab": {
          "base_uri": "https://localhost:8080/"
        },
        "outputId": "bd236a51-c50c-4734-bfb8-d753323e73c4"
      },
      "source": [
        "# 클래스를 확인합니다.\n",
        "np.unique(y_train)"
      ],
      "execution_count": null,
      "outputs": [
        {
          "output_type": "execute_result",
          "data": {
            "text/plain": [
              "array([0, 1, 2, 3, 4, 5, 6, 7, 8, 9], dtype=uint8)"
            ]
          },
          "metadata": {},
          "execution_count": 45
        }
      ]
    },
    {
      "cell_type": "markdown",
      "metadata": {
        "id": "ZXQsItuemgXp"
      },
      "source": [
        "3. **필요한 라이브러리를 불러온 후 신경망을 구축하고 컴파일(compile)합니다.**\n",
        "\n",
        "> ❗️ ***아래 코드에서 출력층의 노드 수는 몇 개인지, 출력층의 활성화 함수는 무엇인지, 손실 함수는 어떻게 지정하였는지에 주목해봅시다.<br/>\n",
        "`.summary()`를 활용하면 모델의 구조를 빠르게 파악해 볼 수 있습니다.***"
      ]
    },
    {
      "cell_type": "code",
      "metadata": {
        "id": "AcnIMts_Q5Hn",
        "colab": {
          "base_uri": "https://localhost:8080/"
        },
        "outputId": "0d08586e-c669-483d-d9b9-05ef1cf2c9d3"
      },
      "source": [
        "from tensorflow.keras.models import Sequential\n",
        "from tensorflow.keras.layers import Dense, Flatten\n",
        "\n",
        "\n",
        "model = Sequential() \n",
        "model.add(Flatten(input_shape=(28, 28))) # 28*28 = 784 특성 벡터로 펼쳐 변환해 Dense 층으로 들어갑니다\n",
        "model.add(Dense(10, activation='softmax'))\n",
        "\n",
        "model.compile(optimizer='adam'\n",
        "             , loss='sparse_categorical_crossentropy'\n",
        "             , metrics=['accuracy'])\n",
        "\n",
        "model.summary()\n",
        "# 총 7850 parameters (10 bias)"
      ],
      "execution_count": null,
      "outputs": [
        {
          "output_type": "stream",
          "name": "stdout",
          "text": [
            "Model: \"sequential_1\"\n",
            "_________________________________________________________________\n",
            "Layer (type)                 Output Shape              Param #   \n",
            "=================================================================\n",
            "flatten (Flatten)            (None, 784)               0         \n",
            "_________________________________________________________________\n",
            "dense_2 (Dense)              (None, 10)                7850      \n",
            "=================================================================\n",
            "Total params: 7,850\n",
            "Trainable params: 7,850\n",
            "Non-trainable params: 0\n",
            "_________________________________________________________________\n"
          ]
        }
      ]
    },
    {
      "cell_type": "markdown",
      "metadata": {
        "id": "vmgYV_rNnLbh"
      },
      "source": [
        "> ❗️ ***위 모델의 파라미터 수는 총 7,850개입니다. 왜 7,850개가 될 지에 대해 생각해봅시다.***"
      ]
    },
    {
      "cell_type": "code",
      "metadata": {
        "id": "QEIGcMEBQ6-X",
        "colab": {
          "base_uri": "https://localhost:8080/"
        },
        "outputId": "b2b0a6aa-ac0e-4385-f1fd-8e87daa4d71d"
      },
      "source": [
        "# 모델 학습\n",
        "model.fit(X_train, y_train, epochs=10, validation_data=(X_test,y_test))\n",
        "# model.fit(X_train, y_train, epochs=5)"
      ],
      "execution_count": null,
      "outputs": [
        {
          "output_type": "stream",
          "name": "stdout",
          "text": [
            "Epoch 1/10\n",
            "1875/1875 [==============================] - 3s 2ms/step - loss: 0.6010 - accuracy: 0.7971 - val_loss: 0.5208 - val_accuracy: 0.8167\n",
            "Epoch 2/10\n",
            "1875/1875 [==============================] - 3s 1ms/step - loss: 0.4616 - accuracy: 0.8427 - val_loss: 0.4759 - val_accuracy: 0.8338\n",
            "Epoch 3/10\n",
            "1875/1875 [==============================] - 3s 1ms/step - loss: 0.4355 - accuracy: 0.8510 - val_loss: 0.4702 - val_accuracy: 0.8347\n",
            "Epoch 4/10\n",
            "1875/1875 [==============================] - 3s 1ms/step - loss: 0.4223 - accuracy: 0.8538 - val_loss: 0.4745 - val_accuracy: 0.8318\n",
            "Epoch 5/10\n",
            "1875/1875 [==============================] - 3s 1ms/step - loss: 0.4153 - accuracy: 0.8570 - val_loss: 0.4580 - val_accuracy: 0.8383\n",
            "Epoch 6/10\n",
            "1875/1875 [==============================] - 3s 1ms/step - loss: 0.4072 - accuracy: 0.8599 - val_loss: 0.4736 - val_accuracy: 0.8383\n",
            "Epoch 7/10\n",
            "1875/1875 [==============================] - 3s 1ms/step - loss: 0.4035 - accuracy: 0.8599 - val_loss: 0.4466 - val_accuracy: 0.8481\n",
            "Epoch 8/10\n",
            "1875/1875 [==============================] - 2s 1ms/step - loss: 0.3974 - accuracy: 0.8624 - val_loss: 0.4552 - val_accuracy: 0.8424\n",
            "Epoch 9/10\n",
            "1875/1875 [==============================] - 3s 1ms/step - loss: 0.3945 - accuracy: 0.8635 - val_loss: 0.4425 - val_accuracy: 0.8454\n",
            "Epoch 10/10\n",
            "1875/1875 [==============================] - 3s 1ms/step - loss: 0.3930 - accuracy: 0.8635 - val_loss: 0.4513 - val_accuracy: 0.8429\n"
          ]
        },
        {
          "output_type": "execute_result",
          "data": {
            "text/plain": [
              "<keras.callbacks.History at 0x7f9266bda550>"
            ]
          },
          "metadata": {},
          "execution_count": 47
        }
      ]
    },
    {
      "cell_type": "code",
      "metadata": {
        "id": "MXPdYBdgQ9Yr",
        "colab": {
          "base_uri": "https://localhost:8080/"
        },
        "outputId": "ff83f0fe-22a2-49c8-a764-e0f39d7ae882"
      },
      "source": [
        "# 예측\n",
        "model.predict(X_test[0:1])"
      ],
      "execution_count": null,
      "outputs": [
        {
          "output_type": "execute_result",
          "data": {
            "text/plain": [
              "array([[5.62648438e-07, 1.74089614e-08, 1.51180375e-05, 3.10818064e-06,\n",
              "        4.04791763e-06, 5.53222373e-02, 3.58409670e-05, 3.93314958e-02,\n",
              "        6.38620043e-03, 8.98901403e-01]], dtype=float32)"
            ]
          },
          "metadata": {},
          "execution_count": 48
        }
      ]
    },
    {
      "cell_type": "code",
      "metadata": {
        "id": "63o3zxMHQ-xt",
        "colab": {
          "base_uri": "https://localhost:8080/"
        },
        "outputId": "d0c38404-6f00-40ab-a618-9dedc28345b7"
      },
      "source": [
        "# 테스트 데이터 예측 정확도\n",
        "test_loss, test_acc = model.evaluate(X_test,  y_test, verbose=2)"
      ],
      "execution_count": null,
      "outputs": [
        {
          "output_type": "stream",
          "name": "stdout",
          "text": [
            "313/313 - 0s - loss: 0.4513 - accuracy: 0.8429\n"
          ]
        }
      ]
    },
    {
      "cell_type": "markdown",
      "metadata": {
        "id": "46QaqNEyOSNm"
      },
      "source": [
        "## 🧐  Review"
      ]
    },
    {
      "cell_type": "markdown",
      "metadata": {
        "id": "dD89MRJBOU4s"
      },
      "source": [
        "- 처음에 말씀드린 것처럼 오늘 배운 역전파와 경사 하강법은 신경망을 처음 공부할 때 대부분이 가장 어려워 하는 부분입니다.<br/>\n",
        "한 번에 이해가 되지 않는 부분이기 때문에 많은 자료를 찾아보고 처음에는 여러분의 언어로 이해를 해보는 것이 중요합니다.\n",
        "\n",
        "    대략적인 과정은 아래와 같습니다.\n",
        "\n",
        "    1. 신경망(Neural Network)에서 사용할 초기 가중치(파라미터,parameter)를 임의로 설정합니다.\n",
        "    2. 설정한 파라미터를 이용하여 입력 데이터를 신경망에 넣은 후 **<font color=\"ff6f61\">순전파 과정을 거쳐 출력값(Output)을 얻습니다.</font>**\n",
        "    3. 출력값과 타겟(Target, Label)을 비교하여 **<font color=\"ff6f61\">손실(Loss)를 계산</font>**합니다.\n",
        "    4. 손실(Loss)의 Gradient를 계산하여 **<font color=\"ff6f61\">Gradient가 줄어드는 방향으로 가중치를 업데이트</font>**합니다.<br/>\n",
        "    이 때 각 가중치의 Gradient를 계산할 수 있도록 **<font color=\"ff6f61\">손실 정보를 전달하는 과정을 역전파(Backpropagation)</font>**이라고 합니다.\n",
        "    5. 얼마만큼의 데이터를 사용하여 가중치를 어떻게 업데이트 할 지를 결정합니다.<br/>\n",
        "    이를 **<font color=\"ff6f61\">옵티마이저(Optimizer)</font>**라는 하이퍼파라미터로 정해줍니다. (Stochastic or Batch 등...)"
      ]
    },
    {
      "cell_type": "markdown",
      "metadata": {
        "id": "8BBjN1-a52EH"
      },
      "source": [
        "### 🔝 References\n"
      ]
    },
    {
      "cell_type": "markdown",
      "metadata": {
        "id": "1U8M_9dgOPJ6"
      },
      "source": [
        "- [backpropagation example](https://www.youtube.com/watch?v=0e0z28wAWfg)\n",
        "- [Neural network learning by Andrew Ng](https://www.coursera.org/learn/machine-learning/lecture/Wh6s3/putting-it-together)\n",
        "- [An overview of gradient descent optimization algorithms](https://ruder.io/optimizing-gradient-descent/)\n",
        "\n",
        "다음으로는 경사하강법의 변형 중 한 방법인 뉴턴 메소드를 사용한 BFGS(Broyden–Fletcher–Goldfarb–Shanno) 방법을 적용한 신경망으로 학습을 진행해 보겠습니다. (코드 와 설명은 [welch lab](\"https://github.com/stephencwelch/Neural-Networks-Demystified/blob/master/Part%206%20Training.ipynb\") 에서 확인 가능합니다.)"
      ]
    }
  ]
}