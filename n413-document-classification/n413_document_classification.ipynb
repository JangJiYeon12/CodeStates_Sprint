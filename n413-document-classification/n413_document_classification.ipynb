{
  "nbformat": 4,
  "nbformat_minor": 0,
  "metadata": {
    "kernelspec": {
      "display_name": "P41_NLP",
      "language": "python",
      "name": "p41_nlp"
    },
    "language_info": {
      "codemirror_mode": {
        "name": "ipython",
        "version": 3
      },
      "file_extension": ".py",
      "mimetype": "text/x-python",
      "name": "python",
      "nbconvert_exporter": "python",
      "pygments_lexer": "ipython3",
      "version": "3.7.7"
    },
    "colab": {
      "name": "n413-document-classification.ipynb",
      "provenance": [],
      "toc_visible": true
    }
  },
  "cells": [
    {
      "cell_type": "markdown",
      "metadata": {
        "id": "BqbGgvLnsRMK"
      },
      "source": [
        "<img align=\"right\" src=\"https://ds-cs-images.s3.ap-northeast-2.amazonaws.com/Codestates_Fulllogo_Color.png\" width=100>\n",
        "\n",
        "## *DATA SCIENCE / SECTION 4 / SPRINT 1 / NOTE 3*\n",
        "\n",
        "---\n",
        "\n",
        "# Deep Learning for sequence data"
      ]
    },
    {
      "cell_type": "markdown",
      "metadata": {
        "id": "QYrI4-tdsRMY"
      },
      "source": [
        "* 텍스트에서 특성을 추출하고 문서 분류기를 만들 수 있습니다\n",
        "* 잠재의미분석(Latent Semantic Analysis,LSA)을 수행합니다\n",
        "* Spacy 단어 임베딩을 사용합니다"
      ]
    },
    {
      "cell_type": "markdown",
      "metadata": {
        "id": "NV2USpTMsRMZ"
      },
      "source": [
        "### Warm up"
      ]
    },
    {
      "cell_type": "markdown",
      "metadata": {
        "id": "AnvZpCRSsRMZ"
      },
      "source": [
        "skipgram CBOW와 딥러닝\n"
      ]
    },
    {
      "cell_type": "markdown",
      "metadata": {
        "id": "86CIimEi0C_e"
      },
      "source": [
        "---"
      ]
    },
    {
      "cell_type": "markdown",
      "metadata": {
        "id": "by9oie2bzm_t"
      },
      "source": [
        "## 문서를 벡터로 만들기 위해 단어 임베딩을 사용해 봅시다"
      ]
    },
    {
      "cell_type": "markdown",
      "metadata": {
        "id": "dJzjQzJAzm_t"
      },
      "source": [
        "### BoW와 달리 Word2Vec과 같은 단어 임베딩 방법은 문맥(context)정보를 보존합니다\n",
        "\n",
        "BoW는 단어의 존재 여부와 그 빈도 정보를 중요하게 다루는 대신 단어의 순서 정보를 무시하여 단어 주변 문맥정보를 잃어버린다는 단점이 있습니다.\n",
        "\n",
        "이와 달리 단어 임베딩 방법중 하나인 Word2Vec은 문장에서 인접한 단어들의 정보를 중요시 하여 벡터화할 때 문맥 정보를 보존합니다. 그래서 의미적 또는 구조적으로 비슷한 사용법을 가진 단어들을 알 수 있게 됩니다.\n",
        "\n",
        "#### *임베딩이란?*\n",
        "자연어를 컴퓨터가 이해할 수 있는 수의 나열인 벡터 형태로 바꾸는 과정 또는 결과를 의미합니다. 앞서 살펴본 BoW 방법들은 문서를 벡터화 한 것이라 볼 수 있습니다. \n",
        "\n",
        "### Word2Vec 이란?\n",
        "Word2Vec은 구글 연구팀이 발표한(Mikolov et al., 2013) 기법으로 가장 널리 쓰이는 단어 임베딩 모델 중 한 가지 입니다. 단어 임베딩 방법으로는 skip-gram과 CBOW 두 모델이 제안되었습니다. \n",
        "\n",
        "#### 분포가설(Distributional Hypothesis)\n",
        "\n",
        "Word2Vec이 어떻게 문맥 정보를 보존하는지 이해하려면 분포가설([Distributional Hypothesis](https://en.wikipedia.org/wiki/Distributional_semantics))을 알아야 합니다. \n",
        "분포가설은 비슷한 문맥에서 등장하는 단어들은 비슷한 의미를 지닌다는 것 입니다. 여기서 분포(distribution)란 특정 윈도우(window) 범위 안에 동시에 등장하는 이웃 단어나 문맥의 집합을 말합니다. \n",
        "\n",
        "예를 들어 두 문장\n",
        "\n",
        "- I found **good** stores.\n",
        "- I found **bad** stores.\n",
        "\n",
        "에서 **good**과 **bad**은 주변에 분포한 문맥 단어들이 매우 유사함으로 추축하건데 비슷한 의미를 지닐 것이다 라고 가정하는 것 입니다.\n",
        "\n",
        "> \"You shall know a word by the company it keeps\" - John Firth"
      ]
    },
    {
      "cell_type": "markdown",
      "metadata": {
        "id": "X1mrs0MWzm_t"
      },
      "source": [
        "### Word2Vec을 구현하는 방법으로 Skip-Gram을 살펴보겠습니다\n",
        "\n",
        "CBOW, Skip-Gram은 Word2Vec을 구현하는 두 가지 방법입니다.\n",
        "\n",
        "<img src=\"https://www.researchgate.net/publication/304163783/figure/fig11/AS:668313973698561@1536349876279/Neural-Network-Architecture-for-CBoW-and-Skip-Gram-Model.ppm\"/>\n",
        "\n",
        "여기서는 Skip-Gram만 살펴 보겠습니다"
      ]
    },
    {
      "cell_type": "markdown",
      "metadata": {
        "id": "vkk1lF9Lzm_t"
      },
      "source": [
        "<img src=\"http://mccormickml.com/assets/word2vec/skip_gram_net_arch.png\" width=\"800\" />\n",
        "\n",
        "위 그림은 Skip-Gram 신경망 모식도 입니다.([Word2Vec Tutorial - The Skip-Gram Model](http://mccormickml.com/2016/04/19/word2vec-tutorial-the-skip-gram-model/))\n",
        "\n",
        "입력으로 원핫인코딩된 단어벡터가 들어오고 출력부분에서는 입력단어와 다른 모든 단어들이 문맥 단어일 확률값을 계산하게 됩니다.\n",
        "\n",
        "신경망 학습을 위해서는 학습데이터를 구성하는 방법이 중요한데,\n",
        "\n",
        "Skip-Gram 모델은 만들어진 학습데이터에서 타겟단어를 입력받아 주변 단어를 예측하는 과정에서 학습이 됩니다."
      ]
    },
    {
      "cell_type": "markdown",
      "metadata": {
        "id": "-vPot7zlzm_u"
      },
      "source": [
        "\n",
        "예를 들어서 **\"The tortoise jumped into the lake\"** 라는 문장이 있고 윈도우 크기가 2인 경우 다음과 같이 skip-Gram을 학습하기 위한 데이터 쌍을 구축할 수 있습니다.\n",
        "\n",
        "* 타겟: **The**, 주변 문맥단어: tortoise, jumped\n",
        "    * 학습 샘플: (the, tortoise), (the, jumped)\n",
        "* 타겟: **tortoise**, 주변 문맥단어: tortoise, jumped\n",
        "    * 학습 샘플: (tortoise, the), (tortoise, jumped), (tortoise, into)\n",
        "* 타겟: **jumped**, 주변 문맥단어: tortoise, jumped\n",
        "    * 학습 샘플: (jumped, the), (jumped, tortoise), (jumped, into), (jumped, the)\n",
        "* 타겟: **into**, 주변 문맥단어: tortoise, jumped\n",
        "    * 학습 샘플: (into, tortoise), (into, jumped), (into, the), (into, lake)\n",
        "                    ...\n",
        "\n",
        "이런 방법으로 학습 데이터를 만들면 다음과 같은 데이터쌍이 만들어 집니다. 타겟단어를 입력으로, 문맥단어를 레이블로 하여 classification 학습을 진행한다고 생각하시면 됩니다. 전체 코퍼스에서 단어별로 슬라이딩하여 가능한 학습데이터를 모두 생성하고 신경망을 학습합니다.\n",
        "\n",
        "|타겟단어|문맥단어|\n",
        "|---------|---------|\n",
        "|the|tortoise|\n",
        "|the|jumped|\n",
        "|tortoise|the|\n",
        "|tortoise|jumped|\n",
        "|tortoise|into|\n",
        "|jumped|the|\n",
        "|jumped|tortoise|\n",
        "|jumped|into|\n",
        "|jumped|the|\n",
        "|into|tortoise|\n",
        "|into|jumped|\n",
        "|into|the|\n",
        "|into|lake|\n",
        "|...|...|"
      ]
    },
    {
      "cell_type": "markdown",
      "metadata": {
        "id": "dZ_CbX_jzm_u"
      },
      "source": [
        "학습이 다 끝난 후 은닉층의 가중치가 임베딩벡터의 차원이 됩니다. 은닉층의 노드 수를 조절하여 임베딩벡터의 차원을 조절할 수 있겠지요.\n",
        "<img src=\"https://i.imgur.com/1ETMljf.png\" width=\"600\" />\n",
        "\n",
        "학습과정에서 효율을 높이기 위해 사용하는 기법들이 있지만 지금은 아직 신경망을 배우기 전이기 때문에 너무 깊게 들어가지 않겠습니다.\n",
        "\n",
        "결과적으로 skip-gram 모델을 통해 결과로 단어 임베딩 벡터들을 얻게되어 단어, 문장들 간의 관련도 계산, 문서 분류같은 작업에 사용될 수 있습니다.\n",
        "\n",
        "CountVectorizer, TF-IDF을 사용할 때 문맥정보를 보기위해 할 수 있는 최선의 방법은 bi-gram, tri-grams 같은 n-gram을 사용하는 것이었습니다. 하지만 skip-grams은 그 이상을 넘어 보다 강력한 문맥 정보를 제공해 줄 수 있습니다.\n"
      ]
    },
    {
      "cell_type": "markdown",
      "metadata": {
        "id": "UE4WJRCvzm_u"
      },
      "source": [
        "#### CBOW(Continuous Bag of Words)\n",
        "\n",
        "Word2Vec을 구현하는 방법 중 CBOW는 skip-gram과 반대로 주변에 있는 문맥단어들을 가지고 타겟 단어 하나를 맞추는 과정을 통해 학습이 이루어 집니다.\n",
        "예를 들어 입력이 (jumped, the, lake) 일 때 타겟 단어로 'into' 를 예측하며 학습을 합니다.  \n",
        "\n",
        "하지만 Skip-gram이 같은 코퍼스를 사용했을 때 더 많은 학습 데이터를 만들어 낼 수 있기 때문에 임베딩 결과의 품질이 CBOW 보다 좋은 것으로 알려져 있습니다.\n"
      ]
    },
    {
      "cell_type": "markdown",
      "metadata": {
        "id": "h2GGXaIKzm_u"
      },
      "source": [
        "\n",
        "#### 그럼 임베딩 모델 학습은 어떻게 해야 할까요?\n",
        "Word2Vec을 학습시키기 위해서는 충분히 큰 코퍼스를 학습시켜야 한다는 것을 알 수 있습니다. 다행인 것은 이미 충분히 큰 코퍼스들로 학습된 단어 임베딩을 쉽게 찾아 사용할 수 있다는 것입니다. 여러분이 지금까지 사용해온 Spacy 라이브러리의 모델도 Word2Vec 와 유사한 방식으로 학습한 임베딩을 제공합니다. 무지막지하게 큰 [Common Crawl](https://en.wikipedia.org/wiki/Common_Crawl) 데이터를 학습에 사용해 만든 모델이기 때문에 영어의 경우 충분히 대표성을 가진 임베딩이 나올 수 있을 것이라 생각할 수 있겠습니다.\n",
        "\n",
        "이제 spacy를 통해 임베딩을 어떻게 사용하는지 살펴 봅시다."
      ]
    },
    {
      "cell_type": "code",
      "metadata": {
        "id": "EWIVbptuzm_u",
        "outputId": "a57dd60c-ca56-49b3-cc7d-2a2014f96f53"
      },
      "source": [
        "tokens = nlp(\"Dogs and cats school gagasdf\")\n",
        "\n",
        "# vector_norm: 벡터의 크기\n",
        "for token in tokens:\n",
        "    print(token.text, token.has_vector, token.vector_norm)"
      ],
      "execution_count": null,
      "outputs": [
        {
          "output_type": "stream",
          "text": [
            "Dogs True 7.193099\n",
            "and True 4.6577983\n",
            "cats True 6.933004\n",
            "school True 6.7380905\n",
            "gagasdf False 0.0\n"
          ],
          "name": "stdout"
        }
      ]
    },
    {
      "cell_type": "markdown",
      "metadata": {
        "id": "v2TAPfx5zm_u"
      },
      "source": [
        "입력한 문장에 대한 임베딩 벡터를 얻습니다."
      ]
    },
    {
      "cell_type": "code",
      "metadata": {
        "id": "ZIoEr--Vzm_u",
        "outputId": "29e2388d-2b94-4261-9367-97b806bb1d06"
      },
      "source": [
        "vects = tokens.vector\n",
        "print(vects)"
      ],
      "execution_count": null,
      "outputs": [
        {
          "output_type": "stream",
          "text": [
            "[-1.79408014e-01  1.26198798e-01 -1.11785397e-01 -2.83820003e-01\n",
            " -2.62799971e-02  5.58035970e-02 -1.45570010e-01 -5.27487993e-02\n",
            "  1.69332191e-01  1.93045998e+00 -2.79807180e-01  1.38399795e-01\n",
            " -1.85558006e-01  5.02085984e-02 -1.40728995e-01  9.67558026e-02\n",
            "  2.06080005e-01  8.19686055e-01 -1.57560199e-01 -6.11754060e-02\n",
            " -1.73499614e-01 -1.09055400e-01 -4.25813980e-02 -2.84800589e-01\n",
            "  1.65506005e-01 -9.49792042e-02 -2.45875999e-01 -1.76592007e-01\n",
            "  1.02721252e-01 -1.18426010e-01 -9.64230075e-02  2.92337183e-02\n",
            " -8.17720070e-02 -2.63900049e-02  2.31444001e-01  9.93599277e-03\n",
            "  1.33631989e-01 -2.89353997e-01  8.05701874e-03  2.12559611e-01\n",
            "  1.11464588e-02  1.04168795e-01  6.81307912e-03 -1.94971208e-02\n",
            "  7.46979937e-02 -9.89580080e-02 -2.04918385e-01  1.74181998e-01\n",
            "  1.38363212e-01 -1.74419403e-01 -8.65179971e-02 -2.17613988e-02\n",
            "  1.88542008e-02  4.70872000e-02 -9.22998041e-02  2.23565191e-01\n",
            " -3.33181992e-02  6.36455938e-02 -2.20621794e-01  3.23160827e-01\n",
            "  7.06618130e-02 -1.33299991e-01  7.05728009e-02  5.07225990e-02\n",
            "  1.85075998e-02 -1.73200995e-01  1.46570206e-01  2.28904009e-01\n",
            "  1.15869999e-01  1.45907611e-01 -7.41464198e-02 -2.93245306e-03\n",
            "  1.76927999e-01 -1.12230204e-01  2.02573389e-01  3.83340009e-02\n",
            "  4.02077772e-02  3.21223959e-02  2.37526014e-01  2.03440199e-03\n",
            "  4.61397991e-02  1.76907986e-01 -1.65638000e-01  1.10619962e-02\n",
            " -1.38576003e-02 -2.04356030e-01  2.19403982e-01  2.58924007e-01\n",
            "  3.17174017e-01  2.84796022e-02 -2.06128061e-02  6.32442012e-02\n",
            "  1.92617387e-01 -1.55552402e-01  9.87199880e-03 -5.76351993e-02\n",
            "  1.22454248e-01 -1.15851797e-01  3.43279950e-02 -2.05176428e-01\n",
            "  1.57538012e-01  3.03530008e-01  1.66659970e-02 -5.13790026e-02\n",
            "  1.80297971e-01 -5.39748013e-01  2.14044809e-01 -8.67253989e-02\n",
            "  3.15148011e-02 -1.00457408e-01  1.08274005e-01  2.16653999e-02\n",
            "  1.42108604e-01 -4.26528037e-01 -6.20442033e-02 -6.88948408e-02\n",
            " -1.86819993e-02 -9.54598188e-04 -5.10616079e-02  2.23586001e-02\n",
            "  6.64183944e-02  1.26925990e-01  3.90487969e-01 -4.52394426e-01\n",
            " -4.82079992e-03  6.15017936e-02  2.62621999e-01 -3.26151960e-02\n",
            " -1.16785005e-01  3.10663991e-02  1.36915985e-02 -3.22481804e-02\n",
            " -1.79007590e-01  1.52172610e-01  2.93281972e-01 -3.51880044e-02\n",
            " -6.65543973e-02  8.87220055e-02  1.69600800e-01  1.53597400e-01\n",
            " -1.21144199e+00 -3.34477782e-01  2.03879997e-01  2.19875187e-01\n",
            "  1.89845204e-01  5.13368025e-02 -4.38288040e-02  9.24024060e-02\n",
            " -4.63436022e-02 -3.40633988e-02  9.41860117e-03  3.12891975e-02\n",
            " -6.10519946e-02  2.44600587e-02 -1.31334007e-01 -3.30240019e-02\n",
            " -9.23147947e-02  2.20420063e-02 -7.53320083e-02 -4.78557974e-01\n",
            "  1.62741989e-01 -8.43316093e-02 -7.46396035e-02 -2.92490005e-01\n",
            " -1.03690766e-01 -1.79798044e-02 -1.38816804e-01 -2.04536602e-01\n",
            "  3.32040004e-02  3.14394012e-02  2.03837991e-01  1.79215401e-01\n",
            "  1.75188005e-01 -4.60227951e-02 -5.63515946e-02  2.44379997e-01\n",
            " -2.07816407e-01  2.52512813e-01  1.02010593e-01  2.14170814e-01\n",
            "  7.75867999e-02 -1.33704007e-01 -2.19155401e-01  7.01961964e-02\n",
            " -2.02604815e-01 -5.36981598e-02 -1.69788003e-02  7.92500377e-03\n",
            "  5.94210029e-02 -2.57445991e-01 -1.15660593e-01 -2.66319998e-02\n",
            " -2.19249800e-01 -2.91447997e-01 -1.45527408e-01  3.56470019e-01\n",
            "  4.31900024e-02 -3.80075991e-01  3.97520006e-01 -6.94609955e-02\n",
            " -2.37546012e-01 -1.70287006e-02 -1.38436794e-01 -8.76650065e-02\n",
            "  2.73934782e-01  6.83466792e-02  2.27189988e-01 -5.07079959e-02\n",
            "  2.79985994e-01  5.14696017e-02 -2.67293990e-01  3.06694984e-01\n",
            " -1.55797794e-01  3.10354587e-02 -2.70036012e-01 -1.10019602e-01\n",
            "  6.86846003e-02  2.56755412e-01  1.59152038e-02  1.60861403e-01\n",
            " -3.22834030e-02  4.09860015e-02 -1.26569003e-01 -2.85745561e-01\n",
            " -2.96884000e-01  1.23613931e-01 -1.84703991e-01  3.35820019e-01\n",
            "  1.30998015e-01  8.82645994e-02 -2.94773996e-01 -9.63780005e-03\n",
            " -3.65859978e-02 -1.06170796e-01  2.74767399e-01  8.46758038e-02\n",
            "  1.10649601e-01 -1.13876007e-01  2.25924999e-01 -1.33907586e-01\n",
            " -4.24908698e-01 -5.14791980e-02 -2.08838016e-01 -7.06599932e-03\n",
            " -5.62896021e-02  3.76334004e-02 -3.46244395e-01  7.22953975e-02\n",
            " -2.02894002e-01 -4.09839908e-03 -3.69865410e-02  1.78002000e-01\n",
            " -1.16780594e-01  1.06330000e-01  1.23366609e-01  5.25748022e-02\n",
            " -1.09817997e-01 -1.42497614e-01 -1.29482403e-01 -1.83818005e-02\n",
            "  1.13296404e-01 -1.46337777e-01 -2.18502015e-01 -8.41268003e-02\n",
            "  2.72519998e-02  1.13252386e-01 -2.62620002e-01 -1.49156868e-01\n",
            " -4.07759566e-03  6.72063977e-02 -2.86052585e-01  2.65085995e-01\n",
            " -1.78678796e-01 -8.74760188e-03 -7.27500161e-03 -1.13103958e-02\n",
            "  4.27139997e-02  2.53716201e-01 -1.54976606e-01  4.04243991e-02\n",
            "  4.32590023e-02  1.28732011e-01 -1.57697603e-01 -1.35332197e-01\n",
            "  1.16097197e-01  2.14821100e-01  3.52397978e-01 -2.47403592e-01\n",
            " -7.57020712e-03 -7.91880041e-02 -1.05859995e-01 -3.32543790e-01\n",
            "  1.85099952e-02  1.60729602e-01 -1.59693107e-01  3.80479395e-01\n",
            "  6.79079965e-02 -1.03840396e-01  1.02859996e-01 -9.37639922e-02]\n"
          ],
          "name": "stdout"
        }
      ]
    },
    {
      "cell_type": "code",
      "metadata": {
        "id": "gz7KEIRTzm_v",
        "outputId": "7c2870bb-c477-4916-8a8f-5e7f07459d7c"
      },
      "source": [
        "# 벡터의 차원을 보겠습니다\n",
        "len(vects)"
      ],
      "execution_count": null,
      "outputs": [
        {
          "output_type": "execute_result",
          "data": {
            "text/plain": [
              "300"
            ]
          },
          "metadata": {
            "tags": []
          },
          "execution_count": 46
        }
      ]
    },
    {
      "cell_type": "code",
      "metadata": {
        "id": "cxk_Lof6zm_v",
        "outputId": "bb82b2a1-e4b2-4257-8d08-ee4bf0b18227"
      },
      "source": [
        "# 두 문서를 만들어 코사인 유사도를 측정해 보겠습니다\n",
        "doc1 = nlp(\"I found a wonderful restaurant\")\n",
        "doc2 = nlp(\"the food is delicious\")\n",
        "\n",
        "similarity = doc1.similarity(doc2)\n",
        "print(similarity)"
      ],
      "execution_count": null,
      "outputs": [
        {
          "output_type": "stream",
          "text": [
            "0.792971253536227\n"
          ],
          "name": "stdout"
        }
      ]
    },
    {
      "cell_type": "code",
      "metadata": {
        "id": "YikT-Qsizm_v",
        "outputId": "e870a3c7-9099-4653-8d22-254535f2e5ad"
      },
      "source": [
        "doc3 = nlp(\"The restaurant we found yesterday is wonderful\")\n",
        "\n",
        "print(doc1.similarity(doc3))"
      ],
      "execution_count": null,
      "outputs": [
        {
          "output_type": "stream",
          "text": [
            "0.9173849797280267\n"
          ],
          "name": "stdout"
        }
      ]
    },
    {
      "cell_type": "code",
      "metadata": {
        "id": "ME-aYDw4zm_v",
        "outputId": "d99fab42-933a-425a-9772-3d4e24d30715"
      },
      "source": [
        "car = nlp('car')\n",
        "bus = nlp('bus')\n",
        "human = nlp('human')\n",
        "monkey = nlp('monkey')\n",
        "lion = nlp('lion')\n",
        "gorilla = nlp('gorilla')\n",
        "avengers = nlp('avengers')\n",
        "marvel = nlp('marvel')\n",
        "\n",
        "print('car vs bus : ', car.similarity(bus))\n",
        "print('bus vs human : ', bus.similarity(human))\n",
        "print('human vs monkey : ', human.similarity(monkey))\n",
        "print('human vs lion : ', human.similarity(lion))\n",
        "print('monkey vs gorilla : ', monkey.similarity(gorilla))\n",
        "print('avengers vs marvel : ', avengers.similarity(marvel))"
      ],
      "execution_count": null,
      "outputs": [
        {
          "output_type": "stream",
          "text": [
            "car vs bus :  0.4816960149829203\n",
            "bus vs human :  0.12412277316164501\n",
            "human vs monkey :  0.39899946231157096\n",
            "human vs lion :  0.27611871750909667\n",
            "monkey vs gorilla :  0.6525881793034227\n",
            "avengers vs marvel :  0.5988409089010447\n"
          ],
          "name": "stdout"
        }
      ]
    },
    {
      "cell_type": "markdown",
      "metadata": {
        "id": "G013Wj9Szm_v"
      },
      "source": [
        "### PCA를 사용한 벡터 시각화\n",
        "300 차원인 벡터들은 시각화 하기 어렵기 때문에 PCA를 사용해 2차원으로 변환해 보겠습니다."
      ]
    },
    {
      "cell_type": "code",
      "metadata": {
        "id": "b7TbDo6Vzm_w",
        "outputId": "94d0cbd9-5cd0-4a93-c017-d4631bb4f528"
      },
      "source": [
        "from sklearn.decomposition import PCA\n",
        "\n",
        "def get_word_vectors(words):\n",
        "    # 단어 벡터로 변환합니다\n",
        "    return [nlp(word).vector for word in words]\n",
        "\n",
        "words = ['car', 'truck', 'suv', 'bus', 'human', 'man', 'woman', 'monkey', 'fish' , 'shark', 'lion', 'tiger', 'avengers', 'marvel', 'thor', 'comics', 'superhero']\n",
        "\n",
        "# PCA 모델의 차원을 설정하여 \n",
        "pca = PCA(n_components=2)\n",
        "\n",
        "# Fit & Transform\n",
        "word_vect_2d = pca.fit_transform(get_word_vectors(words))\n",
        "\n",
        "# 각 벡터가 300 차원에서 2차원으로 줄어 든 것을 확인 할 수 있습니다\n",
        "word_vect_2d"
      ],
      "execution_count": null,
      "outputs": [
        {
          "output_type": "execute_result",
          "data": {
            "text/plain": [
              "array([[-3.66200993, -3.32131749],\n",
              "       [-3.546578  , -2.85085021],\n",
              "       [-1.79310422, -3.71355107],\n",
              "       [-3.06282644, -2.17552236],\n",
              "       [-0.32817602,  1.3725565 ],\n",
              "       [-1.07378983,  0.56357398],\n",
              "       [-1.38479131,  0.34247838],\n",
              "       [-0.32481679,  2.04812646],\n",
              "       [-1.69068704,  3.8972493 ],\n",
              "       [-0.79176752,  3.43002251],\n",
              "       [-0.28481803,  2.75749512],\n",
              "       [-0.77280682,  3.10963932],\n",
              "       [ 4.97271183, -1.21201458],\n",
              "       [ 2.90881958, -0.6911009 ],\n",
              "       [ 3.43790293, -1.18524999],\n",
              "       [ 3.76755523, -1.36028237],\n",
              "       [ 3.62918236, -1.0112526 ]])"
            ]
          },
          "metadata": {
            "tags": []
          },
          "execution_count": 50
        }
      ]
    },
    {
      "cell_type": "code",
      "metadata": {
        "id": "Jj6SRS1Pzm_w",
        "outputId": "9c097e9b-c7a0-4139-8303-ec817c31df01"
      },
      "source": [
        "# 결과가 잘 보이도록 크기를 설정합니다\n",
        "plt.figure(figsize=(15,10))\n",
        "\n",
        "# 단어벡터를 그립니다\n",
        "plt.scatter(word_vect_2d[:,0], word_vect_2d[:,1])\n",
        "\n",
        "# 점 옆에 단어를 표시합니다\n",
        "for word, coord in zip(words, word_vect_2d):\n",
        "    x, y = coord\n",
        "    plt.text(x, y, word, size= 15)\n",
        "\n",
        "plt.show()"
      ],
      "execution_count": null,
      "outputs": [
        {
          "output_type": "display_data",
          "data": {
            "image/png": "[encoded data removed]",
            "text/plain": [
              "<Figure size 1080x720 with 1 Axes>"
            ]
          },
          "metadata": {
            "tags": []
          }
        }
      ]
    },
    {
      "cell_type": "code",
      "metadata": {
        "id": "H3b47N6mzm_w",
        "outputId": "d257e2b1-1317-408d-f464-6a4ed133846b"
      },
      "source": [
        "# 벡터 연산을 통해 단어간의 관계를 추론할 수 있습니다\n",
        "\n",
        "from scipy.spatial.distance import cosine\n",
        "\n",
        "king = nlp(\"king\").vector\n",
        "queen = nlp(\"queen\").vector\n",
        "man = nlp(\"man\").vector\n",
        "woman = nlp(\"woman\").vector\n",
        "\n",
        "# 단어벡터가 의미를 가진다면 다음과 같은 연산을 통해 result는 queen과 비슷한 뜻이 되겠지요?\n",
        "result = king - man + woman\n",
        "\n",
        "print(\"similarity between queen and (king - man + woman) : \", 1 - cosine(queen, result))"
      ],
      "execution_count": null,
      "outputs": [
        {
          "output_type": "stream",
          "text": [
            "similarity between queen and (king - man + woman) :  0.7880843877792358\n"
          ],
          "name": "stdout"
        }
      ]
    },
    {
      "cell_type": "markdown",
      "metadata": {
        "id": "OaD2wI5Fzm_w"
      },
      "source": [
        "### 문서에서 벡터화 하여 KNN으로 검색해 보겠습니다."
      ]
    },
    {
      "cell_type": "markdown",
      "metadata": {
        "id": "zDISNXc4zm_w"
      },
      "source": [
        "Spacy를 사용해 문서를 임베딩 하겠습니다."
      ]
    },
    {
      "cell_type": "code",
      "metadata": {
        "id": "L0c8IwrFzm_w"
      },
      "source": [
        "X = [nlp(str(d)).vector for d in data]"
      ],
      "execution_count": null,
      "outputs": []
    },
    {
      "cell_type": "code",
      "metadata": {
        "id": "bmd4YJitzm_x",
        "outputId": "c3d16d64-abaa-456b-d638-1b8ed6fba26d"
      },
      "source": [
        "pd.DataFrame(X).shape"
      ],
      "execution_count": null,
      "outputs": [
        {
          "output_type": "execute_result",
          "data": {
            "text/plain": [
              "(401, 300)"
            ]
          },
          "metadata": {
            "tags": []
          },
          "execution_count": 54
        }
      ]
    },
    {
      "cell_type": "markdown",
      "metadata": {
        "id": "V3wQZmRszm_x"
      },
      "source": [
        "단어 queen 과 가장 유사한 단어를 찾아 보겠습니다."
      ]
    },
    {
      "cell_type": "code",
      "metadata": {
        "id": "_7VFnEk3zm_x"
      },
      "source": [
        "import numpy as np\n",
        "most_similar= nlp.vocab.vectors.most_similar(np.array([queen]), n=10)"
      ],
      "execution_count": null,
      "outputs": []
    },
    {
      "cell_type": "code",
      "metadata": {
        "id": "lkn5Ez4Nzm_x",
        "outputId": "fa3e63f1-9dc7-498e-8b7a-f72d6c1fb1ea"
      },
      "source": [
        "# return tuple: (keys, best_rows, scores)\n",
        "most_similar"
      ],
      "execution_count": null,
      "outputs": [
        {
          "output_type": "execute_result",
          "data": {
            "text/plain": [
              "(array([[ 5247273317732208552,  4176741725343376093, 10168488388102651113,\n",
              "         15897987006174384596,  6350019949300993244,  6861946004817705414,\n",
              "         13176088972490086564,  7102492827649024548,  7464393751932445219,\n",
              "         14826469074451677028]], dtype=uint64),\n",
              " array([[ 59856,   6026,   5310,  11962,  16454, 172357, 391588,  27270,\n",
              "           3150,   2183]], dtype=int32),\n",
              " array([[1.    , 1.    , 1.    , 0.7322, 0.7322, 0.7322, 0.7253, 0.7253,\n",
              "         0.7253, 0.7253]], dtype=float32))"
            ]
          },
          "metadata": {
            "tags": []
          },
          "execution_count": 56
        }
      ]
    },
    {
      "cell_type": "code",
      "metadata": {
        "id": "1PPhPcLnzm_x",
        "outputId": "e7555377-827e-4701-a602-d2fd62ebd945"
      },
      "source": [
        "most_similar[0][0]"
      ],
      "execution_count": null,
      "outputs": [
        {
          "output_type": "execute_result",
          "data": {
            "text/plain": [
              "array([ 5247273317732208552,  4176741725343376093, 10168488388102651113,\n",
              "       15897987006174384596,  6350019949300993244,  6861946004817705414,\n",
              "       13176088972490086564,  7102492827649024548,  7464393751932445219,\n",
              "       14826469074451677028], dtype=uint64)"
            ]
          },
          "metadata": {
            "tags": []
          },
          "execution_count": 57
        }
      ]
    },
    {
      "cell_type": "code",
      "metadata": {
        "id": "IIe5U3i_zm_x",
        "outputId": "9c715d94-eda3-4489-ff92-5970336bc374"
      },
      "source": [
        "for key in most_similar[0][0]:\n",
        "    print(nlp.vocab[key].text,)"
      ],
      "execution_count": null,
      "outputs": [
        {
          "output_type": "stream",
          "text": [
            "QUEEN\n",
            "queen\n",
            "Queen\n",
            "queens\n",
            "Queens\n",
            "QUEENS\n",
            "KIng\n",
            "KING\n",
            "king\n",
            "King\n"
          ],
          "name": "stdout"
        }
      ]
    },
    {
      "cell_type": "markdown",
      "metadata": {
        "id": "mofOq3YFzm_x"
      },
      "source": [
        "문서 임베딩 벡터로 NN 모델을 학습합니다."
      ]
    },
    {
      "cell_type": "code",
      "metadata": {
        "id": "u0rhepyczm_y",
        "outputId": "a03c1b25-8d90-4d70-82ee-82f7bb45a9cb"
      },
      "source": [
        "nn_spacy = NearestNeighbors(n_neighbors=5, algorithm='kd_tree')\n",
        "nn_spacy.fit(X)"
      ],
      "execution_count": null,
      "outputs": [
        {
          "output_type": "execute_result",
          "data": {
            "text/plain": [
              "NearestNeighbors(algorithm='kd_tree')"
            ]
          },
          "metadata": {
            "tags": []
          },
          "execution_count": 59
        }
      ]
    },
    {
      "cell_type": "markdown",
      "metadata": {
        "id": "qguG8vlSzm_y"
      },
      "source": [
        "Tfidf 벡터로 찾은 0번째 문서와 가장 유사한 문서 5개를 보겠습니다."
      ]
    },
    {
      "cell_type": "code",
      "metadata": {
        "id": "j8RKZX3rzm_y",
        "outputId": "cf4eb316-9218-41ed-84e6-0680e7e413a1"
      },
      "source": [
        "nn.kneighbors([dtm.iloc[0].values])"
      ],
      "execution_count": null,
      "outputs": [
        {
          "output_type": "execute_result",
          "data": {
            "text/plain": [
              "(array([[0.        , 0.        , 1.10314436, 1.12437104, 1.15991512]]),\n",
              " array([[  0,  62,  92, 297, 300]]))"
            ]
          },
          "metadata": {
            "tags": []
          },
          "execution_count": 60
        }
      ]
    },
    {
      "cell_type": "markdown",
      "metadata": {
        "id": "h27I70iizm_y"
      },
      "source": [
        "Spacy 임베딩 모델로 찾아 봅시다."
      ]
    },
    {
      "cell_type": "code",
      "metadata": {
        "id": "KyJkr41Ozm_y",
        "outputId": "f90b0d71-9fee-4a66-a4bc-361e9e25ccfa"
      },
      "source": [
        "nn_spacy.kneighbors([X[0]])"
      ],
      "execution_count": null,
      "outputs": [
        {
          "output_type": "execute_result",
          "data": {
            "text/plain": [
              "(array([[0.        , 0.        , 0.49605979, 0.50772691, 0.50784463]]),\n",
              " array([[62,  0, 92, 83, 52]]))"
            ]
          },
          "metadata": {
            "tags": []
          },
          "execution_count": 61
        }
      ]
    },
    {
      "cell_type": "markdown",
      "metadata": {
        "id": "-_I7YIPezm_y"
      },
      "source": [
        "문서62는 문서0과 동일하고 그 외, 문서 92를 가장 가깝다고 합니다."
      ]
    },
    {
      "cell_type": "code",
      "metadata": {
        "id": "aOm9h2Xczm_z",
        "outputId": "969c78e3-ebe8-4dbd-ca96-1707ca04ff53"
      },
      "source": [
        "print(data[0][:150],'\\n')\n",
        "print(data[92][:150])"
      ],
      "execution_count": null,
      "outputs": [
        {
          "output_type": "stream",
          "text": [
            "b\"Mobiles rack up 20 years of use\\n\\nMobile phones in the UK are celebrating their 20th anniversary this weekend.\\n\\nBritain's first mobile phone call was m\" \n",
            "\n",
            "b'Finding new homes for old phones\\n\\nRe-using old mobile phones is not just good for the environment, it has social benefits too.\\n\\nResearch has found tha'\n"
          ],
          "name": "stdout"
        }
      ]
    },
    {
      "cell_type": "code",
      "metadata": {
        "id": "RfrGRJ9jzm_z",
        "outputId": "b960d7bd-fe05-449b-f2ef-31b82983dc99"
      },
      "source": [
        "# spacy\n",
        "print(data[83][:150])"
      ],
      "execution_count": null,
      "outputs": [
        {
          "output_type": "stream",
          "text": [
            "b'Looks and music to drive mobiles\\n\\nMobile phones are still enjoying a boom time in sales, according to research from technology analysts Gartner.\\n\\nMore'\n"
          ],
          "name": "stdout"
        }
      ]
    },
    {
      "cell_type": "code",
      "metadata": {
        "id": "-3p_sIqhzm_z",
        "outputId": "e513fa82-339e-426e-ec92-ec40004b9400"
      },
      "source": [
        "# tfidf\n",
        "print(data[297][:150])"
      ],
      "execution_count": null,
      "outputs": [
        {
          "output_type": "stream",
          "text": [
            "b\"'Friends fear' with lost mobiles\\n\\nPeople are becoming so dependent on their mobile phones that one in three are concerned that losing their phone woul\"\n"
          ],
          "name": "stdout"
        }
      ]
    },
    {
      "cell_type": "markdown",
      "metadata": {
        "id": "YvcIzQyjzm_z"
      },
      "source": [
        "지금까지 자연어를 벡터로 표현하는 방법들에 대해 살펴보았습니다. Bag-of-Words 모델 중 단어의 출현 빈도를 사용해 텍스트 문서를 벡터로 변환하는 CounterVectorizer를 사용해 보았고, 문서별 단어의 빈도를 계산해 가중치를 적용한 TfidfVectorizer를 사용해 보았습니다.\n",
        "\n",
        "이렇게 변환된 벡터는 코사인 유사도와 같은 방법을 통해 문서들 간 유사성을 수치로 나타낼 수 있었습니다. 문서들이 많을 때 코사인 유사도를 다 적용해서 가장 가까운 문서를 찾는 방법은 효율적이지 않습니다. 그래서 K-NN과 같은 트리 기반 알고리즘을 사용해 가장 가까운 K개의 문서를 빠르게 검색할 수 있었습니다.\n",
        "\n",
        "BoW는 단어의 존재와 빈도를 중요시 여기는 대신 단어들의 순서정보를 무시하여 주변 문맥 정보가 없어지는 단점이 있었습니다. Word2Vec과 같은 담어 임베딩 방법은 벡터 생성 과정 중에 문맥 정보를 보존하여 유사한 의미를 가진 단어나 문장은 는 유사도가 큰 벡터가 됩니다."
      ]
    },
    {
      "cell_type": "markdown",
      "metadata": {
        "id": "Za4R7MaesRMZ"
      },
      "source": [
        "---"
      ]
    },
    {
      "cell_type": "markdown",
      "metadata": {
        "id": "cTiSKYt5sRMa"
      },
      "source": [
        "여러분은 이미 머신러닝을 이용해 분류기를 학습시킬 수 있습니다. 그리고 텍스트 문서에서 어떻게 특성들을 추출하는지 배웠습니다. 이제 텍스트 문서를 분류하는 모델을 만들 차례 입니다!"
      ]
    },
    {
      "cell_type": "markdown",
      "metadata": {
        "id": "x1MMsFrssRMa"
      },
      "source": [
        "## 텍스트에서 특성들을 추출하고 문서 분류기를 만들어 보겠습니다."
      ]
    },
    {
      "cell_type": "markdown",
      "metadata": {
        "id": "NzrqZrDZsRMa"
      },
      "source": [
        "Sklearn 파이프라인을 사용하면 머신러닝 프로세스에 사용되는 여러 컴포넌트들을 쉽게 연결할 수 있었습니다.\n",
        "\n",
        "이번에는 파이프라인을 이용해 코퍼스 입력, 차원 축소, 학습 프로세스를 진행해 보겠습니다.\n",
        "\n",
        "벡터화 과정중에 n-gram 범위, 최대 토큰의 수 같은 하이퍼파라미터들을 수정해 가며 실험을 해 보아야 합니다."
      ]
    },
    {
      "cell_type": "code",
      "metadata": {
        "id": "GWHQ3Nu9sRMa"
      },
      "source": [
        "from sklearn.pipeline import Pipeline\n",
        "from sklearn.datasets import fetch_20newsgroups\n",
        "from sklearn.ensemble import RandomForestClassifier\n",
        "from sklearn.model_selection import GridSearchCV\n",
        "from sklearn.feature_extraction.text import TfidfVectorizer"
      ],
      "execution_count": 9,
      "outputs": []
    },
    {
      "cell_type": "markdown",
      "metadata": {
        "id": "KBI6ri-rsRMb"
      },
      "source": [
        "20개 뉴스그룹으로 분류된 18,000개의 뉴스그룹 문서 데이터셋 입니다.\n",
        "- [20newsgroups](https://scikit-learn.org/stable/datasets/index.html#the-20-newsgroups-text-dataset)\n",
        "- 전자와 정치에 관한 두 개의 다른 카테고리 뉴스를 가져오겠습니다.\n"
      ]
    },
    {
      "cell_type": "code",
      "metadata": {
        "id": "UEjMkWtSsRMb",
        "outputId": "43d5976c-8a25-4b05-b905-8850a2d9cd7b",
        "colab": {
          "base_uri": "https://localhost:8080/"
        }
      },
      "source": [
        "categories = ['sci.electronics',\n",
        "              'talk.politics.misc']\n",
        "\n",
        "ng_train = fetch_20newsgroups(subset='train'\n",
        "                             , remove=('headers', 'footers', 'quotes')\n",
        "                             , categories=categories\n",
        "                             )\n",
        "\n",
        "ng_test = fetch_20newsgroups(subset='test'\n",
        "                             , remove=('headers', 'footers', 'quotes')\n",
        "                             , categories=categories\n",
        "                             )"
      ],
      "execution_count": 10,
      "outputs": [
        {
          "output_type": "stream",
          "text": [
            "Downloading 20news dataset. This may take a few minutes.\n",
            "Downloading dataset from https://ndownloader.figshare.com/files/5975967 (14 MB)\n"
          ],
          "name": "stderr"
        }
      ]
    },
    {
      "cell_type": "markdown",
      "metadata": {
        "id": "lR9OEW6zsRMo"
      },
      "source": [
        "## Spacy 단어 임베딩을 사용합니다"
      ]
    },
    {
      "cell_type": "code",
      "metadata": {
        "id": "DkTWpYU0sRMo"
      },
      "source": [
        "import spacy\n",
        "nlp = spacy.load(\"en_core_web_sm\")"
      ],
      "execution_count": 2,
      "outputs": []
    },
    {
      "cell_type": "code",
      "metadata": {
        "id": "t2_r88G2sRMp"
      },
      "source": [
        "doc = nlp(\"The tortoise jumped into the lake\")"
      ],
      "execution_count": 3,
      "outputs": []
    },
    {
      "cell_type": "markdown",
      "metadata": {
        "id": "zgN3zdP7sRMp"
      },
      "source": [
        "Spacy는 기본적으로 300차원으로 임베딩 합니다."
      ]
    },
    {
      "cell_type": "code",
      "metadata": {
        "id": "9Qq8woicsRMp",
        "outputId": "c3926098-0271-4e32-fc45-907f424a8cf1",
        "colab": {
          "base_uri": "https://localhost:8080/"
        }
      },
      "source": [
        "len(doc.vector)"
      ],
      "execution_count": 4,
      "outputs": [
        {
          "output_type": "execute_result",
          "data": {
            "text/plain": [
              "96"
            ]
          },
          "metadata": {
            "tags": []
          },
          "execution_count": 4
        }
      ]
    },
    {
      "cell_type": "code",
      "metadata": {
        "id": "G87Wt29ysRMp"
      },
      "source": [
        "def get_word_vectors(docs):\n",
        "    return [nlp(doc).vector for doc in docs]"
      ],
      "execution_count": 5,
      "outputs": []
    },
    {
      "cell_type": "code",
      "metadata": {
        "id": "slM9zTCQsRMp",
        "outputId": "c3800f45-7d0c-43be-8c7a-ceec462c6cc2",
        "colab": {
          "base_uri": "https://localhost:8080/"
        }
      },
      "source": [
        "%%time\n",
        "X_spacy = get_word_vectors(ng_train.data)\n",
        "\n",
        "len(X_spacy) == len(ng_train.data)"
      ],
      "execution_count": 11,
      "outputs": [
        {
          "output_type": "stream",
          "text": [
            "CPU times: user 45.2 s, sys: 1.41 s, total: 46.6 s\n",
            "Wall time: 46.7 s\n"
          ],
          "name": "stdout"
        }
      ]
    },
    {
      "cell_type": "code",
      "metadata": {
        "id": "i0ih4d8rsRMp",
        "outputId": "ed0b3df4-273d-4e91-f195-6e63ac4460e8",
        "colab": {
          "base_uri": "https://localhost:8080/"
        }
      },
      "source": [
        "%%time\n",
        "X_test_spacy = get_word_vectors(ng_test.data)"
      ],
      "execution_count": 12,
      "outputs": [
        {
          "output_type": "stream",
          "text": [
            "CPU times: user 27.1 s, sys: 884 ms, total: 28 s\n",
            "Wall time: 28.1 s\n"
          ],
          "name": "stdout"
        }
      ]
    },
    {
      "cell_type": "markdown",
      "metadata": {
        "id": "oRI8Dd6ssRMp"
      },
      "source": [
        "랜덤포레스트로 학습해 보겠습니다."
      ]
    },
    {
      "cell_type": "code",
      "metadata": {
        "id": "glk-XdKHsRMq"
      },
      "source": [
        "rfc.fit(X_spacy, ng_train.target)"
      ],
      "execution_count": null,
      "outputs": []
    },
    {
      "cell_type": "code",
      "metadata": {
        "id": "QofFi3RosRMq"
      },
      "source": [
        "y_test_spacy = rfc.predict(X_test_spacy)\n",
        "accuracy_score(ng_test.target, y_test_spacy)"
      ],
      "execution_count": null,
      "outputs": []
    },
    {
      "cell_type": "markdown",
      "metadata": {
        "id": "_2h6lOEWsRMq"
      },
      "source": [
        "#### MLP(Multi-layer perceptron classifier)를 간단히 사용해보겠습니다"
      ]
    },
    {
      "cell_type": "code",
      "metadata": {
        "id": "IMZjPbIMsRMq"
      },
      "source": [
        "from sklearn.neural_network import MLPClassifier\n",
        "\n",
        "clf = MLPClassifier(solver='lbfgs'\n",
        "                   , alpha=1e-5\n",
        "                   , hidden_layer_sizes=(16,2)\n",
        "                   , random_state=2\n",
        "                   )"
      ],
      "execution_count": null,
      "outputs": []
    },
    {
      "cell_type": "code",
      "metadata": {
        "id": "kRBUP4EFsRMq"
      },
      "source": [
        "clf.fit(X_spacy, ng_train.target)"
      ],
      "execution_count": null,
      "outputs": []
    },
    {
      "cell_type": "code",
      "metadata": {
        "id": "010opTQUsRMq"
      },
      "source": [
        "clf.get_params()"
      ],
      "execution_count": null,
      "outputs": []
    },
    {
      "cell_type": "code",
      "metadata": {
        "id": "bAV_KM0WsRMq"
      },
      "source": [
        "y_test = clf.predict(X_test_spacy)\n",
        "accuracy_score(ng_test.target, y_test_spacy)"
      ],
      "execution_count": null,
      "outputs": []
    },
    {
      "cell_type": "markdown",
      "metadata": {
        "id": "yoC3ScQR0_gS"
      },
      "source": [
        "---\n"
      ]
    },
    {
      "cell_type": "markdown",
      "metadata": {
        "id": "ENLLcbmksRMr"
      },
      "source": [
        "## 참고자료\n",
        "\n",
        "#### Text Classification\n",
        "- [Text Classification](https://developers.google.com/machine-learning/guides/text-classification)\n",
        "- [Text Classification using scikit-learn](https://towardsdatascience.com/machine-learning-nlp-text-classification-using-scikit-learn-python-and-nltk-c52b92a7c73a)\n",
        "\n",
        "#### SVD\n",
        "- [특이값 분해(SVD)](https://angeloyeo.github.io/2019/08/01/SVD.html)\n",
        "- [Singular Value Decomposition (the SVD)](https://youtu.be/mBcLRGuAFUk)\n",
        "- [특이값 분해(Singular Value Decomposition, SVD)의 활용](https://darkpgmr.tistory.com/106)\n",
        "- [Singular Value Decomposition (SVD) tutorial](https://web.mit.edu/be.400/www/SVD/Singular_Value_Decomposition.htm)\n",
        "- [numpy 벡터와 행렬연산 참고자료](https://ebbnflow.tistory.com/159)\n",
        "- [Image Compression with SVD](http://fourier.eng.hmc.edu/e161/lectures/svdcompression.html)\n",
        "- [Latent semantic indexing](https://nlp.stanford.edu/IR-book/html/htmledition/latent-semantic-indexing-1.html)\n",
        "\n"
      ]
    }
  ]
}