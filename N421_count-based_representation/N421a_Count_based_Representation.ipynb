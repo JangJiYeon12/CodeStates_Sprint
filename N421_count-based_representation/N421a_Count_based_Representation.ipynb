{
 "cells": [
  {
   "cell_type": "markdown",
   "metadata": {
    "id": "za56W96DnxVC"
   },
   "source": [
    "<img align=\"right\" src=\"https://ds-cs-images.s3.ap-northeast-2.amazonaws.com/Codestates_Fulllogo_Color.png\" width=100>\n",
    "\n",
    "## *DATA SCIENCE / SECTION 4 / SPRINT 2 / NOTE 1*\n",
    "\n",
    "# 📝 Assignment\n",
    "\n",
    "---\n",
    "\n",
    "\n",
    "# Count-based_Representation"
   ]
  },
  {
   "cell_type": "markdown",
   "metadata": {
    "id": "68CzOVminxVR"
   },
   "source": [
    "indeed.com 에서 Data Scientist 키워드로 Job descrition을 찾아 스크래핑한 데이터를 이용해 과제를 진행해 보겠습니다.\n",
    "\n",
    "[Data_Scienties.csv](https://ds-lecture-data.s3.ap-northeast-2.amazonaws.com/indeed/Data_Scientist.csv) 파일에는 1300여개의 Data Scientist job description 정보가 담겨 있습니다."
   ]
  },
  {
   "cell_type": "markdown",
   "metadata": {
    "id": "Fon1gvE36a9Q"
   },
   "source": [
    "## 1. 데이터 전처리 (Text preprocessing)"
   ]
  },
  {
   "cell_type": "code",
   "execution_count": 1,
   "metadata": {
    "id": "cnvZzxM4EVMh"
   },
   "outputs": [],
   "source": [
    "import re\n",
    "import string\n",
    "\n",
    "import numpy as np\n",
    "import pandas as pd\n",
    "import matplotlib.pyplot as plt"
   ]
  },
  {
   "cell_type": "markdown",
   "metadata": {
    "id": "U1w7-dwwF5rW"
   },
   "source": [
    "### 0) 텍스트 분석에 앞서 데이터 전처리를 진행합니다."
   ]
  },
  {
   "cell_type": "markdown",
   "metadata": {
    "id": "3Omo3_B1FT_I"
   },
   "source": [
    "- 파일을 불러온 후 title, company, description 에 해당하는 Column만 남겨주세요.\n",
    "- 중복값을 제거하세요."
   ]
  },
  {
   "cell_type": "code",
   "execution_count": 2,
   "metadata": {
    "id": "IwdNT6hmEPhq"
   },
   "outputs": [],
   "source": [
    "df = pd.read_csv('https://ds-lecture-data.s3.ap-northeast-2.amazonaws.com/indeed/Data_Scientist.csv')"
   ]
  },
  {
   "cell_type": "markdown",
   "metadata": {
    "id": "JepbPJw5nxVT"
   },
   "source": [
    "### 1) 토큰을 정제합니다."
   ]
  },
  {
   "cell_type": "markdown",
   "metadata": {
    "id": "8Mq6oYCdQ0cZ"
   },
   "source": [
    "- 문자를 소문자로 통일\n",
    "- 분석에 관련 없는 정보 제거\n",
    "- 이번 과제는 `spacy` 로부터 `\"en_core_web_sm\"` 을 로드하여 진행해주세요.\n",
    "\n",
    "- **문항 1) 대문자를 소문자로 변경하는 함수를 입력하세요.**\n",
    "- **문항 2) 정규 표현식을 사용하여 re 라이브러리에서 알파벳 소문자, 숫자만 받을 수 있는 코드를 작성하세요.**"
   ]
  },
  {
   "cell_type": "code",
   "execution_count": null,
   "metadata": {
    "id": "_VBRkXS6nxVT"
   },
   "outputs": [],
   "source": [
    "import spacy\n",
    "from spacy.tokenizer import Tokenizer\n",
    "\n",
    "nlp = spacy.load(\"en_core_web_sm\")\n",
    "tokenizer = Tokenizer(nlp.vocab)"
   ]
  },
  {
   "cell_type": "markdown",
   "metadata": {
    "id": "RdgRqlzsnxVT"
   },
   "source": [
    "### 2) 정제한 토큰을 시각화 합니다."
   ]
  },
  {
   "cell_type": "markdown",
   "metadata": {
    "id": "sOobV051OOsv"
   },
   "source": [
    "- Top 10 토큰을 프린트 합니다.\n",
    "- 토큰의 수, 빈도 순위, 존재 문서 수, 비율 등 정보를 계산합니다.\n",
    "- 토큰 순위에 따른 퍼센트 누적 분포 그래프를 시각화합니다.\n",
    "\n",
    "- **문항 3) 추천 토큰 순위 10개 단어를 입력하세요.**"
   ]
  },
  {
   "cell_type": "code",
   "execution_count": null,
   "metadata": {
    "id": "3Gk8_RIxcWKS"
   },
   "outputs": [],
   "source": [
    "### 이곳에서 과제를 진행해 주세요 ### "
   ]
  },
  {
   "cell_type": "markdown",
   "metadata": {
    "id": "sURsv85FnxVU"
   },
   "source": [
    "### 4) 확장된 불용어 사전을 사용해 토큰을 정제합니다.\n"
   ]
  },
  {
   "cell_type": "markdown",
   "metadata": {
    "id": "d4FW5bGjRHb4"
   },
   "source": [
    "- **문항 4) 기본 불용어 사전에 두 단어(`\"data\", \"work\"`)를 추가하는 코드를 사용해주세요.**\n",
    "- **문항 5) 불용어를 제거하고 난 뒤 토큰 순위 10개의 단어를 입력하세요.**"
   ]
  },
  {
   "cell_type": "code",
   "execution_count": null,
   "metadata": {
    "id": "yuxNolYCcWrv"
   },
   "outputs": [],
   "source": [
    "### 이곳에서 과제를 진행해 주세요 ### "
   ]
  },
  {
   "cell_type": "markdown",
   "metadata": {
    "id": "f0iyh_gFnxVV"
   },
   "source": [
    "### 5) Lemmatization 사용 효과를 분석해 봅니다.\n",
    "\n"
   ]
  },
  {
   "cell_type": "markdown",
   "metadata": {
    "id": "zcBkXD0WTNgI"
   },
   "source": [
    "- **문항 6) Lemmatization을 진행한 뒤 상위 10개 단어를 입력하세요.**"
   ]
  },
  {
   "cell_type": "code",
   "execution_count": null,
   "metadata": {
    "id": "O2cKokO8cXR5"
   },
   "outputs": [],
   "source": [
    "### 이곳에서 과제를 진행해 주세요 ### "
   ]
  },
  {
   "cell_type": "markdown",
   "metadata": {
    "id": "_uSNuY9UUl7P"
   },
   "source": [
    "## 2. 유사한 문서 찾기"
   ]
  },
  {
   "cell_type": "markdown",
   "metadata": {
    "id": "Spn3AFhIZBC9"
   },
   "source": [
    "### 1) `TfidfVectorizer`를 이용해 각 문서들을 벡터화 한 후 KNN 모델을 만들고, <br/> 내가 원하는 `job description`을 질의해 가장 가까운 검색 결과들을 가져오고 분석합니다."
   ]
  },
  {
   "cell_type": "markdown",
   "metadata": {
    "id": "WEtnD5gYZZ-c"
   },
   "source": [
    "- **문항 7) 88번 index의 `job description`와 5개의 가장 유사한 `job description`이 있는 index를 입력하세요.**\n",
    "    - 답은 88번 인덱스를 포함합니다.\n",
    "    - `max_features = 3000` 으로 설정합니다.\n",
    "    - [88, 90, 91, 93, 94] 형태로 답을 입력해주세요"
   ]
  },
  {
   "cell_type": "code",
   "execution_count": null,
   "metadata": {
    "id": "PHCATtY8cX5b"
   },
   "outputs": [],
   "source": [
    "### 이곳에서 과제를 진행해 주세요 ### "
   ]
  }
 ],
 "metadata": {
  "colab": {
   "collapsed_sections": [],
   "name": "N421a_Count-based_Representation.ipynb",
   "provenance": []
  },
  "kernelspec": {
   "display_name": "Python 3",
   "language": "python",
   "name": "python3"
  },
  "language_info": {
   "codemirror_mode": {
    "name": "ipython",
    "version": 3
   },
   "file_extension": ".py",
   "mimetype": "text/x-python",
   "name": "python",
   "nbconvert_exporter": "python",
   "pygments_lexer": "ipython3",
   "version": "3.9.4"
  },
  "toc-autonumbering": false
 },
 "nbformat": 4,
 "nbformat_minor": 1
}
