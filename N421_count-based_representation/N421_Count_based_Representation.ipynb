{
  "nbformat": 4,
  "nbformat_minor": 0,
  "metadata": {
    "colab": {
      "name": "N421_Count-based_Representation.ipynb",
      "provenance": [],
      "collapsed_sections": []
    },
    "kernelspec": {
      "name": "python3",
      "display_name": "Python 3"
    },
    "language_info": {
      "name": "python"
    }
  },
  "cells": [
    {
      "cell_type": "markdown",
      "metadata": {
        "id": "q9ffsoikZjkL"
      },
      "source": [
        "<img align=\"right\" src=\"https://ds-cs-images.s3.ap-northeast-2.amazonaws.com/Codestates_Fulllogo_Color.png\" width=100>\n",
        "\n",
        "## ***DATA SCIENCE / SECTION 4 / SPRINT 2 / NOTE 1***\n",
        "\n",
        "---\n",
        "\n",
        "# 자연어처리(NLP, Natural Language Processing)"
      ]
    },
    {
      "cell_type": "markdown",
      "metadata": {
        "id": "-dh6455np_6M"
      },
      "source": [
        "## 🏆 학습 목표\n",
        "\n",
        "- 자연어처리\n",
        "    - 자연어처리를 통해 어떤 일을 할 수 있는지 알 수 있습니다.\n",
        "\n",
        "- 전처리(Preprocessing)\n",
        "    - 토큰화(Tokenization)에 대해 설명할 수 있으며 SpaCy 라이브러리를 활용하여 토큰화를 진행할 수 있습니다.\n",
        "    - 불용어(Stop words)를 제거하는 이유를 설명할 수 있고, 불용어 사전을 커스터마이징한 후 해당하는 내용을 토큰화에 적용할 수 있습니다.\n",
        "    - 어간 추출(Stemming)과 표제어 추출(Lemmatization)의 차이점을 알고 각각의 장단점에 대해 설명할 수 있습니다.\n",
        "\n",
        "- 등장 횟수 기반의 단어 표현(Count-based Representation)\n",
        "    - 문서-단어 행렬(Document-Term Matrix, DTM)을 이해하고 Bag-of-words 에 대해서 설명할 수 있습니다. \n",
        "    - TF-IDF에서 TF, IDF에 대해서 설명하고 IDF를 적용하는 이유에 대해서 설명할 수 있습니다."
      ]
    },
    {
      "cell_type": "markdown",
      "metadata": {
        "id": "qCNJ_d0oidx8"
      },
      "source": [
        "## Warm up\n",
        "\n",
        "- 자연어 처리에서 등장하는 용어들\n",
        "    - **말뭉치(Corpus)** : 특정한 목적을 가지고 수집한 텍스트 데이터\n",
        "    - **문서(Document)** : 문장(Sentence)들의 집합\n",
        "    - **문장(Sentence)** : 여러 개의 토큰(단어, 형태소 등)으로 구성된 문자열. 마침표, 느낌표 등의 기호로 구분\n",
        "    - **어휘집합(Vocabulary)** : 코퍼스에 있는 모든 문서, 문장을 토큰화한 후 중복을 제거한 토큰의 집합\n",
        "\n",
        "- 전처리(Preprocessing)\n",
        "    - 다음 키워드에 대해 조사해보세요.\n",
        "        - 토큰화(Tokenization)\n",
        "        - 차원의 저주(Curse of Dimensionality)\n",
        "        - 불용어(Stop words)\n",
        "        - 어간 추출(Stemming)\n",
        "        - 표제어 추출(Lemmatization)\n",
        "\n",
        "- 등장 횟수 기반의 단어 표현(Count-based Representation)\n",
        "    - 다음 영상을 시청하세요.\n",
        "        - [민트 초코 논란! 자연어 처리(NLP)로 종결해드림](https://www.youtube.com/watch?v=QTgRNer2epE)\n",
        "        - [Bag of Words](https://www.youtube.com/watch?v=dKYFfUtij_U)\n",
        "        - [TF-IDF](https://www.youtube.com/watch?v=meEchvkdB1U)"
      ]
    },
    {
      "cell_type": "markdown",
      "metadata": {
        "id": "lzccRKr4lP2o"
      },
      "source": [
        "## 1. 자연어처리란?"
      ]
    },
    {
      "cell_type": "markdown",
      "metadata": {
        "id": "TbQrvh9dK6mc"
      },
      "source": [
        "- **자연어(Natural Language)**\n",
        "\n",
        "> 자연어 혹은 자연 언어는 사람들이 일상적으로 쓰는 언어를 인공적으로 만들어진 언어인 인공어와 구분하여 부르는 개념\n",
        "\n",
        "쉽게 말해서 **자연**적으로 발생된 **언어**를 자연어라고 합니다.\n",
        "\n",
        "- 자연어가 아닌 것들은?\n",
        "    - 에스페란토어, 코딩 언어 등\n",
        "\n",
        "이런 자연어를 컴퓨터로 처리하는 기술을 자연어 처리(Natural Language Processing, NLP)라고 합니다.\n",
        "\n",
        "자연어 처리를 비롯한 텍스트 마이닝을 잘 하려면 무엇을 잘 해야 할까요? <br/> \n",
        "아래 그림에 있는 것들을 잘 해야한다고 합니다!\n",
        "\n",
        "<img src=\"https://miro.medium.com/max/700/0*ewkxRItArykG27dU.png\" alt=\"nlp_diagram\" width=\"600\" />"
      ]
    },
    {
      "cell_type": "markdown",
      "metadata": {
        "id": "69DNEjS9l0-M"
      },
      "source": [
        "### 자연어처리로 할 수 있는 일들\n",
        "\n",
        "- **자연어 이해(NLU, Natural Language Understanding)**\n",
        "    - 분류(Classification) : 뉴스 기사 분류, 감성 분석(Positive/Negative) <br/> \n",
        "    _Ex) \"This movie is awesome!\" -> **Positive or Negative?**_\n",
        "\n",
        "    - 자연어 추론(NLI, Natural Langauge Inference) <br/>\n",
        "    _Ex) 전제 : \"A는 B에게 암살당했다\", 가설 : \"A는 죽었다\" -> True or False?_\n",
        "\n",
        "    - 기계 독해(MRC, Machine Learning Comprehension), 질의 응답(QA, Question&Answering) <br/>\n",
        "    _Ex) 비문학 문제 풀기\u001f_\n",
        "    - 품사 태깅(POS tagging), 개체명 인식(Named Entity Recognition) 등 <br/>\n",
        "\n",
        "- **자연어 생성(NLG, Natural Language Generation)**\n",
        "    - 텍스트 생성 (특정 도메인의 텍스트 생성)<br/>\n",
        "    <i>Ex) 뉴스 기사 생성하기, 가사 생성하기</i>\n",
        "\n",
        "- **NLU & NLG**\n",
        "    - 기계 번역(Machine Translation)\n",
        "    - 요약(Summerization)\n",
        "        - 추출 요약(Extractive summerization) : 문서 내에서 해당 문서를 가장 잘 요약하는 부분을 찾아내는 Task => (NLU에 가까움)\n",
        "        - 생성 요약(Absractive summerization) : 해당 문서를 요약하는 요약문을 생성 => (NLG에 가까움)\n",
        "    - 챗봇(Chatbot)\n",
        "        - 특정 태스크를 처리하기 위한 챗봇(Task Oriented Dialog, TOD)<br/>\n",
        "        _Ex) 식당 예약을 위한 챗봇, 상담 응대를 위한 챗봇_\n",
        "        - 정해지지 않은 주제를 다루는 일반대화 챗봇(Open Domain Dialog, ODD)<br/>\n",
        "\n",
        "- **기타**\n",
        "    - TTS(Text to Speech) : 텍스트를 음성으로 읽기 (_Ex) 유튜브 슈퍼챗_)\n",
        "    - STT(Speech to Text) : 음성을 텍스트로 쓰기 (_Ex) 컨퍼런스, 강연 등에서 청각 장애인을 위한 실시간 자막 서비스 제공_)\n",
        "    - Image Captioning : 이미지를 설명하는 문장 생성\n",
        "\n",
        "\n"
      ]
    },
    {
      "cell_type": "markdown",
      "metadata": {
        "id": "A_X3IivkrnVY"
      },
      "source": [
        "### 자연어 처리가 사용된 서비스 사례\n",
        "\n",
        "- 챗봇 : 심리상담 챗봇(트로스트, 아토머스), 일반대화 챗봇(스캐터랩 - 이루다, 마인드로직)\n",
        "- 번역 : 파파고, 구글 번역기\n",
        "- TTS, STT : 인공지능 스피커, 회의록 작성(네이버 - 클로바노트, 카카오 - Kakao i), 자막 생성(보이저엑스 - Vrew, 보이스루)\n",
        "\n"
      ]
    },
    {
      "cell_type": "markdown",
      "metadata": {
        "id": "GhbaNUaRY2Ls"
      },
      "source": [
        "### 벡터화(Vectorize)"
      ]
    },
    {
      "cell_type": "markdown",
      "metadata": {
        "id": "PfwcVBccY7Jk"
      },
      "source": [
        "컴퓨터는 자연어 자체를 받아들일 수 없습니다. 그래서 컴퓨터가 이해할 수 있도록 벡터로 만들어주어야 합니다.<br/>\n",
        "이 과정을 **벡터화(Vectorize)**라고 합니다. 자연어를 어떻게 벡터로 표현하는 지는 자연어 처리 모델의 성능을 결정하는 중요한 역할을 합니다.<br/>\n",
        "자연어를 벡터화하는 방법은 크게 2가지로 나누어 볼 수 있습니다. <br/>\n",
        "\n",
        "- 등장 횟수 기반의 단어 표현(Count-based Representation) : 단어가 문서(혹은 문장)에 등장하는 횟수를 기반으로 벡터화하는 방법 <br/>\n",
        "    - Bag-of-Words (`CounterVectorizer`)\n",
        "    - TF-IDF (`TfidfVectorizer`)\n",
        "\n",
        "- 분포 기반의 단어 표현(Distributed Representation) : 타겟 단어 주변에 있는 단어를 기반으로 벡터화하는 방법\n",
        "    - Word2Vec\n",
        "    - GloVe\n",
        "    - fastText"
      ]
    },
    {
      "cell_type": "markdown",
      "metadata": {
        "id": "PpjMMDo7YrnG"
      },
      "source": [
        "## 2. 텍스트 전처리(Text Preprocessing)"
      ]
    },
    {
      "cell_type": "markdown",
      "metadata": {
        "id": "GLcXrPYXvnkp"
      },
      "source": [
        "텍스트 데이터를 전처리하는 것은 자연어처리의 시작이자<br/>\n",
        "(알고 보면) 절반 이상을 차지하는 중요한 과정입니다. <br/>\n",
        "실제 텍스트 데이터를 다룰 때에는 데이터를 읽어보면서 어떤 특이사항이 있는지 파악해야 합니다.\n",
        "\n",
        "<img src=\"https://i.imgur.com/KX8Lvlv.jpg\" alt=\"wakeup_preprocessing\" width=\"400\" />\n",
        "\n",
        "이번 시간에는 여러 데이터에 범용적으로 적용할 수 있는 전처리 방법에 대해서 배워보도록 하겠습니다.<br/>\n",
        "앞으로 배우게 될 전처리 방법은 아래와 같습니다.\n",
        "\n",
        "- 내장 메서드를 사용한 전처리 (**`lower`, `replace`, ...**)\n",
        "- 정규 표현식(Regular expression, Regex)\n",
        "- 불용어(Stop words) 처리\n",
        "- 통계적 트리밍(Trimming)\n",
        "- 어간 추출(Stemming) 혹은 표제어 추출(Lemmatization)\n",
        "\n"
      ]
    },
    {
      "cell_type": "markdown",
      "metadata": {
        "id": "6cOXI7zHlGuT"
      },
      "source": [
        "### 1) 차원의 저주 (Curse of Dimensionality)"
      ]
    },
    {
      "cell_type": "markdown",
      "metadata": {
        "id": "92QzA4vmJMPg"
      },
      "source": [
        "- **전처리를 왜 해야 할까요?**\n",
        "\n",
        "위 방법들에 대해서 본격적으로 알아보기에 앞서, 전처리를 해야하는 이유에 대해서 알아보겠습니다.<br/>\n",
        "머신러닝을 배우면서 차원의 저주에 대해서 들어보신 적이 있을 것입니다. **차원의 저주(Curse of Dimensionality)**의 정의는 다음과 같습니다.\n",
        "\n",
        "> _“특성의 개수가 선형적으로 늘어날 때 동일한 설명력을 가지기 위해 필요한 인스턴스의 수는 지수적으로 증가한다.<br/>\n",
        "즉 동일한 개수의 인스턴스를 가지는 데이터셋의 차원이 늘어날수록 설명력이 떨어지게 된다.”_\n",
        "\n",
        "이번 시간에 배울 횟수 기반의 단어 표현에서는 전체 말뭉치에 존재하는 단어의 종류가 데이터셋의 Feature, 즉 차원이 됩니다.<br/>\n",
        "따라서, 단어의 종류를 줄여주어야 차원의 저주를 어느정도 해결할 수 있습니다."
      ]
    },
    {
      "cell_type": "markdown",
      "metadata": {
        "id": "iLT18nJQ0wFj"
      },
      "source": [
        "간단한 예시를 통해 전처리가 어떻게 단어의 수를 줄일 수 있는지 알아보겠습니다. <br/>\n",
        "코드 내용은 아래에서 한 번 더 언급할 예정이니 일단은 실행 결과에 주목해주시면 됩니다."
      ]
    },
    {
      "cell_type": "code",
      "metadata": {
        "id": "KBIron7R09mA"
      },
      "source": [
        "import spacy\n",
        "from spacy.tokenizer import Tokenizer\n",
        "\n",
        "nlp = spacy.load(\"en_core_web_sm\")\n",
        "\n",
        "tokenizer = Tokenizer(nlp.vocab)"
      ],
      "execution_count": null,
      "outputs": []
    },
    {
      "cell_type": "code",
      "metadata": {
        "id": "NufN8SZoZX5E",
        "colab": {
          "base_uri": "https://localhost:8080/"
        },
        "outputId": "b48d57fb-9455-40fb-ded0-c6996be00867"
      },
      "source": [
        "sent1 = \"I am a student.\"\n",
        "sent2 = \"J is the alphabet that follows i.\"\n",
        "sent3 = \"Is she a student trying to become a data scientist?\"\n",
        "\n",
        "sent_lst = [sent1, sent2, sent3]\n",
        "\n",
        "total_tokens = []\n",
        "\n",
        "for i, sent in enumerate(tokenizer.pipe(sent_lst)):\n",
        "    sent_token = [token.text for token in sent]\n",
        "    total_tokens.extend(sent_token)\n",
        "    print(f\"sent {i} : {sent_token}\")\n",
        "\n",
        "set(total_tokens)\n",
        "print(f\"\"\" \n",
        "total_tokens : {set(total_tokens)}\n",
        "#_of_total_tokens : {len(set(total_tokens))}\n",
        "\"\"\")"
      ],
      "execution_count": null,
      "outputs": [
        {
          "output_type": "stream",
          "text": [
            "sent 0 : ['I', 'am', 'a', 'student.']\n",
            "sent 1 : ['J', 'is', 'the', 'alphabet', 'that', 'follows', 'i.']\n",
            "sent 2 : ['Is', 'she', 'a', 'student', 'trying', 'to', 'become', 'a', 'data', 'scientist?']\n",
            " \n",
            "total_tokens : {'a', 'the', 'alphabet', 'data', 'i.', 'follows', 'trying', 'student.', 'scientist?', 'become', 'I', 'J', 'student', 'to', 'she', 'am', 'is', 'Is', 'that'}\n",
            "#_of_total_tokens : 19\n",
            "\n"
          ],
          "name": "stdout"
        }
      ]
    },
    {
      "cell_type": "code",
      "metadata": {
        "id": "zm-bv4eCB0wp"
      },
      "source": [
        "def word2idx(sent):\n",
        "    sent_token = sent.split()\n",
        "    return [1 if word in sent else 0 for word in set(total_tokens)]\n",
        "\n",
        "\n",
        "sent1_idx = word2idx(sent1)\n",
        "sent2_idx = word2idx(sent2)\n",
        "sent3_idx = word2idx(sent3)"
      ],
      "execution_count": null,
      "outputs": []
    },
    {
      "cell_type": "code",
      "metadata": {
        "colab": {
          "base_uri": "https://localhost:8080/",
          "height": 142
        },
        "id": "GZp9-kCdD67N",
        "outputId": "93407495-35c0-46b1-d107-cc292c734cf9"
      },
      "source": [
        "import pandas as pd\n",
        "\n",
        "dtm = pd.DataFrame([sent1_idx, sent2_idx, sent3_idx], columns=set(total_tokens))\n",
        "dtm"
      ],
      "execution_count": null,
      "outputs": [
        {
          "output_type": "execute_result",
          "data": {
            "text/html": [
              "<div>\n",
              "<style scoped>\n",
              "    .dataframe tbody tr th:only-of-type {\n",
              "        vertical-align: middle;\n",
              "    }\n",
              "\n",
              "    .dataframe tbody tr th {\n",
              "        vertical-align: top;\n",
              "    }\n",
              "\n",
              "    .dataframe thead th {\n",
              "        text-align: right;\n",
              "    }\n",
              "</style>\n",
              "<table border=\"1\" class=\"dataframe\">\n",
              "  <thead>\n",
              "    <tr style=\"text-align: right;\">\n",
              "      <th></th>\n",
              "      <th>a</th>\n",
              "      <th>the</th>\n",
              "      <th>alphabet</th>\n",
              "      <th>data</th>\n",
              "      <th>i.</th>\n",
              "      <th>follows</th>\n",
              "      <th>trying</th>\n",
              "      <th>student.</th>\n",
              "      <th>scientist?</th>\n",
              "      <th>become</th>\n",
              "      <th>I</th>\n",
              "      <th>J</th>\n",
              "      <th>student</th>\n",
              "      <th>to</th>\n",
              "      <th>she</th>\n",
              "      <th>am</th>\n",
              "      <th>is</th>\n",
              "      <th>Is</th>\n",
              "      <th>that</th>\n",
              "    </tr>\n",
              "  </thead>\n",
              "  <tbody>\n",
              "    <tr>\n",
              "      <th>0</th>\n",
              "      <td>1</td>\n",
              "      <td>0</td>\n",
              "      <td>0</td>\n",
              "      <td>0</td>\n",
              "      <td>0</td>\n",
              "      <td>0</td>\n",
              "      <td>0</td>\n",
              "      <td>1</td>\n",
              "      <td>0</td>\n",
              "      <td>0</td>\n",
              "      <td>1</td>\n",
              "      <td>0</td>\n",
              "      <td>1</td>\n",
              "      <td>0</td>\n",
              "      <td>0</td>\n",
              "      <td>1</td>\n",
              "      <td>0</td>\n",
              "      <td>0</td>\n",
              "      <td>0</td>\n",
              "    </tr>\n",
              "    <tr>\n",
              "      <th>1</th>\n",
              "      <td>1</td>\n",
              "      <td>1</td>\n",
              "      <td>1</td>\n",
              "      <td>0</td>\n",
              "      <td>1</td>\n",
              "      <td>1</td>\n",
              "      <td>0</td>\n",
              "      <td>0</td>\n",
              "      <td>0</td>\n",
              "      <td>0</td>\n",
              "      <td>0</td>\n",
              "      <td>1</td>\n",
              "      <td>0</td>\n",
              "      <td>0</td>\n",
              "      <td>0</td>\n",
              "      <td>0</td>\n",
              "      <td>1</td>\n",
              "      <td>0</td>\n",
              "      <td>1</td>\n",
              "    </tr>\n",
              "    <tr>\n",
              "      <th>2</th>\n",
              "      <td>1</td>\n",
              "      <td>0</td>\n",
              "      <td>0</td>\n",
              "      <td>1</td>\n",
              "      <td>0</td>\n",
              "      <td>0</td>\n",
              "      <td>1</td>\n",
              "      <td>0</td>\n",
              "      <td>1</td>\n",
              "      <td>1</td>\n",
              "      <td>1</td>\n",
              "      <td>0</td>\n",
              "      <td>1</td>\n",
              "      <td>1</td>\n",
              "      <td>1</td>\n",
              "      <td>0</td>\n",
              "      <td>1</td>\n",
              "      <td>1</td>\n",
              "      <td>0</td>\n",
              "    </tr>\n",
              "  </tbody>\n",
              "</table>\n",
              "</div>"
            ],
            "text/plain": [
              "   a  the  alphabet  data  i.  follows  ...  to  she  am  is  Is  that\n",
              "0  1    0         0     0   0        0  ...   0    0   1   0   0     0\n",
              "1  1    1         1     0   1        1  ...   0    0   0   1   0     1\n",
              "2  1    0         0     1   0        0  ...   1    1   0   1   1     0\n",
              "\n",
              "[3 rows x 19 columns]"
            ]
          },
          "metadata": {
            "tags": []
          },
          "execution_count": 4
        }
      ]
    },
    {
      "cell_type": "markdown",
      "metadata": {
        "id": "lycjLpbzHkaa"
      },
      "source": [
        "위 문장에서 모든 토큰의 개수는 19개 입니다.<br/>\n",
        "이를 문서-단어 행렬로 나타내면 특성이 19개인 행렬이 됩니다.<br/>\n",
        "굉장히 희소한(Sparse) 행렬이기 때문에 모델에 입력하면 높은 성능을 보장할 수 없습니다.<br/>\n",
        "하지만 간단한 전처리를 해주면 차원을 줄일 수 있습니다."
      ]
    },
    {
      "cell_type": "code",
      "metadata": {
        "colab": {
          "base_uri": "https://localhost:8080/"
        },
        "id": "11EjrPghJggv",
        "outputId": "8cc71939-2021-42f5-d401-353442d2653f"
      },
      "source": [
        "import re\n",
        "\n",
        "def lower_and_regex(sentence):\n",
        "    \"\"\"\n",
        "    모든 대문자를 소문자로 변경 후\n",
        "    정규식을 이용하여 알파벳 소문자 이외의 구두점 삭제\n",
        "    \"\"\"\n",
        "    sentence = sentence.lower()\n",
        "    sentence = re.sub(r\"[^a-z ]\", \"\", sentence)\n",
        "    return sentence\n",
        "\n",
        "prep_sent_lst = [lower_and_regex(sent) for sent in sent_lst]\n",
        "total_tokens_prep = []\n",
        "\n",
        "for i, prep_sent in enumerate(tokenizer.pipe(prep_sent_lst)):\n",
        "    sent_token_prep = [token.text for token in prep_sent]\n",
        "    total_tokens_prep.extend(sent_token_prep)\n",
        "    print(f\"sent {i} : {sent_token_prep}\")\n",
        "\n",
        "print(f\"\"\" \n",
        "total_tokens : {total_tokens_prep}\n",
        "num_of_total_tokens : {len(set(total_tokens_prep))}\n",
        "\"\"\")"
      ],
      "execution_count": null,
      "outputs": [
        {
          "output_type": "stream",
          "text": [
            "sent 0 : ['i', 'am', 'a', 'student']\n",
            "sent 1 : ['j', 'is', 'the', 'alphabet', 'that', 'follows', 'i']\n",
            "sent 2 : ['is', 'she', 'a', 'student', 'trying', 'to', 'become', 'a', 'data', 'scientist']\n",
            " \n",
            "total_tokens : ['i', 'am', 'a', 'student', 'j', 'is', 'the', 'alphabet', 'that', 'follows', 'i', 'is', 'she', 'a', 'student', 'trying', 'to', 'become', 'a', 'data', 'scientist']\n",
            "num_of_total_tokens : 16\n",
            "\n"
          ],
          "name": "stdout"
        }
      ]
    },
    {
      "cell_type": "code",
      "metadata": {
        "colab": {
          "base_uri": "https://localhost:8080/",
          "height": 142
        },
        "id": "AWIqgZ3zEq02",
        "outputId": "d4525a93-49c7-4326-f160-0ad551ad5e81"
      },
      "source": [
        "def word2idx_re(sent):\n",
        "    sent_token = sent.split()\n",
        "    return [1 if word in sent else 0 for word in set(total_tokens_prep)]\n",
        "\n",
        "\n",
        "sent1_idx_prep = word2idx_re(sent1)\n",
        "sent2_idx_prep = word2idx_re(sent2)\n",
        "sent3_idx_prep = word2idx_re(sent3)\n",
        "\n",
        "dtm_re = pd.DataFrame([sent1_idx_prep, sent2_idx_prep, sent3_idx_prep], columns=set(total_tokens_prep))\n",
        "dtm_re"
      ],
      "execution_count": null,
      "outputs": [
        {
          "output_type": "execute_result",
          "data": {
            "text/html": [
              "<div>\n",
              "<style scoped>\n",
              "    .dataframe tbody tr th:only-of-type {\n",
              "        vertical-align: middle;\n",
              "    }\n",
              "\n",
              "    .dataframe tbody tr th {\n",
              "        vertical-align: top;\n",
              "    }\n",
              "\n",
              "    .dataframe thead th {\n",
              "        text-align: right;\n",
              "    }\n",
              "</style>\n",
              "<table border=\"1\" class=\"dataframe\">\n",
              "  <thead>\n",
              "    <tr style=\"text-align: right;\">\n",
              "      <th></th>\n",
              "      <th>follows</th>\n",
              "      <th>trying</th>\n",
              "      <th>she</th>\n",
              "      <th>a</th>\n",
              "      <th>the</th>\n",
              "      <th>am</th>\n",
              "      <th>is</th>\n",
              "      <th>become</th>\n",
              "      <th>i</th>\n",
              "      <th>student</th>\n",
              "      <th>alphabet</th>\n",
              "      <th>data</th>\n",
              "      <th>that</th>\n",
              "      <th>scientist</th>\n",
              "      <th>j</th>\n",
              "      <th>to</th>\n",
              "    </tr>\n",
              "  </thead>\n",
              "  <tbody>\n",
              "    <tr>\n",
              "      <th>0</th>\n",
              "      <td>0</td>\n",
              "      <td>0</td>\n",
              "      <td>0</td>\n",
              "      <td>1</td>\n",
              "      <td>0</td>\n",
              "      <td>1</td>\n",
              "      <td>0</td>\n",
              "      <td>0</td>\n",
              "      <td>0</td>\n",
              "      <td>1</td>\n",
              "      <td>0</td>\n",
              "      <td>0</td>\n",
              "      <td>0</td>\n",
              "      <td>0</td>\n",
              "      <td>0</td>\n",
              "      <td>0</td>\n",
              "    </tr>\n",
              "    <tr>\n",
              "      <th>1</th>\n",
              "      <td>1</td>\n",
              "      <td>0</td>\n",
              "      <td>0</td>\n",
              "      <td>1</td>\n",
              "      <td>1</td>\n",
              "      <td>0</td>\n",
              "      <td>1</td>\n",
              "      <td>0</td>\n",
              "      <td>1</td>\n",
              "      <td>0</td>\n",
              "      <td>1</td>\n",
              "      <td>0</td>\n",
              "      <td>1</td>\n",
              "      <td>0</td>\n",
              "      <td>0</td>\n",
              "      <td>0</td>\n",
              "    </tr>\n",
              "    <tr>\n",
              "      <th>2</th>\n",
              "      <td>0</td>\n",
              "      <td>1</td>\n",
              "      <td>1</td>\n",
              "      <td>1</td>\n",
              "      <td>0</td>\n",
              "      <td>0</td>\n",
              "      <td>1</td>\n",
              "      <td>1</td>\n",
              "      <td>1</td>\n",
              "      <td>1</td>\n",
              "      <td>0</td>\n",
              "      <td>1</td>\n",
              "      <td>0</td>\n",
              "      <td>1</td>\n",
              "      <td>0</td>\n",
              "      <td>1</td>\n",
              "    </tr>\n",
              "  </tbody>\n",
              "</table>\n",
              "</div>"
            ],
            "text/plain": [
              "   follows  trying  she  a  the  am  ...  alphabet  data  that  scientist  j  to\n",
              "0        0       0    0  1    0   1  ...         0     0     0          0  0   0\n",
              "1        1       0    0  1    1   0  ...         1     0     1          0  0   0\n",
              "2        0       1    1  1    0   0  ...         0     1     0          1  0   1\n",
              "\n",
              "[3 rows x 16 columns]"
            ]
          },
          "metadata": {
            "tags": []
          },
          "execution_count": 6
        }
      ]
    },
    {
      "cell_type": "markdown",
      "metadata": {
        "id": "al7b5k6UMMx_"
      },
      "source": [
        "모든 문자를 소문자로 만들어 준 후 정규식을 사용하여 구두점을 없애주었습니다. <br/>\n",
        "이렇게 전처리 해준 데이터는 16개의 차원을 가지게 됩니다.<br/>\n",
        "간단한 전처리만으로도 전체 말뭉치의 차원을 꽤 줄일 수 있습니다."
      ]
    },
    {
      "cell_type": "markdown",
      "metadata": {
        "id": "ZSp0YXkQzynC"
      },
      "source": [
        "### 2) 대소문자 통일"
      ]
    },
    {
      "cell_type": "markdown",
      "metadata": {
        "id": "64XKBya3z5Is"
      },
      "source": [
        "그럼 이제 실제 데이터에 전처리를 적용해 보겠습니다."
      ]
    },
    {
      "cell_type": "code",
      "metadata": {
        "id": "UOo1uTpyzAFI"
      },
      "source": [
        "# sampling from: 'https://www.kaggle.com/datafiniti/consumer-reviews-of-amazon-products'\n",
        "import pandas as pd\n",
        "df = pd.read_csv('https://ds-lecture-data.s3.ap-northeast-2.amazonaws.com/amazon/Datafiniti_Amazon_Consumer_Reviews_of_Amazon_Products_May19_sample.csv')"
      ],
      "execution_count": null,
      "outputs": []
    },
    {
      "cell_type": "code",
      "metadata": {
        "colab": {
          "base_uri": "https://localhost:8080/"
        },
        "id": "slGa3f4xzEsQ",
        "outputId": "bd2710ab-dc76-4554-d313-a066ef2b7536"
      },
      "source": [
        "# 데이터의 shape을 확인합니다\n",
        "df.shape"
      ],
      "execution_count": null,
      "outputs": [
        {
          "output_type": "execute_result",
          "data": {
            "text/plain": [
              "(10483, 25)"
            ]
          },
          "metadata": {
            "tags": []
          },
          "execution_count": 8
        }
      ]
    },
    {
      "cell_type": "code",
      "metadata": {
        "colab": {
          "base_uri": "https://localhost:8080/",
          "height": 366
        },
        "id": "w_Y2FpEtzGat",
        "outputId": "6afb33b0-3fe2-410c-d40a-86b2bada186e"
      },
      "source": [
        "df.head(3)"
      ],
      "execution_count": null,
      "outputs": [
        {
          "output_type": "execute_result",
          "data": {
            "text/html": [
              "<div>\n",
              "<style scoped>\n",
              "    .dataframe tbody tr th:only-of-type {\n",
              "        vertical-align: middle;\n",
              "    }\n",
              "\n",
              "    .dataframe tbody tr th {\n",
              "        vertical-align: top;\n",
              "    }\n",
              "\n",
              "    .dataframe thead th {\n",
              "        text-align: right;\n",
              "    }\n",
              "</style>\n",
              "<table border=\"1\" class=\"dataframe\">\n",
              "  <thead>\n",
              "    <tr style=\"text-align: right;\">\n",
              "      <th></th>\n",
              "      <th>Unnamed: 0</th>\n",
              "      <th>id</th>\n",
              "      <th>dateAdded</th>\n",
              "      <th>dateUpdated</th>\n",
              "      <th>name</th>\n",
              "      <th>asins</th>\n",
              "      <th>brand</th>\n",
              "      <th>categories</th>\n",
              "      <th>primaryCategories</th>\n",
              "      <th>imageURLs</th>\n",
              "      <th>keys</th>\n",
              "      <th>manufacturer</th>\n",
              "      <th>manufacturerNumber</th>\n",
              "      <th>reviews.date</th>\n",
              "      <th>reviews.dateSeen</th>\n",
              "      <th>reviews.didPurchase</th>\n",
              "      <th>reviews.doRecommend</th>\n",
              "      <th>reviews.id</th>\n",
              "      <th>reviews.numHelpful</th>\n",
              "      <th>reviews.rating</th>\n",
              "      <th>reviews.sourceURLs</th>\n",
              "      <th>reviews.text</th>\n",
              "      <th>reviews.title</th>\n",
              "      <th>reviews.username</th>\n",
              "      <th>sourceURLs</th>\n",
              "    </tr>\n",
              "  </thead>\n",
              "  <tbody>\n",
              "    <tr>\n",
              "      <th>0</th>\n",
              "      <td>25971</td>\n",
              "      <td>AVqkIhxunnc1JgDc3kg_</td>\n",
              "      <td>2017-03-06T14:59:43Z</td>\n",
              "      <td>2019-02-23T02:49:38Z</td>\n",
              "      <td>Fire HD 8 Tablet with Alexa, 8 HD Display, 16 ...</td>\n",
              "      <td>B018T075DC</td>\n",
              "      <td>Amazon</td>\n",
              "      <td>Fire Tablets,Tablets,All Tablets,Amazon Tablet...</td>\n",
              "      <td>Electronics</td>\n",
              "      <td>https://www.upccodesearch.com/images/barcode/0...</td>\n",
              "      <td>amazon/b018t075dc,firehd8tabletwithalexa8hddis...</td>\n",
              "      <td>Amazon</td>\n",
              "      <td>53-004485</td>\n",
              "      <td>2017-01-18T00:00:00.000Z</td>\n",
              "      <td>2017-04-30T00:00:00Z,2017-06-07T00:00:00Z</td>\n",
              "      <td>NaN</td>\n",
              "      <td>True</td>\n",
              "      <td>NaN</td>\n",
              "      <td>0.0</td>\n",
              "      <td>3</td>\n",
              "      <td>http://reviews.bestbuy.com/3545/5620410/review...</td>\n",
              "      <td>Though I have got it for cheap price during bl...</td>\n",
              "      <td>An average Fire tablet</td>\n",
              "      <td>Ganamurthy</td>\n",
              "      <td>http://reviews.bestbuy.com/3545/5620410/review...</td>\n",
              "    </tr>\n",
              "    <tr>\n",
              "      <th>1</th>\n",
              "      <td>19398</td>\n",
              "      <td>AVwjfXqqQMlgsOJE8qmm</td>\n",
              "      <td>2017-05-20T01:34:04Z</td>\n",
              "      <td>2019-02-25T02:23:15Z</td>\n",
              "      <td>All-New Fire HD 8 Kids Edition Tablet, 8 HD Di...</td>\n",
              "      <td>B01J94SCAM</td>\n",
              "      <td>Amazon</td>\n",
              "      <td>Fire Tablets,Tablets,Amazon Tablets,Computers ...</td>\n",
              "      <td>Electronics</td>\n",
              "      <td>https://www.barcodable.com/images/barcode/0841...</td>\n",
              "      <td>amazonfirehd8kidsedition8tablet32gb7thgenerati...</td>\n",
              "      <td>Amazon</td>\n",
              "      <td>53-005705</td>\n",
              "      <td>2017-06-22T00:00:00.000Z</td>\n",
              "      <td>2018-05-27T00:00:00Z,2017-07-07T00:00:00Z,2017...</td>\n",
              "      <td>NaN</td>\n",
              "      <td>True</td>\n",
              "      <td>NaN</td>\n",
              "      <td>17.0</td>\n",
              "      <td>5</td>\n",
              "      <td>http://reviews.bestbuy.com/3545/5836204/review...</td>\n",
              "      <td>I purchased the 7\" for my son when he was 1.5 ...</td>\n",
              "      <td>3 year old loves it</td>\n",
              "      <td>dcc1970</td>\n",
              "      <td>https://reviews.bestbuy.com/3545/5836204/revie...</td>\n",
              "    </tr>\n",
              "    <tr>\n",
              "      <th>2</th>\n",
              "      <td>2410</td>\n",
              "      <td>AVpgNzjwLJeJML43Kpxn</td>\n",
              "      <td>2015-10-30T08:59:32Z</td>\n",
              "      <td>2019-04-25T09:08:16Z</td>\n",
              "      <td>AmazonBasics AAA Performance Alkaline Batterie...</td>\n",
              "      <td>B00QWO9P0O,B00LH3DMUO</td>\n",
              "      <td>Amazonbasics</td>\n",
              "      <td>AA,AAA,Health,Electronics,Health &amp; Household,C...</td>\n",
              "      <td>Health &amp; Beauty</td>\n",
              "      <td>https://images-na.ssl-images-amazon.com/images...</td>\n",
              "      <td>amazonbasics/hl002619,amazonbasicsaaaperforman...</td>\n",
              "      <td>AmazonBasics</td>\n",
              "      <td>HL-002619</td>\n",
              "      <td>2015-04-02T00:00:00.000Z</td>\n",
              "      <td>2017-08-28T00:00:00Z</td>\n",
              "      <td>NaN</td>\n",
              "      <td>NaN</td>\n",
              "      <td>NaN</td>\n",
              "      <td>NaN</td>\n",
              "      <td>5</td>\n",
              "      <td>https://www.amazon.com/product-reviews/B00QWO9...</td>\n",
              "      <td>Great price and great batteries! I will keep o...</td>\n",
              "      <td>Five Stars</td>\n",
              "      <td>ByDena</td>\n",
              "      <td>https://www.barcodable.com/upc/841710106442,ht...</td>\n",
              "    </tr>\n",
              "  </tbody>\n",
              "</table>\n",
              "</div>"
            ],
            "text/plain": [
              "   Unnamed: 0  ...                                         sourceURLs\n",
              "0       25971  ...  http://reviews.bestbuy.com/3545/5620410/review...\n",
              "1       19398  ...  https://reviews.bestbuy.com/3545/5836204/revie...\n",
              "2        2410  ...  https://www.barcodable.com/upc/841710106442,ht...\n",
              "\n",
              "[3 rows x 25 columns]"
            ]
          },
          "metadata": {
            "tags": []
          },
          "execution_count": 9
        }
      ]
    },
    {
      "cell_type": "code",
      "metadata": {
        "colab": {
          "base_uri": "https://localhost:8080/"
        },
        "id": "Rt5VjD7ZzGZV",
        "outputId": "d14a29e7-3fb7-42de-fccd-3f2e5a286c50"
      },
      "source": [
        "df['brand'].value_counts()"
      ],
      "execution_count": null,
      "outputs": [
        {
          "output_type": "execute_result",
          "data": {
            "text/plain": [
              "Amazon          5977\n",
              "Amazonbasics    4499\n",
              "AmazonBasics       7\n",
              "Name: brand, dtype: int64"
            ]
          },
          "metadata": {
            "tags": []
          },
          "execution_count": 10
        }
      ]
    },
    {
      "cell_type": "markdown",
      "metadata": {
        "id": "kH3jfzJKzda7"
      },
      "source": [
        "`Amazonbasics` 와 `AmazonBasics` 는 같은 것을 지칭하는 단어임에도 대소문자 차이로 다른 카테고리로 취급되었습니다. <br/> 모든 문자를 소문자로 통일하여 둘을 같은 범주로 엮어주겠습니다."
      ]
    },
    {
      "cell_type": "code",
      "metadata": {
        "colab": {
          "base_uri": "https://localhost:8080/"
        },
        "id": "iv8UfF5jzLFb",
        "outputId": "40db7a0c-58dc-41a6-bb44-4a95dcc0a383"
      },
      "source": [
        "# 데이터를 모두 소문자로 변환\n",
        "df['brand'] = df['brand'].apply(lambda x: x.lower())\n",
        "df['brand'].value_counts()"
      ],
      "execution_count": null,
      "outputs": [
        {
          "output_type": "execute_result",
          "data": {
            "text/plain": [
              "amazon          5977\n",
              "amazonbasics    4506\n",
              "Name: brand, dtype: int64"
            ]
          },
          "metadata": {
            "tags": []
          },
          "execution_count": 11
        }
      ]
    },
    {
      "cell_type": "markdown",
      "metadata": {
        "id": "J0ff79kK0YI0"
      },
      "source": [
        "### 3) 정규표현식(Regex)"
      ]
    },
    {
      "cell_type": "markdown",
      "metadata": {
        "id": "q4gnARBc0c_D"
      },
      "source": [
        "구두점이나 특수문자 등 필요없는 문자가 말뭉치 내에 있을 경우 토큰화가 제대로 이루어지지 않습니다. <br/> 이를 제거하기 위해서 정규표현식(Regular Expression, Regex)을 사용합니다. <br/> 정규 표현식은 문자열을 다루기 위한 매우 중요하고도 강력한 도구이지만 복잡하기 때문에 잘 쓰려면 반복적인 실습이 필요합니다.\n",
        "\n",
        "<img src=\"https://i.imgur.com/WE8PHAn.png\" alt=\"regex\" width=\"400\" />\n",
        "\n",
        "아래 링크에서 정규표현식에 대한 더 많은 정보를 확인하고 실습해봅시다.\n",
        "\n",
        "- [Python Regex](https://www.w3schools.com/python/python_regex.asp#sub)\n",
        "- [정규 표현식 시작하기](https://wikidocs.net/4308#_2)"
      ]
    },
    {
      "cell_type": "markdown",
      "metadata": {
        "id": "wmAPVTnw208r"
      },
      "source": [
        "`a-z`(소문자), `A-Z`(대문자), `0-9`(숫자)를 `^` 제외한 나머지 문자를 `regex` 에 할당한 후 `.sub` 메서드를 통해서 공백 문자열 `\"\"` 로 치환해줍니다."
      ]
    },
    {
      "cell_type": "code",
      "metadata": {
        "id": "cUYe76lP0hDh"
      },
      "source": [
        "# 파이썬 정규표현식 패키지 이름은 re 입니다.\n",
        "import re\n",
        "\n",
        "# 정규식\n",
        "# []: [] 사이 문자를 매치, ^: not\n",
        "regex = r\"[^a-zA-Z0-9 ]\"\n",
        "\n",
        "# 정규식을 적용할 스트링\n",
        "test_str = (\"(Natural Language Processing) is easy!, DS!\\n\")\n",
        "\n",
        "# 치환할 문자\n",
        "subst = \"\"\n",
        "\n",
        "result = re.sub(regex, subst, test_str)"
      ],
      "execution_count": null,
      "outputs": []
    },
    {
      "cell_type": "markdown",
      "metadata": {
        "id": "yGb6bXwo5i4C"
      },
      "source": [
        "`.sub` 메서드 외에 다른 메서드에 대해서도 알아봅시다.\n",
        "\n",
        "정규표현식을 수행한 후 소문자로 통일하고 공백 문자를 기준으로 나누는 하나의 함수 `tokenize`를 만들어 보겠습니다."
      ]
    },
    {
      "cell_type": "code",
      "metadata": {
        "id": "vwsryWLE5s06"
      },
      "source": [
        "def tokenize(text):\n",
        "    \"\"\"text 문자열을 의미있는 단어 단위로 list에 저장합니다.\n",
        "    Args:\n",
        "        text (str): 토큰화 할 문자열\n",
        "    Returns:\n",
        "        list: 토큰이 저장된 리스트\n",
        "    \"\"\"\n",
        "    # 정규식 적용\n",
        "    tokens = re.sub(regex, subst, text)\n",
        "\n",
        "    # 소문자로 치환\n",
        "    tokens = tokens.lower().split()\n",
        "    \n",
        "    return tokens"
      ],
      "execution_count": null,
      "outputs": []
    },
    {
      "cell_type": "markdown",
      "metadata": {
        "id": "7qlHypTQ6TlA"
      },
      "source": [
        "위에서 다룬 아마존 리뷰 데이터 중 `reviews.text` 열에 `tokenize` 함수를 적용하여 전처리 해보겠습니다. "
      ]
    },
    {
      "cell_type": "code",
      "metadata": {
        "colab": {
          "base_uri": "https://localhost:8080/"
        },
        "id": "oW0AS5qX6nJV",
        "outputId": "e1ddeeb3-05da-4652-c68f-2c2a618f5d5a"
      },
      "source": [
        "df['reviews.text'].value_counts(normalize=True)[:10]"
      ],
      "execution_count": null,
      "outputs": [
        {
          "output_type": "execute_result",
          "data": {
            "text/plain": [
              "good           0.002576\n",
              "Good           0.001717\n",
              "great          0.001717\n",
              "ok             0.001431\n",
              "Great          0.001431\n",
              "Great price    0.001431\n",
              "Great value    0.001240\n",
              "Excellent      0.001049\n",
              "good price     0.000859\n",
              "great price    0.000859\n",
              "Name: reviews.text, dtype: float64"
            ]
          },
          "metadata": {
            "tags": []
          },
          "execution_count": 14
        }
      ]
    },
    {
      "cell_type": "markdown",
      "metadata": {
        "id": "Ovx_LLgL6mw_"
      },
      "source": [
        "각 리뷰텍스트를 토크나이즈 하여 `tokens` 칼럼으로 만듭니다."
      ]
    },
    {
      "cell_type": "code",
      "metadata": {
        "colab": {
          "base_uri": "https://localhost:8080/"
        },
        "id": "XOpJ8hIg62z0",
        "outputId": "36c2d2ea-2d2f-4e30-b6e9-3a7fcc22868b"
      },
      "source": [
        "df['tokens'] = df['reviews.text'].apply(tokenize)\n",
        "df['tokens'].head()"
      ],
      "execution_count": null,
      "outputs": [
        {
          "output_type": "execute_result",
          "data": {
            "text/plain": [
              "0    [though, i, have, got, it, for, cheap, price, ...\n",
              "1    [i, purchased, the, 7, for, my, son, when, he,...\n",
              "2    [great, price, and, great, batteries, i, will,...\n",
              "3    [great, tablet, for, kids, my, boys, love, the...\n",
              "4    [they, lasted, really, little, some, of, them,...\n",
              "Name: tokens, dtype: object"
            ]
          },
          "metadata": {
            "tags": []
          },
          "execution_count": 15
        }
      ]
    },
    {
      "cell_type": "code",
      "metadata": {
        "colab": {
          "base_uri": "https://localhost:8080/",
          "height": 359
        },
        "id": "oLxOr-_U63-W",
        "outputId": "62c31ee1-4709-4c74-c539-1a779bb40460"
      },
      "source": [
        "df[['reviews.text', 'tokens']][:10]"
      ],
      "execution_count": null,
      "outputs": [
        {
          "output_type": "execute_result",
          "data": {
            "text/html": [
              "<div>\n",
              "<style scoped>\n",
              "    .dataframe tbody tr th:only-of-type {\n",
              "        vertical-align: middle;\n",
              "    }\n",
              "\n",
              "    .dataframe tbody tr th {\n",
              "        vertical-align: top;\n",
              "    }\n",
              "\n",
              "    .dataframe thead th {\n",
              "        text-align: right;\n",
              "    }\n",
              "</style>\n",
              "<table border=\"1\" class=\"dataframe\">\n",
              "  <thead>\n",
              "    <tr style=\"text-align: right;\">\n",
              "      <th></th>\n",
              "      <th>reviews.text</th>\n",
              "      <th>tokens</th>\n",
              "    </tr>\n",
              "  </thead>\n",
              "  <tbody>\n",
              "    <tr>\n",
              "      <th>0</th>\n",
              "      <td>Though I have got it for cheap price during bl...</td>\n",
              "      <td>[though, i, have, got, it, for, cheap, price, ...</td>\n",
              "    </tr>\n",
              "    <tr>\n",
              "      <th>1</th>\n",
              "      <td>I purchased the 7\" for my son when he was 1.5 ...</td>\n",
              "      <td>[i, purchased, the, 7, for, my, son, when, he,...</td>\n",
              "    </tr>\n",
              "    <tr>\n",
              "      <th>2</th>\n",
              "      <td>Great price and great batteries! I will keep o...</td>\n",
              "      <td>[great, price, and, great, batteries, i, will,...</td>\n",
              "    </tr>\n",
              "    <tr>\n",
              "      <th>3</th>\n",
              "      <td>Great tablet for kids my boys love their table...</td>\n",
              "      <td>[great, tablet, for, kids, my, boys, love, the...</td>\n",
              "    </tr>\n",
              "    <tr>\n",
              "      <th>4</th>\n",
              "      <td>They lasted really little.. (some of them) I u...</td>\n",
              "      <td>[they, lasted, really, little, some, of, them,...</td>\n",
              "    </tr>\n",
              "    <tr>\n",
              "      <th>5</th>\n",
              "      <td>I purchased 2 others for my 5 &amp; 6yr-olds, and ...</td>\n",
              "      <td>[i, purchased, 2, others, for, my, 5, 6yrolds,...</td>\n",
              "    </tr>\n",
              "    <tr>\n",
              "      <th>6</th>\n",
              "      <td>We purchased Amazon Fire kids edition tablet t...</td>\n",
              "      <td>[we, purchased, amazon, fire, kids, edition, t...</td>\n",
              "    </tr>\n",
              "    <tr>\n",
              "      <th>7</th>\n",
              "      <td>Got this when they were on sale last year and ...</td>\n",
              "      <td>[got, this, when, they, were, on, sale, last, ...</td>\n",
              "    </tr>\n",
              "    <tr>\n",
              "      <th>8</th>\n",
              "      <td>Lotta batteries. at a good price.</td>\n",
              "      <td>[lotta, batteries, at, a, good, price]</td>\n",
              "    </tr>\n",
              "    <tr>\n",
              "      <th>9</th>\n",
              "      <td>Best deal and work as expected</td>\n",
              "      <td>[best, deal, and, work, as, expected]</td>\n",
              "    </tr>\n",
              "  </tbody>\n",
              "</table>\n",
              "</div>"
            ],
            "text/plain": [
              "                                        reviews.text                                             tokens\n",
              "0  Though I have got it for cheap price during bl...  [though, i, have, got, it, for, cheap, price, ...\n",
              "1  I purchased the 7\" for my son when he was 1.5 ...  [i, purchased, the, 7, for, my, son, when, he,...\n",
              "2  Great price and great batteries! I will keep o...  [great, price, and, great, batteries, i, will,...\n",
              "3  Great tablet for kids my boys love their table...  [great, tablet, for, kids, my, boys, love, the...\n",
              "4  They lasted really little.. (some of them) I u...  [they, lasted, really, little, some, of, them,...\n",
              "5  I purchased 2 others for my 5 & 6yr-olds, and ...  [i, purchased, 2, others, for, my, 5, 6yrolds,...\n",
              "6  We purchased Amazon Fire kids edition tablet t...  [we, purchased, amazon, fire, kids, edition, t...\n",
              "7  Got this when they were on sale last year and ...  [got, this, when, they, were, on, sale, last, ...\n",
              "8                  Lotta batteries. at a good price.             [lotta, batteries, at, a, good, price]\n",
              "9                     Best deal and work as expected              [best, deal, and, work, as, expected]"
            ]
          },
          "metadata": {
            "tags": []
          },
          "execution_count": 16
        }
      ]
    },
    {
      "cell_type": "markdown",
      "metadata": {
        "id": "zHkkzj6E6v80"
      },
      "source": [
        "결과를 분석해보겠습니다."
      ]
    },
    {
      "cell_type": "code",
      "metadata": {
        "colab": {
          "base_uri": "https://localhost:8080/"
        },
        "id": "FxY1HTQJ7QUo",
        "outputId": "92a6311e-cfef-44e0-d6c3-02f876d685e1"
      },
      "source": [
        "from collections import Counter\n",
        "\n",
        "# Counter 객체는 리스트요소의 값과 요소의 갯수를 카운트 하여 저장하고 있습니다.\n",
        "# 카운터 객체는 .update 메소드로 계속 업데이트 가능합니다.\n",
        "word_counts = Counter()\n",
        "\n",
        "# 토큰화된 각 리뷰 리스트를 카운터 객체에 업데이트 합니다. \n",
        "df['tokens'].apply(lambda x: word_counts.update(x))\n",
        "\n",
        "# 가장 많이 존재하는 단어 순으로 10개를 나열합니다\n",
        "word_counts.most_common(10)"
      ],
      "execution_count": null,
      "outputs": [
        {
          "output_type": "execute_result",
          "data": {
            "text/plain": [
              "[('the', 10514),\n",
              " ('and', 8137),\n",
              " ('i', 7465),\n",
              " ('to', 7150),\n",
              " ('for', 6617),\n",
              " ('a', 6421),\n",
              " ('it', 6096),\n",
              " ('my', 4119),\n",
              " ('is', 4111),\n",
              " ('this', 3752)]"
            ]
          },
          "metadata": {
            "tags": []
          },
          "execution_count": 17
        }
      ]
    },
    {
      "cell_type": "markdown",
      "metadata": {
        "id": "xnnYkZX28sdj"
      },
      "source": [
        "위 코드를 변형하여 코퍼스의 전체 워드 카운트, 랭크 등 정보가 담긴 데이터프레임을 리턴하는 함수를 만들어 봅시다.<br/>\n",
        "이 함수는 토큰화된 문서들이 들어있는 코퍼스를 입력으로 받습니다."
      ]
    },
    {
      "cell_type": "code",
      "metadata": {
        "id": "GzUM8WZO8m2g"
      },
      "source": [
        "def word_count(docs):\n",
        "    \"\"\" 토큰화된 문서들을 입력받아 토큰을 카운트 하고 관련된 속성을 가진 데이터프레임을 리턴합니다.\n",
        "    Args:\n",
        "        docs (series or list): 토큰화된 문서가 들어있는 list\n",
        "    Returns:\n",
        "        list: Dataframe\n",
        "    \"\"\"\n",
        "    # 전체 코퍼스에서 단어 빈도 카운트\n",
        "    word_counts = Counter()\n",
        "\n",
        "    # 단어가 존재하는 문서의 빈도 카운트, 단어가 한 번 이상 존재하면 +1\n",
        "    word_in_docs = Counter()\n",
        "\n",
        "    # 전체 문서의 갯수\n",
        "    total_docs = len(docs)\n",
        "\n",
        "    for doc in docs:\n",
        "        word_counts.update(doc)\n",
        "        word_in_docs.update(set(doc))\n",
        "\n",
        "    temp = zip(word_counts.keys(), word_counts.values())\n",
        "\n",
        "    wc = pd.DataFrame(temp, columns = ['word', 'count'])\n",
        "\n",
        "    # 단어의 순위\n",
        "    # method='first': 같은 값의 경우 먼저나온 요소를 우선\n",
        "    wc['rank'] = wc['count'].rank(method='first', ascending=False)\n",
        "    total = wc['count'].sum()\n",
        "\n",
        "    # 코퍼스 내 단어의 비율\n",
        "    wc['percent'] = wc['count'].apply(lambda x: x / total)\n",
        "\n",
        "    wc = wc.sort_values(by='rank')\n",
        "\n",
        "    # 누적 비율\n",
        "    # cumsum() : cumulative sum\n",
        "    wc['cul_percent'] = wc['percent'].cumsum()\n",
        "\n",
        "    temp2 = zip(word_in_docs.keys(), word_in_docs.values())\n",
        "    ac = pd.DataFrame(temp2, columns=['word', 'word_in_docs'])\n",
        "    wc = ac.merge(wc, on='word')\n",
        "    \n",
        "    # 전체 문서 중 존재하는 비율\n",
        "    wc['word_in_docs_percent'] = wc['word_in_docs'].apply(lambda x: x / total_docs)\n",
        "\n",
        "    return wc.sort_values(by='rank')"
      ],
      "execution_count": null,
      "outputs": []
    },
    {
      "cell_type": "code",
      "metadata": {
        "colab": {
          "base_uri": "https://localhost:8080/",
          "height": 204
        },
        "id": "LHWy3mzz8zFP",
        "outputId": "7a6c84fa-920c-482c-f54b-504d9deb0d20"
      },
      "source": [
        "wc = word_count(df['tokens'])\n",
        "wc.head()"
      ],
      "execution_count": null,
      "outputs": [
        {
          "output_type": "execute_result",
          "data": {
            "text/html": [
              "<div>\n",
              "<style scoped>\n",
              "    .dataframe tbody tr th:only-of-type {\n",
              "        vertical-align: middle;\n",
              "    }\n",
              "\n",
              "    .dataframe tbody tr th {\n",
              "        vertical-align: top;\n",
              "    }\n",
              "\n",
              "    .dataframe thead th {\n",
              "        text-align: right;\n",
              "    }\n",
              "</style>\n",
              "<table border=\"1\" class=\"dataframe\">\n",
              "  <thead>\n",
              "    <tr style=\"text-align: right;\">\n",
              "      <th></th>\n",
              "      <th>word</th>\n",
              "      <th>word_in_docs</th>\n",
              "      <th>count</th>\n",
              "      <th>rank</th>\n",
              "      <th>percent</th>\n",
              "      <th>cul_percent</th>\n",
              "      <th>word_in_docs_percent</th>\n",
              "    </tr>\n",
              "  </thead>\n",
              "  <tbody>\n",
              "    <tr>\n",
              "      <th>40</th>\n",
              "      <td>the</td>\n",
              "      <td>4909</td>\n",
              "      <td>10514</td>\n",
              "      <td>1.0</td>\n",
              "      <td>0.039353</td>\n",
              "      <td>0.039353</td>\n",
              "      <td>0.468282</td>\n",
              "    </tr>\n",
              "    <tr>\n",
              "      <th>12</th>\n",
              "      <td>and</td>\n",
              "      <td>5064</td>\n",
              "      <td>8137</td>\n",
              "      <td>2.0</td>\n",
              "      <td>0.030456</td>\n",
              "      <td>0.069809</td>\n",
              "      <td>0.483068</td>\n",
              "    </tr>\n",
              "    <tr>\n",
              "      <th>9</th>\n",
              "      <td>i</td>\n",
              "      <td>3781</td>\n",
              "      <td>7465</td>\n",
              "      <td>3.0</td>\n",
              "      <td>0.027941</td>\n",
              "      <td>0.097750</td>\n",
              "      <td>0.360679</td>\n",
              "    </tr>\n",
              "    <tr>\n",
              "      <th>140</th>\n",
              "      <td>to</td>\n",
              "      <td>4157</td>\n",
              "      <td>7150</td>\n",
              "      <td>4.0</td>\n",
              "      <td>0.026762</td>\n",
              "      <td>0.124512</td>\n",
              "      <td>0.396547</td>\n",
              "    </tr>\n",
              "    <tr>\n",
              "      <th>16</th>\n",
              "      <td>for</td>\n",
              "      <td>4477</td>\n",
              "      <td>6617</td>\n",
              "      <td>5.0</td>\n",
              "      <td>0.024767</td>\n",
              "      <td>0.149278</td>\n",
              "      <td>0.427072</td>\n",
              "    </tr>\n",
              "  </tbody>\n",
              "</table>\n",
              "</div>"
            ],
            "text/plain": [
              "    word  word_in_docs  count  ...   percent  cul_percent  word_in_docs_percent\n",
              "40   the          4909  10514  ...  0.039353     0.039353              0.468282\n",
              "12   and          5064   8137  ...  0.030456     0.069809              0.483068\n",
              "9      i          3781   7465  ...  0.027941     0.097750              0.360679\n",
              "140   to          4157   7150  ...  0.026762     0.124512              0.396547\n",
              "16   for          4477   6617  ...  0.024767     0.149278              0.427072\n",
              "\n",
              "[5 rows x 7 columns]"
            ]
          },
          "metadata": {
            "tags": []
          },
          "execution_count": 19
        }
      ]
    },
    {
      "cell_type": "markdown",
      "metadata": {
        "id": "__g0mLdU86yF"
      },
      "source": [
        "단어의 누적 분포 그래프를 그려보겠습니다."
      ]
    },
    {
      "cell_type": "code",
      "metadata": {
        "colab": {
          "base_uri": "https://localhost:8080/",
          "height": 279
        },
        "id": "mSSjJafj89HD",
        "outputId": "48fd4637-48ac-465f-b86a-3ce7c968b91b"
      },
      "source": [
        "import seaborn as sns\n",
        "\n",
        "sns.lineplot(x='rank', y='cul_percent', data=wc);"
      ],
      "execution_count": null,
      "outputs": [
        {
          "output_type": "display_data",
          "data": {
            "image/png": "[encoded data removed]",
            "text/plain": [
              "<Figure size 432x288 with 1 Axes>"
            ]
          },
          "metadata": {
            "tags": [],
            "needs_background": "light"
          }
        }
      ]
    },
    {
      "cell_type": "code",
      "metadata": {
        "colab": {
          "base_uri": "https://localhost:8080/"
        },
        "id": "6SnF8ZcM9CD_",
        "outputId": "e9055cba-5cd4-4374-e014-ca090f0efdc0"
      },
      "source": [
        "wc[wc['rank'] <= 1000]['cul_percent'].max()"
      ],
      "execution_count": null,
      "outputs": [
        {
          "output_type": "execute_result",
          "data": {
            "text/plain": [
              "0.9097585076280484"
            ]
          },
          "metadata": {
            "tags": []
          },
          "execution_count": 21
        }
      ]
    },
    {
      "cell_type": "markdown",
      "metadata": {
        "id": "rd_RuMdmGQjJ"
      },
      "source": [
        "결과를 시각화 해봅시다."
      ]
    },
    {
      "cell_type": "code",
      "metadata": {
        "colab": {
          "base_uri": "https://localhost:8080/"
        },
        "id": "1oGPtXbi9Jp4",
        "outputId": "b653de2b-07f6-4e2a-f474-5ac013254b57"
      },
      "source": [
        "!pip install squarify"
      ],
      "execution_count": null,
      "outputs": [
        {
          "output_type": "stream",
          "text": [
            "Collecting squarify\n",
            "  Downloading https://files.pythonhosted.org/packages/0b/2b/2e77c35326efec19819cd1d729540d4d235e6c2a3f37658288a363a67da5/squarify-0.4.3-py3-none-any.whl\n",
            "Installing collected packages: squarify\n",
            "Successfully installed squarify-0.4.3\n"
          ],
          "name": "stdout"
        }
      ]
    },
    {
      "cell_type": "code",
      "metadata": {
        "colab": {
          "base_uri": "https://localhost:8080/",
          "height": 248
        },
        "id": "hez3pMa_9Ebt",
        "outputId": "75f78e81-1c62-4664-8788-e45e837d1510"
      },
      "source": [
        "import squarify\n",
        "import matplotlib.pyplot as plt\n",
        "\n",
        "color=['viridis']\n",
        "\n",
        "wc_top20 = wc[wc['rank'] <= 20]\n",
        "squarify.plot(sizes=wc_top20['percent'], label=wc_top20['word'], alpha=0.6)\n",
        "plt.axis('off')\n",
        "plt.show()"
      ],
      "execution_count": null,
      "outputs": [
        {
          "output_type": "display_data",
          "data": {
            "image/png": "[encoded data removed]",
            "text/plain": [
              "<Figure size 432x288 with 1 Axes>"
            ]
          },
          "metadata": {
            "tags": [],
            "needs_background": "light"
          }
        }
      ]
    },
    {
      "cell_type": "markdown",
      "metadata": {
        "id": "DEICzAeT83AH"
      },
      "source": [
        "### 4) SpaCy를 사용하여 더욱 쉽게 처리하기"
      ]
    },
    {
      "cell_type": "markdown",
      "metadata": {
        "id": "gJ0opNm49XDJ"
      },
      "source": [
        "`Spacy` 는 문서 구성요소를 다양한 구조에 나누어 저장하는 대신, 요소를 색인화하고 검색정보를 간단히 저장하는 라이브러리입니다. <br/>\n",
        "그렇기 때문에 실제 배포 단계에서 `NLTK` 라이브러리보다 `Spacy` 가 더 빠릅니다.<br/>\n"
      ]
    },
    {
      "cell_type": "code",
      "metadata": {
        "id": "OV9vlV7Q9kdI"
      },
      "source": [
        "# spacy.io\n",
        "import spacy\n",
        "from spacy.tokenizer import Tokenizer\n",
        "\n",
        "# Load general-purpose pretrained models to predict named entities, part-of-speech tags and syntactic dependencies\n",
        "## https://spacy.io/models\n",
        "## python -m spacy download en_core_web_sm\n",
        "nlp = spacy.load(\"en_core_web_sm\")\n",
        "\n",
        "# Tokenizer 생성\n",
        "tokenizer = Tokenizer(nlp.vocab)"
      ],
      "execution_count": null,
      "outputs": []
    },
    {
      "cell_type": "markdown",
      "metadata": {
        "id": "7J4pqg2lGvwr"
      },
      "source": [
        "`SpaCy` 를 사용하면 더욱 쉽고 빠르게 토큰화를 수행할 수 있습니다."
      ]
    },
    {
      "cell_type": "code",
      "metadata": {
        "colab": {
          "base_uri": "https://localhost:8080/"
        },
        "id": "TD83u9Qp9pXz",
        "outputId": "c37ac776-8501-4b38-b005-47af50f3c7ea"
      },
      "source": [
        "# Tokenizer Pipe\n",
        "\n",
        "tokens = []\n",
        "\n",
        "# 토큰화 (in stream process)\n",
        "# .pipe streams input, and produces streaming output\n",
        "for doc in tokenizer.pipe(df['reviews.text']):\n",
        "    doc_tokens = [token.text for token in doc]\n",
        "    tokens.append(doc_tokens)\n",
        "\n",
        "df['tokens'] = tokens\n",
        "df['tokens'].head()"
      ],
      "execution_count": null,
      "outputs": [
        {
          "output_type": "execute_result",
          "data": {
            "text/plain": [
              "0    [Though, I, have, got, it, for, cheap, price, ...\n",
              "1    [I, purchased, the, 7\", for, my, son, when, he...\n",
              "2    [Great, price, and, great, batteries!, I, will...\n",
              "3    [Great, tablet, for, kids, my, boys, love, the...\n",
              "4    [They, lasted, really, little.., (some, of, th...\n",
              "Name: tokens, dtype: object"
            ]
          },
          "metadata": {
            "tags": []
          },
          "execution_count": 25
        }
      ]
    },
    {
      "cell_type": "code",
      "metadata": {
        "colab": {
          "base_uri": "https://localhost:8080/",
          "height": 204
        },
        "id": "ZPFe-nHu96Qv",
        "outputId": "a9ccb4ca-81b1-4c11-d396-cc6c2c663ff5"
      },
      "source": [
        "wc = word_count(df['tokens'])\n",
        "wc.head()"
      ],
      "execution_count": null,
      "outputs": [
        {
          "output_type": "execute_result",
          "data": {
            "text/html": [
              "<div>\n",
              "<style scoped>\n",
              "    .dataframe tbody tr th:only-of-type {\n",
              "        vertical-align: middle;\n",
              "    }\n",
              "\n",
              "    .dataframe tbody tr th {\n",
              "        vertical-align: top;\n",
              "    }\n",
              "\n",
              "    .dataframe thead th {\n",
              "        text-align: right;\n",
              "    }\n",
              "</style>\n",
              "<table border=\"1\" class=\"dataframe\">\n",
              "  <thead>\n",
              "    <tr style=\"text-align: right;\">\n",
              "      <th></th>\n",
              "      <th>word</th>\n",
              "      <th>word_in_docs</th>\n",
              "      <th>count</th>\n",
              "      <th>rank</th>\n",
              "      <th>percent</th>\n",
              "      <th>cul_percent</th>\n",
              "      <th>word_in_docs_percent</th>\n",
              "    </tr>\n",
              "  </thead>\n",
              "  <tbody>\n",
              "    <tr>\n",
              "      <th>39</th>\n",
              "      <td>the</td>\n",
              "      <td>4587</td>\n",
              "      <td>9220</td>\n",
              "      <td>1.0</td>\n",
              "      <td>0.034401</td>\n",
              "      <td>0.034401</td>\n",
              "      <td>0.437566</td>\n",
              "    </tr>\n",
              "    <tr>\n",
              "      <th>8</th>\n",
              "      <td>and</td>\n",
              "      <td>5004</td>\n",
              "      <td>7974</td>\n",
              "      <td>2.0</td>\n",
              "      <td>0.029752</td>\n",
              "      <td>0.064153</td>\n",
              "      <td>0.477344</td>\n",
              "    </tr>\n",
              "    <tr>\n",
              "      <th>20</th>\n",
              "      <td>I</td>\n",
              "      <td>3642</td>\n",
              "      <td>7160</td>\n",
              "      <td>3.0</td>\n",
              "      <td>0.026715</td>\n",
              "      <td>0.090868</td>\n",
              "      <td>0.347420</td>\n",
              "    </tr>\n",
              "    <tr>\n",
              "      <th>153</th>\n",
              "      <td>to</td>\n",
              "      <td>4129</td>\n",
              "      <td>7068</td>\n",
              "      <td>4.0</td>\n",
              "      <td>0.026372</td>\n",
              "      <td>0.117240</td>\n",
              "      <td>0.393876</td>\n",
              "    </tr>\n",
              "    <tr>\n",
              "      <th>13</th>\n",
              "      <td>for</td>\n",
              "      <td>4360</td>\n",
              "      <td>6366</td>\n",
              "      <td>5.0</td>\n",
              "      <td>0.023752</td>\n",
              "      <td>0.140992</td>\n",
              "      <td>0.415911</td>\n",
              "    </tr>\n",
              "  </tbody>\n",
              "</table>\n",
              "</div>"
            ],
            "text/plain": [
              "    word  word_in_docs  count  ...   percent  cul_percent  word_in_docs_percent\n",
              "39   the          4587   9220  ...  0.034401     0.034401              0.437566\n",
              "8    and          5004   7974  ...  0.029752     0.064153              0.477344\n",
              "20     I          3642   7160  ...  0.026715     0.090868              0.347420\n",
              "153   to          4129   7068  ...  0.026372     0.117240              0.393876\n",
              "13   for          4360   6366  ...  0.023752     0.140992              0.415911\n",
              "\n",
              "[5 rows x 7 columns]"
            ]
          },
          "metadata": {
            "tags": []
          },
          "execution_count": 26
        }
      ]
    },
    {
      "cell_type": "code",
      "metadata": {
        "colab": {
          "base_uri": "https://localhost:8080/",
          "height": 248
        },
        "id": "z-lZqvcG97pc",
        "outputId": "e1ae0c93-eefd-4b8a-faf2-e960428dbf8a"
      },
      "source": [
        "wc_top20 = wc[wc['rank'] <= 20]\n",
        "\n",
        "squarify.plot(sizes=wc_top20['percent'], label=wc_top20['word'], alpha=0.6 )\n",
        "plt.axis('off')\n",
        "plt.show()"
      ],
      "execution_count": null,
      "outputs": [
        {
          "output_type": "display_data",
          "data": {
            "image/png": "[encoded data removed]",
            "text/plain": [
              "<Figure size 432x288 with 1 Axes>"
            ]
          },
          "metadata": {
            "tags": [],
            "needs_background": "light"
          }
        }
      ]
    },
    {
      "cell_type": "markdown",
      "metadata": {
        "id": "q05OUw8DwTfj"
      },
      "source": [
        "### 5) 불용어(Stop words) 처리"
      ]
    },
    {
      "cell_type": "markdown",
      "metadata": {
        "id": "Wu2TXwKvOHoS"
      },
      "source": [
        "위에서 시각화한 단어 대부분은 제품 리뷰를 이해하는데 그다지 도움이 되지 않습니다. 'I', 'and', 'of' 같은 단어들은 리뷰 관점에서 아무런 의미가 없습니다. <br/>\n",
        "이런 단어들을 **'Stop words(불용어)'** 라고 합니다.<br/>\n",
        "분석할 때 해당하는 단어를 제외하기 때문입니다.\n",
        "\n",
        "대부분의 NLP 라이브러리는 접속사, 관사, 부사, 대명사, 일반동사 등을 포함한 일반적인 불용어를 내장하고 있습니다.<br/>\n",
        "`spacy`가 기본적으로 제공하는 불용어는 어떤 것들이 있는지 알아보겠습니다."
      ]
    },
    {
      "cell_type": "code",
      "metadata": {
        "colab": {
          "base_uri": "https://localhost:8080/"
        },
        "id": "h5e0F07aOgqO",
        "outputId": "99a4f75e-97a0-4a27-ae30-ee0e9de2d7b5"
      },
      "source": [
        "print(nlp.Defaults.stop_words)"
      ],
      "execution_count": null,
      "outputs": [
        {
          "output_type": "stream",
          "text": [
            "{'now', '’d', 'while', 'two', 'which', 'has', 'across', 'per', 'beside', 'herself', 'his', 'nothing', 'sixty', 'alone', \"'ve\", 'of', 'within', 'empty', 'further', 'whereafter', 'myself', 'hundred', 'hereupon', 'meanwhile', 'our', 'might', 'hereafter', 'less', 'still', 'quite', 'above', 'is', 'hereby', 'front', 'therein', 'been', \"'m\", 'wherever', 'elsewhere', 'no', 'yourselves', 'have', 'but', 'themselves', 'forty', 'than', 'whole', 'more', 'none', '’m', 'seem', 'someone', 'into', 'had', 'when', 'only', 'and', 'hence', 'any', 'five', 'should', 'seeming', 'keep', 'your', 'did', 'name', 'beforehand', 'say', 'all', 'yourself', 'becoming', 'does', 'moreover', 'became', 'anything', 'without', 'throughout', 'anyway', 'enough', 'during', 'last', 'anyone', '‘ll', 'seemed', '‘d', 'always', 'regarding', 'every', 'eight', 'indeed', 'using', 'on', 'together', '’ve', 'around', 'do', 'until', 'neither', 'call', 'off', 'those', \"'ll\", 'n’t', 'what', 'next', 'whereupon', 'another', 'somewhere', 'she', 'fifty', 'however', 'full', 'at', 'toward', 'used', 'upon', 'whatever', 'part', 'from', 'i', 'three', 'some', 'become', 'again', 'for', 'may', 'everyone', 'either', 'many', 'so', 'former', 'show', 'sometimes', 'seems', 'where', 'this', 'rather', 'wherein', 'various', 'who', 'each', 'too', 'becomes', 'eleven', 'nobody', 'bottom', '‘m', 'often', 'before', '‘ve', 'although', 'these', 'will', 'beyond', 'give', 'nevertheless', 'thus', 'sometime', 'thereby', 'could', 'few', 'just', 'n‘t', 'because', 'afterwards', 'an', 'him', 'third', 'whither', 'almost', 'get', 'herein', 'below', 'something', 'formerly', 'latterly', 'else', 'not', 'everywhere', 'never', 'see', 'four', 'thru', 'against', 'thereafter', 'once', 'am', 'ten', 'they', 'whereas', 'nowhere', 'along', 'behind', 'you', '’ll', 'her', 'there', 'whose', 'down', 'it', 'nine', 'though', 'done', 'one', 'to', 'please', 'amount', 'somehow', \"'d\", 'a', 'whether', 'why', 'can', 'much', 'over', 'cannot', 'them', 'put', 'hers', 'such', 'nor', 'everything', \"'s\", 'onto', 'since', 'twelve', 'besides', 'ours', 'whenever', 'as', 'also', '‘s', 'back', 'first', 'if', 'himself', 'are', 'us', 'were', 'yet', 'mine', 'between', 'by', 'namely', 'twenty', 'about', '’s', \"'re\", 'thereupon', 'take', 'its', 'ever', 'except', 'ca', 'side', 'my', 'the', 'others', 'mostly', 'whom', 'doing', 'therefore', 'other', 'anyhow', 'make', 'both', 'was', 'own', 'made', 'thence', 'under', 'towards', 'out', 'me', 'then', 'top', 'whereby', 'being', 'through', 'how', 'be', 'move', 'after', 'six', 'he', 'serious', 'really', 'yours', 'or', \"n't\", 'with', 'we', 'itself', 'same', 'via', 'would', 're', 'fifteen', 'here', 'whence', 'that', 'among', 'unless', 'very', 'go', 'must', '‘re', 'even', 'least', 'noone', '’re', 'their', 'latter', 'already', 'ourselves', 'perhaps', 'several', 'amongst', 'due', 'most', 'whoever', 'anywhere', 'otherwise', 'well', 'up', 'in'}\n"
          ],
          "name": "stdout"
        }
      ]
    },
    {
      "cell_type": "markdown",
      "metadata": {
        "id": "_Vp87hIEAKXQ"
      },
      "source": [
        "해당 불용어를 제외하고 토크나이징을 진행한 결과는 아래와 같습니다."
      ]
    },
    {
      "cell_type": "code",
      "metadata": {
        "colab": {
          "base_uri": "https://localhost:8080/"
        },
        "id": "oVZMGojfOk8s",
        "outputId": "0f90dd67-65a2-4f17-b692-cedc5d29d737"
      },
      "source": [
        "tokens = []\n",
        "# 토큰에서 불용어 제거, 소문자화 하여 업데이트\n",
        "for doc in tokenizer.pipe(df['reviews.text']):\n",
        "    doc_tokens = []\n",
        "\n",
        "    # A doc is a sequence of Token(<class 'spacy.tokens.doc.Doc'>)\n",
        "    for token in doc:\n",
        "        # 토큰이 불용어와 구두점이 아니면 저장\n",
        "        if (token.is_stop == False) & (token.is_punct == False):\n",
        "            doc_tokens.append(token.text.lower())\n",
        "\n",
        "    tokens.append(doc_tokens)\n",
        "\n",
        "df['tokens'] = tokens\n",
        "df.tokens.head()"
      ],
      "execution_count": null,
      "outputs": [
        {
          "output_type": "execute_result",
          "data": {
            "text/plain": [
              "0    [got, cheap, price, black, friday,, fire, grea...\n",
              "1    [purchased, 7\", son, 1.5, years, old,, broke, ...\n",
              "2    [great, price, great, batteries!, buying, anyt...\n",
              "3         [great, tablet, kids, boys, love, tablets!!]\n",
              "4    [lasted, little.., (some, them), use, batterie...\n",
              "Name: tokens, dtype: object"
            ]
          },
          "metadata": {
            "tags": []
          },
          "execution_count": 29
        }
      ]
    },
    {
      "cell_type": "code",
      "metadata": {
        "colab": {
          "base_uri": "https://localhost:8080/",
          "height": 248
        },
        "id": "IvIOrqtGAUEI",
        "outputId": "0d38afe6-7fec-4b5e-bd4b-3651a70dfe56"
      },
      "source": [
        "wc = word_count(df['tokens'])\n",
        "\n",
        "wc_top20 = wc[wc['rank'] <= 20]\n",
        "\n",
        "squarify.plot(sizes=wc_top20['percent'], label=wc_top20['word'], alpha=0.6)\n",
        "plt.axis('off')\n",
        "plt.show()"
      ],
      "execution_count": null,
      "outputs": [
        {
          "output_type": "display_data",
          "data": {
            "image/png": "[encoded data removed]",
            "text/plain": [
              "<Figure size 432x288 with 1 Axes>"
            ]
          },
          "metadata": {
            "tags": [],
            "needs_background": "light"
          }
        }
      ]
    },
    {
      "cell_type": "markdown",
      "metadata": {
        "id": "WrjTMAZnAPsi"
      },
      "source": [
        "불용어들이 모두 제거가 되어 완전히 다른 단어들이 상위에서 보이는 것을 알 수 있습니다."
      ]
    },
    {
      "cell_type": "markdown",
      "metadata": {
        "id": "zEX7WuRtAZ-4"
      },
      "source": [
        "- **불용어 커스터마이징 하기**"
      ]
    },
    {
      "cell_type": "markdown",
      "metadata": {
        "id": "vDb-GTTmP0IE"
      },
      "source": [
        "여러분이 다루는 데이터에 따라 불용어를 커스터마이즈할 수 있습니다. <br/>\n",
        "중요하지 않지만 상위에 나오는 몇몇 단어들을 불용어에 추가해 보겠습니다. <br/>\n",
        "(반대로 기존에 불용어로 취급되는 단어를 제거할 수도 있습니다.)"
      ]
    },
    {
      "cell_type": "code",
      "metadata": {
        "colab": {
          "base_uri": "https://localhost:8080/"
        },
        "id": "bdge3uMHBybM",
        "outputId": "c7acfacc-a25f-46a3-9b71-6da846b6de3f"
      },
      "source": [
        "print(type(nlp.Defaults.stop_words))"
      ],
      "execution_count": null,
      "outputs": [
        {
          "output_type": "stream",
          "text": [
            "<class 'set'>\n"
          ],
          "name": "stdout"
        }
      ]
    },
    {
      "cell_type": "code",
      "metadata": {
        "id": "WGJA-tv6B0C0"
      },
      "source": [
        "STOP_WORDS = nlp.Defaults.stop_words.union(['batteries','I', 'amazon', 'i', 'Amazon', 'it', \"it's\", 'it.', 'the', 'this'])"
      ],
      "execution_count": null,
      "outputs": []
    },
    {
      "cell_type": "code",
      "metadata": {
        "id": "bW_N5oX5B590"
      },
      "source": [
        "tokens = []\n",
        "\n",
        "for doc in tokenizer.pipe(df['reviews.text']):\n",
        "    \n",
        "    doc_tokens = []\n",
        "    \n",
        "    for token in doc: \n",
        "        if token.text.lower() not in STOP_WORDS:\n",
        "            doc_tokens.append(token.text.lower())\n",
        "   \n",
        "    tokens.append(doc_tokens)\n",
        "    \n",
        "df['tokens'] = tokens"
      ],
      "execution_count": null,
      "outputs": []
    },
    {
      "cell_type": "code",
      "metadata": {
        "colab": {
          "base_uri": "https://localhost:8080/",
          "height": 204
        },
        "id": "0yL5rm-DB84o",
        "outputId": "7aab4737-c4ab-472c-c63a-7067c1ecf9b6"
      },
      "source": [
        "wc = word_count(df['tokens'])\n",
        "wc.head()"
      ],
      "execution_count": null,
      "outputs": [
        {
          "output_type": "execute_result",
          "data": {
            "text/html": [
              "<div>\n",
              "<style scoped>\n",
              "    .dataframe tbody tr th:only-of-type {\n",
              "        vertical-align: middle;\n",
              "    }\n",
              "\n",
              "    .dataframe tbody tr th {\n",
              "        vertical-align: top;\n",
              "    }\n",
              "\n",
              "    .dataframe thead th {\n",
              "        text-align: right;\n",
              "    }\n",
              "</style>\n",
              "<table border=\"1\" class=\"dataframe\">\n",
              "  <thead>\n",
              "    <tr style=\"text-align: right;\">\n",
              "      <th></th>\n",
              "      <th>word</th>\n",
              "      <th>word_in_docs</th>\n",
              "      <th>count</th>\n",
              "      <th>rank</th>\n",
              "      <th>percent</th>\n",
              "      <th>cul_percent</th>\n",
              "      <th>word_in_docs_percent</th>\n",
              "    </tr>\n",
              "  </thead>\n",
              "  <tbody>\n",
              "    <tr>\n",
              "      <th>63</th>\n",
              "      <td>great</td>\n",
              "      <td>2709</td>\n",
              "      <td>3080</td>\n",
              "      <td>1.0</td>\n",
              "      <td>0.024609</td>\n",
              "      <td>0.024609</td>\n",
              "      <td>0.258418</td>\n",
              "    </tr>\n",
              "    <tr>\n",
              "      <th>11</th>\n",
              "      <td>good</td>\n",
              "      <td>1688</td>\n",
              "      <td>1870</td>\n",
              "      <td>2.0</td>\n",
              "      <td>0.014941</td>\n",
              "      <td>0.039549</td>\n",
              "      <td>0.161023</td>\n",
              "    </tr>\n",
              "    <tr>\n",
              "      <th>67</th>\n",
              "      <td>tablet</td>\n",
              "      <td>1469</td>\n",
              "      <td>1752</td>\n",
              "      <td>3.0</td>\n",
              "      <td>0.013998</td>\n",
              "      <td>0.053547</td>\n",
              "      <td>0.140132</td>\n",
              "    </tr>\n",
              "    <tr>\n",
              "      <th>66</th>\n",
              "      <td>love</td>\n",
              "      <td>1183</td>\n",
              "      <td>1287</td>\n",
              "      <td>4.0</td>\n",
              "      <td>0.010283</td>\n",
              "      <td>0.063830</td>\n",
              "      <td>0.112849</td>\n",
              "    </tr>\n",
              "    <tr>\n",
              "      <th>109</th>\n",
              "      <td>bought</td>\n",
              "      <td>1103</td>\n",
              "      <td>1179</td>\n",
              "      <td>5.0</td>\n",
              "      <td>0.009420</td>\n",
              "      <td>0.073250</td>\n",
              "      <td>0.105218</td>\n",
              "    </tr>\n",
              "  </tbody>\n",
              "</table>\n",
              "</div>"
            ],
            "text/plain": [
              "       word  word_in_docs  count  ...   percent  cul_percent  word_in_docs_percent\n",
              "63    great          2709   3080  ...  0.024609     0.024609              0.258418\n",
              "11     good          1688   1870  ...  0.014941     0.039549              0.161023\n",
              "67   tablet          1469   1752  ...  0.013998     0.053547              0.140132\n",
              "66     love          1183   1287  ...  0.010283     0.063830              0.112849\n",
              "109  bought          1103   1179  ...  0.009420     0.073250              0.105218\n",
              "\n",
              "[5 rows x 7 columns]"
            ]
          },
          "metadata": {
            "tags": []
          },
          "execution_count": 34
        }
      ]
    },
    {
      "cell_type": "code",
      "metadata": {
        "colab": {
          "base_uri": "https://localhost:8080/",
          "height": 248
        },
        "id": "udVx9g0yCA_p",
        "outputId": "95e04dff-a539-417b-afa6-cfc9d4ce5f8f"
      },
      "source": [
        "wc_top20 = wc[wc['rank'] <= 20]\n",
        "\n",
        "squarify.plot(sizes=wc_top20['percent'], label=wc_top20['word'], alpha=0.6)\n",
        "plt.axis('off')\n",
        "plt.show()"
      ],
      "execution_count": null,
      "outputs": [
        {
          "output_type": "display_data",
          "data": {
            "image/png": "[encoded data removed]",
            "text/plain": [
              "<Figure size 432x288 with 1 Axes>"
            ]
          },
          "metadata": {
            "tags": [],
            "needs_background": "light"
          }
        }
      ]
    },
    {
      "cell_type": "markdown",
      "metadata": {
        "id": "H5J91AM5ORRQ"
      },
      "source": [
        "추가적으로 킨들의 리뷰와 전체 리뷰의 토큰을 비교해 보겠습니다."
      ]
    },
    {
      "cell_type": "code",
      "metadata": {
        "colab": {
          "base_uri": "https://localhost:8080/"
        },
        "id": "062O68NpCMIA",
        "outputId": "0e8fc679-4187-407b-bcfe-ab041cb4c807"
      },
      "source": [
        "df['kindle'] = df['name'].str.contains('kindle', case=False)\n",
        "wc_kindle = word_count(df[df['kindle'] == 1]['tokens'])\n",
        "wc.shape, wc_kindle.shape"
      ],
      "execution_count": null,
      "outputs": [
        {
          "output_type": "execute_result",
          "data": {
            "text/plain": [
              "((13497, 7), (2717, 7))"
            ]
          },
          "metadata": {
            "tags": []
          },
          "execution_count": 36
        }
      ]
    },
    {
      "cell_type": "code",
      "metadata": {
        "colab": {
          "base_uri": "https://localhost:8080/",
          "height": 482
        },
        "id": "OJ2C3DI5CPiD",
        "outputId": "e2be2c98-779d-4a64-bbe8-62126baaabbd"
      },
      "source": [
        "wc_top20 = wc[wc['rank'] <= 20]\n",
        "wc_kindle_top20 = wc_kindle[wc_kindle['rank'] <= 20]\n",
        "\n",
        "fig, axes = plt.subplots(1, 2, figsize=(20, 8))\n",
        "axes[0].set_title('All Reviews')\n",
        "squarify.plot(sizes=wc_top20['percent'], label=wc_top20['word'], alpha=0.6, ax=axes[0], text_kwargs={'fontsize':14})\n",
        "axes[0].axis('off')\n",
        "\n",
        "axes[1].set_title('Kindle Reviews')\n",
        "squarify.plot(sizes=wc_kindle_top20['percent'], label=wc_kindle_top20['word'], alpha=0.6, ax=axes[1], text_kwargs={'fontsize':14})\n",
        "axes[1].axis('off')\n",
        "\n",
        "plt.show()"
      ],
      "execution_count": null,
      "outputs": [
        {
          "output_type": "display_data",
          "data": {
            "image/png": "[encoded data removed]",
            "text/plain": [
              "<Figure size 1440x576 with 2 Axes>"
            ]
          },
          "metadata": {
            "tags": [],
            "needs_background": "light"
          }
        }
      ]
    },
    {
      "cell_type": "markdown",
      "metadata": {
        "id": "bN7OIUvSQrc-"
      },
      "source": [
        "### 6) 통계적 트리밍(Trimming)"
      ]
    },
    {
      "cell_type": "markdown",
      "metadata": {
        "id": "om04hSJtQvxm"
      },
      "source": [
        "불용어를 직접적으로 제거하는 대신 통계적인 방법을 통해 말뭉치 내에서 너무 많거나, 너무 적은 토큰을 제거하는 방법도 있습니다.\n",
        "\n",
        "단어들의 누적분포 그래프를 다시 보겠습니다."
      ]
    },
    {
      "cell_type": "code",
      "metadata": {
        "colab": {
          "base_uri": "https://localhost:8080/",
          "height": 296
        },
        "id": "Rvy0v8zADQD-",
        "outputId": "55405916-2c04-477c-b415-904151d745ca"
      },
      "source": [
        "sns.lineplot(x='rank', y='cul_percent', data=wc)"
      ],
      "execution_count": null,
      "outputs": [
        {
          "output_type": "execute_result",
          "data": {
            "text/plain": [
              "<matplotlib.axes._subplots.AxesSubplot at 0x7f211bb2c950>"
            ]
          },
          "metadata": {
            "tags": []
          },
          "execution_count": 38
        },
        {
          "output_type": "display_data",
          "data": {
            "image/png": "[encoded data removed]",
            "text/plain": [
              "<Figure size 432x288 with 1 Axes>"
            ]
          },
          "metadata": {
            "tags": [],
            "needs_background": "light"
          }
        }
      ]
    },
    {
      "cell_type": "markdown",
      "metadata": {
        "id": "4QHq8iWRDV3X"
      },
      "source": [
        "이 그래프에서 알 수 있는 것은 몇몇 소수의 단어들이 전체 코퍼스의 80%를 차지한다는 것입니다.<br/>\n",
        "그래프 결과에서 나타나는 단어의 중요도를 다음과 같이 두 가지로 해석해 볼 수 있습니다.\n",
        "\n",
        "1. **자주 나타나는 단어들 (그래프의 왼쪽)** : 여러 문서에 두루 나타나기 때문에 문서 분류 단계에서 통찰력을 제공하지 않습니다. <br/>\n",
        "2. **자주 나타나지 않는 단어들 (그래프의 오른쪽)** : 너무 드물게 나타나기 때문에 큰 의미가 없을 확률이 높습니다.\n",
        "\n",
        "랭크가 높거나 낮은 단어들을 한 번 살펴 보고 제거해 봅시다."
      ]
    },
    {
      "cell_type": "code",
      "metadata": {
        "colab": {
          "base_uri": "https://localhost:8080/",
          "height": 669
        },
        "id": "SRCgoM2pDUu8",
        "outputId": "cc2757c5-abb4-42d9-9b69-4db1cf887723"
      },
      "source": [
        "wc.tail(20)"
      ],
      "execution_count": null,
      "outputs": [
        {
          "output_type": "execute_result",
          "data": {
            "text/html": [
              "<div>\n",
              "<style scoped>\n",
              "    .dataframe tbody tr th:only-of-type {\n",
              "        vertical-align: middle;\n",
              "    }\n",
              "\n",
              "    .dataframe tbody tr th {\n",
              "        vertical-align: top;\n",
              "    }\n",
              "\n",
              "    .dataframe thead th {\n",
              "        text-align: right;\n",
              "    }\n",
              "</style>\n",
              "<table border=\"1\" class=\"dataframe\">\n",
              "  <thead>\n",
              "    <tr style=\"text-align: right;\">\n",
              "      <th></th>\n",
              "      <th>word</th>\n",
              "      <th>word_in_docs</th>\n",
              "      <th>count</th>\n",
              "      <th>rank</th>\n",
              "      <th>percent</th>\n",
              "      <th>cul_percent</th>\n",
              "      <th>word_in_docs_percent</th>\n",
              "    </tr>\n",
              "  </thead>\n",
              "  <tbody>\n",
              "    <tr>\n",
              "      <th>13477</th>\n",
              "      <td>functionalities</td>\n",
              "      <td>1</td>\n",
              "      <td>1</td>\n",
              "      <td>13478.0</td>\n",
              "      <td>0.000008</td>\n",
              "      <td>0.999848</td>\n",
              "      <td>0.000095</td>\n",
              "    </tr>\n",
              "    <tr>\n",
              "      <th>13478</th>\n",
              "      <td>good..</td>\n",
              "      <td>1</td>\n",
              "      <td>1</td>\n",
              "      <td>13479.0</td>\n",
              "      <td>0.000008</td>\n",
              "      <td>0.999856</td>\n",
              "      <td>0.000095</td>\n",
              "    </tr>\n",
              "    <tr>\n",
              "      <th>13479</th>\n",
              "      <td>itshe's</td>\n",
              "      <td>1</td>\n",
              "      <td>1</td>\n",
              "      <td>13480.0</td>\n",
              "      <td>0.000008</td>\n",
              "      <td>0.999864</td>\n",
              "      <td>0.000095</td>\n",
              "    </tr>\n",
              "    <tr>\n",
              "      <th>13480</th>\n",
              "      <td>geeks</td>\n",
              "      <td>1</td>\n",
              "      <td>1</td>\n",
              "      <td>13481.0</td>\n",
              "      <td>0.000008</td>\n",
              "      <td>0.999872</td>\n",
              "      <td>0.000095</td>\n",
              "    </tr>\n",
              "    <tr>\n",
              "      <th>13481</th>\n",
              "      <td>monday</td>\n",
              "      <td>1</td>\n",
              "      <td>1</td>\n",
              "      <td>13482.0</td>\n",
              "      <td>0.000008</td>\n",
              "      <td>0.999880</td>\n",
              "      <td>0.000095</td>\n",
              "    </tr>\n",
              "    <tr>\n",
              "      <th>13482</th>\n",
              "      <td>endure</td>\n",
              "      <td>1</td>\n",
              "      <td>1</td>\n",
              "      <td>13483.0</td>\n",
              "      <td>0.000008</td>\n",
              "      <td>0.999888</td>\n",
              "      <td>0.000095</td>\n",
              "    </tr>\n",
              "    <tr>\n",
              "      <th>13483</th>\n",
              "      <td>particularly.</td>\n",
              "      <td>1</td>\n",
              "      <td>1</td>\n",
              "      <td>13484.0</td>\n",
              "      <td>0.000008</td>\n",
              "      <td>0.999896</td>\n",
              "      <td>0.000095</td>\n",
              "    </tr>\n",
              "    <tr>\n",
              "      <th>13484</th>\n",
              "      <td>gifts!!</td>\n",
              "      <td>1</td>\n",
              "      <td>1</td>\n",
              "      <td>13485.0</td>\n",
              "      <td>0.000008</td>\n",
              "      <td>0.999904</td>\n",
              "      <td>0.000095</td>\n",
              "    </tr>\n",
              "    <tr>\n",
              "      <th>13485</th>\n",
              "      <td>duralast.</td>\n",
              "      <td>1</td>\n",
              "      <td>1</td>\n",
              "      <td>13486.0</td>\n",
              "      <td>0.000008</td>\n",
              "      <td>0.999912</td>\n",
              "      <td>0.000095</td>\n",
              "    </tr>\n",
              "    <tr>\n",
              "      <th>13490</th>\n",
              "      <td>manufacturing</td>\n",
              "      <td>1</td>\n",
              "      <td>1</td>\n",
              "      <td>13487.0</td>\n",
              "      <td>0.000008</td>\n",
              "      <td>0.999920</td>\n",
              "      <td>0.000095</td>\n",
              "    </tr>\n",
              "    <tr>\n",
              "      <th>13489</th>\n",
              "      <td>label.</td>\n",
              "      <td>1</td>\n",
              "      <td>1</td>\n",
              "      <td>13488.0</td>\n",
              "      <td>0.000008</td>\n",
              "      <td>0.999928</td>\n",
              "      <td>0.000095</td>\n",
              "    </tr>\n",
              "    <tr>\n",
              "      <th>13487</th>\n",
              "      <td>(cannot</td>\n",
              "      <td>1</td>\n",
              "      <td>1</td>\n",
              "      <td>13489.0</td>\n",
              "      <td>0.000008</td>\n",
              "      <td>0.999936</td>\n",
              "      <td>0.000095</td>\n",
              "    </tr>\n",
              "    <tr>\n",
              "      <th>13486</th>\n",
              "      <td>ones).</td>\n",
              "      <td>1</td>\n",
              "      <td>1</td>\n",
              "      <td>13490.0</td>\n",
              "      <td>0.000008</td>\n",
              "      <td>0.999944</td>\n",
              "      <td>0.000095</td>\n",
              "    </tr>\n",
              "    <tr>\n",
              "      <th>13488</th>\n",
              "      <td>relish</td>\n",
              "      <td>1</td>\n",
              "      <td>1</td>\n",
              "      <td>13491.0</td>\n",
              "      <td>0.000008</td>\n",
              "      <td>0.999952</td>\n",
              "      <td>0.000095</td>\n",
              "    </tr>\n",
              "    <tr>\n",
              "      <th>13491</th>\n",
              "      <td>83</td>\n",
              "      <td>1</td>\n",
              "      <td>1</td>\n",
              "      <td>13492.0</td>\n",
              "      <td>0.000008</td>\n",
              "      <td>0.999960</td>\n",
              "      <td>0.000095</td>\n",
              "    </tr>\n",
              "    <tr>\n",
              "      <th>13492</th>\n",
              "      <td>batteries....would</td>\n",
              "      <td>1</td>\n",
              "      <td>1</td>\n",
              "      <td>13493.0</td>\n",
              "      <td>0.000008</td>\n",
              "      <td>0.999968</td>\n",
              "      <td>0.000095</td>\n",
              "    </tr>\n",
              "    <tr>\n",
              "      <th>13494</th>\n",
              "      <td>quetion</td>\n",
              "      <td>1</td>\n",
              "      <td>1</td>\n",
              "      <td>13494.0</td>\n",
              "      <td>0.000008</td>\n",
              "      <td>0.999976</td>\n",
              "      <td>0.000095</td>\n",
              "    </tr>\n",
              "    <tr>\n",
              "      <th>13493</th>\n",
              "      <td>warenty</td>\n",
              "      <td>1</td>\n",
              "      <td>1</td>\n",
              "      <td>13495.0</td>\n",
              "      <td>0.000008</td>\n",
              "      <td>0.999984</td>\n",
              "      <td>0.000095</td>\n",
              "    </tr>\n",
              "    <tr>\n",
              "      <th>13495</th>\n",
              "      <td>effect</td>\n",
              "      <td>1</td>\n",
              "      <td>1</td>\n",
              "      <td>13496.0</td>\n",
              "      <td>0.000008</td>\n",
              "      <td>0.999992</td>\n",
              "      <td>0.000095</td>\n",
              "    </tr>\n",
              "    <tr>\n",
              "      <th>13496</th>\n",
              "      <td>improvments</td>\n",
              "      <td>1</td>\n",
              "      <td>1</td>\n",
              "      <td>13497.0</td>\n",
              "      <td>0.000008</td>\n",
              "      <td>1.000000</td>\n",
              "      <td>0.000095</td>\n",
              "    </tr>\n",
              "  </tbody>\n",
              "</table>\n",
              "</div>"
            ],
            "text/plain": [
              "                     word  word_in_docs  ...  cul_percent  word_in_docs_percent\n",
              "13477     functionalities             1  ...     0.999848              0.000095\n",
              "13478              good..             1  ...     0.999856              0.000095\n",
              "13479             itshe's             1  ...     0.999864              0.000095\n",
              "13480               geeks             1  ...     0.999872              0.000095\n",
              "13481              monday             1  ...     0.999880              0.000095\n",
              "13482              endure             1  ...     0.999888              0.000095\n",
              "13483       particularly.             1  ...     0.999896              0.000095\n",
              "13484             gifts!!             1  ...     0.999904              0.000095\n",
              "13485           duralast.             1  ...     0.999912              0.000095\n",
              "13490       manufacturing             1  ...     0.999920              0.000095\n",
              "13489              label.             1  ...     0.999928              0.000095\n",
              "13487             (cannot             1  ...     0.999936              0.000095\n",
              "13486              ones).             1  ...     0.999944              0.000095\n",
              "13488              relish             1  ...     0.999952              0.000095\n",
              "13491                  83             1  ...     0.999960              0.000095\n",
              "13492  batteries....would             1  ...     0.999968              0.000095\n",
              "13494             quetion             1  ...     0.999976              0.000095\n",
              "13493             warenty             1  ...     0.999984              0.000095\n",
              "13495              effect             1  ...     0.999992              0.000095\n",
              "13496         improvments             1  ...     1.000000              0.000095\n",
              "\n",
              "[20 rows x 7 columns]"
            ]
          },
          "metadata": {
            "tags": []
          },
          "execution_count": 39
        }
      ]
    },
    {
      "cell_type": "code",
      "metadata": {
        "colab": {
          "base_uri": "https://localhost:8080/"
        },
        "id": "WAAD1tpUDiz2",
        "outputId": "c4c8e7f4-cebc-431d-966a-1d4057e73246"
      },
      "source": [
        "wc['word_in_docs_percent'].describe()"
      ],
      "execution_count": null,
      "outputs": [
        {
          "output_type": "execute_result",
          "data": {
            "text/plain": [
              "count    13497.000000\n",
              "mean         0.000838\n",
              "std          0.004632\n",
              "min          0.000095\n",
              "25%          0.000095\n",
              "50%          0.000095\n",
              "75%          0.000382\n",
              "max          0.258418\n",
              "Name: word_in_docs_percent, dtype: float64"
            ]
          },
          "metadata": {
            "tags": []
          },
          "execution_count": 40
        }
      ]
    },
    {
      "cell_type": "code",
      "metadata": {
        "colab": {
          "base_uri": "https://localhost:8080/"
        },
        "id": "QSz7bXv2Dlq5",
        "outputId": "d7557662-db43-4fea-8e9d-a71831e26dff"
      },
      "source": [
        "wc['word_in_docs_percent']"
      ],
      "execution_count": null,
      "outputs": [
        {
          "output_type": "execute_result",
          "data": {
            "text/plain": [
              "63       0.258418\n",
              "11       0.161023\n",
              "67       0.140132\n",
              "66       0.112849\n",
              "109      0.105218\n",
              "           ...   \n",
              "13492    0.000095\n",
              "13494    0.000095\n",
              "13493    0.000095\n",
              "13495    0.000095\n",
              "13496    0.000095\n",
              "Name: word_in_docs_percent, Length: 13497, dtype: float64"
            ]
          },
          "metadata": {
            "tags": []
          },
          "execution_count": 41
        }
      ]
    },
    {
      "cell_type": "code",
      "metadata": {
        "colab": {
          "base_uri": "https://localhost:8080/",
          "height": 386
        },
        "id": "H9Bep__gDolx",
        "outputId": "388bed53-d406-4825-868e-6747dab58ff7"
      },
      "source": [
        "# 문서에 나타나는 빈도\n",
        "sns.displot(wc['word_in_docs_percent'],kind='kde')"
      ],
      "execution_count": null,
      "outputs": [
        {
          "output_type": "execute_result",
          "data": {
            "text/plain": [
              "<seaborn.axisgrid.FacetGrid at 0x7f211bb657d0>"
            ]
          },
          "metadata": {
            "tags": []
          },
          "execution_count": 42
        },
        {
          "output_type": "display_data",
          "data": {
            "image/png": "[encoded data removed]",
            "text/plain": [
              "<Figure size 360x360 with 1 Axes>"
            ]
          },
          "metadata": {
            "tags": [],
            "needs_background": "light"
          }
        }
      ]
    },
    {
      "cell_type": "code",
      "metadata": {
        "colab": {
          "base_uri": "https://localhost:8080/",
          "height": 369
        },
        "id": "qjxMLMtvDsh-",
        "outputId": "9fdee520-ae78-4bd1-ad52-0927a31f6ecf"
      },
      "source": [
        "# 최소한 1% 이상 문서에 나타나는 단어들만 선택합니다.\n",
        "\n",
        "wc = wc[wc['word_in_docs_percent'] >= 0.01]\n",
        "\n",
        "sns.displot(wc['word_in_docs_percent'], kind='kde');"
      ],
      "execution_count": null,
      "outputs": [
        {
          "output_type": "display_data",
          "data": {
            "image/png": "[encoded data removed]",
            "text/plain": [
              "<Figure size 360x360 with 1 Axes>"
            ]
          },
          "metadata": {
            "tags": [],
            "needs_background": "light"
          }
        }
      ]
    },
    {
      "cell_type": "code",
      "metadata": {
        "colab": {
          "base_uri": "https://localhost:8080/",
          "height": 436
        },
        "id": "8M49_VjeDu6A",
        "outputId": "9e9333fa-5e32-4325-d13a-681b0387ccff"
      },
      "source": [
        "print(wc.shape)\n",
        "wc"
      ],
      "execution_count": null,
      "outputs": [
        {
          "output_type": "stream",
          "text": [
            "(173, 7)\n"
          ],
          "name": "stdout"
        },
        {
          "output_type": "execute_result",
          "data": {
            "text/html": [
              "<div>\n",
              "<style scoped>\n",
              "    .dataframe tbody tr th:only-of-type {\n",
              "        vertical-align: middle;\n",
              "    }\n",
              "\n",
              "    .dataframe tbody tr th {\n",
              "        vertical-align: top;\n",
              "    }\n",
              "\n",
              "    .dataframe thead th {\n",
              "        text-align: right;\n",
              "    }\n",
              "</style>\n",
              "<table border=\"1\" class=\"dataframe\">\n",
              "  <thead>\n",
              "    <tr style=\"text-align: right;\">\n",
              "      <th></th>\n",
              "      <th>word</th>\n",
              "      <th>word_in_docs</th>\n",
              "      <th>count</th>\n",
              "      <th>rank</th>\n",
              "      <th>percent</th>\n",
              "      <th>cul_percent</th>\n",
              "      <th>word_in_docs_percent</th>\n",
              "    </tr>\n",
              "  </thead>\n",
              "  <tbody>\n",
              "    <tr>\n",
              "      <th>63</th>\n",
              "      <td>great</td>\n",
              "      <td>2709</td>\n",
              "      <td>3080</td>\n",
              "      <td>1.0</td>\n",
              "      <td>0.024609</td>\n",
              "      <td>0.024609</td>\n",
              "      <td>0.258418</td>\n",
              "    </tr>\n",
              "    <tr>\n",
              "      <th>11</th>\n",
              "      <td>good</td>\n",
              "      <td>1688</td>\n",
              "      <td>1870</td>\n",
              "      <td>2.0</td>\n",
              "      <td>0.014941</td>\n",
              "      <td>0.039549</td>\n",
              "      <td>0.161023</td>\n",
              "    </tr>\n",
              "    <tr>\n",
              "      <th>67</th>\n",
              "      <td>tablet</td>\n",
              "      <td>1469</td>\n",
              "      <td>1752</td>\n",
              "      <td>3.0</td>\n",
              "      <td>0.013998</td>\n",
              "      <td>0.053547</td>\n",
              "      <td>0.140132</td>\n",
              "    </tr>\n",
              "    <tr>\n",
              "      <th>66</th>\n",
              "      <td>love</td>\n",
              "      <td>1183</td>\n",
              "      <td>1287</td>\n",
              "      <td>4.0</td>\n",
              "      <td>0.010283</td>\n",
              "      <td>0.063830</td>\n",
              "      <td>0.112849</td>\n",
              "    </tr>\n",
              "    <tr>\n",
              "      <th>109</th>\n",
              "      <td>bought</td>\n",
              "      <td>1103</td>\n",
              "      <td>1179</td>\n",
              "      <td>5.0</td>\n",
              "      <td>0.009420</td>\n",
              "      <td>0.073250</td>\n",
              "      <td>0.105218</td>\n",
              "    </tr>\n",
              "    <tr>\n",
              "      <th>...</th>\n",
              "      <td>...</td>\n",
              "      <td>...</td>\n",
              "      <td>...</td>\n",
              "      <td>...</td>\n",
              "      <td>...</td>\n",
              "      <td>...</td>\n",
              "      <td>...</td>\n",
              "    </tr>\n",
              "    <tr>\n",
              "      <th>574</th>\n",
              "      <td>bit</td>\n",
              "      <td>109</td>\n",
              "      <td>112</td>\n",
              "      <td>173.0</td>\n",
              "      <td>0.000895</td>\n",
              "      <td>0.428731</td>\n",
              "      <td>0.010398</td>\n",
              "    </tr>\n",
              "    <tr>\n",
              "      <th>936</th>\n",
              "      <td>fine</td>\n",
              "      <td>108</td>\n",
              "      <td>112</td>\n",
              "      <td>174.0</td>\n",
              "      <td>0.000895</td>\n",
              "      <td>0.429626</td>\n",
              "      <td>0.010302</td>\n",
              "    </tr>\n",
              "    <tr>\n",
              "      <th>335</th>\n",
              "      <td>pay</td>\n",
              "      <td>107</td>\n",
              "      <td>111</td>\n",
              "      <td>175.0</td>\n",
              "      <td>0.000887</td>\n",
              "      <td>0.430513</td>\n",
              "      <td>0.010207</td>\n",
              "    </tr>\n",
              "    <tr>\n",
              "      <th>875</th>\n",
              "      <td>value.</td>\n",
              "      <td>108</td>\n",
              "      <td>108</td>\n",
              "      <td>177.0</td>\n",
              "      <td>0.000863</td>\n",
              "      <td>0.432247</td>\n",
              "      <td>0.010302</td>\n",
              "    </tr>\n",
              "    <tr>\n",
              "      <th>937</th>\n",
              "      <td>working</td>\n",
              "      <td>106</td>\n",
              "      <td>107</td>\n",
              "      <td>179.0</td>\n",
              "      <td>0.000855</td>\n",
              "      <td>0.433965</td>\n",
              "      <td>0.010112</td>\n",
              "    </tr>\n",
              "  </tbody>\n",
              "</table>\n",
              "<p>173 rows × 7 columns</p>\n",
              "</div>"
            ],
            "text/plain": [
              "        word  word_in_docs  count  ...   percent  cul_percent  word_in_docs_percent\n",
              "63     great          2709   3080  ...  0.024609     0.024609              0.258418\n",
              "11      good          1688   1870  ...  0.014941     0.039549              0.161023\n",
              "67    tablet          1469   1752  ...  0.013998     0.053547              0.140132\n",
              "66      love          1183   1287  ...  0.010283     0.063830              0.112849\n",
              "109   bought          1103   1179  ...  0.009420     0.073250              0.105218\n",
              "..       ...           ...    ...  ...       ...          ...                   ...\n",
              "574      bit           109    112  ...  0.000895     0.428731              0.010398\n",
              "936     fine           108    112  ...  0.000895     0.429626              0.010302\n",
              "335      pay           107    111  ...  0.000887     0.430513              0.010207\n",
              "875   value.           108    108  ...  0.000863     0.432247              0.010302\n",
              "937  working           106    107  ...  0.000855     0.433965              0.010112\n",
              "\n",
              "[173 rows x 7 columns]"
            ]
          },
          "metadata": {
            "tags": []
          },
          "execution_count": 44
        }
      ]
    },
    {
      "cell_type": "markdown",
      "metadata": {
        "id": "mDX5nu5xQ6cp"
      },
      "source": [
        "### 7) 어간 추출(Stemming)과 표제어 추출(Lemmatization)"
      ]
    },
    {
      "cell_type": "markdown",
      "metadata": {
        "id": "Qiz1lShsRBJI"
      },
      "source": [
        "토큰화된 단어들을 보면, 조금 더 수정이 필요한 부분이 보입니다. <br/>\n",
        "예를 들어 'batteries' 와 'battery'를 보면 이 둘은 어근(root)이 같은 단어입니다. <br/>\n",
        "이런 단어는 **어간 추출(stemming)**이나 **표제어 추출(lemmatization)**을 통해 정규화(Normalization) 해줍니다."
      ]
    },
    {
      "cell_type": "markdown",
      "metadata": {
        "id": "XqU95r7DRSE-"
      },
      "source": [
        "- **어간 추출(Stemming)**"
      ]
    },
    {
      "cell_type": "markdown",
      "metadata": {
        "id": "7JHSPvxclVhO"
      },
      "source": [
        "> **어간(stem)이란?**<br/>\n",
        "단어의 의미가 포함된 부분으로 접사등이 제거된 형태<br/>\n",
        "**어근이나 단어의 원형과 같지 않을 수 있습니다.**<br/>\n",
        "예를 들어 argue, argued, arguing, argus의 어간은 단어들의 뒷 부분이 제거된 argu가 어간입니다.\n",
        "\n",
        "어간 추출은 다음과 같은 부분을 제거합니다: 'ing', 'ed', 's'"
      ]
    },
    {
      "cell_type": "markdown",
      "metadata": {
        "id": "VM0E9pTgllnO"
      },
      "source": [
        "Stemming 방법은 Porter, Snowball, Dawson 등 알고리즘으로 잘 정립되어 있습니다. 이 알고리즘들에 대한 더 자세한 정보는 다음을 참고해주시면 됩니다.\n",
        "\n",
        "- [A Comparative Study of Stemming Algorithms](https://www.semanticscholar.org/paper/A-Comparative-Study-of-Stemming-Algorithms-Ms-.-Jivani/1c0c0fa35d4ff8a2f925eb955e48d655494bd167?p2df)\n",
        "\n",
        "`Spacy` 는 Stemming을 제공하지 않고 Lemmatization만 제공합니다.<br/>\n",
        "그렇기 때문에 이번에는 `nltk` 를 사용해 Stemming을 진행해 보겠습니다."
      ]
    },
    {
      "cell_type": "code",
      "metadata": {
        "colab": {
          "base_uri": "https://localhost:8080/"
        },
        "id": "myISNBX7EISC",
        "outputId": "e8299b3b-e4f6-4796-f9e4-45563a29d224"
      },
      "source": [
        "from nltk.stem import PorterStemmer\n",
        "\n",
        "ps = PorterStemmer()\n",
        "\n",
        "words = [\"wolf\", \"wolves\"]\n",
        "\n",
        "for word in words:\n",
        "    print(ps.stem(word))"
      ],
      "execution_count": null,
      "outputs": [
        {
          "output_type": "stream",
          "text": [
            "wolf\n",
            "wolv\n"
          ],
          "name": "stdout"
        }
      ]
    },
    {
      "cell_type": "markdown",
      "metadata": {
        "id": "90DVb734EK5R"
      },
      "source": [
        "아마존 리뷰데이터를 Stemming 해봅시다."
      ]
    },
    {
      "cell_type": "code",
      "metadata": {
        "id": "t9qHUs25EQSo"
      },
      "source": [
        "tokens = []\n",
        "for doc in df['tokens']:\n",
        "    doc_tokens = []\n",
        "    for token in doc:\n",
        "        doc_tokens.append(ps.stem(token))\n",
        "    tokens.append(doc_tokens)\n",
        "\n",
        "df['stems'] = tokens"
      ],
      "execution_count": null,
      "outputs": []
    },
    {
      "cell_type": "code",
      "metadata": {
        "colab": {
          "base_uri": "https://localhost:8080/",
          "height": 248
        },
        "id": "lYgT7wTHESPT",
        "outputId": "3531344c-2f4d-48c1-b771-5a42e05f8e64"
      },
      "source": [
        "wc = word_count(df['stems'])\n",
        "\n",
        "wc_top20 = wc[wc['rank'] <= 20]\n",
        "\n",
        "squarify.plot(sizes=wc_top20['percent'], label=wc_top20['word'], alpha=0.6 )\n",
        "plt.axis('off')\n",
        "plt.show()"
      ],
      "execution_count": null,
      "outputs": [
        {
          "output_type": "display_data",
          "data": {
            "image/png": "[encoded data removed]",
            "text/plain": [
              "<Figure size 432x288 with 1 Axes>"
            ]
          },
          "metadata": {
            "tags": [],
            "needs_background": "light"
          }
        }
      ]
    },
    {
      "cell_type": "markdown",
      "metadata": {
        "id": "aTEvICUHEZR4"
      },
      "source": [
        "Stemming에서 해본 Porter 알고리즘은 단지 단어의 끝 부분을 자르는 역할을 합니다.<br/>\n",
        "그래서 사전에도 없는 단어가 많이 나오게 됩니다.<br/>\n",
        "조금 이상하긴 해도 현실적으로 사용하기에 Stemming 은 성능이 나쁘지 않습니다.<br/>\n",
        "알고리즘이 간단해 매우 빠르기 때문에 검색엔진과 정보검색 분야에서 많이 사용하고 있습니다."
      ]
    },
    {
      "cell_type": "markdown",
      "metadata": {
        "id": "r2VybUBVlv_T"
      },
      "source": [
        "- **Lemmatization(표제어 추출)**"
      ]
    },
    {
      "cell_type": "markdown",
      "metadata": {
        "id": "UEdBM-Y0lzgm"
      },
      "source": [
        "표제어 추출(Lemmatization)은 어간추출보다 체계적입니다.<br/>\n",
        "단어들은 기본 사전형 단어 형태인 Lemma(표제어)로 변환됩니다.<br/>\n",
        "명사의 복수형은 단수형으로, 동사는 모두 타동사로 변환됩니다.<br/>\n",
        "이렇게 단어들로부터 표제어를 찾아가는 과정은 Stemming 보다 많은 연산이 필요합니다.<br/>\n",
        "그럼 Spacy를 통해 Lemmatization을 진행해 보겠습니다."
      ]
    },
    {
      "cell_type": "code",
      "metadata": {
        "colab": {
          "base_uri": "https://localhost:8080/"
        },
        "id": "U21iGtOOEWQR",
        "outputId": "e497e7d2-7403-4e6c-e4c5-2c61ef078b75"
      },
      "source": [
        "lem = \"The social wolf. Wolves are complex.\"\n",
        "\n",
        "nlp = spacy.load(\"en_core_web_sm\")\n",
        "\n",
        "doc = nlp(lem)\n",
        "\n",
        "# wolf, wolve가 어떤 Lemma로 추출되는지 확인해 보세요\n",
        "for token in doc:\n",
        "    print(token.text, \"  \", token.lemma_)"
      ],
      "execution_count": null,
      "outputs": [
        {
          "output_type": "stream",
          "text": [
            "The    the\n",
            "social    social\n",
            "wolf    wolf\n",
            ".    .\n",
            "Wolves    wolf\n",
            "are    be\n",
            "complex    complex\n",
            ".    .\n"
          ],
          "name": "stdout"
        }
      ]
    },
    {
      "cell_type": "markdown",
      "metadata": {
        "id": "uGRjh-2ME7wz"
      },
      "source": [
        "Stemming 에서는 `wolf -> wolf`, `wolves -> wolv` 로 변형되었지만, <br/> Lemmatization에서는 `wolf -> wolf`, `wolves -> wolf` 로 변형되는 것을 볼 수 있습니다."
      ]
    },
    {
      "cell_type": "code",
      "metadata": {
        "id": "efrablEOFk-N"
      },
      "source": [
        "# Lemmatization 과정을 함수로 만들어 봅시다\n",
        "def get_lemmas(text):\n",
        "\n",
        "    lemmas = []\n",
        "    \n",
        "    doc = nlp(text)\n",
        "\n",
        "    for token in doc: \n",
        "        if ((token.is_stop == False) and (token.is_punct == False)) and (token.pos_ != 'PRON'):\n",
        "            lemmas.append(token.lemma_)\n",
        "    \n",
        "    return lemmas"
      ],
      "execution_count": null,
      "outputs": []
    },
    {
      "cell_type": "markdown",
      "metadata": {
        "id": "D9HAkzyeFyTm"
      },
      "source": [
        "위 함수를 적용하여 텍스트 데이터 정규화를 진행합니다. <br/>\n",
        "(시간이 꽤 걸리니 주의!)"
      ]
    },
    {
      "cell_type": "code",
      "metadata": {
        "colab": {
          "base_uri": "https://localhost:8080/"
        },
        "id": "tUOD5zuLFnUc",
        "outputId": "d39ac012-771e-4af6-8c6e-058d9709df05"
      },
      "source": [
        "df['lemmas'] = df['reviews.text'].apply(get_lemmas)\n",
        "df['lemmas'].head()"
      ],
      "execution_count": null,
      "outputs": [
        {
          "output_type": "execute_result",
          "data": {
            "text/plain": [
              "0    [get, cheap, price, black, friday, fire, great...\n",
              "1    [purchase, 7, son, 1.5, year, old, break, wait...\n",
              "2    [great, price, great, battery, buy, anytime, n...\n",
              "3              [great, tablet, kid, boy, love, tablet]\n",
              "4    [last, little, use, battery, lead, lamp, 2, 4,...\n",
              "Name: lemmas, dtype: object"
            ]
          },
          "metadata": {
            "tags": []
          },
          "execution_count": 50
        }
      ]
    },
    {
      "cell_type": "code",
      "metadata": {
        "colab": {
          "base_uri": "https://localhost:8080/",
          "height": 248
        },
        "id": "da08RscTFqvR",
        "outputId": "1c2722f1-623e-468e-9bc0-6b4abe424b5f"
      },
      "source": [
        "wc = word_count(df['lemmas'])\n",
        "wc_top20 = wc[wc['rank'] <= 20]\n",
        "\n",
        "squarify.plot(sizes=wc_top20['percent'], label=wc_top20['word'], alpha=0.6 )\n",
        "plt.axis('off')\n",
        "plt.show()"
      ],
      "execution_count": null,
      "outputs": [
        {
          "output_type": "display_data",
          "data": {
            "image/png": "[encoded data removed]",
            "text/plain": [
              "<Figure size 432x288 with 1 Axes>"
            ]
          },
          "metadata": {
            "tags": [],
            "needs_background": "light"
          }
        }
      ]
    },
    {
      "cell_type": "markdown",
      "metadata": {
        "id": "rZim9Qj2Ftv9"
      },
      "source": [
        "## 3. 등장 횟수 기반의 단어 표현 (Count-based Representation)"
      ]
    },
    {
      "cell_type": "markdown",
      "metadata": {
        "id": "BHOq0oV-MhZR"
      },
      "source": [
        "### 1) 이제 텍스트 문서를 벡터로 표현해 봅시다.\n",
        "\n"
      ]
    },
    {
      "cell_type": "markdown",
      "metadata": {
        "id": "Ssy_Xaf5l7oI"
      },
      "source": [
        "머신러닝 모델에서 텍스트를 사용하기 위해서는 텍스트 데이터를 벡터화(Vectorization)해야 합니다.<br/>\n",
        "벡터화는 텍스트를 컴퓨터가 계산할 수 있도록 수치정보로 변환하는 과정입니다.<br/>\n",
        "단어를 토큰화하여 얻어낸 정보를 컴퓨터의 언어체계 속으로 넣어준다는 개념으로 받아들이면 됩니다."
      ]
    },
    {
      "cell_type": "markdown",
      "metadata": {
        "id": "aM0b88r_PLLw"
      },
      "source": [
        "### 2) Bag-of-Words(BoW)\n",
        "\n"
      ]
    },
    {
      "cell_type": "markdown",
      "metadata": {
        "id": "yu0K_SnAnmpH"
      },
      "source": [
        "Bag-of-Words(BoW) 개념은 우리가 사용하는 언어 모델을 단순화 시킨 모델입니다.<br/>\n",
        "문서, 문장들에서 문법이나 단어의 순서 등의 개념을 제거하고 단순히 단어들의 빈도만 고려합니다.<br/>\n",
        "아래와 같은 가방에 단어를 넣어놓고 어떤 단어가 몇 번 나오는지를 세는 방식의 모델인 것입니다.\n",
        "\n",
        "<img src=\"https://dudeperf3ct.github.io/images/lstm_and_gru/bag-of-words.png\" alt=\"nlp_diagram\" width=\"500\" />\n",
        "\n",
        "`Sklearn` 의 `CounterVectorizer` 를 사용하면 BoW 방식의 벡터화를 사용할 수 있습니다."
      ]
    },
    {
      "cell_type": "markdown",
      "metadata": {
        "id": "bbyNTrikbouV"
      },
      "source": [
        "### 3) CountVectorizer 적용하기"
      ]
    },
    {
      "cell_type": "markdown",
      "metadata": {
        "id": "FPbtLhchdvRk"
      },
      "source": [
        "- **BBC Dataset (Download & Upload)**\n",
        "\n",
        "이번 세션에서는 BBC에서 제공하는 데이터셋을 사용하여 텍스트를 다뤄볼 예정입니다.<br/>\n",
        "BBC 웹사이트를 방문하는 고객이 방금 읽은 뉴스(문서)를 기반으로 비슷한 다른 문서를 적절하게 추천하게 만들 수 있으면 좋겠죠.<br/>\n",
        "그런 작업을 한번 시작해 봅니다.\n",
        "\n",
        "> 아래 링크에서 파일을 다운로드 받아 노트 폴더에서 압축을 해제합니다. <br/>\n",
        "> data folder가 생성되고 001.txt ~ 401.txt 파일이 있는지 확인합니다.<br/>\n",
        "> colab 유저들은 업로드 코드를 이용하여 업로드 후 unzip하여 파일을 풀면 사용할 수 있습니다.\n",
        "\n",
        "> [bbc_fulltext.zip](https://ds-lecture-data.s3.ap-northeast-2.amazonaws.com/bbc_fulltext/bbc_fulltext.zip) <br/><br/>\n",
        "> 레퍼런스 - [BBC News Tech]('https://www.bbc.com/news/technology')\n",
        ", D. Greene and P. Cunningham. \"Practical Solutions to the Problem of Diagonal Dominance in Kernel Document Clustering\", Proc. ICML 2006. [논문링크](http://mlg.ucd.ie/datasets/bbc.html)"
      ]
    },
    {
      "cell_type": "code",
      "metadata": {
        "id": "5XTvJxZ_d2Yc",
        "colab": {
          "resources": {
            "http://localhost:8080/nbextensions/google.colab/files.js": {
              "data": "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",
              "ok": true,
              "headers": [
                [
                  "content-type",
                  "application/javascript"
                ]
              ],
              "status": 200,
              "status_text": ""
            }
          },
          "base_uri": "https://localhost:8080/",
          "height": 1000
        },
        "outputId": "3c097180-7f2d-46b1-ecc2-8bf5a2c4d832"
      },
      "source": [
        "# for Colab User\n",
        "# Upload files\n",
        "from google.colab import files\n",
        "uploaded = files.upload()\n",
        "!unzip \"bbc_fulltext.zip\" # 업로드 이름이 다르다면 수정해서 사용하세요."
      ],
      "execution_count": null,
      "outputs": [
        {
          "output_type": "display_data",
          "data": {
            "text/html": [
              "\n",
              "     <input type=\"file\" id=\"files-6780b54b-f650-40ac-9f77-7d2090afea0e\" name=\"files[]\" multiple disabled\n",
              "        style=\"border:none\" />\n",
              "     <output id=\"result-6780b54b-f650-40ac-9f77-7d2090afea0e\">\n",
              "      Upload widget is only available when the cell has been executed in the\n",
              "      current browser session. Please rerun this cell to enable.\n",
              "      </output>\n",
              "      <script src=\"/nbextensions/google.colab/files.js\"></script> "
            ],
            "text/plain": [
              "<IPython.core.display.HTML object>"
            ]
          },
          "metadata": {
            "tags": []
          }
        },
        {
          "output_type": "stream",
          "text": [
            "Saving bbc_fulltext.zip to bbc_fulltext.zip\n",
            "Archive:  bbc_fulltext.zip\n",
            "   creating: data/\n",
            "  inflating: data/289.txt            \n",
            "  inflating: data/262.txt            \n",
            "  inflating: data/276.txt            \n",
            "  inflating: data/060.txt            \n",
            "  inflating: data/074.txt            \n",
            "  inflating: data/048.txt            \n",
            "  inflating: data/114.txt            \n",
            "  inflating: data/100.txt            \n",
            "  inflating: data/128.txt            \n",
            "  inflating: data/316.txt            \n",
            "  inflating: data/302.txt            \n",
            "  inflating: data/303.txt            \n",
            "  inflating: data/317.txt            \n",
            "  inflating: data/129.txt            \n",
            "  inflating: data/101.txt            \n",
            "  inflating: data/115.txt            \n",
            "  inflating: data/049.txt            \n",
            "  inflating: data/075.txt            \n",
            "  inflating: data/061.txt            \n",
            "  inflating: data/277.txt            \n",
            "  inflating: data/263.txt            \n",
            "  inflating: data/288.txt            \n",
            "  inflating: data/275.txt            \n",
            "  inflating: data/261.txt            \n",
            "  inflating: data/249.txt            \n",
            "  inflating: data/088.txt            \n",
            "  inflating: data/077.txt            \n",
            "  inflating: data/063.txt            \n",
            "  inflating: data/103.txt            \n",
            "  inflating: data/117.txt            \n",
            "  inflating: data/301.txt            \n",
            "  inflating: data/315.txt            \n",
            "  inflating: data/329.txt            \n",
            "  inflating: data/328.txt            \n",
            "  inflating: data/314.txt            \n",
            "  inflating: data/300.txt            \n",
            "  inflating: data/116.txt            \n",
            "  inflating: data/102.txt            \n",
            "  inflating: data/062.txt            \n",
            "  inflating: data/076.txt            \n",
            "  inflating: data/089.txt            \n",
            "  inflating: data/248.txt            \n",
            "  inflating: data/260.txt            \n",
            "  inflating: data/274.txt            \n",
            "  inflating: data/258.txt            \n",
            "  inflating: data/270.txt            \n",
            "  inflating: data/264.txt            \n",
            "  inflating: data/099.txt            \n",
            "  inflating: data/072.txt            \n",
            "  inflating: data/066.txt            \n",
            "  inflating: data/106.txt            \n",
            "  inflating: data/112.txt            \n",
            "  inflating: data/.DS_Store          \n",
            "  inflating: data/338.txt            \n",
            "  inflating: data/304.txt            \n",
            "  inflating: data/310.txt            \n",
            "  inflating: data/311.txt            \n",
            "  inflating: data/305.txt            \n",
            "  inflating: data/339.txt            \n",
            "  inflating: data/113.txt            \n",
            "  inflating: data/107.txt            \n",
            "  inflating: data/067.txt            \n",
            "  inflating: data/073.txt            \n",
            "  inflating: data/098.txt            \n",
            "  inflating: data/265.txt            \n",
            "  inflating: data/271.txt            \n",
            "  inflating: data/259.txt            \n",
            "  inflating: data/298.txt            \n",
            "  inflating: data/267.txt            \n",
            "  inflating: data/273.txt            \n",
            "  inflating: data/059.txt            \n",
            "  inflating: data/065.txt            \n",
            "  inflating: data/071.txt            \n",
            "  inflating: data/139.txt            \n",
            "  inflating: data/111.txt            \n",
            "  inflating: data/105.txt            \n",
            "  inflating: data/313.txt            \n",
            "  inflating: data/307.txt            \n",
            "  inflating: data/306.txt            \n",
            "  inflating: data/312.txt            \n",
            "  inflating: data/104.txt            \n",
            "  inflating: data/110.txt            \n",
            "  inflating: data/138.txt            \n",
            "  inflating: data/070.txt            \n",
            "  inflating: data/064.txt            \n",
            "  inflating: data/058.txt            \n",
            "  inflating: data/272.txt            \n",
            "  inflating: data/266.txt            \n",
            "  inflating: data/299.txt            \n",
            "  inflating: data/201.txt            \n",
            "  inflating: data/215.txt            \n",
            "  inflating: data/229.txt            \n",
            "  inflating: data/003.txt            \n",
            "  inflating: data/017.txt            \n",
            "  inflating: data/188.txt            \n",
            "  inflating: data/177.txt            \n",
            "  inflating: data/163.txt            \n",
            "  inflating: data/375.txt            \n",
            "  inflating: data/361.txt            \n",
            "  inflating: data/349.txt            \n",
            "  inflating: data/348.txt            \n",
            "  inflating: data/360.txt            \n",
            "  inflating: data/374.txt            \n",
            "  inflating: data/162.txt            \n",
            "  inflating: data/176.txt            \n",
            "  inflating: data/189.txt            \n",
            "  inflating: data/016.txt            \n",
            "  inflating: data/002.txt            \n",
            "  inflating: data/228.txt            \n",
            "  inflating: data/214.txt            \n",
            "  inflating: data/200.txt            \n",
            "  inflating: data/216.txt            \n",
            "  inflating: data/202.txt            \n",
            "  inflating: data/014.txt            \n",
            "  inflating: data/028.txt            \n",
            "  inflating: data/160.txt            \n",
            "  inflating: data/174.txt            \n",
            "  inflating: data/148.txt            \n",
            "  inflating: data/389.txt            \n",
            "  inflating: data/362.txt            \n",
            "  inflating: data/376.txt            \n",
            "  inflating: data/377.txt            \n",
            "  inflating: data/363.txt            \n",
            "  inflating: data/388.txt            \n",
            "  inflating: data/149.txt            \n",
            "  inflating: data/175.txt            \n",
            "  inflating: data/161.txt            \n",
            "  inflating: data/029.txt            \n",
            "  inflating: data/001.txt            \n",
            "  inflating: data/015.txt            \n",
            "  inflating: data/203.txt            \n",
            "  inflating: data/217.txt            \n",
            "  inflating: data/213.txt            \n",
            "  inflating: data/207.txt            \n",
            "  inflating: data/039.txt            \n",
            "  inflating: data/011.txt            \n",
            "  inflating: data/005.txt            \n",
            "  inflating: data/159.txt            \n",
            "  inflating: data/165.txt            \n",
            "  inflating: data/171.txt            \n",
            "  inflating: data/398.txt            \n",
            "  inflating: data/401.txt            \n",
            "  inflating: data/367.txt            \n",
            "  inflating: data/373.txt            \n",
            "  inflating: data/372.txt            \n",
            "  inflating: data/400.txt            \n",
            "  inflating: data/366.txt            \n",
            "  inflating: data/399.txt            \n",
            "  inflating: data/170.txt            \n",
            "  inflating: data/164.txt            \n",
            "  inflating: data/158.txt            \n",
            "  inflating: data/004.txt            \n",
            "  inflating: data/010.txt            \n",
            "  inflating: data/038.txt            \n",
            "  inflating: data/206.txt            \n",
            "  inflating: data/212.txt            \n",
            "  inflating: data/238.txt            \n",
            "  inflating: data/204.txt            \n",
            "  inflating: data/210.txt            \n",
            "  inflating: data/006.txt            \n",
            "  inflating: data/012.txt            \n",
            "  inflating: data/199.txt            \n",
            "  inflating: data/172.txt            \n",
            "  inflating: data/166.txt            \n",
            "  inflating: data/358.txt            \n",
            "  inflating: data/370.txt            \n",
            "  inflating: data/364.txt            \n",
            "  inflating: data/365.txt            \n",
            "  inflating: data/371.txt            \n",
            "  inflating: data/359.txt            \n",
            "  inflating: data/167.txt            \n",
            "  inflating: data/173.txt            \n",
            "  inflating: data/198.txt            \n",
            "  inflating: data/013.txt            \n",
            "  inflating: data/007.txt            \n",
            "  inflating: data/211.txt            \n",
            "  inflating: data/205.txt            \n",
            "  inflating: data/239.txt            \n",
            "  inflating: data/220.txt            \n",
            "  inflating: data/234.txt            \n",
            "  inflating: data/208.txt            \n",
            "  inflating: data/022.txt            \n",
            "  inflating: data/036.txt            \n",
            "  inflating: data/195.txt            \n",
            "  inflating: data/181.txt            \n",
            "  inflating: data/156.txt            \n",
            "  inflating: data/142.txt            \n",
            "  inflating: data/397.txt            \n",
            "  inflating: data/383.txt            \n",
            "  inflating: data/354.txt            \n",
            "  inflating: data/340.txt            \n",
            "  inflating: data/368.txt            \n",
            "  inflating: data/369.txt            \n",
            "  inflating: data/341.txt            \n",
            "  inflating: data/355.txt            \n",
            "  inflating: data/382.txt            \n",
            "  inflating: data/396.txt            \n",
            "  inflating: data/143.txt            \n",
            "  inflating: data/157.txt            \n",
            "  inflating: data/180.txt            \n",
            "  inflating: data/194.txt            \n",
            "  inflating: data/037.txt            \n",
            "  inflating: data/023.txt            \n",
            "  inflating: data/209.txt            \n",
            "  inflating: data/235.txt            \n",
            "  inflating: data/221.txt            \n",
            "  inflating: data/237.txt            \n",
            "  inflating: data/223.txt            \n",
            "  inflating: data/035.txt            \n",
            "  inflating: data/021.txt            \n",
            "  inflating: data/009.txt            \n",
            "  inflating: data/182.txt            \n",
            "  inflating: data/196.txt            \n",
            "  inflating: data/141.txt            \n",
            "  inflating: data/155.txt            \n",
            "  inflating: data/169.txt            \n",
            "  inflating: data/380.txt            \n",
            "  inflating: data/394.txt            \n",
            "  inflating: data/343.txt            \n",
            "  inflating: data/357.txt            \n",
            "  inflating: data/356.txt            \n",
            "  inflating: data/342.txt            \n",
            "  inflating: data/395.txt            \n",
            "  inflating: data/381.txt            \n",
            "  inflating: data/168.txt            \n",
            "  inflating: data/154.txt            \n",
            "  inflating: data/140.txt            \n",
            "  inflating: data/197.txt            \n",
            "  inflating: data/183.txt            \n",
            "  inflating: data/008.txt            \n",
            "  inflating: data/020.txt            \n",
            "  inflating: data/034.txt            \n",
            "  inflating: data/222.txt            \n",
            "  inflating: data/236.txt            \n",
            "  inflating: data/232.txt            \n",
            "  inflating: data/226.txt            \n",
            "  inflating: data/018.txt            \n",
            "  inflating: data/030.txt            \n",
            "  inflating: data/024.txt            \n",
            "  inflating: data/187.txt            \n",
            "  inflating: data/193.txt            \n",
            "  inflating: data/178.txt            \n",
            "  inflating: data/144.txt            \n",
            "  inflating: data/150.txt            \n",
            "  inflating: data/385.txt            \n",
            "  inflating: data/391.txt            \n",
            "  inflating: data/346.txt            \n",
            "  inflating: data/352.txt            \n",
            "  inflating: data/353.txt            \n",
            "  inflating: data/347.txt            \n",
            "  inflating: data/390.txt            \n",
            "  inflating: data/384.txt            \n",
            "  inflating: data/151.txt            \n",
            "  inflating: data/145.txt            \n",
            "  inflating: data/179.txt            \n",
            "  inflating: data/192.txt            \n",
            "  inflating: data/186.txt            \n",
            "  inflating: data/025.txt            \n",
            "  inflating: data/031.txt            \n",
            "  inflating: data/019.txt            \n",
            "  inflating: data/227.txt            \n",
            "  inflating: data/233.txt            \n",
            "  inflating: data/219.txt            \n",
            "  inflating: data/225.txt            \n",
            "  inflating: data/231.txt            \n",
            "  inflating: data/027.txt            \n",
            "  inflating: data/033.txt            \n",
            "  inflating: data/190.txt            \n",
            "  inflating: data/184.txt            \n",
            "  inflating: data/153.txt            \n",
            "  inflating: data/147.txt            \n",
            "  inflating: data/392.txt            \n",
            "  inflating: data/386.txt            \n",
            "  inflating: data/379.txt            \n",
            "  inflating: data/351.txt            \n",
            "  inflating: data/345.txt            \n",
            "  inflating: data/344.txt            \n",
            "  inflating: data/350.txt            \n",
            "  inflating: data/378.txt            \n",
            "  inflating: data/387.txt            \n",
            "  inflating: data/393.txt            \n",
            "  inflating: data/146.txt            \n",
            "  inflating: data/152.txt            \n",
            "  inflating: data/185.txt            \n",
            "  inflating: data/191.txt            \n",
            "  inflating: data/032.txt            \n",
            "  inflating: data/026.txt            \n",
            "  inflating: data/230.txt            \n",
            "  inflating: data/224.txt            \n",
            "  inflating: data/218.txt            \n",
            "  inflating: data/280.txt            \n",
            "  inflating: data/294.txt            \n",
            "  inflating: data/243.txt            \n",
            "  inflating: data/257.txt            \n",
            "  inflating: data/082.txt            \n",
            "  inflating: data/096.txt            \n",
            "   creating: data/.ipynb_checkpoints/\n",
            "  inflating: data/.ipynb_checkpoints/Data_Scientist-checkpoint.csv  \n",
            "  inflating: data/.ipynb_checkpoints/001-checkpoint.txt  \n",
            "  inflating: data/041.txt            \n",
            "  inflating: data/055.txt            \n",
            "  inflating: data/069.txt            \n",
            "  inflating: data/135.txt            \n",
            "  inflating: data/121.txt            \n",
            "  inflating: data/109.txt            \n",
            "  inflating: data/337.txt            \n",
            "  inflating: data/323.txt            \n",
            "  inflating: data/322.txt            \n",
            "  inflating: data/336.txt            \n",
            "  inflating: data/108.txt            \n",
            "  inflating: data/120.txt            \n",
            "  inflating: data/134.txt            \n",
            "  inflating: data/068.txt            \n",
            "  inflating: data/054.txt            \n",
            "  inflating: data/040.txt            \n",
            "  inflating: data/097.txt            \n",
            "  inflating: data/083.txt            \n",
            "  inflating: data/256.txt            \n",
            "  inflating: data/242.txt            \n",
            "  inflating: data/295.txt            \n",
            "  inflating: data/281.txt            \n",
            "  inflating: data/297.txt            \n",
            "  inflating: data/283.txt            \n",
            "  inflating: data/254.txt            \n",
            "  inflating: data/240.txt            \n",
            "  inflating: data/268.txt            \n",
            "  inflating: data/095.txt            \n",
            "  inflating: data/081.txt            \n",
            "  inflating: data/056.txt            \n",
            "  inflating: data/042.txt            \n",
            "  inflating: data/122.txt            \n",
            "  inflating: data/136.txt            \n",
            "  inflating: data/320.txt            \n",
            "  inflating: data/334.txt            \n",
            "  inflating: data/308.txt            \n",
            "  inflating: data/309.txt            \n",
            "  inflating: data/335.txt            \n",
            "  inflating: data/321.txt            \n",
            "  inflating: data/137.txt            \n",
            "  inflating: data/123.txt            \n",
            "  inflating: data/043.txt            \n",
            "  inflating: data/057.txt            \n",
            "  inflating: data/080.txt            \n",
            "  inflating: data/094.txt            \n",
            "  inflating: data/269.txt            \n",
            "  inflating: data/241.txt            \n",
            "  inflating: data/255.txt            \n",
            "  inflating: data/282.txt            \n",
            "  inflating: data/296.txt            \n",
            "  inflating: data/292.txt            \n",
            "  inflating: data/286.txt            \n",
            "  inflating: data/279.txt            \n",
            "  inflating: data/251.txt            \n",
            "  inflating: data/245.txt            \n",
            "  inflating: data/090.txt            \n",
            "  inflating: data/084.txt            \n",
            "  inflating: data/053.txt            \n",
            "  inflating: data/047.txt            \n",
            "  inflating: data/127.txt            \n",
            "  inflating: data/133.txt            \n",
            "  inflating: data/319.txt            \n",
            "  inflating: data/325.txt            \n",
            "  inflating: data/331.txt            \n",
            "  inflating: data/330.txt            \n",
            "  inflating: data/324.txt            \n",
            "  inflating: data/318.txt            \n",
            "  inflating: data/132.txt            \n",
            "  inflating: data/126.txt            \n",
            "  inflating: data/046.txt            \n",
            "  inflating: data/052.txt            \n",
            "  inflating: data/085.txt            \n",
            "  inflating: data/091.txt            \n",
            "  inflating: data/244.txt            \n",
            "  inflating: data/250.txt            \n",
            "  inflating: data/278.txt            \n",
            "  inflating: data/287.txt            \n",
            "  inflating: data/293.txt            \n",
            "  inflating: data/285.txt            \n",
            "  inflating: data/291.txt            \n",
            "  inflating: data/246.txt            \n",
            "  inflating: data/252.txt            \n",
            "  inflating: data/087.txt            \n",
            "  inflating: data/093.txt            \n",
            "  inflating: data/078.txt            \n",
            "  inflating: data/044.txt            \n",
            "  inflating: data/050.txt            \n",
            "  inflating: data/118.txt            \n",
            "  inflating: data/130.txt            \n",
            "  inflating: data/124.txt            \n",
            "  inflating: data/332.txt            \n",
            "  inflating: data/326.txt            \n",
            "  inflating: data/327.txt            \n",
            "  inflating: data/333.txt            \n",
            "  inflating: data/125.txt            \n",
            "  inflating: data/131.txt            \n",
            "  inflating: data/119.txt            \n",
            "  inflating: data/051.txt            \n",
            "  inflating: data/045.txt            \n",
            "  inflating: data/079.txt            \n",
            "  inflating: data/092.txt            \n",
            "  inflating: data/086.txt            \n",
            "  inflating: data/253.txt            \n",
            "  inflating: data/247.txt            \n",
            "  inflating: data/290.txt            \n",
            "  inflating: data/284.txt            \n"
          ],
          "name": "stdout"
        }
      ]
    },
    {
      "cell_type": "code",
      "metadata": {
        "id": "VJcIN2UUd4ak",
        "colab": {
          "base_uri": "https://localhost:8080/"
        },
        "outputId": "0646502c-03bd-4e3a-8fdc-c05f1305e947"
      },
      "source": [
        "# data 폴더가 제대로 생성되었는지 확인합니다. \n",
        "!ls"
      ],
      "execution_count": null,
      "outputs": [
        {
          "output_type": "stream",
          "text": [
            "bbc_fulltext.zip  data\tsample_data\n"
          ],
          "name": "stdout"
        }
      ]
    },
    {
      "cell_type": "markdown",
      "metadata": {
        "id": "CNS4UvGweoYo"
      },
      "source": [
        "Document-Term Matrices(DTM, 문서-단어행렬)을 만들어 보겠습니다.<br/>\n",
        "각 행(row)은 문서를 나타내고 각 열(column)은 단어를 나타냅니다.<br/>\n",
        "\n",
        "각 셀의 값은 여러가지 방법으로 표현될 수 있는데\n",
        "> 단어의 출현 빈도를 나타내기도 하고 => **(TF)**<br/>\n",
        "> 단순히 단어의 존재 유무를 표현할 수 있기도 합니다. => **(Binary)**<br/>\n",
        "> 경우에 따라 `TF-IDF` 값으로도 나타낼 수 있습니다. => **(TF-IDF)**"
      ]
    },
    {
      "cell_type": "markdown",
      "metadata": {
        "id": "VIPGWu4lfJlJ"
      },
      "source": [
        "- **Spacy 불러오기**"
      ]
    },
    {
      "cell_type": "code",
      "metadata": {
        "id": "_u9R5lSCgkFp"
      },
      "source": [
        "# 모듈에서 사용할 라이브러리와 spacy 모델을 불러옵니다.\n",
        "import pandas as pd\n",
        "import seaborn as sns\n",
        "import matplotlib.pyplot as plt\n",
        "\n",
        "from sklearn.feature_extraction.text import CountVectorizer, TfidfVectorizer\n",
        "from sklearn.metrics.pairwise import cosine_similarity\n",
        "from sklearn.neighbors import NearestNeighbors\n",
        "from sklearn.decomposition import PCA\n",
        "\n",
        "import spacy\n",
        "nlp = spacy.load(\"en_core_web_sm\")"
      ],
      "execution_count": null,
      "outputs": []
    },
    {
      "cell_type": "code",
      "metadata": {
        "id": "_5J98eLYgMcn"
      },
      "source": [
        "# 예제로 사용할 Text를 선언합니다. \n",
        "text = \"In information retrieval, tf–idf or TFIDF, short for term frequency–inverse document frequency, is a numerical statistic that is intended to reflect how important a word is to a document in a collection or corpus. It is often used as a weighting factor in searches of information retrieval, text mining, and user modeling. The tf–idf value increases proportionally to the number of times a word appears in the document and is offset by the number of documents in the corpus that contain the word, which helps to adjust for the fact that some words appear more frequently in general. tf–idf is one of the most popular term-weighting schemes today. A survey conducted in 2015 showed that 83% of text-based recommender systems in digital libraries use tf–idf.\""
      ],
      "execution_count": null,
      "outputs": []
    },
    {
      "cell_type": "code",
      "metadata": {
        "id": "GUCB1NHQgOQk",
        "colab": {
          "base_uri": "https://localhost:8080/"
        },
        "outputId": "a8320b8f-f8b0-484e-9df1-d78f18567d49"
      },
      "source": [
        "# spacy의 언어모델을 이용하여 token화된 단어들을 확인합니다. \n",
        "doc = nlp(text)\n",
        "print([token.lemma_ for token in doc if (token.is_stop != True) and (token.is_punct != True)])"
      ],
      "execution_count": null,
      "outputs": [
        {
          "output_type": "stream",
          "text": [
            "['information', 'retrieval', 'tf', 'idf', 'TFIDF', 'short', 'term', 'frequency', 'inverse', 'document', 'frequency', 'numerical', 'statistic', 'intend', 'reflect', 'important', 'word', 'document', 'collection', 'corpus', 'weight', 'factor', 'search', 'information', 'retrieval', 'text', 'mining', 'user', 'modeling', 'tf', 'idf', 'value', 'increase', 'proportionally', 'number', 'time', 'word', 'appear', 'document', 'offset', 'number', 'document', 'corpus', 'contain', 'word', 'help', 'adjust', 'fact', 'word', 'appear', 'frequently', 'general', 'tf', 'idf', 'popular', 'term', 'weight', 'scheme', 'today', 'survey', 'conduct', '2015', 'show', '83', 'text', 'base', 'recommender', 'system', 'digital', 'library', 'use', 'tf', 'idf']\n"
          ],
          "name": "stdout"
        }
      ]
    },
    {
      "cell_type": "markdown",
      "metadata": {
        "id": "-1IU3K6XgQ6j"
      },
      "source": [
        "- **BBC Dataset에 토큰화 적용하기**"
      ]
    },
    {
      "cell_type": "code",
      "metadata": {
        "id": "zaBDesBjewKS"
      },
      "source": [
        "# BBC 데이터를 불러오기 위한 함수\n",
        "import os \n",
        "\n",
        "def gather_data(filefolder):\n",
        "    \"\"\" 폴더 내 텍스트 파일을 각각 리스트 요소에 저장하는 함수\n",
        "    Args:\n",
        "        filefolder (str): .txt 파일이 존재하는 경로\n",
        "    Returns:\n",
        "        문서를 요소로하는 리스트\n",
        "    \"\"\"\n",
        "    \n",
        "    data = []\n",
        "    files = os.listdir(filefolder)\n",
        "    for article in files: \n",
        "        path = os.path.join(filefolder, article)\n",
        "        # txt로 끝나는 파일만 읽습니다\n",
        "        if  path[-3:] == 'txt':\n",
        "            # rb:Read the file in Binary mode\n",
        "            with open(path, 'rb') as f:\n",
        "                data.append(f.read())\n",
        "    \n",
        "    return data"
      ],
      "execution_count": null,
      "outputs": []
    },
    {
      "cell_type": "code",
      "metadata": {
        "id": "Qji-lT1RgWZl"
      },
      "source": [
        "data = gather_data('./data')"
      ],
      "execution_count": null,
      "outputs": []
    },
    {
      "cell_type": "code",
      "metadata": {
        "id": "R4hIVrSVgX6F",
        "colab": {
          "base_uri": "https://localhost:8080/"
        },
        "outputId": "0ea1dcf4-736e-4a45-e8c8-0ba64db6248c"
      },
      "source": [
        "# 샘플 확인\n",
        "data[0]"
      ],
      "execution_count": null,
      "outputs": [
        {
          "output_type": "execute_result",
          "data": {
            "text/plain": [
              "b'EA to take on film and TV giants\\n\\nVideo game giant Electronic Arts (EA) says it wants to become the biggest entertainment firm in the world.\\n\\nThe US firm says it wants to compete with companies such as Disney and will only achieve this by making games appeal to mainstream audiences. EA publishes blockbuster titles such as Fifa and John Madden, as well as video game versions of movies such as Harry Potter and the James Bond films. Its revenues were $3bn (\\xc2\\xa31.65bn) in 2004, which EA hoped to double by 2009. EA is the biggest games publisher in the world and in 2004 had 27 titles which sold in excess of one million copies each. Nine of the 20 biggest-selling games in the UK last year were published by EA.\\n\\nGerhard Florin, EA\\'s managing director for European publishing, said: \"Doubling our industry in five years is not rocket science.\" He said it would take many years before EA could challenge Disney - which in 2004 reported revenues of $30bn (\\xc2\\xa316bn) - but it remained a goal for the company. \"We will be able to bring more people into gaming because games will be more emotional.\" Mr Florin predicted that the next round of games console would give developers enough power to create real emotion.\\n\\n\"It\\'s the subtleties, the eyes, the mouth - 5,000 polygons doesn\\'t really sell the emotion.\\n\\n\"With PS3 and Xbox 2, we can go on the main character with 30,000 to 50,000 polygons,\" he said. \"With that increased firepower, the Finding Nemo video game looks just like the movie, but it will be interactive.\" Mr Florin said that more than 50% of all EA\\'s games were sold to adults and played by adults, but the perception remained that the video game industry was for children. \"Our goal is to bring games to the masses which bring out emotions.\" EA said the video game industry was now bigger than the music industry. \"Nobody queues for music anymore.\"\\n\\n\"You can\\'t ignore an industry when people queue to buy a game at midnight because they are so desperate to play it,\" he said, referring to demand for titles for such as Grand Theft Auto: San Andreas and Halo 2.\\n\\nJan Bolz, EA\\'s vice president of sales and marketing in Europe, said the firm was working to give video games a more central role in popular culture. He said the company was in advanced stages of discussions over a reality TV show in which viewers could control the actions of the characters as in its popular game The Sims. \"One idea could be that you\\'re controlling a family, telling them when to go to the kitchen and when to go to the bedroom, and with this mechanism you have gamers all over the world \\'playing the show\\',\" said Mr Bolz.\\n\\nHe also said EA was planning an international awards show \"similar to the Oscars and the Grammys\" which would combine video games, music and movies. Mr Bolz said video games firm had to work more closely with celebrities. \"People will want to play video games if their heroes like Robbie Williams or Christina Aguilera are in them.\" Mr Florin said the challenge was to keep people playing in their 30s, 40s and 50s. \"There\\'s an indication that a 30 year old comes home from work and still wants to play games. \"If that\\'s true, that\\'s a big challenge for TV broadcasters - because watching TV is the biggest pastime at present.\"\\n'"
            ]
          },
          "metadata": {
            "tags": []
          },
          "execution_count": 59
        }
      ]
    },
    {
      "cell_type": "code",
      "metadata": {
        "id": "CmK1XLl1gZKs"
      },
      "source": [
        "import seaborn as sns\n",
        "# plot 스타일과 폰트 크기를 설정합니다.\n",
        "sns.set(style='whitegrid', font_scale=1.15)\n",
        "\n",
        "# 문서별 단어의 수 분포도 그리는 함수\n",
        "def plot_text_length_dist(text_list):\n",
        "\n",
        "    # 문장이 요소인 리스트를 받아 각 문서의 단어 수를 가진 리스트를 만듭니다\n",
        "    num_words = [len(doc.split()) for doc in text_list]\n",
        "    \n",
        "    sns.displot(num_words)\n",
        "    plt.title('# of words per documents')\n",
        "    plt.xlabel('Number of words')\n",
        "    plt.ylabel('Number of documents')\n",
        "    plt.show()"
      ],
      "execution_count": null,
      "outputs": []
    },
    {
      "cell_type": "markdown",
      "metadata": {
        "id": "tmPRc0faetp3"
      },
      "source": [
        "분포도를 통해서 문서별 단어의 수를 시각화 해봅시다."
      ]
    },
    {
      "cell_type": "code",
      "metadata": {
        "id": "s55ipCT9gBUr"
      },
      "source": [
        "import seaborn as sns\n",
        "# plot 스타일과 폰트 크기를 설정합니다.\n",
        "sns.set(style='whitegrid', font_scale=1.15)\n",
        "\n",
        "# 문서별 단어의 수 분포도 그리는 함수\n",
        "def plot_text_length_dist(text_list):\n",
        "\n",
        "    # 문장이 요소인 리스트를 받아 각 문서의 단어 수를 가진 리스트를 만듭니다\n",
        "    num_words = [len(doc.split()) for doc in text_list]\n",
        "    \n",
        "    sns.displot(num_words)\n",
        "    plt.title('# of words per documents')\n",
        "    plt.xlabel('Number of words')\n",
        "    plt.ylabel('Number of documents')\n",
        "    plt.show()"
      ],
      "execution_count": null,
      "outputs": []
    },
    {
      "cell_type": "code",
      "metadata": {
        "id": "HNredYFhgqg7",
        "colab": {
          "base_uri": "https://localhost:8080/",
          "height": 396
        },
        "outputId": "62f12456-8fbb-4b74-cda3-9b191c443a60"
      },
      "source": [
        "plot_text_length_dist(data)"
      ],
      "execution_count": null,
      "outputs": [
        {
          "output_type": "display_data",
          "data": {
            "image/png": "[encoded data removed]",
            "text/plain": [
              "<Figure size 360x360 with 1 Axes>"
            ]
          },
          "metadata": {
            "tags": []
          }
        }
      ]
    },
    {
      "cell_type": "markdown",
      "metadata": {
        "id": "ARW4JLBDgrGO"
      },
      "source": [
        "대략 500 단어 정도로 표현된 문서가 가장 많다는 것을 알 수 있습니다."
      ]
    },
    {
      "cell_type": "markdown",
      "metadata": {
        "id": "odJM28NIgwWF"
      },
      "source": [
        "- **CounterVectorizer** 를 사용한 Bag-of-Words 예제\n",
        "\n"
      ]
    },
    {
      "cell_type": "markdown",
      "metadata": {
        "id": "Mhlmttw0ojRZ"
      },
      "source": [
        "단어들의 출현 빈도로 여러 개의 문서를 벡터화하는 함수입니다.<br/>\n",
        "예제에서는 모든 문자를 소문자로 전환하여 계산해보겠습니다."
      ]
    },
    {
      "cell_type": "code",
      "metadata": {
        "id": "StlHOylyg_Ia"
      },
      "source": [
        "from sklearn.feature_extraction.text import CountVectorizer\n",
        "\n",
        "# wiki 문장들을 리스트에 나누어 입력해봅니다. \n",
        "text = [\"In information retrieval, tf–idf or TFIDF, short for term frequency–inverse document frequency, is a numerical statistic that is intended to reflect how important a word is to a document in a collection or corpus.\"\n",
        ",\"It is often used as a weighting factor in searches of information retrieval, text mining, and user modeling.\"\n",
        ",\"The tf–idf value increases proportionally to the number of times a word appears in the document and is offset by the number of documents in the corpus that contain the word, which helps to adjust for the fact that some words appear more frequently in general.\"\n",
        ",\"tf–idf is one of the most popular term-weighting schemes today.\"\n",
        ",\"A survey conducted in 2015 showed that 83% of text-based recommender systems in digital libraries use tf–idf.\"]\n",
        "\n",
        "# CountVectorizer 생성\n",
        "vect = CountVectorizer()\n",
        "\n",
        "# text를 기반으로 어휘 사전을 생성\n",
        "vect.fit(text) \n",
        "# vect.fit(data[:5])\n",
        "\n",
        "# text를 DTM(document-term matrix)으로 변환(transform)\n",
        "dtm = vect.transform(text)\n",
        "# dtm = vect.transform(data[:5])"
      ],
      "execution_count": null,
      "outputs": []
    },
    {
      "cell_type": "markdown",
      "metadata": {
        "id": "ErfIc00Ph9Es"
      },
      "source": [
        "아래 코드를 통해 vocabulary(모든 토큰)와 맵핑된 인덱스 정보를 확인할 수 있습니다"
      ]
    },
    {
      "cell_type": "code",
      "metadata": {
        "id": "jWkHNymFiETy",
        "colab": {
          "base_uri": "https://localhost:8080/"
        },
        "outputId": "0bd83e3d-70c6-478d-a985-741e8974eab1"
      },
      "source": [
        "vect.vocabulary_"
      ],
      "execution_count": null,
      "outputs": [
        {
          "output_type": "execute_result",
          "data": {
            "text/plain": [
              "{'2015': 0,\n",
              " '83': 1,\n",
              " 'adjust': 2,\n",
              " 'and': 3,\n",
              " 'appear': 4,\n",
              " 'appears': 5,\n",
              " 'as': 6,\n",
              " 'based': 7,\n",
              " 'by': 8,\n",
              " 'collection': 9,\n",
              " 'conducted': 10,\n",
              " 'contain': 11,\n",
              " 'corpus': 12,\n",
              " 'digital': 13,\n",
              " 'document': 14,\n",
              " 'documents': 15,\n",
              " 'fact': 16,\n",
              " 'factor': 17,\n",
              " 'for': 18,\n",
              " 'frequency': 19,\n",
              " 'frequently': 20,\n",
              " 'general': 21,\n",
              " 'helps': 22,\n",
              " 'how': 23,\n",
              " 'idf': 24,\n",
              " 'important': 25,\n",
              " 'in': 26,\n",
              " 'increases': 27,\n",
              " 'information': 28,\n",
              " 'intended': 29,\n",
              " 'inverse': 30,\n",
              " 'is': 31,\n",
              " 'it': 32,\n",
              " 'libraries': 33,\n",
              " 'mining': 34,\n",
              " 'modeling': 35,\n",
              " 'more': 36,\n",
              " 'most': 37,\n",
              " 'number': 38,\n",
              " 'numerical': 39,\n",
              " 'of': 40,\n",
              " 'offset': 41,\n",
              " 'often': 42,\n",
              " 'one': 43,\n",
              " 'or': 44,\n",
              " 'popular': 45,\n",
              " 'proportionally': 46,\n",
              " 'recommender': 47,\n",
              " 'reflect': 48,\n",
              " 'retrieval': 49,\n",
              " 'schemes': 50,\n",
              " 'searches': 51,\n",
              " 'short': 52,\n",
              " 'showed': 53,\n",
              " 'some': 54,\n",
              " 'statistic': 55,\n",
              " 'survey': 56,\n",
              " 'systems': 57,\n",
              " 'term': 58,\n",
              " 'text': 59,\n",
              " 'tf': 60,\n",
              " 'tfidf': 61,\n",
              " 'that': 62,\n",
              " 'the': 63,\n",
              " 'times': 64,\n",
              " 'to': 65,\n",
              " 'today': 66,\n",
              " 'use': 67,\n",
              " 'used': 68,\n",
              " 'user': 69,\n",
              " 'value': 70,\n",
              " 'weighting': 71,\n",
              " 'which': 72,\n",
              " 'word': 73,\n",
              " 'words': 74}"
            ]
          },
          "metadata": {
            "tags": []
          },
          "execution_count": 64
        }
      ]
    },
    {
      "cell_type": "code",
      "metadata": {
        "id": "3q4rZJ_viIIV",
        "colab": {
          "base_uri": "https://localhost:8080/"
        },
        "outputId": "4a354853-7301-42a7-be1d-a1102f994a5a"
      },
      "source": [
        "dtm.shape"
      ],
      "execution_count": null,
      "outputs": [
        {
          "output_type": "execute_result",
          "data": {
            "text/plain": [
              "(5, 75)"
            ]
          },
          "metadata": {
            "tags": []
          },
          "execution_count": 65
        }
      ]
    },
    {
      "cell_type": "markdown",
      "metadata": {
        "id": "kMOmskLuiOa_"
      },
      "source": [
        "추출된 토큰을 나열해 봅니다."
      ]
    },
    {
      "cell_type": "code",
      "metadata": {
        "id": "1jZILpQNiTFK",
        "colab": {
          "base_uri": "https://localhost:8080/"
        },
        "outputId": "d9ab6c07-902a-48c8-8b6d-027164659700"
      },
      "source": [
        "print(vect.get_feature_names())"
      ],
      "execution_count": null,
      "outputs": [
        {
          "output_type": "stream",
          "text": [
            "['2015', '83', 'adjust', 'and', 'appear', 'appears', 'as', 'based', 'by', 'collection', 'conducted', 'contain', 'corpus', 'digital', 'document', 'documents', 'fact', 'factor', 'for', 'frequency', 'frequently', 'general', 'helps', 'how', 'idf', 'important', 'in', 'increases', 'information', 'intended', 'inverse', 'is', 'it', 'libraries', 'mining', 'modeling', 'more', 'most', 'number', 'numerical', 'of', 'offset', 'often', 'one', 'or', 'popular', 'proportionally', 'recommender', 'reflect', 'retrieval', 'schemes', 'searches', 'short', 'showed', 'some', 'statistic', 'survey', 'systems', 'term', 'text', 'tf', 'tfidf', 'that', 'the', 'times', 'to', 'today', 'use', 'used', 'user', 'value', 'weighting', 'which', 'word', 'words']\n"
          ],
          "name": "stdout"
        }
      ]
    },
    {
      "cell_type": "code",
      "metadata": {
        "id": "XKb7Eh6siUdP",
        "colab": {
          "base_uri": "https://localhost:8080/",
          "height": 35
        },
        "outputId": "3e8a74ef-5e09-488c-e050-45a3fbb88ee4"
      },
      "source": [
        "text[2]"
      ],
      "execution_count": null,
      "outputs": [
        {
          "output_type": "execute_result",
          "data": {
            "application/vnd.google.colaboratory.intrinsic+json": {
              "type": "string"
            },
            "text/plain": [
              "'The tf–idf value increases proportionally to the number of times a word appears in the document and is offset by the number of documents in the corpus that contain the word, which helps to adjust for the fact that some words appear more frequently in general.'"
            ]
          },
          "metadata": {
            "tags": []
          },
          "execution_count": 67
        }
      ]
    },
    {
      "cell_type": "markdown",
      "metadata": {
        "id": "nRcQpvxJiYij"
      },
      "source": [
        "dtm의 타입을 보면 compressed sparse Row matrix임을 알 수 있습니다. <br/>\n",
        "csr: Compressed Sparse Row matrix, sparse matrix 형태에서 0을 표현하지 않습니다."
      ]
    },
    {
      "cell_type": "code",
      "metadata": {
        "id": "eRVICxawicTg",
        "colab": {
          "base_uri": "https://localhost:8080/"
        },
        "outputId": "40667187-5a40-41bd-e713-292d2694cd43"
      },
      "source": [
        "# CountVectorizer 로 제작한 dtm을 분석\n",
        "type(dtm)"
      ],
      "execution_count": null,
      "outputs": [
        {
          "output_type": "execute_result",
          "data": {
            "text/plain": [
              "scipy.sparse.csr.csr_matrix"
            ]
          },
          "metadata": {
            "tags": []
          },
          "execution_count": 68
        }
      ]
    },
    {
      "cell_type": "code",
      "metadata": {
        "id": "PJJWIc-TieG-",
        "colab": {
          "base_uri": "https://localhost:8080/"
        },
        "outputId": "2ac4c675-21cc-464d-ded1-5395360e3489"
      },
      "source": [
        "# (row, column)  count\n",
        "print(dtm)"
      ],
      "execution_count": null,
      "outputs": [
        {
          "output_type": "stream",
          "text": [
            "  (0, 9)\t1\n",
            "  (0, 12)\t1\n",
            "  (0, 14)\t2\n",
            "  (0, 18)\t1\n",
            "  (0, 19)\t2\n",
            "  (0, 23)\t1\n",
            "  (0, 24)\t1\n",
            "  (0, 25)\t1\n",
            "  (0, 26)\t2\n",
            "  (0, 28)\t1\n",
            "  (0, 29)\t1\n",
            "  (0, 30)\t1\n",
            "  (0, 31)\t3\n",
            "  (0, 39)\t1\n",
            "  (0, 44)\t2\n",
            "  (0, 48)\t1\n",
            "  (0, 49)\t1\n",
            "  (0, 52)\t1\n",
            "  (0, 55)\t1\n",
            "  (0, 58)\t1\n",
            "  (0, 60)\t1\n",
            "  (0, 61)\t1\n",
            "  (0, 62)\t1\n",
            "  (0, 65)\t2\n",
            "  (0, 73)\t1\n",
            "  :\t:\n",
            "  (3, 43)\t1\n",
            "  (3, 45)\t1\n",
            "  (3, 50)\t1\n",
            "  (3, 58)\t1\n",
            "  (3, 60)\t1\n",
            "  (3, 63)\t1\n",
            "  (3, 66)\t1\n",
            "  (3, 71)\t1\n",
            "  (4, 0)\t1\n",
            "  (4, 1)\t1\n",
            "  (4, 7)\t1\n",
            "  (4, 10)\t1\n",
            "  (4, 13)\t1\n",
            "  (4, 24)\t1\n",
            "  (4, 26)\t2\n",
            "  (4, 33)\t1\n",
            "  (4, 40)\t1\n",
            "  (4, 47)\t1\n",
            "  (4, 53)\t1\n",
            "  (4, 56)\t1\n",
            "  (4, 57)\t1\n",
            "  (4, 59)\t1\n",
            "  (4, 60)\t1\n",
            "  (4, 62)\t1\n",
            "  (4, 67)\t1\n"
          ],
          "name": "stdout"
        }
      ]
    },
    {
      "cell_type": "code",
      "metadata": {
        "id": "MfoHskvJifd1",
        "colab": {
          "base_uri": "https://localhost:8080/"
        },
        "outputId": "58ba6ac5-2719-41e6-ad7f-f8fd764afe01"
      },
      "source": [
        "# Return a dense matrix representation\n",
        "# dtm.todense()\n",
        "print(type(dtm))\n",
        "print(type(dtm.todense()))\n",
        "dtm.todense()"
      ],
      "execution_count": null,
      "outputs": [
        {
          "output_type": "stream",
          "text": [
            "<class 'scipy.sparse.csr.csr_matrix'>\n",
            "<class 'numpy.matrix'>\n"
          ],
          "name": "stdout"
        },
        {
          "output_type": "execute_result",
          "data": {
            "text/plain": [
              "matrix([[0, 0, 0, 0, 0, 0, 0, 0, 0, 1, 0, 0, 1, 0, 2, 0, 0, 0, 1, 2, 0,\n",
              "         0, 0, 1, 1, 1, 2, 0, 1, 1, 1, 3, 0, 0, 0, 0, 0, 0, 0, 1, 0, 0,\n",
              "         0, 0, 2, 0, 0, 0, 1, 1, 0, 0, 1, 0, 0, 1, 0, 0, 1, 0, 1, 1, 1,\n",
              "         0, 0, 2, 0, 0, 0, 0, 0, 0, 0, 1, 0],\n",
              "        [0, 0, 0, 1, 0, 0, 1, 0, 0, 0, 0, 0, 0, 0, 0, 0, 0, 1, 0, 0, 0,\n",
              "         0, 0, 0, 0, 0, 1, 0, 1, 0, 0, 1, 1, 0, 1, 1, 0, 0, 0, 0, 1, 0,\n",
              "         1, 0, 0, 0, 0, 0, 0, 1, 0, 1, 0, 0, 0, 0, 0, 0, 0, 1, 0, 0, 0,\n",
              "         0, 0, 0, 0, 0, 1, 1, 0, 1, 0, 0, 0],\n",
              "        [0, 0, 1, 1, 1, 1, 0, 0, 1, 0, 0, 1, 1, 0, 1, 1, 1, 0, 1, 0, 1,\n",
              "         1, 1, 0, 1, 0, 3, 1, 0, 0, 0, 1, 0, 0, 0, 0, 1, 0, 2, 0, 2, 1,\n",
              "         0, 0, 0, 0, 1, 0, 0, 0, 0, 0, 0, 0, 1, 0, 0, 0, 0, 0, 1, 0, 2,\n",
              "         7, 1, 2, 0, 0, 0, 0, 1, 0, 1, 2, 1],\n",
              "        [0, 0, 0, 0, 0, 0, 0, 0, 0, 0, 0, 0, 0, 0, 0, 0, 0, 0, 0, 0, 0,\n",
              "         0, 0, 0, 1, 0, 0, 0, 0, 0, 0, 1, 0, 0, 0, 0, 0, 1, 0, 0, 1, 0,\n",
              "         0, 1, 0, 1, 0, 0, 0, 0, 1, 0, 0, 0, 0, 0, 0, 0, 1, 0, 1, 0, 0,\n",
              "         1, 0, 0, 1, 0, 0, 0, 0, 1, 0, 0, 0],\n",
              "        [1, 1, 0, 0, 0, 0, 0, 1, 0, 0, 1, 0, 0, 1, 0, 0, 0, 0, 0, 0, 0,\n",
              "         0, 0, 0, 1, 0, 2, 0, 0, 0, 0, 0, 0, 1, 0, 0, 0, 0, 0, 0, 1, 0,\n",
              "         0, 0, 0, 0, 0, 1, 0, 0, 0, 0, 0, 1, 0, 0, 1, 1, 0, 1, 1, 0, 1,\n",
              "         0, 0, 0, 0, 1, 0, 0, 0, 0, 0, 0, 0]])"
            ]
          },
          "metadata": {
            "tags": []
          },
          "execution_count": 70
        }
      ]
    },
    {
      "cell_type": "code",
      "metadata": {
        "id": "wE51W8OliiVs",
        "colab": {
          "base_uri": "https://localhost:8080/",
          "height": 241
        },
        "outputId": "54f6486d-a068-4fbc-f1f0-0f61e075bb18"
      },
      "source": [
        "dtm = pd.DataFrame(dtm.todense(), columns=vect.get_feature_names())\n",
        "print(type(dtm))\n",
        "dtm"
      ],
      "execution_count": null,
      "outputs": [
        {
          "output_type": "stream",
          "text": [
            "<class 'pandas.core.frame.DataFrame'>\n"
          ],
          "name": "stdout"
        },
        {
          "output_type": "execute_result",
          "data": {
            "text/html": [
              "<div>\n",
              "<style scoped>\n",
              "    .dataframe tbody tr th:only-of-type {\n",
              "        vertical-align: middle;\n",
              "    }\n",
              "\n",
              "    .dataframe tbody tr th {\n",
              "        vertical-align: top;\n",
              "    }\n",
              "\n",
              "    .dataframe thead th {\n",
              "        text-align: right;\n",
              "    }\n",
              "</style>\n",
              "<table border=\"1\" class=\"dataframe\">\n",
              "  <thead>\n",
              "    <tr style=\"text-align: right;\">\n",
              "      <th></th>\n",
              "      <th>2015</th>\n",
              "      <th>83</th>\n",
              "      <th>adjust</th>\n",
              "      <th>and</th>\n",
              "      <th>appear</th>\n",
              "      <th>appears</th>\n",
              "      <th>as</th>\n",
              "      <th>based</th>\n",
              "      <th>by</th>\n",
              "      <th>collection</th>\n",
              "      <th>conducted</th>\n",
              "      <th>contain</th>\n",
              "      <th>corpus</th>\n",
              "      <th>digital</th>\n",
              "      <th>document</th>\n",
              "      <th>documents</th>\n",
              "      <th>fact</th>\n",
              "      <th>factor</th>\n",
              "      <th>for</th>\n",
              "      <th>frequency</th>\n",
              "      <th>frequently</th>\n",
              "      <th>general</th>\n",
              "      <th>helps</th>\n",
              "      <th>how</th>\n",
              "      <th>idf</th>\n",
              "      <th>important</th>\n",
              "      <th>in</th>\n",
              "      <th>increases</th>\n",
              "      <th>information</th>\n",
              "      <th>intended</th>\n",
              "      <th>inverse</th>\n",
              "      <th>is</th>\n",
              "      <th>it</th>\n",
              "      <th>libraries</th>\n",
              "      <th>mining</th>\n",
              "      <th>modeling</th>\n",
              "      <th>more</th>\n",
              "      <th>most</th>\n",
              "      <th>number</th>\n",
              "      <th>numerical</th>\n",
              "      <th>of</th>\n",
              "      <th>offset</th>\n",
              "      <th>often</th>\n",
              "      <th>one</th>\n",
              "      <th>or</th>\n",
              "      <th>popular</th>\n",
              "      <th>proportionally</th>\n",
              "      <th>recommender</th>\n",
              "      <th>reflect</th>\n",
              "      <th>retrieval</th>\n",
              "      <th>schemes</th>\n",
              "      <th>searches</th>\n",
              "      <th>short</th>\n",
              "      <th>showed</th>\n",
              "      <th>some</th>\n",
              "      <th>statistic</th>\n",
              "      <th>survey</th>\n",
              "      <th>systems</th>\n",
              "      <th>term</th>\n",
              "      <th>text</th>\n",
              "      <th>tf</th>\n",
              "      <th>tfidf</th>\n",
              "      <th>that</th>\n",
              "      <th>the</th>\n",
              "      <th>times</th>\n",
              "      <th>to</th>\n",
              "      <th>today</th>\n",
              "      <th>use</th>\n",
              "      <th>used</th>\n",
              "      <th>user</th>\n",
              "      <th>value</th>\n",
              "      <th>weighting</th>\n",
              "      <th>which</th>\n",
              "      <th>word</th>\n",
              "      <th>words</th>\n",
              "    </tr>\n",
              "  </thead>\n",
              "  <tbody>\n",
              "    <tr>\n",
              "      <th>0</th>\n",
              "      <td>0</td>\n",
              "      <td>0</td>\n",
              "      <td>0</td>\n",
              "      <td>0</td>\n",
              "      <td>0</td>\n",
              "      <td>0</td>\n",
              "      <td>0</td>\n",
              "      <td>0</td>\n",
              "      <td>0</td>\n",
              "      <td>1</td>\n",
              "      <td>0</td>\n",
              "      <td>0</td>\n",
              "      <td>1</td>\n",
              "      <td>0</td>\n",
              "      <td>2</td>\n",
              "      <td>0</td>\n",
              "      <td>0</td>\n",
              "      <td>0</td>\n",
              "      <td>1</td>\n",
              "      <td>2</td>\n",
              "      <td>0</td>\n",
              "      <td>0</td>\n",
              "      <td>0</td>\n",
              "      <td>1</td>\n",
              "      <td>1</td>\n",
              "      <td>1</td>\n",
              "      <td>2</td>\n",
              "      <td>0</td>\n",
              "      <td>1</td>\n",
              "      <td>1</td>\n",
              "      <td>1</td>\n",
              "      <td>3</td>\n",
              "      <td>0</td>\n",
              "      <td>0</td>\n",
              "      <td>0</td>\n",
              "      <td>0</td>\n",
              "      <td>0</td>\n",
              "      <td>0</td>\n",
              "      <td>0</td>\n",
              "      <td>1</td>\n",
              "      <td>0</td>\n",
              "      <td>0</td>\n",
              "      <td>0</td>\n",
              "      <td>0</td>\n",
              "      <td>2</td>\n",
              "      <td>0</td>\n",
              "      <td>0</td>\n",
              "      <td>0</td>\n",
              "      <td>1</td>\n",
              "      <td>1</td>\n",
              "      <td>0</td>\n",
              "      <td>0</td>\n",
              "      <td>1</td>\n",
              "      <td>0</td>\n",
              "      <td>0</td>\n",
              "      <td>1</td>\n",
              "      <td>0</td>\n",
              "      <td>0</td>\n",
              "      <td>1</td>\n",
              "      <td>0</td>\n",
              "      <td>1</td>\n",
              "      <td>1</td>\n",
              "      <td>1</td>\n",
              "      <td>0</td>\n",
              "      <td>0</td>\n",
              "      <td>2</td>\n",
              "      <td>0</td>\n",
              "      <td>0</td>\n",
              "      <td>0</td>\n",
              "      <td>0</td>\n",
              "      <td>0</td>\n",
              "      <td>0</td>\n",
              "      <td>0</td>\n",
              "      <td>1</td>\n",
              "      <td>0</td>\n",
              "    </tr>\n",
              "    <tr>\n",
              "      <th>1</th>\n",
              "      <td>0</td>\n",
              "      <td>0</td>\n",
              "      <td>0</td>\n",
              "      <td>1</td>\n",
              "      <td>0</td>\n",
              "      <td>0</td>\n",
              "      <td>1</td>\n",
              "      <td>0</td>\n",
              "      <td>0</td>\n",
              "      <td>0</td>\n",
              "      <td>0</td>\n",
              "      <td>0</td>\n",
              "      <td>0</td>\n",
              "      <td>0</td>\n",
              "      <td>0</td>\n",
              "      <td>0</td>\n",
              "      <td>0</td>\n",
              "      <td>1</td>\n",
              "      <td>0</td>\n",
              "      <td>0</td>\n",
              "      <td>0</td>\n",
              "      <td>0</td>\n",
              "      <td>0</td>\n",
              "      <td>0</td>\n",
              "      <td>0</td>\n",
              "      <td>0</td>\n",
              "      <td>1</td>\n",
              "      <td>0</td>\n",
              "      <td>1</td>\n",
              "      <td>0</td>\n",
              "      <td>0</td>\n",
              "      <td>1</td>\n",
              "      <td>1</td>\n",
              "      <td>0</td>\n",
              "      <td>1</td>\n",
              "      <td>1</td>\n",
              "      <td>0</td>\n",
              "      <td>0</td>\n",
              "      <td>0</td>\n",
              "      <td>0</td>\n",
              "      <td>1</td>\n",
              "      <td>0</td>\n",
              "      <td>1</td>\n",
              "      <td>0</td>\n",
              "      <td>0</td>\n",
              "      <td>0</td>\n",
              "      <td>0</td>\n",
              "      <td>0</td>\n",
              "      <td>0</td>\n",
              "      <td>1</td>\n",
              "      <td>0</td>\n",
              "      <td>1</td>\n",
              "      <td>0</td>\n",
              "      <td>0</td>\n",
              "      <td>0</td>\n",
              "      <td>0</td>\n",
              "      <td>0</td>\n",
              "      <td>0</td>\n",
              "      <td>0</td>\n",
              "      <td>1</td>\n",
              "      <td>0</td>\n",
              "      <td>0</td>\n",
              "      <td>0</td>\n",
              "      <td>0</td>\n",
              "      <td>0</td>\n",
              "      <td>0</td>\n",
              "      <td>0</td>\n",
              "      <td>0</td>\n",
              "      <td>1</td>\n",
              "      <td>1</td>\n",
              "      <td>0</td>\n",
              "      <td>1</td>\n",
              "      <td>0</td>\n",
              "      <td>0</td>\n",
              "      <td>0</td>\n",
              "    </tr>\n",
              "    <tr>\n",
              "      <th>2</th>\n",
              "      <td>0</td>\n",
              "      <td>0</td>\n",
              "      <td>1</td>\n",
              "      <td>1</td>\n",
              "      <td>1</td>\n",
              "      <td>1</td>\n",
              "      <td>0</td>\n",
              "      <td>0</td>\n",
              "      <td>1</td>\n",
              "      <td>0</td>\n",
              "      <td>0</td>\n",
              "      <td>1</td>\n",
              "      <td>1</td>\n",
              "      <td>0</td>\n",
              "      <td>1</td>\n",
              "      <td>1</td>\n",
              "      <td>1</td>\n",
              "      <td>0</td>\n",
              "      <td>1</td>\n",
              "      <td>0</td>\n",
              "      <td>1</td>\n",
              "      <td>1</td>\n",
              "      <td>1</td>\n",
              "      <td>0</td>\n",
              "      <td>1</td>\n",
              "      <td>0</td>\n",
              "      <td>3</td>\n",
              "      <td>1</td>\n",
              "      <td>0</td>\n",
              "      <td>0</td>\n",
              "      <td>0</td>\n",
              "      <td>1</td>\n",
              "      <td>0</td>\n",
              "      <td>0</td>\n",
              "      <td>0</td>\n",
              "      <td>0</td>\n",
              "      <td>1</td>\n",
              "      <td>0</td>\n",
              "      <td>2</td>\n",
              "      <td>0</td>\n",
              "      <td>2</td>\n",
              "      <td>1</td>\n",
              "      <td>0</td>\n",
              "      <td>0</td>\n",
              "      <td>0</td>\n",
              "      <td>0</td>\n",
              "      <td>1</td>\n",
              "      <td>0</td>\n",
              "      <td>0</td>\n",
              "      <td>0</td>\n",
              "      <td>0</td>\n",
              "      <td>0</td>\n",
              "      <td>0</td>\n",
              "      <td>0</td>\n",
              "      <td>1</td>\n",
              "      <td>0</td>\n",
              "      <td>0</td>\n",
              "      <td>0</td>\n",
              "      <td>0</td>\n",
              "      <td>0</td>\n",
              "      <td>1</td>\n",
              "      <td>0</td>\n",
              "      <td>2</td>\n",
              "      <td>7</td>\n",
              "      <td>1</td>\n",
              "      <td>2</td>\n",
              "      <td>0</td>\n",
              "      <td>0</td>\n",
              "      <td>0</td>\n",
              "      <td>0</td>\n",
              "      <td>1</td>\n",
              "      <td>0</td>\n",
              "      <td>1</td>\n",
              "      <td>2</td>\n",
              "      <td>1</td>\n",
              "    </tr>\n",
              "    <tr>\n",
              "      <th>3</th>\n",
              "      <td>0</td>\n",
              "      <td>0</td>\n",
              "      <td>0</td>\n",
              "      <td>0</td>\n",
              "      <td>0</td>\n",
              "      <td>0</td>\n",
              "      <td>0</td>\n",
              "      <td>0</td>\n",
              "      <td>0</td>\n",
              "      <td>0</td>\n",
              "      <td>0</td>\n",
              "      <td>0</td>\n",
              "      <td>0</td>\n",
              "      <td>0</td>\n",
              "      <td>0</td>\n",
              "      <td>0</td>\n",
              "      <td>0</td>\n",
              "      <td>0</td>\n",
              "      <td>0</td>\n",
              "      <td>0</td>\n",
              "      <td>0</td>\n",
              "      <td>0</td>\n",
              "      <td>0</td>\n",
              "      <td>0</td>\n",
              "      <td>1</td>\n",
              "      <td>0</td>\n",
              "      <td>0</td>\n",
              "      <td>0</td>\n",
              "      <td>0</td>\n",
              "      <td>0</td>\n",
              "      <td>0</td>\n",
              "      <td>1</td>\n",
              "      <td>0</td>\n",
              "      <td>0</td>\n",
              "      <td>0</td>\n",
              "      <td>0</td>\n",
              "      <td>0</td>\n",
              "      <td>1</td>\n",
              "      <td>0</td>\n",
              "      <td>0</td>\n",
              "      <td>1</td>\n",
              "      <td>0</td>\n",
              "      <td>0</td>\n",
              "      <td>1</td>\n",
              "      <td>0</td>\n",
              "      <td>1</td>\n",
              "      <td>0</td>\n",
              "      <td>0</td>\n",
              "      <td>0</td>\n",
              "      <td>0</td>\n",
              "      <td>1</td>\n",
              "      <td>0</td>\n",
              "      <td>0</td>\n",
              "      <td>0</td>\n",
              "      <td>0</td>\n",
              "      <td>0</td>\n",
              "      <td>0</td>\n",
              "      <td>0</td>\n",
              "      <td>1</td>\n",
              "      <td>0</td>\n",
              "      <td>1</td>\n",
              "      <td>0</td>\n",
              "      <td>0</td>\n",
              "      <td>1</td>\n",
              "      <td>0</td>\n",
              "      <td>0</td>\n",
              "      <td>1</td>\n",
              "      <td>0</td>\n",
              "      <td>0</td>\n",
              "      <td>0</td>\n",
              "      <td>0</td>\n",
              "      <td>1</td>\n",
              "      <td>0</td>\n",
              "      <td>0</td>\n",
              "      <td>0</td>\n",
              "    </tr>\n",
              "    <tr>\n",
              "      <th>4</th>\n",
              "      <td>1</td>\n",
              "      <td>1</td>\n",
              "      <td>0</td>\n",
              "      <td>0</td>\n",
              "      <td>0</td>\n",
              "      <td>0</td>\n",
              "      <td>0</td>\n",
              "      <td>1</td>\n",
              "      <td>0</td>\n",
              "      <td>0</td>\n",
              "      <td>1</td>\n",
              "      <td>0</td>\n",
              "      <td>0</td>\n",
              "      <td>1</td>\n",
              "      <td>0</td>\n",
              "      <td>0</td>\n",
              "      <td>0</td>\n",
              "      <td>0</td>\n",
              "      <td>0</td>\n",
              "      <td>0</td>\n",
              "      <td>0</td>\n",
              "      <td>0</td>\n",
              "      <td>0</td>\n",
              "      <td>0</td>\n",
              "      <td>1</td>\n",
              "      <td>0</td>\n",
              "      <td>2</td>\n",
              "      <td>0</td>\n",
              "      <td>0</td>\n",
              "      <td>0</td>\n",
              "      <td>0</td>\n",
              "      <td>0</td>\n",
              "      <td>0</td>\n",
              "      <td>1</td>\n",
              "      <td>0</td>\n",
              "      <td>0</td>\n",
              "      <td>0</td>\n",
              "      <td>0</td>\n",
              "      <td>0</td>\n",
              "      <td>0</td>\n",
              "      <td>1</td>\n",
              "      <td>0</td>\n",
              "      <td>0</td>\n",
              "      <td>0</td>\n",
              "      <td>0</td>\n",
              "      <td>0</td>\n",
              "      <td>0</td>\n",
              "      <td>1</td>\n",
              "      <td>0</td>\n",
              "      <td>0</td>\n",
              "      <td>0</td>\n",
              "      <td>0</td>\n",
              "      <td>0</td>\n",
              "      <td>1</td>\n",
              "      <td>0</td>\n",
              "      <td>0</td>\n",
              "      <td>1</td>\n",
              "      <td>1</td>\n",
              "      <td>0</td>\n",
              "      <td>1</td>\n",
              "      <td>1</td>\n",
              "      <td>0</td>\n",
              "      <td>1</td>\n",
              "      <td>0</td>\n",
              "      <td>0</td>\n",
              "      <td>0</td>\n",
              "      <td>0</td>\n",
              "      <td>1</td>\n",
              "      <td>0</td>\n",
              "      <td>0</td>\n",
              "      <td>0</td>\n",
              "      <td>0</td>\n",
              "      <td>0</td>\n",
              "      <td>0</td>\n",
              "      <td>0</td>\n",
              "    </tr>\n",
              "  </tbody>\n",
              "</table>\n",
              "</div>"
            ],
            "text/plain": [
              "   2015  83  adjust  and  appear  ...  value  weighting  which  word  words\n",
              "0     0   0       0    0       0  ...      0          0      0     1      0\n",
              "1     0   0       0    1       0  ...      0          1      0     0      0\n",
              "2     0   0       1    1       1  ...      1          0      1     2      1\n",
              "3     0   0       0    0       0  ...      0          1      0     0      0\n",
              "4     1   1       0    0       0  ...      0          0      0     0      0\n",
              "\n",
              "[5 rows x 75 columns]"
            ]
          },
          "metadata": {
            "tags": []
          },
          "execution_count": 71
        }
      ]
    },
    {
      "cell_type": "markdown",
      "metadata": {
        "id": "RY71hRV8imIb"
      },
      "source": [
        "세번째 문장과, dtm을 비교해 보겠습니다. \n",
        "\n"
      ]
    },
    {
      "cell_type": "code",
      "metadata": {
        "id": "tUV9cOUsiotl",
        "colab": {
          "base_uri": "https://localhost:8080/",
          "height": 35
        },
        "outputId": "2ce6709d-fffc-427d-d106-5819b977c1c0"
      },
      "source": [
        "text[2]"
      ],
      "execution_count": null,
      "outputs": [
        {
          "output_type": "execute_result",
          "data": {
            "application/vnd.google.colaboratory.intrinsic+json": {
              "type": "string"
            },
            "text/plain": [
              "'The tf–idf value increases proportionally to the number of times a word appears in the document and is offset by the number of documents in the corpus that contain the word, which helps to adjust for the fact that some words appear more frequently in general.'"
            ]
          },
          "metadata": {
            "tags": []
          },
          "execution_count": 72
        }
      ]
    },
    {
      "cell_type": "markdown",
      "metadata": {
        "id": "Ro3U1saTisgt"
      },
      "source": [
        "- **BBC Dataset에 CounterVectorizer 적용하기**"
      ]
    },
    {
      "cell_type": "code",
      "metadata": {
        "id": "1WOKb2iImfof",
        "colab": {
          "base_uri": "https://localhost:8080/"
        },
        "outputId": "289ebc5b-e351-4c23-bed2-abc0a43ecdcd"
      },
      "source": [
        "from sklearn.feature_extraction.text import CountVectorizer\n",
        "\n",
        "## stop_words = 'english' 영어에 해당하는 불용어 처리를 합니다.\n",
        "## max_features=n, 빈도 순서대로 top n 단어만 사용합니다.\n",
        "vect = CountVectorizer(stop_words='english'\n",
        "                       , max_features=10000)\n",
        "# fit & transform\n",
        "dtm = vect.fit_transform(data)\n",
        "\n",
        "dtm = pd.DataFrame(dtm.todense(), columns=vect.get_feature_names())\n",
        "dtm.shape"
      ],
      "execution_count": null,
      "outputs": [
        {
          "output_type": "execute_result",
          "data": {
            "text/plain": [
              "(401, 10000)"
            ]
          },
          "metadata": {
            "tags": []
          },
          "execution_count": 73
        }
      ]
    },
    {
      "cell_type": "code",
      "metadata": {
        "id": "KDIfxWppmh5y",
        "colab": {
          "base_uri": "https://localhost:8080/",
          "height": 253
        },
        "outputId": "aae96a75-bb00-42de-a30b-61073f9d2e3e"
      },
      "source": [
        "dtm.head()"
      ],
      "execution_count": null,
      "outputs": [
        {
          "output_type": "execute_result",
          "data": {
            "text/html": [
              "<div>\n",
              "<style scoped>\n",
              "    .dataframe tbody tr th:only-of-type {\n",
              "        vertical-align: middle;\n",
              "    }\n",
              "\n",
              "    .dataframe tbody tr th {\n",
              "        vertical-align: top;\n",
              "    }\n",
              "\n",
              "    .dataframe thead th {\n",
              "        text-align: right;\n",
              "    }\n",
              "</style>\n",
              "<table border=\"1\" class=\"dataframe\">\n",
              "  <thead>\n",
              "    <tr style=\"text-align: right;\">\n",
              "      <th></th>\n",
              "      <th>00</th>\n",
              "      <th>000</th>\n",
              "      <th>000s</th>\n",
              "      <th>0051</th>\n",
              "      <th>007</th>\n",
              "      <th>01</th>\n",
              "      <th>028</th>\n",
              "      <th>04m</th>\n",
              "      <th>05</th>\n",
              "      <th>0530</th>\n",
              "      <th>056</th>\n",
              "      <th>0630</th>\n",
              "      <th>080</th>\n",
              "      <th>0800</th>\n",
              "      <th>0870</th>\n",
              "      <th>10</th>\n",
              "      <th>100</th>\n",
              "      <th>1000</th>\n",
              "      <th>100m</th>\n",
              "      <th>100s</th>\n",
              "      <th>101</th>\n",
              "      <th>102</th>\n",
              "      <th>104</th>\n",
              "      <th>106</th>\n",
              "      <th>106cm</th>\n",
              "      <th>1080</th>\n",
              "      <th>10cm</th>\n",
              "      <th>10m</th>\n",
              "      <th>10s</th>\n",
              "      <th>10th</th>\n",
              "      <th>10x7in</th>\n",
              "      <th>11</th>\n",
              "      <th>110</th>\n",
              "      <th>115</th>\n",
              "      <th>117</th>\n",
              "      <th>11b</th>\n",
              "      <th>11m</th>\n",
              "      <th>12</th>\n",
              "      <th>120</th>\n",
              "      <th>120bn</th>\n",
              "      <th>...</th>\n",
              "      <th>yeob</th>\n",
              "      <th>yepp</th>\n",
              "      <th>yes</th>\n",
              "      <th>yesterday</th>\n",
              "      <th>yeun</th>\n",
              "      <th>yh</th>\n",
              "      <th>yle</th>\n",
              "      <th>yoda</th>\n",
              "      <th>yoga</th>\n",
              "      <th>yonca</th>\n",
              "      <th>yoran</th>\n",
              "      <th>york</th>\n",
              "      <th>yorker</th>\n",
              "      <th>young</th>\n",
              "      <th>younger</th>\n",
              "      <th>youngsters</th>\n",
              "      <th>youth</th>\n",
              "      <th>yuppy</th>\n",
              "      <th>yusuf</th>\n",
              "      <th>zafi</th>\n",
              "      <th>zander</th>\n",
              "      <th>zar</th>\n",
              "      <th>zdnet</th>\n",
              "      <th>zealous</th>\n",
              "      <th>zed</th>\n",
              "      <th>zelda</th>\n",
              "      <th>zen</th>\n",
              "      <th>zenith</th>\n",
              "      <th>zens</th>\n",
              "      <th>zero</th>\n",
              "      <th>zhang</th>\n",
              "      <th>zip</th>\n",
              "      <th>zodiac</th>\n",
              "      <th>zombie</th>\n",
              "      <th>zombies</th>\n",
              "      <th>zone</th>\n",
              "      <th>zonealarm</th>\n",
              "      <th>zones</th>\n",
              "      <th>zoom</th>\n",
              "      <th>zooms</th>\n",
              "    </tr>\n",
              "  </thead>\n",
              "  <tbody>\n",
              "    <tr>\n",
              "      <th>0</th>\n",
              "      <td>0</td>\n",
              "      <td>3</td>\n",
              "      <td>0</td>\n",
              "      <td>0</td>\n",
              "      <td>0</td>\n",
              "      <td>0</td>\n",
              "      <td>0</td>\n",
              "      <td>0</td>\n",
              "      <td>0</td>\n",
              "      <td>0</td>\n",
              "      <td>0</td>\n",
              "      <td>0</td>\n",
              "      <td>0</td>\n",
              "      <td>0</td>\n",
              "      <td>0</td>\n",
              "      <td>0</td>\n",
              "      <td>0</td>\n",
              "      <td>0</td>\n",
              "      <td>0</td>\n",
              "      <td>0</td>\n",
              "      <td>0</td>\n",
              "      <td>0</td>\n",
              "      <td>0</td>\n",
              "      <td>0</td>\n",
              "      <td>0</td>\n",
              "      <td>0</td>\n",
              "      <td>0</td>\n",
              "      <td>0</td>\n",
              "      <td>0</td>\n",
              "      <td>0</td>\n",
              "      <td>0</td>\n",
              "      <td>0</td>\n",
              "      <td>0</td>\n",
              "      <td>0</td>\n",
              "      <td>0</td>\n",
              "      <td>0</td>\n",
              "      <td>0</td>\n",
              "      <td>0</td>\n",
              "      <td>0</td>\n",
              "      <td>0</td>\n",
              "      <td>...</td>\n",
              "      <td>0</td>\n",
              "      <td>0</td>\n",
              "      <td>0</td>\n",
              "      <td>0</td>\n",
              "      <td>0</td>\n",
              "      <td>0</td>\n",
              "      <td>0</td>\n",
              "      <td>0</td>\n",
              "      <td>0</td>\n",
              "      <td>0</td>\n",
              "      <td>0</td>\n",
              "      <td>0</td>\n",
              "      <td>0</td>\n",
              "      <td>0</td>\n",
              "      <td>0</td>\n",
              "      <td>0</td>\n",
              "      <td>0</td>\n",
              "      <td>0</td>\n",
              "      <td>0</td>\n",
              "      <td>0</td>\n",
              "      <td>0</td>\n",
              "      <td>0</td>\n",
              "      <td>0</td>\n",
              "      <td>0</td>\n",
              "      <td>0</td>\n",
              "      <td>0</td>\n",
              "      <td>0</td>\n",
              "      <td>0</td>\n",
              "      <td>0</td>\n",
              "      <td>0</td>\n",
              "      <td>0</td>\n",
              "      <td>0</td>\n",
              "      <td>0</td>\n",
              "      <td>0</td>\n",
              "      <td>0</td>\n",
              "      <td>0</td>\n",
              "      <td>0</td>\n",
              "      <td>0</td>\n",
              "      <td>0</td>\n",
              "      <td>0</td>\n",
              "    </tr>\n",
              "    <tr>\n",
              "      <th>1</th>\n",
              "      <td>0</td>\n",
              "      <td>0</td>\n",
              "      <td>0</td>\n",
              "      <td>0</td>\n",
              "      <td>0</td>\n",
              "      <td>0</td>\n",
              "      <td>0</td>\n",
              "      <td>0</td>\n",
              "      <td>0</td>\n",
              "      <td>0</td>\n",
              "      <td>0</td>\n",
              "      <td>0</td>\n",
              "      <td>0</td>\n",
              "      <td>0</td>\n",
              "      <td>0</td>\n",
              "      <td>0</td>\n",
              "      <td>0</td>\n",
              "      <td>0</td>\n",
              "      <td>0</td>\n",
              "      <td>0</td>\n",
              "      <td>0</td>\n",
              "      <td>0</td>\n",
              "      <td>0</td>\n",
              "      <td>0</td>\n",
              "      <td>0</td>\n",
              "      <td>0</td>\n",
              "      <td>0</td>\n",
              "      <td>0</td>\n",
              "      <td>0</td>\n",
              "      <td>0</td>\n",
              "      <td>0</td>\n",
              "      <td>0</td>\n",
              "      <td>0</td>\n",
              "      <td>0</td>\n",
              "      <td>0</td>\n",
              "      <td>0</td>\n",
              "      <td>0</td>\n",
              "      <td>0</td>\n",
              "      <td>0</td>\n",
              "      <td>0</td>\n",
              "      <td>...</td>\n",
              "      <td>0</td>\n",
              "      <td>0</td>\n",
              "      <td>0</td>\n",
              "      <td>0</td>\n",
              "      <td>0</td>\n",
              "      <td>0</td>\n",
              "      <td>0</td>\n",
              "      <td>0</td>\n",
              "      <td>0</td>\n",
              "      <td>0</td>\n",
              "      <td>0</td>\n",
              "      <td>0</td>\n",
              "      <td>0</td>\n",
              "      <td>0</td>\n",
              "      <td>0</td>\n",
              "      <td>0</td>\n",
              "      <td>0</td>\n",
              "      <td>0</td>\n",
              "      <td>0</td>\n",
              "      <td>0</td>\n",
              "      <td>0</td>\n",
              "      <td>0</td>\n",
              "      <td>0</td>\n",
              "      <td>0</td>\n",
              "      <td>0</td>\n",
              "      <td>0</td>\n",
              "      <td>0</td>\n",
              "      <td>0</td>\n",
              "      <td>0</td>\n",
              "      <td>1</td>\n",
              "      <td>0</td>\n",
              "      <td>0</td>\n",
              "      <td>0</td>\n",
              "      <td>0</td>\n",
              "      <td>0</td>\n",
              "      <td>0</td>\n",
              "      <td>0</td>\n",
              "      <td>0</td>\n",
              "      <td>0</td>\n",
              "      <td>0</td>\n",
              "    </tr>\n",
              "    <tr>\n",
              "      <th>2</th>\n",
              "      <td>0</td>\n",
              "      <td>0</td>\n",
              "      <td>0</td>\n",
              "      <td>0</td>\n",
              "      <td>0</td>\n",
              "      <td>0</td>\n",
              "      <td>0</td>\n",
              "      <td>0</td>\n",
              "      <td>0</td>\n",
              "      <td>0</td>\n",
              "      <td>0</td>\n",
              "      <td>0</td>\n",
              "      <td>0</td>\n",
              "      <td>0</td>\n",
              "      <td>0</td>\n",
              "      <td>0</td>\n",
              "      <td>0</td>\n",
              "      <td>0</td>\n",
              "      <td>0</td>\n",
              "      <td>0</td>\n",
              "      <td>0</td>\n",
              "      <td>0</td>\n",
              "      <td>0</td>\n",
              "      <td>0</td>\n",
              "      <td>0</td>\n",
              "      <td>0</td>\n",
              "      <td>0</td>\n",
              "      <td>0</td>\n",
              "      <td>0</td>\n",
              "      <td>0</td>\n",
              "      <td>0</td>\n",
              "      <td>0</td>\n",
              "      <td>0</td>\n",
              "      <td>0</td>\n",
              "      <td>0</td>\n",
              "      <td>0</td>\n",
              "      <td>0</td>\n",
              "      <td>0</td>\n",
              "      <td>0</td>\n",
              "      <td>0</td>\n",
              "      <td>...</td>\n",
              "      <td>0</td>\n",
              "      <td>0</td>\n",
              "      <td>0</td>\n",
              "      <td>0</td>\n",
              "      <td>0</td>\n",
              "      <td>0</td>\n",
              "      <td>0</td>\n",
              "      <td>0</td>\n",
              "      <td>0</td>\n",
              "      <td>0</td>\n",
              "      <td>0</td>\n",
              "      <td>0</td>\n",
              "      <td>0</td>\n",
              "      <td>0</td>\n",
              "      <td>0</td>\n",
              "      <td>0</td>\n",
              "      <td>0</td>\n",
              "      <td>0</td>\n",
              "      <td>0</td>\n",
              "      <td>0</td>\n",
              "      <td>0</td>\n",
              "      <td>0</td>\n",
              "      <td>0</td>\n",
              "      <td>0</td>\n",
              "      <td>0</td>\n",
              "      <td>0</td>\n",
              "      <td>0</td>\n",
              "      <td>0</td>\n",
              "      <td>0</td>\n",
              "      <td>0</td>\n",
              "      <td>0</td>\n",
              "      <td>0</td>\n",
              "      <td>0</td>\n",
              "      <td>0</td>\n",
              "      <td>0</td>\n",
              "      <td>1</td>\n",
              "      <td>0</td>\n",
              "      <td>0</td>\n",
              "      <td>0</td>\n",
              "      <td>0</td>\n",
              "    </tr>\n",
              "    <tr>\n",
              "      <th>3</th>\n",
              "      <td>0</td>\n",
              "      <td>1</td>\n",
              "      <td>0</td>\n",
              "      <td>0</td>\n",
              "      <td>0</td>\n",
              "      <td>0</td>\n",
              "      <td>0</td>\n",
              "      <td>0</td>\n",
              "      <td>0</td>\n",
              "      <td>0</td>\n",
              "      <td>0</td>\n",
              "      <td>0</td>\n",
              "      <td>0</td>\n",
              "      <td>0</td>\n",
              "      <td>0</td>\n",
              "      <td>0</td>\n",
              "      <td>0</td>\n",
              "      <td>0</td>\n",
              "      <td>0</td>\n",
              "      <td>0</td>\n",
              "      <td>0</td>\n",
              "      <td>0</td>\n",
              "      <td>0</td>\n",
              "      <td>0</td>\n",
              "      <td>0</td>\n",
              "      <td>0</td>\n",
              "      <td>0</td>\n",
              "      <td>0</td>\n",
              "      <td>0</td>\n",
              "      <td>0</td>\n",
              "      <td>0</td>\n",
              "      <td>0</td>\n",
              "      <td>0</td>\n",
              "      <td>0</td>\n",
              "      <td>0</td>\n",
              "      <td>0</td>\n",
              "      <td>0</td>\n",
              "      <td>0</td>\n",
              "      <td>0</td>\n",
              "      <td>0</td>\n",
              "      <td>...</td>\n",
              "      <td>0</td>\n",
              "      <td>0</td>\n",
              "      <td>0</td>\n",
              "      <td>0</td>\n",
              "      <td>0</td>\n",
              "      <td>0</td>\n",
              "      <td>0</td>\n",
              "      <td>0</td>\n",
              "      <td>0</td>\n",
              "      <td>0</td>\n",
              "      <td>0</td>\n",
              "      <td>0</td>\n",
              "      <td>0</td>\n",
              "      <td>0</td>\n",
              "      <td>0</td>\n",
              "      <td>0</td>\n",
              "      <td>0</td>\n",
              "      <td>0</td>\n",
              "      <td>0</td>\n",
              "      <td>0</td>\n",
              "      <td>0</td>\n",
              "      <td>0</td>\n",
              "      <td>0</td>\n",
              "      <td>0</td>\n",
              "      <td>0</td>\n",
              "      <td>0</td>\n",
              "      <td>0</td>\n",
              "      <td>0</td>\n",
              "      <td>0</td>\n",
              "      <td>0</td>\n",
              "      <td>0</td>\n",
              "      <td>0</td>\n",
              "      <td>0</td>\n",
              "      <td>0</td>\n",
              "      <td>0</td>\n",
              "      <td>0</td>\n",
              "      <td>0</td>\n",
              "      <td>0</td>\n",
              "      <td>1</td>\n",
              "      <td>0</td>\n",
              "    </tr>\n",
              "    <tr>\n",
              "      <th>4</th>\n",
              "      <td>0</td>\n",
              "      <td>0</td>\n",
              "      <td>0</td>\n",
              "      <td>0</td>\n",
              "      <td>0</td>\n",
              "      <td>0</td>\n",
              "      <td>0</td>\n",
              "      <td>0</td>\n",
              "      <td>0</td>\n",
              "      <td>0</td>\n",
              "      <td>0</td>\n",
              "      <td>0</td>\n",
              "      <td>0</td>\n",
              "      <td>0</td>\n",
              "      <td>0</td>\n",
              "      <td>0</td>\n",
              "      <td>0</td>\n",
              "      <td>0</td>\n",
              "      <td>0</td>\n",
              "      <td>0</td>\n",
              "      <td>0</td>\n",
              "      <td>0</td>\n",
              "      <td>0</td>\n",
              "      <td>0</td>\n",
              "      <td>0</td>\n",
              "      <td>0</td>\n",
              "      <td>0</td>\n",
              "      <td>0</td>\n",
              "      <td>0</td>\n",
              "      <td>0</td>\n",
              "      <td>0</td>\n",
              "      <td>0</td>\n",
              "      <td>0</td>\n",
              "      <td>0</td>\n",
              "      <td>0</td>\n",
              "      <td>0</td>\n",
              "      <td>0</td>\n",
              "      <td>0</td>\n",
              "      <td>0</td>\n",
              "      <td>0</td>\n",
              "      <td>...</td>\n",
              "      <td>0</td>\n",
              "      <td>0</td>\n",
              "      <td>0</td>\n",
              "      <td>0</td>\n",
              "      <td>0</td>\n",
              "      <td>0</td>\n",
              "      <td>0</td>\n",
              "      <td>0</td>\n",
              "      <td>0</td>\n",
              "      <td>0</td>\n",
              "      <td>0</td>\n",
              "      <td>0</td>\n",
              "      <td>0</td>\n",
              "      <td>0</td>\n",
              "      <td>1</td>\n",
              "      <td>0</td>\n",
              "      <td>0</td>\n",
              "      <td>0</td>\n",
              "      <td>0</td>\n",
              "      <td>0</td>\n",
              "      <td>0</td>\n",
              "      <td>0</td>\n",
              "      <td>0</td>\n",
              "      <td>0</td>\n",
              "      <td>0</td>\n",
              "      <td>0</td>\n",
              "      <td>0</td>\n",
              "      <td>0</td>\n",
              "      <td>0</td>\n",
              "      <td>0</td>\n",
              "      <td>0</td>\n",
              "      <td>0</td>\n",
              "      <td>0</td>\n",
              "      <td>0</td>\n",
              "      <td>0</td>\n",
              "      <td>0</td>\n",
              "      <td>0</td>\n",
              "      <td>0</td>\n",
              "      <td>0</td>\n",
              "      <td>0</td>\n",
              "    </tr>\n",
              "  </tbody>\n",
              "</table>\n",
              "<p>5 rows × 10000 columns</p>\n",
              "</div>"
            ],
            "text/plain": [
              "   00  000  000s  0051  007  01  ...  zombies  zone  zonealarm  zones  zoom  zooms\n",
              "0   0    3     0     0    0   0  ...        0     0          0      0     0      0\n",
              "1   0    0     0     0    0   0  ...        0     0          0      0     0      0\n",
              "2   0    0     0     0    0   0  ...        0     1          0      0     0      0\n",
              "3   0    1     0     0    0   0  ...        0     0          0      0     1      0\n",
              "4   0    0     0     0    0   0  ...        0     0          0      0     0      0\n",
              "\n",
              "[5 rows x 10000 columns]"
            ]
          },
          "metadata": {
            "tags": []
          },
          "execution_count": 74
        }
      ]
    },
    {
      "cell_type": "markdown",
      "metadata": {
        "id": "DYnDpUZen1zG"
      },
      "source": [
        "### 4) TF-IDF (Term Frequency - Inverse Document Frequency)"
      ]
    },
    {
      "cell_type": "markdown",
      "metadata": {
        "id": "hSDSlq5Jn64F"
      },
      "source": [
        "각 문서마다 중요한 단어와 그렇지 못한 단어가 있습니다.<br/>\n",
        "아래와 같은 점심 식단표가 있을 때, \"오늘 점심 뭐야?\"라고 누군가가 묻는다면<br/>\n",
        "각 날짜의 대표 메뉴인 **\"깐풍기\", \"돈까스\"** 라고 말하지 맨날 나오는 **\"흰 밥\", \"우유\"** 라고는 대답하지 않을 것입니다."
      ]
    },
    {
      "cell_type": "markdown",
      "metadata": {
        "id": "MeSpVlhZo15X"
      },
      "source": [
        "<img src=\"https://i.imgur.com/LGrQmWK.png\" alt=\"nlp_diagram\" width=\"500\" />\n",
        "\n",
        "이렇게 다른 문서에 등장하지 않는 단어, 즉 특정 문서에만 등장하는 단어에 가중치를 두는 방법이 TF-IDF입니다."
      ]
    },
    {
      "cell_type": "markdown",
      "metadata": {
        "id": "3EwqoqhRo33h"
      },
      "source": [
        "- **TF-IDF의 수식**\n",
        "\n",
        "$$\n",
        "\\text{TF-IDF(w)} = \\text{TF(w)} \\times \\text{IDF(w)}\n",
        "$$\n",
        "\n",
        "각 항이 어떻게 구해지는지 알아보겠습니다. <br/>\n",
        "TF는 Bag-of-Words와 동일하게 특정 문서에서 단어 w가 쓰인 빈도입니다. \n",
        "\n",
        "$$\n",
        "\\text{TF(w)} = \\frac{\\text{특정 문서 내 단어 w의 수}}{\\text{특정 문서 내 전체 단어의 수}}\n",
        "$$\n",
        "\n",
        "$$\n",
        "\\text{IDF(w)} = \\log \\bigg( \\frac{\\text{분류 대상이 되는 모든 문서의 수}}{\\text{단어 w가 들어있는 문서의 수}} \\bigg)\n",
        "$$\n",
        "\n",
        "위 식에 따르면 자주 사용하는 단어라도, 많은 문서에 나오는 단어들은 낮은 TF-IDF 값을 가지게 됩니다.<br/>\n",
        "`Sklearn` 의 `TfidfVectorizer` 를 사용하면 TF-IDF 방식의 벡터화를 사용할 수 있습니다."
      ]
    },
    {
      "cell_type": "markdown",
      "metadata": {
        "id": "5d6xmtjumi3v"
      },
      "source": [
        "### 5) TfidfVectorizer 적용하기"
      ]
    },
    {
      "cell_type": "markdown",
      "metadata": {
        "id": "jH0c-ZbqoHwx"
      },
      "source": [
        "TfidfVectorizer를 사용하여 생성한 Document-Term Matrix(DTM)와 CountVectorizer를 사용하여 생성한 DTM과 비교해봅시다."
      ]
    },
    {
      "cell_type": "code",
      "metadata": {
        "id": "elnoVUpfoFT_",
        "colab": {
          "base_uri": "https://localhost:8080/",
          "height": 204
        },
        "outputId": "563408d3-35fa-49f9-9ad3-f494ba427a35"
      },
      "source": [
        "# TF-IDF vectorizer. 테이블을 작게 만들기 위해 max_features=15로 제한하였습니다.\n",
        "tfidf = TfidfVectorizer(stop_words='english', max_features=15)\n",
        "\n",
        "# Fit 후 dtm을 만듭니다.(문서, 단어마다 tf-idf 값을 계산합니다)\n",
        "dtm = tfidf.fit_transform(text)\n",
        "\n",
        "dtm = pd.DataFrame(dtm.todense(), columns=tfidf.get_feature_names())\n",
        "dtm"
      ],
      "execution_count": null,
      "outputs": [
        {
          "output_type": "execute_result",
          "data": {
            "text/html": [
              "<div>\n",
              "<style scoped>\n",
              "    .dataframe tbody tr th:only-of-type {\n",
              "        vertical-align: middle;\n",
              "    }\n",
              "\n",
              "    .dataframe tbody tr th {\n",
              "        vertical-align: top;\n",
              "    }\n",
              "\n",
              "    .dataframe thead th {\n",
              "        text-align: right;\n",
              "    }\n",
              "</style>\n",
              "<table border=\"1\" class=\"dataframe\">\n",
              "  <thead>\n",
              "    <tr style=\"text-align: right;\">\n",
              "      <th></th>\n",
              "      <th>corpus</th>\n",
              "      <th>document</th>\n",
              "      <th>frequency</th>\n",
              "      <th>idf</th>\n",
              "      <th>information</th>\n",
              "      <th>number</th>\n",
              "      <th>recommender</th>\n",
              "      <th>reflect</th>\n",
              "      <th>retrieval</th>\n",
              "      <th>searches</th>\n",
              "      <th>term</th>\n",
              "      <th>text</th>\n",
              "      <th>tf</th>\n",
              "      <th>weighting</th>\n",
              "      <th>word</th>\n",
              "    </tr>\n",
              "  </thead>\n",
              "  <tbody>\n",
              "    <tr>\n",
              "      <th>0</th>\n",
              "      <td>0.237982</td>\n",
              "      <td>0.475965</td>\n",
              "      <td>0.589946</td>\n",
              "      <td>0.166183</td>\n",
              "      <td>0.237982</td>\n",
              "      <td>0.000000</td>\n",
              "      <td>0.000000</td>\n",
              "      <td>0.294973</td>\n",
              "      <td>0.237982</td>\n",
              "      <td>0.000000</td>\n",
              "      <td>0.237982</td>\n",
              "      <td>0.000000</td>\n",
              "      <td>0.166183</td>\n",
              "      <td>0.000000</td>\n",
              "      <td>0.237982</td>\n",
              "    </tr>\n",
              "    <tr>\n",
              "      <th>1</th>\n",
              "      <td>0.000000</td>\n",
              "      <td>0.000000</td>\n",
              "      <td>0.000000</td>\n",
              "      <td>0.000000</td>\n",
              "      <td>0.425001</td>\n",
              "      <td>0.000000</td>\n",
              "      <td>0.000000</td>\n",
              "      <td>0.000000</td>\n",
              "      <td>0.425001</td>\n",
              "      <td>0.526778</td>\n",
              "      <td>0.000000</td>\n",
              "      <td>0.425001</td>\n",
              "      <td>0.000000</td>\n",
              "      <td>0.425001</td>\n",
              "      <td>0.000000</td>\n",
              "    </tr>\n",
              "    <tr>\n",
              "      <th>2</th>\n",
              "      <td>0.276074</td>\n",
              "      <td>0.276074</td>\n",
              "      <td>0.000000</td>\n",
              "      <td>0.192782</td>\n",
              "      <td>0.000000</td>\n",
              "      <td>0.684374</td>\n",
              "      <td>0.000000</td>\n",
              "      <td>0.000000</td>\n",
              "      <td>0.000000</td>\n",
              "      <td>0.000000</td>\n",
              "      <td>0.000000</td>\n",
              "      <td>0.000000</td>\n",
              "      <td>0.192782</td>\n",
              "      <td>0.000000</td>\n",
              "      <td>0.552149</td>\n",
              "    </tr>\n",
              "    <tr>\n",
              "      <th>3</th>\n",
              "      <td>0.000000</td>\n",
              "      <td>0.000000</td>\n",
              "      <td>0.000000</td>\n",
              "      <td>0.404837</td>\n",
              "      <td>0.000000</td>\n",
              "      <td>0.000000</td>\n",
              "      <td>0.000000</td>\n",
              "      <td>0.000000</td>\n",
              "      <td>0.000000</td>\n",
              "      <td>0.000000</td>\n",
              "      <td>0.579748</td>\n",
              "      <td>0.000000</td>\n",
              "      <td>0.404837</td>\n",
              "      <td>0.579748</td>\n",
              "      <td>0.000000</td>\n",
              "    </tr>\n",
              "    <tr>\n",
              "      <th>4</th>\n",
              "      <td>0.000000</td>\n",
              "      <td>0.000000</td>\n",
              "      <td>0.000000</td>\n",
              "      <td>0.372642</td>\n",
              "      <td>0.000000</td>\n",
              "      <td>0.000000</td>\n",
              "      <td>0.661438</td>\n",
              "      <td>0.000000</td>\n",
              "      <td>0.000000</td>\n",
              "      <td>0.000000</td>\n",
              "      <td>0.000000</td>\n",
              "      <td>0.533644</td>\n",
              "      <td>0.372642</td>\n",
              "      <td>0.000000</td>\n",
              "      <td>0.000000</td>\n",
              "    </tr>\n",
              "  </tbody>\n",
              "</table>\n",
              "</div>"
            ],
            "text/plain": [
              "     corpus  document  frequency  ...        tf  weighting      word\n",
              "0  0.237982  0.475965   0.589946  ...  0.166183   0.000000  0.237982\n",
              "1  0.000000  0.000000   0.000000  ...  0.000000   0.425001  0.000000\n",
              "2  0.276074  0.276074   0.000000  ...  0.192782   0.000000  0.552149\n",
              "3  0.000000  0.000000   0.000000  ...  0.404837   0.579748  0.000000\n",
              "4  0.000000  0.000000   0.000000  ...  0.372642   0.000000  0.000000\n",
              "\n",
              "[5 rows x 15 columns]"
            ]
          },
          "metadata": {
            "tags": []
          },
          "execution_count": 76
        }
      ]
    },
    {
      "cell_type": "code",
      "metadata": {
        "id": "BUiTj5qrobDZ",
        "colab": {
          "base_uri": "https://localhost:8080/",
          "height": 204
        },
        "outputId": "56428afc-910d-4155-d88d-96bf00bcf37a"
      },
      "source": [
        "vect = CountVectorizer(stop_words='english', max_features=15)\n",
        "dtm = vect.fit_transform(text)\n",
        "dtm = pd.DataFrame(dtm.todense(), columns=vect.get_feature_names())\n",
        "dtm"
      ],
      "execution_count": null,
      "outputs": [
        {
          "output_type": "execute_result",
          "data": {
            "text/html": [
              "<div>\n",
              "<style scoped>\n",
              "    .dataframe tbody tr th:only-of-type {\n",
              "        vertical-align: middle;\n",
              "    }\n",
              "\n",
              "    .dataframe tbody tr th {\n",
              "        vertical-align: top;\n",
              "    }\n",
              "\n",
              "    .dataframe thead th {\n",
              "        text-align: right;\n",
              "    }\n",
              "</style>\n",
              "<table border=\"1\" class=\"dataframe\">\n",
              "  <thead>\n",
              "    <tr style=\"text-align: right;\">\n",
              "      <th></th>\n",
              "      <th>corpus</th>\n",
              "      <th>document</th>\n",
              "      <th>frequency</th>\n",
              "      <th>idf</th>\n",
              "      <th>information</th>\n",
              "      <th>number</th>\n",
              "      <th>recommender</th>\n",
              "      <th>reflect</th>\n",
              "      <th>retrieval</th>\n",
              "      <th>searches</th>\n",
              "      <th>term</th>\n",
              "      <th>text</th>\n",
              "      <th>tf</th>\n",
              "      <th>weighting</th>\n",
              "      <th>word</th>\n",
              "    </tr>\n",
              "  </thead>\n",
              "  <tbody>\n",
              "    <tr>\n",
              "      <th>0</th>\n",
              "      <td>1</td>\n",
              "      <td>2</td>\n",
              "      <td>2</td>\n",
              "      <td>1</td>\n",
              "      <td>1</td>\n",
              "      <td>0</td>\n",
              "      <td>0</td>\n",
              "      <td>1</td>\n",
              "      <td>1</td>\n",
              "      <td>0</td>\n",
              "      <td>1</td>\n",
              "      <td>0</td>\n",
              "      <td>1</td>\n",
              "      <td>0</td>\n",
              "      <td>1</td>\n",
              "    </tr>\n",
              "    <tr>\n",
              "      <th>1</th>\n",
              "      <td>0</td>\n",
              "      <td>0</td>\n",
              "      <td>0</td>\n",
              "      <td>0</td>\n",
              "      <td>1</td>\n",
              "      <td>0</td>\n",
              "      <td>0</td>\n",
              "      <td>0</td>\n",
              "      <td>1</td>\n",
              "      <td>1</td>\n",
              "      <td>0</td>\n",
              "      <td>1</td>\n",
              "      <td>0</td>\n",
              "      <td>1</td>\n",
              "      <td>0</td>\n",
              "    </tr>\n",
              "    <tr>\n",
              "      <th>2</th>\n",
              "      <td>1</td>\n",
              "      <td>1</td>\n",
              "      <td>0</td>\n",
              "      <td>1</td>\n",
              "      <td>0</td>\n",
              "      <td>2</td>\n",
              "      <td>0</td>\n",
              "      <td>0</td>\n",
              "      <td>0</td>\n",
              "      <td>0</td>\n",
              "      <td>0</td>\n",
              "      <td>0</td>\n",
              "      <td>1</td>\n",
              "      <td>0</td>\n",
              "      <td>2</td>\n",
              "    </tr>\n",
              "    <tr>\n",
              "      <th>3</th>\n",
              "      <td>0</td>\n",
              "      <td>0</td>\n",
              "      <td>0</td>\n",
              "      <td>1</td>\n",
              "      <td>0</td>\n",
              "      <td>0</td>\n",
              "      <td>0</td>\n",
              "      <td>0</td>\n",
              "      <td>0</td>\n",
              "      <td>0</td>\n",
              "      <td>1</td>\n",
              "      <td>0</td>\n",
              "      <td>1</td>\n",
              "      <td>1</td>\n",
              "      <td>0</td>\n",
              "    </tr>\n",
              "    <tr>\n",
              "      <th>4</th>\n",
              "      <td>0</td>\n",
              "      <td>0</td>\n",
              "      <td>0</td>\n",
              "      <td>1</td>\n",
              "      <td>0</td>\n",
              "      <td>0</td>\n",
              "      <td>1</td>\n",
              "      <td>0</td>\n",
              "      <td>0</td>\n",
              "      <td>0</td>\n",
              "      <td>0</td>\n",
              "      <td>1</td>\n",
              "      <td>1</td>\n",
              "      <td>0</td>\n",
              "      <td>0</td>\n",
              "    </tr>\n",
              "  </tbody>\n",
              "</table>\n",
              "</div>"
            ],
            "text/plain": [
              "   corpus  document  frequency  idf  ...  text  tf  weighting  word\n",
              "0       1         2          2    1  ...     0   1          0     1\n",
              "1       0         0          0    0  ...     1   0          1     0\n",
              "2       1         1          0    1  ...     0   1          0     2\n",
              "3       0         0          0    1  ...     0   1          1     0\n",
              "4       0         0          0    1  ...     1   1          0     0\n",
              "\n",
              "[5 rows x 15 columns]"
            ]
          },
          "metadata": {
            "tags": []
          },
          "execution_count": 77
        }
      ]
    },
    {
      "cell_type": "markdown",
      "metadata": {
        "id": "yG3ry039ojeE"
      },
      "source": [
        "- **BBC Dataset에 TfidfVectorizer 적용하기**"
      ]
    },
    {
      "cell_type": "code",
      "metadata": {
        "id": "oDHfxDGRojRQ",
        "colab": {
          "base_uri": "https://localhost:8080/",
          "height": 253
        },
        "outputId": "b01ecc47-ab73-4e71-9e67-3c9bd005e640"
      },
      "source": [
        "from sklearn.feature_extraction.text import TfidfVectorizer\n",
        "\n",
        "tfidf = TfidfVectorizer(stop_words='english', max_features=5000)\n",
        "dtm = tfidf.fit_transform(data)\n",
        "dtm = pd.DataFrame(dtm.todense(), columns=tfidf.get_feature_names())\n",
        "\n",
        "dtm.head()"
      ],
      "execution_count": null,
      "outputs": [
        {
          "output_type": "execute_result",
          "data": {
            "text/html": [
              "<div>\n",
              "<style scoped>\n",
              "    .dataframe tbody tr th:only-of-type {\n",
              "        vertical-align: middle;\n",
              "    }\n",
              "\n",
              "    .dataframe tbody tr th {\n",
              "        vertical-align: top;\n",
              "    }\n",
              "\n",
              "    .dataframe thead th {\n",
              "        text-align: right;\n",
              "    }\n",
              "</style>\n",
              "<table border=\"1\" class=\"dataframe\">\n",
              "  <thead>\n",
              "    <tr style=\"text-align: right;\">\n",
              "      <th></th>\n",
              "      <th>000</th>\n",
              "      <th>10</th>\n",
              "      <th>100</th>\n",
              "      <th>101</th>\n",
              "      <th>104</th>\n",
              "      <th>10m</th>\n",
              "      <th>11</th>\n",
              "      <th>12</th>\n",
              "      <th>120</th>\n",
              "      <th>13</th>\n",
              "      <th>130</th>\n",
              "      <th>14</th>\n",
              "      <th>149</th>\n",
              "      <th>15</th>\n",
              "      <th>150</th>\n",
              "      <th>16</th>\n",
              "      <th>167</th>\n",
              "      <th>17</th>\n",
              "      <th>17m</th>\n",
              "      <th>18</th>\n",
              "      <th>19</th>\n",
              "      <th>1980s</th>\n",
              "      <th>1982</th>\n",
              "      <th>1983</th>\n",
              "      <th>1985</th>\n",
              "      <th>1990s</th>\n",
              "      <th>1993</th>\n",
              "      <th>1994</th>\n",
              "      <th>1995</th>\n",
              "      <th>1bn</th>\n",
              "      <th>1m</th>\n",
              "      <th>20</th>\n",
              "      <th>200</th>\n",
              "      <th>2000</th>\n",
              "      <th>2001</th>\n",
              "      <th>2002</th>\n",
              "      <th>2003</th>\n",
              "      <th>2004</th>\n",
              "      <th>2005</th>\n",
              "      <th>2006</th>\n",
              "      <th>...</th>\n",
              "      <th>worry</th>\n",
              "      <th>worrying</th>\n",
              "      <th>worse</th>\n",
              "      <th>worst</th>\n",
              "      <th>worth</th>\n",
              "      <th>worthwhile</th>\n",
              "      <th>wouldn</th>\n",
              "      <th>wow</th>\n",
              "      <th>wright</th>\n",
              "      <th>wristwatch</th>\n",
              "      <th>write</th>\n",
              "      <th>writer</th>\n",
              "      <th>writers</th>\n",
              "      <th>writing</th>\n",
              "      <th>written</th>\n",
              "      <th>wrong</th>\n",
              "      <th>wrongful</th>\n",
              "      <th>wrote</th>\n",
              "      <th>wsis</th>\n",
              "      <th>x1</th>\n",
              "      <th>xbox</th>\n",
              "      <th>xenon</th>\n",
              "      <th>xp</th>\n",
              "      <th>xxx</th>\n",
              "      <th>yahoo</th>\n",
              "      <th>yang</th>\n",
              "      <th>year</th>\n",
              "      <th>years</th>\n",
              "      <th>yen</th>\n",
              "      <th>yes</th>\n",
              "      <th>yoda</th>\n",
              "      <th>yoran</th>\n",
              "      <th>york</th>\n",
              "      <th>young</th>\n",
              "      <th>younger</th>\n",
              "      <th>youngsters</th>\n",
              "      <th>youth</th>\n",
              "      <th>zafi</th>\n",
              "      <th>zen</th>\n",
              "      <th>zombies</th>\n",
              "    </tr>\n",
              "  </thead>\n",
              "  <tbody>\n",
              "    <tr>\n",
              "      <th>0</th>\n",
              "      <td>0.061896</td>\n",
              "      <td>0.0</td>\n",
              "      <td>0.0</td>\n",
              "      <td>0.0</td>\n",
              "      <td>0.0</td>\n",
              "      <td>0.0</td>\n",
              "      <td>0.0</td>\n",
              "      <td>0.0</td>\n",
              "      <td>0.0</td>\n",
              "      <td>0.0</td>\n",
              "      <td>0.000000</td>\n",
              "      <td>0.0</td>\n",
              "      <td>0.000000</td>\n",
              "      <td>0.000000</td>\n",
              "      <td>0.000000</td>\n",
              "      <td>0.000000</td>\n",
              "      <td>0.0</td>\n",
              "      <td>0.0</td>\n",
              "      <td>0.0</td>\n",
              "      <td>0.0</td>\n",
              "      <td>0.000000</td>\n",
              "      <td>0.0</td>\n",
              "      <td>0.0</td>\n",
              "      <td>0.0</td>\n",
              "      <td>0.0</td>\n",
              "      <td>0.0</td>\n",
              "      <td>0.0</td>\n",
              "      <td>0.0</td>\n",
              "      <td>0.0</td>\n",
              "      <td>0.0</td>\n",
              "      <td>0.0</td>\n",
              "      <td>0.029073</td>\n",
              "      <td>0.000000</td>\n",
              "      <td>0.0</td>\n",
              "      <td>0.0</td>\n",
              "      <td>0.0</td>\n",
              "      <td>0.000000</td>\n",
              "      <td>0.074517</td>\n",
              "      <td>0.0</td>\n",
              "      <td>0.0</td>\n",
              "      <td>...</td>\n",
              "      <td>0.0</td>\n",
              "      <td>0.0</td>\n",
              "      <td>0.0</td>\n",
              "      <td>0.0</td>\n",
              "      <td>0.0</td>\n",
              "      <td>0.0</td>\n",
              "      <td>0.0</td>\n",
              "      <td>0.0</td>\n",
              "      <td>0.0</td>\n",
              "      <td>0.0</td>\n",
              "      <td>0.0</td>\n",
              "      <td>0.0</td>\n",
              "      <td>0.0</td>\n",
              "      <td>0.0</td>\n",
              "      <td>0.0</td>\n",
              "      <td>0.0</td>\n",
              "      <td>0.0</td>\n",
              "      <td>0.0</td>\n",
              "      <td>0.0</td>\n",
              "      <td>0.0</td>\n",
              "      <td>0.033469</td>\n",
              "      <td>0.0</td>\n",
              "      <td>0.0</td>\n",
              "      <td>0.0</td>\n",
              "      <td>0.0</td>\n",
              "      <td>0.0</td>\n",
              "      <td>0.033827</td>\n",
              "      <td>0.044139</td>\n",
              "      <td>0.0</td>\n",
              "      <td>0.0</td>\n",
              "      <td>0.0</td>\n",
              "      <td>0.0</td>\n",
              "      <td>0.0</td>\n",
              "      <td>0.0</td>\n",
              "      <td>0.000000</td>\n",
              "      <td>0.0</td>\n",
              "      <td>0.0</td>\n",
              "      <td>0.0</td>\n",
              "      <td>0.0</td>\n",
              "      <td>0.0</td>\n",
              "    </tr>\n",
              "    <tr>\n",
              "      <th>1</th>\n",
              "      <td>0.000000</td>\n",
              "      <td>0.0</td>\n",
              "      <td>0.0</td>\n",
              "      <td>0.0</td>\n",
              "      <td>0.0</td>\n",
              "      <td>0.0</td>\n",
              "      <td>0.0</td>\n",
              "      <td>0.0</td>\n",
              "      <td>0.0</td>\n",
              "      <td>0.0</td>\n",
              "      <td>0.000000</td>\n",
              "      <td>0.0</td>\n",
              "      <td>0.000000</td>\n",
              "      <td>0.000000</td>\n",
              "      <td>0.000000</td>\n",
              "      <td>0.000000</td>\n",
              "      <td>0.0</td>\n",
              "      <td>0.0</td>\n",
              "      <td>0.0</td>\n",
              "      <td>0.0</td>\n",
              "      <td>0.000000</td>\n",
              "      <td>0.0</td>\n",
              "      <td>0.0</td>\n",
              "      <td>0.0</td>\n",
              "      <td>0.0</td>\n",
              "      <td>0.0</td>\n",
              "      <td>0.0</td>\n",
              "      <td>0.0</td>\n",
              "      <td>0.0</td>\n",
              "      <td>0.0</td>\n",
              "      <td>0.0</td>\n",
              "      <td>0.000000</td>\n",
              "      <td>0.000000</td>\n",
              "      <td>0.0</td>\n",
              "      <td>0.0</td>\n",
              "      <td>0.0</td>\n",
              "      <td>0.000000</td>\n",
              "      <td>0.000000</td>\n",
              "      <td>0.0</td>\n",
              "      <td>0.0</td>\n",
              "      <td>...</td>\n",
              "      <td>0.0</td>\n",
              "      <td>0.0</td>\n",
              "      <td>0.0</td>\n",
              "      <td>0.0</td>\n",
              "      <td>0.0</td>\n",
              "      <td>0.0</td>\n",
              "      <td>0.0</td>\n",
              "      <td>0.0</td>\n",
              "      <td>0.0</td>\n",
              "      <td>0.0</td>\n",
              "      <td>0.0</td>\n",
              "      <td>0.0</td>\n",
              "      <td>0.0</td>\n",
              "      <td>0.0</td>\n",
              "      <td>0.0</td>\n",
              "      <td>0.0</td>\n",
              "      <td>0.0</td>\n",
              "      <td>0.0</td>\n",
              "      <td>0.0</td>\n",
              "      <td>0.0</td>\n",
              "      <td>0.000000</td>\n",
              "      <td>0.0</td>\n",
              "      <td>0.0</td>\n",
              "      <td>0.0</td>\n",
              "      <td>0.0</td>\n",
              "      <td>0.0</td>\n",
              "      <td>0.000000</td>\n",
              "      <td>0.000000</td>\n",
              "      <td>0.0</td>\n",
              "      <td>0.0</td>\n",
              "      <td>0.0</td>\n",
              "      <td>0.0</td>\n",
              "      <td>0.0</td>\n",
              "      <td>0.0</td>\n",
              "      <td>0.000000</td>\n",
              "      <td>0.0</td>\n",
              "      <td>0.0</td>\n",
              "      <td>0.0</td>\n",
              "      <td>0.0</td>\n",
              "      <td>0.0</td>\n",
              "    </tr>\n",
              "    <tr>\n",
              "      <th>2</th>\n",
              "      <td>0.000000</td>\n",
              "      <td>0.0</td>\n",
              "      <td>0.0</td>\n",
              "      <td>0.0</td>\n",
              "      <td>0.0</td>\n",
              "      <td>0.0</td>\n",
              "      <td>0.0</td>\n",
              "      <td>0.0</td>\n",
              "      <td>0.0</td>\n",
              "      <td>0.0</td>\n",
              "      <td>0.000000</td>\n",
              "      <td>0.0</td>\n",
              "      <td>0.000000</td>\n",
              "      <td>0.000000</td>\n",
              "      <td>0.000000</td>\n",
              "      <td>0.000000</td>\n",
              "      <td>0.0</td>\n",
              "      <td>0.0</td>\n",
              "      <td>0.0</td>\n",
              "      <td>0.0</td>\n",
              "      <td>0.000000</td>\n",
              "      <td>0.0</td>\n",
              "      <td>0.0</td>\n",
              "      <td>0.0</td>\n",
              "      <td>0.0</td>\n",
              "      <td>0.0</td>\n",
              "      <td>0.0</td>\n",
              "      <td>0.0</td>\n",
              "      <td>0.0</td>\n",
              "      <td>0.0</td>\n",
              "      <td>0.0</td>\n",
              "      <td>0.000000</td>\n",
              "      <td>0.000000</td>\n",
              "      <td>0.0</td>\n",
              "      <td>0.0</td>\n",
              "      <td>0.0</td>\n",
              "      <td>0.000000</td>\n",
              "      <td>0.000000</td>\n",
              "      <td>0.0</td>\n",
              "      <td>0.0</td>\n",
              "      <td>...</td>\n",
              "      <td>0.0</td>\n",
              "      <td>0.0</td>\n",
              "      <td>0.0</td>\n",
              "      <td>0.0</td>\n",
              "      <td>0.0</td>\n",
              "      <td>0.0</td>\n",
              "      <td>0.0</td>\n",
              "      <td>0.0</td>\n",
              "      <td>0.0</td>\n",
              "      <td>0.0</td>\n",
              "      <td>0.0</td>\n",
              "      <td>0.0</td>\n",
              "      <td>0.0</td>\n",
              "      <td>0.0</td>\n",
              "      <td>0.0</td>\n",
              "      <td>0.0</td>\n",
              "      <td>0.0</td>\n",
              "      <td>0.0</td>\n",
              "      <td>0.0</td>\n",
              "      <td>0.0</td>\n",
              "      <td>0.000000</td>\n",
              "      <td>0.0</td>\n",
              "      <td>0.0</td>\n",
              "      <td>0.0</td>\n",
              "      <td>0.0</td>\n",
              "      <td>0.0</td>\n",
              "      <td>0.000000</td>\n",
              "      <td>0.000000</td>\n",
              "      <td>0.0</td>\n",
              "      <td>0.0</td>\n",
              "      <td>0.0</td>\n",
              "      <td>0.0</td>\n",
              "      <td>0.0</td>\n",
              "      <td>0.0</td>\n",
              "      <td>0.000000</td>\n",
              "      <td>0.0</td>\n",
              "      <td>0.0</td>\n",
              "      <td>0.0</td>\n",
              "      <td>0.0</td>\n",
              "      <td>0.0</td>\n",
              "    </tr>\n",
              "    <tr>\n",
              "      <th>3</th>\n",
              "      <td>0.026878</td>\n",
              "      <td>0.0</td>\n",
              "      <td>0.0</td>\n",
              "      <td>0.0</td>\n",
              "      <td>0.0</td>\n",
              "      <td>0.0</td>\n",
              "      <td>0.0</td>\n",
              "      <td>0.0</td>\n",
              "      <td>0.0</td>\n",
              "      <td>0.0</td>\n",
              "      <td>0.000000</td>\n",
              "      <td>0.0</td>\n",
              "      <td>0.000000</td>\n",
              "      <td>0.000000</td>\n",
              "      <td>0.000000</td>\n",
              "      <td>0.000000</td>\n",
              "      <td>0.0</td>\n",
              "      <td>0.0</td>\n",
              "      <td>0.0</td>\n",
              "      <td>0.0</td>\n",
              "      <td>0.000000</td>\n",
              "      <td>0.0</td>\n",
              "      <td>0.0</td>\n",
              "      <td>0.0</td>\n",
              "      <td>0.0</td>\n",
              "      <td>0.0</td>\n",
              "      <td>0.0</td>\n",
              "      <td>0.0</td>\n",
              "      <td>0.0</td>\n",
              "      <td>0.0</td>\n",
              "      <td>0.0</td>\n",
              "      <td>0.000000</td>\n",
              "      <td>0.044347</td>\n",
              "      <td>0.0</td>\n",
              "      <td>0.0</td>\n",
              "      <td>0.0</td>\n",
              "      <td>0.038344</td>\n",
              "      <td>0.032359</td>\n",
              "      <td>0.0</td>\n",
              "      <td>0.0</td>\n",
              "      <td>...</td>\n",
              "      <td>0.0</td>\n",
              "      <td>0.0</td>\n",
              "      <td>0.0</td>\n",
              "      <td>0.0</td>\n",
              "      <td>0.0</td>\n",
              "      <td>0.0</td>\n",
              "      <td>0.0</td>\n",
              "      <td>0.0</td>\n",
              "      <td>0.0</td>\n",
              "      <td>0.0</td>\n",
              "      <td>0.0</td>\n",
              "      <td>0.0</td>\n",
              "      <td>0.0</td>\n",
              "      <td>0.0</td>\n",
              "      <td>0.0</td>\n",
              "      <td>0.0</td>\n",
              "      <td>0.0</td>\n",
              "      <td>0.0</td>\n",
              "      <td>0.0</td>\n",
              "      <td>0.0</td>\n",
              "      <td>0.000000</td>\n",
              "      <td>0.0</td>\n",
              "      <td>0.0</td>\n",
              "      <td>0.0</td>\n",
              "      <td>0.0</td>\n",
              "      <td>0.0</td>\n",
              "      <td>0.000000</td>\n",
              "      <td>0.000000</td>\n",
              "      <td>0.0</td>\n",
              "      <td>0.0</td>\n",
              "      <td>0.0</td>\n",
              "      <td>0.0</td>\n",
              "      <td>0.0</td>\n",
              "      <td>0.0</td>\n",
              "      <td>0.000000</td>\n",
              "      <td>0.0</td>\n",
              "      <td>0.0</td>\n",
              "      <td>0.0</td>\n",
              "      <td>0.0</td>\n",
              "      <td>0.0</td>\n",
              "    </tr>\n",
              "    <tr>\n",
              "      <th>4</th>\n",
              "      <td>0.000000</td>\n",
              "      <td>0.0</td>\n",
              "      <td>0.0</td>\n",
              "      <td>0.0</td>\n",
              "      <td>0.0</td>\n",
              "      <td>0.0</td>\n",
              "      <td>0.0</td>\n",
              "      <td>0.0</td>\n",
              "      <td>0.0</td>\n",
              "      <td>0.0</td>\n",
              "      <td>0.131107</td>\n",
              "      <td>0.0</td>\n",
              "      <td>0.062946</td>\n",
              "      <td>0.037272</td>\n",
              "      <td>0.050109</td>\n",
              "      <td>0.046177</td>\n",
              "      <td>0.0</td>\n",
              "      <td>0.0</td>\n",
              "      <td>0.0</td>\n",
              "      <td>0.0</td>\n",
              "      <td>0.056078</td>\n",
              "      <td>0.0</td>\n",
              "      <td>0.0</td>\n",
              "      <td>0.0</td>\n",
              "      <td>0.0</td>\n",
              "      <td>0.0</td>\n",
              "      <td>0.0</td>\n",
              "      <td>0.0</td>\n",
              "      <td>0.0</td>\n",
              "      <td>0.0</td>\n",
              "      <td>0.0</td>\n",
              "      <td>0.000000</td>\n",
              "      <td>0.040896</td>\n",
              "      <td>0.0</td>\n",
              "      <td>0.0</td>\n",
              "      <td>0.0</td>\n",
              "      <td>0.000000</td>\n",
              "      <td>0.029841</td>\n",
              "      <td>0.0</td>\n",
              "      <td>0.0</td>\n",
              "      <td>...</td>\n",
              "      <td>0.0</td>\n",
              "      <td>0.0</td>\n",
              "      <td>0.0</td>\n",
              "      <td>0.0</td>\n",
              "      <td>0.0</td>\n",
              "      <td>0.0</td>\n",
              "      <td>0.0</td>\n",
              "      <td>0.0</td>\n",
              "      <td>0.0</td>\n",
              "      <td>0.0</td>\n",
              "      <td>0.0</td>\n",
              "      <td>0.0</td>\n",
              "      <td>0.0</td>\n",
              "      <td>0.0</td>\n",
              "      <td>0.0</td>\n",
              "      <td>0.0</td>\n",
              "      <td>0.0</td>\n",
              "      <td>0.0</td>\n",
              "      <td>0.0</td>\n",
              "      <td>0.0</td>\n",
              "      <td>0.000000</td>\n",
              "      <td>0.0</td>\n",
              "      <td>0.0</td>\n",
              "      <td>0.0</td>\n",
              "      <td>0.0</td>\n",
              "      <td>0.0</td>\n",
              "      <td>0.000000</td>\n",
              "      <td>0.000000</td>\n",
              "      <td>0.0</td>\n",
              "      <td>0.0</td>\n",
              "      <td>0.0</td>\n",
              "      <td>0.0</td>\n",
              "      <td>0.0</td>\n",
              "      <td>0.0</td>\n",
              "      <td>0.050915</td>\n",
              "      <td>0.0</td>\n",
              "      <td>0.0</td>\n",
              "      <td>0.0</td>\n",
              "      <td>0.0</td>\n",
              "      <td>0.0</td>\n",
              "    </tr>\n",
              "  </tbody>\n",
              "</table>\n",
              "<p>5 rows × 5000 columns</p>\n",
              "</div>"
            ],
            "text/plain": [
              "        000   10  100  101  104  ...  youngsters  youth  zafi  zen  zombies\n",
              "0  0.061896  0.0  0.0  0.0  0.0  ...         0.0    0.0   0.0  0.0      0.0\n",
              "1  0.000000  0.0  0.0  0.0  0.0  ...         0.0    0.0   0.0  0.0      0.0\n",
              "2  0.000000  0.0  0.0  0.0  0.0  ...         0.0    0.0   0.0  0.0      0.0\n",
              "3  0.026878  0.0  0.0  0.0  0.0  ...         0.0    0.0   0.0  0.0      0.0\n",
              "4  0.000000  0.0  0.0  0.0  0.0  ...         0.0    0.0   0.0  0.0      0.0\n",
              "\n",
              "[5 rows x 5000 columns]"
            ]
          },
          "metadata": {
            "tags": []
          },
          "execution_count": 78
        }
      ]
    },
    {
      "cell_type": "markdown",
      "metadata": {
        "id": "TTHseONVopqz"
      },
      "source": [
        "- **파라미터 튜닝**\n",
        "\n",
        "> 이번에는 조금 더 파라미터를 튜닝하고, spacy tokenizer 를 사용해서 벡터화를 진행해 보겠습니다."
      ]
    },
    {
      "cell_type": "code",
      "metadata": {
        "id": "2g3MN8_boyJB"
      },
      "source": [
        "# spacy tokenizer 함수\n",
        "def tokenize(document):\n",
        "    \n",
        "    doc = nlp(document)\n",
        "    # punctuations: !\"#$%&'()*+,-./:;<=>?@[\\]^_`{|}~\n",
        "    return [token.lemma_.strip() for token in doc if (token.is_stop != True) and (token.is_punct != True) and (token.is_alpha == True)]"
      ],
      "execution_count": null,
      "outputs": []
    },
    {
      "cell_type": "code",
      "metadata": {
        "id": "8LX1CnQno58i",
        "colab": {
          "base_uri": "https://localhost:8080/",
          "height": 270
        },
        "outputId": "dea887d1-7916-4739-a804-7ddebbbc42e6"
      },
      "source": [
        "# ngram_range = (min_n, max_n), min_n 개~ max_n 개를 갖는 n-gram(n개의 연속적인 토큰)을 토큰으로 사용합니다.\n",
        "# min_df = n, 최소 n개의 문서에 나타나는 토큰만 사용합니다\n",
        "# max_df = .7, 70% 이상 문서에 나타나는 토큰은 제거합니다\n",
        "tfidf = TfidfVectorizer(stop_words='english'\n",
        "                        ,tokenizer=tokenize\n",
        "                        ,ngram_range=(1,2)\n",
        "                        ,max_df=.7\n",
        "                        ,min_df=3\n",
        "#                         ,max_features = 4000\n",
        "                       )\n",
        "\n",
        "dtm = tfidf.fit_transform(data)\n",
        "dtm = pd.DataFrame(dtm.todense(), columns=tfidf.get_feature_names())\n",
        "dtm.head()"
      ],
      "execution_count": null,
      "outputs": [
        {
          "output_type": "execute_result",
          "data": {
            "text/html": [
              "<div>\n",
              "<style scoped>\n",
              "    .dataframe tbody tr th:only-of-type {\n",
              "        vertical-align: middle;\n",
              "    }\n",
              "\n",
              "    .dataframe tbody tr th {\n",
              "        vertical-align: top;\n",
              "    }\n",
              "\n",
              "    .dataframe thead th {\n",
              "        text-align: right;\n",
              "    }\n",
              "</style>\n",
              "<table border=\"1\" class=\"dataframe\">\n",
              "  <thead>\n",
              "    <tr style=\"text-align: right;\">\n",
              "      <th></th>\n",
              "      <th>-PRON-</th>\n",
              "      <th>abandon</th>\n",
              "      <th>ability</th>\n",
              "      <th>ability record</th>\n",
              "      <th>able</th>\n",
              "      <th>able access</th>\n",
              "      <th>able choose</th>\n",
              "      <th>able control</th>\n",
              "      <th>able handle</th>\n",
              "      <th>able offer</th>\n",
              "      <th>able play</th>\n",
              "      <th>able store</th>\n",
              "      <th>able thing</th>\n",
              "      <th>able use</th>\n",
              "      <th>able watch</th>\n",
              "      <th>absolutely</th>\n",
              "      <th>absorb</th>\n",
              "      <th>abuse</th>\n",
              "      <th>academic</th>\n",
              "      <th>academy</th>\n",
              "      <th>accept</th>\n",
              "      <th>acceptable</th>\n",
              "      <th>acceptance</th>\n",
              "      <th>access</th>\n",
              "      <th>access available</th>\n",
              "      <th>access datum</th>\n",
              "      <th>access device</th>\n",
              "      <th>access e</th>\n",
              "      <th>access grow</th>\n",
              "      <th>access home</th>\n",
              "      <th>access information</th>\n",
              "      <th>access internet</th>\n",
              "      <th>access medium</th>\n",
              "      <th>access mobile</th>\n",
              "      <th>access net</th>\n",
              "      <th>access point</th>\n",
              "      <th>access service</th>\n",
              "      <th>accessible</th>\n",
              "      <th>accident</th>\n",
              "      <th>acclaim</th>\n",
              "      <th>...</th>\n",
              "      <th>year launch</th>\n",
              "      <th>year microsoft</th>\n",
              "      <th>year million</th>\n",
              "      <th>year motorola</th>\n",
              "      <th>year new</th>\n",
              "      <th>year number</th>\n",
              "      <th>year old</th>\n",
              "      <th>year people</th>\n",
              "      <th>year portable</th>\n",
              "      <th>year predict</th>\n",
              "      <th>year real</th>\n",
              "      <th>year release</th>\n",
              "      <th>year report</th>\n",
              "      <th>year say</th>\n",
              "      <th>year service</th>\n",
              "      <th>year think</th>\n",
              "      <th>year time</th>\n",
              "      <th>year uk</th>\n",
              "      <th>year use</th>\n",
              "      <th>year year</th>\n",
              "      <th>yen</th>\n",
              "      <th>yepp</th>\n",
              "      <th>yes</th>\n",
              "      <th>york</th>\n",
              "      <th>york base</th>\n",
              "      <th>york state</th>\n",
              "      <th>york times</th>\n",
              "      <th>young</th>\n",
              "      <th>young americans</th>\n",
              "      <th>young people</th>\n",
              "      <th>young user</th>\n",
              "      <th>youngster</th>\n",
              "      <th>youth</th>\n",
              "      <th>zelda</th>\n",
              "      <th>zen</th>\n",
              "      <th>zen micro</th>\n",
              "      <th>zombie</th>\n",
              "      <th>zombie bot</th>\n",
              "      <th>zone</th>\n",
              "      <th>zoom</th>\n",
              "    </tr>\n",
              "  </thead>\n",
              "  <tbody>\n",
              "    <tr>\n",
              "      <th>0</th>\n",
              "      <td>0.0</td>\n",
              "      <td>0.0</td>\n",
              "      <td>0.0</td>\n",
              "      <td>0.0</td>\n",
              "      <td>0.021070</td>\n",
              "      <td>0.0</td>\n",
              "      <td>0.0</td>\n",
              "      <td>0.0</td>\n",
              "      <td>0.000000</td>\n",
              "      <td>0.0</td>\n",
              "      <td>0.0</td>\n",
              "      <td>0.0</td>\n",
              "      <td>0.0</td>\n",
              "      <td>0.0</td>\n",
              "      <td>0.0</td>\n",
              "      <td>0.0</td>\n",
              "      <td>0.0</td>\n",
              "      <td>0.0</td>\n",
              "      <td>0.0</td>\n",
              "      <td>0.0</td>\n",
              "      <td>0.0</td>\n",
              "      <td>0.0</td>\n",
              "      <td>0.0</td>\n",
              "      <td>0.0</td>\n",
              "      <td>0.0</td>\n",
              "      <td>0.0</td>\n",
              "      <td>0.0</td>\n",
              "      <td>0.0</td>\n",
              "      <td>0.0</td>\n",
              "      <td>0.0</td>\n",
              "      <td>0.0</td>\n",
              "      <td>0.0</td>\n",
              "      <td>0.0</td>\n",
              "      <td>0.0</td>\n",
              "      <td>0.0</td>\n",
              "      <td>0.0</td>\n",
              "      <td>0.0</td>\n",
              "      <td>0.0</td>\n",
              "      <td>0.0</td>\n",
              "      <td>0.0</td>\n",
              "      <td>...</td>\n",
              "      <td>0.0</td>\n",
              "      <td>0.0</td>\n",
              "      <td>0.0</td>\n",
              "      <td>0.0</td>\n",
              "      <td>0.0</td>\n",
              "      <td>0.0</td>\n",
              "      <td>0.046816</td>\n",
              "      <td>0.0</td>\n",
              "      <td>0.0</td>\n",
              "      <td>0.0</td>\n",
              "      <td>0.0</td>\n",
              "      <td>0.0</td>\n",
              "      <td>0.0</td>\n",
              "      <td>0.0</td>\n",
              "      <td>0.0</td>\n",
              "      <td>0.0</td>\n",
              "      <td>0.0</td>\n",
              "      <td>0.0</td>\n",
              "      <td>0.0</td>\n",
              "      <td>0.0</td>\n",
              "      <td>0.0</td>\n",
              "      <td>0.0</td>\n",
              "      <td>0.0</td>\n",
              "      <td>0.0</td>\n",
              "      <td>0.0</td>\n",
              "      <td>0.0</td>\n",
              "      <td>0.0</td>\n",
              "      <td>0.000000</td>\n",
              "      <td>0.0</td>\n",
              "      <td>0.0</td>\n",
              "      <td>0.0</td>\n",
              "      <td>0.0</td>\n",
              "      <td>0.0</td>\n",
              "      <td>0.0</td>\n",
              "      <td>0.0</td>\n",
              "      <td>0.0</td>\n",
              "      <td>0.0</td>\n",
              "      <td>0.0</td>\n",
              "      <td>0.000000</td>\n",
              "      <td>0.000000</td>\n",
              "    </tr>\n",
              "    <tr>\n",
              "      <th>1</th>\n",
              "      <td>0.0</td>\n",
              "      <td>0.0</td>\n",
              "      <td>0.0</td>\n",
              "      <td>0.0</td>\n",
              "      <td>0.000000</td>\n",
              "      <td>0.0</td>\n",
              "      <td>0.0</td>\n",
              "      <td>0.0</td>\n",
              "      <td>0.000000</td>\n",
              "      <td>0.0</td>\n",
              "      <td>0.0</td>\n",
              "      <td>0.0</td>\n",
              "      <td>0.0</td>\n",
              "      <td>0.0</td>\n",
              "      <td>0.0</td>\n",
              "      <td>0.0</td>\n",
              "      <td>0.0</td>\n",
              "      <td>0.0</td>\n",
              "      <td>0.0</td>\n",
              "      <td>0.0</td>\n",
              "      <td>0.0</td>\n",
              "      <td>0.0</td>\n",
              "      <td>0.0</td>\n",
              "      <td>0.0</td>\n",
              "      <td>0.0</td>\n",
              "      <td>0.0</td>\n",
              "      <td>0.0</td>\n",
              "      <td>0.0</td>\n",
              "      <td>0.0</td>\n",
              "      <td>0.0</td>\n",
              "      <td>0.0</td>\n",
              "      <td>0.0</td>\n",
              "      <td>0.0</td>\n",
              "      <td>0.0</td>\n",
              "      <td>0.0</td>\n",
              "      <td>0.0</td>\n",
              "      <td>0.0</td>\n",
              "      <td>0.0</td>\n",
              "      <td>0.0</td>\n",
              "      <td>0.0</td>\n",
              "      <td>...</td>\n",
              "      <td>0.0</td>\n",
              "      <td>0.0</td>\n",
              "      <td>0.0</td>\n",
              "      <td>0.0</td>\n",
              "      <td>0.0</td>\n",
              "      <td>0.0</td>\n",
              "      <td>0.000000</td>\n",
              "      <td>0.0</td>\n",
              "      <td>0.0</td>\n",
              "      <td>0.0</td>\n",
              "      <td>0.0</td>\n",
              "      <td>0.0</td>\n",
              "      <td>0.0</td>\n",
              "      <td>0.0</td>\n",
              "      <td>0.0</td>\n",
              "      <td>0.0</td>\n",
              "      <td>0.0</td>\n",
              "      <td>0.0</td>\n",
              "      <td>0.0</td>\n",
              "      <td>0.0</td>\n",
              "      <td>0.0</td>\n",
              "      <td>0.0</td>\n",
              "      <td>0.0</td>\n",
              "      <td>0.0</td>\n",
              "      <td>0.0</td>\n",
              "      <td>0.0</td>\n",
              "      <td>0.0</td>\n",
              "      <td>0.000000</td>\n",
              "      <td>0.0</td>\n",
              "      <td>0.0</td>\n",
              "      <td>0.0</td>\n",
              "      <td>0.0</td>\n",
              "      <td>0.0</td>\n",
              "      <td>0.0</td>\n",
              "      <td>0.0</td>\n",
              "      <td>0.0</td>\n",
              "      <td>0.0</td>\n",
              "      <td>0.0</td>\n",
              "      <td>0.000000</td>\n",
              "      <td>0.000000</td>\n",
              "    </tr>\n",
              "    <tr>\n",
              "      <th>2</th>\n",
              "      <td>0.0</td>\n",
              "      <td>0.0</td>\n",
              "      <td>0.0</td>\n",
              "      <td>0.0</td>\n",
              "      <td>0.000000</td>\n",
              "      <td>0.0</td>\n",
              "      <td>0.0</td>\n",
              "      <td>0.0</td>\n",
              "      <td>0.000000</td>\n",
              "      <td>0.0</td>\n",
              "      <td>0.0</td>\n",
              "      <td>0.0</td>\n",
              "      <td>0.0</td>\n",
              "      <td>0.0</td>\n",
              "      <td>0.0</td>\n",
              "      <td>0.0</td>\n",
              "      <td>0.0</td>\n",
              "      <td>0.0</td>\n",
              "      <td>0.0</td>\n",
              "      <td>0.0</td>\n",
              "      <td>0.0</td>\n",
              "      <td>0.0</td>\n",
              "      <td>0.0</td>\n",
              "      <td>0.0</td>\n",
              "      <td>0.0</td>\n",
              "      <td>0.0</td>\n",
              "      <td>0.0</td>\n",
              "      <td>0.0</td>\n",
              "      <td>0.0</td>\n",
              "      <td>0.0</td>\n",
              "      <td>0.0</td>\n",
              "      <td>0.0</td>\n",
              "      <td>0.0</td>\n",
              "      <td>0.0</td>\n",
              "      <td>0.0</td>\n",
              "      <td>0.0</td>\n",
              "      <td>0.0</td>\n",
              "      <td>0.0</td>\n",
              "      <td>0.0</td>\n",
              "      <td>0.0</td>\n",
              "      <td>...</td>\n",
              "      <td>0.0</td>\n",
              "      <td>0.0</td>\n",
              "      <td>0.0</td>\n",
              "      <td>0.0</td>\n",
              "      <td>0.0</td>\n",
              "      <td>0.0</td>\n",
              "      <td>0.000000</td>\n",
              "      <td>0.0</td>\n",
              "      <td>0.0</td>\n",
              "      <td>0.0</td>\n",
              "      <td>0.0</td>\n",
              "      <td>0.0</td>\n",
              "      <td>0.0</td>\n",
              "      <td>0.0</td>\n",
              "      <td>0.0</td>\n",
              "      <td>0.0</td>\n",
              "      <td>0.0</td>\n",
              "      <td>0.0</td>\n",
              "      <td>0.0</td>\n",
              "      <td>0.0</td>\n",
              "      <td>0.0</td>\n",
              "      <td>0.0</td>\n",
              "      <td>0.0</td>\n",
              "      <td>0.0</td>\n",
              "      <td>0.0</td>\n",
              "      <td>0.0</td>\n",
              "      <td>0.0</td>\n",
              "      <td>0.000000</td>\n",
              "      <td>0.0</td>\n",
              "      <td>0.0</td>\n",
              "      <td>0.0</td>\n",
              "      <td>0.0</td>\n",
              "      <td>0.0</td>\n",
              "      <td>0.0</td>\n",
              "      <td>0.0</td>\n",
              "      <td>0.0</td>\n",
              "      <td>0.0</td>\n",
              "      <td>0.0</td>\n",
              "      <td>0.068212</td>\n",
              "      <td>0.000000</td>\n",
              "    </tr>\n",
              "    <tr>\n",
              "      <th>3</th>\n",
              "      <td>0.0</td>\n",
              "      <td>0.0</td>\n",
              "      <td>0.0</td>\n",
              "      <td>0.0</td>\n",
              "      <td>0.063252</td>\n",
              "      <td>0.0</td>\n",
              "      <td>0.0</td>\n",
              "      <td>0.0</td>\n",
              "      <td>0.075743</td>\n",
              "      <td>0.0</td>\n",
              "      <td>0.0</td>\n",
              "      <td>0.0</td>\n",
              "      <td>0.0</td>\n",
              "      <td>0.0</td>\n",
              "      <td>0.0</td>\n",
              "      <td>0.0</td>\n",
              "      <td>0.0</td>\n",
              "      <td>0.0</td>\n",
              "      <td>0.0</td>\n",
              "      <td>0.0</td>\n",
              "      <td>0.0</td>\n",
              "      <td>0.0</td>\n",
              "      <td>0.0</td>\n",
              "      <td>0.0</td>\n",
              "      <td>0.0</td>\n",
              "      <td>0.0</td>\n",
              "      <td>0.0</td>\n",
              "      <td>0.0</td>\n",
              "      <td>0.0</td>\n",
              "      <td>0.0</td>\n",
              "      <td>0.0</td>\n",
              "      <td>0.0</td>\n",
              "      <td>0.0</td>\n",
              "      <td>0.0</td>\n",
              "      <td>0.0</td>\n",
              "      <td>0.0</td>\n",
              "      <td>0.0</td>\n",
              "      <td>0.0</td>\n",
              "      <td>0.0</td>\n",
              "      <td>0.0</td>\n",
              "      <td>...</td>\n",
              "      <td>0.0</td>\n",
              "      <td>0.0</td>\n",
              "      <td>0.0</td>\n",
              "      <td>0.0</td>\n",
              "      <td>0.0</td>\n",
              "      <td>0.0</td>\n",
              "      <td>0.000000</td>\n",
              "      <td>0.0</td>\n",
              "      <td>0.0</td>\n",
              "      <td>0.0</td>\n",
              "      <td>0.0</td>\n",
              "      <td>0.0</td>\n",
              "      <td>0.0</td>\n",
              "      <td>0.0</td>\n",
              "      <td>0.0</td>\n",
              "      <td>0.0</td>\n",
              "      <td>0.0</td>\n",
              "      <td>0.0</td>\n",
              "      <td>0.0</td>\n",
              "      <td>0.0</td>\n",
              "      <td>0.0</td>\n",
              "      <td>0.0</td>\n",
              "      <td>0.0</td>\n",
              "      <td>0.0</td>\n",
              "      <td>0.0</td>\n",
              "      <td>0.0</td>\n",
              "      <td>0.0</td>\n",
              "      <td>0.000000</td>\n",
              "      <td>0.0</td>\n",
              "      <td>0.0</td>\n",
              "      <td>0.0</td>\n",
              "      <td>0.0</td>\n",
              "      <td>0.0</td>\n",
              "      <td>0.0</td>\n",
              "      <td>0.0</td>\n",
              "      <td>0.0</td>\n",
              "      <td>0.0</td>\n",
              "      <td>0.0</td>\n",
              "      <td>0.000000</td>\n",
              "      <td>0.070268</td>\n",
              "    </tr>\n",
              "    <tr>\n",
              "      <th>4</th>\n",
              "      <td>0.0</td>\n",
              "      <td>0.0</td>\n",
              "      <td>0.0</td>\n",
              "      <td>0.0</td>\n",
              "      <td>0.000000</td>\n",
              "      <td>0.0</td>\n",
              "      <td>0.0</td>\n",
              "      <td>0.0</td>\n",
              "      <td>0.000000</td>\n",
              "      <td>0.0</td>\n",
              "      <td>0.0</td>\n",
              "      <td>0.0</td>\n",
              "      <td>0.0</td>\n",
              "      <td>0.0</td>\n",
              "      <td>0.0</td>\n",
              "      <td>0.0</td>\n",
              "      <td>0.0</td>\n",
              "      <td>0.0</td>\n",
              "      <td>0.0</td>\n",
              "      <td>0.0</td>\n",
              "      <td>0.0</td>\n",
              "      <td>0.0</td>\n",
              "      <td>0.0</td>\n",
              "      <td>0.0</td>\n",
              "      <td>0.0</td>\n",
              "      <td>0.0</td>\n",
              "      <td>0.0</td>\n",
              "      <td>0.0</td>\n",
              "      <td>0.0</td>\n",
              "      <td>0.0</td>\n",
              "      <td>0.0</td>\n",
              "      <td>0.0</td>\n",
              "      <td>0.0</td>\n",
              "      <td>0.0</td>\n",
              "      <td>0.0</td>\n",
              "      <td>0.0</td>\n",
              "      <td>0.0</td>\n",
              "      <td>0.0</td>\n",
              "      <td>0.0</td>\n",
              "      <td>0.0</td>\n",
              "      <td>...</td>\n",
              "      <td>0.0</td>\n",
              "      <td>0.0</td>\n",
              "      <td>0.0</td>\n",
              "      <td>0.0</td>\n",
              "      <td>0.0</td>\n",
              "      <td>0.0</td>\n",
              "      <td>0.000000</td>\n",
              "      <td>0.0</td>\n",
              "      <td>0.0</td>\n",
              "      <td>0.0</td>\n",
              "      <td>0.0</td>\n",
              "      <td>0.0</td>\n",
              "      <td>0.0</td>\n",
              "      <td>0.0</td>\n",
              "      <td>0.0</td>\n",
              "      <td>0.0</td>\n",
              "      <td>0.0</td>\n",
              "      <td>0.0</td>\n",
              "      <td>0.0</td>\n",
              "      <td>0.0</td>\n",
              "      <td>0.0</td>\n",
              "      <td>0.0</td>\n",
              "      <td>0.0</td>\n",
              "      <td>0.0</td>\n",
              "      <td>0.0</td>\n",
              "      <td>0.0</td>\n",
              "      <td>0.0</td>\n",
              "      <td>0.041846</td>\n",
              "      <td>0.0</td>\n",
              "      <td>0.0</td>\n",
              "      <td>0.0</td>\n",
              "      <td>0.0</td>\n",
              "      <td>0.0</td>\n",
              "      <td>0.0</td>\n",
              "      <td>0.0</td>\n",
              "      <td>0.0</td>\n",
              "      <td>0.0</td>\n",
              "      <td>0.0</td>\n",
              "      <td>0.000000</td>\n",
              "      <td>0.000000</td>\n",
              "    </tr>\n",
              "  </tbody>\n",
              "</table>\n",
              "<p>5 rows × 7604 columns</p>\n",
              "</div>"
            ],
            "text/plain": [
              "   -PRON-  abandon  ability  ...  zombie bot      zone      zoom\n",
              "0     0.0      0.0      0.0  ...         0.0  0.000000  0.000000\n",
              "1     0.0      0.0      0.0  ...         0.0  0.000000  0.000000\n",
              "2     0.0      0.0      0.0  ...         0.0  0.068212  0.000000\n",
              "3     0.0      0.0      0.0  ...         0.0  0.000000  0.070268\n",
              "4     0.0      0.0      0.0  ...         0.0  0.000000  0.000000\n",
              "\n",
              "[5 rows x 7604 columns]"
            ]
          },
          "metadata": {
            "tags": []
          },
          "execution_count": 80
        }
      ]
    },
    {
      "cell_type": "code",
      "metadata": {
        "id": "tbTTf1VYo7Gx",
        "colab": {
          "base_uri": "https://localhost:8080/"
        },
        "outputId": "89f19706-f6a6-4d2d-c4cc-5bb9a5314d1a"
      },
      "source": [
        "dtm.shape"
      ],
      "execution_count": null,
      "outputs": [
        {
          "output_type": "execute_result",
          "data": {
            "text/plain": [
              "(401, 7604)"
            ]
          },
          "metadata": {
            "tags": []
          },
          "execution_count": 81
        }
      ]
    },
    {
      "cell_type": "markdown",
      "metadata": {
        "id": "oNiNYgJNo9-U"
      },
      "source": [
        "### 6) 유사도를 이용해 문서를 검색해 봅시다"
      ]
    },
    {
      "cell_type": "markdown",
      "metadata": {
        "id": "ahSuv8vcpVfk"
      },
      "source": [
        "네이버, 구글과 같은 검색엔진의 원리는 무엇일까요?<br/>\n",
        "검색엔진이 단순히 검색어를 인터넷에 존재하는 여러 문서들과 같은 지만 비교하지는 않습니다.<br/>\n",
        "검색어(Query, 쿼리)와 문서들을 매칭(matching) 하는 방법은 여러가지가 있습니다.<br/>\n",
        "그중 가장 클래식한 방법인 **\"유사도 측정 방법\"**을 시도해 보겠습니다."
      ]
    },
    {
      "cell_type": "markdown",
      "metadata": {
        "id": "bjorTKS2vY31"
      },
      "source": [
        "- **코사인 유사도(Cosine Similarity)**\n",
        "\n",
        "$\\Large \\text{cosine similarity} = cos(\\theta)=\\frac{A⋅B}{||A||\\ ||B||}=\\frac{\\sum_{i=1}^{n}{A_{i}×B_{i}}}{\\sqrt{\\sum_{i=1}^{n}(A_{i})^2}×\\sqrt{\\sum_{i=1}^{n}(B_{i})^2}}$\n",
        "\n"
      ]
    },
    {
      "cell_type": "markdown",
      "metadata": {
        "id": "enEQIr0zpZZk"
      },
      "source": [
        "<img align=\"center\" src=\"https://images.deepai.org/glossary-terms/cosine-similarity-1007790.jpg\" width=700 title=\"Cosine Similarity\" alt=\"https://deepai.org/machine-learning-glossary-and-terms/cosine-similarity\">"
      ]
    },
    {
      "cell_type": "markdown",
      "metadata": {
        "id": "i1DhHzIVpbX2"
      },
      "source": [
        "\n",
        "코사인 유사도는 두 벡터(문서벡터) 간의 각의 코사인 값을 이용하여 구할 수 있는 유사도입니다.\n",
        "\n",
        "- 두 벡터(문서)가 \n",
        "    - 완전히 같을 경우 1이며\n",
        "    - 90도의 각을 이루면 0\n",
        "    - 완전히 반대방향을 이루면 -1 입니다"
      ]
    },
    {
      "cell_type": "markdown",
      "metadata": {
        "id": "nP5bVEFoof9Y"
      },
      "source": [
        "- **NearestNeighbor (K-NN, K-최근접 이웃)**"
      ]
    },
    {
      "cell_type": "markdown",
      "metadata": {
        "id": "ztmYgFZAp8ao"
      },
      "source": [
        "K-최근접 이웃법은 쿼리와 가장 가까운 상위 K개의 근접한 데이터를 찾아서 K개 데이터의 유사성을 기반으로 **점을 추정하거나 분류**하는 예측 분석에 사용됩니다.<br/>\n",
        "최근접 이웃 방법은 non-generalizing 머신러닝 방법이라고도 합니다.<br/>\n",
        "모든 학습 데이터를 KD Tree 나 Ball Tree같은 빠른 색인 구조(indexing structure)에 단순히 저장하기 때문입니다."
      ]
    },
    {
      "cell_type": "markdown",
      "metadata": {
        "id": "msOZD62fr22Z"
      },
      "source": [
        "**`sklearn - NearestNeighbors`**\n",
        "\n",
        "sklearn에서 비지도학습을 위한 NearestNeighbors 모델을 사용합니다. <br/>\n",
        "[sklearn.neighbors.NearestNeighbors](https://scikit-learn.org/stable/modules/generated/sklearn.neighbors.NearestNeighbors.html#sklearn-neighbors-nearestneighbors)"
      ]
    },
    {
      "cell_type": "code",
      "metadata": {
        "id": "PvnZfPhtpVHw",
        "colab": {
          "base_uri": "https://localhost:8080/"
        },
        "outputId": "a821740e-9bf2-460e-fdf8-61e311fd6bf4"
      },
      "source": [
        "from sklearn.neighbors import NearestNeighbors\n",
        "\n",
        "# dtm을 사용히 NN 모델을 학습시킵니다. (디폴트)최근접 5 이웃.\n",
        "nn = NearestNeighbors(n_neighbors=5, algorithm='kd_tree')\n",
        "nn.fit(dtm)"
      ],
      "execution_count": null,
      "outputs": [
        {
          "output_type": "execute_result",
          "data": {
            "text/plain": [
              "NearestNeighbors(algorithm='kd_tree', leaf_size=30, metric='minkowski',\n",
              "                 metric_params=None, n_jobs=None, n_neighbors=5, p=2,\n",
              "                 radius=1.0)"
            ]
          },
          "metadata": {
            "tags": []
          },
          "execution_count": 82
        }
      ]
    },
    {
      "cell_type": "markdown",
      "metadata": {
        "id": "HeEJbhW4sAV2"
      },
      "source": [
        "0 번째 인덱스에 해당하는 문서와 가장 가까운 문서 (0 포함) 5개의 거리(값이 작을수록 유사합니다)와 문서의 인덱스를 알 수 있습니다."
      ]
    },
    {
      "cell_type": "code",
      "metadata": {
        "id": "GxV2aq_er-qU",
        "colab": {
          "base_uri": "https://localhost:8080/"
        },
        "outputId": "ec1734aa-fb92-492d-9ecb-fd85e8519ad5"
      },
      "source": [
        "nn.kneighbors([dtm.iloc[0].values])"
      ],
      "execution_count": null,
      "outputs": [
        {
          "output_type": "execute_result",
          "data": {
            "text/plain": [
              "(array([[0.        , 1.08530247, 1.12306574, 1.14385143, 1.17391363]]),\n",
              " array([[  0, 389, 313,  46,  96]]))"
            ]
          },
          "metadata": {
            "tags": []
          },
          "execution_count": 83
        }
      ]
    },
    {
      "cell_type": "markdown",
      "metadata": {
        "id": "pWojbI7tsEw4"
      },
      "source": [
        "0 번째 문서의 이웃인 문서377로 검색해 보겠습니다. "
      ]
    },
    {
      "cell_type": "code",
      "metadata": {
        "id": "DOdw5G03sFkC",
        "colab": {
          "base_uri": "https://localhost:8080/"
        },
        "outputId": "e05de03c-5eb8-4d1b-a52f-08f9ed9ab0b7"
      },
      "source": [
        "nn.kneighbors([dtm.iloc[377]])"
      ],
      "execution_count": null,
      "outputs": [
        {
          "output_type": "execute_result",
          "data": {
            "text/plain": [
              "(array([[0.        , 0.        , 0.93424981, 1.04746684, 1.09254586]]),\n",
              " array([[377, 180, 326, 307, 102]]))"
            ]
          },
          "metadata": {
            "tags": []
          },
          "execution_count": 84
        }
      ]
    },
    {
      "cell_type": "code",
      "metadata": {
        "id": "LphUWcPjsHZ9",
        "colab": {
          "base_uri": "https://localhost:8080/"
        },
        "outputId": "9c1b1797-a2e4-4b93-fd50-35753bf80dcd"
      },
      "source": [
        "print(data[222][:300])\n",
        "print(data[301][:300])"
      ],
      "execution_count": null,
      "outputs": [
        {
          "output_type": "stream",
          "text": [
            "b'Blogger grounded by her airline\\n\\nA US airline attendant is fighting for her job after she was suspended over postings on her blog, or online diary.\\n\\nQueen of the Sky, otherwise known as Ellen Simonetti, evolved into an anonymous semi-fictional account of life in the sky. But after she posted picture'\n",
            "b\"Movie body targets children's PCs\\n\\nThe body that represents the US movie industry has released its latest tool in its campaign to clamp down on movie file-sharing, aimed at parents.\\n\\nThe Movie Association for America's (MPAA) free Parent File Scan software lets parents check their children's compute\"\n"
          ],
          "name": "stdout"
        }
      ]
    },
    {
      "cell_type": "markdown",
      "metadata": {
        "id": "DzNrxrXVsWGu"
      },
      "source": [
        "#### 문서 검색 예제 "
      ]
    },
    {
      "cell_type": "markdown",
      "metadata": {
        "id": "hDG0zRgEqBKB"
      },
      "source": [
        "CNN 에서 tech 기사를 가져와서 문서검색에 사용해봅시다.<br/>\n",
        "다른 기사를 가지고 테스트해봐도 좋습니다."
      ]
    },
    {
      "cell_type": "code",
      "metadata": {
        "id": "APFdSpkksd7r"
      },
      "source": [
        "# https://edition.cnn.com/2020/07/30/tech/huawei-samsung-q2-hnk-intl/index.html\n",
        "cnn_tech_article = [ \"\"\"\n",
        "Hong Kong (CNN Business)Huawei became the world's top smartphone seller last quarter, overtaking Samsung for the first time ever, according to an independent market research report released Thursday.\n",
        "The Chinese tech company shipped 55.8 million phones in the three months ended in June, surpassing longtime rival Samsung, which shipped 53.7 million, according to the Canalys report.\n",
        "\"Taking first place is very important for Huawei,\" said Canalys analyst Mo Jia. \"It is desperate to showcase its brand strength to domestic consumers, component suppliers and developers.\"\n",
        "A years-long US pressure campaign against Huawei has handicapped the Shenzhen-based firm's global business.\n",
        "Huawei still suffered an annual decline in smartphone shipments of 5%. But Samsung's was a lot bigger at 30%, according to Canalys.\n",
        "The market research firm said Huawei's victory over Samsung wouldn't have happened without Covid-19. The company was able to take advantage of the economic recovery in China, where Huawei now sells over 70% of its smartphones. Samsung has a very small presence in China.\n",
        "Huawei&#39;s hopes of global domination have been dashed\n",
        "Huawei's hopes of global domination have been dashed\n",
        "Huawei's global smartphone and telecom gear business continues to suffer the fallout from US sanctions that cut the company off from key American tech and supplies.\n",
        "Without access to popular Google (GOOGL GOOGLE) apps such as YouTube, maps and Gmail, Huawei's latest smartphones are a lot less attractive to international buyers. That will make it very difficult for Huawei to hold on to the global No. 1 position, according to Jia.\n",
        "\"It will be hard for Huawei to maintain its lead in the long term. Its major channel partners in key regions, such as Europe, are increasingly wary of ranging Huawei devices, taking on fewer models, and bringing in new brands to reduce risk. Strength in China alone will not be enough to sustain Huawei at the top once the global economy starts to recover,\" he said.\n",
        "\"Our business has demonstrated exceptional resilience in these difficult times,\" Huawei spokeswoman Evita Cao said. Cao did not respond to questions on how the company can maintain its lead going forward.\n",
        "Huawei's victory came on the same day Samsung posted a big profit bump for the second quarter, with strong chip demand helping the company weather the fallout from the coronavirus pandemic.\n",
        "Samsung reported operating profit of 8.15 trillion won ($6.8 billion) for the three months that ended in June, up more than 23% compared to the same period last year.\n",
        "Samsung said sales fell about 6% to 53 trillion won ($44.6 billion).\n",
        "Shares in Samsung were last up 0.7% in Seoul. South Korea's Kospi (KOSPI) rose 0.1%.\n",
        "Taiwan&#39;s TSMC is becoming one of the world&#39;s top companies. Intel&#39;s problems are helping\n",
        "Taiwan's TSMC is becoming one of the world's top companies. Intel's problems are helping\n",
        "Despite the double digit declines in annual smartphone shipments for the quarter noted by the Canalys report, Samsung reported that the unit remained profitable thanks to savings on marketing costs. (Samsung does not break out specifics about its smartphone shipments, but noted that they declined.)\n",
        "For the second half of 2020, however, Samsung is warning that \"uncertainties related to Covid-19 linger\" for its mobile business.\n",
        "That could be enough to drag the company to revenue losses for the year, according to research firm Crisp Idea.\n",
        "The consumer electronics unit, which includes smartphones and TVs, is \"expected to decline significantly as Covid-19 affects demand and leads to store and plant closures globally,\" Crisp Idea analysts wrote in a note earlier this month.\n",
        "Smartphone shipments worldwide are expected to fall about 18% in the first half of the year as the pandemic continues to affect consumer spending, analysts at IDC said in a note last month.\n",
        "The market research firm added that global smartphone shipments are not expected to return to growth until the first quarter of 2021.\n",
        "That would also hurt Samsung's memory chip business, because the company supplies chips for rival smartphone companies such as Apple (AAPL) and Huawei.\"\"\"]\n"
      ],
      "execution_count": null,
      "outputs": []
    },
    {
      "cell_type": "markdown",
      "metadata": {
        "id": "Kh-wrB_xsgNv"
      },
      "source": [
        "CNN Tech 뉴스를 쿼리로 쓰기 위해 학습된 **`TfidfVectorizer`** 를 통해 변환하겠습니다"
      ]
    },
    {
      "cell_type": "code",
      "metadata": {
        "id": "TUr_gGr9shOM"
      },
      "source": [
        "new = tfidf.transform(cnn_tech_article)"
      ],
      "execution_count": null,
      "outputs": []
    },
    {
      "cell_type": "code",
      "metadata": {
        "id": "9-uNDIP3si70",
        "colab": {
          "base_uri": "https://localhost:8080/"
        },
        "outputId": "e5b47292-60a6-406d-d950-8f2ade577dde"
      },
      "source": [
        "nn.kneighbors(new.todense())"
      ],
      "execution_count": null,
      "outputs": [
        {
          "output_type": "execute_result",
          "data": {
            "text/plain": [
              "(array([[1.31624638, 1.3174223 , 1.31770469, 1.31778057, 1.31848904]]),\n",
              " array([[155,  78, 308, 113, 145]]))"
            ]
          },
          "metadata": {
            "tags": []
          },
          "execution_count": 88
        }
      ]
    },
    {
      "cell_type": "code",
      "metadata": {
        "id": "BW1DzA5eslJY",
        "colab": {
          "base_uri": "https://localhost:8080/"
        },
        "outputId": "c794f570-c3f8-4d79-f419-33f8d923794a"
      },
      "source": [
        "# 가장 가깝게 나온 문서를 확인합니다 \n",
        "data[297]"
      ],
      "execution_count": null,
      "outputs": [
        {
          "output_type": "execute_result",
          "data": {
            "text/plain": [
              "b'Apple makes blogs reveal sources\\n\\nApple has won its legal fight to make three bloggers reveal who told them about unreleased products.\\n\\nThe bid to unmask the employees leaking information was launched in December 2004 following online articles about Apple\\'s Asteroid product. Now Apple has won the right to see e-mail records from the three bloggers to root out the culprit. A lawyer for the three bloggers said the ruling set a dangerous precedent that could harm all news reporters.\\n\\nApple\\'s lawsuit accused anonymous people of stealing trade secrets about the Asteroid music product and leaking them to the PowerPage, Apple Insider and Think Secret websites. All three are Apple fan sites that obsessively watch the iconic firm for information about future products. Apple is notoriously secretive about upcoming products which gives any snippets of information about what it is working on all the more value. The lawsuit to reveal the names of the leakers was filed against the Power Page and Apple Insider sites.\\n\\nThe separate legal fight with Think Secret has yet to be resolved. In the ruling handed down this week by Santa Clara County Superior Court Judge James Kleinberg, Apple can now get its hands on e-mail records from the bloggers\\' net providers. In making his ruling, Judge Kleinberg said that laws covering the divulging of trade secrets outweighed considerations of public interest. California has so-called \"shield\" laws which protect journalists from prosecution if what they are writing about can be shown to be in the public interest. The Judge wrote: \"...it is not surprising that hundreds of thousands of \\'hits\\' on a website about Apple have and will happen. But an interested public is not the same as the public interest\". Judge Kleinberg said the question of whether the bloggers were journalists or not did not apply because laws governing the right to keep trade secrets confidential covered journalists, too. The Electronic Frontier Foundation, which is acting as legal counsel for Power Page and Apple Insider, said the ruling had potentially wide implications. \"Anyone who reports on companies or the trade press should be concerned about this ruling,\" said EFF lawyer Kurt Opsahl. Mr Opsahl said the EFF was planning to appeal against the ruling because the bloggers were journalists and US federal laws stop net firms handing over copies of e-mail messages if the owner of that account does not give their consent.\\n'"
            ]
          },
          "metadata": {
            "tags": []
          },
          "execution_count": 89
        }
      ]
    },
    {
      "cell_type": "markdown",
      "metadata": {
        "id": "TwHPZTnJqwLP"
      },
      "source": [
        "## 참고 자료"
      ]
    },
    {
      "cell_type": "markdown",
      "metadata": {
        "id": "dCZ6aZc1TCfi"
      },
      "source": [
        "- [Spacy 101](https://course.spacy.io)\n",
        "- [NLTK Book](https://www.nltk.org/book)\n",
        "- [An Introduction to Information Retrieval](https://nlp.stanford.edu/IR-book/pdf/irbookonlinereading.pdf)\n",
        "- [regex101.com(정규식 연습)](https://regex101.com/)\n",
        "- [Python RegEx](https://www.w3schools.com/python/python_regex.asp#sub)\n",
        "- [정규 표현식 시작하기](https://wikidocs.net/4308#_2)\n",
        "\n"
      ]
    }
  ]
}