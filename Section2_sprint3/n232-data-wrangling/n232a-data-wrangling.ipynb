{
  "cells": [
    {
      "cell_type": "markdown",
      "source": [
        "<img align=\"right\" src=\"https://ds-cs-images.s3.ap-northeast-2.amazonaws.com/Codestates_Fulllogo_Color.png\" width=100>\n",
        "\n",
        "## *AIB / SECTION 2 / SPRINT 3 / NOTE 2*\n",
        "\n",
        "# 📝 Assignment\n",
        "---\n",
        "# Data Wrangling\n"
      ],
      "metadata": {
        "id": "5GYUdGWhhxm5"
      }
    },
    {
      "cell_type": "markdown",
      "source": [
        "### 1) 지속적으로 여러분의 포트폴리오 데이터를 랭글링 하세요\n",
        "- 여러분이 선택한 데이터들을 랭글링하여 모델을 만들기 위한 테이블 형태의 데이터로 만들어 보세요.\n",
        "- **(Urclass Quiz) 다음 함수의 result를 완성시키고 리턴값을 제출하세요.**"
      ],
      "metadata": {
        "id": "Uqfv2Vq9hxm7"
      }
    },
    {
      "cell_type": "code",
      "source": [
        "df"
      ],
      "metadata": {
        "id": "YisvmkfPiIi2",
        "outputId": "3f45a837-aedf-4404-eb59-6c7d01a4d1a8",
        "colab": {
          "base_uri": "https://localhost:8080/",
          "height": 455
        }
      },
      "execution_count": 5,
      "outputs": [
        {
          "output_type": "execute_result",
          "data": {
            "text/html": [
              "\n",
              "  <div id=\"df-bb90f0f2-e629-4067-a2a6-9f5d20e7d3fe\">\n",
              "    <div class=\"colab-df-container\">\n",
              "      <div>\n",
              "<style scoped>\n",
              "    .dataframe tbody tr th:only-of-type {\n",
              "        vertical-align: middle;\n",
              "    }\n",
              "\n",
              "    .dataframe tbody tr th {\n",
              "        vertical-align: top;\n",
              "    }\n",
              "\n",
              "    .dataframe thead th {\n",
              "        text-align: right;\n",
              "    }\n",
              "</style>\n",
              "<table border=\"1\" class=\"dataframe\">\n",
              "  <thead>\n",
              "    <tr style=\"text-align: right;\">\n",
              "      <th></th>\n",
              "      <th>SN</th>\n",
              "      <th>Age</th>\n",
              "      <th>Gender</th>\n",
              "      <th>Item ID</th>\n",
              "      <th>Item Name</th>\n",
              "      <th>Price</th>\n",
              "    </tr>\n",
              "    <tr>\n",
              "      <th>Purchase ID</th>\n",
              "      <th></th>\n",
              "      <th></th>\n",
              "      <th></th>\n",
              "      <th></th>\n",
              "      <th></th>\n",
              "      <th></th>\n",
              "    </tr>\n",
              "  </thead>\n",
              "  <tbody>\n",
              "    <tr>\n",
              "      <th>0</th>\n",
              "      <td>Lisim78</td>\n",
              "      <td>20</td>\n",
              "      <td>Male</td>\n",
              "      <td>108</td>\n",
              "      <td>Extraction, Quickblade Of Trembling Hands</td>\n",
              "      <td>3.53</td>\n",
              "    </tr>\n",
              "    <tr>\n",
              "      <th>1</th>\n",
              "      <td>Lisovynya38</td>\n",
              "      <td>40</td>\n",
              "      <td>Male</td>\n",
              "      <td>143</td>\n",
              "      <td>Frenzied Scimitar</td>\n",
              "      <td>1.56</td>\n",
              "    </tr>\n",
              "    <tr>\n",
              "      <th>2</th>\n",
              "      <td>Ithergue48</td>\n",
              "      <td>24</td>\n",
              "      <td>Male</td>\n",
              "      <td>92</td>\n",
              "      <td>Final Critic</td>\n",
              "      <td>4.88</td>\n",
              "    </tr>\n",
              "    <tr>\n",
              "      <th>3</th>\n",
              "      <td>Chamassasya86</td>\n",
              "      <td>24</td>\n",
              "      <td>Male</td>\n",
              "      <td>100</td>\n",
              "      <td>Blindscythe</td>\n",
              "      <td>3.27</td>\n",
              "    </tr>\n",
              "    <tr>\n",
              "      <th>4</th>\n",
              "      <td>Iskosia90</td>\n",
              "      <td>23</td>\n",
              "      <td>Male</td>\n",
              "      <td>131</td>\n",
              "      <td>Fury</td>\n",
              "      <td>1.44</td>\n",
              "    </tr>\n",
              "    <tr>\n",
              "      <th>...</th>\n",
              "      <td>...</td>\n",
              "      <td>...</td>\n",
              "      <td>...</td>\n",
              "      <td>...</td>\n",
              "      <td>...</td>\n",
              "      <td>...</td>\n",
              "    </tr>\n",
              "    <tr>\n",
              "      <th>775</th>\n",
              "      <td>Aethedru70</td>\n",
              "      <td>21</td>\n",
              "      <td>Female</td>\n",
              "      <td>60</td>\n",
              "      <td>Wolf</td>\n",
              "      <td>3.54</td>\n",
              "    </tr>\n",
              "    <tr>\n",
              "      <th>776</th>\n",
              "      <td>Iral74</td>\n",
              "      <td>21</td>\n",
              "      <td>Male</td>\n",
              "      <td>164</td>\n",
              "      <td>Exiled Doomblade</td>\n",
              "      <td>1.63</td>\n",
              "    </tr>\n",
              "    <tr>\n",
              "      <th>777</th>\n",
              "      <td>Yathecal72</td>\n",
              "      <td>20</td>\n",
              "      <td>Male</td>\n",
              "      <td>67</td>\n",
              "      <td>Celeste, Incarnation of the Corrupted</td>\n",
              "      <td>3.46</td>\n",
              "    </tr>\n",
              "    <tr>\n",
              "      <th>778</th>\n",
              "      <td>Sisur91</td>\n",
              "      <td>7</td>\n",
              "      <td>Male</td>\n",
              "      <td>101</td>\n",
              "      <td>Final Critic</td>\n",
              "      <td>4.19</td>\n",
              "    </tr>\n",
              "    <tr>\n",
              "      <th>779</th>\n",
              "      <td>Ennrian78</td>\n",
              "      <td>24</td>\n",
              "      <td>Male</td>\n",
              "      <td>50</td>\n",
              "      <td>Dawn</td>\n",
              "      <td>4.60</td>\n",
              "    </tr>\n",
              "  </tbody>\n",
              "</table>\n",
              "<p>780 rows × 6 columns</p>\n",
              "</div>\n",
              "      <button class=\"colab-df-convert\" onclick=\"convertToInteractive('df-bb90f0f2-e629-4067-a2a6-9f5d20e7d3fe')\"\n",
              "              title=\"Convert this dataframe to an interactive table.\"\n",
              "              style=\"display:none;\">\n",
              "        \n",
              "  <svg xmlns=\"http://www.w3.org/2000/svg\" height=\"24px\"viewBox=\"0 0 24 24\"\n",
              "       width=\"24px\">\n",
              "    <path d=\"M0 0h24v24H0V0z\" fill=\"none\"/>\n",
              "    <path d=\"M18.56 5.44l.94 2.06.94-2.06 2.06-.94-2.06-.94-.94-2.06-.94 2.06-2.06.94zm-11 1L8.5 8.5l.94-2.06 2.06-.94-2.06-.94L8.5 2.5l-.94 2.06-2.06.94zm10 10l.94 2.06.94-2.06 2.06-.94-2.06-.94-.94-2.06-.94 2.06-2.06.94z\"/><path d=\"M17.41 7.96l-1.37-1.37c-.4-.4-.92-.59-1.43-.59-.52 0-1.04.2-1.43.59L10.3 9.45l-7.72 7.72c-.78.78-.78 2.05 0 2.83L4 21.41c.39.39.9.59 1.41.59.51 0 1.02-.2 1.41-.59l7.78-7.78 2.81-2.81c.8-.78.8-2.07 0-2.86zM5.41 20L4 18.59l7.72-7.72 1.47 1.35L5.41 20z\"/>\n",
              "  </svg>\n",
              "      </button>\n",
              "      \n",
              "  <style>\n",
              "    .colab-df-container {\n",
              "      display:flex;\n",
              "      flex-wrap:wrap;\n",
              "      gap: 12px;\n",
              "    }\n",
              "\n",
              "    .colab-df-convert {\n",
              "      background-color: #E8F0FE;\n",
              "      border: none;\n",
              "      border-radius: 50%;\n",
              "      cursor: pointer;\n",
              "      display: none;\n",
              "      fill: #1967D2;\n",
              "      height: 32px;\n",
              "      padding: 0 0 0 0;\n",
              "      width: 32px;\n",
              "    }\n",
              "\n",
              "    .colab-df-convert:hover {\n",
              "      background-color: #E2EBFA;\n",
              "      box-shadow: 0px 1px 2px rgba(60, 64, 67, 0.3), 0px 1px 3px 1px rgba(60, 64, 67, 0.15);\n",
              "      fill: #174EA6;\n",
              "    }\n",
              "\n",
              "    [theme=dark] .colab-df-convert {\n",
              "      background-color: #3B4455;\n",
              "      fill: #D2E3FC;\n",
              "    }\n",
              "\n",
              "    [theme=dark] .colab-df-convert:hover {\n",
              "      background-color: #434B5C;\n",
              "      box-shadow: 0px 1px 3px 1px rgba(0, 0, 0, 0.15);\n",
              "      filter: drop-shadow(0px 1px 2px rgba(0, 0, 0, 0.3));\n",
              "      fill: #FFFFFF;\n",
              "    }\n",
              "  </style>\n",
              "\n",
              "      <script>\n",
              "        const buttonEl =\n",
              "          document.querySelector('#df-bb90f0f2-e629-4067-a2a6-9f5d20e7d3fe button.colab-df-convert');\n",
              "        buttonEl.style.display =\n",
              "          google.colab.kernel.accessAllowed ? 'block' : 'none';\n",
              "\n",
              "        async function convertToInteractive(key) {\n",
              "          const element = document.querySelector('#df-bb90f0f2-e629-4067-a2a6-9f5d20e7d3fe');\n",
              "          const dataTable =\n",
              "            await google.colab.kernel.invokeFunction('convertToInteractive',\n",
              "                                                     [key], {});\n",
              "          if (!dataTable) return;\n",
              "\n",
              "          const docLinkHtml = 'Like what you see? Visit the ' +\n",
              "            '<a target=\"_blank\" href=https://colab.research.google.com/notebooks/data_table.ipynb>data table notebook</a>'\n",
              "            + ' to learn more about interactive tables.';\n",
              "          element.innerHTML = '';\n",
              "          dataTable['output_type'] = 'display_data';\n",
              "          await google.colab.output.renderOutput(dataTable, element);\n",
              "          const docLink = document.createElement('div');\n",
              "          docLink.innerHTML = docLinkHtml;\n",
              "          element.appendChild(docLink);\n",
              "        }\n",
              "      </script>\n",
              "    </div>\n",
              "  </div>\n",
              "  "
            ],
            "text/plain": [
              "                        SN  Age  Gender  Item ID  \\\n",
              "Purchase ID                                        \n",
              "0                  Lisim78   20    Male      108   \n",
              "1              Lisovynya38   40    Male      143   \n",
              "2               Ithergue48   24    Male       92   \n",
              "3            Chamassasya86   24    Male      100   \n",
              "4                Iskosia90   23    Male      131   \n",
              "...                    ...  ...     ...      ...   \n",
              "775             Aethedru70   21  Female       60   \n",
              "776                 Iral74   21    Male      164   \n",
              "777             Yathecal72   20    Male       67   \n",
              "778                Sisur91    7    Male      101   \n",
              "779              Ennrian78   24    Male       50   \n",
              "\n",
              "                                             Item Name  Price  \n",
              "Purchase ID                                                    \n",
              "0            Extraction, Quickblade Of Trembling Hands   3.53  \n",
              "1                                    Frenzied Scimitar   1.56  \n",
              "2                                         Final Critic   4.88  \n",
              "3                                          Blindscythe   3.27  \n",
              "4                                                 Fury   1.44  \n",
              "...                                                ...    ...  \n",
              "775                                               Wolf   3.54  \n",
              "776                                   Exiled Doomblade   1.63  \n",
              "777              Celeste, Incarnation of the Corrupted   3.46  \n",
              "778                                       Final Critic   4.19  \n",
              "779                                               Dawn   4.60  \n",
              "\n",
              "[780 rows x 6 columns]"
            ]
          },
          "metadata": {},
          "execution_count": 5
        }
      ]
    },
    {
      "cell_type": "code",
      "execution_count": 8,
      "source": [
        "import pandas as pd\n",
        "import pandas as np\n",
        "df = pd.read_csv(\"https://ds-lecture-data.s3.ap-northeast-2.amazonaws.com/assignments/purchase_data.csv\", sep=\",\",index_col=0)\n",
        "\n",
        "## 다음 result 함수 안에 male, female 변수를 계산하세요.(groupby, get_group을 사용하세요.)\n",
        "## sum_male: Age = 20, Gender = \"Male\" 그룹의 Price를 합하세요.\n",
        "## sum_female: Age = 20, Gender = \"Female\" 그룹의 Price를 합하세요.\n",
        "\n",
        "def result(df):\n",
        "\n",
        "    sum_male = df[(df.Age == 20) & (df.Gender == 'Male')].Price.sum()\n",
        "    sum_female = df[(df.Age == 20) & (df.Gender == 'Female')].Price.sum()\n",
        "\n",
        "    print(\"sum_male: {}, sum_female: {}\".format(sum_male, sum_female))\n",
        "    return round(sum_male + sum_female)\n",
        "\n",
        "result(df)"
      ],
      "outputs": [
        {
          "output_type": "stream",
          "name": "stdout",
          "text": [
            "sum_male: 260.2, sum_female: 43.730000000000004\n"
          ]
        },
        {
          "output_type": "execute_result",
          "data": {
            "text/plain": [
              "304"
            ]
          },
          "metadata": {},
          "execution_count": 8
        }
      ],
      "metadata": {
        "id": "OXEzOFv2hxm8",
        "outputId": "4327b854-5efb-40f3-c44a-2a85d0afcb34",
        "colab": {
          "base_uri": "https://localhost:8080/"
        }
      }
    },
    {
      "cell_type": "code",
      "execution_count": null,
      "source": [
        "### 이곳에서 본인 데이터로 과제를 진행해 주세요 ### "
      ],
      "outputs": [],
      "metadata": {
        "id": "Nu2hw7Alhxm9"
      }
    },
    {
      "cell_type": "markdown",
      "source": [
        "### 2) 새로 특징들을 만들어 보세요\n",
        "- **(Urclass Quiz) purchase_data를 랭글링하여 다음 조건을 계산하고 결과가 올바른 항목을 고르세요.**\n",
        "    1. 나이 1-20세 그룹(20세 포함)의 평균 Price는 3.101818이다.\n",
        "    2. 나이 21-50세 그룹의 평균 Price는 3.021559이다.\n",
        "    3. 가장 많이 구입한 아이템의 ID는 178 이다.\n",
        "    4. 두번째로 매출을 많이 낸 아이템 ID는 145이다."
      ],
      "metadata": {
        "id": "idQqQXqrhxm9"
      }
    },
    {
      "cell_type": "code",
      "source": [
        "result_1 = df[df.Age <= 20].Price.mean()\n",
        "\n",
        "result_2 = df[(df.Age > 20) & (df.Age <= 50)].Price.mean()\n",
        "\n",
        "result_3 = df['Item ID'].mode([1, 2])"
      ],
      "metadata": {
        "id": "cD5tkwX_jlPE"
      },
      "execution_count": 31,
      "outputs": []
    },
    {
      "cell_type": "code",
      "execution_count": 32,
      "source": [
        "print(result_1, result_2)\n",
        "result_3"
      ],
      "outputs": [
        {
          "output_type": "stream",
          "name": "stdout",
          "text": [
            "3.101818181818184 3.0215587044534415\n"
          ]
        },
        {
          "output_type": "execute_result",
          "data": {
            "text/plain": [
              "0    178\n",
              "dtype: int64"
            ]
          },
          "metadata": {},
          "execution_count": 32
        }
      ],
      "metadata": {
        "id": "YF7x6WCyhxm-",
        "outputId": "0b5b7afe-8608-4ad0-fdb0-7717deb368a3",
        "colab": {
          "base_uri": "https://localhost:8080/"
        }
      }
    },
    {
      "cell_type": "code",
      "execution_count": 46,
      "source": [
        "### 이곳에서 Urlcass 퀴즈(assignment)과제를 진행해 주세요 ###\n",
        "# 그룹별 Price 평균\n",
        "\n",
        "df['Item ID'].value_counts() \n",
        "\n",
        "# 판매수 상위 Item ID\n",
        "\n",
        "\n",
        "# 매출 상위 Item IDs\n"
      ],
      "outputs": [
        {
          "output_type": "execute_result",
          "data": {
            "text/plain": [
              "178    12\n",
              "108     9\n",
              "82      9\n",
              "145     9\n",
              "19      8\n",
              "       ..\n",
              "91      1\n",
              "27      1\n",
              "42      1\n",
              "23      1\n",
              "180     1\n",
              "Name: Item ID, Length: 183, dtype: int64"
            ]
          },
          "metadata": {},
          "execution_count": 46
        }
      ],
      "metadata": {
        "id": "utGTP7WIhxm9",
        "outputId": "bcbf4a64-7f6f-443e-e9e3-8a09eff463ea",
        "colab": {
          "base_uri": "https://localhost:8080/"
        }
      }
    },
    {
      "cell_type": "markdown",
      "source": [
        "## 🔥 도전과제(Github - Discussion)"
      ],
      "metadata": {
        "id": "72hPaddUhxm-"
      }
    },
    {
      "cell_type": "markdown",
      "source": [
        "### 3) 데이터 랭글링 방법들 중 가장 중요하다고 생각하는 방법이나 어려운 점, 혹은 수업에서 배우지 않은 좋은 방법이나 사례가 있으면 서로 공유해 보세요. \n"
      ],
      "metadata": {
        "id": "6hv6U7lnhxm_"
      }
    },
    {
      "cell_type": "code",
      "execution_count": null,
      "source": [
        "### 이곳에서 과제를 진행해 주세요 ### "
      ],
      "outputs": [],
      "metadata": {
        "id": "y2J5aBFNhxm_"
      }
    }
  ],
  "metadata": {
    "jupytext": {
      "cell_metadata_filter": "-all",
      "main_language": "python",
      "notebook_metadata_filter": "-all"
    },
    "kernelspec": {
      "display_name": "Python 3",
      "language": "python",
      "name": "python3"
    },
    "language_info": {
      "codemirror_mode": {
        "name": "ipython",
        "version": 3
      },
      "file_extension": ".py",
      "mimetype": "text/x-python",
      "name": "python",
      "nbconvert_exporter": "python",
      "pygments_lexer": "ipython3",
      "version": "3.7.7"
    },
    "colab": {
      "name": "n232a-data-wrangling.ipynb",
      "provenance": []
    }
  },
  "nbformat": 4,
  "nbformat_minor": 0
}