{
  "nbformat": 4,
  "nbformat_minor": 0,
  "metadata": {
    "colab": {
      "name": "n133-high-dimensional-data.ipynb",
      "provenance": [],
      "collapsed_sections": []
    },
    "kernelspec": {
      "display_name": "Python 3",
      "language": "python",
      "name": "python3"
    },
    "language_info": {
      "codemirror_mode": {
        "name": "ipython",
        "version": 3
      },
      "file_extension": ".py",
      "mimetype": "text/x-python",
      "name": "python",
      "nbconvert_exporter": "python",
      "pygments_lexer": "ipython3",
      "version": "3.8.5"
    }
  },
  "cells": [
    {
      "cell_type": "markdown",
      "metadata": {
        "colab_type": "text",
        "id": "OCIUFXg-VPW4"
      },
      "source": [
        "<img src='https://i.imgur.com/RDAD11M.png' width = '200' align = 'right'>\n",
        "\n",
        "## *DATA SCIENCE / SECTION 1 / SPRINT 3 / NOTE 3*\n",
        "\n",
        "---\n",
        "\n",
        "# 고차원 데이터\n",
        "\n",
        "## 🏆 학습 목표 \n",
        "\n",
        "- Vector transformation의 목적과 사용예시를 설명 할 수 있다.\n",
        "- eigenvector / eigenvalue를 설명 할 수 있다.\n",
        "- 데이터의 feature 수가 늘어나면 생기는 문제점과 이를 handling 하기 위한 방법을 설명 할 수 있다.\n",
        "- PCA의 목적과 기본원리를 설명 할 수 있다.\n",
        "\n",
        "## ❓ 시작하기전에\n",
        "\n",
        "- 고차원 데이터의 예시는 어떤것들이 있을까요?\n",
        "- 데이터셋에 있는 여러 feature에 대해 우선 순위를 주려면 어떻게 해야 할까요?\n",
        "\n",
        "---\n",
        "\n",
        "## 벡터 변환\n",
        "\n",
        "오늘은, $\\mathbb{R}^2$ 공간에서 벡터를 변환 하는 것부터 시작하도록 하겠습니다.\n",
        "\n",
        "여기서 말하는 변환, 즉 선형 변환은 임의의 두 벡터를 더하거나 혹은 스칼라 값을 곱하는 것을 의미합니다.\n",
        "\n",
        "\\begin{align}\n",
        "T(u+v) = T(u)+T(v)\n",
        "\\\\\n",
        "T(cu) = cT(u)\n",
        "\\end{align}\n",
        "\n",
        "<img src='https://user-images.githubusercontent.com/6457691/89977531-4a73b400-dca6-11ea-9f43-f0c1f124b70b.jpg' width = 600>\n",
        "\n",
        "<img src='https://user-images.githubusercontent.com/6457691/89978398-64ae9180-dca8-11ea-8762-bfa0e9f9943e.png' width = 600>\n",
        "\n",
        "결국 목적은 벡터(데이터)를 스케일을 바꾸거나 더하는 것(Feature Engineering과 유사)"
      ]
    },
    {
      "cell_type": "markdown",
      "metadata": {
        "colab_type": "text",
        "id": "7p5k0VeRoxIT"
      },
      "source": [
        "## 벡터 변환으로써의 매트릭스-벡터의 곱 \n",
        "\n",
        "임의의 벡터 ($x1$, $x2$)에 대해서, ($2x1 + x2$, $x1 -3x2$)로 변환을 한다고 가정을 해보도록 하겠습니다.\n",
        "\n",
        "\\begin{align}\n",
        "f(\\begin{bmatrix}x_1 \\\\ x_2\\end{bmatrix}) = \\begin{bmatrix} 2x_1 + x_2 \\\\ x_1 - 3x_2 \\\\  \\end{bmatrix}\n",
        "\\end{align}\n",
        "\n",
        "결과 매트릭스는 x1 과 x2 라는 일종의 \"단위 벡터\"로 다시 구성을 할 수 있습니다.\n",
        "\n",
        "\\begin{align}\n",
        "T = \\begin{bmatrix} 2 & 1 \\\\ 1 & -3 \\end{bmatrix}\n",
        "\\end{align}\n",
        "\n",
        "\n",
        "이 $T$라는 매트릭스를 원래 벡터 ($x1$, $x2$)에 곱했을 경우 transformation이 원하는 대로 이루어진다는 것을 알 수 있습니다.\n",
        "\n",
        "이를 통해 임의의 $\\mathbb{R}^2$ 벡터를 다른 $\\mathbb{R}^2$ 내부의 벡터로 변환 하는 과정은, 특정 $T$라는 매트릭스를 곱하는 것과 동일한 과정이라는 것을 알 수 있습니다.\n",
        "\n",
        "새로운 벡터 (3,4)에 대하여 동일한 필터로 transform 하는 경우, 방금 구한 $T$라는 매트릭스에 곱하는 것으로 쉽게 할 수 있습니다.\n",
        "\n",
        "\n",
        "\\begin{align}\n",
        "\\begin{bmatrix} 2 & 1 \\\\ 1 & -3 \\end{bmatrix}\\begin{bmatrix} 3 \\\\ 4 \\end{bmatrix} = \\begin{bmatrix} 10 \\\\ -9 \\end{bmatrix}\n",
        "\\end{align}\n",
        "\n",
        "벡터 transformation은, 선형 즉 곱하고 더하는 것으로만 이뤄진 transformation이기 때문에 매트릭스와 벡터의 곱으로 표현 할 수 있습니다. "
      ]
    },
    {
      "cell_type": "code",
      "metadata": {
        "colab_type": "code",
        "id": "R2zRiorVwA4w",
        "colab": {
          "base_uri": "https://localhost:8080/",
          "height": 281
        },
        "outputId": "6a4214bb-d961-49d3-bda0-d79e12620b7b"
      },
      "source": [
        "import matplotlib.pyplot as plt\n",
        "\n",
        "input_vector = [2, 3] \n",
        "output_vector = [7, -7] \n",
        "\n",
        "plt.arrow(0, 0, input_vector[0], input_vector[1], head_width = .05, head_length = .05, color ='#d63031')\n",
        "plt.arrow(0, 0, output_vector[0], output_vector[1], head_width = .05, head_length = .05, color ='#0984e3')\n",
        "plt.xlim(0, 8)\n",
        "plt.ylim(-8, 5)\n",
        "plt.title(\"Transformed Vector\");\n"
      ],
      "execution_count": 1,
      "outputs": [
        {
          "output_type": "display_data",
          "data": {
            "image/png": "[encoded data removed]",
            "text/plain": [
              "<Figure size 432x288 with 1 Axes>"
            ]
          },
          "metadata": {
            "tags": [],
            "needs_background": "light"
          }
        }
      ]
    },
    {
      "cell_type": "markdown",
      "metadata": {
        "colab_type": "text",
        "id": "C_aNp4uk8cRl"
      },
      "source": [
        "## 고유벡터 (Eigenvectors)\n",
        "\n",
        "Transformation은 matrix를 곱하는 것을 통해, 벡터(데이터)를 다른 위치로 옮긴다라는 의미를 가지고 있습니다. \n",
        "\n",
        "이번 예시에는 $\\mathbb{R^3}$ 공간에서의 vector transformation을 사용해보도록 하겠습니다.\n",
        "\n",
        "아래의 회전하는 지구본은 $\\mathbb{R^3}$ 공간에서의 임의의 위치에서 다른 위치로 옮겨진다는 것을 설명하고 있습니다. (지구 중심에서 특정 지점으로 가는 벡터를 생각해보세요)\n",
        "\n",
        "<img src='https://user-images.githubusercontent.com/6457691/89986497-9d099c00-dcb7-11ea-81d1-3104ec05d818.png' width = 600>\n",
        "\n",
        "\n",
        "$\\mathbb{R^3}$ 공간이 회전 할때, 위치에 따라서 **변화 하는 정도**가 다르다는걸 눈치 채셨나요? \n",
        "\n",
        "- 가령 적도 부근에 있는 점의 변화되는 거리와, 극지방에 있는 점의 위치 변화의 크기는 다를 것입니다.\n",
        "- 이는 회전축으로 가까이 갈 수록 / 멀어질 수록 더욱 명확해지며, 정확하게 회전축에 위치 해있는 경우, transformation을 통해 위치가 변하지 않습니다. \n",
        "\n",
        "이러한 transformation에 영향을 받지 않는 회전축, (혹은 벡터)을 공간의 **고유벡터 (Eigenvector)**라고 부릅니다.\n",
        " \n",
        "\n",
        "## 고유값 \n",
        "\n",
        "앞서 봤던 고유벡터는 주어진 transformation에 대해서 크기만 변하고 방향은 변화 하지 않는 벡터입니다. \n",
        "\n",
        "여기서 변화하는 크기는 결국 스칼라 값으로 변화 할 수 밖에 없는데, 이 **특정 스칼라 값**을 **고유값** (eigenvalue)이라고 합니다. \n",
        "\n",
        "eigenvector와 eigenvalue는 항상 쌍을 이루고 있다는 점에 유념하시길 바랍니다.\n",
        "\n",
        "<img src='https://user-images.githubusercontent.com/6457691/89987661-60d73b00-dcb9-11ea-95ed-3983da199931.png' width = 500>\n",
        "\n",
        "## 고유값의 표기 \n",
        "\n",
        "$\\lambda$ 로 표현합니다.\n",
        "\n",
        "\\begin{align}\n",
        "T(v) = \\lambda v\n",
        "\\end{align}\n",
        "\n",
        "## 고유값, 고유벡터 계산하기 \n",
        "\n",
        "<https://en.wikipedia.org/wiki/Eigenvalues_and_eigenvectors>\n",
        "\n",
        "<https://numpy.org/doc/stable/reference/generated/numpy.linalg.eig.html>\n",
        "\n",
        "이 내용은 Matrix Diagonalization 과 Gaussian Elimination등, 선형대수의 복잡한 내용들을 포함하고 있기 때문에 자세히 설명하지는 않겠습니다. \n",
        "\n",
        "대신 이를 응용하는 **Principle Component Analysis (PCA)** 에 관련된 기본 컨셉들을 더 공부해보도록 하겠습니다.\n"
      ]
    },
    {
      "cell_type": "markdown",
      "metadata": {
        "id": "NLcraC4S_I1Z",
        "colab_type": "text"
      },
      "source": [
        "### Eigenvalue with Numpy"
      ]
    },
    {
      "cell_type": "code",
      "metadata": {
        "id": "PtbuzPon8zdC",
        "colab_type": "code",
        "colab": {
          "base_uri": "https://localhost:8080/",
          "height": 51
        },
        "outputId": "f88ce5cd-ee96-446e-8210-c9bfd5c9f4cb"
      },
      "source": [
        "import numpy as np\n",
        "T = np.array([[4,2], [2,4]])\n",
        "\n",
        "np.linalg.eig(T)\n",
        "\n",
        "# Result is  Eigenvalue & Eigenvector "
      ],
      "execution_count": 4,
      "outputs": [
        {
          "output_type": "execute_result",
          "data": {
            "text/plain": [
              "(array([6., 2.]), array([[ 0.70710678, -0.70710678],\n",
              "        [ 0.70710678,  0.70710678]]))"
            ]
          },
          "metadata": {
            "tags": []
          },
          "execution_count": 4
        }
      ]
    },
    {
      "cell_type": "markdown",
      "metadata": {
        "colab_type": "text",
        "id": "sJTGZRWtR40J"
      },
      "source": [
        "# 고차원의 문제 (The Curse of Dimensionality)\n",
        "\n",
        "<https://en.wikipedia.org/wiki/Curse_of_dimensionality>\n",
        "\n",
        "The Curse of Dimensionality란 feature의 수가 많은 (100 혹은 1000개 이상의) 데이터셋을 모델링하거나 분석할때에 생기는 여러 문제점들을 의미합니다."
      ]
    },
    {
      "cell_type": "markdown",
      "metadata": {
        "colab_type": "text",
        "id": "Hgh7mTh02rwW"
      },
      "source": [
        "임의의 50개 수로 이루어진 데이터셋을 가정해보겠습니다. "
      ]
    },
    {
      "cell_type": "code",
      "metadata": {
        "colab_type": "code",
        "id": "4j2kbuwd2-8Q",
        "colab": {
          "base_uri": "https://localhost:8080/",
          "height": 204
        },
        "outputId": "07ad1153-e0fd-4002-9e38-fea3c19fb416"
      },
      "source": [
        "import pandas as pd\n",
        "import random\n",
        "import matplotlib.pyplot as plt\n",
        "import matplotlib.ticker as ticker\n",
        "import numpy as np\n",
        "\n",
        "# 50개 데이터 생성 후 데이터 프레임에 저장\n",
        "N = 50\n",
        "x = np.random.rand(N) * 100 # 0 ~ 1 scale 이라서 100 곱해줌\n",
        "\n",
        "df = pd.DataFrame({\"x\": x})\n",
        "df.head()"
      ],
      "execution_count": 7,
      "outputs": [
        {
          "output_type": "execute_result",
          "data": {
            "text/html": [
              "<div>\n",
              "<style scoped>\n",
              "    .dataframe tbody tr th:only-of-type {\n",
              "        vertical-align: middle;\n",
              "    }\n",
              "\n",
              "    .dataframe tbody tr th {\n",
              "        vertical-align: top;\n",
              "    }\n",
              "\n",
              "    .dataframe thead th {\n",
              "        text-align: right;\n",
              "    }\n",
              "</style>\n",
              "<table border=\"1\" class=\"dataframe\">\n",
              "  <thead>\n",
              "    <tr style=\"text-align: right;\">\n",
              "      <th></th>\n",
              "      <th>x</th>\n",
              "    </tr>\n",
              "  </thead>\n",
              "  <tbody>\n",
              "    <tr>\n",
              "      <th>0</th>\n",
              "      <td>99.570321</td>\n",
              "    </tr>\n",
              "    <tr>\n",
              "      <th>1</th>\n",
              "      <td>18.300661</td>\n",
              "    </tr>\n",
              "    <tr>\n",
              "      <th>2</th>\n",
              "      <td>81.983281</td>\n",
              "    </tr>\n",
              "    <tr>\n",
              "      <th>3</th>\n",
              "      <td>16.302824</td>\n",
              "    </tr>\n",
              "    <tr>\n",
              "      <th>4</th>\n",
              "      <td>72.573844</td>\n",
              "    </tr>\n",
              "  </tbody>\n",
              "</table>\n",
              "</div>"
            ],
            "text/plain": [
              "           x\n",
              "0  99.570321\n",
              "1  18.300661\n",
              "2  81.983281\n",
              "3  16.302824\n",
              "4  72.573844"
            ]
          },
          "metadata": {
            "tags": []
          },
          "execution_count": 7
        }
      ]
    },
    {
      "cell_type": "code",
      "metadata": {
        "colab_type": "code",
        "id": "4_QWXZ4E51Jm",
        "colab": {
          "base_uri": "https://localhost:8080/",
          "height": 95
        },
        "outputId": "664fdffb-9e61-441e-9bfe-a7a17dd20c50"
      },
      "source": [
        "df['y'] = pd.Series(list(np.zeros(50))) # scatter 용 (y = 0)\n",
        "\n",
        "ax = plt.subplot(4, 1, 1)\n",
        "\n",
        "# plot의 위 빼고 테두리 지움\n",
        "ax.spines['right'].set_color('none')\n",
        "ax.spines['left'].set_color('none')\n",
        "ax.spines['top'].set_color('none')\n",
        "\n",
        "# y axis label 삭제\n",
        "ax.yaxis.set_major_locator(ticker.NullLocator())\n",
        "\n",
        "# plot area 설정\n",
        "ax.set_xlim(0, 100)\n",
        "ax.set_ylim(0, 1)\n",
        "\n",
        "# x axis 단위 10\n",
        "ax.xaxis.set_major_locator(ticker.MultipleLocator(10))\n",
        "ax.text(0, 0.5, \"1D Data\", fontsize = 14, transform = ax.transAxes)\n",
        "\n",
        "plt.scatter(df.x, df.y, alpha = .7, color = '#ee5253');"
      ],
      "execution_count": 31,
      "outputs": [
        {
          "output_type": "display_data",
          "data": {
            "image/png": "[encoded data removed]",
            "text/plain": [
              "<Figure size 432x288 with 1 Axes>"
            ]
          },
          "metadata": {
            "tags": [],
            "needs_background": "light"
          }
        }
      ]
    },
    {
      "cell_type": "markdown",
      "metadata": {
        "colab_type": "text",
        "id": "rgaFf9mgBLnR"
      },
      "source": [
        "## 2D 데이터셋\n",
        "\n",
        "이번에는 feature가 2개입니다. (여전히 50 sample 입니다)\n"
      ]
    },
    {
      "cell_type": "code",
      "metadata": {
        "colab_type": "code",
        "id": "WIXbR9pxH5tn",
        "colab": {
          "base_uri": "https://localhost:8080/",
          "height": 281
        },
        "outputId": "6d836af8-5330-448d-ba32-3e24ade1ccdc"
      },
      "source": [
        "plt.scatter(df.x, df.y, alpha = .7, color = '#ee5253')\n",
        "plt.title(\"2D but Y = 0\");"
      ],
      "execution_count": 37,
      "outputs": [
        {
          "output_type": "display_data",
          "data": {
            "image/png": "[encoded data removed]",
            "text/plain": [
              "<Figure size 432x288 with 1 Axes>"
            ]
          },
          "metadata": {
            "tags": [],
            "needs_background": "light"
          }
        }
      ]
    },
    {
      "cell_type": "code",
      "metadata": {
        "colab_type": "code",
        "id": "H__fjvFHJFR2",
        "colab": {
          "base_uri": "https://localhost:8080/",
          "height": 204
        },
        "outputId": "279c076e-34b1-4ca5-a0b9-4ead14db05f0"
      },
      "source": [
        "# 임의의 50개 feature값을 생성\n",
        "df['y'] = pd.Series(list(np.random.rand(N)*100))\n",
        "df.head()"
      ],
      "execution_count": 38,
      "outputs": [
        {
          "output_type": "execute_result",
          "data": {
            "text/html": [
              "<div>\n",
              "<style scoped>\n",
              "    .dataframe tbody tr th:only-of-type {\n",
              "        vertical-align: middle;\n",
              "    }\n",
              "\n",
              "    .dataframe tbody tr th {\n",
              "        vertical-align: top;\n",
              "    }\n",
              "\n",
              "    .dataframe thead th {\n",
              "        text-align: right;\n",
              "    }\n",
              "</style>\n",
              "<table border=\"1\" class=\"dataframe\">\n",
              "  <thead>\n",
              "    <tr style=\"text-align: right;\">\n",
              "      <th></th>\n",
              "      <th>x</th>\n",
              "      <th>y</th>\n",
              "    </tr>\n",
              "  </thead>\n",
              "  <tbody>\n",
              "    <tr>\n",
              "      <th>0</th>\n",
              "      <td>99.570321</td>\n",
              "      <td>56.825630</td>\n",
              "    </tr>\n",
              "    <tr>\n",
              "      <th>1</th>\n",
              "      <td>18.300661</td>\n",
              "      <td>41.616738</td>\n",
              "    </tr>\n",
              "    <tr>\n",
              "      <th>2</th>\n",
              "      <td>81.983281</td>\n",
              "      <td>57.442173</td>\n",
              "    </tr>\n",
              "    <tr>\n",
              "      <th>3</th>\n",
              "      <td>16.302824</td>\n",
              "      <td>16.967459</td>\n",
              "    </tr>\n",
              "    <tr>\n",
              "      <th>4</th>\n",
              "      <td>72.573844</td>\n",
              "      <td>90.228736</td>\n",
              "    </tr>\n",
              "  </tbody>\n",
              "</table>\n",
              "</div>"
            ],
            "text/plain": [
              "           x          y\n",
              "0  99.570321  56.825630\n",
              "1  18.300661  41.616738\n",
              "2  81.983281  57.442173\n",
              "3  16.302824  16.967459\n",
              "4  72.573844  90.228736"
            ]
          },
          "metadata": {
            "tags": []
          },
          "execution_count": 38
        }
      ]
    },
    {
      "cell_type": "code",
      "metadata": {
        "colab_type": "code",
        "id": "RuhA0WuNJWqm",
        "colab": {
          "base_uri": "https://localhost:8080/",
          "height": 281
        },
        "outputId": "2a5e9785-c1b9-4e3e-9654-ab44024d6860"
      },
      "source": [
        "plt.scatter(df['x'], df['y'], alpha = .7, color = '#ee5253')\n",
        "plt.title(\"2D Data\");"
      ],
      "execution_count": 39,
      "outputs": [
        {
          "output_type": "display_data",
          "data": {
            "image/png": "[encoded data removed]",
            "text/plain": [
              "<Figure size 432x288 with 1 Axes>"
            ]
          },
          "metadata": {
            "tags": [],
            "needs_background": "light"
          }
        }
      ]
    },
    {
      "cell_type": "markdown",
      "metadata": {
        "colab_type": "text",
        "id": "iesGye7YKck7"
      },
      "source": [
        "## 3D의 데이터셋을 그려봅시다."
      ]
    },
    {
      "cell_type": "code",
      "metadata": {
        "colab_type": "code",
        "id": "jWc5yMZPLe5B",
        "colab": {
          "base_uri": "https://localhost:8080/",
          "height": 248
        },
        "outputId": "d0085d58-4209-48a3-b9da-a58c7aeb9c26"
      },
      "source": [
        "from mpl_toolkits.mplot3d import Axes3D\n",
        "\n",
        "# z 값을 추가\n",
        "df['z'] = pd.Series(list(np.random.rand(N)*100))\n",
        "\n",
        "threedee = plt.figure().gca(projection = '3d')\n",
        "threedee.scatter(df['x'], df['y'], df['z'])\n",
        "threedee.set_xlabel('X')\n",
        "threedee.set_ylabel('Y')\n",
        "threedee.set_zlabel('Z')\n",
        "plt.show()"
      ],
      "execution_count": 40,
      "outputs": [
        {
          "output_type": "display_data",
          "data": {
            "image/png": "[encoded data removed]",
            "text/plain": [
              "<Figure size 432x288 with 1 Axes>"
            ]
          },
          "metadata": {
            "tags": [],
            "needs_background": "light"
          }
        }
      ]
    },
    {
      "cell_type": "markdown",
      "metadata": {
        "colab_type": "text",
        "id": "Zst4Ae8AOw9L"
      },
      "source": [
        "## 만약 4D의 데이터셋은 어떻게 될까요?\n",
        "\n",
        "물론 이론적으로는 아직 4D 그래프 까지는 가능합니다만 결과는 3D 그래프에 그리는 것에 비해서 전혀 의미가 없습니다.\n",
        "\n",
        "<img src='https://mathworld.wolfram.com/images/eps-gif/HypercubeGraphUnitDistance_1000.gif' width = 600>\n"
      ]
    },
    {
      "cell_type": "markdown",
      "metadata": {
        "colab_type": "text",
        "id": "XEsEK8SUR1zH"
      },
      "source": [
        "## 1000D의 데이터셋\n",
        "\n",
        "올 것이 왔습니다. \n",
        "\n",
        "<img src='https://user-images.githubusercontent.com/6457691/89989454-f1167f80-dcbb-11ea-954d-2cffc7c3f62d.png' width = 400>\n",
        "\n",
        "- 사실 사람의 뇌는 3차원 이상의 정보를 공간적으로 다루는 것이 **거의** 불가능 합니다. \n",
        "\n",
        "- 다시 말해 이는 여러 차원의 데이터셋을 다루는 데에 있어서 큰 이슈가 됩니다.\n"
      ]
    },
    {
      "cell_type": "markdown",
      "metadata": {
        "colab_type": "text",
        "id": "cENzttkdUilw"
      },
      "source": [
        "## 고차원 데이터를 분석하기 위한 노력\n",
        "\n",
        "### 더 어려운 시각화\n",
        "\n",
        "<https://seaborn.pydata.org/examples/scatterplot_matrix.html>\n",
        "\n",
        "<img src=\"https://seaborn.pydata.org/_images/scatterplot_matrix.png\" height=400 width=400>\n",
        "\n",
        "위의 pairplot은 4차원 데이터셋에 포함 되어 있는 변수들의 가능한 조합에 대해서 scatter plot을 그리고, 동일한 변수 조합에 대해서는 Density plot을 그리고 있습니다.\n",
        "\n",
        "문제 : 만약 1000차원의 데이터셋이라면 scatter plot은 몇개를 그려야 할까요? \n",
        "\n",
        "- 한가지 유념할 것은, pairplot에는 상당히 많은 양의 불필요한 scatterplot이 있습니다.\n"
      ]
    },
    {
      "cell_type": "markdown",
      "metadata": {
        "id": "zVGnQbI70-4w",
        "colab_type": "text"
      },
      "source": [
        "### 추가 feature 사용과 결과물\n",
        "\n",
        "데이터셋에서 연관을 찾기 위해 쓰이는 모든 feature가 동일하게 중요하지는 않습니다. feature를 추가로 사용하는 것이 실제적으로 얼마나 의미있게 더 좋은 결과를 모델링 하게 되는지는 고민해야할 문제 입니다.\n",
        "\n",
        "다음은 딥러닝 이미지 인식의 좋은 예시입니다:\n",
        "\n",
        "<img src='https://user-images.githubusercontent.com/6457691/89990525-7babae80-dcbd-11ea-8e02-bbe27aa8c6bd.jpg' width = 500>\n",
        "\n",
        "픽셀의 수를 늘리는 것이 (이미지의 해상도, 더 많은 feature) 우리가 이미지의 내용을 인지 하는 것에 얼마나 많은 영향을 주나요?\n",
        "\n",
        "---\n",
        "\n",
        "만약 추가 데이터를 사용하는 것이 결과물 performance의 발전에 비해서 더 높은 비용을 필요로 한다면, 어느 시점에서는 feature를 더 사용하는 것이 비용적인 면에서 효율적이지 않을것입니다.\n"
      ]
    },
    {
      "cell_type": "markdown",
      "metadata": {
        "id": "BLn2fFpa0-4x",
        "colab_type": "text"
      },
      "source": [
        "### 높은 feature의 다른 문제점\n",
        "\n",
        "샘플 수에 비해서 feature의 수가 너무 많은 경우, overfitting의 문제 또한 발생합니다. \n",
        "\n",
        "<img src='https://user-images.githubusercontent.com/6457691/89990876-f4126f80-dcbd-11ea-9046-8a4d7181d2ea.jpg'>\n",
        "\n",
        "물론 이에 대해서 정확하게 정해진 기준이 있는 건 아니지만, 일반적으로 feature의 수를 $P$, sample의 수를 $N$이라 할 때 **P** $\\geq$ **N** 인 경우 매우 높은 overfitting 이슈가 생긴다고 할 수 있습니다. \n",
        "\n",
        "### 관습적인 룰\n",
        "\n",
        "이러한 feature 수에 관한 문제를 해결 하기 위해서 몇가지 수칙이 있습니다. \n",
        "\n",
        "1. P $\\geq$ N 일 경우 overfitting 이슈 가 발생할 가능성이 매우 높음\n",
        "2. 최소한 N = 5P 의 조건을 만족시켜야 합니다.\n",
        "3. sample의 수는 많으면 많을 수록 좋습니다.\n",
        "4. feature의 수는 무조건 많은 것이 좋지는 않습니다.\n",
        "5. 유사도를 계산할때 Euclidean 을 사용 하지 않습니다. (Feature의 수가 많아질 경우 의미가 적어짐)\n"
      ]
    },
    {
      "cell_type": "markdown",
      "metadata": {
        "colab_type": "text",
        "id": "AW2DajrOPCp7"
      },
      "source": [
        "# 차원 축소 기술 (Dimensionality Reduction):\n",
        "\n",
        "데이터의 시각화나 탐색이 어려워지는 것 뿐만 아니라 모델링에서의 overfitting 이슈를 포함하는 등 \"빅데이터\"인 데이터셋의 feature가 많으면 많을 수록 이로 인해 발생하는 문제는 점점 많아 질 것입니다. \n",
        "\n",
        "만약 \"빅데이터\"를 적절한 처리를 통해 충분한 의미를 유지하면서 더 작은 부분만 선택 할 수 있다면 어떨까요? \n",
        "\n",
        "머신러닝에서는 이를 위한 다양한 차원 축소 기술들이 이미 연구 되어 있습니다. "
      ]
    },
    {
      "cell_type": "markdown",
      "metadata": {
        "colab_type": "text",
        "id": "y8jR-MdQgdHV"
      },
      "source": [
        "## Feacture Selection: \n",
        "\n",
        "분석해야할 데이터셋에 100개의 feature가 있다고 해봅시다. 100종류의 feature를 전부 사용 하는 대신에, 데이터셋에서 제일 다양하게 **분포**되어있는 (1개의) feature를 사용하는 것입니다. 이처럼 Feature Selection이란 데이터셋에서 덜 중요한 feature를 제거 하는 방법을 의미합니다."
      ]
    },
    {
      "cell_type": "markdown",
      "metadata": {
        "colab_type": "text",
        "id": "1KazJzMcgaNO"
      },
      "source": [
        "## Feature Extraction:\n",
        "\n",
        "Feature Extraction이란, 앞서 feature engineering 부분에서 접해보았던 것 처럼, 기존에 있는 feature 혹은 그들을 바탕으로 조합된 feature를 사용 하는 것으로 PCA도 feature extraction의 한 예시입니다. \n",
        "\n",
        "## ❓ Selection 과 Extraction의 차이\n",
        "\n",
        "<img src='https://user-images.githubusercontent.com/6457691/89991451-d1348b00-dcbe-11ea-8065-3b4293b0f682.png' width = 400>"
      ]
    },
    {
      "cell_type": "markdown",
      "metadata": {
        "colab_type": "text",
        "id": "M-1dvyzVQlnB"
      },
      "source": [
        "# Principal Component Analysis (PCA) \n",
        "\n",
        "PCA란, 고차원의 데이터셋을 원본 데이터의 정보를 최대한 유지하면서 낮은 차원의 데이터셋으로 변환하는 기술을 의미합니다."
      ]
    },
    {
      "cell_type": "markdown",
      "metadata": {
        "colab_type": "text",
        "id": "nXPGw6hf8p72"
      },
      "source": [
        "# 데이터의 분산 == 정보\n",
        "\n",
        "<img src='https://user-images.githubusercontent.com/6457691/89992786-c11dab00-dcc0-11ea-9136-51f619596738.png' width = 500>\n"
      ]
    },
    {
      "cell_type": "code",
      "metadata": {
        "colab_type": "code",
        "id": "TIyQpHtZkKLV",
        "colab": {
          "base_uri": "https://localhost:8080/",
          "height": 265
        },
        "outputId": "6f86d538-3c19-4bee-b382-0257043a8cee"
      },
      "source": [
        "import pandas as pd\n",
        "import matplotlib.pyplot as plt\n",
        "\n",
        "data = {\"x\": [-2.2, -2, -2, -1, -1, 0, 0, 1, 1, 2, 2, 2.2], \n",
        "        \"y\": [0, .5, -.5, .8, -.8, .9, -.9, .8, -.8, .5, -.5, 0]}\n",
        "\n",
        "df = pd.DataFrame(data)\n",
        "\n",
        "plt.scatter(df['x'], df['y']);"
      ],
      "execution_count": 48,
      "outputs": [
        {
          "output_type": "display_data",
          "data": {
            "image/png": "[encoded data removed]",
            "text/plain": [
              "<Figure size 432x288 with 1 Axes>"
            ]
          },
          "metadata": {
            "tags": [],
            "needs_background": "light"
          }
        }
      ]
    },
    {
      "cell_type": "markdown",
      "metadata": {
        "colab_type": "text",
        "id": "atKeYAldByDk"
      },
      "source": [
        "위의 scatter plot에 그려진 각 포인트들은, 2차원의 데이터셋을 의미한다고 가정해봅시다. \n",
        "\n",
        "2개의 feature중에서 1개만을 분석에 사용 해야 한다면, X와 Y 중 어느 feature를 사용 해야 할까요??\n"
      ]
    },
    {
      "cell_type": "markdown",
      "metadata": {
        "colab_type": "text",
        "id": "v_pFspXxFhIq"
      },
      "source": [
        "---\n",
        "\n",
        "이번엔 조금 다른 예시 입니다. 만약 데이터가 위 처럼 X, Y 축에 평행하지 않다면 X와 Y중 어느 feature를 사용하는게 효율적일까요?\n",
        "\n",
        "정답은 X, Y도 아닌 데이터의 흩어진 정도를 가장 크게 하는 벡터 축이 될 것입니다."
      ]
    },
    {
      "cell_type": "code",
      "metadata": {
        "colab_type": "code",
        "id": "pZAoMCOaArYk",
        "colab": {
          "base_uri": "https://localhost:8080/",
          "height": 265
        },
        "outputId": "317f0784-9423-44f9-9455-16ff7043e55b"
      },
      "source": [
        "import math\n",
        "\n",
        "df1 = df\n",
        "\n",
        "df1[\"x_rotate\"] = df1.apply(lambda x: (x.x+x.y)/math.sqrt(2), axis=1)\n",
        "df1[\"y_rotate\"] = df1.apply(lambda x: (x.y-x.x)/math.sqrt(2), axis=1)\n",
        "\n",
        "plt.scatter(df1['x_rotate'], df1['y_rotate']);"
      ],
      "execution_count": 49,
      "outputs": [
        {
          "output_type": "display_data",
          "data": {
            "image/png": "[encoded data removed]",
            "text/plain": [
              "<Figure size 432x288 with 1 Axes>"
            ]
          },
          "metadata": {
            "tags": [],
            "needs_background": "light"
          }
        }
      ]
    },
    {
      "cell_type": "markdown",
      "metadata": {
        "colab_type": "text",
        "id": "mz5yaQc5GhBe"
      },
      "source": [
        "# 본격적인 PCA : 단계\n",
        "\n",
        "<https://ratsgo.github.io/machine%20learning/2017/04/24/PCA/> (PCA 예제 1 부분 참조)\n",
        "\n",
        "\n",
        "<img src='https://user-images.githubusercontent.com/6457691/89995442-6be39880-dcc4-11ea-9422-fb62f8500a86.png'>\n",
        "\n",
        "\n",
        "## 1) 각 행에 대해서 평균을 빼는 것으로 스케일을 조정함\n",
        "\n",
        "이로써 각 행의 평균 값은 0이 됩니다. 이를 하지 않으면, 데이터 별로 스케일이 다르기 때문에 더 유의미한 분산을 찾는 과정의 효과가 사라집니다.\n",
        "\n",
        "## 2) 각 행에 대해서 표준편차로 나누어줌 \n",
        "\n",
        "1)와 2)과정을 통해 데이터셋의 모든 행은 각각 평균 0, 표준편차 1의 값을 가지게 될 것이고 이 두 과정을 합쳐서 데이터의 표준화, 정규화 (\"standardizing\") 라고 합니다. \n",
        "\n",
        "이후, 정규화된 매트릭스를 $Z$ 매트릭스라고 부르겠습니다.\n",
        "\n",
        "## 3) Z의 분산-공분산 매트릭스를 계산함\n",
        "\n",
        "$Z^{T}Z$를 통해 계산 할 수 있습니다.\n",
        "\n",
        "## 4) 분산-공분산 매트릭스의 고유벡터와 고유값을 계산함\n",
        "\n",
        "고유벡터는, 주어진 데이터에 대해서 분산을 가장 크게 유지시키는 역할을 합니다.\n",
        "\n",
        "## 5) 고유값, 고유벡터 쌍을 크기에 따라 정렬\n",
        "\n",
        "일반적으로 고유값,고유 벡터는 여러개가 계산되며 이들의 크기는 데이터를 얼마나 **분산**시킬 수 있는 가와 연관이 있습니다. 즉, 가장 큰 쌍은 첫번째 Principal Component 로써 사용됩니다.\n",
        "\n",
        "## 6) 데이터를 고유 벡터에 projection 시키는 것으로 매트릭스 변환을 함.\n",
        "\n",
        "마지막 단계를 마치고 나면, 원래 데이터의 정보를 최대한 유지 하면서 차원을 줄이는 PCA를 마무리 지을 수 있습니다."
      ]
    },
    {
      "cell_type": "code",
      "metadata": {
        "colab_type": "code",
        "id": "YsA0bJKEM6Su",
        "colab": {
          "base_uri": "https://localhost:8080/",
          "height": 612
        },
        "outputId": "59dec1e4-485f-4cd6-a53d-3a7d98033cc0"
      },
      "source": [
        "from numpy import array\n",
        "from numpy import mean\n",
        "from numpy import std\n",
        "from numpy import cov\n",
        "from numpy.linalg import eig\n",
        "\n",
        "X = array([[1, 2], [3, 4], [5, 6]])\n",
        "print(\"Data: \", X)\n",
        "means = mean(X.T, axis=1)\n",
        "print(\"\\n Means: \\n\", means)\n",
        "centered_data = X - means\n",
        "print(\"\\n Centered Data: \\n\", centered_data)\n",
        "std_devs = std(X.T, axis=1)\n",
        "print('\\n Standard Deviations: \\n', std_devs)\n",
        "standardized_data = centered_data / std_devs\n",
        "print(\"\\n Standardized Data: \\n\", standardized_data)\n",
        "covariance_matrix = cov(standardized_data.T)\n",
        "print(\"\\n Covariance Matrix: \\n\", covariance_matrix)\n",
        "values, vectors = eig(covariance_matrix)\n",
        "print(\"\\n Eigenvectors: \\n\", vectors)\n",
        "print(\"\\n Eigenvalues: \\n\", values)\n",
        "P = vectors.T.dot(standardized_data.T)\n",
        "print(\"\\n Projected Data: \\n\", P.T)"
      ],
      "execution_count": 50,
      "outputs": [
        {
          "output_type": "stream",
          "text": [
            "Data:  [[1 2]\n",
            " [3 4]\n",
            " [5 6]]\n",
            "\n",
            " Means: \n",
            " [3. 4.]\n",
            "\n",
            " Centered Data: \n",
            " [[-2. -2.]\n",
            " [ 0.  0.]\n",
            " [ 2.  2.]]\n",
            "\n",
            " Standard Deviations: \n",
            " [1.63299316 1.63299316]\n",
            "\n",
            " Standardized Data: \n",
            " [[-1.22474487 -1.22474487]\n",
            " [ 0.          0.        ]\n",
            " [ 1.22474487  1.22474487]]\n",
            "\n",
            " Covariance Matrix: \n",
            " [[1.5 1.5]\n",
            " [1.5 1.5]]\n",
            "\n",
            " Eigenvectors: \n",
            " [[ 0.70710678 -0.70710678]\n",
            " [ 0.70710678  0.70710678]]\n",
            "\n",
            " Eigenvalues: \n",
            " [3. 0.]\n",
            "\n",
            " Projected Data: \n",
            " [[-1.73205081e+00 -7.75139526e-18]\n",
            " [ 0.00000000e+00  0.00000000e+00]\n",
            " [ 1.73205081e+00  7.75139526e-18]]\n"
          ],
          "name": "stdout"
        }
      ]
    },
    {
      "cell_type": "code",
      "metadata": {
        "colab_type": "code",
        "id": "V6yHvmJ6Pk65",
        "colab": {
          "base_uri": "https://localhost:8080/",
          "height": 281
        },
        "outputId": "131083c4-8d33-494b-c288-4edd11152f54"
      },
      "source": [
        "df = pd.DataFrame({\"x\": [1,3,5] , \"y\": [2,4,6]})\n",
        "\n",
        "plt.scatter(df['x'], df['y'])\n",
        "plt.title(\"Data Before PCA\");"
      ],
      "execution_count": 51,
      "outputs": [
        {
          "output_type": "display_data",
          "data": {
            "image/png": "[encoded data removed]",
            "text/plain": [
              "<Figure size 432x288 with 1 Axes>"
            ]
          },
          "metadata": {
            "tags": [],
            "needs_background": "light"
          }
        }
      ]
    },
    {
      "cell_type": "code",
      "metadata": {
        "colab_type": "code",
        "id": "ncjBR4o1QUIB",
        "colab": {
          "base_uri": "https://localhost:8080/",
          "height": 298
        },
        "outputId": "9fa328af-8f51-4bc8-90d1-90ca4705872a"
      },
      "source": [
        "df = pd.DataFrame({\"x\": [-1.732,0,1.732] , \"y\": [0,0,0]})\n",
        "\n",
        "plt.scatter(df['x'], df['y'])\n",
        "plt.title(\"Data After PCA\")"
      ],
      "execution_count": 53,
      "outputs": [
        {
          "output_type": "execute_result",
          "data": {
            "text/plain": [
              "Text(0.5, 1.0, 'Data After PCA')"
            ]
          },
          "metadata": {
            "tags": []
          },
          "execution_count": 53
        },
        {
          "output_type": "display_data",
          "data": {
            "image/png": "[encoded data removed]",
            "text/plain": [
              "<Figure size 432x288 with 1 Axes>"
            ]
          },
          "metadata": {
            "tags": [],
            "needs_background": "light"
          }
        }
      ]
    },
    {
      "cell_type": "markdown",
      "metadata": {
        "colab_type": "text",
        "id": "FBNMa7qLOzW0"
      },
      "source": [
        "# 📕 라이브러리를 사용한 PCA"
      ]
    },
    {
      "cell_type": "code",
      "metadata": {
        "colab_type": "code",
        "id": "TsR_xy2YOI-S",
        "colab": {
          "base_uri": "https://localhost:8080/",
          "height": 374
        },
        "outputId": "866b23d2-cf68-44eb-f640-41e73f6bea15"
      },
      "source": [
        "from numpy import array\n",
        "from sklearn.preprocessing import StandardScaler\n",
        "from sklearn.decomposition import PCA\n",
        "\n",
        "X = array([[1, 2], [3, 4], [5, 6]])\n",
        "print(\"Data: \\n\", X)\n",
        "\n",
        "scaler = StandardScaler()\n",
        "\n",
        "Z = scaler.fit_transform(X)\n",
        "print(\"\\n Standardized Data: \\n\", Z)\n",
        "\n",
        "pca = PCA(2)\n",
        "\n",
        "pca.fit(Z)\n",
        "\n",
        "print(\"\\n Eigenvectors: \\n\", pca.components_)\n",
        "print(\"\\n Eigenvalues: \\n\",pca.explained_variance_)\n",
        "\n",
        "B = pca.transform(Z)\n",
        "print(\"\\n Projected Data: \\n\", B)"
      ],
      "execution_count": 54,
      "outputs": [
        {
          "output_type": "stream",
          "text": [
            "Data: \n",
            " [[1 2]\n",
            " [3 4]\n",
            " [5 6]]\n",
            "\n",
            " Standardized Data: \n",
            " [[-1.22474487 -1.22474487]\n",
            " [ 0.          0.        ]\n",
            " [ 1.22474487  1.22474487]]\n",
            "\n",
            " Eigenvectors: \n",
            " [[ 0.70710678  0.70710678]\n",
            " [ 0.70710678 -0.70710678]]\n",
            "\n",
            " Eigenvalues: \n",
            " [3.00000000e+00 1.23259516e-32]\n",
            "\n",
            " Projected Data: \n",
            " [[-1.73205081e+00  7.75139526e-18]\n",
            " [ 0.00000000e+00  0.00000000e+00]\n",
            " [ 1.73205081e+00 -7.75139526e-18]]\n"
          ],
          "name": "stdout"
        }
      ]
    },
    {
      "cell_type": "markdown",
      "metadata": {
        "id": "vRTaYAt0P6tx",
        "colab_type": "text"
      },
      "source": [
        "<https://www.koreascience.or.kr/article/JAKO200411922371591.pdf>"
      ]
    }
  ]
}