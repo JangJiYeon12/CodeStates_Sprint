{
  "nbformat": 4,
  "nbformat_minor": 0,
  "metadata": {
    "colab": {
      "name": "n133a-high-dimensional-data.ipynb",
      "provenance": [],
      "collapsed_sections": []
    },
    "kernelspec": {
      "display_name": "Python 3",
      "language": "python",
      "name": "python3"
    },
    "language_info": {
      "codemirror_mode": {
        "name": "ipython",
        "version": 3
      },
      "file_extension": ".py",
      "mimetype": "text/x-python",
      "name": "python",
      "nbconvert_exporter": "python",
      "pygments_lexer": "ipython3",
      "version": "3.8.5"
    }
  },
  "cells": [
    {
      "cell_type": "markdown",
      "metadata": {
        "colab_type": "text",
        "id": "2nEWvwVyVWdW"
      },
      "source": [
        "<img src='https://i.imgur.com/RDAD11M.png' width = '200' align = 'right'>\n",
        "\n",
        "## *DATA SCIENCE / SECTION 1 / SPRINT 3 / NOTE 3*\n",
        "\n",
        "# 📝 Assignment\n",
        "\n",
        "# Vector Transformations"
      ]
    },
    {
      "cell_type": "markdown",
      "metadata": {
        "colab_type": "text",
        "id": "1n0-6FsYVcVk"
      },
      "source": [
        "## 1.1 아래에 해당하는 transformation 매트릭스를 구하세요.\n",
        "\n",
        "\\begin{align}\n",
        "p(\\begin{bmatrix}x_1 \\\\ x_2 \\end{bmatrix}) = \\begin{bmatrix} x_1 + 3x_2 \\\\2 x_2 - x_1 \\\\  \\end{bmatrix}\n",
        "\\\\\n",
        "\\\\\n",
        "q(\\begin{bmatrix}x_1 \\\\ x_2 \\\\ x_3\\end{bmatrix}) = \\begin{bmatrix} 4x_1 + x_2 + 2x_3 \\\\2 x_2 - x_1 + 3x_3 \\\\ 5x_1 - 2x_3 + x_2  \\end{bmatrix}\n",
        "\\end{align}"
      ]
    },
    {
      "cell_type": "code",
      "metadata": {
        "colab_type": "code",
        "id": "0UANR1IEaVWE",
        "colab": {}
      },
      "source": [
        ""
      ],
      "execution_count": null,
      "outputs": []
    },
    {
      "cell_type": "markdown",
      "metadata": {
        "colab_type": "text",
        "id": "vEoiri3mak7j"
      },
      "source": [
        "# Eigenvalues and Eigenvectors"
      ]
    },
    {
      "cell_type": "markdown",
      "metadata": {
        "colab_type": "text",
        "id": "5HY0R4u7anIr"
      },
      "source": [
        "## 2.1 고유벡터, 고유값에 대해서 설명해보세요."
      ]
    },
    {
      "cell_type": "markdown",
      "metadata": {
        "colab_type": "text",
        "id": "VdehMwBtatKI"
      },
      "source": [
        "# The Curse of Dimensionality"
      ]
    },
    {
      "cell_type": "markdown",
      "metadata": {
        "colab_type": "text",
        "id": "4oVrJax-a3SK"
      },
      "source": [
        "## 3.1 데이터셋의 차원이 커지면 생기는 문제점은 어떤것이 있나요?"
      ]
    },
    {
      "cell_type": "markdown",
      "metadata": {
        "colab_type": "text",
        "id": "NZmqdeygbHJx"
      },
      "source": [
        "# Principal Component Analysis"
      ]
    },
    {
      "cell_type": "markdown",
      "metadata": {
        "colab_type": "text",
        "id": "7iEheetpbJdN"
      },
      "source": [
        "## 4.1 다음의 데이터셋을 사용하여 코드를 작성하세요.\n",
        "\n",
        "<img src='https://github.com/allisonhorst/palmerpenguins/raw/master/man/figures/lter_penguins.png' width = 500>\n",
        "\n",
        "- [Palmer-penguins](https://github.com/allisonhorst/palmerpenguins) \n",
        "\n",
        "- Python은, R에 비해 이 데이터 접근이 복잡하기 때문에 아래의 링크에서 미리 데이터를 작업해둔 부분을 다운로드 받아 사용해도 좋습니다.\n",
        "\n",
        "<https://ds-lecture-data.s3.ap-northeast-2.amazonaws.com/palmer_penguins/penguins.csv>\n",
        "\n",
        "\n",
        "## 데이터에 전반적인 전처리를 시행하세요. 이후, 숫자형 데이터 6종류에 대해서 PCA를 시행하여, PC1-PC2를 사용하여 scatter plot을 그려보세요.\n"
      ]
    },
    {
      "cell_type": "code",
      "metadata": {
        "colab_type": "code",
        "id": "WAJ8bjVcEwhA",
        "colab": {}
      },
      "source": [
        "### 코드가 들어가는 공간입니다."
      ],
      "execution_count": null,
      "outputs": []
    },
    {
      "cell_type": "markdown",
      "metadata": {
        "colab_type": "text",
        "id": "RQx7UvsucIrL"
      },
      "source": [
        "# 🔥 도전 과제\n",
        "\n",
        "\n",
        "## One-hot-encoding을 이용하여 Categorical 데이터를 numerical 하게 변환시켜서 PCA를 다시 시행해보세요.\n",
        "\n",
        "## 1) penguins 데이터셋(pca 이전)을 사용하여 scatter plot을 만들고 pca를 통해 만든 scatter plot과 유사한 부분이 있는지 확인하여 보세요.\n",
        "\n",
        "(단, 어떤 변수를 선택하느냐에 따라서 유사한 정도는 달라집니다.)\n",
        "\n",
        "## 2) \"Scree Plots\"에 대해서 알아보고, 위에서 PCA로 만든 데이터셋을 사용하여 만들어보세요. 90%의 내용을 설명하기 위해서, 몇개의 PC를 사용해야 하나요?\n"
      ]
    },
    {
      "cell_type": "code",
      "metadata": {
        "id": "jjXBUjXx_VjA",
        "colab_type": "code",
        "colab": {}
      },
      "source": [
        ""
      ],
      "execution_count": null,
      "outputs": []
    }
  ]
}